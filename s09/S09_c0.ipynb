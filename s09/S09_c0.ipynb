{
  "nbformat": 4,
  "nbformat_minor": 0,
  "metadata": {
    "colab": {
      "name": "S09_c0.ipynb",
      "provenance": [],
      "collapsed_sections": []
    },
    "kernelspec": {
      "name": "ir",
      "display_name": "R"
    }
  },
  "cells": [
    {
      "cell_type": "markdown",
      "metadata": {
        "id": "JTgaeeCLfNKv",
        "colab_type": "text"
      },
      "source": [
        "<p><img alt=\"Colaboratory logo\" height=\"140px\" src=\"https://upload.wikimedia.org/wikipedia/commons/archive/f/fb/20161010213812%21Escudo-UdeA.svg\" align=\"left\" hspace=\"10px\" vspace=\"0px\"></p>\n",
        "\n",
        "# **Curso de bases para AI - Universidad de Antioquia**\n",
        "\n",
        "\n",
        "El presente curso hace parte del centro de Big Data de la facultad de ciencias exactas y naturales (FCEN) de la Universidad de Antioquia.\n",
        "\n",
        "\\\n",
        "\n",
        "El curso será dictado en 16 sesiones o clases de 4 horas los días sábado en las instalaciones de la universidad. Para un total de dededicación temporal de 64 horas. El curso cuenta con los siguientes módulos:\n",
        "\n",
        "1. Bases matemáticas y de programación. (10H)\n",
        "2. Bases de Python. (19H)\n",
        "3. Bases de R. (13H)\n",
        "4. Procesamiento de datos. (22H)"
      ]
    },
    {
      "cell_type": "markdown",
      "metadata": {
        "id": "VV5lYzHm6P9e",
        "colab_type": "text"
      },
      "source": [
        "#R en Google Colab\n",
        "\n",
        "Para trabajar sólo con R el Colab podemos abrir un documento nuevo usando este [link](https://colab.research.google.com/notebook?authuser=2#create=true&language=r). \n",
        "\n",
        "Si bien Colab abre los notebooks por defecto en python, si usa el link anterior podrá abrir un notebook con R como lenguaje de las celdas de código. \n",
        "\n",
        "Para el curso usaremos Colab por la facilidad de interacción y de uniformidad, pero si desea tener R (y Python) de forma local la mejor opción para Windows (o Mac) es [Anaconda 3](https://www.anaconda.com/distribution/)\n"
      ]
    },
    {
      "cell_type": "markdown",
      "metadata": {
        "id": "xZsUPyS_1CHK",
        "colab_type": "text"
      },
      "source": [
        "#Variables y tipos en R\n",
        "\n",
        "R es un lenguaje de programación y un entorno de software libre para computación estadística y gráficos soportados por la Fundación R para la Computación Estadística. El lenguaje R es ampliamente utilizado entre los estadísticos y los mineros de datos para desarrollar software estadístico y de análisis. Encuestas, encuestas de minería de datos y estudios de bases de datos de literatura académica muestran aumentos sustanciales de popularidad; a partir de febrero de 2020, R ocupa el 10º lugar en el índice TIOBE, una medida de popularidad de los lenguajes de programación.\n",
        "\n",
        "Tomado de [TIOBE](https://www.tiobe.com/tiobe-index/).\n",
        "\n",
        "Sin embargo es pertinente ver cómo asignar un valor a una variable."
      ]
    },
    {
      "cell_type": "markdown",
      "metadata": {
        "id": "xU-RbB0D1GnY",
        "colab_type": "text"
      },
      "source": [
        "##Asignación de variables\n",
        "\n",
        "En R podemos seguir la convención de `=` para asignar un valor a una variable. Pero otra forma es con el comando `<-`. Digamos por ejemplo que deseamos guargar una variable llamada `x` el valor de $2$. Podríamos entonces:\n"
      ]
    },
    {
      "cell_type": "code",
      "metadata": {
        "id": "l3ObYCk31LgG",
        "colab_type": "code",
        "outputId": "88912273-964f-4b75-f205-c5b19c26d78c",
        "colab": {
          "base_uri": "https://localhost:8080/",
          "height": 34
        }
      },
      "source": [
        "x <- 2\n",
        "x"
      ],
      "execution_count": 0,
      "outputs": [
        {
          "output_type": "display_data",
          "data": {
            "text/plain": [
              "[1] 2"
            ],
            "text/latex": "2",
            "text/markdown": "2",
            "text/html": [
              "2"
            ]
          },
          "metadata": {
            "tags": []
          }
        }
      ]
    },
    {
      "cell_type": "markdown",
      "metadata": {
        "id": "YtFxIBpD1QG3",
        "colab_type": "text"
      },
      "source": [
        "Inclusive podríamos hacerlo al revés. Intentémoslo con `y` y $8$."
      ]
    },
    {
      "cell_type": "code",
      "metadata": {
        "id": "vh0pSj3i1PxZ",
        "colab_type": "code",
        "outputId": "22b54932-d6ab-43d8-a9f9-aaf8cf693b36",
        "colab": {
          "base_uri": "https://localhost:8080/",
          "height": 34
        }
      },
      "source": [
        "8 -> y\n",
        "y"
      ],
      "execution_count": 0,
      "outputs": [
        {
          "output_type": "display_data",
          "data": {
            "text/plain": [
              "[1] 8"
            ],
            "text/latex": "8",
            "text/markdown": "8",
            "text/html": [
              "8"
            ]
          },
          "metadata": {
            "tags": []
          }
        }
      ]
    },
    {
      "cell_type": "markdown",
      "metadata": {
        "id": "6rfzygAl1YsF",
        "colab_type": "text"
      },
      "source": [
        "O como se ha dicho antes con la convención del `=`"
      ]
    },
    {
      "cell_type": "code",
      "metadata": {
        "id": "C6ZkTkL41a0I",
        "colab_type": "code",
        "outputId": "2682e391-8254-48f9-dbde-794c86c25d4a",
        "colab": {
          "base_uri": "https://localhost:8080/",
          "height": 34
        }
      },
      "source": [
        "z = 10\n",
        "z"
      ],
      "execution_count": 0,
      "outputs": [
        {
          "output_type": "display_data",
          "data": {
            "text/plain": [
              "[1] 10"
            ],
            "text/latex": "10",
            "text/markdown": "10",
            "text/html": [
              "10"
            ]
          },
          "metadata": {
            "tags": []
          }
        }
      ]
    },
    {
      "cell_type": "markdown",
      "metadata": {
        "id": "8uoWTIxl1gjq",
        "colab_type": "text"
      },
      "source": [
        "Tenemos entonces algunos caracteres reservados para R, tal y como los tiene cualquier lenguaje de programación. Podemos consultarlos fácilmente de la siguiente forma."
      ]
    },
    {
      "cell_type": "code",
      "metadata": {
        "id": "8Y2mZtFf1idT",
        "colab_type": "code",
        "colab": {}
      },
      "source": [
        "?reserved"
      ],
      "execution_count": 0,
      "outputs": []
    },
    {
      "cell_type": "markdown",
      "metadata": {
        "id": "XfVW5cuz1m6X",
        "colab_type": "text"
      },
      "source": [
        "## Variables\n",
        "En R podemos encontrarnos diferentes tipos de variables, empezaremos por enumerar las más fundamentales, finalmente es posible acabar por crear objetos más complejos a partir de estas variables más fundametales, sin embargo por ahora nos concentraremos en las fundamentales. \n",
        "\n",
        "En este orden de ideas, las variables que podemos encontrar son \n",
        "\n",
        "- Integer\n",
        "- Double\n",
        "- Complex\n",
        "- Logical\n",
        "- Character\n",
        "\n",
        "Veámos una por una con un ejemplo"
      ]
    },
    {
      "cell_type": "markdown",
      "metadata": {
        "id": "SfERQIhq1qyT",
        "colab_type": "text"
      },
      "source": [
        "### Enteros o Integer\n",
        "\n",
        "Son lo que conocemos matemáticamete hablando como los enteros, guardan analogía exacta con los entéros de Python. Podemos declarar un entero de múltiples formas, la primera yace en colocar una `L` al final del número."
      ]
    },
    {
      "cell_type": "code",
      "metadata": {
        "id": "zwbnCsZP1ta8",
        "colab_type": "code",
        "outputId": "f3099170-8a71-430f-ac6e-6d158006ab28",
        "colab": {
          "base_uri": "https://localhost:8080/",
          "height": 34
        }
      },
      "source": [
        "g = 62L\n",
        "g"
      ],
      "execution_count": 0,
      "outputs": [
        {
          "output_type": "display_data",
          "data": {
            "text/plain": [
              "[1] 62"
            ],
            "text/latex": "62",
            "text/markdown": "62",
            "text/html": [
              "62"
            ]
          },
          "metadata": {
            "tags": []
          }
        }
      ]
    },
    {
      "cell_type": "code",
      "metadata": {
        "id": "bZxhBwf210P2",
        "colab_type": "code",
        "outputId": "99df77b6-6e24-4ddb-b41d-70f91853b476",
        "colab": {
          "base_uri": "https://localhost:8080/",
          "height": 34
        }
      },
      "source": [
        "typeof(g)"
      ],
      "execution_count": 0,
      "outputs": [
        {
          "output_type": "display_data",
          "data": {
            "text/plain": [
              "[1] \"integer\""
            ],
            "text/latex": "'integer'",
            "text/markdown": "'integer'",
            "text/html": [
              "'integer'"
            ]
          },
          "metadata": {
            "tags": []
          }
        }
      ]
    },
    {
      "cell_type": "markdown",
      "metadata": {
        "id": "GFckQRvL15Ti",
        "colab_type": "text"
      },
      "source": [
        "Si quisiéramos escribir un número entero en notación científica entonces esta convención sería un poco incómoda, en su lugar podemos usar la función ` as.integer()`."
      ]
    },
    {
      "cell_type": "code",
      "metadata": {
        "id": "6SkC-RZD16Vm",
        "colab_type": "code",
        "outputId": "e88de43e-4b9c-4dc9-f457-a698e5328169",
        "colab": {
          "base_uri": "https://localhost:8080/",
          "height": 34
        }
      },
      "source": [
        "h = as.integer(2e3)\n",
        "h"
      ],
      "execution_count": 0,
      "outputs": [
        {
          "output_type": "display_data",
          "data": {
            "text/plain": [
              "[1] 2000"
            ],
            "text/latex": "2000",
            "text/markdown": "2000",
            "text/html": [
              "2000"
            ]
          },
          "metadata": {
            "tags": []
          }
        }
      ]
    },
    {
      "cell_type": "code",
      "metadata": {
        "id": "H4fJZKKH2M2B",
        "colab_type": "code",
        "outputId": "57fb1306-f4cb-44ae-c270-c3299abe9839",
        "colab": {
          "base_uri": "https://localhost:8080/",
          "height": 34
        }
      },
      "source": [
        "typeof(h)"
      ],
      "execution_count": 0,
      "outputs": [
        {
          "output_type": "display_data",
          "data": {
            "text/plain": [
              "[1] \"integer\""
            ],
            "text/latex": "'integer'",
            "text/markdown": "'integer'",
            "text/html": [
              "'integer'"
            ]
          },
          "metadata": {
            "tags": []
          }
        }
      ]
    },
    {
      "cell_type": "markdown",
      "metadata": {
        "id": "JUSezPfm2QyA",
        "colab_type": "text"
      },
      "source": [
        "Si usamos la función anterior sobre un decimal, obtendremos su parte entera"
      ]
    },
    {
      "cell_type": "code",
      "metadata": {
        "id": "L0QLBgpg2QOg",
        "colab_type": "code",
        "outputId": "7c48b849-57bb-4036-9916-a90fb2b3ea77",
        "colab": {
          "base_uri": "https://localhost:8080/",
          "height": 34
        }
      },
      "source": [
        "as.integer(3.9)"
      ],
      "execution_count": 0,
      "outputs": [
        {
          "output_type": "display_data",
          "data": {
            "text/plain": [
              "[1] 3"
            ],
            "text/latex": "3",
            "text/markdown": "3",
            "text/html": [
              "3"
            ]
          },
          "metadata": {
            "tags": []
          }
        }
      ]
    },
    {
      "cell_type": "markdown",
      "metadata": {
        "id": "fDM3aU0m2Xj7",
        "colab_type": "text"
      },
      "source": [
        "### Double o Numeric\n",
        "\n",
        "Siguiendo la analogía con Python, en R nuestros floats son conocidos como los Doble. Si no agregamos nada por defecto a un número, R lo interpreta como un double. "
      ]
    },
    {
      "cell_type": "code",
      "metadata": {
        "id": "K9rS4BUv2a8A",
        "colab_type": "code",
        "outputId": "1a543622-51ff-4e75-8f79-39e13e8445ed",
        "colab": {
          "base_uri": "https://localhost:8080/",
          "height": 34
        }
      },
      "source": [
        "typeof(2)"
      ],
      "execution_count": 0,
      "outputs": [
        {
          "output_type": "display_data",
          "data": {
            "text/plain": [
              "[1] \"double\""
            ],
            "text/latex": "'double'",
            "text/markdown": "'double'",
            "text/html": [
              "'double'"
            ]
          },
          "metadata": {
            "tags": []
          }
        }
      ]
    },
    {
      "cell_type": "markdown",
      "metadata": {
        "id": "6A4eUfh32g8r",
        "colab_type": "text"
      },
      "source": [
        "Los double vendrían siendo lo que llamamos los números reales, como bien sabemos la suma de un real con un entero, o su producto es en general un número real. Esto mismo sucede con los `double` y los enteros."
      ]
    },
    {
      "cell_type": "code",
      "metadata": {
        "id": "KsDaiHYN2jrj",
        "colab_type": "code",
        "outputId": "5cb01e5d-bc21-49da-8b1d-17231cb1dc04",
        "colab": {
          "base_uri": "https://localhost:8080/",
          "height": 34
        }
      },
      "source": [
        "z = y*g\n",
        "typeof(z)"
      ],
      "execution_count": 0,
      "outputs": [
        {
          "output_type": "display_data",
          "data": {
            "text/plain": [
              "[1] \"double\""
            ],
            "text/latex": "'double'",
            "text/markdown": "'double'",
            "text/html": [
              "'double'"
            ]
          },
          "metadata": {
            "tags": []
          }
        }
      ]
    },
    {
      "cell_type": "code",
      "metadata": {
        "id": "n2QnTgdN2nMD",
        "colab_type": "code",
        "outputId": "6ce2ee2e-4f79-416d-9c2f-fa0c058a8cd7",
        "colab": {
          "base_uri": "https://localhost:8080/",
          "height": 34
        }
      },
      "source": [
        "x = y +g\n",
        "typeof(x)"
      ],
      "execution_count": 0,
      "outputs": [
        {
          "output_type": "display_data",
          "data": {
            "text/plain": [
              "[1] \"double\""
            ],
            "text/latex": "'double'",
            "text/markdown": "'double'",
            "text/html": [
              "'double'"
            ]
          },
          "metadata": {
            "tags": []
          }
        }
      ]
    },
    {
      "cell_type": "markdown",
      "metadata": {
        "id": "ZKzyjyml2yxF",
        "colab_type": "text"
      },
      "source": [
        "También podemos convertir un entero en un double sin cambiarle su valor de la forma"
      ]
    },
    {
      "cell_type": "code",
      "metadata": {
        "id": "SOTKsQRz2scA",
        "colab_type": "code",
        "outputId": "54ecb428-f484-4f07-d5fa-d0238ff809a7",
        "colab": {
          "base_uri": "https://localhost:8080/",
          "height": 34
        }
      },
      "source": [
        "hp = as.double(h)\n",
        "typeof(hp)"
      ],
      "execution_count": 0,
      "outputs": [
        {
          "output_type": "display_data",
          "data": {
            "text/plain": [
              "[1] \"double\""
            ],
            "text/latex": "'double'",
            "text/markdown": "'double'",
            "text/html": [
              "'double'"
            ]
          },
          "metadata": {
            "tags": []
          }
        }
      ]
    },
    {
      "cell_type": "markdown",
      "metadata": {
        "id": "HnJFp81C3AUF",
        "colab_type": "text"
      },
      "source": [
        "### Complejos\n",
        "\n",
        "Tenemos los números complejos, recordar que estos son números de la forma $a+ib$ donde $a,b$ son reales e $i$ por definición es $i =\\sqrt{-1}$. Sin embargo es bueno evitar esta última definición, y en caso de ir a obtener soluciones complejas trabajar de entrada con números complejos. Veámos cómo escribimos un complejo, y un pequeño ejemplo de cómo trabajar con él."
      ]
    },
    {
      "cell_type": "code",
      "metadata": {
        "id": "eaUppqsS3DRd",
        "colab_type": "code",
        "colab": {}
      },
      "source": [
        "a = 1\n",
        "ac = as.complex(a)\n",
        "b = 2\n",
        "bc = 2 + 0i\n",
        "c = 3\n",
        "cc = c + 0i"
      ],
      "execution_count": 0,
      "outputs": []
    },
    {
      "cell_type": "code",
      "metadata": {
        "id": "oPBmrrDB3GCX",
        "colab_type": "code",
        "outputId": "3cf7903a-6ea9-4732-eaaa-af9ca8e2d469",
        "colab": {
          "base_uri": "https://localhost:8080/",
          "height": 68
        }
      },
      "source": [
        "(-bc-sqrt((b)**2-4*a*c))/2*a"
      ],
      "execution_count": 0,
      "outputs": [
        {
          "output_type": "stream",
          "text": [
            "Warning message in sqrt((b)^2 - 4 * a * c):\n",
            "“NaNs produced”\n"
          ],
          "name": "stderr"
        },
        {
          "output_type": "display_data",
          "data": {
            "text/plain": [
              "[1] NaN+NaNi"
            ],
            "text/latex": "NaN+NaNi",
            "text/markdown": "NaN+NaNi",
            "text/html": [
              "NaN+NaNi"
            ]
          },
          "metadata": {
            "tags": []
          }
        }
      ]
    },
    {
      "cell_type": "code",
      "metadata": {
        "id": "FV0n5jeB3LPE",
        "colab_type": "code",
        "outputId": "528c16f6-6f5a-4fc1-f295-0df120eef59a",
        "colab": {
          "base_uri": "https://localhost:8080/",
          "height": 34
        }
      },
      "source": [
        "(-bc+sqrt(bc**2-4*ac*cc))/2*ac"
      ],
      "execution_count": 0,
      "outputs": [
        {
          "output_type": "display_data",
          "data": {
            "text/plain": [
              "[1] -1+1.414214i"
            ],
            "text/latex": "-1+1.4142135623731i",
            "text/markdown": "-1+1.4142135623731i",
            "text/html": [
              "-1+1.4142135623731i"
            ]
          },
          "metadata": {
            "tags": []
          }
        }
      ]
    },
    {
      "cell_type": "markdown",
      "metadata": {
        "id": "NR6qT4hT3O6s",
        "colab_type": "text"
      },
      "source": [
        "Como se ve en el ejemplo anterior, en un caso en el que se deben sacar raices imaginarias al polinomio $x^2+2x+3$ debemos considerar los términos $a$ $b$ $c$ como `complex`, en lugar de `double`s. "
      ]
    },
    {
      "cell_type": "markdown",
      "metadata": {
        "id": "8h8u-YUj3XMK",
        "colab_type": "text"
      },
      "source": [
        "### Caracteres Lógicos\n",
        "\n",
        "Los Caracteres lógicos en R tienen como es usual 2 tipos de valores, `TRUE` y `FALSE`. Podemos convertir un valor numerico de double a un logical con `as.logical()` y nos devolverá `False` si es $0 $ o `TRUE` en cualquier otro caso."
      ]
    },
    {
      "cell_type": "code",
      "metadata": {
        "id": "fw23flhj3WwM",
        "colab_type": "code",
        "outputId": "b0eaccac-397e-4fba-95f9-6a3b38e915e3",
        "colab": {
          "base_uri": "https://localhost:8080/",
          "height": 34
        }
      },
      "source": [
        "as.logical(-1)"
      ],
      "execution_count": 0,
      "outputs": [
        {
          "output_type": "display_data",
          "data": {
            "text/plain": [
              "[1] TRUE"
            ],
            "text/latex": "TRUE",
            "text/markdown": "TRUE",
            "text/html": [
              "TRUE"
            ]
          },
          "metadata": {
            "tags": []
          }
        }
      ]
    },
    {
      "cell_type": "markdown",
      "metadata": {
        "id": "a9A2_VTy3ZhH",
        "colab_type": "text"
      },
      "source": [
        "También podemos evitar tener que copiar toda la extensión de la palabra, pues solo con `T` o `F` podemos indicar el valor lógico"
      ]
    },
    {
      "cell_type": "code",
      "metadata": {
        "id": "HPugER_P3c_9",
        "colab_type": "code",
        "outputId": "73252b27-5651-4d3f-dfbe-4ff21d0d5bcf",
        "colab": {
          "base_uri": "https://localhost:8080/",
          "height": 34
        }
      },
      "source": [
        "flag <- T\n",
        "flag"
      ],
      "execution_count": 0,
      "outputs": [
        {
          "output_type": "display_data",
          "data": {
            "text/plain": [
              "[1] TRUE"
            ],
            "text/latex": "TRUE",
            "text/markdown": "TRUE",
            "text/html": [
              "TRUE"
            ]
          },
          "metadata": {
            "tags": []
          }
        }
      ]
    },
    {
      "cell_type": "code",
      "metadata": {
        "id": "N38DRZic3iEQ",
        "colab_type": "code",
        "outputId": "5c85d224-250d-4b41-ae81-8d009fc4086f",
        "colab": {
          "base_uri": "https://localhost:8080/",
          "height": 34
        }
      },
      "source": [
        "flag2 <- F\n",
        "print(flag2)"
      ],
      "execution_count": 0,
      "outputs": [
        {
          "output_type": "stream",
          "text": [
            "[1] FALSE\n"
          ],
          "name": "stdout"
        }
      ]
    },
    {
      "cell_type": "markdown",
      "metadata": {
        "id": "Y5wQpEFQ3maS",
        "colab_type": "text"
      },
      "source": [
        "También podemos guardar una variable lógica como condición de algo"
      ]
    },
    {
      "cell_type": "code",
      "metadata": {
        "id": "v6SQU-UD3nHF",
        "colab_type": "code",
        "outputId": "3408cc50-24c9-4d43-f7b9-7db6d6a13b57",
        "colab": {
          "base_uri": "https://localhost:8080/",
          "height": 34
        }
      },
      "source": [
        "flag3 <- 3 < 4\n",
        "flag3"
      ],
      "execution_count": 0,
      "outputs": [
        {
          "output_type": "display_data",
          "data": {
            "text/plain": [
              "[1] TRUE"
            ],
            "text/latex": "TRUE",
            "text/markdown": "TRUE",
            "text/html": [
              "TRUE"
            ]
          },
          "metadata": {
            "tags": []
          }
        }
      ]
    },
    {
      "cell_type": "markdown",
      "metadata": {
        "id": "I_bC-Z743sLv",
        "colab_type": "text"
      },
      "source": [
        "###Caracteres\n",
        "\n",
        "Los caracteres son los strings de R. Podemos declararlos con las comillas `\"_\"` , con los apóstrofe `'_'`; sin embargo la triple apóstrofe `'''_'''` resulta en un error, por lo que es lo mejor evitarla."
      ]
    },
    {
      "cell_type": "code",
      "metadata": {
        "id": "89jvEWVO3wmO",
        "colab_type": "code",
        "outputId": "089ae7e6-4cb3-4bb1-b39a-6fd85264706a",
        "colab": {
          "base_uri": "https://localhost:8080/",
          "height": 34
        }
      },
      "source": [
        "newStr <- \"Hello  World!\"\n",
        "oldStr <- 'hola mundo_' \n",
        "typeof(oldStr)"
      ],
      "execution_count": 0,
      "outputs": [
        {
          "output_type": "display_data",
          "data": {
            "text/plain": [
              "[1] \"character\""
            ],
            "text/latex": "'character'",
            "text/markdown": "'character'",
            "text/html": [
              "'character'"
            ]
          },
          "metadata": {
            "tags": []
          }
        }
      ]
    },
    {
      "cell_type": "markdown",
      "metadata": {
        "id": "pWaio9OF34Tw",
        "colab_type": "text"
      },
      "source": [
        "No podemos hacer combinación de strings mediante el operador suma"
      ]
    },
    {
      "cell_type": "code",
      "metadata": {
        "id": "tAPxZPMK35Cw",
        "colab_type": "code",
        "outputId": "2d1e2c64-f955-4625-f6cd-961a869c1410",
        "colab": {
          "base_uri": "https://localhost:8080/",
          "height": 34
        }
      },
      "source": [
        "try(newStr + oldStr)"
      ],
      "execution_count": 0,
      "outputs": [
        {
          "output_type": "stream",
          "text": [
            "Error in newStr + oldStr : non-numeric argument to binary operator\n"
          ],
          "name": "stdout"
        }
      ]
    },
    {
      "cell_type": "markdown",
      "metadata": {
        "id": "rl0vfkVz3833",
        "colab_type": "text"
      },
      "source": [
        "para ello usamos la función `paste()`"
      ]
    },
    {
      "cell_type": "code",
      "metadata": {
        "id": "gmxffrAt4ANO",
        "colab_type": "code",
        "outputId": "f4a674aa-1865-405c-9478-d15b6bb3bb81",
        "colab": {
          "base_uri": "https://localhost:8080/",
          "height": 34
        }
      },
      "source": [
        "str1 = '¡Hola'\n",
        "str2 <- 'Mundo!'\n",
        "paste(str1,str2)"
      ],
      "execution_count": 0,
      "outputs": [
        {
          "output_type": "display_data",
          "data": {
            "text/plain": [
              "[1] \"¡Hola Mundo!\""
            ],
            "text/latex": "'¡Hola Mundo!'",
            "text/markdown": "'¡Hola Mundo!'",
            "text/html": [
              "'¡Hola Mundo!'"
            ]
          },
          "metadata": {
            "tags": []
          }
        }
      ]
    },
    {
      "cell_type": "markdown",
      "metadata": {
        "id": "E4o1yBHM4Mjb",
        "colab_type": "text"
      },
      "source": [
        "Lo cual nos devuelve también un string, además de separarlo mediante espacios. \n",
        "\n",
        "Podemos de igual forma separar caracteres mediante la función `strsplit()` con lo cual obtendré una lista de los caracteres individuales."
      ]
    },
    {
      "cell_type": "code",
      "metadata": {
        "id": "HFgvwJQlzkUO",
        "colab_type": "code",
        "outputId": "43e53d0b-cc8a-4d50-8f5e-40c678395c5b",
        "colab": {
          "base_uri": "https://localhost:8080/",
          "height": 62
        }
      },
      "source": [
        "x <- \"Split the words in a sentence.\"\n",
        "y <- strsplit(x, \" \")\n",
        "y"
      ],
      "execution_count": 0,
      "outputs": [
        {
          "output_type": "display_data",
          "data": {
            "text/plain": [
              "[[1]]\n",
              "[1] \"Split\"     \"the\"       \"words\"     \"in\"        \"a\"         \"sentence.\"\n"
            ],
            "text/latex": "\\begin{enumerate}\n\\item \\begin{enumerate*}\n\\item 'Split'\n\\item 'the'\n\\item 'words'\n\\item 'in'\n\\item 'a'\n\\item 'sentence.'\n\\end{enumerate*}\n\n\\end{enumerate}\n",
            "text/markdown": "1. 1. 'Split'\n2. 'the'\n3. 'words'\n4. 'in'\n5. 'a'\n6. 'sentence.'\n\n\n\n\n\n",
            "text/html": [
              "<ol>\n",
              "\t<li><style>\n",
              ".list-inline {list-style: none; margin:0; padding: 0}\n",
              ".list-inline>li {display: inline-block}\n",
              ".list-inline>li:not(:last-child)::after {content: \"\\00b7\"; padding: 0 .5ex}\n",
              "</style>\n",
              "<ol class=list-inline><li>'Split'</li><li>'the'</li><li>'words'</li><li>'in'</li><li>'a'</li><li>'sentence.'</li></ol>\n",
              "</li>\n",
              "</ol>\n"
            ]
          },
          "metadata": {
            "tags": []
          }
        }
      ]
    },
    {
      "cell_type": "markdown",
      "metadata": {
        "id": "NMcPK-4aztUP",
        "colab_type": "text"
      },
      "source": [
        "Podemos finalmente convertir en caracteres los números o varlableslógicas"
      ]
    },
    {
      "cell_type": "code",
      "metadata": {
        "id": "zGQWZUfmzuF3",
        "colab_type": "code",
        "outputId": "f287b755-2f32-421b-d7c5-b3cb50b92f04",
        "colab": {
          "base_uri": "https://localhost:8080/",
          "height": 34
        }
      },
      "source": [
        "as.character(10 > 2)"
      ],
      "execution_count": 0,
      "outputs": [
        {
          "output_type": "display_data",
          "data": {
            "text/plain": [
              "[1] \"TRUE\""
            ],
            "text/latex": "'TRUE'",
            "text/markdown": "'TRUE'",
            "text/html": [
              "'TRUE'"
            ]
          },
          "metadata": {
            "tags": []
          }
        }
      ]
    },
    {
      "cell_type": "markdown",
      "metadata": {
        "id": "309uNldfzzq7",
        "colab_type": "text"
      },
      "source": [
        "##Varios\n",
        "\n",
        "Usaremos `#` para hacer comentarios"
      ]
    },
    {
      "cell_type": "code",
      "metadata": {
        "id": "-8izny_sz4Yy",
        "colab_type": "code",
        "outputId": "179cc86b-125e-4261-8689-af7254f462a6",
        "colab": {
          "base_uri": "https://localhost:8080/",
          "height": 34
        }
      },
      "source": [
        "expo <- 2.71 #guarda la variable\n",
        "expo"
      ],
      "execution_count": 0,
      "outputs": [
        {
          "output_type": "display_data",
          "data": {
            "text/plain": [
              "[1] 2.71"
            ],
            "text/latex": "2.71",
            "text/markdown": "2.71",
            "text/html": [
              "2.71"
            ]
          },
          "metadata": {
            "tags": []
          }
        }
      ]
    },
    {
      "cell_type": "markdown",
      "metadata": {
        "id": "GxgJ28Vbz71h",
        "colab_type": "text"
      },
      "source": [
        "En R no existen los comentarios de varias lineas, sin embargo podemos usar un pequeño truco"
      ]
    },
    {
      "cell_type": "code",
      "metadata": {
        "id": "joe8DYwgz-7a",
        "colab_type": "code",
        "outputId": "27673cc0-f9aa-4bae-8d62-1a2cc5a9d07a",
        "colab": {
          "base_uri": "https://localhost:8080/",
          "height": 34
        }
      },
      "source": [
        "if(FALSE) {\n",
        "\"Este es un ejemplo de cómo podemos hacer multi-line comments.\n",
        "De esta forma podemos escribir tantas lineas de comentarios como deseémos\"\n",
        "}\n",
        "\n",
        "newStr <- \"Hello - World!\"\n",
        "\n",
        "print ( newStr)"
      ],
      "execution_count": 0,
      "outputs": [
        {
          "output_type": "stream",
          "text": [
            "[1] \"Hello - World!\"\n"
          ],
          "name": "stdout"
        }
      ]
    },
    {
      "cell_type": "markdown",
      "metadata": {
        "id": "qdvrY3y20CzG",
        "colab_type": "text"
      },
      "source": [
        "Podemos con ver los nombres que hemos usado hasta el momento para nuestros objetos con la función `ls()`"
      ]
    },
    {
      "cell_type": "code",
      "metadata": {
        "id": "JFzxrStH0DmY",
        "colab_type": "code",
        "outputId": "9d2d8f67-91e4-4e97-ce26-9ce856fc221e",
        "colab": {
          "base_uri": "https://localhost:8080/",
          "height": 34
        }
      },
      "source": [
        "ls()"
      ],
      "execution_count": 0,
      "outputs": [
        {
          "output_type": "display_data",
          "data": {
            "text/plain": [
              " [1] \"a\"      \"ac\"     \"b\"      \"bc\"     \"c\"      \"cc\"     \"expo\"   \"flag\"  \n",
              " [9] \"flag2\"  \"flag3\"  \"g\"      \"h\"      \"hp\"     \"newStr\" \"oldStr\" \"str1\"  \n",
              "[17] \"str2\"   \"x\"      \"y\"      \"z\"     "
            ],
            "text/latex": "\\begin{enumerate*}\n\\item 'a'\n\\item 'ac'\n\\item 'b'\n\\item 'bc'\n\\item 'c'\n\\item 'cc'\n\\item 'expo'\n\\item 'flag'\n\\item 'flag2'\n\\item 'flag3'\n\\item 'g'\n\\item 'h'\n\\item 'hp'\n\\item 'newStr'\n\\item 'oldStr'\n\\item 'str1'\n\\item 'str2'\n\\item 'x'\n\\item 'y'\n\\item 'z'\n\\end{enumerate*}\n",
            "text/markdown": "1. 'a'\n2. 'ac'\n3. 'b'\n4. 'bc'\n5. 'c'\n6. 'cc'\n7. 'expo'\n8. 'flag'\n9. 'flag2'\n10. 'flag3'\n11. 'g'\n12. 'h'\n13. 'hp'\n14. 'newStr'\n15. 'oldStr'\n16. 'str1'\n17. 'str2'\n18. 'x'\n19. 'y'\n20. 'z'\n\n\n",
            "text/html": [
              "<style>\n",
              ".list-inline {list-style: none; margin:0; padding: 0}\n",
              ".list-inline>li {display: inline-block}\n",
              ".list-inline>li:not(:last-child)::after {content: \"\\00b7\"; padding: 0 .5ex}\n",
              "</style>\n",
              "<ol class=list-inline><li>'a'</li><li>'ac'</li><li>'b'</li><li>'bc'</li><li>'c'</li><li>'cc'</li><li>'expo'</li><li>'flag'</li><li>'flag2'</li><li>'flag3'</li><li>'g'</li><li>'h'</li><li>'hp'</li><li>'newStr'</li><li>'oldStr'</li><li>'str1'</li><li>'str2'</li><li>'x'</li><li>'y'</li><li>'z'</li></ol>\n"
            ]
          },
          "metadata": {
            "tags": []
          }
        }
      ]
    },
    {
      "cell_type": "markdown",
      "metadata": {
        "id": "anyphyzZ8iwg",
        "colab_type": "text"
      },
      "source": [
        "## Ejercicios"
      ]
    },
    {
      "cell_type": "markdown",
      "metadata": {
        "id": "Nb5jGnm10Ln-",
        "colab_type": "text"
      },
      "source": [
        "### Ejercicio 1\n",
        "Calcule la distancia al sol, sabiendo que la luz tarda 8 minutos y 20 segundos en recorrer la distancia tierra sol, y esta última viaja a $3\\times 10^8 \\,m/s$ exprese su resultado final en $km$ como un `int`\n"
      ]
    },
    {
      "cell_type": "code",
      "metadata": {
        "id": "dF4N5TAG0Mqu",
        "colab_type": "code",
        "cellView": "form",
        "colab": {}
      },
      "source": [
        "#@title Puede verla solución **acá**\n",
        "t <- 8 *60 +20\n",
        "v <- 3e8/1e3\n",
        "d <- as.integer( v*t)\n",
        "#print(c(d,typeof(d)))\n"
      ],
      "execution_count": 0,
      "outputs": []
    },
    {
      "cell_type": "markdown",
      "metadata": {
        "id": "HomRIRhQ0NFz",
        "colab_type": "text"
      },
      "source": [
        "### Ejercicio 2\n",
        "\n",
        "Dentro de 11 años la edad de Pedro será la mitad del cuadrado de la edad que tenía hace 13 años.\n",
        "\n",
        "Calcula la edad de Pedro.\n",
        "si la edad de pedro es $x$\n",
        "Hint:\n",
        "\\begin{align}\n",
        "x+11\\\\ %Edad de Pedro en 11 años\n",
        "x-13\\\\ % Edad hace 13 años\n",
        "x+11 = \\frac{1}{2}(x-13)^2\n",
        "\\end{align}\n",
        "\n",
        "\n",
        "¿Qué pasaría si modificamos las condiciones del problema diciéndo que Dentro hace 2 años la edad de Pedro será la mitad del cuadrado de 6 veces la edad que tenía hace 4 años."
      ]
    },
    {
      "cell_type": "code",
      "metadata": {
        "id": "p91e1MFR0ZMg",
        "colab_type": "code",
        "cellView": "form",
        "colab": {}
      },
      "source": [
        "#@title Puede ver la solución **acá**\n",
        "\n",
        "a <- as.complex(1)\n",
        "b <- as.complex(-28)\n",
        "c <- as.complex(147)\n",
        "\n",
        "x1 <- (-b+sqrt(b**2-4*a*c))/(2*a)\n",
        "x2 <- (-b-sqrt(b**2-4*a*c))/(2*a)\n",
        "#print(c(as.double(x1),as.double(x2)))\n",
        "\n"
      ],
      "execution_count": 0,
      "outputs": []
    },
    {
      "cell_type": "markdown",
      "metadata": {
        "id": "ZwsWUCan0ZyG",
        "colab_type": "text"
      },
      "source": [
        "### Ejercicio 3\n",
        "\n",
        "El joven Kafka ha escrito un pequeño cuento para su tarea, sin embargo su profesor no quiere leer su preciosa redacción, sino únicamente revisar el único requisito que impuso para la tarea y era que el escrito estuviera entre las 500 y las 1000 palabras. Ayude al profesor a calificar la tarea. \n",
        "\n",
        "Hints:\n",
        "- Si se utiliza la función `strsplit()` se obtiene una lista de un solo elemento, podemos convertirlo a una lista con la función `unlist()`\n",
        "- `lenght()` mide el tamaño de una lista."
      ]
    },
    {
      "cell_type": "code",
      "metadata": {
        "id": "58FDFd9A0jQP",
        "colab_type": "code",
        "colab": {}
      },
      "source": [
        "x <- 'Ante la ley hay un guardián. Un campesino se presenta frente a este guardián, y solicita  que le permita entrar en la Ley. Pero el guardián contesta que por ahora no puede dejarlo entrar. El hombre reflexiona y pregunta si más tarde lo dejarán entrar.\n",
        "      —Tal vez —dice el centinela— pero no por ahora.\n",
        "      La puerta que da a la Ley está abierta, como de costumbre; cuando el guardián se hace a un lado, el hombre se inclina para espiar. El guardián lo ve, se sonríe y le dice:\n",
        "      —Si tu deseo es tan grande haz la prueba de entrar a pesar de mi prohibición. Pero recuerda que soy poderoso. Y sólo soy el último de los guardianes. Entre salón y salón también hay guardianes, cada uno más poderoso que el otro. Ya el tercer guardián es tan terrible que no puedo mirarlo siquiera.\n",
        "      El campesino no había previsto estas dificultades; la Ley debería ser siempre accesible para todos, piensa, pero al fijarse en el guardián, con su abrigo de pieles, su nariz grande y aguileña, su barba negra de tártaro, rala y negra, decide que le conviene mas esperar. El guardián le da un escabel y le permite sentarse a un costado de la puerta.\n",
        "      Allí espera días y años. Intenta infinitas veces entrar y fatiga al guardián con sus súplicas. Con frecuencia el guardián conversa brevemente con él, le hace preguntas sobre su país y sobre muchas otras cosas; pero son preguntas indiferentes, como las de los grandes señores, y, finalmente siempre le repite que no puede dejarlo entrar. El hombre, que se ha provisto de muchas cosas para el viaje, sacrifica todo, por valioso que sea para sobornar al guardián. Este acepta todo, en efecto, pero le dice:\n",
        "      —Lo acepto para que no creas que has omitido ningún esfuerzo.\n",
        "      Durante esos largos años, el hombre observa casi continuamente al guardián: se olvida de los otros y le parece que éste es el único obstáculo que lo separa de la Ley. Maldice su mala suerte, durante los primeros años audazmente y en voz alta; más tarde, a medida que envejece, sólo murmura para si. Retorna a la infancia, y como en su cuidadosa y larga contemplación del guardián ha llegado a conocer hasta las pulgas de su cuello de piel, también suplica a las pulgas que lo ayuden y convenzan al guardián. Finalmente, su vista se debilita, y ya no sabe si realmente hay menos luz, o si sólo lo engañan sus ojos. Pero en medio de la oscuridad distingue un resplandor, que surge inextinguible de la puerta de la Ley. Ya le queda poco tiempo de vida. Antes de morir, todas las experiencias de esos largos años se confunden en su mente en una sola pregunta, que hasta ahora no ha formulado. Hace señas al guardián para que se acerque, ya que el rigor de la muerte comienza a endurecer su cuerpo. El guardián se ve obligado a agacharse mucho para hablar con él, porque la disparidad de estaturas entre ambos ha aumentado bastante con el tiempo, para desmedro del campesino.\n",
        "      —¿Qué quieres saber ahora?-pregunta el guardián-. Eres insaciable.\n",
        "      —Todos se esfuerzan por llegar a la Ley —dice el hombre—; ¿cómo es posible entonces que durante tantos años nadie más que yo pretendiera entrar?\n",
        "      El guardián comprende que el hombre está por morir, y para que sus desfallecientes sentidos perciban sus palabras, le dice junto al oído con voz atronadora:\n",
        "      —Nadie podía pretenderlo porque esta entrada era solamente para tí. Ahora voy a cerrarla.'"
      ],
      "execution_count": 0,
      "outputs": []
    },
    {
      "cell_type": "code",
      "metadata": {
        "id": "jWsmI2Ip0l94",
        "colab_type": "code",
        "cellView": "form",
        "colab": {}
      },
      "source": [
        "#@title Puede ver la solución **acá**\n",
        "\n",
        "li = strsplit(x, \" \")\n",
        "#length(unlist(li))\n"
      ],
      "execution_count": 0,
      "outputs": []
    },
    {
      "cell_type": "markdown",
      "metadata": {
        "id": "nUl0HIrL8o5X",
        "colab_type": "text"
      },
      "source": [
        "# Variable, constantes y vectores\n",
        "\n",
        "Hemos visto los tipos de variables en R. Similar a python (y a muchos otros lenguajes) las variables se identifican con un nombre que es único y que no puede ser palabras reservadas:\n",
        "\n",
        "```\n",
        "The reserved words in R's parser are\n",
        "‘if’ ‘else’ ‘repeat’ ‘while’ ‘function’ ‘for’ ‘in’ ‘next’ ‘break’\n",
        "‘TRUE’ ‘FALSE’ ‘NULL’ ‘Inf’ ‘NaN’ ‘NA’ ‘NA_integer_’ ‘NA_real_’\n",
        "     ‘NA_complex_’ ‘NA_character_’\n",
        "‘...’ and ‘..1’, ‘..2’ etc, which are used to refer to arguments\n",
        "passed down from a calling function, see ‘...’.\n",
        "```\n",
        "\n",
        "En R los nombres de las variables puede comenzar con una letra o un punto (siempre que éste no esté seguido de un dígito), y contener dígitos y el simbolo `_`.\n",
        "\n",
        "Aquí unos ejemplos:\n",
        "\n",
        "* Nombres válidos: Sum, .work.with, this_is_accepted, Num6\n",
        "* Nombres inválidos: t0t@l, 5um, _ray, TRUE, .0n3\n",
        "\n",
        "Una diferencia que suele confundir es la preferencia en R de los puntos para separar palabras ya que es común que cuando escribimos un nombre de variable de varias palabras lo hagamos con `_`, pero en versiones anteriores de R era un operador de asignación. Aun así podemos usar cualquiera de las dos o simplmente separar por mayúsculas:"
      ]
    },
    {
      "cell_type": "code",
      "metadata": {
        "id": "DhPhVZKb8_Lq",
        "colab_type": "code",
        "colab": {}
      },
      "source": [
        "nombre_de_varibale = 4 #Lyke a Python\n",
        "nombre.de.variable = 5 #Like a \n",
        "nombreDeVariable = 2"
      ],
      "execution_count": 0,
      "outputs": []
    },
    {
      "cell_type": "markdown",
      "metadata": {
        "id": "he2pRuoNIFse",
        "colab_type": "text"
      },
      "source": [
        "## Constantes\n",
        "\n",
        "En R ha varios tipos de constantes cuyo valor no se puede cambiar, es decir están ubicadas en una dirección de memoria fija y aunque podemos asignar su valor a una variable no podemos modificarlas.\n",
        "\n",
        "Hay de dos tipos las númericas en donde se incluyen todos los números sean enteros, reales o complejos y podemos revisar su tipo usando `typeof`"
      ]
    },
    {
      "cell_type": "code",
      "metadata": {
        "id": "TnhEfvG8IQ7u",
        "colab_type": "code",
        "outputId": "d6f72dcd-ca2f-4014-cc58-74051f2c1012",
        "colab": {
          "base_uri": "https://localhost:8080/",
          "height": 68
        }
      },
      "source": [
        "typeof(5)\n",
        "typeof(5L)\n",
        "typeof(5i)"
      ],
      "execution_count": 0,
      "outputs": [
        {
          "output_type": "display_data",
          "data": {
            "text/plain": [
              "[1] \"double\""
            ],
            "text/latex": "'double'",
            "text/markdown": "'double'",
            "text/html": [
              "'double'"
            ]
          },
          "metadata": {
            "tags": []
          }
        },
        {
          "output_type": "display_data",
          "data": {
            "text/plain": [
              "[1] \"integer\""
            ],
            "text/latex": "'integer'",
            "text/markdown": "'integer'",
            "text/html": [
              "'integer'"
            ]
          },
          "metadata": {
            "tags": []
          }
        },
        {
          "output_type": "display_data",
          "data": {
            "text/plain": [
              "[1] \"complex\""
            ],
            "text/latex": "'complex'",
            "text/markdown": "'complex'",
            "text/html": [
              "'complex'"
            ]
          },
          "metadata": {
            "tags": []
          }
        }
      ]
    },
    {
      "cell_type": "markdown",
      "metadata": {
        "id": "F8V4XzriHSVc",
        "colab_type": "text"
      },
      "source": [
        "También se inlcuyen los carácteres y su cadenas dentro de este tipo de constantes:"
      ]
    },
    {
      "cell_type": "code",
      "metadata": {
        "id": "2vEovaxLLwEq",
        "colab_type": "code",
        "outputId": "53c70c80-e37d-4968-a12c-508dc75b1ef5",
        "colab": {
          "base_uri": "https://localhost:8080/",
          "height": 51
        }
      },
      "source": [
        "'example'\n",
        "typeof(\"5\")"
      ],
      "execution_count": 0,
      "outputs": [
        {
          "output_type": "display_data",
          "data": {
            "text/plain": [
              "[1] \"example\""
            ],
            "text/latex": "'example'",
            "text/markdown": "'example'",
            "text/html": [
              "'example'"
            ]
          },
          "metadata": {
            "tags": []
          }
        },
        {
          "output_type": "display_data",
          "data": {
            "text/plain": [
              "[1] \"character\""
            ],
            "text/latex": "'character'",
            "text/markdown": "'character'",
            "text/html": [
              "'character'"
            ]
          },
          "metadata": {
            "tags": []
          }
        }
      ]
    },
    {
      "cell_type": "markdown",
      "metadata": {
        "id": "PiQc5lqiL3pt",
        "colab_type": "text"
      },
      "source": [
        "Además hay algunas \"constantes\" predefinidas. Pero ¡Cuidado! Estás pueden ser reasignadas.\n",
        "\n",
        "\n",
        "\n"
      ]
    },
    {
      "cell_type": "code",
      "metadata": {
        "id": "pRNIjYS8L65c",
        "colab_type": "code",
        "outputId": "b319e9cc-38c4-4901-daf5-c0cfea4eb110",
        "colab": {
          "base_uri": "https://localhost:8080/",
          "height": 102
        }
      },
      "source": [
        "LETTERS\n",
        "letters\n",
        "pi\n",
        "month.name\n",
        "month.abb\n",
        "?Constants"
      ],
      "execution_count": 0,
      "outputs": [
        {
          "output_type": "display_data",
          "data": {
            "text/plain": [
              " [1] \"A\" \"B\" \"C\" \"D\" \"E\" \"F\" \"G\" \"H\" \"I\" \"J\" \"K\" \"L\" \"M\" \"N\" \"O\" \"P\" \"Q\" \"R\" \"S\"\n",
              "[20] \"T\" \"U\" \"V\" \"W\" \"X\" \"Y\" \"Z\""
            ],
            "text/latex": "\\begin{enumerate*}\n\\item 'A'\n\\item 'B'\n\\item 'C'\n\\item 'D'\n\\item 'E'\n\\item 'F'\n\\item 'G'\n\\item 'H'\n\\item 'I'\n\\item 'J'\n\\item 'K'\n\\item 'L'\n\\item 'M'\n\\item 'N'\n\\item 'O'\n\\item 'P'\n\\item 'Q'\n\\item 'R'\n\\item 'S'\n\\item 'T'\n\\item 'U'\n\\item 'V'\n\\item 'W'\n\\item 'X'\n\\item 'Y'\n\\item 'Z'\n\\end{enumerate*}\n",
            "text/markdown": "1. 'A'\n2. 'B'\n3. 'C'\n4. 'D'\n5. 'E'\n6. 'F'\n7. 'G'\n8. 'H'\n9. 'I'\n10. 'J'\n11. 'K'\n12. 'L'\n13. 'M'\n14. 'N'\n15. 'O'\n16. 'P'\n17. 'Q'\n18. 'R'\n19. 'S'\n20. 'T'\n21. 'U'\n22. 'V'\n23. 'W'\n24. 'X'\n25. 'Y'\n26. 'Z'\n\n\n",
            "text/html": [
              "<style>\n",
              ".list-inline {list-style: none; margin:0; padding: 0}\n",
              ".list-inline>li {display: inline-block}\n",
              ".list-inline>li:not(:last-child)::after {content: \"\\00b7\"; padding: 0 .5ex}\n",
              "</style>\n",
              "<ol class=list-inline><li>'A'</li><li>'B'</li><li>'C'</li><li>'D'</li><li>'E'</li><li>'F'</li><li>'G'</li><li>'H'</li><li>'I'</li><li>'J'</li><li>'K'</li><li>'L'</li><li>'M'</li><li>'N'</li><li>'O'</li><li>'P'</li><li>'Q'</li><li>'R'</li><li>'S'</li><li>'T'</li><li>'U'</li><li>'V'</li><li>'W'</li><li>'X'</li><li>'Y'</li><li>'Z'</li></ol>\n"
            ]
          },
          "metadata": {
            "tags": []
          }
        },
        {
          "output_type": "display_data",
          "data": {
            "text/plain": [
              " [1] \"a\" \"b\" \"c\" \"d\" \"e\" \"f\" \"g\" \"h\" \"i\" \"j\" \"k\" \"l\" \"m\" \"n\" \"o\" \"p\" \"q\" \"r\" \"s\"\n",
              "[20] \"t\" \"u\" \"v\" \"w\" \"x\" \"y\" \"z\""
            ],
            "text/latex": "\\begin{enumerate*}\n\\item 'a'\n\\item 'b'\n\\item 'c'\n\\item 'd'\n\\item 'e'\n\\item 'f'\n\\item 'g'\n\\item 'h'\n\\item 'i'\n\\item 'j'\n\\item 'k'\n\\item 'l'\n\\item 'm'\n\\item 'n'\n\\item 'o'\n\\item 'p'\n\\item 'q'\n\\item 'r'\n\\item 's'\n\\item 't'\n\\item 'u'\n\\item 'v'\n\\item 'w'\n\\item 'x'\n\\item 'y'\n\\item 'z'\n\\end{enumerate*}\n",
            "text/markdown": "1. 'a'\n2. 'b'\n3. 'c'\n4. 'd'\n5. 'e'\n6. 'f'\n7. 'g'\n8. 'h'\n9. 'i'\n10. 'j'\n11. 'k'\n12. 'l'\n13. 'm'\n14. 'n'\n15. 'o'\n16. 'p'\n17. 'q'\n18. 'r'\n19. 's'\n20. 't'\n21. 'u'\n22. 'v'\n23. 'w'\n24. 'x'\n25. 'y'\n26. 'z'\n\n\n",
            "text/html": [
              "<style>\n",
              ".list-inline {list-style: none; margin:0; padding: 0}\n",
              ".list-inline>li {display: inline-block}\n",
              ".list-inline>li:not(:last-child)::after {content: \"\\00b7\"; padding: 0 .5ex}\n",
              "</style>\n",
              "<ol class=list-inline><li>'a'</li><li>'b'</li><li>'c'</li><li>'d'</li><li>'e'</li><li>'f'</li><li>'g'</li><li>'h'</li><li>'i'</li><li>'j'</li><li>'k'</li><li>'l'</li><li>'m'</li><li>'n'</li><li>'o'</li><li>'p'</li><li>'q'</li><li>'r'</li><li>'s'</li><li>'t'</li><li>'u'</li><li>'v'</li><li>'w'</li><li>'x'</li><li>'y'</li><li>'z'</li></ol>\n"
            ]
          },
          "metadata": {
            "tags": []
          }
        },
        {
          "output_type": "display_data",
          "data": {
            "text/plain": [
              "[1] 3.141593"
            ],
            "text/latex": "3.14159265358979",
            "text/markdown": "3.14159265358979",
            "text/html": [
              "3.14159265358979"
            ]
          },
          "metadata": {
            "tags": []
          }
        },
        {
          "output_type": "display_data",
          "data": {
            "text/plain": [
              " [1] \"January\"   \"February\"  \"March\"     \"April\"     \"May\"       \"June\"     \n",
              " [7] \"July\"      \"August\"    \"September\" \"October\"   \"November\"  \"December\" "
            ],
            "text/latex": "\\begin{enumerate*}\n\\item 'January'\n\\item 'February'\n\\item 'March'\n\\item 'April'\n\\item 'May'\n\\item 'June'\n\\item 'July'\n\\item 'August'\n\\item 'September'\n\\item 'October'\n\\item 'November'\n\\item 'December'\n\\end{enumerate*}\n",
            "text/markdown": "1. 'January'\n2. 'February'\n3. 'March'\n4. 'April'\n5. 'May'\n6. 'June'\n7. 'July'\n8. 'August'\n9. 'September'\n10. 'October'\n11. 'November'\n12. 'December'\n\n\n",
            "text/html": [
              "<style>\n",
              ".list-inline {list-style: none; margin:0; padding: 0}\n",
              ".list-inline>li {display: inline-block}\n",
              ".list-inline>li:not(:last-child)::after {content: \"\\00b7\"; padding: 0 .5ex}\n",
              "</style>\n",
              "<ol class=list-inline><li>'January'</li><li>'February'</li><li>'March'</li><li>'April'</li><li>'May'</li><li>'June'</li><li>'July'</li><li>'August'</li><li>'September'</li><li>'October'</li><li>'November'</li><li>'December'</li></ol>\n"
            ]
          },
          "metadata": {
            "tags": []
          }
        },
        {
          "output_type": "display_data",
          "data": {
            "text/plain": [
              " [1] \"Jan\" \"Feb\" \"Mar\" \"Apr\" \"May\" \"Jun\" \"Jul\" \"Aug\" \"Sep\" \"Oct\" \"Nov\" \"Dec\""
            ],
            "text/latex": "\\begin{enumerate*}\n\\item 'Jan'\n\\item 'Feb'\n\\item 'Mar'\n\\item 'Apr'\n\\item 'May'\n\\item 'Jun'\n\\item 'Jul'\n\\item 'Aug'\n\\item 'Sep'\n\\item 'Oct'\n\\item 'Nov'\n\\item 'Dec'\n\\end{enumerate*}\n",
            "text/markdown": "1. 'Jan'\n2. 'Feb'\n3. 'Mar'\n4. 'Apr'\n5. 'May'\n6. 'Jun'\n7. 'Jul'\n8. 'Aug'\n9. 'Sep'\n10. 'Oct'\n11. 'Nov'\n12. 'Dec'\n\n\n",
            "text/html": [
              "<style>\n",
              ".list-inline {list-style: none; margin:0; padding: 0}\n",
              ".list-inline>li {display: inline-block}\n",
              ".list-inline>li:not(:last-child)::after {content: \"\\00b7\"; padding: 0 .5ex}\n",
              "</style>\n",
              "<ol class=list-inline><li>'Jan'</li><li>'Feb'</li><li>'Mar'</li><li>'Apr'</li><li>'May'</li><li>'Jun'</li><li>'Jul'</li><li>'Aug'</li><li>'Sep'</li><li>'Oct'</li><li>'Nov'</li><li>'Dec'</li></ol>\n"
            ]
          },
          "metadata": {
            "tags": []
          }
        }
      ]
    },
    {
      "cell_type": "markdown",
      "metadata": {
        "id": "M02yUS7zOvYk",
        "colab_type": "text"
      },
      "source": [
        "Si intentas reasignar una constante con otra vas a tener un error. Aunque esto puede ser bastante intuitivo, nos da una idea de lo que es una constante, nostros también podemos crear variables que no puedan ser reasignadas pero no es imposible de deshacer.   "
      ]
    },
    {
      "cell_type": "code",
      "metadata": {
        "id": "KjZ9yogQMTYO",
        "colab_type": "code",
        "outputId": "eb73374c-be63-41a7-ccf6-c9eacd2fd5d9",
        "colab": {
          "base_uri": "https://localhost:8080/",
          "height": 34
        }
      },
      "source": [
        "try(7 <- 3)"
      ],
      "execution_count": 0,
      "outputs": [
        {
          "output_type": "stream",
          "text": [
            "Error in 7 <- 3 : invalid (do_set) left-hand side to assignment\n"
          ],
          "name": "stdout"
        }
      ]
    },
    {
      "cell_type": "code",
      "metadata": {
        "id": "tQ1a6NslQSvH",
        "colab_type": "code",
        "outputId": "6f787b70-cd2b-451a-9929-9d91e7fb03be",
        "colab": {
          "base_uri": "https://localhost:8080/",
          "height": 51
        }
      },
      "source": [
        "rm(MI.CONST)"
      ],
      "execution_count": 0,
      "outputs": [
        {
          "output_type": "stream",
          "text": [
            "Warning message in rm(MI.CONST):\n",
            "“object 'MI.CONST' not found”\n"
          ],
          "name": "stderr"
        }
      ]
    },
    {
      "cell_type": "code",
      "metadata": {
        "id": "jBJnlpIZPk1a",
        "colab_type": "code",
        "outputId": "db97000b-c701-45af-eb5d-81fd8dc04e29",
        "colab": {
          "base_uri": "https://localhost:8080/",
          "height": 136
        }
      },
      "source": [
        "#Aquí esto borrando la constante para que no de problemas al ejecutar varia veces\n",
        "if (exists(\"MI.CONST\")) rm(MI.CONST)\n",
        "#Creo mi constante e indico que no puede ser reasignada\n",
        "MI.CONST <- \"UNA_CONSTANTE_NECESARIA\"\n",
        "lockBinding(\"MI.CONST\", globalenv())\n",
        "\"--> Intento reasignar\"\n",
        "cat(\" \\n \")\n",
        "try(MI.CONST <- \"REASIGNAR\")\n",
        "cat(\"\\n --> Borramos la constante e intento reasignar\")\n",
        "rm(MI.CONST)\n",
        "try(MI.CONST <- \"REASIGNAR\")\n",
        "MI.CONST"
      ],
      "execution_count": 0,
      "outputs": [
        {
          "output_type": "display_data",
          "data": {
            "text/plain": [
              "[1] \"--> Intento reasignar\""
            ],
            "text/latex": "'--> Intento reasignar'",
            "text/markdown": "'--&gt; Intento reasignar'",
            "text/html": [
              "'--&gt; Intento reasignar'"
            ]
          },
          "metadata": {
            "tags": []
          }
        },
        {
          "output_type": "stream",
          "text": [
            " \n",
            " Error in try(MI.CONST <- \"REASIGNAR\") : \n",
            "  cannot change value of locked binding for 'MI.CONST'\n",
            "\n",
            " --> Borramos la constante e intento reasignar"
          ],
          "name": "stdout"
        },
        {
          "output_type": "display_data",
          "data": {
            "text/plain": [
              "[1] \"REASIGNAR\""
            ],
            "text/latex": "'REASIGNAR'",
            "text/markdown": "'REASIGNAR'",
            "text/html": [
              "'REASIGNAR'"
            ]
          },
          "metadata": {
            "tags": []
          }
        }
      ]
    },
    {
      "cell_type": "markdown",
      "metadata": {
        "id": "vt9iplOnUbsx",
        "colab_type": "text"
      },
      "source": [
        "## Vectores atómicos \n",
        "\n",
        "Se pueden usar varios caminos para crear conjunto de datos en R. Pero los vectores son los más simples de estas estructuras. Generalmente se incluye en el saco llamado **Vectores en R** a los vectores atómicos junto con las listas y matrices, pero en algunas bibliografías se diferencian.\n",
        "\n",
        "* Vectores son conjuntos de datos finitos, homogéneos, es decir del mismo tipo (logical, integer, doble, character, complex y raw). Se puede consultar su tipo con `typeof()`\n",
        "\n",
        "* Las listas son similares a los vectores pero son heterogéneas, es decir no tiene el mismo tipo de dato. \n",
        "\n",
        "* Las matrices son básicamente vectores (del mimso tipo) apilados en una dimensión. Similar a la idea matemática de una matriz. \n"
      ]
    },
    {
      "cell_type": "markdown",
      "metadata": {
        "id": "rhzaF6mYrzCU",
        "colab_type": "text"
      },
      "source": [
        "## Crear un vector\n",
        "\n",
        "Hay varias formas de hacer esto. Por ejemplo podemos usar `:` para crear secuencias de datos:"
      ]
    },
    {
      "cell_type": "code",
      "metadata": {
        "id": "t7UVWDDEWh9W",
        "colab_type": "code",
        "outputId": "4c27dfd9-d8b7-4383-e729-160c6d833bf2",
        "colab": {
          "base_uri": "https://localhost:8080/",
          "height": 68
        }
      },
      "source": [
        "myseq <- 0:10\n",
        "myseq\n",
        "cat(\"Usemos un slice para ver un elemento:\",myseq[1]) #No, no comienza en 0\n",
        "cat(\"\\nEl tipo es:\",typeof(myseq))"
      ],
      "execution_count": 0,
      "outputs": [
        {
          "output_type": "display_data",
          "data": {
            "text/plain": [
              " [1]  0  1  2  3  4  5  6  7  8  9 10"
            ],
            "text/latex": "\\begin{enumerate*}\n\\item 0\n\\item 1\n\\item 2\n\\item 3\n\\item 4\n\\item 5\n\\item 6\n\\item 7\n\\item 8\n\\item 9\n\\item 10\n\\end{enumerate*}\n",
            "text/markdown": "1. 0\n2. 1\n3. 2\n4. 3\n5. 4\n6. 5\n7. 6\n8. 7\n9. 8\n10. 9\n11. 10\n\n\n",
            "text/html": [
              "<style>\n",
              ".list-inline {list-style: none; margin:0; padding: 0}\n",
              ".list-inline>li {display: inline-block}\n",
              ".list-inline>li:not(:last-child)::after {content: \"\\00b7\"; padding: 0 .5ex}\n",
              "</style>\n",
              "<ol class=list-inline><li>0</li><li>1</li><li>2</li><li>3</li><li>4</li><li>5</li><li>6</li><li>7</li><li>8</li><li>9</li><li>10</li></ol>\n"
            ]
          },
          "metadata": {
            "tags": []
          }
        },
        {
          "output_type": "stream",
          "text": [
            "Usemos un slice para ver un elemento: 0\n",
            "El tipo es: integer"
          ],
          "name": "stdout"
        }
      ]
    },
    {
      "cell_type": "markdown",
      "metadata": {
        "id": "Ars_hLZgbMLw",
        "colab_type": "text"
      },
      "source": [
        "Una función avanzada del operador `:` es  `seq()`"
      ]
    },
    {
      "cell_type": "code",
      "metadata": {
        "id": "ItpqfdrebUyG",
        "colab_type": "code",
        "outputId": "da6b16b0-3f25-4ff3-cc02-7d565b3dd7a5",
        "colab": {
          "base_uri": "https://localhost:8080/",
          "height": 51
        }
      },
      "source": [
        "myseq = seq(1, 3, by=0.2)\n",
        "cat(\"El delta no es 1:\",myseq)\n",
        "typeof(myseq)"
      ],
      "execution_count": 0,
      "outputs": [
        {
          "output_type": "stream",
          "text": [
            "El delta no es 1: 1 1.2 1.4 1.6 1.8 2 2.2 2.4 2.6 2.8 3"
          ],
          "name": "stdout"
        },
        {
          "output_type": "display_data",
          "data": {
            "text/plain": [
              "[1] \"double\""
            ],
            "text/latex": "'double'",
            "text/markdown": "'double'",
            "text/html": [
              "'double'"
            ]
          },
          "metadata": {
            "tags": []
          }
        }
      ]
    },
    {
      "cell_type": "markdown",
      "metadata": {
        "id": "iPGDY_0rXCRF",
        "colab_type": "text"
      },
      "source": [
        "Tambien podemos usar la función de concatenar, `c()`, una función bastante reconocida de R:"
      ]
    },
    {
      "cell_type": "code",
      "metadata": {
        "id": "2CqwlIIaXIjb",
        "colab_type": "code",
        "outputId": "24270233-0636-4894-86e2-2ebd52c2946b",
        "colab": {
          "base_uri": "https://localhost:8080/",
          "height": 68
        }
      },
      "source": [
        "myseq_concat = c(1,\"a\",2,\"b\",\"c\",3.0,\"d\",1+5i)\n",
        "cat(\"Podemos acceder en forma de slice desde #2 hasta el #4 (\", myseq_concat[2:4],\")\")\n",
        "cat(\"\\nTambién podemos ver su longitud:\",length(myseq_concat))\n",
        "cat(\"\\nPodemos verificar su tipo\",typeof(myseq_concat))"
      ],
      "execution_count": 0,
      "outputs": [
        {
          "output_type": "stream",
          "text": [
            "Podemos acceder en forma de slice desde #2 hasta el #4 ( a 2 b )\n",
            "También podemos ver su longitud: 8\n",
            "Podemos verificar su tipo character"
          ],
          "name": "stdout"
        }
      ]
    },
    {
      "cell_type": "markdown",
      "metadata": {
        "id": "IaouFvMNXo40",
        "colab_type": "text"
      },
      "source": [
        "Y también podemos usar la función `vector()`, cuyos argumentos son tipo y la longitud, la función arroja sus valores nulos los cuales se pueden usar el loops."
      ]
    },
    {
      "cell_type": "code",
      "metadata": {
        "id": "ybx2Fbh9ZeVy",
        "colab_type": "code",
        "outputId": "385ce90a-c31f-4666-b4b6-da04ac925341",
        "colab": {
          "base_uri": "https://localhost:8080/",
          "height": 85
        }
      },
      "source": [
        "vector(\"character\", 3)\n",
        "vector(\"numeric\", 4)\n",
        "vector(\"complex\", 5)\n",
        "vector(\"logical\", 2)\n"
      ],
      "execution_count": 0,
      "outputs": [
        {
          "output_type": "display_data",
          "data": {
            "text/plain": [
              "[1] \"\" \"\" \"\""
            ],
            "text/latex": "\\begin{enumerate*}\n\\item ''\n\\item ''\n\\item ''\n\\end{enumerate*}\n",
            "text/markdown": "1. ''\n2. ''\n3. ''\n\n\n",
            "text/html": [
              "<style>\n",
              ".list-inline {list-style: none; margin:0; padding: 0}\n",
              ".list-inline>li {display: inline-block}\n",
              ".list-inline>li:not(:last-child)::after {content: \"\\00b7\"; padding: 0 .5ex}\n",
              "</style>\n",
              "<ol class=list-inline><li>''</li><li>''</li><li>''</li></ol>\n"
            ]
          },
          "metadata": {
            "tags": []
          }
        },
        {
          "output_type": "display_data",
          "data": {
            "text/plain": [
              "[1] 0 0 0 0"
            ],
            "text/latex": "\\begin{enumerate*}\n\\item 0\n\\item 0\n\\item 0\n\\item 0\n\\end{enumerate*}\n",
            "text/markdown": "1. 0\n2. 0\n3. 0\n4. 0\n\n\n",
            "text/html": [
              "<style>\n",
              ".list-inline {list-style: none; margin:0; padding: 0}\n",
              ".list-inline>li {display: inline-block}\n",
              ".list-inline>li:not(:last-child)::after {content: \"\\00b7\"; padding: 0 .5ex}\n",
              "</style>\n",
              "<ol class=list-inline><li>0</li><li>0</li><li>0</li><li>0</li></ol>\n"
            ]
          },
          "metadata": {
            "tags": []
          }
        },
        {
          "output_type": "display_data",
          "data": {
            "text/plain": [
              "[1] 0+0i 0+0i 0+0i 0+0i 0+0i"
            ],
            "text/latex": "\\begin{enumerate*}\n\\item 0+0i\n\\item 0+0i\n\\item 0+0i\n\\item 0+0i\n\\item 0+0i\n\\end{enumerate*}\n",
            "text/markdown": "1. 0+0i\n2. 0+0i\n3. 0+0i\n4. 0+0i\n5. 0+0i\n\n\n",
            "text/html": [
              "<style>\n",
              ".list-inline {list-style: none; margin:0; padding: 0}\n",
              ".list-inline>li {display: inline-block}\n",
              ".list-inline>li:not(:last-child)::after {content: \"\\00b7\"; padding: 0 .5ex}\n",
              "</style>\n",
              "<ol class=list-inline><li>0+0i</li><li>0+0i</li><li>0+0i</li><li>0+0i</li><li>0+0i</li></ol>\n"
            ]
          },
          "metadata": {
            "tags": []
          }
        },
        {
          "output_type": "display_data",
          "data": {
            "text/plain": [
              "[1] FALSE FALSE"
            ],
            "text/latex": "\\begin{enumerate*}\n\\item FALSE\n\\item FALSE\n\\end{enumerate*}\n",
            "text/markdown": "1. FALSE\n2. FALSE\n\n\n",
            "text/html": [
              "<style>\n",
              ".list-inline {list-style: none; margin:0; padding: 0}\n",
              ".list-inline>li {display: inline-block}\n",
              ".list-inline>li:not(:last-child)::after {content: \"\\00b7\"; padding: 0 .5ex}\n",
              "</style>\n",
              "<ol class=list-inline><li>FALSE</li><li>FALSE</li></ol>\n"
            ]
          },
          "metadata": {
            "tags": []
          }
        }
      ]
    },
    {
      "cell_type": "markdown",
      "metadata": {
        "id": "lDGf1Rn4sOu8",
        "colab_type": "text"
      },
      "source": [
        "## Jerarquía de los vectores atómicos\n",
        "\n",
        "Recordemos que los vectores tiene un sólo tipo, ya sea que les asignemos un tipo al principio con `vector()` y cambie o que usemos la `función c`, hay una jerarquía de valores:\n",
        " \n",
        "1. character \n",
        "2. complex \n",
        "3. double \n",
        "4. int \n",
        "5. logical"
      ]
    },
    {
      "cell_type": "code",
      "metadata": {
        "id": "ZPmILUhEdo_3",
        "colab_type": "code",
        "outputId": "789b9e30-1ad9-4f7c-a802-dcdab0730c4b",
        "colab": {
          "base_uri": "https://localhost:8080/",
          "height": 68
        }
      },
      "source": [
        "vect1 = vector(\"numeric\", 4)\n",
        "vect2 = vector(\"character\", 6)\n",
        "vect3 = vector(\"complex\", 5)\n",
        "\n",
        "vect1[1] = 'string'\n",
        "vect2[1] = 5L\n",
        "vect3[2] = 1.4\n",
        "#HAY UNAJERARQUÍA character > complex > double > int > logical\n",
        "typeof(vect1)\n",
        "typeof(vect2)\n",
        "typeof(vect3)"
      ],
      "execution_count": 0,
      "outputs": [
        {
          "output_type": "display_data",
          "data": {
            "text/plain": [
              "[1] \"character\""
            ],
            "text/latex": "'character'",
            "text/markdown": "'character'",
            "text/html": [
              "'character'"
            ]
          },
          "metadata": {
            "tags": []
          }
        },
        {
          "output_type": "display_data",
          "data": {
            "text/plain": [
              "[1] \"character\""
            ],
            "text/latex": "'character'",
            "text/markdown": "'character'",
            "text/html": [
              "'character'"
            ]
          },
          "metadata": {
            "tags": []
          }
        },
        {
          "output_type": "display_data",
          "data": {
            "text/plain": [
              "[1] \"complex\""
            ],
            "text/latex": "'complex'",
            "text/markdown": "'complex'",
            "text/html": [
              "'complex'"
            ]
          },
          "metadata": {
            "tags": []
          }
        }
      ]
    },
    {
      "cell_type": "markdown",
      "metadata": {
        "id": "Hg65S6qBgs1W",
        "colab_type": "text"
      },
      "source": [
        "## Acceder a vectores o secuencias"
      ]
    },
    {
      "cell_type": "markdown",
      "metadata": {
        "id": "UHqding7hX7R",
        "colab_type": "text"
      },
      "source": [
        "### Por índices"
      ]
    },
    {
      "cell_type": "code",
      "metadata": {
        "id": "rcuk1b5jfZeD",
        "colab_type": "code",
        "outputId": "a5553043-2318-428b-e35b-80a8b16912c4",
        "colab": {
          "base_uri": "https://localhost:8080/",
          "height": 51
        }
      },
      "source": [
        "vect1\n",
        "vect1[-1] # Los negativos en el slice funcionan distinto (elimina el primer elemento)"
      ],
      "execution_count": 0,
      "outputs": [
        {
          "output_type": "display_data",
          "data": {
            "text/plain": [
              "[1] \"string\" \"0\"      \"0\"      \"0\"     "
            ],
            "text/latex": "\\begin{enumerate*}\n\\item 'string'\n\\item '0'\n\\item '0'\n\\item '0'\n\\end{enumerate*}\n",
            "text/markdown": "1. 'string'\n2. '0'\n3. '0'\n4. '0'\n\n\n",
            "text/html": [
              "<style>\n",
              ".list-inline {list-style: none; margin:0; padding: 0}\n",
              ".list-inline>li {display: inline-block}\n",
              ".list-inline>li:not(:last-child)::after {content: \"\\00b7\"; padding: 0 .5ex}\n",
              "</style>\n",
              "<ol class=list-inline><li>'string'</li><li>'0'</li><li>'0'</li><li>'0'</li></ol>\n"
            ]
          },
          "metadata": {
            "tags": []
          }
        },
        {
          "output_type": "display_data",
          "data": {
            "text/plain": [
              "[1] \"0\" \"0\" \"0\""
            ],
            "text/latex": "\\begin{enumerate*}\n\\item '0'\n\\item '0'\n\\item '0'\n\\end{enumerate*}\n",
            "text/markdown": "1. '0'\n2. '0'\n3. '0'\n\n\n",
            "text/html": [
              "<style>\n",
              ".list-inline {list-style: none; margin:0; padding: 0}\n",
              ".list-inline>li {display: inline-block}\n",
              ".list-inline>li:not(:last-child)::after {content: \"\\00b7\"; padding: 0 .5ex}\n",
              "</style>\n",
              "<ol class=list-inline><li>'0'</li><li>'0'</li><li>'0'</li></ol>\n"
            ]
          },
          "metadata": {
            "tags": []
          }
        }
      ]
    },
    {
      "cell_type": "code",
      "metadata": {
        "id": "9uATDUf3zm2l",
        "colab_type": "code",
        "outputId": "41e7c6b1-6ba7-47c8-99a1-2855b996a620",
        "colab": {
          "base_uri": "https://localhost:8080/",
          "height": 34
        }
      },
      "source": [
        "vect1"
      ],
      "execution_count": 0,
      "outputs": [
        {
          "output_type": "display_data",
          "data": {
            "text/plain": [
              "[1] \"string\" \"0\"      \"0\"      \"0\"     "
            ],
            "text/latex": "\\begin{enumerate*}\n\\item 'string'\n\\item '0'\n\\item '0'\n\\item '0'\n\\end{enumerate*}\n",
            "text/markdown": "1. 'string'\n2. '0'\n3. '0'\n4. '0'\n\n\n",
            "text/html": [
              "<style>\n",
              ".list-inline {list-style: none; margin:0; padding: 0}\n",
              ".list-inline>li {display: inline-block}\n",
              ".list-inline>li:not(:last-child)::after {content: \"\\00b7\"; padding: 0 .5ex}\n",
              "</style>\n",
              "<ol class=list-inline><li>'string'</li><li>'0'</li><li>'0'</li><li>'0'</li></ol>\n"
            ]
          },
          "metadata": {
            "tags": []
          }
        }
      ]
    },
    {
      "cell_type": "code",
      "metadata": {
        "id": "f0Uoaw2gfoK2",
        "colab_type": "code",
        "outputId": "901237d9-4561-480e-9c01-abd8fe1ae5d4",
        "colab": {
          "base_uri": "https://localhost:8080/",
          "height": 51
        }
      },
      "source": [
        "vect3\n",
        "vect3[c(2,4)] #También puede seleccionar distintos elementos con la función c"
      ],
      "execution_count": 0,
      "outputs": [
        {
          "output_type": "display_data",
          "data": {
            "text/plain": [
              "[1] 0.0+0i 1.4+0i 0.0+0i 0.0+0i 0.0+0i"
            ],
            "text/latex": "\\begin{enumerate*}\n\\item 0+0i\n\\item 1.4+0i\n\\item 0+0i\n\\item 0+0i\n\\item 0+0i\n\\end{enumerate*}\n",
            "text/markdown": "1. 0+0i\n2. 1.4+0i\n3. 0+0i\n4. 0+0i\n5. 0+0i\n\n\n",
            "text/html": [
              "<style>\n",
              ".list-inline {list-style: none; margin:0; padding: 0}\n",
              ".list-inline>li {display: inline-block}\n",
              ".list-inline>li:not(:last-child)::after {content: \"\\00b7\"; padding: 0 .5ex}\n",
              "</style>\n",
              "<ol class=list-inline><li>0+0i</li><li>1.4+0i</li><li>0+0i</li><li>0+0i</li><li>0+0i</li></ol>\n"
            ]
          },
          "metadata": {
            "tags": []
          }
        },
        {
          "output_type": "display_data",
          "data": {
            "text/plain": [
              "[1] 1.4+0i 0.0+0i"
            ],
            "text/latex": "\\begin{enumerate*}\n\\item 1.4+0i\n\\item 0+0i\n\\end{enumerate*}\n",
            "text/markdown": "1. 1.4+0i\n2. 0+0i\n\n\n",
            "text/html": [
              "<style>\n",
              ".list-inline {list-style: none; margin:0; padding: 0}\n",
              ".list-inline>li {display: inline-block}\n",
              ".list-inline>li:not(:last-child)::after {content: \"\\00b7\"; padding: 0 .5ex}\n",
              "</style>\n",
              "<ol class=list-inline><li>1.4+0i</li><li>0+0i</li></ol>\n"
            ]
          },
          "metadata": {
            "tags": []
          }
        }
      ]
    },
    {
      "cell_type": "code",
      "metadata": {
        "id": "vUN7NlN-gEM6",
        "colab_type": "code",
        "outputId": "1679133b-a9bb-4039-c83e-75badc9710e4",
        "colab": {
          "base_uri": "https://localhost:8080/",
          "height": 51
        }
      },
      "source": [
        "vect2[c(2.3,4.3)] #Los números reales son truncados\n",
        "try(vect2[c(1,-1)]) #No se pueden combinar los índices neg y pos"
      ],
      "execution_count": 0,
      "outputs": [
        {
          "output_type": "display_data",
          "data": {
            "text/plain": [
              "[1] \"\" \"\""
            ],
            "text/latex": "\\begin{enumerate*}\n\\item ''\n\\item ''\n\\end{enumerate*}\n",
            "text/markdown": "1. ''\n2. ''\n\n\n",
            "text/html": [
              "<style>\n",
              ".list-inline {list-style: none; margin:0; padding: 0}\n",
              ".list-inline>li {display: inline-block}\n",
              ".list-inline>li:not(:last-child)::after {content: \"\\00b7\"; padding: 0 .5ex}\n",
              "</style>\n",
              "<ol class=list-inline><li>''</li><li>''</li></ol>\n"
            ]
          },
          "metadata": {
            "tags": []
          }
        },
        {
          "output_type": "stream",
          "text": [
            "Error in vect2[c(1, -1)] : only 0's may be mixed with negative subscripts\n"
          ],
          "name": "stdout"
        }
      ]
    },
    {
      "cell_type": "markdown",
      "metadata": {
        "id": "8L0_xX5IhbQc",
        "colab_type": "text"
      },
      "source": [
        "### Por variables lógicas"
      ]
    },
    {
      "cell_type": "code",
      "metadata": {
        "id": "z8oJbkZcgdi0",
        "colab_type": "code",
        "outputId": "f9a1eb22-4a9d-44c4-a6bf-efe700bd8df1",
        "colab": {
          "base_uri": "https://localhost:8080/",
          "height": 51
        }
      },
      "source": [
        "numbers = seq(0,5,by=0.5)\n",
        "numbers\n",
        "numbers[c(TRUE, FALSE, FALSE, TRUE)] #Es una especie de filtro que se repite hasta el último elemento"
      ],
      "execution_count": 0,
      "outputs": [
        {
          "output_type": "display_data",
          "data": {
            "text/plain": [
              " [1] 0.0 0.5 1.0 1.5 2.0 2.5 3.0 3.5 4.0 4.5 5.0"
            ],
            "text/latex": "\\begin{enumerate*}\n\\item 0\n\\item 0.5\n\\item 1\n\\item 1.5\n\\item 2\n\\item 2.5\n\\item 3\n\\item 3.5\n\\item 4\n\\item 4.5\n\\item 5\n\\end{enumerate*}\n",
            "text/markdown": "1. 0\n2. 0.5\n3. 1\n4. 1.5\n5. 2\n6. 2.5\n7. 3\n8. 3.5\n9. 4\n10. 4.5\n11. 5\n\n\n",
            "text/html": [
              "<style>\n",
              ".list-inline {list-style: none; margin:0; padding: 0}\n",
              ".list-inline>li {display: inline-block}\n",
              ".list-inline>li:not(:last-child)::after {content: \"\\00b7\"; padding: 0 .5ex}\n",
              "</style>\n",
              "<ol class=list-inline><li>0</li><li>0.5</li><li>1</li><li>1.5</li><li>2</li><li>2.5</li><li>3</li><li>3.5</li><li>4</li><li>4.5</li><li>5</li></ol>\n"
            ]
          },
          "metadata": {
            "tags": []
          }
        },
        {
          "output_type": "display_data",
          "data": {
            "text/plain": [
              "[1] 0.0 1.5 2.0 3.5 4.0"
            ],
            "text/latex": "\\begin{enumerate*}\n\\item 0\n\\item 1.5\n\\item 2\n\\item 3.5\n\\item 4\n\\end{enumerate*}\n",
            "text/markdown": "1. 0\n2. 1.5\n3. 2\n4. 3.5\n5. 4\n\n\n",
            "text/html": [
              "<style>\n",
              ".list-inline {list-style: none; margin:0; padding: 0}\n",
              ".list-inline>li {display: inline-block}\n",
              ".list-inline>li:not(:last-child)::after {content: \"\\00b7\"; padding: 0 .5ex}\n",
              "</style>\n",
              "<ol class=list-inline><li>0</li><li>1.5</li><li>2</li><li>3.5</li><li>4</li></ol>\n"
            ]
          },
          "metadata": {
            "tags": []
          }
        }
      ]
    },
    {
      "cell_type": "code",
      "metadata": {
        "id": "UBnoNxnEfHHN",
        "colab_type": "code",
        "outputId": "6872ef90-d0de-42f7-99bc-e257fcbad5ea",
        "colab": {
          "base_uri": "https://localhost:8080/",
          "height": 34
        }
      },
      "source": [
        "numbers[numbers<=3] #Los filtros son directos"
      ],
      "execution_count": 0,
      "outputs": [
        {
          "output_type": "display_data",
          "data": {
            "text/plain": [
              "[1] 0.0 0.5 1.0 1.5 2.0 2.5 3.0"
            ],
            "text/latex": "\\begin{enumerate*}\n\\item 0\n\\item 0.5\n\\item 1\n\\item 1.5\n\\item 2\n\\item 2.5\n\\item 3\n\\end{enumerate*}\n",
            "text/markdown": "1. 0\n2. 0.5\n3. 1\n4. 1.5\n5. 2\n6. 2.5\n7. 3\n\n\n",
            "text/html": [
              "<style>\n",
              ".list-inline {list-style: none; margin:0; padding: 0}\n",
              ".list-inline>li {display: inline-block}\n",
              ".list-inline>li:not(:last-child)::after {content: \"\\00b7\"; padding: 0 .5ex}\n",
              "</style>\n",
              "<ol class=list-inline><li>0</li><li>0.5</li><li>1</li><li>1.5</li><li>2</li><li>2.5</li><li>3</li></ol>\n"
            ]
          },
          "metadata": {
            "tags": []
          }
        }
      ]
    },
    {
      "cell_type": "markdown",
      "metadata": {
        "id": "v0kXUvy3kDLT",
        "colab_type": "text"
      },
      "source": [
        "### Por caracteres"
      ]
    },
    {
      "cell_type": "code",
      "metadata": {
        "id": "yG9jLgKFh7zb",
        "colab_type": "code",
        "outputId": "26fa0689-9fd8-4588-dd98-2510c08b0ca2",
        "colab": {
          "base_uri": "https://localhost:8080/",
          "height": 85
        }
      },
      "source": [
        "conjunto <- c(\"first\"=3, \"second\"=0, \"third\"=9) # La función c puede concatenar de forma no indexada\n",
        "names(conjunto) #Esta función también me permite combinar listas normales con \"llaves\"\n",
        "conjunto['first']\n",
        "names(conjunto) = c(\"uno\",\"dos\",\"tres\")\n",
        "conjunto\n",
        "typeof(conjunto) #El tipo se define por los valores. Es similar a un diccionario.  "
      ],
      "execution_count": 0,
      "outputs": [
        {
          "output_type": "display_data",
          "data": {
            "text/plain": [
              "[1] \"first\"  \"second\" \"third\" "
            ],
            "text/latex": "\\begin{enumerate*}\n\\item 'first'\n\\item 'second'\n\\item 'third'\n\\end{enumerate*}\n",
            "text/markdown": "1. 'first'\n2. 'second'\n3. 'third'\n\n\n",
            "text/html": [
              "<style>\n",
              ".list-inline {list-style: none; margin:0; padding: 0}\n",
              ".list-inline>li {display: inline-block}\n",
              ".list-inline>li:not(:last-child)::after {content: \"\\00b7\"; padding: 0 .5ex}\n",
              "</style>\n",
              "<ol class=list-inline><li>'first'</li><li>'second'</li><li>'third'</li></ol>\n"
            ]
          },
          "metadata": {
            "tags": []
          }
        },
        {
          "output_type": "display_data",
          "data": {
            "text/plain": [
              "first \n",
              "    3 "
            ],
            "text/latex": "\\textbf{first:} 3",
            "text/markdown": "**first:** 3",
            "text/html": [
              "<strong>first:</strong> 3"
            ]
          },
          "metadata": {
            "tags": []
          }
        },
        {
          "output_type": "display_data",
          "data": {
            "text/plain": [
              " uno  dos tres \n",
              "   3    0    9 "
            ],
            "text/latex": "\\begin{description*}\n\\item[uno] 3\n\\item[dos] 0\n\\item[tres] 9\n\\end{description*}\n",
            "text/markdown": "uno\n:   3dos\n:   0tres\n:   9\n\n",
            "text/html": [
              "<style>\n",
              ".dl-inline {width: auto; margin:0; padding: 0}\n",
              ".dl-inline>dt, .dl-inline>dd {float: none; width: auto; display: inline-block}\n",
              ".dl-inline>dt::after {content: \":\\0020\"; padding-right: .5ex}\n",
              ".dl-inline>dt:not(:first-of-type) {padding-left: .5ex}\n",
              "</style><dl class=dl-inline><dt>uno</dt><dd>3</dd><dt>dos</dt><dd>0</dd><dt>tres</dt><dd>9</dd></dl>\n"
            ]
          },
          "metadata": {
            "tags": []
          }
        },
        {
          "output_type": "display_data",
          "data": {
            "text/plain": [
              "[1] \"double\""
            ],
            "text/latex": "'double'",
            "text/markdown": "'double'",
            "text/html": [
              "'double'"
            ]
          },
          "metadata": {
            "tags": []
          }
        }
      ]
    },
    {
      "cell_type": "markdown",
      "metadata": {
        "id": "_c2NXmpdvKM2",
        "colab_type": "text"
      },
      "source": [
        "## Aumentar o diminuir la longitud de un vector\n",
        "\n",
        "Para agregar un valor a un vector sólo es necesario hacerlo en la cola, podemos quitar ese valor usando un indice negativo. En todos los casos hacer slice o subset y reemplazar también es una opción, aunque hay opciones más óptimas. \n"
      ]
    },
    {
      "cell_type": "code",
      "metadata": {
        "id": "9dVfMtYjw4Ca",
        "colab_type": "code",
        "outputId": "53c698a0-fb37-446f-cff9-6e1d52eed7f7",
        "colab": {
          "base_uri": "https://localhost:8080/",
          "height": 34
        }
      },
      "source": [
        "myVector <- seq(0,5,by=0.5)\n",
        "N <- length(myVector)\n",
        "myVector[N+1] <- 5.9\n",
        "myVector"
      ],
      "execution_count": 0,
      "outputs": [
        {
          "output_type": "display_data",
          "data": {
            "text/plain": [
              " [1] 0.0 0.5 1.0 1.5 2.0 2.5 3.0 3.5 4.0 4.5 5.0 5.9"
            ],
            "text/latex": "\\begin{enumerate*}\n\\item 0\n\\item 0.5\n\\item 1\n\\item 1.5\n\\item 2\n\\item 2.5\n\\item 3\n\\item 3.5\n\\item 4\n\\item 4.5\n\\item 5\n\\item 5.9\n\\end{enumerate*}\n",
            "text/markdown": "1. 0\n2. 0.5\n3. 1\n4. 1.5\n5. 2\n6. 2.5\n7. 3\n8. 3.5\n9. 4\n10. 4.5\n11. 5\n12. 5.9\n\n\n",
            "text/html": [
              "<style>\n",
              ".list-inline {list-style: none; margin:0; padding: 0}\n",
              ".list-inline>li {display: inline-block}\n",
              ".list-inline>li:not(:last-child)::after {content: \"\\00b7\"; padding: 0 .5ex}\n",
              "</style>\n",
              "<ol class=list-inline><li>0</li><li>0.5</li><li>1</li><li>1.5</li><li>2</li><li>2.5</li><li>3</li><li>3.5</li><li>4</li><li>4.5</li><li>5</li><li>5.9</li></ol>\n"
            ]
          },
          "metadata": {
            "tags": []
          }
        }
      ]
    },
    {
      "cell_type": "code",
      "metadata": {
        "id": "KPb88G7zxNDK",
        "colab_type": "code",
        "outputId": "41836a8c-8fff-4f92-d7fa-0e52ccba31a1",
        "colab": {
          "base_uri": "https://localhost:8080/",
          "height": 34
        }
      },
      "source": [
        "myVector <- myVector[-(N+1)]\n",
        "myVector"
      ],
      "execution_count": 0,
      "outputs": [
        {
          "output_type": "display_data",
          "data": {
            "text/plain": [
              " [1] 0.0 0.5 1.0 1.5 2.0 2.5 3.0 3.5 4.0 4.5 5.0"
            ],
            "text/latex": "\\begin{enumerate*}\n\\item 0\n\\item 0.5\n\\item 1\n\\item 1.5\n\\item 2\n\\item 2.5\n\\item 3\n\\item 3.5\n\\item 4\n\\item 4.5\n\\item 5\n\\end{enumerate*}\n",
            "text/markdown": "1. 0\n2. 0.5\n3. 1\n4. 1.5\n5. 2\n6. 2.5\n7. 3\n8. 3.5\n9. 4\n10. 4.5\n11. 5\n\n\n",
            "text/html": [
              "<style>\n",
              ".list-inline {list-style: none; margin:0; padding: 0}\n",
              ".list-inline>li {display: inline-block}\n",
              ".list-inline>li:not(:last-child)::after {content: \"\\00b7\"; padding: 0 .5ex}\n",
              "</style>\n",
              "<ol class=list-inline><li>0</li><li>0.5</li><li>1</li><li>1.5</li><li>2</li><li>2.5</li><li>3</li><li>3.5</li><li>4</li><li>4.5</li><li>5</li></ol>\n"
            ]
          },
          "metadata": {
            "tags": []
          }
        }
      ]
    },
    {
      "cell_type": "markdown",
      "metadata": {
        "id": "i2BNADVimP-_",
        "colab_type": "text"
      },
      "source": [
        "##Ejercicios"
      ]
    },
    {
      "cell_type": "markdown",
      "metadata": {
        "id": "xdu8sxAomR7Q",
        "colab_type": "text"
      },
      "source": [
        "### Ejercicio 1\n",
        "\n",
        "¿Qué sucede cuando realizas un subset o slice con un entero positivo que es mayor que la longitud del vector? ¿Qué sucede cuando intentas acceder al valor de un vector con un nombre que no existe?\n"
      ]
    },
    {
      "cell_type": "code",
      "metadata": {
        "id": "_SwtJ2y9mu5c",
        "colab_type": "code",
        "cellView": "form",
        "colab": {}
      },
      "source": [
        "#@title Solución **acá**\n",
        "\n",
        "myvector = seq(0,3,by=0.1)\n",
        "N =length(myvector)\n",
        "#myvector[N+1]\n",
        "mynames = c(\"key1\"=1,\"key2\"=2,\"key3\"=3)\n",
        "#mynames[\"key4\"]"
      ],
      "execution_count": 0,
      "outputs": []
    },
    {
      "cell_type": "markdown",
      "metadata": {
        "id": "-CN7eKOpuD87",
        "colab_type": "text"
      },
      "source": [
        "### Ejercicio 2\n",
        "\n",
        "Sumar dos vectores de longitud 6 ¿Qué pasa si no son del mismo tipo?"
      ]
    },
    {
      "cell_type": "code",
      "metadata": {
        "id": "MEBL8zm5uZl8",
        "colab_type": "code",
        "cellView": "both",
        "colab": {}
      },
      "source": [
        "#@title Solución **acá**\n",
        "\n",
        "v1 = c(1,4,5,6,9,0)\n",
        "v2 = c(5,6,3,2,2,3)\n",
        "#v1+v2\n",
        "v3 = c(\"1\",3,4,5,6,7)\n",
        "#v1+v3"
      ],
      "execution_count": 0,
      "outputs": []
    },
    {
      "cell_type": "markdown",
      "metadata": {
        "id": "vrfmGJbHz22J",
        "colab_type": "text"
      },
      "source": [
        "### Ejercicio 3\n",
        "\n",
        "Agregar un valor a un vector vacio, repetir el proceso 3 veces más y eliminar la posición #2."
      ]
    },
    {
      "cell_type": "code",
      "metadata": {
        "id": "AYmUCxdjvD8H",
        "colab_type": "code",
        "cellView": "form",
        "outputId": "17baebcc-4f7b-4d36-f338-5fe816b8d8b6",
        "colab": {
          "base_uri": "https://localhost:8080/",
          "height": 34
        }
      },
      "source": [
        "#@title Solución **acá**\n",
        "\n",
        "myVector = c()\n",
        "myVector[1] <- 1\n",
        "myVector[2] <- 2\n",
        "myVector[3] <- 3\n",
        "myVector[4] <- 4\n",
        "myVector <- myVector[-3]\n",
        "#myVector"
      ],
      "execution_count": 0,
      "outputs": [
        {
          "output_type": "display_data",
          "data": {
            "text/plain": [
              "[1] 1 2 4"
            ],
            "text/latex": "\\begin{enumerate*}\n\\item 1\n\\item 2\n\\item 4\n\\end{enumerate*}\n",
            "text/markdown": "1. 1\n2. 2\n3. 4\n\n\n",
            "text/html": [
              "<style>\n",
              ".list-inline {list-style: none; margin:0; padding: 0}\n",
              ".list-inline>li {display: inline-block}\n",
              ".list-inline>li:not(:last-child)::after {content: \"\\00b7\"; padding: 0 .5ex}\n",
              "</style>\n",
              "<ol class=list-inline><li>1</li><li>2</li><li>4</li></ol>\n"
            ]
          },
          "metadata": {
            "tags": []
          }
        }
      ]
    },
    {
      "cell_type": "markdown",
      "metadata": {
        "id": "_3z7gUBh0nBI",
        "colab_type": "text"
      },
      "source": [
        "# Operadores \n",
        "\n",
        "R como todos los lenguajes tiene varios operadores para llevar a cabo operaciones matemáticas y lógicas. "
      ]
    },
    {
      "cell_type": "markdown",
      "metadata": {
        "id": "zm1eR_lS0yId",
        "colab_type": "text"
      },
      "source": [
        "## Operadores aritméticos\n",
        "\n",
        "Estos son los operadores para realizar operaciones matemáticas los cuales tienen diferencias con los operadores de python:\n",
        "<font face=\"Verdana\">\n",
        "\n",
        "|Operador|Descripción|Ejemplo|\n",
        "|-|-|-|\n",
        "|+|Suma los operandos| var1 + var2|\n",
        "|-|Resta los operandos| var1 - var2|\n",
        "|*|Multiplica los operandos| var1*var2|\n",
        "|/|Divide los operandos| var1/var2|\n",
        "|%%|Halla el módulo entre los operandos| var1%%var2|\n",
        "|^|Realiza cálculos de potencia entre los operandosrecho| var1^var2|\n",
        "|%/%|Divide de forma entera  los operandos| var1%/%var2|\n",
        "\n",
        "\n"
      ]
    },
    {
      "cell_type": "code",
      "metadata": {
        "id": "ATqGtW1R1xQI",
        "colab_type": "code",
        "outputId": "4bc309f7-14d8-44c6-a9e4-63d674d7c4e2",
        "colab": {
          "base_uri": "https://localhost:8080/",
          "height": 175
        }
      },
      "source": [
        "var1 <- 5\n",
        "var2 <- 9\n",
        "cat(\"El valor de var1 es \",var1,fill=T)\n",
        "cat(\"El valor de var2 es \",var2,fill=T)\n",
        "cat(\"var1 + var2 = \",var1 + var2,fill=T)\n",
        "cat(\"var1 - var2 =\",var1 - var2,fill=T)\n",
        "cat(\"var1 * var2 =\",var1 * var2,fill=T)\n",
        "cat(\"var1 / var2 =\",var1 / var2,fill=T)\n",
        "cat(\"var1 % var2 =\",var1 %% var2,fill=T)\n",
        "cat(\"var1 ** var2 =\",var1 ^ var2,fill=T)\n",
        "cat(\"var1 // var2 =\",var1 %/% var2,fill=T)"
      ],
      "execution_count": 0,
      "outputs": [
        {
          "output_type": "stream",
          "text": [
            "El valor de var1 es  5\n",
            "El valor de var2 es  9\n",
            "var1 + var2 =  14\n",
            "var1 - var2 = -4\n",
            "var1 * var2 = 45\n",
            "var1 / var2 = 0.5555556\n",
            "var1 % var2 = 5\n",
            "var1 ** var2 = 1953125\n",
            "var1 // var2 = 0\n"
          ],
          "name": "stdout"
        }
      ]
    },
    {
      "cell_type": "markdown",
      "metadata": {
        "id": "3bAJnlTA3LYe",
        "colab_type": "text"
      },
      "source": [
        "## Operadores de asignación\n",
        "Este tipo de operadores permite la asignación entre operando.\n",
        "\n",
        "<font face=\"Verdana\">\n",
        "\n",
        "|Operador|Descripción|Ejemplo|\n",
        "|-|-|-|\n",
        "|<-,<<-,=|Asignación a la izquierda| var1<-8|\n",
        "|->,->>|Asignación a la derecha| 8-> var1|\n",
        "\n",
        "El operador `<<-` es usado cuando se asigna variables en lso entornos primarios (como una asignación global) "
      ]
    },
    {
      "cell_type": "code",
      "metadata": {
        "id": "HWsIBRzA3vGC",
        "colab_type": "code",
        "outputId": "2eb6643c-7ff1-40a5-882a-bf839b00e27c",
        "colab": {
          "base_uri": "https://localhost:8080/",
          "height": 34
        }
      },
      "source": [
        "var1 <- 5\n",
        "var2 = 5\n",
        "var3 <<- 5\n",
        "cat(var1,var2,var3)"
      ],
      "execution_count": 0,
      "outputs": [
        {
          "output_type": "stream",
          "text": [
            "5 5 5"
          ],
          "name": "stdout"
        }
      ]
    },
    {
      "cell_type": "markdown",
      "metadata": {
        "id": "7XmZxh104LnP",
        "colab_type": "text"
      },
      "source": [
        "## Operadores realcionales\n",
        "\n",
        "Este tipo de operadores permite comparar entre operandos y su resultado siempre es una variable logica. \n",
        "<font face=\"Verdana\">\n",
        "\n",
        "|Operador|Descripción|Ejemplo|\n",
        "|-|-|-|\n",
        "|==|Evalua si los valores de los operandos sean iguales| var1 == var2|\n",
        "|!=|Evalua si los valores de los operandos sean diferentes| var1 != var2|\n",
        "|>|Evalua si el valor de operando de la izquierda es mayor que el de la derecha| var1 > var2|\n",
        "|<|Evalua si el valor de operando de la izquierda es menor que el de la derecha| var1 > var2|\n",
        "|>=|Evalua si el valor de operando de la izquierda es mayor o igual que el de la derecha| var1 >= var2|\n",
        "|<=|Evalua si el valor de operando de la izquierda es menor o igual que el de la derecha| var1 <= var2|"
      ]
    },
    {
      "cell_type": "code",
      "metadata": {
        "id": "CmBaIABY4VfG",
        "colab_type": "code",
        "outputId": "b952ec7c-21d8-4c15-8c65-cbad22cd8de1",
        "colab": {
          "base_uri": "https://localhost:8080/",
          "height": 158
        }
      },
      "source": [
        "var1 <- 6.7\n",
        "var2 <- -2.6\n",
        "cat(\"El valor de var1 es \",var1,fill=T)\n",
        "cat(\"El valor de var2 es \",var2,fill=T)\n",
        "cat(\"var1 == var2? \",var1 == var2,fill=T)\n",
        "cat(\"var1 != var2?\",var1 != var2,fill=T)\n",
        "cat(\"var1 > var2?\",var1 > var2,fill=T)\n",
        "cat(\"var1 < var2?\",var1 < var2,fill=T)\n",
        "cat(\"var1 >= var2?\",var1 >= var2,fill=T)\n",
        "cat(\"var1 <= var2?\",var1 <= var2,fill=T)"
      ],
      "execution_count": 0,
      "outputs": [
        {
          "output_type": "stream",
          "text": [
            "El valor de var1 es  6.7\n",
            "El valor de var2 es  -2.6\n",
            "var1 == var2?  FALSE\n",
            "var1 != var2? TRUE\n",
            "var1 > var2? TRUE\n",
            "var1 < var2? FALSE\n",
            "var1 >= var2? TRUE\n",
            "var1 <= var2? FALSE\n"
          ],
          "name": "stdout"
        }
      ]
    },
    {
      "cell_type": "markdown",
      "metadata": {
        "id": "8qeMPw_t5ksE",
        "colab_type": "text"
      },
      "source": [
        "## Operadores lógicos\n",
        "\n",
        "Este tipo de operadores permite comparar sentencias entre operandos y su resultado siempre es una variable logica. \n",
        "\n",
        "<font face=\"Verdana\">\n",
        "\n",
        "|Operador|Descripción|Ejemplo|\n",
        "|-|-|-|\n",
        "|&&|Evalua los operandos y sólo es verdadero cuando ambos son verdaderos| var1 && var2|\n",
        "|\\|\\||Evalua los operandos y sólo es falso cuando ambos son falsos| var1 \\|\\| var2|\n",
        "|&|Evalua los operandos elemento a elemento y sólo es verdadero cuando ambos son verdaderos| var1 & var2|\n",
        "|\\||Evalua los operandos elemento a elemento y sólo es falso cuando ambos son falsos| var1 \\| var2|\n",
        "|!|Negación del operando| !var1|"
      ]
    },
    {
      "cell_type": "code",
      "metadata": {
        "id": "wm36b11B6HO4",
        "colab_type": "code",
        "outputId": "c833b0fd-9a0c-42be-c7e2-de5976605014",
        "colab": {
          "base_uri": "https://localhost:8080/",
          "height": 105
        }
      },
      "source": [
        "value <- 5.0\n",
        "var1 <- value%%1 == 0\n",
        "var2 <- 0 <= value & value < 10\n",
        "var3 <- value%%2 != 0\n",
        "cat('¿Es un entero?', var1,fill=T)\n",
        "cat('¿Está entre [0,10)?',var2,fill=T)\n",
        "cat('¿No es divisible por 2?',var3,fill=T)\n",
        "cat('¿Es un digito?', var1 && var2,fill=T)\n",
        "cat('¿No es par?', !var1 || !var2,fill=T)"
      ],
      "execution_count": 0,
      "outputs": [
        {
          "output_type": "stream",
          "text": [
            "¿Es un entero? TRUE\n",
            "¿Está entre [0,10)? TRUE\n",
            "¿No es divisible por 2? TRUE\n",
            "¿Es un digito? TRUE\n",
            "¿No es par? FALSE\n"
          ],
          "name": "stdout"
        }
      ]
    },
    {
      "cell_type": "markdown",
      "metadata": {
        "id": "Ojz8r2XZ42S5",
        "colab_type": "text"
      },
      "source": [
        "## Operadores en vectores\n",
        "\n",
        "Los operadores anteriores también trabajan en vectores y son operaciones componente a componente. Cuando sean vectores de diferentes número de elementos, los elementos en el más corto se reciclan de manera cíclica para que coincida con la longitud del más largo.\n",
        "\n",
        "R emitirá una advertencia si la longitud del vector más largo no es un múltiplo integral del vector más corto.\n"
      ]
    },
    {
      "cell_type": "code",
      "metadata": {
        "id": "wFdepkkH5AtI",
        "colab_type": "code",
        "outputId": "e3e06921-eb85-468b-d854-e6e03ac47b5e",
        "colab": {
          "base_uri": "https://localhost:8080/",
          "height": 34
        }
      },
      "source": [
        "vector1 <- c(2,8,3)\n",
        "vector2 <- c(6,4,1)\n",
        "vector1*vector2"
      ],
      "execution_count": 0,
      "outputs": [
        {
          "output_type": "display_data",
          "data": {
            "text/plain": [
              "[1] 12 32  3"
            ],
            "text/latex": "\\begin{enumerate*}\n\\item 12\n\\item 32\n\\item 3\n\\end{enumerate*}\n",
            "text/markdown": "1. 12\n2. 32\n3. 3\n\n\n",
            "text/html": [
              "<style>\n",
              ".list-inline {list-style: none; margin:0; padding: 0}\n",
              ".list-inline>li {display: inline-block}\n",
              ".list-inline>li:not(:last-child)::after {content: \"\\00b7\"; padding: 0 .5ex}\n",
              "</style>\n",
              "<ol class=list-inline><li>12</li><li>32</li><li>3</li></ol>\n"
            ]
          },
          "metadata": {
            "tags": []
          }
        }
      ]
    },
    {
      "cell_type": "code",
      "metadata": {
        "id": "MTX6bSSM5G2w",
        "colab_type": "code",
        "outputId": "a190b5c2-f69f-41a9-c83e-5fb81b958e4e",
        "colab": {
          "base_uri": "https://localhost:8080/",
          "height": 34
        }
      },
      "source": [
        "vector1 < vector2"
      ],
      "execution_count": 0,
      "outputs": [
        {
          "output_type": "display_data",
          "data": {
            "text/plain": [
              "[1]  TRUE FALSE FALSE"
            ],
            "text/latex": "\\begin{enumerate*}\n\\item TRUE\n\\item FALSE\n\\item FALSE\n\\end{enumerate*}\n",
            "text/markdown": "1. TRUE\n2. FALSE\n3. FALSE\n\n\n",
            "text/html": [
              "<style>\n",
              ".list-inline {list-style: none; margin:0; padding: 0}\n",
              ".list-inline>li {display: inline-block}\n",
              ".list-inline>li:not(:last-child)::after {content: \"\\00b7\"; padding: 0 .5ex}\n",
              "</style>\n",
              "<ol class=list-inline><li>TRUE</li><li>FALSE</li><li>FALSE</li></ol>\n"
            ]
          },
          "metadata": {
            "tags": []
          }
        }
      ]
    },
    {
      "cell_type": "code",
      "metadata": {
        "id": "x_HLODNa5JxE",
        "colab_type": "code",
        "outputId": "7be4e44a-7555-4299-f45d-8eee5e62ea8c",
        "colab": {
          "base_uri": "https://localhost:8080/",
          "height": 69
        }
      },
      "source": [
        "vector3 <- 1:7\n",
        "vector1==vector3 #"
      ],
      "execution_count": 0,
      "outputs": [
        {
          "output_type": "stream",
          "text": [
            "Warning message in vector1 == vector3:\n",
            "“longer object length is not a multiple of shorter object length”\n"
          ],
          "name": "stderr"
        },
        {
          "output_type": "display_data",
          "data": {
            "text/plain": [
              "[1] FALSE FALSE  TRUE FALSE FALSE FALSE FALSE"
            ],
            "text/latex": "\\begin{enumerate*}\n\\item FALSE\n\\item FALSE\n\\item TRUE\n\\item FALSE\n\\item FALSE\n\\item FALSE\n\\item FALSE\n\\end{enumerate*}\n",
            "text/markdown": "1. FALSE\n2. FALSE\n3. TRUE\n4. FALSE\n5. FALSE\n6. FALSE\n7. FALSE\n\n\n",
            "text/html": [
              "<style>\n",
              ".list-inline {list-style: none; margin:0; padding: 0}\n",
              ".list-inline>li {display: inline-block}\n",
              ".list-inline>li:not(:last-child)::after {content: \"\\00b7\"; padding: 0 .5ex}\n",
              "</style>\n",
              "<ol class=list-inline><li>FALSE</li><li>FALSE</li><li>TRUE</li><li>FALSE</li><li>FALSE</li><li>FALSE</li><li>FALSE</li></ol>\n"
            ]
          },
          "metadata": {
            "tags": []
          }
        }
      ]
    },
    {
      "cell_type": "code",
      "metadata": {
        "id": "pluyY-Zr6ydb",
        "colab_type": "code",
        "outputId": "a876caed-aba1-44a8-c78c-7d2e0c169a4c",
        "colab": {
          "base_uri": "https://localhost:8080/",
          "height": 72
        }
      },
      "source": [
        "vector4 <- 1:30\n",
        "div2 <- vector4%%2==0\n",
        "div8 <- vector4%%8==0\n",
        "cat(\"Con el and logico:\",div2 && div8,fill=T) #Lo hace sobre el primero\n",
        "cat(\"Con el and elemento a elemento:\",div2 & div8)"
      ],
      "execution_count": 0,
      "outputs": [
        {
          "output_type": "stream",
          "text": [
            "Con el and logico: FALSE\n",
            "Con el and elemento a elemento: FALSE FALSE FALSE FALSE FALSE FALSE FALSE TRUE FALSE FALSE FALSE FALSE FALSE FALSE FALSE TRUE FALSE FALSE FALSE FALSE FALSE FALSE FALSE TRUE FALSE FALSE FALSE FALSE FALSE FALSE"
          ],
          "name": "stdout"
        }
      ]
    },
    {
      "cell_type": "markdown",
      "metadata": {
        "id": "jAxu81fl7q72",
        "colab_type": "text"
      },
      "source": [
        "## Ejercicios"
      ]
    },
    {
      "cell_type": "markdown",
      "metadata": {
        "id": "QDWnVbZK7s3W",
        "colab_type": "text"
      },
      "source": [
        "### Ejercicio 1\n",
        "\n",
        "Utilizando operadores determinar si un número es par o impar. \n",
        "\n"
      ]
    },
    {
      "cell_type": "code",
      "metadata": {
        "id": "mKj7f23e8HB9",
        "colab_type": "code",
        "cellView": "form",
        "outputId": "e1863328-eb0a-4cd6-92f4-12dcafd53fc1",
        "colab": {
          "base_uri": "https://localhost:8080/",
          "height": 70
        }
      },
      "source": [
        "#@title Solución **acá**\n",
        "num <-  9.9#@param {type:\"number\"}\n",
        "isInteger <- num%%1==0\n",
        "isDiv2 <- num%%2==0\n",
        "isPar <- isInteger && isDiv2\n",
        "isImpar <- isInteger && !isDiv2\n",
        "#cat(\"¿Es entero?\",isInteger,fill=T)\n",
        "#cat(\"¿Es par?\",isPar,fill=T)\n",
        "#cat(\"¿Es impar?\",isImpar,fill=T)"
      ],
      "execution_count": 0,
      "outputs": [
        {
          "output_type": "stream",
          "text": [
            "¿Es entero? FALSE\n",
            "¿Es par? FALSE\n",
            "¿Es impar? FALSE\n"
          ],
          "name": "stdout"
        }
      ]
    },
    {
      "cell_type": "markdown",
      "metadata": {
        "id": "XJYt1rA49o0c",
        "colab_type": "text"
      },
      "source": [
        "##Ejercicio 2\n",
        "\n",
        "Un año es bisiesto si es múltiplo de 4, exceptuando los múltiplos de 100, que sólo son bisiestos cuando son múltiplos además de 400, por ejemplo, el año 1900 no fue bisiesto, pero el año 2000 sí lo fue. Revisar el vector\n",
        "\n",
        "`years = c(1987,2000,1900,400,678,1432)`\n",
        "\n",
        "Y determinar cuales son bisiestos."
      ]
    },
    {
      "cell_type": "code",
      "metadata": {
        "id": "Unaq-85n-urg",
        "colab_type": "code",
        "colab": {}
      },
      "source": [
        "#@title Solución **acá**\n",
        "years <- c(1987,2000,1900,400,678,1432)\n",
        "mul4 = years%%4==0\n",
        "mul100 = years%%100==0\n",
        "mul400 = years%%400==0\n",
        "isBis = mul4 &  !mul100 | mul400\n",
        "#cat(years,fill=T)\n",
        "#cat(\"Es bisiesto?\",isBis)\n",
        "\n"
      ],
      "execution_count": 0,
      "outputs": []
    },
    {
      "cell_type": "markdown",
      "metadata": {
        "id": "506OP8rM_4xk",
        "colab_type": "text"
      },
      "source": [
        "##Ejercicio 3\n",
        "\n",
        "Usemos texto y trasformemolo de una lista a un vector de caracteres. Ahora compare el vector con cada valor\n",
        "`articulos = c('el','un','los','unos','la','una','las','unas')` y elimine estos valores."
      ]
    },
    {
      "cell_type": "code",
      "metadata": {
        "id": "1AkUfuA9BtK4",
        "colab_type": "code",
        "colab": {}
      },
      "source": [
        "texto <- \"la inteligencia artificial es el campo científico de la informática que se centra en la creación de programas y mecanismos \n",
        "que pueden mostrar comportamientos considerados inteligentes. en otras palabras, la ia es el concepto según el cual las máquinas piensan como seres humanos\""
      ],
      "execution_count": 0,
      "outputs": []
    },
    {
      "cell_type": "code",
      "metadata": {
        "id": "5V2gTTPP_8qy",
        "colab_type": "code",
        "cellView": "form",
        "colab": {}
      },
      "source": [
        "#@title Solución **acá**\n",
        "\n",
        "words <- unlist(strsplit(texto,\" \"))\n",
        "articulos <- c('el','un','los','unos','la','una','las','unas')\n",
        "cond1 = words!=articulos[1]\n",
        "cond2 = words!=articulos[2]\n",
        "cond3 = words!=articulos[3]\n",
        "cond4 = words!=articulos[4]\n",
        "cond5 = words!=articulos[5]\n",
        "cond6 = words!=articulos[6]\n",
        "cond7 = words!=articulos[7]\n",
        "cond8 = words!=articulos[8]\n",
        "#words[cond1 & cond2 & cond3 & cond4 & cond5 & cond6 & cond7 & cond8]"
      ],
      "execution_count": 0,
      "outputs": []
    },
    {
      "cell_type": "markdown",
      "metadata": {
        "id": "XNnxKlVMNmyv",
        "colab_type": "text"
      },
      "source": [
        "# Condicionales y ciclos.\n",
        "\n",
        "En el presente notebook se estudiarán los loops `for` y `while` del lenguaje de programación `R`.\n",
        "\n",
        "Por ejemplo, podemos tomar de un dataset de `R` los elementos de una columna que cumplan cierta condición. \n",
        "\n",
        "Supongamos que tenemos un dataset de peliculas, y una de las columnas corresponde al año en que se realizó la película. La sintaxís para determinar las entradas del dataset de peliculas posteriores al 2000, es de la siguiente forma:\n",
        "\n",
        "\n",
        "\n",
        "```\n",
        "if(movie_year>2000){\n",
        "  print('Películas realizadas después del 2000')\n",
        "} else {\n",
        "  print('Peliculas realizadas en el 2000 o antes')\n",
        "}\n",
        "```\n",
        "\n",
        "Los operadores lógicos, se usan para comparar dos valores y el resultado es un booleano que puede tener valores `TRUE` o `FALSE`.\n",
        "\n"
      ]
    },
    {
      "cell_type": "code",
      "metadata": {
        "id": "0JPmW6vfNdKD",
        "colab_type": "code",
        "outputId": "ee28007f-a8f0-4ccf-cc19-b4b86da51a89",
        "colab": {
          "base_uri": "https://localhost:8080/",
          "height": 34
        }
      },
      "source": [
        "1995>1933"
      ],
      "execution_count": 0,
      "outputs": [
        {
          "output_type": "display_data",
          "data": {
            "text/plain": [
              "[1] TRUE"
            ],
            "text/latex": "TRUE",
            "text/markdown": "TRUE",
            "text/html": [
              "TRUE"
            ]
          },
          "metadata": {
            "tags": []
          }
        }
      ]
    },
    {
      "cell_type": "code",
      "metadata": {
        "id": "X9lk0L1SQts7",
        "colab_type": "code",
        "outputId": "c49b1e0a-7f60-4bbb-c92a-6fa5b766eba0",
        "colab": {
          "base_uri": "https://localhost:8080/",
          "height": 34
        }
      },
      "source": [
        "1995<1933"
      ],
      "execution_count": 0,
      "outputs": [
        {
          "output_type": "display_data",
          "data": {
            "text/plain": [
              "[1] FALSE"
            ],
            "text/latex": "FALSE",
            "text/markdown": "FALSE",
            "text/html": [
              "FALSE"
            ]
          },
          "metadata": {
            "tags": []
          }
        }
      ]
    },
    {
      "cell_type": "code",
      "metadata": {
        "id": "2VJRUBuqQ1EF",
        "colab_type": "code",
        "outputId": "169d0b5f-373d-459e-af3b-e8824c860f7a",
        "colab": {
          "base_uri": "https://localhost:8080/",
          "height": 34
        }
      },
      "source": [
        "2016>=2015"
      ],
      "execution_count": 0,
      "outputs": [
        {
          "output_type": "display_data",
          "data": {
            "text/plain": [
              "[1] TRUE"
            ],
            "text/latex": "TRUE",
            "text/markdown": "TRUE",
            "text/html": [
              "TRUE"
            ]
          },
          "metadata": {
            "tags": []
          }
        }
      ]
    },
    {
      "cell_type": "code",
      "metadata": {
        "id": "ksJ5R-arQ6bG",
        "colab_type": "code",
        "outputId": "f78e32b6-99e7-42a0-ed36-0a86eba1c789",
        "colab": {
          "base_uri": "https://localhost:8080/",
          "height": 34
        }
      },
      "source": [
        "2016>=2016"
      ],
      "execution_count": 0,
      "outputs": [
        {
          "output_type": "display_data",
          "data": {
            "text/plain": [
              "[1] TRUE"
            ],
            "text/latex": "TRUE",
            "text/markdown": "TRUE",
            "text/html": [
              "TRUE"
            ]
          },
          "metadata": {
            "tags": []
          }
        }
      ]
    },
    {
      "cell_type": "markdown",
      "metadata": {
        "id": "1mAHxqucRDgP",
        "colab_type": "text"
      },
      "source": [
        "En `R`, aunque no es lo usual, un solo `=` es usado para asignar un valor a una variable. Para comparar si dos variables (valores) son iguales, debemos usar el doble igual, de la forma `==`"
      ]
    },
    {
      "cell_type": "code",
      "metadata": {
        "id": "05u0EDmOQ9xB",
        "colab_type": "code",
        "outputId": "91371067-ddfd-4319-a840-6e1b20f1161b",
        "colab": {
          "base_uri": "https://localhost:8080/",
          "height": 34
        }
      },
      "source": [
        "a=10\n",
        "b=100\n",
        "a==b"
      ],
      "execution_count": 0,
      "outputs": [
        {
          "output_type": "display_data",
          "data": {
            "text/plain": [
              "[1] FALSE"
            ],
            "text/latex": "FALSE",
            "text/markdown": "FALSE",
            "text/html": [
              "FALSE"
            ]
          },
          "metadata": {
            "tags": []
          }
        }
      ]
    },
    {
      "cell_type": "markdown",
      "metadata": {
        "id": "QxJA_IuvRhNN",
        "colab_type": "text"
      },
      "source": [
        "Para ver si no son iguales, entonces usamos la negación del igual `!=`"
      ]
    },
    {
      "cell_type": "code",
      "metadata": {
        "id": "Lwz3XApqRat9",
        "colab_type": "code",
        "outputId": "ba96e436-73e7-4603-e701-70cab5764c31",
        "colab": {
          "base_uri": "https://localhost:8080/",
          "height": 34
        }
      },
      "source": [
        "a!=b"
      ],
      "execution_count": 0,
      "outputs": [
        {
          "output_type": "display_data",
          "data": {
            "text/plain": [
              "[1] TRUE"
            ],
            "text/latex": "TRUE",
            "text/markdown": "TRUE",
            "text/html": [
              "TRUE"
            ]
          },
          "metadata": {
            "tags": []
          }
        }
      ]
    },
    {
      "cell_type": "markdown",
      "metadata": {
        "id": "LveSekzSRsr9",
        "colab_type": "text"
      },
      "source": [
        "A su vez, podemos combinar varios condicionales de forma conjunta:"
      ]
    },
    {
      "cell_type": "code",
      "metadata": {
        "id": "rw9akgLNRo_X",
        "colab_type": "code",
        "outputId": "c7a0d3dd-43b8-4060-df4f-f69e88860290",
        "colab": {
          "base_uri": "https://localhost:8080/",
          "height": 34
        }
      },
      "source": [
        "\"Hola\" == \"Hola\" & 1995>1990"
      ],
      "execution_count": 0,
      "outputs": [
        {
          "output_type": "display_data",
          "data": {
            "text/plain": [
              "[1] TRUE"
            ],
            "text/latex": "TRUE",
            "text/markdown": "TRUE",
            "text/html": [
              "TRUE"
            ]
          },
          "metadata": {
            "tags": []
          }
        }
      ]
    },
    {
      "cell_type": "markdown",
      "metadata": {
        "id": "9CR2LF55SAkI",
        "colab_type": "text"
      },
      "source": [
        "Que es lo mismo que:"
      ]
    },
    {
      "cell_type": "code",
      "metadata": {
        "id": "VGrDK71dR8Oo",
        "colab_type": "code",
        "outputId": "16d81e97-7d72-4a19-d985-ba59a8b1d3da",
        "colab": {
          "base_uri": "https://localhost:8080/",
          "height": 34
        }
      },
      "source": [
        "(\"Hola\" == \"Hola\") & (1995>1990)"
      ],
      "execution_count": 0,
      "outputs": [
        {
          "output_type": "display_data",
          "data": {
            "text/plain": [
              "[1] TRUE"
            ],
            "text/latex": "TRUE",
            "text/markdown": "TRUE",
            "text/html": [
              "TRUE"
            ]
          },
          "metadata": {
            "tags": []
          }
        }
      ]
    },
    {
      "cell_type": "markdown",
      "metadata": {
        "id": "llQ43PDDSTLP",
        "colab_type": "text"
      },
      "source": [
        "Los operadores lógicos en `R` son los siguientes:\n",
        "\n",
        "Operador| Significado\n",
        "--- | ---\n",
        "== | Es igual?\n",
        "!= | No es igual?\n",
        "> | Mayor a?\n",
        "< | Menor a?\n",
        ">= | Mayor igual a?\n",
        "<= | Menor igual a?\n",
        "& | y\n",
        "\\| | O\n",
        "! | No\n",
        "%in% | Se encuentra en?\n",
        "\n",
        "Todos ellos devuelven un booleano."
      ]
    },
    {
      "cell_type": "markdown",
      "metadata": {
        "id": "XLC7TPoFUXw2",
        "colab_type": "text"
      },
      "source": [
        "Un ciclo `for` puede usarse para recorrer todos los elementos de un vector, en orden. En cada iteración, podemos acceder a cada elemento. Veamos esto:"
      ]
    },
    {
      "cell_type": "code",
      "metadata": {
        "id": "uxQjQBAoSFa3",
        "colab_type": "code",
        "outputId": "ef8bfb0b-afbc-4305-8231-aa7565ed1e14",
        "colab": {
          "base_uri": "https://localhost:8080/",
          "height": 122
        }
      },
      "source": [
        "years <- c(1995, 1998, 1985, 2011, 1936, 1999)\n",
        "\n",
        "for (yr in years){\n",
        "  print(yr)\n",
        "}"
      ],
      "execution_count": 0,
      "outputs": [
        {
          "output_type": "stream",
          "text": [
            "[1] 1995\n",
            "[1] 1998\n",
            "[1] 1985\n",
            "[1] 2011\n",
            "[1] 1936\n",
            "[1] 1999\n"
          ],
          "name": "stdout"
        }
      ]
    },
    {
      "cell_type": "markdown",
      "metadata": {
        "id": "Aq2Bxxt1VHn1",
        "colab_type": "text"
      },
      "source": [
        "Podemos combinar el loop `for` con los condicionales para filtrar los datos:"
      ]
    },
    {
      "cell_type": "code",
      "metadata": {
        "id": "f0xrce_eU6xa",
        "colab_type": "code",
        "outputId": "c7685926-8016-49ca-92b0-bcf521fb6741",
        "colab": {
          "base_uri": "https://localhost:8080/",
          "height": 122
        }
      },
      "source": [
        "for (yr in years){\n",
        "  if(yr<1980){\n",
        "    print(\"Película vieja\")\n",
        "  } else {\n",
        "    print(\"Película no tan vieja\")\n",
        "  }\n",
        "}"
      ],
      "execution_count": 0,
      "outputs": [
        {
          "output_type": "stream",
          "text": [
            "[1] \"Película no tan vieja\"\n",
            "[1] \"Película no tan vieja\"\n",
            "[1] \"Película no tan vieja\"\n",
            "[1] \"Película no tan vieja\"\n",
            "[1] \"Película vieja\"\n",
            "[1] \"Película no tan vieja\"\n"
          ],
          "name": "stdout"
        }
      ]
    },
    {
      "cell_type": "markdown",
      "metadata": {
        "id": "rsSbIpgtVpR6",
        "colab_type": "text"
      },
      "source": [
        "Por otra parte, un ciclo `while` funciona un poco diferente al ciclo `for`, ya que el primero se ejecutará hasta que se deje de cumplir la condición que se evalua en cada iteración:"
      ]
    },
    {
      "cell_type": "code",
      "metadata": {
        "id": "OP2MnXztVhcJ",
        "colab_type": "code",
        "outputId": "a4b11beb-e507-43d1-eec7-5d7faf80028a",
        "colab": {
          "base_uri": "https://localhost:8080/",
          "height": 105
        }
      },
      "source": [
        "count <- 1\n",
        "\n",
        "while(count <= 5){\n",
        "  print(c(\"Número de iteración: \", count))\n",
        "  count <- count + 1\n",
        "}"
      ],
      "execution_count": 0,
      "outputs": [
        {
          "output_type": "stream",
          "text": [
            "[1] \"Número de iteración: \" \"1\"                    \n",
            "[1] \"Número de iteración: \" \"2\"                    \n",
            "[1] \"Número de iteración: \" \"3\"                    \n",
            "[1] \"Número de iteración: \" \"4\"                    \n",
            "[1] \"Número de iteración: \" \"5\"                    \n"
          ],
          "name": "stdout"
        }
      ]
    },
    {
      "cell_type": "markdown",
      "metadata": {
        "id": "39Xg6vozWQfh",
        "colab_type": "text"
      },
      "source": [
        "La condición dentro del paréntesis `(count <= 5)` se deja de cumplir cuando `count=6`."
      ]
    },
    {
      "cell_type": "markdown",
      "metadata": {
        "id": "RyRJd6HLcAJA",
        "colab_type": "text"
      },
      "source": [
        "# Funciones en `R`:\n",
        "\n",
        "En esta sección estudiaremos como emplear las funciones en el lenguaje de programación `R`.\n",
        "\n",
        "Una función es un bloque de código que puede ser reutilizada en diferentes partes de un programa. \n",
        "\n",
        "De forma general, las funciones pueden ser divididas en dos grupos como:\n",
        "\n",
        "- Funciones predefinidas: Este tipo de funciones se encuentra definidas en R por defecto, o en módulos externos, y pueden ser empleadas directamente por el usuario. Las funciones predefinidas se pueden dividir en los siguientes grupos:\n",
        "\n",
        " - Funciones matetmáticas.\n",
        " - Funciones `string`\n",
        " - Funciones de distribuciones estadísticas \n",
        " - Otra funciones estadísticas.\n",
        "\n",
        "- Y funciones definidas por el usuario: Este tipo de funciones son aquellas definidas por un programador en `R`.\n",
        "\n",
        "Veamos como usar y programar los tipos de funciones antes mencionadas.\n",
        "\n"
      ]
    },
    {
      "cell_type": "markdown",
      "metadata": {
        "id": "4DurfwBuUWQ4",
        "colab_type": "text"
      },
      "source": [
        "## **Funciones predefinicas en `R`**"
      ]
    },
    {
      "cell_type": "markdown",
      "metadata": {
        "id": "fpfjwoS1VJOl",
        "colab_type": "text"
      },
      "source": [
        "### **Funciones matemáticas**\n",
        "\n",
        "Se verán algunas de las funciones matemáticas predefinidas en `R`. La mayoría de ellas admiten sobrecarga de los métodos, es decir, que pueden actuar sobre diferentes tipos. Vemos esto."
      ]
    },
    {
      "cell_type": "markdown",
      "metadata": {
        "id": "Z5fIjQegYffx",
        "colab_type": "text"
      },
      "source": [
        "**Función valor absoluto**\n",
        "\n",
        "Dicha función toma el valor absoluto del argumento que reciba:"
      ]
    },
    {
      "cell_type": "code",
      "metadata": {
        "id": "Zn4eqJgKWGQ4",
        "colab_type": "code",
        "outputId": "3682b08d-1b32-4761-9c18-5d2e2d4f1fea",
        "colab": {
          "base_uri": "https://localhost:8080/",
          "height": 34
        }
      },
      "source": [
        "# Un número\n",
        "x <- -4.3\n",
        "\n",
        "abs(x)"
      ],
      "execution_count": 0,
      "outputs": [
        {
          "output_type": "display_data",
          "data": {
            "text/plain": [
              "[1] 4.3"
            ],
            "text/latex": "4.3",
            "text/markdown": "4.3",
            "text/html": [
              "4.3"
            ]
          },
          "metadata": {
            "tags": []
          }
        }
      ]
    },
    {
      "cell_type": "code",
      "metadata": {
        "id": "B3CTRLesVSLG",
        "colab_type": "code",
        "outputId": "116cb6ce-4172-4891-f773-025fb3c69663",
        "colab": {
          "base_uri": "https://localhost:8080/",
          "height": 34
        }
      },
      "source": [
        "# Un vector\n",
        "x_vector <- c(-1,1,-2,2,-3,3)\n",
        "abs(x_vector)"
      ],
      "execution_count": 0,
      "outputs": [
        {
          "output_type": "display_data",
          "data": {
            "text/plain": [
              "[1] 1 1 2 2 3 3"
            ],
            "text/latex": "\\begin{enumerate*}\n\\item 1\n\\item 1\n\\item 2\n\\item 2\n\\item 3\n\\item 3\n\\end{enumerate*}\n",
            "text/markdown": "1. 1\n2. 1\n3. 2\n4. 2\n5. 3\n6. 3\n\n\n",
            "text/html": [
              "<style>\n",
              ".list-inline {list-style: none; margin:0; padding: 0}\n",
              ".list-inline>li {display: inline-block}\n",
              ".list-inline>li:not(:last-child)::after {content: \"\\00b7\"; padding: 0 .5ex}\n",
              "</style>\n",
              "<ol class=list-inline><li>1</li><li>1</li><li>2</li><li>2</li><li>3</li><li>3</li></ol>\n"
            ]
          },
          "metadata": {
            "tags": []
          }
        }
      ]
    },
    {
      "cell_type": "code",
      "metadata": {
        "id": "m_e0NykhVfML",
        "colab_type": "code",
        "outputId": "5cd3ce64-6396-4430-8d66-4c110aed8728",
        "colab": {
          "base_uri": "https://localhost:8080/",
          "height": 146
        }
      },
      "source": [
        "#Un array.\n",
        "\n",
        "x_vector1 <- c(-1,1,-2,2,-3,3)\n",
        "x_vector2 <- c(-4,4,-5,5,-6,6)\n",
        "\n",
        "x_array <- array(c(x_vector1,x_vector2), dim = c(3,4))\n",
        "abs(x_array)\n"
      ],
      "execution_count": 0,
      "outputs": [
        {
          "output_type": "display_data",
          "data": {
            "text/plain": [
              "     [,1] [,2] [,3] [,4]\n",
              "[1,] 1    2    4    5   \n",
              "[2,] 1    3    4    6   \n",
              "[3,] 2    3    5    6   "
            ],
            "text/latex": "A matrix: 3 × 4 of type dbl\n\\begin{tabular}{llll}\n\t 1 & 2 & 4 & 5\\\\\n\t 1 & 3 & 4 & 6\\\\\n\t 2 & 3 & 5 & 6\\\\\n\\end{tabular}\n",
            "text/markdown": "\nA matrix: 3 × 4 of type dbl\n\n| 1 | 2 | 4 | 5 |\n| 1 | 3 | 4 | 6 |\n| 2 | 3 | 5 | 6 |\n\n",
            "text/html": [
              "<table>\n",
              "<caption>A matrix: 3 × 4 of type dbl</caption>\n",
              "<tbody>\n",
              "\t<tr><td>1</td><td>2</td><td>4</td><td>5</td></tr>\n",
              "\t<tr><td>1</td><td>3</td><td>4</td><td>6</td></tr>\n",
              "\t<tr><td>2</td><td>3</td><td>5</td><td>6</td></tr>\n",
              "</tbody>\n",
              "</table>\n"
            ]
          },
          "metadata": {
            "tags": []
          }
        }
      ]
    },
    {
      "cell_type": "markdown",
      "metadata": {
        "id": "zZOhHryqZRqW",
        "colab_type": "text"
      },
      "source": [
        "**Función ceiling**\n",
        "\n",
        "Realiza un redondeo hacia arriba del argumento que se pase."
      ]
    },
    {
      "cell_type": "code",
      "metadata": {
        "id": "GYX15liTWccg",
        "colab_type": "code",
        "outputId": "71e53d03-d264-4314-ea35-85bae43da569",
        "colab": {
          "base_uri": "https://localhost:8080/",
          "height": 34
        }
      },
      "source": [
        "x <- 0.3333\n",
        "ceiling(x)"
      ],
      "execution_count": 0,
      "outputs": [
        {
          "output_type": "display_data",
          "data": {
            "text/plain": [
              "[1] 1"
            ],
            "text/latex": "1",
            "text/markdown": "1",
            "text/html": [
              "1"
            ]
          },
          "metadata": {
            "tags": []
          }
        }
      ]
    },
    {
      "cell_type": "code",
      "metadata": {
        "id": "7vEFVx-sZeRp",
        "colab_type": "code",
        "outputId": "e82deb05-586e-4928-f132-b00bf06ecf66",
        "colab": {
          "base_uri": "https://localhost:8080/",
          "height": 34
        }
      },
      "source": [
        "x <- -2.4555\n",
        "ceiling(x)"
      ],
      "execution_count": 0,
      "outputs": [
        {
          "output_type": "display_data",
          "data": {
            "text/plain": [
              "[1] -2"
            ],
            "text/latex": "-2",
            "text/markdown": "-2",
            "text/html": [
              "-2"
            ]
          },
          "metadata": {
            "tags": []
          }
        }
      ]
    },
    {
      "cell_type": "markdown",
      "metadata": {
        "id": "2uJP5MBwZ23c",
        "colab_type": "text"
      },
      "source": [
        "**Función floor**\n",
        "\n",
        "Realiza un redondeo hacia abajo del argumento que se pase."
      ]
    },
    {
      "cell_type": "code",
      "metadata": {
        "id": "dUAE-MzlZn_N",
        "colab_type": "code",
        "outputId": "45bae096-5bac-4c19-b05e-5eba34556727",
        "colab": {
          "base_uri": "https://localhost:8080/",
          "height": 34
        }
      },
      "source": [
        "x <- 2.999\n",
        "floor(x)"
      ],
      "execution_count": 0,
      "outputs": [
        {
          "output_type": "display_data",
          "data": {
            "text/plain": [
              "[1] 2"
            ],
            "text/latex": "2",
            "text/markdown": "2",
            "text/html": [
              "2"
            ]
          },
          "metadata": {
            "tags": []
          }
        }
      ]
    },
    {
      "cell_type": "code",
      "metadata": {
        "id": "RiWVO30uaRVw",
        "colab_type": "code",
        "outputId": "a8435c7d-9c44-4c83-f41a-7d39cfaa85ec",
        "colab": {
          "base_uri": "https://localhost:8080/",
          "height": 34
        }
      },
      "source": [
        "x <- -3.1 \n",
        "floor(x)"
      ],
      "execution_count": 0,
      "outputs": [
        {
          "output_type": "display_data",
          "data": {
            "text/plain": [
              "[1] -4"
            ],
            "text/latex": "-4",
            "text/markdown": "-4",
            "text/html": [
              "-4"
            ]
          },
          "metadata": {
            "tags": []
          }
        }
      ]
    },
    {
      "cell_type": "markdown",
      "metadata": {
        "id": "eCsWo_SZagCh",
        "colab_type": "text"
      },
      "source": [
        "**Función round**\n",
        "\n",
        "Realiza un redondeo entero del argumento que se pase."
      ]
    },
    {
      "cell_type": "code",
      "metadata": {
        "id": "vRIw0XVZaVwV",
        "colab_type": "code",
        "outputId": "3ad0360d-501b-478d-80f7-4a609fc6230d",
        "colab": {
          "base_uri": "https://localhost:8080/",
          "height": 34
        }
      },
      "source": [
        "x <- 2.545\n",
        "\n",
        "round(x)"
      ],
      "execution_count": 0,
      "outputs": [
        {
          "output_type": "display_data",
          "data": {
            "text/plain": [
              "[1] 3"
            ],
            "text/latex": "3",
            "text/markdown": "3",
            "text/html": [
              "3"
            ]
          },
          "metadata": {
            "tags": []
          }
        }
      ]
    },
    {
      "cell_type": "code",
      "metadata": {
        "id": "SEbR39d3ay6S",
        "colab_type": "code",
        "outputId": "7114c466-2136-4061-8c44-9a2955bd4498",
        "colab": {
          "base_uri": "https://localhost:8080/",
          "height": 34
        }
      },
      "source": [
        "x <- -2.565\n",
        "\n",
        "round(x)"
      ],
      "execution_count": 0,
      "outputs": [
        {
          "output_type": "display_data",
          "data": {
            "text/plain": [
              "[1] -3"
            ],
            "text/latex": "-3",
            "text/markdown": "-3",
            "text/html": [
              "-3"
            ]
          },
          "metadata": {
            "tags": []
          }
        }
      ]
    },
    {
      "cell_type": "markdown",
      "metadata": {
        "id": "GY5qL2G5a-1r",
        "colab_type": "text"
      },
      "source": [
        "**Otra funciones matemáticas predefinidas**\n",
        "\n",
        "Además de las funciones anteriores se tienen funciones como \n",
        "\n",
        "Función| Significado | Ejemplo\n",
        "--- | --- | ---\n",
        "`sqrt(x)` | Devuelve la raíz cuadrada de x | `sqrt(4) >> 2` \n",
        "`trunc(x)` | Devuelve el valor truncado de x | `trunc(2.9) >> 2`\n",
        "`cos(x), sin(x), tan(x)\t` | Devuelve el los valores de `sin(x)`, `cox(x)` y `tan(x)` | `tan(1) >> 1.56`\n",
        "`log(x)` | devuelve el logaritmo natural de `x` | `log(exp(1)) >> 1`\n",
        "`log10(x)` |Devuelve el logaritmo en base 10 de x | `log10(10) >> 1`\n",
        "`exp(x)` | Devuelve el exponente| `exp(1) >> 2.72`"
      ]
    },
    {
      "cell_type": "markdown",
      "metadata": {
        "id": "KC1qN2RreEz7",
        "colab_type": "text"
      },
      "source": [
        "**Ejercicio:** Defina un vector de 10 elementos de numeros en coma flotante entre 0 y 5. Tome la función seno de cada uno de ellos y redondee el resultado. "
      ]
    },
    {
      "cell_type": "markdown",
      "metadata": {
        "id": "5X07Lb03eewM",
        "colab_type": "text"
      },
      "source": [
        "### **Funciones `string`**\n",
        "\n",
        "`R` proporciona varias funciones predefinidas que actuan sobre `strings`, las cuales se encargan de producir nuevos strings con operaciones sobre los originales.\n",
        "\n",
        "Veamos algunas de ellas.\n"
      ]
    },
    {
      "cell_type": "markdown",
      "metadata": {
        "id": "ugkfzLr2fM_5",
        "colab_type": "text"
      },
      "source": [
        "**Función `substr`**\n",
        "\n",
        "Esta función es usada para estraer un substring de un vector de caracteres:"
      ]
    },
    {
      "cell_type": "code",
      "metadata": {
        "id": "bxedL9eReU_P",
        "colab_type": "code",
        "outputId": "95be07c1-7893-4c75-875f-393f1af37bae",
        "colab": {
          "base_uri": "https://localhost:8080/",
          "height": 34
        }
      },
      "source": [
        "x <- \"abcdefghijklmnopqrstuvxyz\"\n",
        "\n",
        "substr(x, start=1, stop=10)"
      ],
      "execution_count": 0,
      "outputs": [
        {
          "output_type": "display_data",
          "data": {
            "text/plain": [
              "[1] \"abcdefghij\""
            ],
            "text/latex": "'abcdefghij'",
            "text/markdown": "'abcdefghij'",
            "text/html": [
              "'abcdefghij'"
            ]
          },
          "metadata": {
            "tags": []
          }
        }
      ]
    },
    {
      "cell_type": "markdown",
      "metadata": {
        "id": "fR5QKbehf5lT",
        "colab_type": "text"
      },
      "source": [
        "**Función `grep`**\n",
        "\n",
        "Esta función se encarga de buscar un patrón en un input x."
      ]
    },
    {
      "cell_type": "code",
      "metadata": {
        "id": "fJn8cya9fnpc",
        "colab_type": "code",
        "outputId": "27b6ca22-6d4f-48d0-ff13-fa04cc24915b",
        "colab": {
          "base_uri": "https://localhost:8080/",
          "height": 34
        }
      },
      "source": [
        "strA <- c('Juliana','Roxana','Viviana','Eva')\n",
        "\n",
        "pattern <- 'ana'\n",
        "\n",
        "grep(pattern, strA)"
      ],
      "execution_count": 0,
      "outputs": [
        {
          "output_type": "display_data",
          "data": {
            "text/plain": [
              "[1] 1 2 3"
            ],
            "text/latex": "\\begin{enumerate*}\n\\item 1\n\\item 2\n\\item 3\n\\end{enumerate*}\n",
            "text/markdown": "1. 1\n2. 2\n3. 3\n\n\n",
            "text/html": [
              "<style>\n",
              ".list-inline {list-style: none; margin:0; padding: 0}\n",
              ".list-inline>li {display: inline-block}\n",
              ".list-inline>li:not(:last-child)::after {content: \"\\00b7\"; padding: 0 .5ex}\n",
              "</style>\n",
              "<ol class=list-inline><li>1</li><li>2</li><li>3</li></ol>\n"
            ]
          },
          "metadata": {
            "tags": []
          }
        }
      ]
    },
    {
      "cell_type": "markdown",
      "metadata": {
        "id": "sK5mI17uhE1v",
        "colab_type": "text"
      },
      "source": [
        "**Función `sub`**\n",
        "\n",
        "Esta función encuentra un patrón en `x` y lo remplaza por un nuevo string que definamos"
      ]
    },
    {
      "cell_type": "code",
      "metadata": {
        "id": "rUR1xJ8mgi14",
        "colab_type": "code",
        "outputId": "c8fc8f42-7c51-4d96-fc04-882b83f6d04c",
        "colab": {
          "base_uri": "https://localhost:8080/",
          "height": 34
        }
      },
      "source": [
        "strA <- \"Locombia es un pais fallido\"\n",
        "strR <- \"Colombia\"\n",
        "\n",
        "sub(\"Locombia\", strR, strA)"
      ],
      "execution_count": 0,
      "outputs": [
        {
          "output_type": "display_data",
          "data": {
            "text/plain": [
              "[1] \"Colombia es un pais fallido\""
            ],
            "text/latex": "'Colombia es un pais fallido'",
            "text/markdown": "'Colombia es un pais fallido'",
            "text/html": [
              "'Colombia es un pais fallido'"
            ]
          },
          "metadata": {
            "tags": []
          }
        }
      ]
    },
    {
      "cell_type": "markdown",
      "metadata": {
        "id": "795KN4kvi_CW",
        "colab_type": "text"
      },
      "source": [
        "**Función `strsplit(x,split)`**\n",
        "\n",
        "Con esta función nos podemos encargar de separar un string mediante el separador indicado."
      ]
    },
    {
      "cell_type": "code",
      "metadata": {
        "id": "7WEluZHjieux",
        "colab_type": "code",
        "outputId": "0724d56f-ba0f-4379-ec21-cbba0b63125a",
        "colab": {
          "base_uri": "https://localhost:8080/",
          "height": 62
        }
      },
      "source": [
        "strA <- \"4,3,5,67,80\"\n",
        "\n",
        "strsplit(strA, ',')\n"
      ],
      "execution_count": 0,
      "outputs": [
        {
          "output_type": "display_data",
          "data": {
            "text/plain": [
              "[[1]]\n",
              "[1] \"4\"  \"3\"  \"5\"  \"67\" \"80\"\n"
            ],
            "text/latex": "\\begin{enumerate}\n\\item \\begin{enumerate*}\n\\item '4'\n\\item '3'\n\\item '5'\n\\item '67'\n\\item '80'\n\\end{enumerate*}\n\n\\end{enumerate}\n",
            "text/markdown": "1. 1. '4'\n2. '3'\n3. '5'\n4. '67'\n5. '80'\n\n\n\n\n\n",
            "text/html": [
              "<ol>\n",
              "\t<li><style>\n",
              ".list-inline {list-style: none; margin:0; padding: 0}\n",
              ".list-inline>li {display: inline-block}\n",
              ".list-inline>li:not(:last-child)::after {content: \"\\00b7\"; padding: 0 .5ex}\n",
              "</style>\n",
              "<ol class=list-inline><li>'4'</li><li>'3'</li><li>'5'</li><li>'67'</li><li>'80'</li></ol>\n",
              "</li>\n",
              "</ol>\n"
            ]
          },
          "metadata": {
            "tags": []
          }
        }
      ]
    },
    {
      "cell_type": "markdown",
      "metadata": {
        "id": "q5pBc-eSjqjf",
        "colab_type": "text"
      },
      "source": [
        "**Otras funciones string predefinidas**\n",
        "\n",
        "En la siguiente tabla se definen algunas funciones más que actúan sobre strings:\n",
        "\n",
        "\n",
        "\n",
        "Función| Significado | Ejemplo\n",
        "--- | --- | ---\n",
        "`paste(..., sep=\"\")\t` | Concatena strings después de usar `sep` | `paste('one',2,'three',4,'five') >> one 2 three 4 five` \n",
        "`tolower(x)` | Convierte el string en letra minúscula | `tolower(\"AABBcc\") >> aabbcc`\n",
        "`toupper(x)` | Convierte el string a letras mayúsculas | `toupper(\"aabbcc\") >> AABBCC`"
      ]
    },
    {
      "cell_type": "markdown",
      "metadata": {
        "id": "y_cKEOgsmBGp",
        "colab_type": "text"
      },
      "source": [
        "### **Funciones estadísticas de probabilidad**\n",
        "\n",
        "`R` es un lenguaje especializado en estadística, por tal motivo, nos brinda varias funciones predefinidas para realizar tareas estadíticas. Estas funciones resultan útiles a la hora de encuentrar densidades, cuartiles, etc, y están asociadas a un tipo de distribución:\n",
        "\n",
        "- Beta `beta`\n",
        "- Binomial `binom`\n",
        "- Cauchy `cauchy`\n",
        "- Chi-Square `pchiq`\n",
        "- Exponential `pexp`\n",
        "- F `pf`\n",
        "- Gamma `pgamma`\n",
        "- Geometric `pgeom`\n",
        "- Hypergeometric `phyper`\n",
        "- Logistic `plogis`\n",
        "- Log Normal `plnorm`\n",
        "- Negative Binomial `pnbinom`\n",
        "- Normal `pnorm`\n",
        "- Poisson `ppois`\n",
        "- Studen t `pt`\n",
        "- Studentized Range `ptukey`\n",
        "- Uniforme `puniform`\n",
        "- Weibull `pweibull`\n",
        "- Wilconxon Rank Sum Statistic `pwilcox`\n",
        "- Wilcoxon signed Rank Statistic `psignrank`\n",
        "\n",
        "\n",
        "Cada una de estas funciones puede acompañada de alguno de los siguientes letras como prefijo, las cuales indican un resultado de la función diferente:\n",
        "\n",
        "\n",
        "- p: \"Probabilidad\", que corresponde a la función cumulativa.\n",
        "- q: \"Cuantil\", inverso de la función cumulativa.\n",
        "- d: \"Densidad\", función densidad de probabilidad (pdf) \n",
        "- r: \"Random\", variable aleatoria con siguiendo una densidad de probabilidad dada.\n",
        "\n",
        "\n",
        "A continuación veremos un par de ejemplos, relacionados a una distribución normal. Aquellas personas interesadas en más distribuciones predefinidas puede remitirse a este [link](https://www.stat.umn.edu/geyer/old/5101/rlook.html)."
      ]
    },
    {
      "cell_type": "markdown",
      "metadata": {
        "id": "jtTBJA-Lb71B",
        "colab_type": "text"
      },
      "source": [
        "**Función `dnorm`**\n",
        "\n",
        "Esta función se usa para determinar distribuciones de probabilidades normales, dado un valor medio y una desviación estándar."
      ]
    },
    {
      "cell_type": "code",
      "metadata": {
        "id": "eCr9O_g3lfSv",
        "colab_type": "code",
        "outputId": "4484385d-8fb2-42ed-cc05-eae84f817d37",
        "colab": {
          "base_uri": "https://localhost:8080/",
          "height": 454
        }
      },
      "source": [
        "a <- seq(-7, 7, by=0.1)\n",
        "b <- dnorm(a, mean=2.5, sd=0.5)\n",
        "plot(a,b)\n",
        "dev.off()"
      ],
      "execution_count": 0,
      "outputs": [
        {
          "output_type": "display_data",
          "data": {
            "text/plain": [
              "null device \n",
              "          1 "
            ],
            "text/latex": "\\textbf{null device:} 1",
            "text/markdown": "**null device:** 1",
            "text/html": [
              "<strong>null device:</strong> 1"
            ]
          },
          "metadata": {
            "tags": []
          }
        },
        {
          "output_type": "display_data",
          "data": {
            "image/png": "[encoded data removed]",
            "text/plain": [
              "plot without title"
            ]
          },
          "metadata": {
            "tags": [],
            "image/png": {
              "width": 420,
              "height": 420
            },
            "text/plain": {
              "width": 420,
              "height": 420
            }
          }
        }
      ]
    },
    {
      "cell_type": "markdown",
      "metadata": {
        "id": "TgxYoqJKv_zr",
        "colab_type": "text"
      },
      "source": [
        "**Función `pnorm`**"
      ]
    },
    {
      "cell_type": "markdown",
      "metadata": {
        "id": "2nk2XSyuhb7D",
        "colab_type": "text"
      },
      "source": [
        "En `R`, `pnorm` representa una fucnión que computa la función cumulativa:\n",
        "\n",
        "$F(x) = P(X <= x)$\n",
        "\n",
        "en donde la variable $X$ sigue una distribución normal."
      ]
    },
    {
      "cell_type": "code",
      "metadata": {
        "id": "GsIUly4Gm6kd",
        "colab_type": "code",
        "outputId": "61a4114e-981b-44f6-aa58-a5ec2a600987",
        "colab": {
          "base_uri": "https://localhost:8080/",
          "height": 454
        }
      },
      "source": [
        "a <- seq(-7, 7, by=0.2)\n",
        "b <- pnorm(a, mean=0, sd=2)\n",
        "plot(a,b)\n",
        "dev.off()"
      ],
      "execution_count": 0,
      "outputs": [
        {
          "output_type": "display_data",
          "data": {
            "text/plain": [
              "null device \n",
              "          1 "
            ],
            "text/latex": "\\textbf{null device:} 1",
            "text/markdown": "**null device:** 1",
            "text/html": [
              "<strong>null device:</strong> 1"
            ]
          },
          "metadata": {
            "tags": []
          }
        },
        {
          "output_type": "display_data",
          "data": {
            "image/png": "[encoded data removed]",
            "text/plain": [
              "plot without title"
            ]
          },
          "metadata": {
            "tags": [],
            "image/png": {
              "width": 420,
              "height": 420
            },
            "text/plain": {
              "width": 420,
              "height": 420
            }
          }
        }
      ]
    },
    {
      "cell_type": "code",
      "metadata": {
        "id": "ykxom6WFgpbb",
        "colab_type": "code",
        "outputId": "a559105c-d98c-496c-ae29-7a6c94c90894",
        "colab": {
          "base_uri": "https://localhost:8080/",
          "height": 454
        }
      },
      "source": [
        "a<-seq(0, 40, by=1)\n",
        "b<- dbinom(a, 40, 0.5)\n",
        "plot(a,b)\n",
        "dev.off()"
      ],
      "execution_count": 0,
      "outputs": [
        {
          "output_type": "display_data",
          "data": {
            "text/plain": [
              "null device \n",
              "          1 "
            ],
            "text/latex": "\\textbf{null device:} 1",
            "text/markdown": "**null device:** 1",
            "text/html": [
              "<strong>null device:</strong> 1"
            ]
          },
          "metadata": {
            "tags": []
          }
        },
        {
          "output_type": "display_data",
          "data": {
            "image/png": "[encoded data removed]",
            "text/plain": [
              "plot without title"
            ]
          },
          "metadata": {
            "tags": [],
            "image/png": {
              "width": 420,
              "height": 420
            },
            "text/plain": {
              "width": 420,
              "height": 420
            }
          }
        }
      ]
    },
    {
      "cell_type": "markdown",
      "metadata": {
        "id": "DmxIFtbdv4WQ",
        "colab_type": "text"
      },
      "source": [
        "**Función `rnorm`**"
      ]
    },
    {
      "cell_type": "code",
      "metadata": {
        "id": "wRNWE1pkiNJ_",
        "colab_type": "code",
        "outputId": "0c875191-f359-4c8b-aca9-378280ac8375",
        "colab": {
          "base_uri": "https://localhost:8080/",
          "height": 454
        }
      },
      "source": [
        "y <- rnorm(100)\n",
        "hist(y, main=\"Normal Distribution\")\n",
        "dev.off()"
      ],
      "execution_count": 0,
      "outputs": [
        {
          "output_type": "display_data",
          "data": {
            "text/plain": [
              "null device \n",
              "          1 "
            ],
            "text/latex": "\\textbf{null device:} 1",
            "text/markdown": "**null device:** 1",
            "text/html": [
              "<strong>null device:</strong> 1"
            ]
          },
          "metadata": {
            "tags": []
          }
        },
        {
          "output_type": "display_data",
          "data": {
            "image/png": "[encoded data removed]",
            "text/plain": [
              "Plot with title “Normal Distribution”"
            ]
          },
          "metadata": {
            "tags": [],
            "image/png": {
              "width": 420,
              "height": 420
            },
            "text/plain": {
              "width": 420,
              "height": 420
            }
          }
        }
      ]
    },
    {
      "cell_type": "markdown",
      "metadata": {
        "id": "J2rEys_Fw6L1",
        "colab_type": "text"
      },
      "source": [
        "### **Otras funciones estadísticas**\n",
        "\n",
        "Además de las funciones antes mencionadas, existen otras funciones útiles que sirven para calcular cantidades estadísticas. \n",
        "\n",
        "Veamos algunas funciones más."
      ]
    },
    {
      "cell_type": "code",
      "metadata": {
        "id": "6ttVze4ovyLR",
        "colab_type": "code",
        "outputId": "70f720a6-8fbe-44e4-aea5-8c4411e405e9",
        "colab": {
          "base_uri": "https://localhost:8080/",
          "height": 34
        }
      },
      "source": [
        "# Función valor medio\n",
        "x <- c(0:100,1)\n",
        "mean(x)"
      ],
      "execution_count": 0,
      "outputs": [
        {
          "output_type": "display_data",
          "data": {
            "text/plain": [
              "[1] 49.51961"
            ],
            "text/latex": "49.5196078431373",
            "text/markdown": "49.5196078431373",
            "text/html": [
              "49.5196078431373"
            ]
          },
          "metadata": {
            "tags": []
          }
        }
      ]
    },
    {
      "cell_type": "code",
      "metadata": {
        "id": "F6LZGPz_xVMo",
        "colab_type": "code",
        "outputId": "78f22f36-9f4d-47d3-c7d9-26bd957806a1",
        "colab": {
          "base_uri": "https://localhost:8080/",
          "height": 34
        }
      },
      "source": [
        "# Desviación estándar\n",
        "y <- rnorm(10000, sd = 4.3)\n",
        "sd(y)\n"
      ],
      "execution_count": 0,
      "outputs": [
        {
          "output_type": "display_data",
          "data": {
            "text/plain": [
              "[1] 4.279338"
            ],
            "text/latex": "4.27933824833989",
            "text/markdown": "4.27933824833989",
            "text/html": [
              "4.27933824833989"
            ]
          },
          "metadata": {
            "tags": []
          }
        }
      ]
    },
    {
      "cell_type": "code",
      "metadata": {
        "id": "uOzRuNHExnjQ",
        "colab_type": "code",
        "outputId": "c30a0062-abe7-40c8-ac21-7ca1cbb80357",
        "colab": {
          "base_uri": "https://localhost:8080/",
          "height": 34
        }
      },
      "source": [
        "# Mediana\n",
        "median(y)"
      ],
      "execution_count": 0,
      "outputs": [
        {
          "output_type": "display_data",
          "data": {
            "text/plain": [
              "[1] -0.01957721"
            ],
            "text/latex": "-0.019577213983774",
            "text/markdown": "-0.019577213983774",
            "text/html": [
              "-0.019577213983774"
            ]
          },
          "metadata": {
            "tags": []
          }
        }
      ]
    },
    {
      "cell_type": "code",
      "metadata": {
        "id": "oWWA-YYXyhzE",
        "colab_type": "code",
        "outputId": "a01c66b5-5951-4456-a3ee-9de348f725be",
        "colab": {
          "base_uri": "https://localhost:8080/",
          "height": 437
        }
      },
      "source": [
        "# Esclado\n",
        "\n",
        "x <- c(0:10,0.0001)\n",
        "\n",
        "hist(scale(x))"
      ],
      "execution_count": 0,
      "outputs": [
        {
          "output_type": "display_data",
          "data": {
            "image/png": "[encoded data removed]",
            "text/plain": [
              "Plot with title “Histogram of scale(x)”"
            ]
          },
          "metadata": {
            "tags": [],
            "image/png": {
              "width": 420,
              "height": 420
            },
            "text/plain": {
              "width": 420,
              "height": 420
            }
          }
        }
      ]
    },
    {
      "cell_type": "markdown",
      "metadata": {
        "id": "KgoaOD9izmAD",
        "colab_type": "text"
      },
      "source": [
        "Para más funciones predefinidas consultar este [link](https://www.javatpoint.com/r-built-in-functions)"
      ]
    },
    {
      "cell_type": "markdown",
      "metadata": {
        "id": "os3iUbG80SD3",
        "colab_type": "text"
      },
      "source": [
        "### **Otra funciones**\n",
        "\n",
        "Además de las funciones mencionadas, existen otras funciones con diversas utilidades. Veamos algunas de ellas."
      ]
    },
    {
      "cell_type": "code",
      "metadata": {
        "id": "wNgZfaPAyjo-",
        "colab_type": "code",
        "outputId": "d2344438-0593-43ae-97ba-cb130a085404",
        "colab": {
          "base_uri": "https://localhost:8080/",
          "height": 34
        }
      },
      "source": [
        "# Función sort\n",
        "x <- c(2,6,100,-1,-2)\n",
        "\n",
        "sort(x)"
      ],
      "execution_count": 0,
      "outputs": [
        {
          "output_type": "display_data",
          "data": {
            "text/plain": [
              "[1]  -2  -1   2   6 100"
            ],
            "text/latex": "\\begin{enumerate*}\n\\item -2\n\\item -1\n\\item 2\n\\item 6\n\\item 100\n\\end{enumerate*}\n",
            "text/markdown": "1. -2\n2. -1\n3. 2\n4. 6\n5. 100\n\n\n",
            "text/html": [
              "<style>\n",
              ".list-inline {list-style: none; margin:0; padding: 0}\n",
              ".list-inline>li {display: inline-block}\n",
              ".list-inline>li:not(:last-child)::after {content: \"\\00b7\"; padding: 0 .5ex}\n",
              "</style>\n",
              "<ol class=list-inline><li>-2</li><li>-1</li><li>2</li><li>6</li><li>100</li></ol>\n"
            ]
          },
          "metadata": {
            "tags": []
          }
        }
      ]
    },
    {
      "cell_type": "markdown",
      "metadata": {
        "id": "uAp06fkq0uTz",
        "colab_type": "text"
      },
      "source": [
        "Por defecto, esta función organiza el vector `x` de forma ascendente, pero podemos organizarlo de forma descendente si hacemos lo siguiente. "
      ]
    },
    {
      "cell_type": "code",
      "metadata": {
        "id": "HInvTml_0sNU",
        "colab_type": "code",
        "outputId": "81ac79a6-5b0a-4de2-afc2-626980d09458",
        "colab": {
          "base_uri": "https://localhost:8080/",
          "height": 34
        }
      },
      "source": [
        "sort(x, decreasing = TRUE)"
      ],
      "execution_count": 0,
      "outputs": [
        {
          "output_type": "display_data",
          "data": {
            "text/plain": [
              "[1] 100   6   2  -1  -2"
            ],
            "text/latex": "\\begin{enumerate*}\n\\item 100\n\\item 6\n\\item 2\n\\item -1\n\\item -2\n\\end{enumerate*}\n",
            "text/markdown": "1. 100\n2. 6\n3. 2\n4. -1\n5. -2\n\n\n",
            "text/html": [
              "<style>\n",
              ".list-inline {list-style: none; margin:0; padding: 0}\n",
              ".list-inline>li {display: inline-block}\n",
              ".list-inline>li:not(:last-child)::after {content: \"\\00b7\"; padding: 0 .5ex}\n",
              "</style>\n",
              "<ol class=list-inline><li>100</li><li>6</li><li>2</li><li>-1</li><li>-2</li></ol>\n"
            ]
          },
          "metadata": {
            "tags": []
          }
        }
      ]
    },
    {
      "cell_type": "code",
      "metadata": {
        "id": "8njfV9nI1JEx",
        "colab_type": "code",
        "outputId": "6e495a73-de47-4977-fb4b-1e2d5c960cd1",
        "colab": {
          "base_uri": "https://localhost:8080/",
          "height": 34
        }
      },
      "source": [
        "# Valor mínimo\n",
        "min(x)"
      ],
      "execution_count": 0,
      "outputs": [
        {
          "output_type": "display_data",
          "data": {
            "text/plain": [
              "[1] -2"
            ],
            "text/latex": "-2",
            "text/markdown": "-2",
            "text/html": [
              "-2"
            ]
          },
          "metadata": {
            "tags": []
          }
        }
      ]
    },
    {
      "cell_type": "code",
      "metadata": {
        "id": "KLvD7GEm1pl4",
        "colab_type": "code",
        "outputId": "8a631021-dbb5-41fe-810a-5f3f7014c3ef",
        "colab": {
          "base_uri": "https://localhost:8080/",
          "height": 34
        }
      },
      "source": [
        "# Valor máximo\n",
        "max(x)"
      ],
      "execution_count": 0,
      "outputs": [
        {
          "output_type": "display_data",
          "data": {
            "text/plain": [
              "[1] 100"
            ],
            "text/latex": "100",
            "text/markdown": "100",
            "text/html": [
              "100"
            ]
          },
          "metadata": {
            "tags": []
          }
        }
      ]
    },
    {
      "cell_type": "markdown",
      "metadata": {
        "id": "2W3ncitb1-au",
        "colab_type": "text"
      },
      "source": [
        "### **Funciones definidas por el usuario**\n",
        "\n",
        "Las funciones definidas por el usuario, como su nombre lo indica, corresponde a aquellas que el usuario desea programas con un fin  específico. La sintáxis general es la siguiente:\n",
        "\n",
        "```\n",
        "nombre_funcion <- function(argumentos){\n",
        "\n",
        "  #operaciones que realizará la función\n",
        "}\n",
        "```\n",
        "\n",
        "Como es constumbre, bauticemonos en `R` con la definición de la función `Hello World`:\n"
      ]
    },
    {
      "cell_type": "code",
      "metadata": {
        "id": "h-8hCwYi3_aq",
        "colab_type": "code",
        "outputId": "cd4327c6-1362-473e-bc1e-7e61b7991ded",
        "colab": {
          "base_uri": "https://localhost:8080/",
          "height": 34
        }
      },
      "source": [
        "print_Hello_World <- function(){\n",
        "  print(\"Hello World\")\n",
        "}\n",
        "\n",
        "print_Hello_World()"
      ],
      "execution_count": 0,
      "outputs": [
        {
          "output_type": "stream",
          "text": [
            "[1] \"Hello World\"\n"
          ],
          "name": "stdout"
        }
      ]
    },
    {
      "cell_type": "markdown",
      "metadata": {
        "id": "m-karODR4c3Y",
        "colab_type": "text"
      },
      "source": [
        "**Ejemplo** Defina una función que tome dos argumentos y los sume."
      ]
    },
    {
      "cell_type": "code",
      "metadata": {
        "id": "RfPvEvob4NbA",
        "colab_type": "code",
        "colab": {}
      },
      "source": [
        "add <- function(x,y){\n",
        "  x+y\n",
        "}"
      ],
      "execution_count": 0,
      "outputs": []
    },
    {
      "cell_type": "markdown",
      "metadata": {
        "id": "rdlJw-Yh5Dav",
        "colab_type": "text"
      },
      "source": [
        "Vemos que puedo sumar varios tipos de datos."
      ]
    },
    {
      "cell_type": "code",
      "metadata": {
        "id": "gzO2xksP4uw0",
        "colab_type": "code",
        "outputId": "db0cd43f-e224-44d9-823f-442b480e7e94",
        "colab": {
          "base_uri": "https://localhost:8080/",
          "height": 34
        }
      },
      "source": [
        "# Suma de dos números\n",
        "add(3,3)"
      ],
      "execution_count": 0,
      "outputs": [
        {
          "output_type": "display_data",
          "data": {
            "text/plain": [
              "[1] 6"
            ],
            "text/latex": "6",
            "text/markdown": "6",
            "text/html": [
              "6"
            ]
          },
          "metadata": {
            "tags": []
          }
        }
      ]
    },
    {
      "cell_type": "code",
      "metadata": {
        "id": "Zmy_HH3A4wrC",
        "colab_type": "code",
        "outputId": "539233a1-c0f8-4518-fb70-ba3b347745a6",
        "colab": {
          "base_uri": "https://localhost:8080/",
          "height": 34
        }
      },
      "source": [
        "# Suma de dos vectores\n",
        "\n",
        "x <- c(1,2,3)\n",
        "add(x,x)"
      ],
      "execution_count": 0,
      "outputs": [
        {
          "output_type": "display_data",
          "data": {
            "text/plain": [
              "[1] 2 4 6"
            ],
            "text/latex": "\\begin{enumerate*}\n\\item 2\n\\item 4\n\\item 6\n\\end{enumerate*}\n",
            "text/markdown": "1. 2\n2. 4\n3. 6\n\n\n",
            "text/html": [
              "<style>\n",
              ".list-inline {list-style: none; margin:0; padding: 0}\n",
              ".list-inline>li {display: inline-block}\n",
              ".list-inline>li:not(:last-child)::after {content: \"\\00b7\"; padding: 0 .5ex}\n",
              "</style>\n",
              "<ol class=list-inline><li>2</li><li>4</li><li>6</li></ol>\n"
            ]
          },
          "metadata": {
            "tags": []
          }
        }
      ]
    },
    {
      "cell_type": "markdown",
      "metadata": {
        "id": "DevRyNR85PLP",
        "colab_type": "text"
      },
      "source": [
        "Pero no puedo sumar dos strings"
      ]
    },
    {
      "cell_type": "code",
      "metadata": {
        "id": "2ZCSSUUq4z3f",
        "colab_type": "code",
        "outputId": "ec96becc-8c8a-4c99-bc5e-20a597318450",
        "colab": {
          "base_uri": "https://localhost:8080/",
          "height": 134
        }
      },
      "source": [
        "add(\"s\",\"s\")"
      ],
      "execution_count": 0,
      "outputs": [
        {
          "output_type": "error",
          "ename": "ERROR",
          "evalue": "ignored",
          "traceback": [
            "Error in x + y: non-numeric argument to binary operator\nTraceback:\n",
            "1. add(\"s\", \"s\")"
          ]
        }
      ]
    },
    {
      "cell_type": "markdown",
      "metadata": {
        "id": "uItsnxnW6EWb",
        "colab_type": "text"
      },
      "source": [
        "Podemos asignarle a una variable el valor que devuelve la función `add` que hemos definido"
      ]
    },
    {
      "cell_type": "code",
      "metadata": {
        "id": "_8TwAGED6LZS",
        "colab_type": "code",
        "colab": {}
      },
      "source": [
        "x<-add(3,3)\n",
        "\n",
        "x"
      ],
      "execution_count": 0,
      "outputs": []
    },
    {
      "cell_type": "markdown",
      "metadata": {
        "id": "hll_cexm5vAM",
        "colab_type": "text"
      },
      "source": [
        "Nótese que no ha sido necesario definir una sentencia `return` para devolver los valores de una función. \n",
        "\n",
        "La sentencia `return` puede usarse cuando se quiere devolver de forma explicita un valor de una función: "
      ]
    },
    {
      "cell_type": "code",
      "metadata": {
        "id": "oWLWo27U46D4",
        "colab_type": "code",
        "colab": {}
      },
      "source": [
        "add <- function(x,y){\n",
        "  return(x+y)\n",
        "}\n",
        "\n",
        "add(4,4)"
      ],
      "execution_count": 0,
      "outputs": []
    },
    {
      "cell_type": "markdown",
      "metadata": {
        "id": "ySyyyjwN6izC",
        "colab_type": "text"
      },
      "source": [
        "Cada vez que dentro de la función se encuentra una sentencia `return`, se devuelve el valor correspondiente.\n",
        "\n",
        "La sentencia `return` resulta particularmente útil dentro de un bloque de condicionales, ya que el valor de salida dependerá de la condición que se cumpla. \n",
        "\n",
        "Veamos un pequeño ejemplo"
      ]
    },
    {
      "cell_type": "code",
      "metadata": {
        "id": "UaMyXaYv6euV",
        "colab_type": "code",
        "colab": {}
      },
      "source": [
        "gradoPuntaje <- function(puntaje){\n",
        "  if (puntaje < 7){\n",
        "    return(\"Puntaje bajo\")\n",
        "  } else {\n",
        "    return(\"Puntaje bueno\")\n",
        "  }\n",
        "}"
      ],
      "execution_count": 0,
      "outputs": []
    },
    {
      "cell_type": "code",
      "metadata": {
        "id": "ETCNwRvi8hHw",
        "colab_type": "code",
        "colab": {}
      },
      "source": [
        "gradoPuntaje(9)"
      ],
      "execution_count": 0,
      "outputs": []
    },
    {
      "cell_type": "code",
      "metadata": {
        "id": "DoTmCVbQ8jOC",
        "colab_type": "code",
        "colab": {}
      },
      "source": [
        "gradoPuntaje(2)"
      ],
      "execution_count": 0,
      "outputs": []
    },
    {
      "cell_type": "markdown",
      "metadata": {
        "id": "YDYX3ZoK87uj",
        "colab_type": "text"
      },
      "source": [
        "Podemos especificar un valor de `umbral` dentro de la definición de la función para discriminar entre un puntaje bueno y uno malo:"
      ]
    },
    {
      "cell_type": "code",
      "metadata": {
        "id": "8L1Va4R68rlJ",
        "colab_type": "code",
        "colab": {}
      },
      "source": [
        "gradoPuntaje <- function(puntaje, umbral=7){\n",
        "  if (puntaje < umbral){\n",
        "    return(\"Puntaje bajo\")\n",
        "  } else {\n",
        "    return(\"Puntaje bueno\")\n",
        "  }\n",
        "}"
      ],
      "execution_count": 0,
      "outputs": []
    },
    {
      "cell_type": "code",
      "metadata": {
        "id": "iIcjTmjL9Wiu",
        "colab_type": "code",
        "colab": {}
      },
      "source": [
        "gradoPuntaje(9)"
      ],
      "execution_count": 0,
      "outputs": []
    },
    {
      "cell_type": "code",
      "metadata": {
        "id": "Ypql8rO69YYq",
        "colab_type": "code",
        "colab": {}
      },
      "source": [
        "gradoPuntaje(2)"
      ],
      "execution_count": 0,
      "outputs": []
    },
    {
      "cell_type": "markdown",
      "metadata": {
        "id": "X2M0FgTc9do_",
        "colab_type": "text"
      },
      "source": [
        "Por defecto, hemos definido este umbral para diferenciar un puntaje bueno de uno malo en $7$, sin embargo, podemos modificar el umbral al llamar la función:"
      ]
    },
    {
      "cell_type": "code",
      "metadata": {
        "id": "emx9HNEZ9Zle",
        "colab_type": "code",
        "colab": {}
      },
      "source": [
        "gradoPuntaje(7.4, umbral = 9)"
      ],
      "execution_count": 0,
      "outputs": []
    },
    {
      "cell_type": "markdown",
      "metadata": {
        "id": "c03dK93b-Swz",
        "colab_type": "text"
      },
      "source": [
        "Podemos usar la definición de una función dentro de otra."
      ]
    },
    {
      "cell_type": "code",
      "metadata": {
        "id": "x5RwkAvo9ywe",
        "colab_type": "code",
        "colab": {}
      },
      "source": [
        "calificacion_puntajes <- function(puntajes, umbral = 7){\n",
        "  for (value in x){\n",
        "    print(gradoPuntaje(value))\n",
        "  }\n",
        "}"
      ],
      "execution_count": 0,
      "outputs": []
    },
    {
      "cell_type": "code",
      "metadata": {
        "id": "EOh5dCBF-2BU",
        "colab_type": "code",
        "colab": {}
      },
      "source": [
        "calificacion_puntajes(c(5,6,8))"
      ],
      "execution_count": 0,
      "outputs": []
    },
    {
      "cell_type": "markdown",
      "metadata": {
        "id": "cHQbG6EeAq69",
        "colab_type": "text"
      },
      "source": [
        "Recuerden que en las definiciones de las funciones, las variables son locales, por lo que fuera del entorno definido por las llaves, no se puede acceder a dichas variables. No obstante existe una forma de definirlas como variables globales. Veamos esto:\n",
        "\n"
      ]
    },
    {
      "cell_type": "code",
      "metadata": {
        "id": "3new-cM6A3EL",
        "colab_type": "code",
        "colab": {}
      },
      "source": [
        "print_Hello_World <- function(){\n",
        "  temp<-\"Hello\" # Variable local\n",
        "  y <<- 3 # Variable global\n",
        "  print(\"Hello World\")\n",
        "}"
      ],
      "execution_count": 0,
      "outputs": []
    },
    {
      "cell_type": "code",
      "metadata": {
        "id": "S2O43a6CBeqQ",
        "colab_type": "code",
        "colab": {}
      },
      "source": [
        "print_Hello_World()"
      ],
      "execution_count": 0,
      "outputs": []
    },
    {
      "cell_type": "code",
      "metadata": {
        "id": "KAyg2QEpBhGH",
        "colab_type": "code",
        "colab": {}
      },
      "source": [
        "try(temp)"
      ],
      "execution_count": 0,
      "outputs": []
    },
    {
      "cell_type": "code",
      "metadata": {
        "id": "WgfJVHp7BiaS",
        "colab_type": "code",
        "colab": {}
      },
      "source": [
        "y"
      ],
      "execution_count": 0,
      "outputs": []
    },
    {
      "cell_type": "code",
      "metadata": {
        "id": "8X9koQAiOMUu",
        "colab_type": "code",
        "colab": {}
      },
      "source": [
        ""
      ],
      "execution_count": 0,
      "outputs": []
    }
  ]
}