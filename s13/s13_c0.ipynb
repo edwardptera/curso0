{
  "nbformat": 4,
  "nbformat_minor": 0,
  "metadata": {
    "colab": {
      "name": "s13_c01.ipynb",
      "provenance": [],
      "collapsed_sections": []
    },
    "kernelspec": {
      "name": "ir",
      "display_name": "R"
    }
  },
  "cells": [
    {
      "cell_type": "markdown",
      "metadata": {
        "id": "JTgaeeCLfNKv",
        "colab_type": "text"
      },
      "source": [
        "<p><img alt=\"Colaboratory logo\" height=\"140px\" src=\"https://upload.wikimedia.org/wikipedia/commons/archive/f/fb/20161010213812%21Escudo-UdeA.svg\" align=\"left\" hspace=\"10px\" vspace=\"0px\"></p>\n",
        "\n",
        "# **Curso de bases para AI - Universidad de Antioquia**\n",
        "\n",
        "\n",
        "El presente curso hace parte del centro de Big Data de la facultad de ciencias exactas y naturales (FCEN) de la Universidad de Antioquia.\n",
        "\n",
        "\\\n",
        "\n",
        "El curso será dictado en 16 sesiones o clases de 4 horas los días sábado en las instalaciones de la universidad. Para un total de dededicación temporal de 64 horas. El curso cuenta con los siguientes módulos:\n",
        "\n",
        "1. Bases matemáticas y de programación. (10H)\n",
        "2. Bases de Python. (19H)\n",
        "3. Bases de R. (13H)\n",
        "4. Procesamiento de datos. (22H)"
      ]
    },
    {
      "cell_type": "markdown",
      "metadata": {
        "id": "BDjbetSTI3FT",
        "colab_type": "text"
      },
      "source": [
        "#**Tibbles**\n",
        "\n",
        "A lo largo de esta parte del curso, trabajamos con \"tibbles\" en lugar los `data-frames` tradicional de R. Los tibbles son data-frames, pero modifican algunos comportamientos antiguos para hacer la vida un poco más fácil. R es un lenguaje antiguo, y algunas cosas que fueron útiles hace 10 o 20 años ahora se interponen en su camino. Es difícil cambiar la base R sin romper el código existente, por lo que la mayoría de las innovaciones se producen en paquetes. Aquí describiremos el paquete tibble, que proporciona marcos de datos obstinados que hacen que trabajar en el tidyverse sea un poco más fácil. En la mayoría de los lugares, se usa el término tibble y el marco de datos indistintamente; cuando quiera llamar especialmente la atención sobre el marco de datos incorporado de R.\n"
      ]
    },
    {
      "cell_type": "code",
      "metadata": {
        "id": "TOrdBIpZXO3q",
        "colab_type": "code",
        "colab": {
          "base_uri": "https://localhost:8080/",
          "height": 204
        },
        "outputId": "bc7f0253-9e0a-4ba1-8c93-52273f7dc24b"
      },
      "source": [
        "library('tidyverse')"
      ],
      "execution_count": 1,
      "outputs": [
        {
          "output_type": "stream",
          "text": [
            "── \u001b[1mAttaching packages\u001b[22m ─────────────────────────────────────── tidyverse 1.3.0 ──\n",
            "\n",
            "\u001b[32m✔\u001b[39m \u001b[34mggplot2\u001b[39m 3.3.2     \u001b[32m✔\u001b[39m \u001b[34mpurrr  \u001b[39m 0.3.4\n",
            "\u001b[32m✔\u001b[39m \u001b[34mtibble \u001b[39m 3.0.1     \u001b[32m✔\u001b[39m \u001b[34mdplyr  \u001b[39m 1.0.0\n",
            "\u001b[32m✔\u001b[39m \u001b[34mtidyr  \u001b[39m 1.1.0     \u001b[32m✔\u001b[39m \u001b[34mstringr\u001b[39m 1.4.0\n",
            "\u001b[32m✔\u001b[39m \u001b[34mreadr  \u001b[39m 1.3.1     \u001b[32m✔\u001b[39m \u001b[34mforcats\u001b[39m 0.5.0\n",
            "\n",
            "── \u001b[1mConflicts\u001b[22m ────────────────────────────────────────── tidyverse_conflicts() ──\n",
            "\u001b[31m✖\u001b[39m \u001b[34mdplyr\u001b[39m::\u001b[32mfilter()\u001b[39m masks \u001b[34mstats\u001b[39m::filter()\n",
            "\u001b[31m✖\u001b[39m \u001b[34mdplyr\u001b[39m::\u001b[32mlag()\u001b[39m    masks \u001b[34mstats\u001b[39m::lag()\n",
            "\n"
          ],
          "name": "stderr"
        }
      ]
    },
    {
      "cell_type": "markdown",
      "metadata": {
        "id": "1D0siO72I9bA",
        "colab_type": "text"
      },
      "source": [
        "Todas las funciones que usará en esta sesión producen tibbles, ya que los tibbles son una de las características unificadoras del tidyverse. \n",
        "\n",
        "Empecemos por acceder al dataframe de `iris`, que trae por defecto `R`."
      ]
    },
    {
      "cell_type": "code",
      "metadata": {
        "id": "PZfxFmAJJAgj",
        "colab_type": "code",
        "colab": {
          "base_uri": "https://localhost:8080/",
          "height": 204
        },
        "outputId": "1e062b1f-ea93-443b-a242-cca032cb46e9"
      },
      "source": [
        "head(iris)"
      ],
      "execution_count": 3,
      "outputs": [
        {
          "output_type": "display_data",
          "data": {
            "text/plain": [
              "  Sepal.Length Sepal.Width Petal.Length Petal.Width Species\n",
              "1 5.1          3.5         1.4          0.2         setosa \n",
              "2 4.9          3.0         1.4          0.2         setosa \n",
              "3 4.7          3.2         1.3          0.2         setosa \n",
              "4 4.6          3.1         1.5          0.2         setosa \n",
              "5 5.0          3.6         1.4          0.2         setosa \n",
              "6 5.4          3.9         1.7          0.4         setosa "
            ],
            "text/latex": "A data.frame: 6 × 5\n\\begin{tabular}{r|lllll}\n  & Sepal.Length & Sepal.Width & Petal.Length & Petal.Width & Species\\\\\n  & <dbl> & <dbl> & <dbl> & <dbl> & <fct>\\\\\n\\hline\n\t1 & 5.1 & 3.5 & 1.4 & 0.2 & setosa\\\\\n\t2 & 4.9 & 3.0 & 1.4 & 0.2 & setosa\\\\\n\t3 & 4.7 & 3.2 & 1.3 & 0.2 & setosa\\\\\n\t4 & 4.6 & 3.1 & 1.5 & 0.2 & setosa\\\\\n\t5 & 5.0 & 3.6 & 1.4 & 0.2 & setosa\\\\\n\t6 & 5.4 & 3.9 & 1.7 & 0.4 & setosa\\\\\n\\end{tabular}\n",
            "text/markdown": "\nA data.frame: 6 × 5\n\n| <!--/--> | Sepal.Length &lt;dbl&gt; | Sepal.Width &lt;dbl&gt; | Petal.Length &lt;dbl&gt; | Petal.Width &lt;dbl&gt; | Species &lt;fct&gt; |\n|---|---|---|---|---|---|\n| 1 | 5.1 | 3.5 | 1.4 | 0.2 | setosa |\n| 2 | 4.9 | 3.0 | 1.4 | 0.2 | setosa |\n| 3 | 4.7 | 3.2 | 1.3 | 0.2 | setosa |\n| 4 | 4.6 | 3.1 | 1.5 | 0.2 | setosa |\n| 5 | 5.0 | 3.6 | 1.4 | 0.2 | setosa |\n| 6 | 5.4 | 3.9 | 1.7 | 0.4 | setosa |\n\n",
            "text/html": [
              "<table>\n",
              "<caption>A data.frame: 6 × 5</caption>\n",
              "<thead>\n",
              "\t<tr><th></th><th scope=col>Sepal.Length</th><th scope=col>Sepal.Width</th><th scope=col>Petal.Length</th><th scope=col>Petal.Width</th><th scope=col>Species</th></tr>\n",
              "\t<tr><th></th><th scope=col>&lt;dbl&gt;</th><th scope=col>&lt;dbl&gt;</th><th scope=col>&lt;dbl&gt;</th><th scope=col>&lt;dbl&gt;</th><th scope=col>&lt;fct&gt;</th></tr>\n",
              "</thead>\n",
              "<tbody>\n",
              "\t<tr><th scope=row>1</th><td>5.1</td><td>3.5</td><td>1.4</td><td>0.2</td><td>setosa</td></tr>\n",
              "\t<tr><th scope=row>2</th><td>4.9</td><td>3.0</td><td>1.4</td><td>0.2</td><td>setosa</td></tr>\n",
              "\t<tr><th scope=row>3</th><td>4.7</td><td>3.2</td><td>1.3</td><td>0.2</td><td>setosa</td></tr>\n",
              "\t<tr><th scope=row>4</th><td>4.6</td><td>3.1</td><td>1.5</td><td>0.2</td><td>setosa</td></tr>\n",
              "\t<tr><th scope=row>5</th><td>5.0</td><td>3.6</td><td>1.4</td><td>0.2</td><td>setosa</td></tr>\n",
              "\t<tr><th scope=row>6</th><td>5.4</td><td>3.9</td><td>1.7</td><td>0.4</td><td>setosa</td></tr>\n",
              "</tbody>\n",
              "</table>\n"
            ]
          },
          "metadata": {
            "tags": []
          }
        }
      ]
    },
    {
      "cell_type": "markdown",
      "metadata": {
        "id": "3mdCYAo-VjvZ",
        "colab_type": "text"
      },
      "source": [
        "La mayoría de los otros paquetes R usan marcos de datos regulares, por lo que es posible que desee forzar un marco de datos a un tibble. Puedes hacerlo con `as_tibble()`."
      ]
    },
    {
      "cell_type": "code",
      "metadata": {
        "id": "z3PPamMRJH-v",
        "colab_type": "code",
        "colab": {
          "base_uri": "https://localhost:8080/",
          "height": 195
        },
        "outputId": "6d2f73a2-ce91-4761-8e83-652ae7788ff5"
      },
      "source": [
        "head(as_tibble(iris))"
      ],
      "execution_count": null,
      "outputs": [
        {
          "output_type": "display_data",
          "data": {
            "text/plain": [
              "  Sepal.Length Sepal.Width Petal.Length Petal.Width Species\n",
              "1 5.1          3.5         1.4          0.2         setosa \n",
              "2 4.9          3.0         1.4          0.2         setosa \n",
              "3 4.7          3.2         1.3          0.2         setosa \n",
              "4 4.6          3.1         1.5          0.2         setosa \n",
              "5 5.0          3.6         1.4          0.2         setosa \n",
              "6 5.4          3.9         1.7          0.4         setosa "
            ],
            "text/latex": "A tibble: 6 × 5\n\\begin{tabular}{lllll}\n Sepal.Length & Sepal.Width & Petal.Length & Petal.Width & Species\\\\\n <dbl> & <dbl> & <dbl> & <dbl> & <fct>\\\\\n\\hline\n\t 5.1 & 3.5 & 1.4 & 0.2 & setosa\\\\\n\t 4.9 & 3.0 & 1.4 & 0.2 & setosa\\\\\n\t 4.7 & 3.2 & 1.3 & 0.2 & setosa\\\\\n\t 4.6 & 3.1 & 1.5 & 0.2 & setosa\\\\\n\t 5.0 & 3.6 & 1.4 & 0.2 & setosa\\\\\n\t 5.4 & 3.9 & 1.7 & 0.4 & setosa\\\\\n\\end{tabular}\n",
            "text/markdown": "\nA tibble: 6 × 5\n\n| Sepal.Length &lt;dbl&gt; | Sepal.Width &lt;dbl&gt; | Petal.Length &lt;dbl&gt; | Petal.Width &lt;dbl&gt; | Species &lt;fct&gt; |\n|---|---|---|---|---|\n| 5.1 | 3.5 | 1.4 | 0.2 | setosa |\n| 4.9 | 3.0 | 1.4 | 0.2 | setosa |\n| 4.7 | 3.2 | 1.3 | 0.2 | setosa |\n| 4.6 | 3.1 | 1.5 | 0.2 | setosa |\n| 5.0 | 3.6 | 1.4 | 0.2 | setosa |\n| 5.4 | 3.9 | 1.7 | 0.4 | setosa |\n\n",
            "text/html": [
              "<table>\n",
              "<caption>A tibble: 6 × 5</caption>\n",
              "<thead>\n",
              "\t<tr><th scope=col>Sepal.Length</th><th scope=col>Sepal.Width</th><th scope=col>Petal.Length</th><th scope=col>Petal.Width</th><th scope=col>Species</th></tr>\n",
              "\t<tr><th scope=col>&lt;dbl&gt;</th><th scope=col>&lt;dbl&gt;</th><th scope=col>&lt;dbl&gt;</th><th scope=col>&lt;dbl&gt;</th><th scope=col>&lt;fct&gt;</th></tr>\n",
              "</thead>\n",
              "<tbody>\n",
              "\t<tr><td>5.1</td><td>3.5</td><td>1.4</td><td>0.2</td><td>setosa</td></tr>\n",
              "\t<tr><td>4.9</td><td>3.0</td><td>1.4</td><td>0.2</td><td>setosa</td></tr>\n",
              "\t<tr><td>4.7</td><td>3.2</td><td>1.3</td><td>0.2</td><td>setosa</td></tr>\n",
              "\t<tr><td>4.6</td><td>3.1</td><td>1.5</td><td>0.2</td><td>setosa</td></tr>\n",
              "\t<tr><td>5.0</td><td>3.6</td><td>1.4</td><td>0.2</td><td>setosa</td></tr>\n",
              "\t<tr><td>5.4</td><td>3.9</td><td>1.7</td><td>0.4</td><td>setosa</td></tr>\n",
              "</tbody>\n",
              "</table>\n"
            ]
          },
          "metadata": {
            "tags": []
          }
        }
      ]
    },
    {
      "cell_type": "markdown",
      "metadata": {
        "id": "71Z3SPZIJKu4",
        "colab_type": "text"
      },
      "source": [
        "Puede crear un nuevo tibble a partir de vectores individuales con `tibble()`. `tibble()` reciclará automáticamente las entradas de longitud 1 y le permite referirse a las variables que acaba de crear, como se muestra a continuación."
      ]
    },
    {
      "cell_type": "code",
      "metadata": {
        "id": "Y5TNGKz-JM4X",
        "colab_type": "code",
        "colab": {
          "base_uri": "https://localhost:8080/",
          "height": 183
        },
        "outputId": "fa8ff2c0-62ce-44f8-b0cc-f52975cb2ede"
      },
      "source": [
        "tibble(\n",
        "  x = 1:5, \n",
        "  y = 1, \n",
        "  z = x ^ 2 + y\n",
        ")"
      ],
      "execution_count": 4,
      "outputs": [
        {
          "output_type": "display_data",
          "data": {
            "text/plain": [
              "  x y z \n",
              "1 1 1  2\n",
              "2 2 1  5\n",
              "3 3 1 10\n",
              "4 4 1 17\n",
              "5 5 1 26"
            ],
            "text/latex": "A tibble: 5 × 3\n\\begin{tabular}{lll}\n x & y & z\\\\\n <int> & <dbl> & <dbl>\\\\\n\\hline\n\t 1 & 1 &  2\\\\\n\t 2 & 1 &  5\\\\\n\t 3 & 1 & 10\\\\\n\t 4 & 1 & 17\\\\\n\t 5 & 1 & 26\\\\\n\\end{tabular}\n",
            "text/markdown": "\nA tibble: 5 × 3\n\n| x &lt;int&gt; | y &lt;dbl&gt; | z &lt;dbl&gt; |\n|---|---|---|\n| 1 | 1 |  2 |\n| 2 | 1 |  5 |\n| 3 | 1 | 10 |\n| 4 | 1 | 17 |\n| 5 | 1 | 26 |\n\n",
            "text/html": [
              "<table>\n",
              "<caption>A tibble: 5 × 3</caption>\n",
              "<thead>\n",
              "\t<tr><th scope=col>x</th><th scope=col>y</th><th scope=col>z</th></tr>\n",
              "\t<tr><th scope=col>&lt;int&gt;</th><th scope=col>&lt;dbl&gt;</th><th scope=col>&lt;dbl&gt;</th></tr>\n",
              "</thead>\n",
              "<tbody>\n",
              "\t<tr><td>1</td><td>1</td><td> 2</td></tr>\n",
              "\t<tr><td>2</td><td>1</td><td> 5</td></tr>\n",
              "\t<tr><td>3</td><td>1</td><td>10</td></tr>\n",
              "\t<tr><td>4</td><td>1</td><td>17</td></tr>\n",
              "\t<tr><td>5</td><td>1</td><td>26</td></tr>\n",
              "</tbody>\n",
              "</table>\n"
            ]
          },
          "metadata": {
            "tags": []
          }
        }
      ]
    },
    {
      "cell_type": "markdown",
      "metadata": {
        "id": "jCWMbON3JQ-5",
        "colab_type": "text"
      },
      "source": [
        "Si ya está familiarizado con `data.frame()`, tenga en cuenta que `tibble()` hace mucho menos, por ejemplo:\n",
        "\n",
        "- No cambia el tipo de las entradas (por ejemplo, no convierte cadenas en factores!).\n",
        "- No cambia los nombres de las variables\n",
        "- No crea nombres de fila.\n",
        "\n",
        "Es posible que un tibble tenga nombres de columna que no sean nombres de variable R válidos, es decir, nombres no sintácticos. Por ejemplo, pueden no comenzar con una letra, o pueden contener caracteres inusuales como un espacio. Para referirse a estas variables, debe rodearlas con comillas invertidas, `:"
      ]
    },
    {
      "cell_type": "code",
      "metadata": {
        "id": "TYZybhPMJS4_",
        "colab_type": "code",
        "colab": {
          "base_uri": "https://localhost:8080/",
          "height": 99
        },
        "outputId": "3ad16b76-c0e1-4b05-c236-30e1dade4d73"
      },
      "source": [
        "tb <- tibble(\n",
        "  `:)` = \"smile\", \n",
        "  ` ` = \"space\",\n",
        "  `2000` = \"number\"\n",
        ")\n",
        "tb"
      ],
      "execution_count": 5,
      "outputs": [
        {
          "output_type": "display_data",
          "data": {
            "text/plain": [
              "  :)          2000  \n",
              "1 smile space number"
            ],
            "text/latex": "A tibble: 1 × 3\n\\begin{tabular}{lll}\n :) &   & 2000\\\\\n <chr> & <chr> & <chr>\\\\\n\\hline\n\t smile & space & number\\\\\n\\end{tabular}\n",
            "text/markdown": "\nA tibble: 1 × 3\n\n| :) &lt;chr&gt; | <!----> &lt;chr&gt; | 2000 &lt;chr&gt; |\n|---|---|---|\n| smile | space | number |\n\n",
            "text/html": [
              "<table>\n",
              "<caption>A tibble: 1 × 3</caption>\n",
              "<thead>\n",
              "\t<tr><th scope=col>:)</th><th scope=col> </th><th scope=col>2000</th></tr>\n",
              "\t<tr><th scope=col>&lt;chr&gt;</th><th scope=col>&lt;chr&gt;</th><th scope=col>&lt;chr&gt;</th></tr>\n",
              "</thead>\n",
              "<tbody>\n",
              "\t<tr><td>smile</td><td>space</td><td>number</td></tr>\n",
              "</tbody>\n",
              "</table>\n"
            ]
          },
          "metadata": {
            "tags": []
          }
        }
      ]
    },
    {
      "cell_type": "markdown",
      "metadata": {
        "id": "yX2grtMPJVhK",
        "colab_type": "text"
      },
      "source": [
        "También necesitará las comillas invertidas cuando trabaje con estas variables en otros paquetes, como ggplot2, dplyr y tidyr.\n",
        "\n",
        "Otra forma de crear un tibble es con `tribble()`, abreviatura de tibble transpuesto. `tribble()` está personalizado para la entrada de datos en el código: los encabezados de las columnas están definidos por fórmulas (es decir, comienzan con ~) y las entradas están separadas por comas. Esto permite diseñar pequeñas cantidades de datos en forma fácil de leer."
      ]
    },
    {
      "cell_type": "code",
      "metadata": {
        "id": "9CHRuAdVJY2M",
        "colab_type": "code",
        "colab": {
          "base_uri": "https://localhost:8080/",
          "height": 120
        },
        "outputId": "55244f44-f95b-413f-e397-1f2548241795"
      },
      "source": [
        "tribble(\n",
        "  ~x, ~y, ~z,\n",
        "  #--|--|----\n",
        "  \"a\", 2, 3.6,\n",
        "  \"b\", 1, 8.5\n",
        ")"
      ],
      "execution_count": 6,
      "outputs": [
        {
          "output_type": "display_data",
          "data": {
            "text/plain": [
              "  x y z  \n",
              "1 a 2 3.6\n",
              "2 b 1 8.5"
            ],
            "text/latex": "A tibble: 2 × 3\n\\begin{tabular}{lll}\n x & y & z\\\\\n <chr> & <dbl> & <dbl>\\\\\n\\hline\n\t a & 2 & 3.6\\\\\n\t b & 1 & 8.5\\\\\n\\end{tabular}\n",
            "text/markdown": "\nA tibble: 2 × 3\n\n| x &lt;chr&gt; | y &lt;dbl&gt; | z &lt;dbl&gt; |\n|---|---|---|\n| a | 2 | 3.6 |\n| b | 1 | 8.5 |\n\n",
            "text/html": [
              "<table>\n",
              "<caption>A tibble: 2 × 3</caption>\n",
              "<thead>\n",
              "\t<tr><th scope=col>x</th><th scope=col>y</th><th scope=col>z</th></tr>\n",
              "\t<tr><th scope=col>&lt;chr&gt;</th><th scope=col>&lt;dbl&gt;</th><th scope=col>&lt;dbl&gt;</th></tr>\n",
              "</thead>\n",
              "<tbody>\n",
              "\t<tr><td>a</td><td>2</td><td>3.6</td></tr>\n",
              "\t<tr><td>b</td><td>1</td><td>8.5</td></tr>\n",
              "</tbody>\n",
              "</table>\n"
            ]
          },
          "metadata": {
            "tags": []
          }
        }
      ]
    },
    {
      "cell_type": "markdown",
      "metadata": {
        "id": "fEkgXmOsJb13",
        "colab_type": "text"
      },
      "source": [
        "##**Tibbles vs data.frames**\n",
        "\n",
        "Hay dos diferencias principales en el uso de un tibble frente a un data.frame clásico: impresión y subconjunto."
      ]
    },
    {
      "cell_type": "markdown",
      "metadata": {
        "id": "ZWG49F0HJ0yl",
        "colab_type": "text"
      },
      "source": [
        "###**Impresión**\n",
        "Tibbles tiene un método de impresión refinado que muestra solo las primeras 10 filas y todas las columnas que caben en la pantalla. Esto hace que sea mucho más fácil trabajar con grandes datos. Además de su nombre, cada columna informa su tipo, una buena característica prestada de `str()`:"
      ]
    },
    {
      "cell_type": "code",
      "metadata": {
        "id": "-V62ertMJ5Ua",
        "colab_type": "code",
        "colab": {
          "base_uri": "https://localhost:8080/",
          "height": 1000
        },
        "outputId": "9ae1e29b-6438-4435-98ac-4f81ae127b6d"
      },
      "source": [
        "tibble(\n",
        "  a = lubridate::now() + runif(1e3) * 86400,\n",
        "  b = lubridate::today() + runif(1e3) * 30,\n",
        "  c = 1:1e3,\n",
        "  d = runif(1e3),\n",
        "  e = sample(letters, 1e3, replace = TRUE)\n",
        ")"
      ],
      "execution_count": 11,
      "outputs": [
        {
          "output_type": "display_data",
          "data": {
            "text/plain": [
              "     a                   b          c    d          e\n",
              "1    2020-07-05 03:38:12 2020-07-11  1   0.84722017 f\n",
              "2    2020-07-05 08:42:14 2020-07-16  2   0.84085258 p\n",
              "3    2020-07-04 17:21:11 2020-07-19  3   0.60346359 w\n",
              "4    2020-07-04 17:00:01 2020-07-29  4   0.91265989 z\n",
              "5    2020-07-04 18:02:03 2020-07-15  5   0.08135727 a\n",
              "6    2020-07-04 19:44:48 2020-07-05  6   0.25170595 l\n",
              "7    2020-07-05 02:50:50 2020-07-09  7   0.02369652 o\n",
              "8    2020-07-04 23:54:30 2020-07-24  8   0.56527660 d\n",
              "9    2020-07-05 03:40:03 2020-07-30  9   0.19363668 m\n",
              "10   2020-07-05 12:34:49 2020-07-06 10   0.04598638 c\n",
              "11   2020-07-05 07:13:44 2020-07-15 11   0.09545832 l\n",
              "12   2020-07-05 02:37:19 2020-07-08 12   0.17047552 r\n",
              "13   2020-07-05 12:40:14 2020-07-21 13   0.36795860 z\n",
              "14   2020-07-05 12:10:03 2020-07-26 14   0.65029134 r\n",
              "15   2020-07-04 19:41:45 2020-07-26 15   0.61669324 i\n",
              "16   2020-07-05 00:00:48 2020-08-01 16   0.12280321 e\n",
              "17   2020-07-04 23:46:21 2020-07-29 17   0.24476901 e\n",
              "18   2020-07-04 15:43:17 2020-08-01 18   0.41406811 g\n",
              "19   2020-07-05 02:06:55 2020-07-21 19   0.19637150 h\n",
              "20   2020-07-05 04:22:57 2020-07-24 20   0.56604199 k\n",
              "21   2020-07-05 03:59:04 2020-07-09 21   0.37094109 o\n",
              "22   2020-07-04 23:15:12 2020-07-21 22   0.31880093 a\n",
              "23   2020-07-04 16:06:39 2020-07-29 23   0.15244633 x\n",
              "24   2020-07-04 16:46:17 2020-07-17 24   0.35611174 r\n",
              "25   2020-07-05 14:12:56 2020-07-23 25   0.33076605 g\n",
              "26   2020-07-04 20:33:34 2020-07-06 26   0.46287098 w\n",
              "27   2020-07-04 19:52:54 2020-07-29 27   0.66887348 d\n",
              "28   2020-07-04 18:07:28 2020-07-05 28   0.40152857 u\n",
              "29   2020-07-05 07:30:25 2020-07-23 29   0.60401654 e\n",
              "30   2020-07-05 02:31:15 2020-07-11 30   0.97873087 s\n",
              "⋮    ⋮                   ⋮          ⋮    ⋮          ⋮\n",
              "971  2020-07-05 06:46:15 2020-08-02  971 0.75297257 q\n",
              "972  2020-07-05 12:57:28 2020-07-12  972 0.98797550 v\n",
              "973  2020-07-05 00:59:15 2020-07-12  973 0.74279509 s\n",
              "974  2020-07-05 08:38:45 2020-07-19  974 0.72135927 n\n",
              "975  2020-07-04 20:42:46 2020-07-07  975 0.84009258 j\n",
              "976  2020-07-05 05:22:45 2020-07-09  976 0.32158740 d\n",
              "977  2020-07-05 10:27:06 2020-07-08  977 0.75723949 j\n",
              "978  2020-07-05 10:41:45 2020-07-10  978 0.53544561 y\n",
              "979  2020-07-04 19:09:03 2020-07-23  979 0.22977104 t\n",
              "980  2020-07-04 21:39:34 2020-07-25  980 0.55223532 y\n",
              "981  2020-07-05 13:24:32 2020-07-22  981 0.29635807 w\n",
              "982  2020-07-05 05:13:33 2020-07-04  982 0.58864495 j\n",
              "983  2020-07-04 16:55:17 2020-07-10  983 0.57975103 z\n",
              "984  2020-07-05 02:07:32 2020-07-16  984 0.18117333 s\n",
              "985  2020-07-05 07:27:25 2020-07-09  985 0.39188544 c\n",
              "986  2020-07-05 00:26:21 2020-07-25  986 0.05271736 v\n",
              "987  2020-07-05 05:41:44 2020-07-21  987 0.92858723 j\n",
              "988  2020-07-04 22:19:47 2020-07-07  988 0.61454785 j\n",
              "989  2020-07-05 14:08:26 2020-07-22  989 0.15238770 i\n",
              "990  2020-07-05 13:12:38 2020-07-18  990 0.51351620 o\n",
              "991  2020-07-05 01:03:53 2020-07-17  991 0.10273136 b\n",
              "992  2020-07-05 04:30:39 2020-07-26  992 0.84102148 j\n",
              "993  2020-07-04 17:55:06 2020-07-30  993 0.51014318 u\n",
              "994  2020-07-04 18:02:52 2020-07-25  994 0.92905233 m\n",
              "995  2020-07-04 18:50:35 2020-07-25  995 0.99646706 v\n",
              "996  2020-07-05 12:44:23 2020-07-06  996 0.52332803 i\n",
              "997  2020-07-05 07:27:46 2020-07-23  997 0.87717565 q\n",
              "998  2020-07-04 19:47:53 2020-07-12  998 0.69839691 w\n",
              "999  2020-07-05 09:27:17 2020-07-11  999 0.78666107 o\n",
              "1000 2020-07-04 17:56:36 2020-07-13 1000 0.28724565 q"
            ],
            "text/latex": "A tibble: 1000 × 5\n\\begin{tabular}{lllll}\n a & b & c & d & e\\\\\n <dttm> & <date> & <int> & <dbl> & <chr>\\\\\n\\hline\n\t 2020-07-05 03:38:12 & 2020-07-11 &  1 & 0.84722017 & f\\\\\n\t 2020-07-05 08:42:14 & 2020-07-16 &  2 & 0.84085258 & p\\\\\n\t 2020-07-04 17:21:11 & 2020-07-19 &  3 & 0.60346359 & w\\\\\n\t 2020-07-04 17:00:01 & 2020-07-29 &  4 & 0.91265989 & z\\\\\n\t 2020-07-04 18:02:03 & 2020-07-15 &  5 & 0.08135727 & a\\\\\n\t 2020-07-04 19:44:48 & 2020-07-05 &  6 & 0.25170595 & l\\\\\n\t 2020-07-05 02:50:50 & 2020-07-09 &  7 & 0.02369652 & o\\\\\n\t 2020-07-04 23:54:30 & 2020-07-24 &  8 & 0.56527660 & d\\\\\n\t 2020-07-05 03:40:03 & 2020-07-30 &  9 & 0.19363668 & m\\\\\n\t 2020-07-05 12:34:49 & 2020-07-06 & 10 & 0.04598638 & c\\\\\n\t 2020-07-05 07:13:44 & 2020-07-15 & 11 & 0.09545832 & l\\\\\n\t 2020-07-05 02:37:19 & 2020-07-08 & 12 & 0.17047552 & r\\\\\n\t 2020-07-05 12:40:14 & 2020-07-21 & 13 & 0.36795860 & z\\\\\n\t 2020-07-05 12:10:03 & 2020-07-26 & 14 & 0.65029134 & r\\\\\n\t 2020-07-04 19:41:45 & 2020-07-26 & 15 & 0.61669324 & i\\\\\n\t 2020-07-05 00:00:48 & 2020-08-01 & 16 & 0.12280321 & e\\\\\n\t 2020-07-04 23:46:21 & 2020-07-29 & 17 & 0.24476901 & e\\\\\n\t 2020-07-04 15:43:17 & 2020-08-01 & 18 & 0.41406811 & g\\\\\n\t 2020-07-05 02:06:55 & 2020-07-21 & 19 & 0.19637150 & h\\\\\n\t 2020-07-05 04:22:57 & 2020-07-24 & 20 & 0.56604199 & k\\\\\n\t 2020-07-05 03:59:04 & 2020-07-09 & 21 & 0.37094109 & o\\\\\n\t 2020-07-04 23:15:12 & 2020-07-21 & 22 & 0.31880093 & a\\\\\n\t 2020-07-04 16:06:39 & 2020-07-29 & 23 & 0.15244633 & x\\\\\n\t 2020-07-04 16:46:17 & 2020-07-17 & 24 & 0.35611174 & r\\\\\n\t 2020-07-05 14:12:56 & 2020-07-23 & 25 & 0.33076605 & g\\\\\n\t 2020-07-04 20:33:34 & 2020-07-06 & 26 & 0.46287098 & w\\\\\n\t 2020-07-04 19:52:54 & 2020-07-29 & 27 & 0.66887348 & d\\\\\n\t 2020-07-04 18:07:28 & 2020-07-05 & 28 & 0.40152857 & u\\\\\n\t 2020-07-05 07:30:25 & 2020-07-23 & 29 & 0.60401654 & e\\\\\n\t 2020-07-05 02:31:15 & 2020-07-11 & 30 & 0.97873087 & s\\\\\n\t ⋮ & ⋮ & ⋮ & ⋮ & ⋮\\\\\n\t 2020-07-05 06:46:15 & 2020-08-02 &  971 & 0.75297257 & q\\\\\n\t 2020-07-05 12:57:28 & 2020-07-12 &  972 & 0.98797550 & v\\\\\n\t 2020-07-05 00:59:15 & 2020-07-12 &  973 & 0.74279509 & s\\\\\n\t 2020-07-05 08:38:45 & 2020-07-19 &  974 & 0.72135927 & n\\\\\n\t 2020-07-04 20:42:46 & 2020-07-07 &  975 & 0.84009258 & j\\\\\n\t 2020-07-05 05:22:45 & 2020-07-09 &  976 & 0.32158740 & d\\\\\n\t 2020-07-05 10:27:06 & 2020-07-08 &  977 & 0.75723949 & j\\\\\n\t 2020-07-05 10:41:45 & 2020-07-10 &  978 & 0.53544561 & y\\\\\n\t 2020-07-04 19:09:03 & 2020-07-23 &  979 & 0.22977104 & t\\\\\n\t 2020-07-04 21:39:34 & 2020-07-25 &  980 & 0.55223532 & y\\\\\n\t 2020-07-05 13:24:32 & 2020-07-22 &  981 & 0.29635807 & w\\\\\n\t 2020-07-05 05:13:33 & 2020-07-04 &  982 & 0.58864495 & j\\\\\n\t 2020-07-04 16:55:17 & 2020-07-10 &  983 & 0.57975103 & z\\\\\n\t 2020-07-05 02:07:32 & 2020-07-16 &  984 & 0.18117333 & s\\\\\n\t 2020-07-05 07:27:25 & 2020-07-09 &  985 & 0.39188544 & c\\\\\n\t 2020-07-05 00:26:21 & 2020-07-25 &  986 & 0.05271736 & v\\\\\n\t 2020-07-05 05:41:44 & 2020-07-21 &  987 & 0.92858723 & j\\\\\n\t 2020-07-04 22:19:47 & 2020-07-07 &  988 & 0.61454785 & j\\\\\n\t 2020-07-05 14:08:26 & 2020-07-22 &  989 & 0.15238770 & i\\\\\n\t 2020-07-05 13:12:38 & 2020-07-18 &  990 & 0.51351620 & o\\\\\n\t 2020-07-05 01:03:53 & 2020-07-17 &  991 & 0.10273136 & b\\\\\n\t 2020-07-05 04:30:39 & 2020-07-26 &  992 & 0.84102148 & j\\\\\n\t 2020-07-04 17:55:06 & 2020-07-30 &  993 & 0.51014318 & u\\\\\n\t 2020-07-04 18:02:52 & 2020-07-25 &  994 & 0.92905233 & m\\\\\n\t 2020-07-04 18:50:35 & 2020-07-25 &  995 & 0.99646706 & v\\\\\n\t 2020-07-05 12:44:23 & 2020-07-06 &  996 & 0.52332803 & i\\\\\n\t 2020-07-05 07:27:46 & 2020-07-23 &  997 & 0.87717565 & q\\\\\n\t 2020-07-04 19:47:53 & 2020-07-12 &  998 & 0.69839691 & w\\\\\n\t 2020-07-05 09:27:17 & 2020-07-11 &  999 & 0.78666107 & o\\\\\n\t 2020-07-04 17:56:36 & 2020-07-13 & 1000 & 0.28724565 & q\\\\\n\\end{tabular}\n",
            "text/markdown": "\nA tibble: 1000 × 5\n\n| a &lt;dttm&gt; | b &lt;date&gt; | c &lt;int&gt; | d &lt;dbl&gt; | e &lt;chr&gt; |\n|---|---|---|---|---|\n| 2020-07-05 03:38:12 | 2020-07-11 |  1 | 0.84722017 | f |\n| 2020-07-05 08:42:14 | 2020-07-16 |  2 | 0.84085258 | p |\n| 2020-07-04 17:21:11 | 2020-07-19 |  3 | 0.60346359 | w |\n| 2020-07-04 17:00:01 | 2020-07-29 |  4 | 0.91265989 | z |\n| 2020-07-04 18:02:03 | 2020-07-15 |  5 | 0.08135727 | a |\n| 2020-07-04 19:44:48 | 2020-07-05 |  6 | 0.25170595 | l |\n| 2020-07-05 02:50:50 | 2020-07-09 |  7 | 0.02369652 | o |\n| 2020-07-04 23:54:30 | 2020-07-24 |  8 | 0.56527660 | d |\n| 2020-07-05 03:40:03 | 2020-07-30 |  9 | 0.19363668 | m |\n| 2020-07-05 12:34:49 | 2020-07-06 | 10 | 0.04598638 | c |\n| 2020-07-05 07:13:44 | 2020-07-15 | 11 | 0.09545832 | l |\n| 2020-07-05 02:37:19 | 2020-07-08 | 12 | 0.17047552 | r |\n| 2020-07-05 12:40:14 | 2020-07-21 | 13 | 0.36795860 | z |\n| 2020-07-05 12:10:03 | 2020-07-26 | 14 | 0.65029134 | r |\n| 2020-07-04 19:41:45 | 2020-07-26 | 15 | 0.61669324 | i |\n| 2020-07-05 00:00:48 | 2020-08-01 | 16 | 0.12280321 | e |\n| 2020-07-04 23:46:21 | 2020-07-29 | 17 | 0.24476901 | e |\n| 2020-07-04 15:43:17 | 2020-08-01 | 18 | 0.41406811 | g |\n| 2020-07-05 02:06:55 | 2020-07-21 | 19 | 0.19637150 | h |\n| 2020-07-05 04:22:57 | 2020-07-24 | 20 | 0.56604199 | k |\n| 2020-07-05 03:59:04 | 2020-07-09 | 21 | 0.37094109 | o |\n| 2020-07-04 23:15:12 | 2020-07-21 | 22 | 0.31880093 | a |\n| 2020-07-04 16:06:39 | 2020-07-29 | 23 | 0.15244633 | x |\n| 2020-07-04 16:46:17 | 2020-07-17 | 24 | 0.35611174 | r |\n| 2020-07-05 14:12:56 | 2020-07-23 | 25 | 0.33076605 | g |\n| 2020-07-04 20:33:34 | 2020-07-06 | 26 | 0.46287098 | w |\n| 2020-07-04 19:52:54 | 2020-07-29 | 27 | 0.66887348 | d |\n| 2020-07-04 18:07:28 | 2020-07-05 | 28 | 0.40152857 | u |\n| 2020-07-05 07:30:25 | 2020-07-23 | 29 | 0.60401654 | e |\n| 2020-07-05 02:31:15 | 2020-07-11 | 30 | 0.97873087 | s |\n| ⋮ | ⋮ | ⋮ | ⋮ | ⋮ |\n| 2020-07-05 06:46:15 | 2020-08-02 |  971 | 0.75297257 | q |\n| 2020-07-05 12:57:28 | 2020-07-12 |  972 | 0.98797550 | v |\n| 2020-07-05 00:59:15 | 2020-07-12 |  973 | 0.74279509 | s |\n| 2020-07-05 08:38:45 | 2020-07-19 |  974 | 0.72135927 | n |\n| 2020-07-04 20:42:46 | 2020-07-07 |  975 | 0.84009258 | j |\n| 2020-07-05 05:22:45 | 2020-07-09 |  976 | 0.32158740 | d |\n| 2020-07-05 10:27:06 | 2020-07-08 |  977 | 0.75723949 | j |\n| 2020-07-05 10:41:45 | 2020-07-10 |  978 | 0.53544561 | y |\n| 2020-07-04 19:09:03 | 2020-07-23 |  979 | 0.22977104 | t |\n| 2020-07-04 21:39:34 | 2020-07-25 |  980 | 0.55223532 | y |\n| 2020-07-05 13:24:32 | 2020-07-22 |  981 | 0.29635807 | w |\n| 2020-07-05 05:13:33 | 2020-07-04 |  982 | 0.58864495 | j |\n| 2020-07-04 16:55:17 | 2020-07-10 |  983 | 0.57975103 | z |\n| 2020-07-05 02:07:32 | 2020-07-16 |  984 | 0.18117333 | s |\n| 2020-07-05 07:27:25 | 2020-07-09 |  985 | 0.39188544 | c |\n| 2020-07-05 00:26:21 | 2020-07-25 |  986 | 0.05271736 | v |\n| 2020-07-05 05:41:44 | 2020-07-21 |  987 | 0.92858723 | j |\n| 2020-07-04 22:19:47 | 2020-07-07 |  988 | 0.61454785 | j |\n| 2020-07-05 14:08:26 | 2020-07-22 |  989 | 0.15238770 | i |\n| 2020-07-05 13:12:38 | 2020-07-18 |  990 | 0.51351620 | o |\n| 2020-07-05 01:03:53 | 2020-07-17 |  991 | 0.10273136 | b |\n| 2020-07-05 04:30:39 | 2020-07-26 |  992 | 0.84102148 | j |\n| 2020-07-04 17:55:06 | 2020-07-30 |  993 | 0.51014318 | u |\n| 2020-07-04 18:02:52 | 2020-07-25 |  994 | 0.92905233 | m |\n| 2020-07-04 18:50:35 | 2020-07-25 |  995 | 0.99646706 | v |\n| 2020-07-05 12:44:23 | 2020-07-06 |  996 | 0.52332803 | i |\n| 2020-07-05 07:27:46 | 2020-07-23 |  997 | 0.87717565 | q |\n| 2020-07-04 19:47:53 | 2020-07-12 |  998 | 0.69839691 | w |\n| 2020-07-05 09:27:17 | 2020-07-11 |  999 | 0.78666107 | o |\n| 2020-07-04 17:56:36 | 2020-07-13 | 1000 | 0.28724565 | q |\n\n",
            "text/html": [
              "<table>\n",
              "<caption>A tibble: 1000 × 5</caption>\n",
              "<thead>\n",
              "\t<tr><th scope=col>a</th><th scope=col>b</th><th scope=col>c</th><th scope=col>d</th><th scope=col>e</th></tr>\n",
              "\t<tr><th scope=col>&lt;dttm&gt;</th><th scope=col>&lt;date&gt;</th><th scope=col>&lt;int&gt;</th><th scope=col>&lt;dbl&gt;</th><th scope=col>&lt;chr&gt;</th></tr>\n",
              "</thead>\n",
              "<tbody>\n",
              "\t<tr><td>2020-07-05 03:38:12</td><td>2020-07-11</td><td> 1</td><td>0.84722017</td><td>f</td></tr>\n",
              "\t<tr><td>2020-07-05 08:42:14</td><td>2020-07-16</td><td> 2</td><td>0.84085258</td><td>p</td></tr>\n",
              "\t<tr><td>2020-07-04 17:21:11</td><td>2020-07-19</td><td> 3</td><td>0.60346359</td><td>w</td></tr>\n",
              "\t<tr><td>2020-07-04 17:00:01</td><td>2020-07-29</td><td> 4</td><td>0.91265989</td><td>z</td></tr>\n",
              "\t<tr><td>2020-07-04 18:02:03</td><td>2020-07-15</td><td> 5</td><td>0.08135727</td><td>a</td></tr>\n",
              "\t<tr><td>2020-07-04 19:44:48</td><td>2020-07-05</td><td> 6</td><td>0.25170595</td><td>l</td></tr>\n",
              "\t<tr><td>2020-07-05 02:50:50</td><td>2020-07-09</td><td> 7</td><td>0.02369652</td><td>o</td></tr>\n",
              "\t<tr><td>2020-07-04 23:54:30</td><td>2020-07-24</td><td> 8</td><td>0.56527660</td><td>d</td></tr>\n",
              "\t<tr><td>2020-07-05 03:40:03</td><td>2020-07-30</td><td> 9</td><td>0.19363668</td><td>m</td></tr>\n",
              "\t<tr><td>2020-07-05 12:34:49</td><td>2020-07-06</td><td>10</td><td>0.04598638</td><td>c</td></tr>\n",
              "\t<tr><td>2020-07-05 07:13:44</td><td>2020-07-15</td><td>11</td><td>0.09545832</td><td>l</td></tr>\n",
              "\t<tr><td>2020-07-05 02:37:19</td><td>2020-07-08</td><td>12</td><td>0.17047552</td><td>r</td></tr>\n",
              "\t<tr><td>2020-07-05 12:40:14</td><td>2020-07-21</td><td>13</td><td>0.36795860</td><td>z</td></tr>\n",
              "\t<tr><td>2020-07-05 12:10:03</td><td>2020-07-26</td><td>14</td><td>0.65029134</td><td>r</td></tr>\n",
              "\t<tr><td>2020-07-04 19:41:45</td><td>2020-07-26</td><td>15</td><td>0.61669324</td><td>i</td></tr>\n",
              "\t<tr><td>2020-07-05 00:00:48</td><td>2020-08-01</td><td>16</td><td>0.12280321</td><td>e</td></tr>\n",
              "\t<tr><td>2020-07-04 23:46:21</td><td>2020-07-29</td><td>17</td><td>0.24476901</td><td>e</td></tr>\n",
              "\t<tr><td>2020-07-04 15:43:17</td><td>2020-08-01</td><td>18</td><td>0.41406811</td><td>g</td></tr>\n",
              "\t<tr><td>2020-07-05 02:06:55</td><td>2020-07-21</td><td>19</td><td>0.19637150</td><td>h</td></tr>\n",
              "\t<tr><td>2020-07-05 04:22:57</td><td>2020-07-24</td><td>20</td><td>0.56604199</td><td>k</td></tr>\n",
              "\t<tr><td>2020-07-05 03:59:04</td><td>2020-07-09</td><td>21</td><td>0.37094109</td><td>o</td></tr>\n",
              "\t<tr><td>2020-07-04 23:15:12</td><td>2020-07-21</td><td>22</td><td>0.31880093</td><td>a</td></tr>\n",
              "\t<tr><td>2020-07-04 16:06:39</td><td>2020-07-29</td><td>23</td><td>0.15244633</td><td>x</td></tr>\n",
              "\t<tr><td>2020-07-04 16:46:17</td><td>2020-07-17</td><td>24</td><td>0.35611174</td><td>r</td></tr>\n",
              "\t<tr><td>2020-07-05 14:12:56</td><td>2020-07-23</td><td>25</td><td>0.33076605</td><td>g</td></tr>\n",
              "\t<tr><td>2020-07-04 20:33:34</td><td>2020-07-06</td><td>26</td><td>0.46287098</td><td>w</td></tr>\n",
              "\t<tr><td>2020-07-04 19:52:54</td><td>2020-07-29</td><td>27</td><td>0.66887348</td><td>d</td></tr>\n",
              "\t<tr><td>2020-07-04 18:07:28</td><td>2020-07-05</td><td>28</td><td>0.40152857</td><td>u</td></tr>\n",
              "\t<tr><td>2020-07-05 07:30:25</td><td>2020-07-23</td><td>29</td><td>0.60401654</td><td>e</td></tr>\n",
              "\t<tr><td>2020-07-05 02:31:15</td><td>2020-07-11</td><td>30</td><td>0.97873087</td><td>s</td></tr>\n",
              "\t<tr><td>⋮</td><td>⋮</td><td>⋮</td><td>⋮</td><td>⋮</td></tr>\n",
              "\t<tr><td>2020-07-05 06:46:15</td><td>2020-08-02</td><td> 971</td><td>0.75297257</td><td>q</td></tr>\n",
              "\t<tr><td>2020-07-05 12:57:28</td><td>2020-07-12</td><td> 972</td><td>0.98797550</td><td>v</td></tr>\n",
              "\t<tr><td>2020-07-05 00:59:15</td><td>2020-07-12</td><td> 973</td><td>0.74279509</td><td>s</td></tr>\n",
              "\t<tr><td>2020-07-05 08:38:45</td><td>2020-07-19</td><td> 974</td><td>0.72135927</td><td>n</td></tr>\n",
              "\t<tr><td>2020-07-04 20:42:46</td><td>2020-07-07</td><td> 975</td><td>0.84009258</td><td>j</td></tr>\n",
              "\t<tr><td>2020-07-05 05:22:45</td><td>2020-07-09</td><td> 976</td><td>0.32158740</td><td>d</td></tr>\n",
              "\t<tr><td>2020-07-05 10:27:06</td><td>2020-07-08</td><td> 977</td><td>0.75723949</td><td>j</td></tr>\n",
              "\t<tr><td>2020-07-05 10:41:45</td><td>2020-07-10</td><td> 978</td><td>0.53544561</td><td>y</td></tr>\n",
              "\t<tr><td>2020-07-04 19:09:03</td><td>2020-07-23</td><td> 979</td><td>0.22977104</td><td>t</td></tr>\n",
              "\t<tr><td>2020-07-04 21:39:34</td><td>2020-07-25</td><td> 980</td><td>0.55223532</td><td>y</td></tr>\n",
              "\t<tr><td>2020-07-05 13:24:32</td><td>2020-07-22</td><td> 981</td><td>0.29635807</td><td>w</td></tr>\n",
              "\t<tr><td>2020-07-05 05:13:33</td><td>2020-07-04</td><td> 982</td><td>0.58864495</td><td>j</td></tr>\n",
              "\t<tr><td>2020-07-04 16:55:17</td><td>2020-07-10</td><td> 983</td><td>0.57975103</td><td>z</td></tr>\n",
              "\t<tr><td>2020-07-05 02:07:32</td><td>2020-07-16</td><td> 984</td><td>0.18117333</td><td>s</td></tr>\n",
              "\t<tr><td>2020-07-05 07:27:25</td><td>2020-07-09</td><td> 985</td><td>0.39188544</td><td>c</td></tr>\n",
              "\t<tr><td>2020-07-05 00:26:21</td><td>2020-07-25</td><td> 986</td><td>0.05271736</td><td>v</td></tr>\n",
              "\t<tr><td>2020-07-05 05:41:44</td><td>2020-07-21</td><td> 987</td><td>0.92858723</td><td>j</td></tr>\n",
              "\t<tr><td>2020-07-04 22:19:47</td><td>2020-07-07</td><td> 988</td><td>0.61454785</td><td>j</td></tr>\n",
              "\t<tr><td>2020-07-05 14:08:26</td><td>2020-07-22</td><td> 989</td><td>0.15238770</td><td>i</td></tr>\n",
              "\t<tr><td>2020-07-05 13:12:38</td><td>2020-07-18</td><td> 990</td><td>0.51351620</td><td>o</td></tr>\n",
              "\t<tr><td>2020-07-05 01:03:53</td><td>2020-07-17</td><td> 991</td><td>0.10273136</td><td>b</td></tr>\n",
              "\t<tr><td>2020-07-05 04:30:39</td><td>2020-07-26</td><td> 992</td><td>0.84102148</td><td>j</td></tr>\n",
              "\t<tr><td>2020-07-04 17:55:06</td><td>2020-07-30</td><td> 993</td><td>0.51014318</td><td>u</td></tr>\n",
              "\t<tr><td>2020-07-04 18:02:52</td><td>2020-07-25</td><td> 994</td><td>0.92905233</td><td>m</td></tr>\n",
              "\t<tr><td>2020-07-04 18:50:35</td><td>2020-07-25</td><td> 995</td><td>0.99646706</td><td>v</td></tr>\n",
              "\t<tr><td>2020-07-05 12:44:23</td><td>2020-07-06</td><td> 996</td><td>0.52332803</td><td>i</td></tr>\n",
              "\t<tr><td>2020-07-05 07:27:46</td><td>2020-07-23</td><td> 997</td><td>0.87717565</td><td>q</td></tr>\n",
              "\t<tr><td>2020-07-04 19:47:53</td><td>2020-07-12</td><td> 998</td><td>0.69839691</td><td>w</td></tr>\n",
              "\t<tr><td>2020-07-05 09:27:17</td><td>2020-07-11</td><td> 999</td><td>0.78666107</td><td>o</td></tr>\n",
              "\t<tr><td>2020-07-04 17:56:36</td><td>2020-07-13</td><td>1000</td><td>0.28724565</td><td>q</td></tr>\n",
              "</tbody>\n",
              "</table>\n"
            ]
          },
          "metadata": {
            "tags": []
          }
        }
      ]
    },
    {
      "cell_type": "markdown",
      "metadata": {
        "id": "kHprXlI4J_W0",
        "colab_type": "text"
      },
      "source": [
        "Los Tibbles están diseñados para que no abrumes accidentalmente tu consola cuando imprimes grandes marcos de datos. La forma típica de visualizar los datos es mediante la función `head()`, la cual despliega todas las columnas de datos (y por defecto 10 filas):"
      ]
    },
    {
      "cell_type": "code",
      "metadata": {
        "id": "nqvtawbjKLRn",
        "colab_type": "code",
        "colab": {
          "base_uri": "https://localhost:8080/",
          "height": 357
        },
        "outputId": "306df5cd-0893-4064-e5fc-4bfe9adb60e9"
      },
      "source": [
        "install.packages(\"nycflights13\")\n",
        "library(nycflights13)\n",
        "head(flights)"
      ],
      "execution_count": 12,
      "outputs": [
        {
          "output_type": "stream",
          "text": [
            "Installing package into ‘/usr/local/lib/R/site-library’\n",
            "(as ‘lib’ is unspecified)\n",
            "\n"
          ],
          "name": "stderr"
        },
        {
          "output_type": "display_data",
          "data": {
            "text/plain": [
              "  year month day dep_time sched_dep_time dep_delay arr_time sched_arr_time\n",
              "1 2013 1     1   517      515             2         830      819          \n",
              "2 2013 1     1   533      529             4         850      830          \n",
              "3 2013 1     1   542      540             2         923      850          \n",
              "4 2013 1     1   544      545            -1        1004     1022          \n",
              "5 2013 1     1   554      600            -6         812      837          \n",
              "6 2013 1     1   554      558            -4         740      728          \n",
              "  arr_delay carrier flight tailnum origin dest air_time distance hour minute\n",
              "1  11       UA      1545   N14228  EWR    IAH  227      1400     5    15    \n",
              "2  20       UA      1714   N24211  LGA    IAH  227      1416     5    29    \n",
              "3  33       AA      1141   N619AA  JFK    MIA  160      1089     5    40    \n",
              "4 -18       B6       725   N804JB  JFK    BQN  183      1576     5    45    \n",
              "5 -25       DL       461   N668DN  LGA    ATL  116       762     6     0    \n",
              "6  12       UA      1696   N39463  EWR    ORD  150       719     5    58    \n",
              "  time_hour          \n",
              "1 2013-01-01 05:00:00\n",
              "2 2013-01-01 05:00:00\n",
              "3 2013-01-01 05:00:00\n",
              "4 2013-01-01 05:00:00\n",
              "5 2013-01-01 06:00:00\n",
              "6 2013-01-01 05:00:00"
            ],
            "text/latex": "A tibble: 6 × 19\n\\begin{tabular}{lllllllllllllllllll}\n year & month & day & dep\\_time & sched\\_dep\\_time & dep\\_delay & arr\\_time & sched\\_arr\\_time & arr\\_delay & carrier & flight & tailnum & origin & dest & air\\_time & distance & hour & minute & time\\_hour\\\\\n <int> & <int> & <int> & <int> & <int> & <dbl> & <int> & <int> & <dbl> & <chr> & <int> & <chr> & <chr> & <chr> & <dbl> & <dbl> & <dbl> & <dbl> & <dttm>\\\\\n\\hline\n\t 2013 & 1 & 1 & 517 & 515 &  2 &  830 &  819 &  11 & UA & 1545 & N14228 & EWR & IAH & 227 & 1400 & 5 & 15 & 2013-01-01 05:00:00\\\\\n\t 2013 & 1 & 1 & 533 & 529 &  4 &  850 &  830 &  20 & UA & 1714 & N24211 & LGA & IAH & 227 & 1416 & 5 & 29 & 2013-01-01 05:00:00\\\\\n\t 2013 & 1 & 1 & 542 & 540 &  2 &  923 &  850 &  33 & AA & 1141 & N619AA & JFK & MIA & 160 & 1089 & 5 & 40 & 2013-01-01 05:00:00\\\\\n\t 2013 & 1 & 1 & 544 & 545 & -1 & 1004 & 1022 & -18 & B6 &  725 & N804JB & JFK & BQN & 183 & 1576 & 5 & 45 & 2013-01-01 05:00:00\\\\\n\t 2013 & 1 & 1 & 554 & 600 & -6 &  812 &  837 & -25 & DL &  461 & N668DN & LGA & ATL & 116 &  762 & 6 &  0 & 2013-01-01 06:00:00\\\\\n\t 2013 & 1 & 1 & 554 & 558 & -4 &  740 &  728 &  12 & UA & 1696 & N39463 & EWR & ORD & 150 &  719 & 5 & 58 & 2013-01-01 05:00:00\\\\\n\\end{tabular}\n",
            "text/markdown": "\nA tibble: 6 × 19\n\n| year &lt;int&gt; | month &lt;int&gt; | day &lt;int&gt; | dep_time &lt;int&gt; | sched_dep_time &lt;int&gt; | dep_delay &lt;dbl&gt; | arr_time &lt;int&gt; | sched_arr_time &lt;int&gt; | arr_delay &lt;dbl&gt; | carrier &lt;chr&gt; | flight &lt;int&gt; | tailnum &lt;chr&gt; | origin &lt;chr&gt; | dest &lt;chr&gt; | air_time &lt;dbl&gt; | distance &lt;dbl&gt; | hour &lt;dbl&gt; | minute &lt;dbl&gt; | time_hour &lt;dttm&gt; |\n|---|---|---|---|---|---|---|---|---|---|---|---|---|---|---|---|---|---|---|\n| 2013 | 1 | 1 | 517 | 515 |  2 |  830 |  819 |  11 | UA | 1545 | N14228 | EWR | IAH | 227 | 1400 | 5 | 15 | 2013-01-01 05:00:00 |\n| 2013 | 1 | 1 | 533 | 529 |  4 |  850 |  830 |  20 | UA | 1714 | N24211 | LGA | IAH | 227 | 1416 | 5 | 29 | 2013-01-01 05:00:00 |\n| 2013 | 1 | 1 | 542 | 540 |  2 |  923 |  850 |  33 | AA | 1141 | N619AA | JFK | MIA | 160 | 1089 | 5 | 40 | 2013-01-01 05:00:00 |\n| 2013 | 1 | 1 | 544 | 545 | -1 | 1004 | 1022 | -18 | B6 |  725 | N804JB | JFK | BQN | 183 | 1576 | 5 | 45 | 2013-01-01 05:00:00 |\n| 2013 | 1 | 1 | 554 | 600 | -6 |  812 |  837 | -25 | DL |  461 | N668DN | LGA | ATL | 116 |  762 | 6 |  0 | 2013-01-01 06:00:00 |\n| 2013 | 1 | 1 | 554 | 558 | -4 |  740 |  728 |  12 | UA | 1696 | N39463 | EWR | ORD | 150 |  719 | 5 | 58 | 2013-01-01 05:00:00 |\n\n",
            "text/html": [
              "<table>\n",
              "<caption>A tibble: 6 × 19</caption>\n",
              "<thead>\n",
              "\t<tr><th scope=col>year</th><th scope=col>month</th><th scope=col>day</th><th scope=col>dep_time</th><th scope=col>sched_dep_time</th><th scope=col>dep_delay</th><th scope=col>arr_time</th><th scope=col>sched_arr_time</th><th scope=col>arr_delay</th><th scope=col>carrier</th><th scope=col>flight</th><th scope=col>tailnum</th><th scope=col>origin</th><th scope=col>dest</th><th scope=col>air_time</th><th scope=col>distance</th><th scope=col>hour</th><th scope=col>minute</th><th scope=col>time_hour</th></tr>\n",
              "\t<tr><th scope=col>&lt;int&gt;</th><th scope=col>&lt;int&gt;</th><th scope=col>&lt;int&gt;</th><th scope=col>&lt;int&gt;</th><th scope=col>&lt;int&gt;</th><th scope=col>&lt;dbl&gt;</th><th scope=col>&lt;int&gt;</th><th scope=col>&lt;int&gt;</th><th scope=col>&lt;dbl&gt;</th><th scope=col>&lt;chr&gt;</th><th scope=col>&lt;int&gt;</th><th scope=col>&lt;chr&gt;</th><th scope=col>&lt;chr&gt;</th><th scope=col>&lt;chr&gt;</th><th scope=col>&lt;dbl&gt;</th><th scope=col>&lt;dbl&gt;</th><th scope=col>&lt;dbl&gt;</th><th scope=col>&lt;dbl&gt;</th><th scope=col>&lt;dttm&gt;</th></tr>\n",
              "</thead>\n",
              "<tbody>\n",
              "\t<tr><td>2013</td><td>1</td><td>1</td><td>517</td><td>515</td><td> 2</td><td> 830</td><td> 819</td><td> 11</td><td>UA</td><td>1545</td><td>N14228</td><td>EWR</td><td>IAH</td><td>227</td><td>1400</td><td>5</td><td>15</td><td>2013-01-01 05:00:00</td></tr>\n",
              "\t<tr><td>2013</td><td>1</td><td>1</td><td>533</td><td>529</td><td> 4</td><td> 850</td><td> 830</td><td> 20</td><td>UA</td><td>1714</td><td>N24211</td><td>LGA</td><td>IAH</td><td>227</td><td>1416</td><td>5</td><td>29</td><td>2013-01-01 05:00:00</td></tr>\n",
              "\t<tr><td>2013</td><td>1</td><td>1</td><td>542</td><td>540</td><td> 2</td><td> 923</td><td> 850</td><td> 33</td><td>AA</td><td>1141</td><td>N619AA</td><td>JFK</td><td>MIA</td><td>160</td><td>1089</td><td>5</td><td>40</td><td>2013-01-01 05:00:00</td></tr>\n",
              "\t<tr><td>2013</td><td>1</td><td>1</td><td>544</td><td>545</td><td>-1</td><td>1004</td><td>1022</td><td>-18</td><td>B6</td><td> 725</td><td>N804JB</td><td>JFK</td><td>BQN</td><td>183</td><td>1576</td><td>5</td><td>45</td><td>2013-01-01 05:00:00</td></tr>\n",
              "\t<tr><td>2013</td><td>1</td><td>1</td><td>554</td><td>600</td><td>-6</td><td> 812</td><td> 837</td><td>-25</td><td>DL</td><td> 461</td><td>N668DN</td><td>LGA</td><td>ATL</td><td>116</td><td> 762</td><td>6</td><td> 0</td><td>2013-01-01 06:00:00</td></tr>\n",
              "\t<tr><td>2013</td><td>1</td><td>1</td><td>554</td><td>558</td><td>-4</td><td> 740</td><td> 728</td><td> 12</td><td>UA</td><td>1696</td><td>N39463</td><td>EWR</td><td>ORD</td><td>150</td><td> 719</td><td>5</td><td>58</td><td>2013-01-01 05:00:00</td></tr>\n",
              "</tbody>\n",
              "</table>\n"
            ]
          },
          "metadata": {
            "tags": []
          }
        }
      ]
    },
    {
      "cell_type": "markdown",
      "metadata": {
        "id": "diY_7V5ocMP9",
        "colab_type": "text"
      },
      "source": [
        "Mediante `print()` se puede optimizar esta visualización para controlar el número de filas (n) y el ancho de la pantalla, a través de la instrucción siguiente:"
      ]
    },
    {
      "cell_type": "code",
      "metadata": {
        "id": "hK-DWTs0KPpR",
        "colab_type": "code",
        "colab": {
          "base_uri": "https://localhost:8080/",
          "height": 663
        },
        "outputId": "a9846a97-64b0-4f0b-fb1f-c192d97fcd14"
      },
      "source": [
        "nycflights13::flights %>% \n",
        "  print(n = 10, width = Inf)"
      ],
      "execution_count": 15,
      "outputs": [
        {
          "output_type": "stream",
          "text": [
            "\u001b[90m# A tibble: 336,776 x 19\u001b[39m\n",
            "    year month   day dep_time sched_dep_time dep_delay arr_time sched_arr_time\n",
            "   \u001b[3m\u001b[90m<int>\u001b[39m\u001b[23m \u001b[3m\u001b[90m<int>\u001b[39m\u001b[23m \u001b[3m\u001b[90m<int>\u001b[39m\u001b[23m    \u001b[3m\u001b[90m<int>\u001b[39m\u001b[23m          \u001b[3m\u001b[90m<int>\u001b[39m\u001b[23m     \u001b[3m\u001b[90m<dbl>\u001b[39m\u001b[23m    \u001b[3m\u001b[90m<int>\u001b[39m\u001b[23m          \u001b[3m\u001b[90m<int>\u001b[39m\u001b[23m\n",
            "\u001b[90m 1\u001b[39m  \u001b[4m2\u001b[24m013     1     1      517            515         2      830            819\n",
            "\u001b[90m 2\u001b[39m  \u001b[4m2\u001b[24m013     1     1      533            529         4      850            830\n",
            "\u001b[90m 3\u001b[39m  \u001b[4m2\u001b[24m013     1     1      542            540         2      923            850\n",
            "\u001b[90m 4\u001b[39m  \u001b[4m2\u001b[24m013     1     1      544            545        -\u001b[31m1\u001b[39m     \u001b[4m1\u001b[24m004           \u001b[4m1\u001b[24m022\n",
            "\u001b[90m 5\u001b[39m  \u001b[4m2\u001b[24m013     1     1      554            600        -\u001b[31m6\u001b[39m      812            837\n",
            "\u001b[90m 6\u001b[39m  \u001b[4m2\u001b[24m013     1     1      554            558        -\u001b[31m4\u001b[39m      740            728\n",
            "\u001b[90m 7\u001b[39m  \u001b[4m2\u001b[24m013     1     1      555            600        -\u001b[31m5\u001b[39m      913            854\n",
            "\u001b[90m 8\u001b[39m  \u001b[4m2\u001b[24m013     1     1      557            600        -\u001b[31m3\u001b[39m      709            723\n",
            "\u001b[90m 9\u001b[39m  \u001b[4m2\u001b[24m013     1     1      557            600        -\u001b[31m3\u001b[39m      838            846\n",
            "\u001b[90m10\u001b[39m  \u001b[4m2\u001b[24m013     1     1      558            600        -\u001b[31m2\u001b[39m      753            745\n",
            "   arr_delay carrier flight tailnum origin dest  air_time distance  hour minute\n",
            "       \u001b[3m\u001b[90m<dbl>\u001b[39m\u001b[23m \u001b[3m\u001b[90m<chr>\u001b[39m\u001b[23m    \u001b[3m\u001b[90m<int>\u001b[39m\u001b[23m \u001b[3m\u001b[90m<chr>\u001b[39m\u001b[23m   \u001b[3m\u001b[90m<chr>\u001b[39m\u001b[23m  \u001b[3m\u001b[90m<chr>\u001b[39m\u001b[23m    \u001b[3m\u001b[90m<dbl>\u001b[39m\u001b[23m    \u001b[3m\u001b[90m<dbl>\u001b[39m\u001b[23m \u001b[3m\u001b[90m<dbl>\u001b[39m\u001b[23m  \u001b[3m\u001b[90m<dbl>\u001b[39m\u001b[23m\n",
            "\u001b[90m 1\u001b[39m        11 UA        \u001b[4m1\u001b[24m545 N14228  EWR    IAH        227     \u001b[4m1\u001b[24m400     5     15\n",
            "\u001b[90m 2\u001b[39m        20 UA        \u001b[4m1\u001b[24m714 N24211  LGA    IAH        227     \u001b[4m1\u001b[24m416     5     29\n",
            "\u001b[90m 3\u001b[39m        33 AA        \u001b[4m1\u001b[24m141 N619AA  JFK    MIA        160     \u001b[4m1\u001b[24m089     5     40\n",
            "\u001b[90m 4\u001b[39m       -\u001b[31m18\u001b[39m B6         725 N804JB  JFK    BQN        183     \u001b[4m1\u001b[24m576     5     45\n",
            "\u001b[90m 5\u001b[39m       -\u001b[31m25\u001b[39m DL         461 N668DN  LGA    ATL        116      762     6      0\n",
            "\u001b[90m 6\u001b[39m        12 UA        \u001b[4m1\u001b[24m696 N39463  EWR    ORD        150      719     5     58\n",
            "\u001b[90m 7\u001b[39m        19 B6         507 N516JB  EWR    FLL        158     \u001b[4m1\u001b[24m065     6      0\n",
            "\u001b[90m 8\u001b[39m       -\u001b[31m14\u001b[39m EV        \u001b[4m5\u001b[24m708 N829AS  LGA    IAD         53      229     6      0\n",
            "\u001b[90m 9\u001b[39m        -\u001b[31m8\u001b[39m B6          79 N593JB  JFK    MCO        140      944     6      0\n",
            "\u001b[90m10\u001b[39m         8 AA         301 N3ALAA  LGA    ORD        138      733     6      0\n",
            "   time_hour          \n",
            "   \u001b[3m\u001b[90m<dttm>\u001b[39m\u001b[23m             \n",
            "\u001b[90m 1\u001b[39m 2013-01-01 \u001b[90m05:00:00\u001b[39m\n",
            "\u001b[90m 2\u001b[39m 2013-01-01 \u001b[90m05:00:00\u001b[39m\n",
            "\u001b[90m 3\u001b[39m 2013-01-01 \u001b[90m05:00:00\u001b[39m\n",
            "\u001b[90m 4\u001b[39m 2013-01-01 \u001b[90m05:00:00\u001b[39m\n",
            "\u001b[90m 5\u001b[39m 2013-01-01 \u001b[90m06:00:00\u001b[39m\n",
            "\u001b[90m 6\u001b[39m 2013-01-01 \u001b[90m05:00:00\u001b[39m\n",
            "\u001b[90m 7\u001b[39m 2013-01-01 \u001b[90m06:00:00\u001b[39m\n",
            "\u001b[90m 8\u001b[39m 2013-01-01 \u001b[90m06:00:00\u001b[39m\n",
            "\u001b[90m 9\u001b[39m 2013-01-01 \u001b[90m06:00:00\u001b[39m\n",
            "\u001b[90m10\u001b[39m 2013-01-01 \u001b[90m06:00:00\u001b[39m\n",
            "\u001b[90m# … with 336,766 more rows\u001b[39m\n"
          ],
          "name": "stdout"
        }
      ]
    },
    {
      "cell_type": "markdown",
      "metadata": {
        "id": "MfslZObDKUyE",
        "colab_type": "text"
      },
      "source": [
        "También puede controlar el comportamiento de impresión predeterminado configurando opciones:\n",
        "- `options(tibble.print_max = n, tibble.print_min = m)`: si hay más de n filas, imprima solo m filas. Use las `options(tibble.print_min = Inf)` para mostrar siempre todas las filas.\n",
        "\n",
        "- Use las `options(tibble.width = Inf)` para imprimir siempre todas las columnas, independientemente del ancho de la pantalla.\n",
        "\n",
        "Puede ver una lista completa de opciones mirando la ayuda del paquete con `package?tibble`."
      ]
    },
    {
      "cell_type": "markdown",
      "metadata": {
        "id": "eoSbazZjKaOY",
        "colab_type": "text"
      },
      "source": [
        "###**Subsetting**\n",
        "\n",
        "Hasta ahora, todas las herramientas que ha aprendido han funcionado con marcos de datos completos. Si desea extraer una sola variable, necesita algunas herramientas nuevas, `$` y `[[` : \n",
        "\n",
        "- `[[` puede extraer por nombre o cargo; \n",
        "- `$` solo extrae por nombre pero es un poco menos tipeado."
      ]
    },
    {
      "cell_type": "code",
      "metadata": {
        "id": "VrM5iPnNKcMx",
        "colab_type": "code",
        "colab": {
          "base_uri": "https://localhost:8080/",
          "height": 183
        },
        "outputId": "fb7d1a12-a5ab-458f-b300-408fcef10915"
      },
      "source": [
        "df <- tibble(\n",
        "  x = runif(5),\n",
        "  y = rnorm(5)\n",
        ")\n",
        "df"
      ],
      "execution_count": 17,
      "outputs": [
        {
          "output_type": "display_data",
          "data": {
            "text/plain": [
              "  x          y         \n",
              "1 0.76114939  0.1297166\n",
              "2 0.11254976  0.4909166\n",
              "3 0.01727794  1.7998116\n",
              "4 0.75907280  0.5646757\n",
              "5 0.83441427 -0.2100751"
            ],
            "text/latex": "A tibble: 5 × 2\n\\begin{tabular}{ll}\n x & y\\\\\n <dbl> & <dbl>\\\\\n\\hline\n\t 0.76114939 &  0.1297166\\\\\n\t 0.11254976 &  0.4909166\\\\\n\t 0.01727794 &  1.7998116\\\\\n\t 0.75907280 &  0.5646757\\\\\n\t 0.83441427 & -0.2100751\\\\\n\\end{tabular}\n",
            "text/markdown": "\nA tibble: 5 × 2\n\n| x &lt;dbl&gt; | y &lt;dbl&gt; |\n|---|---|\n| 0.76114939 |  0.1297166 |\n| 0.11254976 |  0.4909166 |\n| 0.01727794 |  1.7998116 |\n| 0.75907280 |  0.5646757 |\n| 0.83441427 | -0.2100751 |\n\n",
            "text/html": [
              "<table>\n",
              "<caption>A tibble: 5 × 2</caption>\n",
              "<thead>\n",
              "\t<tr><th scope=col>x</th><th scope=col>y</th></tr>\n",
              "\t<tr><th scope=col>&lt;dbl&gt;</th><th scope=col>&lt;dbl&gt;</th></tr>\n",
              "</thead>\n",
              "<tbody>\n",
              "\t<tr><td>0.76114939</td><td> 0.1297166</td></tr>\n",
              "\t<tr><td>0.11254976</td><td> 0.4909166</td></tr>\n",
              "\t<tr><td>0.01727794</td><td> 1.7998116</td></tr>\n",
              "\t<tr><td>0.75907280</td><td> 0.5646757</td></tr>\n",
              "\t<tr><td>0.83441427</td><td>-0.2100751</td></tr>\n",
              "</tbody>\n",
              "</table>\n"
            ]
          },
          "metadata": {
            "tags": []
          }
        }
      ]
    },
    {
      "cell_type": "code",
      "metadata": {
        "id": "2ny4Imi4KfSI",
        "colab_type": "code",
        "colab": {
          "base_uri": "https://localhost:8080/",
          "height": 34
        },
        "outputId": "996f815c-dd68-4169-fa66-d3a8ea83dec4"
      },
      "source": [
        "df$x"
      ],
      "execution_count": 18,
      "outputs": [
        {
          "output_type": "display_data",
          "data": {
            "text/plain": [
              "[1] 0.76114939 0.11254976 0.01727794 0.75907280 0.83441427"
            ],
            "text/latex": "\\begin{enumerate*}\n\\item 0.761149392463267\n\\item 0.112549761775881\n\\item 0.017277944367379\n\\item 0.759072802960873\n\\item 0.83441426907666\n\\end{enumerate*}\n",
            "text/markdown": "1. 0.761149392463267\n2. 0.112549761775881\n3. 0.017277944367379\n4. 0.759072802960873\n5. 0.83441426907666\n\n\n",
            "text/html": [
              "<style>\n",
              ".list-inline {list-style: none; margin:0; padding: 0}\n",
              ".list-inline>li {display: inline-block}\n",
              ".list-inline>li:not(:last-child)::after {content: \"\\00b7\"; padding: 0 .5ex}\n",
              "</style>\n",
              "<ol class=list-inline><li>0.761149392463267</li><li>0.112549761775881</li><li>0.017277944367379</li><li>0.759072802960873</li><li>0.83441426907666</li></ol>\n"
            ]
          },
          "metadata": {
            "tags": []
          }
        }
      ]
    },
    {
      "cell_type": "code",
      "metadata": {
        "id": "vPcIm5kGKg-g",
        "colab_type": "code",
        "colab": {
          "base_uri": "https://localhost:8080/",
          "height": 34
        },
        "outputId": "0efbeddd-6716-4ad2-9cd5-28b937e623e0"
      },
      "source": [
        "df[[\"x\"]]"
      ],
      "execution_count": null,
      "outputs": [
        {
          "output_type": "display_data",
          "data": {
            "text/plain": [
              "[1] 0.5773182 0.1578297 0.4116265 0.9005832 0.4397813"
            ],
            "text/latex": "\\begin{enumerate*}\n\\item 0.577318157069385\n\\item 0.157829695846885\n\\item 0.411626498913392\n\\item 0.900583236478269\n\\item 0.439781284891069\n\\end{enumerate*}\n",
            "text/markdown": "1. 0.577318157069385\n2. 0.157829695846885\n3. 0.411626498913392\n4. 0.900583236478269\n5. 0.439781284891069\n\n\n",
            "text/html": [
              "<style>\n",
              ".list-inline {list-style: none; margin:0; padding: 0}\n",
              ".list-inline>li {display: inline-block}\n",
              ".list-inline>li:not(:last-child)::after {content: \"\\00b7\"; padding: 0 .5ex}\n",
              "</style>\n",
              "<ol class=list-inline><li>0.577318157069385</li><li>0.157829695846885</li><li>0.411626498913392</li><li>0.900583236478269</li><li>0.439781284891069</li></ol>\n"
            ]
          },
          "metadata": {
            "tags": []
          }
        }
      ]
    },
    {
      "cell_type": "markdown",
      "metadata": {
        "id": "j7HKp2MRKkf0",
        "colab_type": "text"
      },
      "source": [
        "#**Importación de datos**\n",
        "En esta sesión, aprenderá a leer archivos rectangulares de texto plano en R. Aquí, solo nos centraremos en la importación de datos, pero muchos de los principios se traducirán en otras formas de datos. Terminaremos con algunos consejos sobre paquetes que son útiles para otros tipos de datos.\n",
        "\n",
        "La mayoría de las funciones del lector están relacionadas con convertir archivos planos en marcos de datos:\n",
        "\n",
        "- `read_csv()` lee archivos delimitados por comas, `read_csv2()` lee archivos separados por punto y coma (común en países donde, se usa como el lugar decimal), `read_tsv()` lee archivos delimitados por tabulaciones, y `read_delim()` lee archivos con cualquier delimitador.\n",
        "\n",
        "\n",
        "- `read_fwf()` lee archivos de ancho fijo. Puede especificar campos por su ancho con `fwf_widths()` o su posición con `fwf_positions()`. `read_table()` lee una variación común de archivos de ancho fijo donde las columnas están separadas por espacios en blanco.\n",
        "\n",
        "- `read_log()` lee los archivos de registro de estilo Apache. (Pero también consulte webreadr, que se basa en `read_log()` y proporciona muchas más herramientas útiles).\n",
        "\n",
        "Todas estas funciones tienen una sintaxis similar: una vez que hayas dominado una, puedes usar las otras con facilidad. Para el resto de este capítulo nos centraremos en `read_csv()`. Los archivos csv no solo son una de las formas más comunes de almacenamiento de datos, sino que una vez que comprenda `read_csv()`, puede aplicar fácilmente su conocimiento a todas las demás funciones en readr.\n",
        "\n",
        "El primer argumento para `read_csv()` es el más importante: es la ruta al archivo a leer."
      ]
    },
    {
      "cell_type": "code",
      "metadata": {
        "id": "yzkgXtTFKoos",
        "colab_type": "code",
        "colab": {
          "base_uri": "https://localhost:8080/",
          "height": 187
        },
        "outputId": "2e7e8918-f188-406e-ad4d-5f66f0cba6c3"
      },
      "source": [
        "heights <- read_csv(\"https://raw.githubusercontent.com/hadley/r4ds/master/data/heights.csv\")"
      ],
      "execution_count": 19,
      "outputs": [
        {
          "output_type": "stream",
          "text": [
            "Parsed with column specification:\n",
            "cols(\n",
            "  earn = \u001b[32mcol_double()\u001b[39m,\n",
            "  height = \u001b[32mcol_double()\u001b[39m,\n",
            "  sex = \u001b[31mcol_character()\u001b[39m,\n",
            "  ed = \u001b[32mcol_double()\u001b[39m,\n",
            "  age = \u001b[32mcol_double()\u001b[39m,\n",
            "  race = \u001b[31mcol_character()\u001b[39m\n",
            ")\n",
            "\n"
          ],
          "name": "stderr"
        }
      ]
    },
    {
      "cell_type": "markdown",
      "metadata": {
        "id": "YJYbbfFeKrtS",
        "colab_type": "text"
      },
      "source": [
        "Cuando ejecuta `read_csv()` imprime una especificación de columna que proporciona el nombre y el tipo de cada columna. Esa es una parte importante de la función `read`, a la que volveremos para analizar un archivo.\n",
        "\n",
        "También puede proporcionar un archivo csv desd eun directorio si se trabaja desde un equipo de escritorio dándole la ruta al directorio. Esto es útil para experimentar con el lector y para crear ejemplos reproducibles para compartir con otros:"
      ]
    },
    {
      "cell_type": "code",
      "metadata": {
        "id": "hpunRW3pLDbv",
        "colab_type": "code",
        "colab": {
          "base_uri": "https://localhost:8080/",
          "height": 120
        },
        "outputId": "732da0d1-e4c6-447f-f933-3fc9c93dbd44"
      },
      "source": [
        "read_csv(\"a,b,c\n",
        "1,2,3\n",
        "4,5,6\")"
      ],
      "execution_count": 20,
      "outputs": [
        {
          "output_type": "display_data",
          "data": {
            "text/plain": [
              "  a b c\n",
              "1 1 2 3\n",
              "2 4 5 6"
            ],
            "text/latex": "A spec\\_tbl\\_df: 2 × 3\n\\begin{tabular}{lll}\n a & b & c\\\\\n <dbl> & <dbl> & <dbl>\\\\\n\\hline\n\t 1 & 2 & 3\\\\\n\t 4 & 5 & 6\\\\\n\\end{tabular}\n",
            "text/markdown": "\nA spec_tbl_df: 2 × 3\n\n| a &lt;dbl&gt; | b &lt;dbl&gt; | c &lt;dbl&gt; |\n|---|---|---|\n| 1 | 2 | 3 |\n| 4 | 5 | 6 |\n\n",
            "text/html": [
              "<table>\n",
              "<caption>A spec_tbl_df: 2 × 3</caption>\n",
              "<thead>\n",
              "\t<tr><th scope=col>a</th><th scope=col>b</th><th scope=col>c</th></tr>\n",
              "\t<tr><th scope=col>&lt;dbl&gt;</th><th scope=col>&lt;dbl&gt;</th><th scope=col>&lt;dbl&gt;</th></tr>\n",
              "</thead>\n",
              "<tbody>\n",
              "\t<tr><td>1</td><td>2</td><td>3</td></tr>\n",
              "\t<tr><td>4</td><td>5</td><td>6</td></tr>\n",
              "</tbody>\n",
              "</table>\n"
            ]
          },
          "metadata": {
            "tags": []
          }
        }
      ]
    },
    {
      "cell_type": "markdown",
      "metadata": {
        "id": "zxEUXB2aLGUf",
        "colab_type": "text"
      },
      "source": [
        "En ambos casos, `read_csv()` usa la primera línea de datos para los nombres de columna, lo cual es una convención muy común. Hay dos casos en los que es posible que desee modificar este comportamiento:\n",
        "\n",
        "1. A veces hay algunas líneas de metadatos en la parte superior del archivo. Puede usar `skip = n` para omitir las primeras `n` líneas; o use `comment = \"#\"` para descartar todas las líneas que comienzan con (por ejemplo) `#`."
      ]
    },
    {
      "cell_type": "code",
      "metadata": {
        "id": "Iq9wyAQZLHmt",
        "colab_type": "code",
        "colab": {
          "base_uri": "https://localhost:8080/",
          "height": 99
        },
        "outputId": "d9a6c862-eb45-43c8-82e2-83052d00051d"
      },
      "source": [
        "read_csv(\"The first line of metadata\n",
        "  The second line of metadata\n",
        "  x,y,z\n",
        "  1,2,3\", skip = 2)"
      ],
      "execution_count": 21,
      "outputs": [
        {
          "output_type": "display_data",
          "data": {
            "text/plain": [
              "  x y z\n",
              "1 1 2 3"
            ],
            "text/latex": "A spec\\_tbl\\_df: 1 × 3\n\\begin{tabular}{lll}\n x & y & z\\\\\n <dbl> & <dbl> & <dbl>\\\\\n\\hline\n\t 1 & 2 & 3\\\\\n\\end{tabular}\n",
            "text/markdown": "\nA spec_tbl_df: 1 × 3\n\n| x &lt;dbl&gt; | y &lt;dbl&gt; | z &lt;dbl&gt; |\n|---|---|---|\n| 1 | 2 | 3 |\n\n",
            "text/html": [
              "<table>\n",
              "<caption>A spec_tbl_df: 1 × 3</caption>\n",
              "<thead>\n",
              "\t<tr><th scope=col>x</th><th scope=col>y</th><th scope=col>z</th></tr>\n",
              "\t<tr><th scope=col>&lt;dbl&gt;</th><th scope=col>&lt;dbl&gt;</th><th scope=col>&lt;dbl&gt;</th></tr>\n",
              "</thead>\n",
              "<tbody>\n",
              "\t<tr><td>1</td><td>2</td><td>3</td></tr>\n",
              "</tbody>\n",
              "</table>\n"
            ]
          },
          "metadata": {
            "tags": []
          }
        }
      ]
    },
    {
      "cell_type": "code",
      "metadata": {
        "id": "ruWOZN70LMaG",
        "colab_type": "code",
        "colab": {
          "base_uri": "https://localhost:8080/",
          "height": 99
        },
        "outputId": "90661f52-42f6-499e-a943-2beb1f1d25f1"
      },
      "source": [
        "read_csv(\"# A comment I want to skip\n",
        "  x,y,z\n",
        "  1,2,3\", comment = \"#\")"
      ],
      "execution_count": 22,
      "outputs": [
        {
          "output_type": "display_data",
          "data": {
            "text/plain": [
              "  x y z\n",
              "1 1 2 3"
            ],
            "text/latex": "A spec\\_tbl\\_df: 1 × 3\n\\begin{tabular}{lll}\n x & y & z\\\\\n <dbl> & <dbl> & <dbl>\\\\\n\\hline\n\t 1 & 2 & 3\\\\\n\\end{tabular}\n",
            "text/markdown": "\nA spec_tbl_df: 1 × 3\n\n| x &lt;dbl&gt; | y &lt;dbl&gt; | z &lt;dbl&gt; |\n|---|---|---|\n| 1 | 2 | 3 |\n\n",
            "text/html": [
              "<table>\n",
              "<caption>A spec_tbl_df: 1 × 3</caption>\n",
              "<thead>\n",
              "\t<tr><th scope=col>x</th><th scope=col>y</th><th scope=col>z</th></tr>\n",
              "\t<tr><th scope=col>&lt;dbl&gt;</th><th scope=col>&lt;dbl&gt;</th><th scope=col>&lt;dbl&gt;</th></tr>\n",
              "</thead>\n",
              "<tbody>\n",
              "\t<tr><td>1</td><td>2</td><td>3</td></tr>\n",
              "</tbody>\n",
              "</table>\n"
            ]
          },
          "metadata": {
            "tags": []
          }
        }
      ]
    },
    {
      "cell_type": "markdown",
      "metadata": {
        "id": "-zaOBHo5LQMY",
        "colab_type": "text"
      },
      "source": [
        "2. Es posible que los datos no tengan nombres de columna. Puede usar `col_names = FALSE` para indicar a `read_csv()` que no trate la primera fila como encabezados y, en su lugar, los rotule secuencialmente de $X1$ a $XN$:"
      ]
    },
    {
      "cell_type": "code",
      "metadata": {
        "id": "UKrIpzs4LSFl",
        "colab_type": "code",
        "colab": {
          "base_uri": "https://localhost:8080/",
          "height": 120
        },
        "outputId": "7dee274f-2552-40a2-a8b2-88ddd9e691c0"
      },
      "source": [
        "read_csv(\"1,2,3\\n4,5,6\", col_names = FALSE)"
      ],
      "execution_count": 23,
      "outputs": [
        {
          "output_type": "display_data",
          "data": {
            "text/plain": [
              "  X1 X2 X3\n",
              "1 1  2  3 \n",
              "2 4  5  6 "
            ],
            "text/latex": "A spec\\_tbl\\_df: 2 × 3\n\\begin{tabular}{lll}\n X1 & X2 & X3\\\\\n <dbl> & <dbl> & <dbl>\\\\\n\\hline\n\t 1 & 2 & 3\\\\\n\t 4 & 5 & 6\\\\\n\\end{tabular}\n",
            "text/markdown": "\nA spec_tbl_df: 2 × 3\n\n| X1 &lt;dbl&gt; | X2 &lt;dbl&gt; | X3 &lt;dbl&gt; |\n|---|---|---|\n| 1 | 2 | 3 |\n| 4 | 5 | 6 |\n\n",
            "text/html": [
              "<table>\n",
              "<caption>A spec_tbl_df: 2 × 3</caption>\n",
              "<thead>\n",
              "\t<tr><th scope=col>X1</th><th scope=col>X2</th><th scope=col>X3</th></tr>\n",
              "\t<tr><th scope=col>&lt;dbl&gt;</th><th scope=col>&lt;dbl&gt;</th><th scope=col>&lt;dbl&gt;</th></tr>\n",
              "</thead>\n",
              "<tbody>\n",
              "\t<tr><td>1</td><td>2</td><td>3</td></tr>\n",
              "\t<tr><td>4</td><td>5</td><td>6</td></tr>\n",
              "</tbody>\n",
              "</table>\n"
            ]
          },
          "metadata": {
            "tags": []
          }
        }
      ]
    },
    {
      "cell_type": "markdown",
      "metadata": {
        "id": "oJ4h3KsBLtP6",
        "colab_type": "text"
      },
      "source": [
        "(`\"\\n\"` es un atajo conveniente para agregar una nueva línea. Aprenderá más sobre ella y otros tipos de escape de cadena en los conceptos básicos de la cadena).\n",
        "\n",
        "Alternativamente, puede pasar `col_names` un vector de caracteres que se utilizará como los nombres de columna:"
      ]
    },
    {
      "cell_type": "code",
      "metadata": {
        "id": "tt2LngDyLvC0",
        "colab_type": "code",
        "colab": {
          "base_uri": "https://localhost:8080/",
          "height": 120
        },
        "outputId": "46937424-2b5c-4a6f-b7ef-9d5bd8473b19"
      },
      "source": [
        "read_csv(\"1,2,3\\n4,5,6\", col_names = c(\"x\", \"y\", \"z\"))"
      ],
      "execution_count": 24,
      "outputs": [
        {
          "output_type": "display_data",
          "data": {
            "text/plain": [
              "  x y z\n",
              "1 1 2 3\n",
              "2 4 5 6"
            ],
            "text/latex": "A spec\\_tbl\\_df: 2 × 3\n\\begin{tabular}{lll}\n x & y & z\\\\\n <dbl> & <dbl> & <dbl>\\\\\n\\hline\n\t 1 & 2 & 3\\\\\n\t 4 & 5 & 6\\\\\n\\end{tabular}\n",
            "text/markdown": "\nA spec_tbl_df: 2 × 3\n\n| x &lt;dbl&gt; | y &lt;dbl&gt; | z &lt;dbl&gt; |\n|---|---|---|\n| 1 | 2 | 3 |\n| 4 | 5 | 6 |\n\n",
            "text/html": [
              "<table>\n",
              "<caption>A spec_tbl_df: 2 × 3</caption>\n",
              "<thead>\n",
              "\t<tr><th scope=col>x</th><th scope=col>y</th><th scope=col>z</th></tr>\n",
              "\t<tr><th scope=col>&lt;dbl&gt;</th><th scope=col>&lt;dbl&gt;</th><th scope=col>&lt;dbl&gt;</th></tr>\n",
              "</thead>\n",
              "<tbody>\n",
              "\t<tr><td>1</td><td>2</td><td>3</td></tr>\n",
              "\t<tr><td>4</td><td>5</td><td>6</td></tr>\n",
              "</tbody>\n",
              "</table>\n"
            ]
          },
          "metadata": {
            "tags": []
          }
        }
      ]
    },
    {
      "cell_type": "markdown",
      "metadata": {
        "id": "g5qppJqqLxNo",
        "colab_type": "text"
      },
      "source": [
        "Otra opción que comúnmente necesita ajustes es `na`: esto especifica el valor (o valores) que se utilizan para representar los valores faltantes en su archivo:"
      ]
    },
    {
      "cell_type": "code",
      "metadata": {
        "id": "X41bZ2JfLziM",
        "colab_type": "code",
        "colab": {
          "base_uri": "https://localhost:8080/",
          "height": 116
        },
        "outputId": "f7411e9f-b502-4951-9940-0f43719aeef2"
      },
      "source": [
        "read_csv(\"a,b,c\\n1,2,.\", na = \".\")"
      ],
      "execution_count": 25,
      "outputs": [
        {
          "output_type": "display_data",
          "data": {
            "text/plain": [
              "  a b c \n",
              "1 1 2 NA"
            ],
            "text/latex": "A spec\\_tbl\\_df: 1 × 3\n\\begin{tabular}{lll}\n a & b & c\\\\\n <dbl> & <dbl> & <lgl>\\\\\n\\hline\n\t 1 & 2 & NA\\\\\n\\end{tabular}\n",
            "text/markdown": "\nA spec_tbl_df: 1 × 3\n\n| a &lt;dbl&gt; | b &lt;dbl&gt; | c &lt;lgl&gt; |\n|---|---|---|\n| 1 | 2 | NA |\n\n",
            "text/html": [
              "<table>\n",
              "<caption>A spec_tbl_df: 1 × 3</caption>\n",
              "<thead>\n",
              "\t<tr><th scope=col>a</th><th scope=col>b</th><th scope=col>c</th></tr>\n",
              "\t<tr><th scope=col>&lt;dbl&gt;</th><th scope=col>&lt;dbl&gt;</th><th scope=col>&lt;lgl&gt;</th></tr>\n",
              "</thead>\n",
              "<tbody>\n",
              "\t<tr><td>1</td><td>2</td><td>NA</td></tr>\n",
              "</tbody>\n",
              "</table>\n"
            ]
          },
          "metadata": {
            "tags": []
          }
        }
      ]
    },
    {
      "cell_type": "markdown",
      "metadata": {
        "id": "1EYhG0W3L2C7",
        "colab_type": "text"
      },
      "source": [
        "Esto es todo lo que necesita saber para leer ~ 75% de los archivos CSV que encontrará en la práctica. También puede adaptar fácilmente lo que aprendió a leer archivos separados por tabulaciones con `read_tsv()` y archivos de ancho fijo con `read_fwf()`. Para leer en archivos más desafiantes, necesitará aprender más sobre cómo el lector analiza cada columna, convirtiéndolas en vectores R."
      ]
    },
    {
      "cell_type": "markdown",
      "metadata": {
        "id": "3qCubakoL4-z",
        "colab_type": "text"
      },
      "source": [
        "##**Parseo de vectores**\n",
        "\n",
        "A este punto debemos hablar sobre las funciones de `parse_*()`. Estas funciones toman un vector de caracteres y devuelven un vector más especializado como un lógico, entero o fecha:"
      ]
    },
    {
      "cell_type": "code",
      "metadata": {
        "id": "1PTkOTCPL727",
        "colab_type": "code",
        "colab": {
          "base_uri": "https://localhost:8080/",
          "height": 34
        },
        "outputId": "24708dc5-fa8d-4d40-8cbe-fa4d961102d2"
      },
      "source": [
        "str(parse_logical(c(\"TRUE\", \"FALSE\", \"NA\")))"
      ],
      "execution_count": 26,
      "outputs": [
        {
          "output_type": "stream",
          "text": [
            " logi [1:3] TRUE FALSE NA\n"
          ],
          "name": "stdout"
        }
      ]
    },
    {
      "cell_type": "code",
      "metadata": {
        "id": "wWcvGKwjL-pC",
        "colab_type": "code",
        "colab": {
          "base_uri": "https://localhost:8080/",
          "height": 34
        },
        "outputId": "56c1f8b0-bf14-44d4-9fac-f98a2b67a8a8"
      },
      "source": [
        "str(parse_integer(c(\"1\", \"2\", \"3\")))"
      ],
      "execution_count": 27,
      "outputs": [
        {
          "output_type": "stream",
          "text": [
            " int [1:3] 1 2 3\n"
          ],
          "name": "stdout"
        }
      ]
    },
    {
      "cell_type": "code",
      "metadata": {
        "id": "ka9_qRSgMAWF",
        "colab_type": "code",
        "colab": {
          "base_uri": "https://localhost:8080/",
          "height": 34
        },
        "outputId": "3e6ce4fb-ac3c-4355-cf2b-26c34e2b922f"
      },
      "source": [
        "str(parse_date(c(\"2010-01-01\", \"1979-10-14\")))"
      ],
      "execution_count": 28,
      "outputs": [
        {
          "output_type": "stream",
          "text": [
            " Date[1:2], format: \"2010-01-01\" \"1979-10-14\"\n"
          ],
          "name": "stdout"
        }
      ]
    },
    {
      "cell_type": "markdown",
      "metadata": {
        "id": "2sjvV_BiMEIh",
        "colab_type": "text"
      },
      "source": [
        "Estas funciones son útiles por derecho propio, pero también son un componente importante para el lector. \n",
        "\n",
        "Al igual que todas las funciones en el tidyverse, las funciones `parse_*()` son uniformes: el primer argumento es un vector de caracteres para analizar, y el argumento na especifica qué cadenas deben tratarse como faltantes:"
      ]
    },
    {
      "cell_type": "code",
      "metadata": {
        "id": "H7sm_gLIMGzu",
        "colab_type": "code",
        "colab": {
          "base_uri": "https://localhost:8080/",
          "height": 34
        },
        "outputId": "22a8c925-1a9b-47d7-9754-9a72d79104c4"
      },
      "source": [
        "parse_integer(c(\"1\", \"231\", \".\", \"456\"), na = \".\")"
      ],
      "execution_count": 29,
      "outputs": [
        {
          "output_type": "display_data",
          "data": {
            "text/plain": [
              "[1]   1 231  NA 456"
            ],
            "text/latex": "\\begin{enumerate*}\n\\item 1\n\\item 231\n\\item <NA>\n\\item 456\n\\end{enumerate*}\n",
            "text/markdown": "1. 1\n2. 231\n3. &lt;NA&gt;\n4. 456\n\n\n",
            "text/html": [
              "<style>\n",
              ".list-inline {list-style: none; margin:0; padding: 0}\n",
              ".list-inline>li {display: inline-block}\n",
              ".list-inline>li:not(:last-child)::after {content: \"\\00b7\"; padding: 0 .5ex}\n",
              "</style>\n",
              "<ol class=list-inline><li>1</li><li>231</li><li>&lt;NA&gt;</li><li>456</li></ol>\n"
            ]
          },
          "metadata": {
            "tags": []
          }
        }
      ]
    },
    {
      "cell_type": "markdown",
      "metadata": {
        "id": "IxprXTqjMJGH",
        "colab_type": "text"
      },
      "source": [
        "Si el parseo falla, recibirá una advertencia:"
      ]
    },
    {
      "cell_type": "code",
      "metadata": {
        "id": "aAuRX8WFMKkr",
        "colab_type": "code",
        "colab": {
          "base_uri": "https://localhost:8080/",
          "height": 119
        },
        "outputId": "6ea53701-cc7b-49f3-ddb2-434d9eaafb6b"
      },
      "source": [
        "x <- parse_integer(c(\"123\", \"345\", \"abc\", \"123.45\"))"
      ],
      "execution_count": 30,
      "outputs": [
        {
          "output_type": "stream",
          "text": [
            "Warning message:\n",
            "“2 parsing failures.\n",
            "row col               expected actual\n",
            "  3  -- an integer                abc\n",
            "  4  -- no trailing characters    .45\n",
            "”\n"
          ],
          "name": "stderr"
        }
      ]
    },
    {
      "cell_type": "markdown",
      "metadata": {
        "id": "iCTG_1TtMOCo",
        "colab_type": "text"
      },
      "source": [
        "Si hay muchas fallas de análisis, deberá usar `problems()` para obtener el conjunto completo. Esto devuelve un tibble, que luego puede manipular con dplyr."
      ]
    },
    {
      "cell_type": "code",
      "metadata": {
        "id": "Oxh86sACMPdJ",
        "colab_type": "code",
        "colab": {
          "base_uri": "https://localhost:8080/",
          "height": 120
        },
        "outputId": "facd92ea-d80f-46e5-96c4-7deccedea6b3"
      },
      "source": [
        "problems(x)"
      ],
      "execution_count": null,
      "outputs": [
        {
          "output_type": "display_data",
          "data": {
            "text/plain": [
              "  row col expected               actual\n",
              "1 3   NA  an integer             abc   \n",
              "2 4   NA  no trailing characters .45   "
            ],
            "text/latex": "A tibble: 2 × 4\n\\begin{tabular}{llll}\n row & col & expected & actual\\\\\n <int> & <int> & <chr> & <chr>\\\\\n\\hline\n\t 3 & NA & an integer             & abc\\\\\n\t 4 & NA & no trailing characters & .45\\\\\n\\end{tabular}\n",
            "text/markdown": "\nA tibble: 2 × 4\n\n| row &lt;int&gt; | col &lt;int&gt; | expected &lt;chr&gt; | actual &lt;chr&gt; |\n|---|---|---|---|\n| 3 | NA | an integer             | abc |\n| 4 | NA | no trailing characters | .45 |\n\n",
            "text/html": [
              "<table>\n",
              "<caption>A tibble: 2 × 4</caption>\n",
              "<thead>\n",
              "\t<tr><th scope=col>row</th><th scope=col>col</th><th scope=col>expected</th><th scope=col>actual</th></tr>\n",
              "\t<tr><th scope=col>&lt;int&gt;</th><th scope=col>&lt;int&gt;</th><th scope=col>&lt;chr&gt;</th><th scope=col>&lt;chr&gt;</th></tr>\n",
              "</thead>\n",
              "<tbody>\n",
              "\t<tr><td>3</td><td>NA</td><td>an integer            </td><td>abc</td></tr>\n",
              "\t<tr><td>4</td><td>NA</td><td>no trailing characters</td><td>.45</td></tr>\n",
              "</tbody>\n",
              "</table>\n"
            ]
          },
          "metadata": {
            "tags": []
          }
        }
      ]
    },
    {
      "cell_type": "markdown",
      "metadata": {
        "id": "XkyR1FgzMag2",
        "colab_type": "text"
      },
      "source": [
        "El uso de analizadores es principalmente una cuestión de entender qué hay disponible y cómo manejan los diferentes tipos de información. Hay ocho analizadores particularmente importantes:\n",
        "\n",
        "1. `parse_logical()` y `parse_integer()` analizar lógico y enteros respectivamente. Básicamente, no hay nada que pueda salir mal con estos analizadores, por lo que no los describiré más aquí.\n",
        "\n",
        "2. `parse_double()`es un analizador numérico estricto y `parse_number()` es un analizador numérico flexible. Estos son más complicados de lo que cabría esperar porque diferentes partes del mundo escriben números de diferentes maneras.\n",
        "\n",
        "3. `parse_character()` parece tan simple que no debería ser necesario. Pero una complicación lo hace bastante importante: las codificaciones de caracteres.\n",
        "\n",
        "4. `parse_factor()` crear factores, la estructura de datos que R usa para representar variables categóricas con valores fijos y conocidos.\n",
        "\n",
        "5. `parse_datetime()`, `parse_date()`, y `parse_time()` nos permite analizar varias especificaciones de fecha y hora. Estos son los más complicados porque hay muchas formas diferentes de escribir fechas."
      ]
    },
    {
      "cell_type": "markdown",
      "metadata": {
        "id": "V0ueUgJzMrww",
        "colab_type": "text"
      },
      "source": [
        "###**Números**\n",
        "Parece que debería ser sencillo analizar un número, pero existen tres problemas que hacen que sea complicado:\n",
        "\n",
        "1. La gente escribe números de manera diferente en diferentes partes del mundo. Por ejemplo, algunos países usan punto (.) entre las partes enteras y fraccionarias de un número real, mientras que otras usan la coma (,).\n",
        "\n",
        "2. Los números a menudo están rodeados por otros caracteres que proporcionan algún contexto, como \"\\$ 1000\" o \"10\\%\".\n",
        "\n",
        "3. Los números a menudo contienen caracteres de \"agrupación\" para que sean más fáciles de leer, como \"1,000,000\", y estos caracteres de agrupación varían en todo el mundo.\n",
        "\n",
        "Para abordar el primer problema, el lector tiene la noción de una \"configuración regional\", un objeto que especifica las opciones de análisis que difieren de un lugar a otro. Al analizar números, la opción más importante es el carácter que usa para la marca decimal. Puede anular el valor predeterminado de (.) creando una nueva configuración regional y estableciendo el argumento decimal_mark:"
      ]
    },
    {
      "cell_type": "code",
      "metadata": {
        "id": "lnP86VePMuxy",
        "colab_type": "code",
        "colab": {
          "base_uri": "https://localhost:8080/",
          "height": 34
        },
        "outputId": "597adaac-5eb8-40b4-af52-7df125d1a0c2"
      },
      "source": [
        "parse_double(\"1.23\")"
      ],
      "execution_count": 31,
      "outputs": [
        {
          "output_type": "display_data",
          "data": {
            "text/plain": [
              "[1] 1.23"
            ],
            "text/latex": "1.23",
            "text/markdown": "1.23",
            "text/html": [
              "1.23"
            ]
          },
          "metadata": {
            "tags": []
          }
        }
      ]
    },
    {
      "cell_type": "code",
      "metadata": {
        "id": "mg1T7ZgtMxAh",
        "colab_type": "code",
        "colab": {
          "base_uri": "https://localhost:8080/",
          "height": 34
        },
        "outputId": "96c40144-2e87-46bb-9d89-6317a76dd686"
      },
      "source": [
        "parse_double(\"1,23\", locale = locale(decimal_mark = \",\"))"
      ],
      "execution_count": 32,
      "outputs": [
        {
          "output_type": "display_data",
          "data": {
            "text/plain": [
              "[1] 1.23"
            ],
            "text/latex": "1.23",
            "text/markdown": "1.23",
            "text/html": [
              "1.23"
            ]
          },
          "metadata": {
            "tags": []
          }
        }
      ]
    },
    {
      "cell_type": "markdown",
      "metadata": {
        "id": "1BkUZLUDMzvo",
        "colab_type": "text"
      },
      "source": [
        "La configuración regional predeterminada del lector está centrada en los EE. UU., porque generalmente R está centrada en los EE. UU. (es decir, la documentación de la base R está escrita en inglés americano). Un enfoque alternativo sería tratar de adivinar los valores predeterminados de su sistema operativo. Esto es difícil de hacer bien y, lo que es más importante, hace que su código sea frágil: incluso si funciona en su computadora, puede fallar cuando lo envía por correo electrónico a un colega en otro país.\n",
        "\n",
        "`parse_number()` aborda el segundo problema: ignora los caracteres no numéricos antes y después del número. Esto es particularmente útil para monedas y porcentajes, pero también funciona para extraer números incrustados en el texto."
      ]
    },
    {
      "cell_type": "code",
      "metadata": {
        "id": "5-MZh5o_M1-u",
        "colab_type": "code",
        "colab": {
          "base_uri": "https://localhost:8080/",
          "height": 34
        },
        "outputId": "b565ba4f-8344-47f6-c69b-accb10749b1b"
      },
      "source": [
        "parse_number(\"$100\")"
      ],
      "execution_count": 33,
      "outputs": [
        {
          "output_type": "display_data",
          "data": {
            "text/plain": [
              "[1] 100"
            ],
            "text/latex": "100",
            "text/markdown": "100",
            "text/html": [
              "100"
            ]
          },
          "metadata": {
            "tags": []
          }
        }
      ]
    },
    {
      "cell_type": "code",
      "metadata": {
        "id": "B0MSzLB4M3g4",
        "colab_type": "code",
        "colab": {
          "base_uri": "https://localhost:8080/",
          "height": 34
        },
        "outputId": "75afda45-b591-4b60-c80a-2a29c84c5af8"
      },
      "source": [
        "parse_number(\"20%\")"
      ],
      "execution_count": 34,
      "outputs": [
        {
          "output_type": "display_data",
          "data": {
            "text/plain": [
              "[1] 20"
            ],
            "text/latex": "20",
            "text/markdown": "20",
            "text/html": [
              "20"
            ]
          },
          "metadata": {
            "tags": []
          }
        }
      ]
    },
    {
      "cell_type": "code",
      "metadata": {
        "id": "0X34g1S7M5YP",
        "colab_type": "code",
        "colab": {
          "base_uri": "https://localhost:8080/",
          "height": 34
        },
        "outputId": "eba67cf6-be25-4912-bad3-538f6c5d122c"
      },
      "source": [
        "parse_number(\"It cost $123.45\")"
      ],
      "execution_count": 35,
      "outputs": [
        {
          "output_type": "display_data",
          "data": {
            "text/plain": [
              "[1] 123.45"
            ],
            "text/latex": "123.45",
            "text/markdown": "123.45",
            "text/html": [
              "123.45"
            ]
          },
          "metadata": {
            "tags": []
          }
        }
      ]
    },
    {
      "cell_type": "markdown",
      "metadata": {
        "id": "_s7aro8DM8Hp",
        "colab_type": "text"
      },
      "source": [
        "El problema final se aborda mediante la combinación de `parse_number()` y la locación como `parse_number()` ignorará el “grouping mark”:"
      ]
    },
    {
      "cell_type": "code",
      "metadata": {
        "id": "s00wcaOHM99y",
        "colab_type": "code",
        "colab": {
          "base_uri": "https://localhost:8080/",
          "height": 34
        },
        "outputId": "57604c44-29e8-4550-8346-1448fb7ed00c"
      },
      "source": [
        "parse_number(\"$123,456,789\")"
      ],
      "execution_count": 36,
      "outputs": [
        {
          "output_type": "display_data",
          "data": {
            "text/plain": [
              "[1] 123456789"
            ],
            "text/latex": "123456789",
            "text/markdown": "123456789",
            "text/html": [
              "123456789"
            ]
          },
          "metadata": {
            "tags": []
          }
        }
      ]
    },
    {
      "cell_type": "code",
      "metadata": {
        "id": "OqbEzempM_fE",
        "colab_type": "code",
        "colab": {
          "base_uri": "https://localhost:8080/",
          "height": 34
        },
        "outputId": "dad22a02-3dac-4874-e5b4-d4069c1fcbe6"
      },
      "source": [
        "parse_number(\"123.456.789\", locale = locale(grouping_mark = \".\"))"
      ],
      "execution_count": 37,
      "outputs": [
        {
          "output_type": "display_data",
          "data": {
            "text/plain": [
              "[1] 123456789"
            ],
            "text/latex": "123456789",
            "text/markdown": "123456789",
            "text/html": [
              "123456789"
            ]
          },
          "metadata": {
            "tags": []
          }
        }
      ]
    },
    {
      "cell_type": "code",
      "metadata": {
        "id": "HtfVK9VXNA-B",
        "colab_type": "code",
        "colab": {
          "base_uri": "https://localhost:8080/",
          "height": 34
        },
        "outputId": "b151cf22-dbcd-44a3-a874-1db1a101908c"
      },
      "source": [
        "parse_number(\"123'456'789\", locale = locale(grouping_mark = \"'\"))"
      ],
      "execution_count": 38,
      "outputs": [
        {
          "output_type": "display_data",
          "data": {
            "text/plain": [
              "[1] 123456789"
            ],
            "text/latex": "123456789",
            "text/markdown": "123456789",
            "text/html": [
              "123456789"
            ]
          },
          "metadata": {
            "tags": []
          }
        }
      ]
    },
    {
      "cell_type": "markdown",
      "metadata": {
        "id": "lSvfpUwQNDvw",
        "colab_type": "text"
      },
      "source": [
        "###**Strings**\n",
        "\n",
        "Parece que `parse_character()` debería ser realmente simple: podría devolver su entrada. Lamentablemente, la vida no es tan simple, ya que hay varias formas de representar la misma cadena. Para comprender lo que está sucediendo, necesitamos profundizar en los detalles de cómo las computadoras representan cadenas. En R, podemos llegar a la representación subyacente de una cadena usando `charToRaw()`:"
      ]
    },
    {
      "cell_type": "code",
      "metadata": {
        "id": "Ny-MJZGuNGxn",
        "colab_type": "code",
        "colab": {
          "base_uri": "https://localhost:8080/",
          "height": 34
        },
        "outputId": "3e9d6f9d-62e4-45e0-9b36-eb4617c5747e"
      },
      "source": [
        "charToRaw(\"Hadley\")"
      ],
      "execution_count": 39,
      "outputs": [
        {
          "output_type": "display_data",
          "data": {
            "text/plain": [
              "[1] 48 61 64 6c 65 79"
            ]
          },
          "metadata": {
            "tags": []
          }
        }
      ]
    },
    {
      "cell_type": "markdown",
      "metadata": {
        "id": "G5P2AaPBNLxJ",
        "colab_type": "text"
      },
      "source": [
        "Cada número hexadecimal representa un byte de información: 48 es `H`, 61 es `a`, y así sucesivamente. La asignación del número hexadecimal al carácter se denomina codificación y, en este caso, la codificación se denomina ASCII. ASCII hace un gran trabajo al representar caracteres en inglés, porque es el Código Estándar Americano para el Intercambio de Información.\n",
        "\n",
        "Las cosas se vuelven más complicadas para otros idiomas además del inglés. En los primeros días de la informática, había muchos estándares competitivos para codificar caracteres que no estaban en inglés, y para interpretar correctamente una cadena necesitabas conocer los valores y la codificación. Por ejemplo, dos codificaciones comunes son Latin1 (también conocido como ISO-8859-1, usado para idiomas de Europa occidental) y Latin2 (también conocido como ISO-8859-2, usado para idiomas de Europa del Este). En Latin1, el byte `b1` es \"±\", pero en Latin2, es \"ą\". Afortunadamente, hoy hay un estándar que es compatible en casi todas partes: UTF-8. UTF-8 puede codificar casi todos los caracteres utilizados por los humanos hoy en día, así como muchos símbolos adicionales (¡como emoji!).\n",
        "\n",
        "`readr` usa UTF-8 en todas partes: asume que sus datos están codificados en UTF-8 cuando los lee, y siempre los usa cuando escribe. Este es un buen valor predeterminado, pero fallará para los datos producidos por sistemas más antiguos que no entienden UTF-8. Si esto le sucede, sus cadenas se verán raras cuando las imprima. A veces solo uno o dos caracteres pueden estar en mal estado; otras veces obtendrás galimatías completas. Por ejemplo:"
      ]
    },
    {
      "cell_type": "code",
      "metadata": {
        "id": "Ui08WElSNN1o",
        "colab_type": "code",
        "colab": {
          "base_uri": "https://localhost:8080/",
          "height": 51
        },
        "outputId": "d746b170-34ee-45c0-8f9a-05c0ccbe11da"
      },
      "source": [
        "x1 <- \"El Ni\\xf1o was particularly bad this year\"\n",
        "x2 <- \"\\x82\\xb1\\x82\\xf1\\x82\\xc9\\x82\\xbf\\x82\\xcd\"\n",
        "\n",
        "x1\n",
        "x2"
      ],
      "execution_count": 40,
      "outputs": [
        {
          "output_type": "display_data",
          "data": {
            "text/plain": [
              "[1] \"El Ni\\xf1o was particularly bad this year\""
            ],
            "text/latex": "'El Ni\\textbackslash{}xf1o was particularly bad this year'",
            "text/markdown": "'El Ni\\xf1o was particularly bad this year'",
            "text/html": [
              "'El Ni\\xf1o was particularly bad this year'"
            ]
          },
          "metadata": {
            "tags": []
          }
        },
        {
          "output_type": "display_data",
          "data": {
            "text/plain": [
              "[1] \"\\x82\\xb1\\x82\\xf1\\x82ɂ\\xbf\\x82\\xcd\""
            ],
            "text/latex": "'\\textbackslash{}x82\\textbackslash{}xb1\\textbackslash{}x82\\textbackslash{}xf1\\textbackslash{}x82ɂ\\textbackslash{}xbf\\textbackslash{}x82\\textbackslash{}xcd'",
            "text/markdown": "'\\x82\\xb1\\x82\\xf1\\x82ɂ\\xbf\\x82\\xcd'",
            "text/html": [
              "'\\x82\\xb1\\x82\\xf1\\x82ɂ\\xbf\\x82\\xcd'"
            ]
          },
          "metadata": {
            "tags": []
          }
        }
      ]
    },
    {
      "cell_type": "code",
      "metadata": {
        "id": "iyfex9DTNQep",
        "colab_type": "code",
        "colab": {
          "base_uri": "https://localhost:8080/",
          "height": 34
        },
        "outputId": "d674a87c-a0e5-4be8-86ea-377e7b28a5fe"
      },
      "source": [
        "parse_character(x1, locale = locale(encoding = \"Latin1\"))"
      ],
      "execution_count": 41,
      "outputs": [
        {
          "output_type": "display_data",
          "data": {
            "text/plain": [
              "[1] \"El Niño was particularly bad this year\""
            ],
            "text/latex": "'El Niño was particularly bad this year'",
            "text/markdown": "'El Niño was particularly bad this year'",
            "text/html": [
              "'El Niño was particularly bad this year'"
            ]
          },
          "metadata": {
            "tags": []
          }
        }
      ]
    },
    {
      "cell_type": "code",
      "metadata": {
        "id": "LPCPzkyeNSQv",
        "colab_type": "code",
        "colab": {
          "base_uri": "https://localhost:8080/",
          "height": 34
        },
        "outputId": "f1757376-1652-4f67-e534-b862b2e590cc"
      },
      "source": [
        "parse_character(x2, locale = locale(encoding = \"Shift-JIS\"))"
      ],
      "execution_count": 42,
      "outputs": [
        {
          "output_type": "display_data",
          "data": {
            "text/plain": [
              "[1] \"こんにちは\""
            ],
            "text/latex": "'こんにちは'",
            "text/markdown": "'こんにちは'",
            "text/html": [
              "'こんにちは'"
            ]
          },
          "metadata": {
            "tags": []
          }
        }
      ]
    },
    {
      "cell_type": "markdown",
      "metadata": {
        "id": "qJukMexvNVI6",
        "colab_type": "text"
      },
      "source": [
        "¿Cómo encuentras la codificación correcta? Si tiene suerte, se incluirá en algún lugar de la documentación de datos. Desafortunadamente, ese rara vez es el caso, por lo que readr proporciona `guess_encoding()` para ayudarlo a resolverlo. No es infalible y funciona mejor cuando tienes mucho texto (a diferencia de aquí), pero es un lugar razonable para comenzar. Espere probar algunas codificaciones diferentes antes de encontrar la correcta."
      ]
    },
    {
      "cell_type": "code",
      "metadata": {
        "id": "cSLqX0AYNX2L",
        "colab_type": "code",
        "colab": {
          "base_uri": "https://localhost:8080/",
          "height": 120
        },
        "outputId": "f448c7ea-f696-40e9-9d21-9d0937eb3551"
      },
      "source": [
        "guess_encoding(charToRaw(x1))"
      ],
      "execution_count": 43,
      "outputs": [
        {
          "output_type": "display_data",
          "data": {
            "text/plain": [
              "  encoding   confidence\n",
              "1 ISO-8859-1 0.46      \n",
              "2 ISO-8859-9 0.23      "
            ],
            "text/latex": "A tibble: 2 × 2\n\\begin{tabular}{ll}\n encoding & confidence\\\\\n <chr> & <dbl>\\\\\n\\hline\n\t ISO-8859-1 & 0.46\\\\\n\t ISO-8859-9 & 0.23\\\\\n\\end{tabular}\n",
            "text/markdown": "\nA tibble: 2 × 2\n\n| encoding &lt;chr&gt; | confidence &lt;dbl&gt; |\n|---|---|\n| ISO-8859-1 | 0.46 |\n| ISO-8859-9 | 0.23 |\n\n",
            "text/html": [
              "<table>\n",
              "<caption>A tibble: 2 × 2</caption>\n",
              "<thead>\n",
              "\t<tr><th scope=col>encoding</th><th scope=col>confidence</th></tr>\n",
              "\t<tr><th scope=col>&lt;chr&gt;</th><th scope=col>&lt;dbl&gt;</th></tr>\n",
              "</thead>\n",
              "<tbody>\n",
              "\t<tr><td>ISO-8859-1</td><td>0.46</td></tr>\n",
              "\t<tr><td>ISO-8859-9</td><td>0.23</td></tr>\n",
              "</tbody>\n",
              "</table>\n"
            ]
          },
          "metadata": {
            "tags": []
          }
        }
      ]
    },
    {
      "cell_type": "code",
      "metadata": {
        "id": "3e9PMuJvNawN",
        "colab_type": "code",
        "colab": {
          "base_uri": "https://localhost:8080/",
          "height": 99
        },
        "outputId": "5b4a7580-69c5-45c4-b298-bc6db8439e68"
      },
      "source": [
        "guess_encoding(charToRaw(x2))"
      ],
      "execution_count": 44,
      "outputs": [
        {
          "output_type": "display_data",
          "data": {
            "text/plain": [
              "  encoding confidence\n",
              "1 KOI8-R   0.42      "
            ],
            "text/latex": "A tibble: 1 × 2\n\\begin{tabular}{ll}\n encoding & confidence\\\\\n <chr> & <dbl>\\\\\n\\hline\n\t KOI8-R & 0.42\\\\\n\\end{tabular}\n",
            "text/markdown": "\nA tibble: 1 × 2\n\n| encoding &lt;chr&gt; | confidence &lt;dbl&gt; |\n|---|---|\n| KOI8-R | 0.42 |\n\n",
            "text/html": [
              "<table>\n",
              "<caption>A tibble: 1 × 2</caption>\n",
              "<thead>\n",
              "\t<tr><th scope=col>encoding</th><th scope=col>confidence</th></tr>\n",
              "\t<tr><th scope=col>&lt;chr&gt;</th><th scope=col>&lt;dbl&gt;</th></tr>\n",
              "</thead>\n",
              "<tbody>\n",
              "\t<tr><td>KOI8-R</td><td>0.42</td></tr>\n",
              "</tbody>\n",
              "</table>\n"
            ]
          },
          "metadata": {
            "tags": []
          }
        }
      ]
    },
    {
      "cell_type": "markdown",
      "metadata": {
        "id": "VGbT5Qb0Ncsx",
        "colab_type": "text"
      },
      "source": [
        "El primer argumento para `guess_encoding()` puede ser una ruta a un archivo o, como en este caso, un vector sin formato (útil si las cadenas ya están en R).\n",
        "\n",
        "Las codificaciones son un tema rico y complejo, y solo he visto superficialmente el tema aquí. Si desea obtener más información, le recomiendo leer la explicación detallada en [kunstube](http://kunststube.net/encoding/)."
      ]
    },
    {
      "cell_type": "markdown",
      "metadata": {
        "id": "lhkr0yJTBknI",
        "colab_type": "text"
      },
      "source": [
        "## **Factors**\n",
        "\n",
        "En el lenguaje `R` se utilizan los *factors* para representar las variables que son categóricas, sobre las cuales sabemos que tendrán un conjunto finito y discreto de posible valores. Por ejemplo, un campo de una base de datos como `estado_marital` solo puede contener valores de *soltero/a, casado/a, separado/a, divorciado/a* o *viudo/a*. Para crear una variable que contenga una lista de valores y su categoría usamos la función `factor()`. Veamos un pequeño ejemplo al respecto:\n",
        "\n",
        "\n",
        "\n"
      ]
    },
    {
      "cell_type": "code",
      "metadata": {
        "id": "IhXlZ-M6eFHj",
        "colab_type": "code",
        "colab": {
          "base_uri": "https://localhost:8080/",
          "height": 102
        },
        "outputId": "3d09dcf1-c50e-494f-bbb2-3c8c574622cb"
      },
      "source": [
        "x <- factor(c(\"soltero\",\"casado\",\"casado\",\"soltero\"))\n",
        "x\n",
        "cat(\"Longitud de x:\", length(x),\"\\n\")\n",
        "cat(\"Clase de x:\",class(x),\"\\n\")\n",
        "cat(\"Niveles de x:\", levels(x))"
      ],
      "execution_count": 45,
      "outputs": [
        {
          "output_type": "display_data",
          "data": {
            "text/plain": [
              "[1] soltero casado  casado  soltero\n",
              "Levels: casado soltero"
            ],
            "text/latex": "\\begin{enumerate*}\n\\item soltero\n\\item casado\n\\item casado\n\\item soltero\n\\end{enumerate*}\n\n\\emph{Levels}: \\begin{enumerate*}\n\\item 'casado'\n\\item 'soltero'\n\\end{enumerate*}\n",
            "text/markdown": "1. soltero\n2. casado\n3. casado\n4. soltero\n\n\n\n**Levels**: 1. 'casado'\n2. 'soltero'\n\n\n",
            "text/html": [
              "<style>\n",
              ".list-inline {list-style: none; margin:0; padding: 0}\n",
              ".list-inline>li {display: inline-block}\n",
              ".list-inline>li:not(:last-child)::after {content: \"\\00b7\"; padding: 0 .5ex}\n",
              "</style>\n",
              "<ol class=list-inline><li>soltero</li><li>casado</li><li>casado</li><li>soltero</li></ol>\n",
              "\n",
              "<details>\n",
              "\t<summary style=display:list-item;cursor:pointer>\n",
              "\t\t<strong>Levels</strong>:\n",
              "\t</summary>\n",
              "\t<style>\n",
              "\t.list-inline {list-style: none; margin:0; padding: 0}\n",
              "\t.list-inline>li {display: inline-block}\n",
              "\t.list-inline>li:not(:last-child)::after {content: \"\\00b7\"; padding: 0 .5ex}\n",
              "\t</style>\n",
              "\t<ol class=list-inline><li>'casado'</li><li>'soltero'</li></ol>\n",
              "</details>"
            ]
          },
          "metadata": {
            "tags": []
          }
        },
        {
          "output_type": "stream",
          "text": [
            "Longitud de x: 4 \n",
            "Clase de x: factor \n",
            "Niveles de x: casado soltero"
          ],
          "name": "stdout"
        }
      ]
    },
    {
      "cell_type": "markdown",
      "metadata": {
        "id": "ZcD7LUk-pYId",
        "colab_type": "text"
      },
      "source": [
        "Como podemos observar, tenemos el factor `x` que tiene 4 elementos, en donde hemos verificado los niveles del este factor mediante la función `levels()`. \n",
        "\n",
        "Podemos definir más `levels` incluso si no van a ser usados:"
      ]
    },
    {
      "cell_type": "code",
      "metadata": {
        "id": "NKNUIsDDejR-",
        "colab_type": "code",
        "colab": {
          "base_uri": "https://localhost:8080/",
          "height": 51
        },
        "outputId": "b36b8c58-a86f-4fa5-a220-ccdc4b2c4e71"
      },
      "source": [
        "x <- factor(c(\"soltero\",\"casado\",\"casado\",\"soltero\"), levels = c(\"soltero\",\"casado\",\"divorciado\"))\n",
        "x"
      ],
      "execution_count": 46,
      "outputs": [
        {
          "output_type": "display_data",
          "data": {
            "text/plain": [
              "[1] soltero casado  casado  soltero\n",
              "Levels: soltero casado divorciado"
            ],
            "text/latex": "\\begin{enumerate*}\n\\item soltero\n\\item casado\n\\item casado\n\\item soltero\n\\end{enumerate*}\n\n\\emph{Levels}: \\begin{enumerate*}\n\\item 'soltero'\n\\item 'casado'\n\\item 'divorciado'\n\\end{enumerate*}\n",
            "text/markdown": "1. soltero\n2. casado\n3. casado\n4. soltero\n\n\n\n**Levels**: 1. 'soltero'\n2. 'casado'\n3. 'divorciado'\n\n\n",
            "text/html": [
              "<style>\n",
              ".list-inline {list-style: none; margin:0; padding: 0}\n",
              ".list-inline>li {display: inline-block}\n",
              ".list-inline>li:not(:last-child)::after {content: \"\\00b7\"; padding: 0 .5ex}\n",
              "</style>\n",
              "<ol class=list-inline><li>soltero</li><li>casado</li><li>casado</li><li>soltero</li></ol>\n",
              "\n",
              "<details>\n",
              "\t<summary style=display:list-item;cursor:pointer>\n",
              "\t\t<strong>Levels</strong>:\n",
              "\t</summary>\n",
              "\t<style>\n",
              "\t.list-inline {list-style: none; margin:0; padding: 0}\n",
              "\t.list-inline>li {display: inline-block}\n",
              "\t.list-inline>li:not(:last-child)::after {content: \"\\00b7\"; padding: 0 .5ex}\n",
              "\t</style>\n",
              "\t<ol class=list-inline><li>'soltero'</li><li>'casado'</li><li>'divorciado'</li></ol>\n",
              "</details>"
            ]
          },
          "metadata": {
            "tags": []
          }
        }
      ]
    },
    {
      "cell_type": "markdown",
      "metadata": {
        "id": "hS0cL18Ur9Oh",
        "colab_type": "text"
      },
      "source": [
        "Los factores se encuentran relacionados con los vectores; de hecho, los factores son guardados como vectores enteros. Veamos esto de su estructura:"
      ]
    },
    {
      "cell_type": "code",
      "metadata": {
        "id": "xpFzZMiosRgX",
        "colab_type": "code",
        "colab": {
          "base_uri": "https://localhost:8080/",
          "height": 34
        },
        "outputId": "966cac7c-afc5-4753-c9f4-1b93590d02c9"
      },
      "source": [
        "x <- factor(c(\"soltero\",\"casado\",\"casado\",\"soltero\"))\n",
        "str(x)"
      ],
      "execution_count": 47,
      "outputs": [
        {
          "output_type": "stream",
          "text": [
            " Factor w/ 2 levels \"casado\",\"soltero\": 2 1 1 2\n"
          ],
          "name": "stdout"
        }
      ]
    },
    {
      "cell_type": "markdown",
      "metadata": {
        "id": "woEhF7owsg5-",
        "colab_type": "text"
      },
      "source": [
        "Vemos entonces que los niveles están guardados como caracteres y los elementos individuales como índices. \n",
        "\n",
        "Por otra parte, las columnas no numéricas de un dataframe de `R` son almacenadas como factores. Por defecto, la función `data.frame()` convierte la lista de caractares en una columna en un factores; es por eso que si queremos evitar este comportamiento, debemos pasarle el argumento `stringAsFactor = FALSE`. Veamos un pequeño ejemplo:"
      ]
    },
    {
      "cell_type": "code",
      "metadata": {
        "id": "KJsVcQsWtpD8",
        "colab_type": "code",
        "colab": {
          "base_uri": "https://localhost:8080/",
          "height": 183
        },
        "outputId": "ef2a40cd-598b-4327-8c03-18f8cf5e46e3"
      },
      "source": [
        "x <- data.frame(\"SN\" = 1:5, \"Edad\" = c(18,15,33,44,35), \n",
        "\"Nombre\" = c(\"John\",\"Dora\",\"Clara\",\"Lucia\",\"Andres\"), \n",
        "\"Sexo\" = c(\"M\",\"F\",\"F\",\"F\",\"M\"))\n",
        "x"
      ],
      "execution_count": 48,
      "outputs": [
        {
          "output_type": "display_data",
          "data": {
            "text/plain": [
              "  SN Edad Nombre Sexo\n",
              "1 1  18   John   M   \n",
              "2 2  15   Dora   F   \n",
              "3 3  33   Clara  F   \n",
              "4 4  44   Lucia  F   \n",
              "5 5  35   Andres M   "
            ],
            "text/latex": "A data.frame: 5 × 4\n\\begin{tabular}{llll}\n SN & Edad & Nombre & Sexo\\\\\n <int> & <dbl> & <fct> & <fct>\\\\\n\\hline\n\t 1 & 18 & John   & M\\\\\n\t 2 & 15 & Dora   & F\\\\\n\t 3 & 33 & Clara  & F\\\\\n\t 4 & 44 & Lucia  & F\\\\\n\t 5 & 35 & Andres & M\\\\\n\\end{tabular}\n",
            "text/markdown": "\nA data.frame: 5 × 4\n\n| SN &lt;int&gt; | Edad &lt;dbl&gt; | Nombre &lt;fct&gt; | Sexo &lt;fct&gt; |\n|---|---|---|---|\n| 1 | 18 | John   | M |\n| 2 | 15 | Dora   | F |\n| 3 | 33 | Clara  | F |\n| 4 | 44 | Lucia  | F |\n| 5 | 35 | Andres | M |\n\n",
            "text/html": [
              "<table>\n",
              "<caption>A data.frame: 5 × 4</caption>\n",
              "<thead>\n",
              "\t<tr><th scope=col>SN</th><th scope=col>Edad</th><th scope=col>Nombre</th><th scope=col>Sexo</th></tr>\n",
              "\t<tr><th scope=col>&lt;int&gt;</th><th scope=col>&lt;dbl&gt;</th><th scope=col>&lt;fct&gt;</th><th scope=col>&lt;fct&gt;</th></tr>\n",
              "</thead>\n",
              "<tbody>\n",
              "\t<tr><td>1</td><td>18</td><td>John  </td><td>M</td></tr>\n",
              "\t<tr><td>2</td><td>15</td><td>Dora  </td><td>F</td></tr>\n",
              "\t<tr><td>3</td><td>33</td><td>Clara </td><td>F</td></tr>\n",
              "\t<tr><td>4</td><td>44</td><td>Lucia </td><td>F</td></tr>\n",
              "\t<tr><td>5</td><td>35</td><td>Andres</td><td>M</td></tr>\n",
              "</tbody>\n",
              "</table>\n"
            ]
          },
          "metadata": {
            "tags": []
          }
        }
      ]
    },
    {
      "cell_type": "markdown",
      "metadata": {
        "id": "an8mjBFwujFr",
        "colab_type": "text"
      },
      "source": [
        "Veamos la estructura de estre dataframe"
      ]
    },
    {
      "cell_type": "code",
      "metadata": {
        "id": "hCM-yE_ful5L",
        "colab_type": "code",
        "colab": {
          "base_uri": "https://localhost:8080/",
          "height": 102
        },
        "outputId": "0a91713a-165f-4891-dba6-a32da34a5aca"
      },
      "source": [
        "str(x)"
      ],
      "execution_count": 49,
      "outputs": [
        {
          "output_type": "stream",
          "text": [
            "'data.frame':\t5 obs. of  4 variables:\n",
            " $ SN    : int  1 2 3 4 5\n",
            " $ Edad  : num  18 15 33 44 35\n",
            " $ Nombre: Factor w/ 5 levels \"Andres\",\"Clara\",..: 4 3 2 5 1\n",
            " $ Sexo  : Factor w/ 2 levels \"F\",\"M\": 2 1 1 1 2\n"
          ],
          "name": "stdout"
        }
      ]
    },
    {
      "cell_type": "markdown",
      "metadata": {
        "id": "6yeShioYu1YE",
        "colab_type": "text"
      },
      "source": [
        "Vemos entonces como a cada columna con una variable categórica le asigna un tipo `Factor`. Por el contrario si le pasamos el argumento `stringAsFactor = FALSE`, evitaremos la creación de factores:"
      ]
    },
    {
      "cell_type": "code",
      "metadata": {
        "id": "R83Ln_MrvGR6",
        "colab_type": "code",
        "colab": {
          "base_uri": "https://localhost:8080/",
          "height": 119
        },
        "outputId": "98802a82-4541-47c9-d36f-63e8a559cb71"
      },
      "source": [
        "x <- data.frame(\"SN\" = 1:5, \"Edad\" = c(18,15,33,44,35), \n",
        "\"Nombre\" = c(\"John\",\"Dora\",\"Clara\",\"Lucia\",\"Andres\"), \n",
        "\"Sexo\" = c(\"M\",\"F\",\"F\",\"F\",\"M\"), stringAsFactor = F)\n",
        "str(x)"
      ],
      "execution_count": 52,
      "outputs": [
        {
          "output_type": "stream",
          "text": [
            "'data.frame':\t5 obs. of  5 variables:\n",
            " $ SN            : int  1 2 3 4 5\n",
            " $ Edad          : num  18 15 33 44 35\n",
            " $ Nombre        : Factor w/ 5 levels \"Andres\",\"Clara\",..: 4 3 2 5 1\n",
            " $ Sexo          : Factor w/ 2 levels \"F\",\"M\": 2 1 1 1 2\n",
            " $ stringAsFactor: logi  FALSE FALSE FALSE FALSE FALSE\n"
          ],
          "name": "stdout"
        }
      ]
    },
    {
      "cell_type": "markdown",
      "metadata": {
        "id": "b9Zc82m7dz6u",
        "colab_type": "text"
      },
      "source": [
        "Otra función parecida es la función `parse_factor()`, a la cual le podemos pasar un vector de `levels` (o niveles-etiquetas) para generar una advertencia cada vez que se le presenta un valor inesperado. Veamos lo anterior mediante un ejemplo:"
      ]
    },
    {
      "cell_type": "code",
      "metadata": {
        "id": "0pBQv1bv9h2D",
        "colab_type": "code",
        "colab": {}
      },
      "source": [
        "capitales <- c('Berlin', 'Bogota', 'Santiago', 'Quito')"
      ],
      "execution_count": 53,
      "outputs": []
    },
    {
      "cell_type": "code",
      "metadata": {
        "id": "ub-ulMIMWCaf",
        "colab_type": "code",
        "colab": {
          "base_uri": "https://localhost:8080/",
          "height": 153
        },
        "outputId": "9bc88f5b-5e5c-407d-c245-33c0a5495d56"
      },
      "source": [
        "parse_factor(c(\"Berlin\",\"Bogota\",\"Manizales\",\"Quito\"), levels=capitales)"
      ],
      "execution_count": 54,
      "outputs": [
        {
          "output_type": "stream",
          "text": [
            "Warning message:\n",
            "“1 parsing failure.\n",
            "row col           expected    actual\n",
            "  3  -- value in level set Manizales\n",
            "”\n"
          ],
          "name": "stderr"
        },
        {
          "output_type": "display_data",
          "data": {
            "text/plain": [
              "[1] Berlin Bogota <NA>   Quito \n",
              "attr(,\"problems\")\n",
              "\u001b[90m# A tibble: 1 x 4\u001b[39m\n",
              "    row   col expected           actual   \n",
              "  \u001b[3m\u001b[90m<int>\u001b[39m\u001b[23m \u001b[3m\u001b[90m<int>\u001b[39m\u001b[23m \u001b[3m\u001b[90m<chr>\u001b[39m\u001b[23m              \u001b[3m\u001b[90m<chr>\u001b[39m\u001b[23m    \n",
              "\u001b[90m1\u001b[39m     3    \u001b[31mNA\u001b[39m value in level set Manizales\n",
              "Levels: Berlin Bogota Santiago Quito"
            ],
            "text/latex": "\\begin{enumerate*}\n\\item Berlin\n\\item Bogota\n\\item <NA>\n\\item Quito\n\\end{enumerate*}\n\n\\emph{Levels}: \\begin{enumerate*}\n\\item 'Berlin'\n\\item 'Bogota'\n\\item 'Santiago'\n\\item 'Quito'\n\\end{enumerate*}\n",
            "text/markdown": "1. Berlin\n2. Bogota\n3. &lt;NA&gt;\n4. Quito\n\n\n\n**Levels**: 1. 'Berlin'\n2. 'Bogota'\n3. 'Santiago'\n4. 'Quito'\n\n\n",
            "text/html": [
              "<style>\n",
              ".list-inline {list-style: none; margin:0; padding: 0}\n",
              ".list-inline>li {display: inline-block}\n",
              ".list-inline>li:not(:last-child)::after {content: \"\\00b7\"; padding: 0 .5ex}\n",
              "</style>\n",
              "<ol class=list-inline><li>Berlin</li><li>Bogota</li><li>&lt;NA&gt;</li><li>Quito</li></ol>\n",
              "\n",
              "<details>\n",
              "\t<summary style=display:list-item;cursor:pointer>\n",
              "\t\t<strong>Levels</strong>:\n",
              "\t</summary>\n",
              "\t<style>\n",
              "\t.list-inline {list-style: none; margin:0; padding: 0}\n",
              "\t.list-inline>li {display: inline-block}\n",
              "\t.list-inline>li:not(:last-child)::after {content: \"\\00b7\"; padding: 0 .5ex}\n",
              "\t</style>\n",
              "\t<ol class=list-inline><li>'Berlin'</li><li>'Bogota'</li><li>'Santiago'</li><li>'Quito'</li></ol>\n",
              "</details>"
            ]
          },
          "metadata": {
            "tags": []
          }
        }
      ]
    },
    {
      "cell_type": "markdown",
      "metadata": {
        "id": "kFE97_nybhdR",
        "colab_type": "text"
      },
      "source": [
        "Si pasamos un valor `NULL` al argumento `levels` se generarán categorias de acuerdo al vector x. Veamos un ejemplo:"
      ]
    },
    {
      "cell_type": "code",
      "metadata": {
        "id": "cSMwC2aKb4Fy",
        "colab_type": "code",
        "colab": {
          "base_uri": "https://localhost:8080/",
          "height": 51
        },
        "outputId": "df52ca60-309d-42cf-e010-e8fd0d40859f"
      },
      "source": [
        "xL <- parse_factor(c(\"Perro\",\"Vaca\",\"Vaca\",\"Pato\",\"Caballo\",\"Perro\"), levels = NULL)\n",
        "xL"
      ],
      "execution_count": 55,
      "outputs": [
        {
          "output_type": "display_data",
          "data": {
            "text/plain": [
              "[1] Perro   Vaca    Vaca    Pato    Caballo Perro  \n",
              "Levels: Perro Vaca Pato Caballo"
            ],
            "text/latex": "\\begin{enumerate*}\n\\item Perro\n\\item Vaca\n\\item Vaca\n\\item Pato\n\\item Caballo\n\\item Perro\n\\end{enumerate*}\n\n\\emph{Levels}: \\begin{enumerate*}\n\\item 'Perro'\n\\item 'Vaca'\n\\item 'Pato'\n\\item 'Caballo'\n\\end{enumerate*}\n",
            "text/markdown": "1. Perro\n2. Vaca\n3. Vaca\n4. Pato\n5. Caballo\n6. Perro\n\n\n\n**Levels**: 1. 'Perro'\n2. 'Vaca'\n3. 'Pato'\n4. 'Caballo'\n\n\n",
            "text/html": [
              "<style>\n",
              ".list-inline {list-style: none; margin:0; padding: 0}\n",
              ".list-inline>li {display: inline-block}\n",
              ".list-inline>li:not(:last-child)::after {content: \"\\00b7\"; padding: 0 .5ex}\n",
              "</style>\n",
              "<ol class=list-inline><li>Perro</li><li>Vaca</li><li>Vaca</li><li>Pato</li><li>Caballo</li><li>Perro</li></ol>\n",
              "\n",
              "<details>\n",
              "\t<summary style=display:list-item;cursor:pointer>\n",
              "\t\t<strong>Levels</strong>:\n",
              "\t</summary>\n",
              "\t<style>\n",
              "\t.list-inline {list-style: none; margin:0; padding: 0}\n",
              "\t.list-inline>li {display: inline-block}\n",
              "\t.list-inline>li:not(:last-child)::after {content: \"\\00b7\"; padding: 0 .5ex}\n",
              "\t</style>\n",
              "\t<ol class=list-inline><li>'Perro'</li><li>'Vaca'</li><li>'Pato'</li><li>'Caballo'</li></ol>\n",
              "</details>"
            ]
          },
          "metadata": {
            "tags": []
          }
        }
      ]
    },
    {
      "cell_type": "markdown",
      "metadata": {
        "id": "ephPn6raZyJC",
        "colab_type": "text"
      },
      "source": [
        "No obstante, si se tienen varias entradas problemáticas, resulta más óptimo dejarlas como vectores de caracteres y luego usar herramientas para realizar operaciones con `strings` y `factors`, como veremos a continuación."
      ]
    },
    {
      "cell_type": "markdown",
      "metadata": {
        "id": "jBNCTkP-XrTm",
        "colab_type": "text"
      },
      "source": [
        "**Ejercicio:**\n",
        "\n",
        "Compruebe si los siguientes caracteres se encuentra dentro de la variable por defecto `letters`:\n",
        "\n",
        "- `a`\n",
        "- `c`\n",
        "- `k`\n",
        "- `*`\n",
        "- `#`\n",
        "-`l`\n",
        "\n",
        "Sugerencia: Cree un vector atómico con los anteriores caracteres."
      ]
    },
    {
      "cell_type": "code",
      "metadata": {
        "id": "8jUiYNBtW4VX",
        "colab_type": "code",
        "cellView": "form",
        "colab": {
          "base_uri": "https://localhost:8080/"
        },
        "outputId": "f36dff0d-f3fa-45d7-af6b-54c5aa17d3fc"
      },
      "source": [
        "#@title **Solución**\n",
        "parse_factor(c(\"a\",\"c\",\"k\",\"*\",\"#\",\"l\"),letters)"
      ],
      "execution_count": null,
      "outputs": [
        {
          "output_type": "stream",
          "text": [
            "Warning message:\n",
            "“2 parsing failures.\n",
            "row col           expected actual\n",
            "  4  -- value in level set      *\n",
            "  5  -- value in level set      #\n",
            "”\n"
          ],
          "name": "stderr"
        },
        {
          "output_type": "display_data",
          "data": {
            "text/plain": [
              "[1] a    c    k    <NA> <NA> l   \n",
              "attr(,\"problems\")\n",
              "\u001b[90m# A tibble: 2 x 4\u001b[39m\n",
              "    row   col expected           actual\n",
              "  \u001b[3m\u001b[90m<int>\u001b[39m\u001b[23m \u001b[3m\u001b[90m<int>\u001b[39m\u001b[23m \u001b[3m\u001b[90m<chr>\u001b[39m\u001b[23m              \u001b[3m\u001b[90m<chr>\u001b[39m\u001b[23m \n",
              "\u001b[90m1\u001b[39m     4    \u001b[31mNA\u001b[39m value in level set *     \n",
              "\u001b[90m2\u001b[39m     5    \u001b[31mNA\u001b[39m value in level set #     \n",
              "Levels: a b c d e f g h i j k l m n o p q r s t u v w x y z"
            ],
            "text/latex": "\\begin{enumerate*}\n\\item a\n\\item c\n\\item k\n\\item <NA>\n\\item <NA>\n\\item l\n\\end{enumerate*}\n\n\\emph{Levels}: \\begin{enumerate*}\n\\item 'a'\n\\item 'b'\n\\item 'c'\n\\item 'd'\n\\item 'e'\n\\item 'f'\n\\item 'g'\n\\item 'h'\n\\item 'i'\n\\item 'j'\n\\item 'k'\n\\item 'l'\n\\item 'm'\n\\item 'n'\n\\item 'o'\n\\item 'p'\n\\item 'q'\n\\item 'r'\n\\item 's'\n\\item 't'\n\\item 'u'\n\\item 'v'\n\\item 'w'\n\\item 'x'\n\\item 'y'\n\\item 'z'\n\\end{enumerate*}\n",
            "text/markdown": "1. a\n2. c\n3. k\n4. &lt;NA&gt;\n5. &lt;NA&gt;\n6. l\n\n\n\n**Levels**: 1. 'a'\n2. 'b'\n3. 'c'\n4. 'd'\n5. 'e'\n6. 'f'\n7. 'g'\n8. 'h'\n9. 'i'\n10. 'j'\n11. 'k'\n12. 'l'\n13. 'm'\n14. 'n'\n15. 'o'\n16. 'p'\n17. 'q'\n18. 'r'\n19. 's'\n20. 't'\n21. 'u'\n22. 'v'\n23. 'w'\n24. 'x'\n25. 'y'\n26. 'z'\n\n\n",
            "text/html": [
              "<style>\n",
              ".list-inline {list-style: none; margin:0; padding: 0}\n",
              ".list-inline>li {display: inline-block}\n",
              ".list-inline>li:not(:last-child)::after {content: \"\\00b7\"; padding: 0 .5ex}\n",
              "</style>\n",
              "<ol class=list-inline><li>a</li><li>c</li><li>k</li><li>&lt;NA&gt;</li><li>&lt;NA&gt;</li><li>l</li></ol>\n",
              "\n",
              "<details>\n",
              "\t<summary style=display:list-item;cursor:pointer>\n",
              "\t\t<strong>Levels</strong>:\n",
              "\t</summary>\n",
              "\t<style>\n",
              "\t.list-inline {list-style: none; margin:0; padding: 0}\n",
              "\t.list-inline>li {display: inline-block}\n",
              "\t.list-inline>li:not(:last-child)::after {content: \"\\00b7\"; padding: 0 .5ex}\n",
              "\t</style>\n",
              "\t<ol class=list-inline><li>'a'</li><li>'b'</li><li>'c'</li><li>'d'</li><li>'e'</li><li>'f'</li><li>'g'</li><li>'h'</li><li>'i'</li><li>'j'</li><li>'k'</li><li>'l'</li><li>'m'</li><li>'n'</li><li>'o'</li><li>'p'</li><li>'q'</li><li>'r'</li><li>'s'</li><li>'t'</li><li>'u'</li><li>'v'</li><li>'w'</li><li>'x'</li><li>'y'</li><li>'z'</li></ol>\n",
              "</details>"
            ]
          },
          "metadata": {
            "tags": []
          }
        }
      ]
    },
    {
      "cell_type": "code",
      "metadata": {
        "id": "xPGn_4EnK-CP",
        "colab_type": "code",
        "colab": {}
      },
      "source": [
        ""
      ],
      "execution_count": null,
      "outputs": []
    },
    {
      "cell_type": "markdown",
      "metadata": {
        "id": "QlY0YNLFwPbU",
        "colab_type": "text"
      },
      "source": [
        "##**Dates, Dates-time y horas**:\n",
        "\n",
        "Se puede elegrir entre tres *parsers* dependiendo de lo que se busque:\n",
        "\n",
        "- Date, que corresponde al númeo de diás desde la fecha $1970/01/01$.\n",
        "- Date-time, que corresponde al número de segundos desde la media noche de la fecha $1970/01/01$.\n",
        "- Tiempo, que corresponde al número de segundos desde la media noche de la fecha $1970/01/01$. \n",
        "\n",
        "Veamos una aplicación de cada uno de ellos.\n",
        "\n",
        "**Nota:** `R` no cuenta con mucha variedad de funciones/clases predefinidas para los datos de temporales, por tal motivo usaremos el paquete `hms`.\n"
      ]
    },
    {
      "cell_type": "markdown",
      "metadata": {
        "id": "xTpw25lXzC2O",
        "colab_type": "text"
      },
      "source": [
        "- `parse_time()`, que espera un `date-time` con el estándar ISO8601, el cual está organizado del número más grande al más pequeño: año>mes>dia>hora>minuto>segundo."
      ]
    },
    {
      "cell_type": "code",
      "metadata": {
        "id": "SKDLi4IoyT2f",
        "colab_type": "code",
        "colab": {
          "base_uri": "https://localhost:8080/",
          "height": 34
        },
        "outputId": "39cd4a5d-8561-4526-dca3-3b876d268122"
      },
      "source": [
        " parse_datetime(\"2010-10-01T2010\")"
      ],
      "execution_count": 56,
      "outputs": [
        {
          "output_type": "display_data",
          "data": {
            "text/plain": [
              "[1] \"2010-10-01 20:10:00 UTC\""
            ]
          },
          "metadata": {
            "tags": []
          }
        }
      ]
    },
    {
      "cell_type": "code",
      "metadata": {
        "id": "Jx_uiM1EzOk3",
        "colab_type": "code",
        "colab": {
          "base_uri": "https://localhost:8080/",
          "height": 34
        },
        "outputId": "1724e539-02a3-469f-8703-7a0c20538277"
      },
      "source": [
        "parse_datetime(\"20101010\")"
      ],
      "execution_count": 57,
      "outputs": [
        {
          "output_type": "display_data",
          "data": {
            "text/plain": [
              "[1] \"2010-10-10 UTC\""
            ]
          },
          "metadata": {
            "tags": []
          }
        }
      ]
    },
    {
      "cell_type": "markdown",
      "metadata": {
        "id": "Z-nZTMqi0IXv",
        "colab_type": "text"
      },
      "source": [
        "- `parse_date()` que espera el año, seguido del mes y el día, separados por `-` o `\\`."
      ]
    },
    {
      "cell_type": "code",
      "metadata": {
        "id": "aBsOb4rmzbJH",
        "colab_type": "code",
        "colab": {
          "base_uri": "https://localhost:8080/",
          "height": 34
        },
        "outputId": "bc924672-3eee-4698-a415-78b012d335d3"
      },
      "source": [
        "parse_date(\"2010-10-01\")"
      ],
      "execution_count": 58,
      "outputs": [
        {
          "output_type": "display_data",
          "data": {
            "text/plain": [
              "[1] \"2010-10-01\""
            ],
            "text/latex": "2010-10-01",
            "text/markdown": "2010-10-01",
            "text/html": [
              "<time datetime=\"2010-10-01\">2010-10-01</time>"
            ]
          },
          "metadata": {
            "tags": []
          }
        }
      ]
    },
    {
      "cell_type": "markdown",
      "metadata": {
        "id": "j6VBeeDt0054",
        "colab_type": "text"
      },
      "source": [
        "- `parse_time()`, que espera se pase las horas, minutos y segundos, separados por `:`; se le puede especificar, opcionalmente, `am/pm`."
      ]
    },
    {
      "cell_type": "code",
      "metadata": {
        "id": "9pEqLeXQ1O3G",
        "colab_type": "code",
        "colab": {}
      },
      "source": [
        "library(hms)"
      ],
      "execution_count": 59,
      "outputs": []
    },
    {
      "cell_type": "code",
      "metadata": {
        "id": "IljOj5Nb1QZG",
        "colab_type": "code",
        "colab": {
          "base_uri": "https://localhost:8080/",
          "height": 34
        },
        "outputId": "23b14814-83c7-4e37-f0ad-efac3137a16a"
      },
      "source": [
        "parse_time(\"01:10 am\")"
      ],
      "execution_count": 60,
      "outputs": [
        {
          "output_type": "display_data",
          "data": {
            "text/plain": [
              "01:10:00"
            ]
          },
          "metadata": {
            "tags": []
          }
        }
      ]
    },
    {
      "cell_type": "code",
      "metadata": {
        "id": "bpRLey5k1ShB",
        "colab_type": "code",
        "colab": {
          "base_uri": "https://localhost:8080/",
          "height": 34
        },
        "outputId": "c8b930c5-fcd7-4be1-99e6-7a3965070d61"
      },
      "source": [
        "parse_time(\"20:10:01\")"
      ],
      "execution_count": 61,
      "outputs": [
        {
          "output_type": "display_data",
          "data": {
            "text/plain": [
              "20:10:01"
            ]
          },
          "metadata": {
            "tags": []
          }
        }
      ]
    },
    {
      "cell_type": "markdown",
      "metadata": {
        "id": "TVMD_C6Z2Qbq",
        "colab_type": "text"
      },
      "source": [
        "Si alguna fecha no satisface los estándares puede usar alguno de los siguientes identificativos:\n",
        "\n",
        "Tipo | indentificador | Significado\n",
        "--|--|--\n",
        "Año |`%Y`| 4 dígitos\n",
        " |`%y`| 2 dígitos\n",
        "Mes | `%m` | 2 dígitos\n",
        "|`%b`| Nombre abreviado\n",
        "|`%B`| Nombre completo\n",
        "Día |`%d`| 2 dígitos\n",
        "|%e| espacio inicial opcional\n",
        "Hora |`%H`| 0-23 horas\n",
        " |`%I`| 0-12 (debe usarse con `%p`)\n",
        "|`%p`| indicador AM/PM\n",
        "|`%M`| minutos\n",
        "|`%S`| Segundos (Entero)\n",
        "|`%OS`| Segundos (Real)\n",
        "|`%z`| Zona horaria\n",
        "No-dígitos |`%.`| omite un caracter que no sea un dígito \n",
        "|`%*`| omite cualquier número de no dígitos\n",
        "\n",
        "Veamos algunos ejemplos.\n"
      ]
    },
    {
      "cell_type": "code",
      "metadata": {
        "id": "SWmMBw1q1Wk1",
        "colab_type": "code",
        "colab": {
          "base_uri": "https://localhost:8080/",
          "height": 34
        },
        "outputId": "ba6f88c0-1870-4446-93c3-ca7bf6a4be4c"
      },
      "source": [
        "parse_date(\"01/02/15\", \"%m/%d/%y\")"
      ],
      "execution_count": 62,
      "outputs": [
        {
          "output_type": "display_data",
          "data": {
            "text/plain": [
              "[1] \"2015-01-02\""
            ],
            "text/latex": "2015-01-02",
            "text/markdown": "2015-01-02",
            "text/html": [
              "<time datetime=\"2015-01-02\">2015-01-02</time>"
            ]
          },
          "metadata": {
            "tags": []
          }
        }
      ]
    },
    {
      "cell_type": "code",
      "metadata": {
        "id": "WFYUPXDF30pq",
        "colab_type": "code",
        "colab": {
          "base_uri": "https://localhost:8080/",
          "height": 34
        },
        "outputId": "256d4ad4-5348-494a-eec2-346c6e103185"
      },
      "source": [
        "parse_date(\"01/02/15\", \"%d/%m/%y\")"
      ],
      "execution_count": 63,
      "outputs": [
        {
          "output_type": "display_data",
          "data": {
            "text/plain": [
              "[1] \"2015-02-01\""
            ],
            "text/latex": "2015-02-01",
            "text/markdown": "2015-02-01",
            "text/html": [
              "<time datetime=\"2015-02-01\">2015-02-01</time>"
            ]
          },
          "metadata": {
            "tags": []
          }
        }
      ]
    },
    {
      "cell_type": "code",
      "metadata": {
        "id": "Y8dv0ETa355H",
        "colab_type": "code",
        "colab": {
          "base_uri": "https://localhost:8080/",
          "height": 34
        },
        "outputId": "6215f8ec-9e16-4e04-eeaa-359a5bc91d6f"
      },
      "source": [
        "parse_date(\"01/02/15\", \"%y/%m/%d\")"
      ],
      "execution_count": 64,
      "outputs": [
        {
          "output_type": "display_data",
          "data": {
            "text/plain": [
              "[1] \"2001-02-15\""
            ],
            "text/latex": "2001-02-15",
            "text/markdown": "2001-02-15",
            "text/html": [
              "<time datetime=\"2001-02-15\">2001-02-15</time>"
            ]
          },
          "metadata": {
            "tags": []
          }
        }
      ]
    },
    {
      "cell_type": "code",
      "metadata": {
        "id": "Tjij-YKQ3-XL",
        "colab_type": "code",
        "colab": {
          "base_uri": "https://localhost:8080/",
          "height": 34
        },
        "outputId": "9914be5d-82e9-427e-cc64-ddbb8043fce7"
      },
      "source": [
        "parse_date(\"01/jan/15\", \"%y/%b/%d\")"
      ],
      "execution_count": 65,
      "outputs": [
        {
          "output_type": "display_data",
          "data": {
            "text/plain": [
              "[1] \"2001-01-15\""
            ],
            "text/latex": "2001-01-15",
            "text/markdown": "2001-01-15",
            "text/html": [
              "<time datetime=\"2001-01-15\">2001-01-15</time>"
            ]
          },
          "metadata": {
            "tags": []
          }
        }
      ]
    },
    {
      "cell_type": "markdown",
      "metadata": {
        "id": "q9tZ1RGG8oAr",
        "colab_type": "text"
      },
      "source": [
        "Si está usando `%b` o `%B` con nombres de meses que no estén en inglés, debe hacer `locale=locale()`. Para ver la lista de lenguajes predefinidos, que hacen parte del argumento de `locale()`, ejecute `date_names_langs()`. "
      ]
    },
    {
      "cell_type": "code",
      "metadata": {
        "id": "LKyTl2Fk4DKY",
        "colab_type": "code",
        "colab": {
          "base_uri": "https://localhost:8080/",
          "height": 119
        },
        "outputId": "8f060fe3-1665-4d2d-885d-ac00adeb1e7c"
      },
      "source": [
        "date_names_langs()"
      ],
      "execution_count": 66,
      "outputs": [
        {
          "output_type": "display_data",
          "data": {
            "text/plain": [
              "  [1] \"af\"  \"agq\" \"ak\"  \"am\"  \"ar\"  \"as\"  \"asa\" \"az\"  \"bas\" \"be\"  \"bem\" \"bez\"\n",
              " [13] \"bg\"  \"bm\"  \"bn\"  \"bo\"  \"br\"  \"brx\" \"bs\"  \"ca\"  \"cgg\" \"chr\" \"cs\"  \"cy\" \n",
              " [25] \"da\"  \"dav\" \"de\"  \"dje\" \"dsb\" \"dua\" \"dyo\" \"dz\"  \"ebu\" \"ee\"  \"el\"  \"en\" \n",
              " [37] \"eo\"  \"es\"  \"et\"  \"eu\"  \"ewo\" \"fa\"  \"ff\"  \"fi\"  \"fil\" \"fo\"  \"fr\"  \"fur\"\n",
              " [49] \"fy\"  \"ga\"  \"gd\"  \"gl\"  \"gsw\" \"gu\"  \"guz\" \"gv\"  \"ha\"  \"haw\" \"he\"  \"hi\" \n",
              " [61] \"hr\"  \"hsb\" \"hu\"  \"hy\"  \"id\"  \"ig\"  \"ii\"  \"is\"  \"it\"  \"ja\"  \"jgo\" \"jmc\"\n",
              " [73] \"ka\"  \"kab\" \"kam\" \"kde\" \"kea\" \"khq\" \"ki\"  \"kk\"  \"kkj\" \"kl\"  \"kln\" \"km\" \n",
              " [85] \"kn\"  \"ko\"  \"kok\" \"ks\"  \"ksb\" \"ksf\" \"ksh\" \"kw\"  \"ky\"  \"lag\" \"lb\"  \"lg\" \n",
              " [97] \"lkt\" \"ln\"  \"lo\"  \"lt\"  \"lu\"  \"luo\" \"luy\" \"lv\"  \"mas\" \"mer\" \"mfe\" \"mg\" \n",
              "[109] \"mgh\" \"mgo\" \"mk\"  \"ml\"  \"mn\"  \"mr\"  \"ms\"  \"mt\"  \"mua\" \"my\"  \"naq\" \"nb\" \n",
              "[121] \"nd\"  \"ne\"  \"nl\"  \"nmg\" \"nn\"  \"nnh\" \"nus\" \"nyn\" \"om\"  \"or\"  \"os\"  \"pa\" \n",
              "[133] \"pl\"  \"ps\"  \"pt\"  \"qu\"  \"rm\"  \"rn\"  \"ro\"  \"rof\" \"ru\"  \"rw\"  \"rwk\" \"sah\"\n",
              "[145] \"saq\" \"sbp\" \"se\"  \"seh\" \"ses\" \"sg\"  \"shi\" \"si\"  \"sk\"  \"sl\"  \"smn\" \"sn\" \n",
              "[157] \"so\"  \"sq\"  \"sr\"  \"sv\"  \"sw\"  \"ta\"  \"te\"  \"teo\" \"th\"  \"ti\"  \"to\"  \"tr\" \n",
              "[169] \"twq\" \"tzm\" \"ug\"  \"uk\"  \"ur\"  \"uz\"  \"vai\" \"vi\"  \"vun\" \"wae\" \"xog\" \"yav\"\n",
              "[181] \"yi\"  \"yo\"  \"zgh\" \"zh\"  \"zu\" "
            ],
            "text/latex": "\\begin{enumerate*}\n\\item 'af'\n\\item 'agq'\n\\item 'ak'\n\\item 'am'\n\\item 'ar'\n\\item 'as'\n\\item 'asa'\n\\item 'az'\n\\item 'bas'\n\\item 'be'\n\\item 'bem'\n\\item 'bez'\n\\item 'bg'\n\\item 'bm'\n\\item 'bn'\n\\item 'bo'\n\\item 'br'\n\\item 'brx'\n\\item 'bs'\n\\item 'ca'\n\\item 'cgg'\n\\item 'chr'\n\\item 'cs'\n\\item 'cy'\n\\item 'da'\n\\item 'dav'\n\\item 'de'\n\\item 'dje'\n\\item 'dsb'\n\\item 'dua'\n\\item 'dyo'\n\\item 'dz'\n\\item 'ebu'\n\\item 'ee'\n\\item 'el'\n\\item 'en'\n\\item 'eo'\n\\item 'es'\n\\item 'et'\n\\item 'eu'\n\\item 'ewo'\n\\item 'fa'\n\\item 'ff'\n\\item 'fi'\n\\item 'fil'\n\\item 'fo'\n\\item 'fr'\n\\item 'fur'\n\\item 'fy'\n\\item 'ga'\n\\item 'gd'\n\\item 'gl'\n\\item 'gsw'\n\\item 'gu'\n\\item 'guz'\n\\item 'gv'\n\\item 'ha'\n\\item 'haw'\n\\item 'he'\n\\item 'hi'\n\\item 'hr'\n\\item 'hsb'\n\\item 'hu'\n\\item 'hy'\n\\item 'id'\n\\item 'ig'\n\\item 'ii'\n\\item 'is'\n\\item 'it'\n\\item 'ja'\n\\item 'jgo'\n\\item 'jmc'\n\\item 'ka'\n\\item 'kab'\n\\item 'kam'\n\\item 'kde'\n\\item 'kea'\n\\item 'khq'\n\\item 'ki'\n\\item 'kk'\n\\item 'kkj'\n\\item 'kl'\n\\item 'kln'\n\\item 'km'\n\\item 'kn'\n\\item 'ko'\n\\item 'kok'\n\\item 'ks'\n\\item 'ksb'\n\\item 'ksf'\n\\item 'ksh'\n\\item 'kw'\n\\item 'ky'\n\\item 'lag'\n\\item 'lb'\n\\item 'lg'\n\\item 'lkt'\n\\item 'ln'\n\\item 'lo'\n\\item 'lt'\n\\item 'lu'\n\\item 'luo'\n\\item 'luy'\n\\item 'lv'\n\\item 'mas'\n\\item 'mer'\n\\item 'mfe'\n\\item 'mg'\n\\item 'mgh'\n\\item 'mgo'\n\\item 'mk'\n\\item 'ml'\n\\item 'mn'\n\\item 'mr'\n\\item 'ms'\n\\item 'mt'\n\\item 'mua'\n\\item 'my'\n\\item 'naq'\n\\item 'nb'\n\\item 'nd'\n\\item 'ne'\n\\item 'nl'\n\\item 'nmg'\n\\item 'nn'\n\\item 'nnh'\n\\item 'nus'\n\\item 'nyn'\n\\item 'om'\n\\item 'or'\n\\item 'os'\n\\item 'pa'\n\\item 'pl'\n\\item 'ps'\n\\item 'pt'\n\\item 'qu'\n\\item 'rm'\n\\item 'rn'\n\\item 'ro'\n\\item 'rof'\n\\item 'ru'\n\\item 'rw'\n\\item 'rwk'\n\\item 'sah'\n\\item 'saq'\n\\item 'sbp'\n\\item 'se'\n\\item 'seh'\n\\item 'ses'\n\\item 'sg'\n\\item 'shi'\n\\item 'si'\n\\item 'sk'\n\\item 'sl'\n\\item 'smn'\n\\item 'sn'\n\\item 'so'\n\\item 'sq'\n\\item 'sr'\n\\item 'sv'\n\\item 'sw'\n\\item 'ta'\n\\item 'te'\n\\item 'teo'\n\\item 'th'\n\\item 'ti'\n\\item 'to'\n\\item 'tr'\n\\item 'twq'\n\\item 'tzm'\n\\item 'ug'\n\\item 'uk'\n\\item 'ur'\n\\item 'uz'\n\\item 'vai'\n\\item 'vi'\n\\item 'vun'\n\\item 'wae'\n\\item 'xog'\n\\item 'yav'\n\\item 'yi'\n\\item 'yo'\n\\item 'zgh'\n\\item 'zh'\n\\item 'zu'\n\\end{enumerate*}\n",
            "text/markdown": "1. 'af'\n2. 'agq'\n3. 'ak'\n4. 'am'\n5. 'ar'\n6. 'as'\n7. 'asa'\n8. 'az'\n9. 'bas'\n10. 'be'\n11. 'bem'\n12. 'bez'\n13. 'bg'\n14. 'bm'\n15. 'bn'\n16. 'bo'\n17. 'br'\n18. 'brx'\n19. 'bs'\n20. 'ca'\n21. 'cgg'\n22. 'chr'\n23. 'cs'\n24. 'cy'\n25. 'da'\n26. 'dav'\n27. 'de'\n28. 'dje'\n29. 'dsb'\n30. 'dua'\n31. 'dyo'\n32. 'dz'\n33. 'ebu'\n34. 'ee'\n35. 'el'\n36. 'en'\n37. 'eo'\n38. 'es'\n39. 'et'\n40. 'eu'\n41. 'ewo'\n42. 'fa'\n43. 'ff'\n44. 'fi'\n45. 'fil'\n46. 'fo'\n47. 'fr'\n48. 'fur'\n49. 'fy'\n50. 'ga'\n51. 'gd'\n52. 'gl'\n53. 'gsw'\n54. 'gu'\n55. 'guz'\n56. 'gv'\n57. 'ha'\n58. 'haw'\n59. 'he'\n60. 'hi'\n61. 'hr'\n62. 'hsb'\n63. 'hu'\n64. 'hy'\n65. 'id'\n66. 'ig'\n67. 'ii'\n68. 'is'\n69. 'it'\n70. 'ja'\n71. 'jgo'\n72. 'jmc'\n73. 'ka'\n74. 'kab'\n75. 'kam'\n76. 'kde'\n77. 'kea'\n78. 'khq'\n79. 'ki'\n80. 'kk'\n81. 'kkj'\n82. 'kl'\n83. 'kln'\n84. 'km'\n85. 'kn'\n86. 'ko'\n87. 'kok'\n88. 'ks'\n89. 'ksb'\n90. 'ksf'\n91. 'ksh'\n92. 'kw'\n93. 'ky'\n94. 'lag'\n95. 'lb'\n96. 'lg'\n97. 'lkt'\n98. 'ln'\n99. 'lo'\n100. 'lt'\n101. 'lu'\n102. 'luo'\n103. 'luy'\n104. 'lv'\n105. 'mas'\n106. 'mer'\n107. 'mfe'\n108. 'mg'\n109. 'mgh'\n110. 'mgo'\n111. 'mk'\n112. 'ml'\n113. 'mn'\n114. 'mr'\n115. 'ms'\n116. 'mt'\n117. 'mua'\n118. 'my'\n119. 'naq'\n120. 'nb'\n121. 'nd'\n122. 'ne'\n123. 'nl'\n124. 'nmg'\n125. 'nn'\n126. 'nnh'\n127. 'nus'\n128. 'nyn'\n129. 'om'\n130. 'or'\n131. 'os'\n132. 'pa'\n133. 'pl'\n134. 'ps'\n135. 'pt'\n136. 'qu'\n137. 'rm'\n138. 'rn'\n139. 'ro'\n140. 'rof'\n141. 'ru'\n142. 'rw'\n143. 'rwk'\n144. 'sah'\n145. 'saq'\n146. 'sbp'\n147. 'se'\n148. 'seh'\n149. 'ses'\n150. 'sg'\n151. 'shi'\n152. 'si'\n153. 'sk'\n154. 'sl'\n155. 'smn'\n156. 'sn'\n157. 'so'\n158. 'sq'\n159. 'sr'\n160. 'sv'\n161. 'sw'\n162. 'ta'\n163. 'te'\n164. 'teo'\n165. 'th'\n166. 'ti'\n167. 'to'\n168. 'tr'\n169. 'twq'\n170. 'tzm'\n171. 'ug'\n172. 'uk'\n173. 'ur'\n174. 'uz'\n175. 'vai'\n176. 'vi'\n177. 'vun'\n178. 'wae'\n179. 'xog'\n180. 'yav'\n181. 'yi'\n182. 'yo'\n183. 'zgh'\n184. 'zh'\n185. 'zu'\n\n\n",
            "text/html": [
              "<style>\n",
              ".list-inline {list-style: none; margin:0; padding: 0}\n",
              ".list-inline>li {display: inline-block}\n",
              ".list-inline>li:not(:last-child)::after {content: \"\\00b7\"; padding: 0 .5ex}\n",
              "</style>\n",
              "<ol class=list-inline><li>'af'</li><li>'agq'</li><li>'ak'</li><li>'am'</li><li>'ar'</li><li>'as'</li><li>'asa'</li><li>'az'</li><li>'bas'</li><li>'be'</li><li>'bem'</li><li>'bez'</li><li>'bg'</li><li>'bm'</li><li>'bn'</li><li>'bo'</li><li>'br'</li><li>'brx'</li><li>'bs'</li><li>'ca'</li><li>'cgg'</li><li>'chr'</li><li>'cs'</li><li>'cy'</li><li>'da'</li><li>'dav'</li><li>'de'</li><li>'dje'</li><li>'dsb'</li><li>'dua'</li><li>'dyo'</li><li>'dz'</li><li>'ebu'</li><li>'ee'</li><li>'el'</li><li>'en'</li><li>'eo'</li><li>'es'</li><li>'et'</li><li>'eu'</li><li>'ewo'</li><li>'fa'</li><li>'ff'</li><li>'fi'</li><li>'fil'</li><li>'fo'</li><li>'fr'</li><li>'fur'</li><li>'fy'</li><li>'ga'</li><li>'gd'</li><li>'gl'</li><li>'gsw'</li><li>'gu'</li><li>'guz'</li><li>'gv'</li><li>'ha'</li><li>'haw'</li><li>'he'</li><li>'hi'</li><li>'hr'</li><li>'hsb'</li><li>'hu'</li><li>'hy'</li><li>'id'</li><li>'ig'</li><li>'ii'</li><li>'is'</li><li>'it'</li><li>'ja'</li><li>'jgo'</li><li>'jmc'</li><li>'ka'</li><li>'kab'</li><li>'kam'</li><li>'kde'</li><li>'kea'</li><li>'khq'</li><li>'ki'</li><li>'kk'</li><li>'kkj'</li><li>'kl'</li><li>'kln'</li><li>'km'</li><li>'kn'</li><li>'ko'</li><li>'kok'</li><li>'ks'</li><li>'ksb'</li><li>'ksf'</li><li>'ksh'</li><li>'kw'</li><li>'ky'</li><li>'lag'</li><li>'lb'</li><li>'lg'</li><li>'lkt'</li><li>'ln'</li><li>'lo'</li><li>'lt'</li><li>'lu'</li><li>'luo'</li><li>'luy'</li><li>'lv'</li><li>'mas'</li><li>'mer'</li><li>'mfe'</li><li>'mg'</li><li>'mgh'</li><li>'mgo'</li><li>'mk'</li><li>'ml'</li><li>'mn'</li><li>'mr'</li><li>'ms'</li><li>'mt'</li><li>'mua'</li><li>'my'</li><li>'naq'</li><li>'nb'</li><li>'nd'</li><li>'ne'</li><li>'nl'</li><li>'nmg'</li><li>'nn'</li><li>'nnh'</li><li>'nus'</li><li>'nyn'</li><li>'om'</li><li>'or'</li><li>'os'</li><li>'pa'</li><li>'pl'</li><li>'ps'</li><li>'pt'</li><li>'qu'</li><li>'rm'</li><li>'rn'</li><li>'ro'</li><li>'rof'</li><li>'ru'</li><li>'rw'</li><li>'rwk'</li><li>'sah'</li><li>'saq'</li><li>'sbp'</li><li>'se'</li><li>'seh'</li><li>'ses'</li><li>'sg'</li><li>'shi'</li><li>'si'</li><li>'sk'</li><li>'sl'</li><li>'smn'</li><li>'sn'</li><li>'so'</li><li>'sq'</li><li>'sr'</li><li>'sv'</li><li>'sw'</li><li>'ta'</li><li>'te'</li><li>'teo'</li><li>'th'</li><li>'ti'</li><li>'to'</li><li>'tr'</li><li>'twq'</li><li>'tzm'</li><li>'ug'</li><li>'uk'</li><li>'ur'</li><li>'uz'</li><li>'vai'</li><li>'vi'</li><li>'vun'</li><li>'wae'</li><li>'xog'</li><li>'yav'</li><li>'yi'</li><li>'yo'</li><li>'zgh'</li><li>'zh'</li><li>'zu'</li></ol>\n"
            ]
          },
          "metadata": {
            "tags": []
          }
        }
      ]
    },
    {
      "cell_type": "code",
      "metadata": {
        "id": "QtSetx6F9S6P",
        "colab_type": "code",
        "colab": {
          "base_uri": "https://localhost:8080/",
          "height": 34
        },
        "outputId": "12899890-1800-4e1b-a95a-1416a2d5b291"
      },
      "source": [
        "parse_date(\"1 Enero 2015\", \"%d %B %Y\", locale = locale(\"es\"))\n"
      ],
      "execution_count": 67,
      "outputs": [
        {
          "output_type": "display_data",
          "data": {
            "text/plain": [
              "[1] \"2015-01-01\""
            ],
            "text/latex": "2015-01-01",
            "text/markdown": "2015-01-01",
            "text/html": [
              "<time datetime=\"2015-01-01\">2015-01-01</time>"
            ]
          },
          "metadata": {
            "tags": []
          }
        }
      ]
    },
    {
      "cell_type": "markdown",
      "metadata": {
        "id": "jKZ0loat96R3",
        "colab_type": "text"
      },
      "source": [
        "**Ejercicio:** para la siguiente lista de datos realice la conversión a una fecha, aplicando los identificativos adecuados de la tabla de esta sesión:\n",
        "\n",
        "- 3 junio 2020.\n",
        "- 20/12/85.\n",
        "- 20 mar 2020."
      ]
    },
    {
      "cell_type": "code",
      "metadata": {
        "id": "twNPtisf-nm4",
        "colab_type": "code",
        "cellView": "form",
        "colab": {
          "base_uri": "https://localhost:8080/",
          "height": 67
        },
        "outputId": "09ba7b2a-9194-4166-c234-9fdd8cf40900"
      },
      "source": [
        "#@title **Solución**\n",
        "parse_date(\"3 junio 2020\", \"%d %B %Y\", locale = locale(\"es\"))\n",
        "parse_date(\"20/12/85\", \"%d/%m/%y\")\n",
        "parse_date(\"20 mar 2020\", \"%d %b %Y\")"
      ],
      "execution_count": null,
      "outputs": [
        {
          "output_type": "display_data",
          "data": {
            "text/plain": [
              "[1] \"2020-06-03\""
            ],
            "text/latex": "2020-06-03",
            "text/markdown": "2020-06-03",
            "text/html": [
              "<time datetime=\"2020-06-03\">2020-06-03</time>"
            ]
          },
          "metadata": {
            "tags": []
          }
        },
        {
          "output_type": "display_data",
          "data": {
            "text/plain": [
              "[1] \"1985-12-20\""
            ],
            "text/latex": "1985-12-20",
            "text/markdown": "1985-12-20",
            "text/html": [
              "<time datetime=\"1985-12-20\">1985-12-20</time>"
            ]
          },
          "metadata": {
            "tags": []
          }
        },
        {
          "output_type": "display_data",
          "data": {
            "text/plain": [
              "[1] \"2020-03-20\""
            ],
            "text/latex": "2020-03-20",
            "text/markdown": "2020-03-20",
            "text/html": [
              "<time datetime=\"2020-03-20\">2020-03-20</time>"
            ]
          },
          "metadata": {
            "tags": []
          }
        }
      ]
    },
    {
      "cell_type": "markdown",
      "metadata": {
        "id": "tEWHav9KgVLW",
        "colab_type": "text"
      },
      "source": [
        "# Analizando un archivo\n",
        "\n",
        "EL siguiente paso en la lectura de datos es saber cómo el lector analiza el archivo a leer. Hay dos cosas nuevas que aprenderá en esta sección:\n",
        "\n",
        "1. Cómo el lector adivina automáticamente el tipo de cada columna.\n",
        "2. Cómo anular la especificación predeterminada.\n",
        "\n",
        "Las funciones de lectura `read` generalmente cargan las primeras 1000 y desde allí hacen pruebas para determinar cual es el tipo de cada columna. Podemos emular su comportamiento con las funciones:"
      ]
    },
    {
      "cell_type": "code",
      "metadata": {
        "id": "6G9i02eMkH6A",
        "colab_type": "code",
        "colab": {
          "base_uri": "https://localhost:8080/",
          "height": 118
        },
        "outputId": "af4c72df-3ecf-4c45-8b22-5e57c2b71d99"
      },
      "source": [
        "guess_parser(\"2010-10-01\")\n",
        "guess_parser(\"15:01\")\n",
        "guess_parser(c(\"TRUE\", \"FALSE\"))\n",
        "guess_parser(c(\"1\", \"5\", \"9\"))\n",
        "guess_parser(c(\"12,352,561\"))\n",
        "str(parse_guess(\"2010-10-10\"))"
      ],
      "execution_count": null,
      "outputs": [
        {
          "output_type": "display_data",
          "data": {
            "text/plain": [
              "[1] \"date\""
            ],
            "text/latex": "'date'",
            "text/markdown": "'date'",
            "text/html": [
              "'date'"
            ]
          },
          "metadata": {
            "tags": []
          }
        },
        {
          "output_type": "display_data",
          "data": {
            "text/plain": [
              "[1] \"time\""
            ],
            "text/latex": "'time'",
            "text/markdown": "'time'",
            "text/html": [
              "'time'"
            ]
          },
          "metadata": {
            "tags": []
          }
        },
        {
          "output_type": "display_data",
          "data": {
            "text/plain": [
              "[1] \"logical\""
            ],
            "text/latex": "'logical'",
            "text/markdown": "'logical'",
            "text/html": [
              "'logical'"
            ]
          },
          "metadata": {
            "tags": []
          }
        },
        {
          "output_type": "display_data",
          "data": {
            "text/plain": [
              "[1] \"double\""
            ],
            "text/latex": "'double'",
            "text/markdown": "'double'",
            "text/html": [
              "'double'"
            ]
          },
          "metadata": {
            "tags": []
          }
        },
        {
          "output_type": "display_data",
          "data": {
            "text/plain": [
              "[1] \"number\""
            ],
            "text/latex": "'number'",
            "text/markdown": "'number'",
            "text/html": [
              "'number'"
            ]
          },
          "metadata": {
            "tags": []
          }
        },
        {
          "output_type": "stream",
          "text": [
            " Date[1:1], format: \"2010-10-10\"\n"
          ],
          "name": "stdout"
        }
      ]
    },
    {
      "cell_type": "markdown",
      "metadata": {
        "id": "JJpXUXAs-56J",
        "colab_type": "text"
      },
      "source": [
        "Básicamente al leer una columna se establece un conjunto de reglas que determina si es una fecha, si es un número etc, cualquier columnas cuya prueba no entre dentro de esta categoria será asignada como un str y ya corresponderá al usuario hacer la trasnformación según las características de la columna. "
      ]
    },
    {
      "cell_type": "markdown",
      "metadata": {
        "id": "QTP6yXSj_ZD7",
        "colab_type": "text"
      },
      "source": [
        "## Inferencia limitada\n",
        "\n",
        "Esta forma de inferir el tipo de columna tiene varios problemas, pero lo podemos resumir en que las primeras 1000 líneas pueden contener información engañosa, valores faltantes, enteros en columnas de double y así. Por lo tanto tenemos un csv que nos ayudará a aprender como tratar con estos problemas.\n",
        "\n",
        "Sí leemos sólo las primeras 1000 columnas veremos que no hay ningún problema, pero una vez tengamos que cargar todas las filas los problemas aparecen:"
      ]
    },
    {
      "cell_type": "code",
      "metadata": {
        "id": "wA-i2FrhAsiN",
        "colab_type": "code",
        "colab": {
          "base_uri": "https://localhost:8080/",
          "height": 323
        },
        "outputId": "59c3ed4f-5de6-4885-e998-54d9d554d056"
      },
      "source": [
        "challenge <- read_csv(readr_example(\"challenge.csv\"),n_max=1000)\n",
        "head(challenge)"
      ],
      "execution_count": 68,
      "outputs": [
        {
          "output_type": "stream",
          "text": [
            "Parsed with column specification:\n",
            "cols(\n",
            "  x = \u001b[32mcol_double()\u001b[39m,\n",
            "  y = \u001b[33mcol_logical()\u001b[39m\n",
            ")\n",
            "\n"
          ],
          "name": "stderr"
        },
        {
          "output_type": "display_data",
          "data": {
            "text/plain": [
              "  x    y \n",
              "1  404 NA\n",
              "2 4172 NA\n",
              "3 3004 NA\n",
              "4  787 NA\n",
              "5   37 NA\n",
              "6 2332 NA"
            ],
            "text/latex": "A tibble: 6 × 2\n\\begin{tabular}{ll}\n x & y\\\\\n <dbl> & <lgl>\\\\\n\\hline\n\t  404 & NA\\\\\n\t 4172 & NA\\\\\n\t 3004 & NA\\\\\n\t  787 & NA\\\\\n\t   37 & NA\\\\\n\t 2332 & NA\\\\\n\\end{tabular}\n",
            "text/markdown": "\nA tibble: 6 × 2\n\n| x &lt;dbl&gt; | y &lt;lgl&gt; |\n|---|---|\n|  404 | NA |\n| 4172 | NA |\n| 3004 | NA |\n|  787 | NA |\n|   37 | NA |\n| 2332 | NA |\n\n",
            "text/html": [
              "<table>\n",
              "<caption>A tibble: 6 × 2</caption>\n",
              "<thead>\n",
              "\t<tr><th scope=col>x</th><th scope=col>y</th></tr>\n",
              "\t<tr><th scope=col>&lt;dbl&gt;</th><th scope=col>&lt;lgl&gt;</th></tr>\n",
              "</thead>\n",
              "<tbody>\n",
              "\t<tr><td> 404</td><td>NA</td></tr>\n",
              "\t<tr><td>4172</td><td>NA</td></tr>\n",
              "\t<tr><td>3004</td><td>NA</td></tr>\n",
              "\t<tr><td> 787</td><td>NA</td></tr>\n",
              "\t<tr><td>  37</td><td>NA</td></tr>\n",
              "\t<tr><td>2332</td><td>NA</td></tr>\n",
              "</tbody>\n",
              "</table>\n"
            ]
          },
          "metadata": {
            "tags": []
          }
        }
      ]
    },
    {
      "cell_type": "code",
      "metadata": {
        "id": "dtc8f2G0_vF6",
        "colab_type": "code",
        "colab": {
          "base_uri": "https://localhost:8080/",
          "height": 316
        },
        "outputId": "1e5b00b4-6202-4507-f235-bcd8e36c352b"
      },
      "source": [
        "challenge <- read_csv(readr_example(\"challenge.csv\"))"
      ],
      "execution_count": null,
      "outputs": [
        {
          "output_type": "stream",
          "text": [
            "Parsed with column specification:\n",
            "cols(\n",
            "  x = \u001b[32mcol_double()\u001b[39m,\n",
            "  y = \u001b[33mcol_logical()\u001b[39m\n",
            ")\n",
            "\n",
            "Warning message:\n",
            "“1000 parsing failures.\n",
            " row col           expected     actual                                                  file\n",
            "1001   y 1/0/T/F/TRUE/FALSE 2015-01-16 '/usr/lib/R/site-library/readr/extdata/challenge.csv'\n",
            "1002   y 1/0/T/F/TRUE/FALSE 2018-05-18 '/usr/lib/R/site-library/readr/extdata/challenge.csv'\n",
            "1003   y 1/0/T/F/TRUE/FALSE 2015-09-05 '/usr/lib/R/site-library/readr/extdata/challenge.csv'\n",
            "1004   y 1/0/T/F/TRUE/FALSE 2012-11-28 '/usr/lib/R/site-library/readr/extdata/challenge.csv'\n",
            "1005   y 1/0/T/F/TRUE/FALSE 2020-01-13 '/usr/lib/R/site-library/readr/extdata/challenge.csv'\n",
            ".... ... .................. .......... .....................................................\n",
            "See problems(...) for more details.\n",
            "”\n"
          ],
          "name": "stderr"
        }
      ]
    },
    {
      "cell_type": "code",
      "metadata": {
        "id": "iIxcZXE3_wbE",
        "colab_type": "code",
        "colab": {
          "base_uri": "https://localhost:8080/",
          "height": 78
        },
        "outputId": "7c6997b5-c248-4b3d-a085-63336e21d9bc"
      },
      "source": [
        "problems(challenge)"
      ],
      "execution_count": 69,
      "outputs": [
        {
          "output_type": "display_data",
          "data": {
            "text/plain": [
              "     row col expected actual"
            ],
            "text/latex": "A tibble: 0 × 4\n\\begin{tabular}{llll}\n row & col & expected & actual\\\\\n <int> & <int> & <chr> & <chr>\\\\\n\\hline\n\\end{tabular}\n",
            "text/markdown": "\nA tibble: 0 × 4\n\n| row &lt;int&gt; | col &lt;int&gt; | expected &lt;chr&gt; | actual &lt;chr&gt; |\n|---|---|---|---|\n\n",
            "text/html": [
              "<table>\n",
              "<caption>A tibble: 0 × 4</caption>\n",
              "<thead>\n",
              "\t<tr><th scope=col>row</th><th scope=col>col</th><th scope=col>expected</th><th scope=col>actual</th></tr>\n",
              "\t<tr><th scope=col>&lt;int&gt;</th><th scope=col>&lt;int&gt;</th><th scope=col>&lt;chr&gt;</th><th scope=col>&lt;chr&gt;</th></tr>\n",
              "</thead>\n",
              "<tbody>\n",
              "</tbody>\n",
              "</table>\n"
            ]
          },
          "metadata": {
            "tags": []
          }
        }
      ]
    },
    {
      "cell_type": "markdown",
      "metadata": {
        "id": "E6BNbEjcCA2-",
        "colab_type": "text"
      },
      "source": [
        "## Estrategias para una correcta lectura:\n",
        "\n",
        "```r\n",
        "read_csv ( file , col_names  =  TRUE , col_types  =  NULL ,\n",
        "   locale  =  default_locale (), na  =  c ( \"\" , \"NA\" ), quoted_na  =  TRUE ,\n",
        "   quote  =  \"\\\" \" , comment  =  \" \" , trim_ws  =  TRUE , skip  =  0 ,\n",
        "   n_max  =  Inf , guess_max  =  min (1000 , n_max ),\n",
        "   progress  =  show_progress (), skip_empty_rows  =  TRUE )\n",
        "```\n",
        "\n",
        "La función `read_csv` nos permite hacer varias cosas según lo que necesitemos. "
      ]
    },
    {
      "cell_type": "markdown",
      "metadata": {
        "id": "jxS_BECeBfKq",
        "colab_type": "text"
      },
      "source": [
        "### Asignar un tipo por columna\n",
        "\n",
        "En el caso que notemos que hay una mal intepretación en los tipos de datos y necesitamos asignar el tipo nosotros mismos luego de una revisión detallada, para eso tenemos:"
      ]
    },
    {
      "cell_type": "code",
      "metadata": {
        "id": "xP8QIgaT_7MH",
        "colab_type": "code",
        "colab": {
          "base_uri": "https://localhost:8080/",
          "height": 1000
        },
        "outputId": "fe18aa66-ee3e-4870-88b2-ce8d27bfdb36"
      },
      "source": [
        "challenge <- read_csv(\n",
        "  readr_example(\"challenge.csv\"), \n",
        "  col_types = cols(\n",
        "    x = col_double(),\n",
        "    y = col_date()\n",
        "  )\n",
        ")\n",
        "\n",
        "challenge"
      ],
      "execution_count": 71,
      "outputs": [
        {
          "output_type": "display_data",
          "data": {
            "text/plain": [
              "     x          y         \n",
              "1     404       <NA>      \n",
              "2    4172       <NA>      \n",
              "3    3004       <NA>      \n",
              "4     787       <NA>      \n",
              "5      37       <NA>      \n",
              "6    2332       <NA>      \n",
              "7    2489       <NA>      \n",
              "8    1449       <NA>      \n",
              "9    3665       <NA>      \n",
              "10   3863       <NA>      \n",
              "11   4374       <NA>      \n",
              "12    875       <NA>      \n",
              "13    172       <NA>      \n",
              "14   1602       <NA>      \n",
              "15   2012       <NA>      \n",
              "16    979       <NA>      \n",
              "17   2018       <NA>      \n",
              "18    319       <NA>      \n",
              "19   1944       <NA>      \n",
              "20   4878       <NA>      \n",
              "21   1450       <NA>      \n",
              "22   3392       <NA>      \n",
              "23   3677       <NA>      \n",
              "24    980       <NA>      \n",
              "25   4903       <NA>      \n",
              "26   3708       <NA>      \n",
              "27    258       <NA>      \n",
              "28   2652       <NA>      \n",
              "29   3480       <NA>      \n",
              "30   3443       <NA>      \n",
              "⋮    ⋮          ⋮         \n",
              "1971 0.14324546 2020-06-10\n",
              "1972 0.42678032 2013-11-08\n",
              "1973 0.56445359 2017-07-12\n",
              "1974 0.18729942 2016-08-12\n",
              "1975 0.60274952 2022-05-12\n",
              "1976 0.73487829 2020-08-11\n",
              "1977 0.06834881 2011-10-26\n",
              "1978 0.78291796 2015-12-09\n",
              "1979 0.92149271 2012-09-27\n",
              "1980 0.04428217 2013-02-04\n",
              "1981 0.71311485 2010-11-29\n",
              "1982 0.90388602 2013-10-16\n",
              "1983 0.73958150 2015-04-26\n",
              "1984 0.17217563 2011-04-12\n",
              "1985 0.18658998 2017-01-30\n",
              "1986 0.38248836 2014-06-08\n",
              "1987 0.45361328 2016-10-19\n",
              "1988 0.45513148 2023-09-01\n",
              "1989 0.17310278 2010-01-09\n",
              "1990 0.30541726 2020-01-11\n",
              "1991 0.86775210 2016-12-16\n",
              "1992 0.26023225 2010-01-03\n",
              "1993 0.68087076 2016-04-23\n",
              "1994 0.85357656 2016-08-10\n",
              "1995 0.80527431 2019-11-21\n",
              "1996 0.16351634 2018-03-29\n",
              "1997 0.47193898 2014-08-04\n",
              "1998 0.71831865 2015-08-16\n",
              "1999 0.26987859 2020-02-04\n",
              "2000 0.60823719 2019-01-06"
            ],
            "text/latex": "A spec\\_tbl\\_df: 2000 × 2\n\\begin{tabular}{ll}\n x & y\\\\\n <dbl> & <date>\\\\\n\\hline\n\t  404 & NA\\\\\n\t 4172 & NA\\\\\n\t 3004 & NA\\\\\n\t  787 & NA\\\\\n\t   37 & NA\\\\\n\t 2332 & NA\\\\\n\t 2489 & NA\\\\\n\t 1449 & NA\\\\\n\t 3665 & NA\\\\\n\t 3863 & NA\\\\\n\t 4374 & NA\\\\\n\t  875 & NA\\\\\n\t  172 & NA\\\\\n\t 1602 & NA\\\\\n\t 2012 & NA\\\\\n\t  979 & NA\\\\\n\t 2018 & NA\\\\\n\t  319 & NA\\\\\n\t 1944 & NA\\\\\n\t 4878 & NA\\\\\n\t 1450 & NA\\\\\n\t 3392 & NA\\\\\n\t 3677 & NA\\\\\n\t  980 & NA\\\\\n\t 4903 & NA\\\\\n\t 3708 & NA\\\\\n\t  258 & NA\\\\\n\t 2652 & NA\\\\\n\t 3480 & NA\\\\\n\t 3443 & NA\\\\\n\t ⋮ & ⋮\\\\\n\t 0.14324546 & 2020-06-10\\\\\n\t 0.42678032 & 2013-11-08\\\\\n\t 0.56445359 & 2017-07-12\\\\\n\t 0.18729942 & 2016-08-12\\\\\n\t 0.60274952 & 2022-05-12\\\\\n\t 0.73487829 & 2020-08-11\\\\\n\t 0.06834881 & 2011-10-26\\\\\n\t 0.78291796 & 2015-12-09\\\\\n\t 0.92149271 & 2012-09-27\\\\\n\t 0.04428217 & 2013-02-04\\\\\n\t 0.71311485 & 2010-11-29\\\\\n\t 0.90388602 & 2013-10-16\\\\\n\t 0.73958150 & 2015-04-26\\\\\n\t 0.17217563 & 2011-04-12\\\\\n\t 0.18658998 & 2017-01-30\\\\\n\t 0.38248836 & 2014-06-08\\\\\n\t 0.45361328 & 2016-10-19\\\\\n\t 0.45513148 & 2023-09-01\\\\\n\t 0.17310278 & 2010-01-09\\\\\n\t 0.30541726 & 2020-01-11\\\\\n\t 0.86775210 & 2016-12-16\\\\\n\t 0.26023225 & 2010-01-03\\\\\n\t 0.68087076 & 2016-04-23\\\\\n\t 0.85357656 & 2016-08-10\\\\\n\t 0.80527431 & 2019-11-21\\\\\n\t 0.16351634 & 2018-03-29\\\\\n\t 0.47193898 & 2014-08-04\\\\\n\t 0.71831865 & 2015-08-16\\\\\n\t 0.26987859 & 2020-02-04\\\\\n\t 0.60823719 & 2019-01-06\\\\\n\\end{tabular}\n",
            "text/markdown": "\nA spec_tbl_df: 2000 × 2\n\n| x &lt;dbl&gt; | y &lt;date&gt; |\n|---|---|\n|  404 | NA |\n| 4172 | NA |\n| 3004 | NA |\n|  787 | NA |\n|   37 | NA |\n| 2332 | NA |\n| 2489 | NA |\n| 1449 | NA |\n| 3665 | NA |\n| 3863 | NA |\n| 4374 | NA |\n|  875 | NA |\n|  172 | NA |\n| 1602 | NA |\n| 2012 | NA |\n|  979 | NA |\n| 2018 | NA |\n|  319 | NA |\n| 1944 | NA |\n| 4878 | NA |\n| 1450 | NA |\n| 3392 | NA |\n| 3677 | NA |\n|  980 | NA |\n| 4903 | NA |\n| 3708 | NA |\n|  258 | NA |\n| 2652 | NA |\n| 3480 | NA |\n| 3443 | NA |\n| ⋮ | ⋮ |\n| 0.14324546 | 2020-06-10 |\n| 0.42678032 | 2013-11-08 |\n| 0.56445359 | 2017-07-12 |\n| 0.18729942 | 2016-08-12 |\n| 0.60274952 | 2022-05-12 |\n| 0.73487829 | 2020-08-11 |\n| 0.06834881 | 2011-10-26 |\n| 0.78291796 | 2015-12-09 |\n| 0.92149271 | 2012-09-27 |\n| 0.04428217 | 2013-02-04 |\n| 0.71311485 | 2010-11-29 |\n| 0.90388602 | 2013-10-16 |\n| 0.73958150 | 2015-04-26 |\n| 0.17217563 | 2011-04-12 |\n| 0.18658998 | 2017-01-30 |\n| 0.38248836 | 2014-06-08 |\n| 0.45361328 | 2016-10-19 |\n| 0.45513148 | 2023-09-01 |\n| 0.17310278 | 2010-01-09 |\n| 0.30541726 | 2020-01-11 |\n| 0.86775210 | 2016-12-16 |\n| 0.26023225 | 2010-01-03 |\n| 0.68087076 | 2016-04-23 |\n| 0.85357656 | 2016-08-10 |\n| 0.80527431 | 2019-11-21 |\n| 0.16351634 | 2018-03-29 |\n| 0.47193898 | 2014-08-04 |\n| 0.71831865 | 2015-08-16 |\n| 0.26987859 | 2020-02-04 |\n| 0.60823719 | 2019-01-06 |\n\n",
            "text/html": [
              "<table>\n",
              "<caption>A spec_tbl_df: 2000 × 2</caption>\n",
              "<thead>\n",
              "\t<tr><th scope=col>x</th><th scope=col>y</th></tr>\n",
              "\t<tr><th scope=col>&lt;dbl&gt;</th><th scope=col>&lt;date&gt;</th></tr>\n",
              "</thead>\n",
              "<tbody>\n",
              "\t<tr><td> 404</td><td>NA</td></tr>\n",
              "\t<tr><td>4172</td><td>NA</td></tr>\n",
              "\t<tr><td>3004</td><td>NA</td></tr>\n",
              "\t<tr><td> 787</td><td>NA</td></tr>\n",
              "\t<tr><td>  37</td><td>NA</td></tr>\n",
              "\t<tr><td>2332</td><td>NA</td></tr>\n",
              "\t<tr><td>2489</td><td>NA</td></tr>\n",
              "\t<tr><td>1449</td><td>NA</td></tr>\n",
              "\t<tr><td>3665</td><td>NA</td></tr>\n",
              "\t<tr><td>3863</td><td>NA</td></tr>\n",
              "\t<tr><td>4374</td><td>NA</td></tr>\n",
              "\t<tr><td> 875</td><td>NA</td></tr>\n",
              "\t<tr><td> 172</td><td>NA</td></tr>\n",
              "\t<tr><td>1602</td><td>NA</td></tr>\n",
              "\t<tr><td>2012</td><td>NA</td></tr>\n",
              "\t<tr><td> 979</td><td>NA</td></tr>\n",
              "\t<tr><td>2018</td><td>NA</td></tr>\n",
              "\t<tr><td> 319</td><td>NA</td></tr>\n",
              "\t<tr><td>1944</td><td>NA</td></tr>\n",
              "\t<tr><td>4878</td><td>NA</td></tr>\n",
              "\t<tr><td>1450</td><td>NA</td></tr>\n",
              "\t<tr><td>3392</td><td>NA</td></tr>\n",
              "\t<tr><td>3677</td><td>NA</td></tr>\n",
              "\t<tr><td> 980</td><td>NA</td></tr>\n",
              "\t<tr><td>4903</td><td>NA</td></tr>\n",
              "\t<tr><td>3708</td><td>NA</td></tr>\n",
              "\t<tr><td> 258</td><td>NA</td></tr>\n",
              "\t<tr><td>2652</td><td>NA</td></tr>\n",
              "\t<tr><td>3480</td><td>NA</td></tr>\n",
              "\t<tr><td>3443</td><td>NA</td></tr>\n",
              "\t<tr><td>⋮</td><td>⋮</td></tr>\n",
              "\t<tr><td>0.14324546</td><td>2020-06-10</td></tr>\n",
              "\t<tr><td>0.42678032</td><td>2013-11-08</td></tr>\n",
              "\t<tr><td>0.56445359</td><td>2017-07-12</td></tr>\n",
              "\t<tr><td>0.18729942</td><td>2016-08-12</td></tr>\n",
              "\t<tr><td>0.60274952</td><td>2022-05-12</td></tr>\n",
              "\t<tr><td>0.73487829</td><td>2020-08-11</td></tr>\n",
              "\t<tr><td>0.06834881</td><td>2011-10-26</td></tr>\n",
              "\t<tr><td>0.78291796</td><td>2015-12-09</td></tr>\n",
              "\t<tr><td>0.92149271</td><td>2012-09-27</td></tr>\n",
              "\t<tr><td>0.04428217</td><td>2013-02-04</td></tr>\n",
              "\t<tr><td>0.71311485</td><td>2010-11-29</td></tr>\n",
              "\t<tr><td>0.90388602</td><td>2013-10-16</td></tr>\n",
              "\t<tr><td>0.73958150</td><td>2015-04-26</td></tr>\n",
              "\t<tr><td>0.17217563</td><td>2011-04-12</td></tr>\n",
              "\t<tr><td>0.18658998</td><td>2017-01-30</td></tr>\n",
              "\t<tr><td>0.38248836</td><td>2014-06-08</td></tr>\n",
              "\t<tr><td>0.45361328</td><td>2016-10-19</td></tr>\n",
              "\t<tr><td>0.45513148</td><td>2023-09-01</td></tr>\n",
              "\t<tr><td>0.17310278</td><td>2010-01-09</td></tr>\n",
              "\t<tr><td>0.30541726</td><td>2020-01-11</td></tr>\n",
              "\t<tr><td>0.86775210</td><td>2016-12-16</td></tr>\n",
              "\t<tr><td>0.26023225</td><td>2010-01-03</td></tr>\n",
              "\t<tr><td>0.68087076</td><td>2016-04-23</td></tr>\n",
              "\t<tr><td>0.85357656</td><td>2016-08-10</td></tr>\n",
              "\t<tr><td>0.80527431</td><td>2019-11-21</td></tr>\n",
              "\t<tr><td>0.16351634</td><td>2018-03-29</td></tr>\n",
              "\t<tr><td>0.47193898</td><td>2014-08-04</td></tr>\n",
              "\t<tr><td>0.71831865</td><td>2015-08-16</td></tr>\n",
              "\t<tr><td>0.26987859</td><td>2020-02-04</td></tr>\n",
              "\t<tr><td>0.60823719</td><td>2019-01-06</td></tr>\n",
              "</tbody>\n",
              "</table>\n"
            ]
          },
          "metadata": {
            "tags": []
          }
        }
      ]
    },
    {
      "cell_type": "markdown",
      "metadata": {
        "id": "WS-HU1RIDpUh",
        "colab_type": "text"
      },
      "source": [
        "### Asumir str por default\n",
        "\n",
        "En el caso de Python/Pandas es común la estrategia de asumir que todas las columnas son tipo objeto (string) y dejar al usuario revisar cuales serían las transformaciones adecuadas a manera de no dañar la lectura el conjunto de datos. Esta estrategia se puede usar junto con la función `type_converse` en el caso de no haber problemas luego de una revisión."
      ]
    },
    {
      "cell_type": "code",
      "metadata": {
        "id": "il8eQ8CBBtw8",
        "colab_type": "code",
        "colab": {
          "base_uri": "https://localhost:8080/",
          "height": 305
        },
        "outputId": "a1bd6673-2475-495f-a825-97bb1d53ba0a"
      },
      "source": [
        "challenge2 <- read_csv(readr_example(\"challenge.csv\"), \n",
        "  col_types = cols(.default = col_character())\n",
        ")\n",
        "\n",
        "head(challenge2,10)"
      ],
      "execution_count": 72,
      "outputs": [
        {
          "output_type": "display_data",
          "data": {
            "text/plain": [
              "   x    y \n",
              "1  404  NA\n",
              "2  4172 NA\n",
              "3  3004 NA\n",
              "4  787  NA\n",
              "5  37   NA\n",
              "6  2332 NA\n",
              "7  2489 NA\n",
              "8  1449 NA\n",
              "9  3665 NA\n",
              "10 3863 NA"
            ],
            "text/latex": "A tibble: 10 × 2\n\\begin{tabular}{ll}\n x & y\\\\\n <chr> & <chr>\\\\\n\\hline\n\t 404  & NA\\\\\n\t 4172 & NA\\\\\n\t 3004 & NA\\\\\n\t 787  & NA\\\\\n\t 37   & NA\\\\\n\t 2332 & NA\\\\\n\t 2489 & NA\\\\\n\t 1449 & NA\\\\\n\t 3665 & NA\\\\\n\t 3863 & NA\\\\\n\\end{tabular}\n",
            "text/markdown": "\nA tibble: 10 × 2\n\n| x &lt;chr&gt; | y &lt;chr&gt; |\n|---|---|\n| 404  | NA |\n| 4172 | NA |\n| 3004 | NA |\n| 787  | NA |\n| 37   | NA |\n| 2332 | NA |\n| 2489 | NA |\n| 1449 | NA |\n| 3665 | NA |\n| 3863 | NA |\n\n",
            "text/html": [
              "<table>\n",
              "<caption>A tibble: 10 × 2</caption>\n",
              "<thead>\n",
              "\t<tr><th scope=col>x</th><th scope=col>y</th></tr>\n",
              "\t<tr><th scope=col>&lt;chr&gt;</th><th scope=col>&lt;chr&gt;</th></tr>\n",
              "</thead>\n",
              "<tbody>\n",
              "\t<tr><td>404 </td><td>NA</td></tr>\n",
              "\t<tr><td>4172</td><td>NA</td></tr>\n",
              "\t<tr><td>3004</td><td>NA</td></tr>\n",
              "\t<tr><td>787 </td><td>NA</td></tr>\n",
              "\t<tr><td>37  </td><td>NA</td></tr>\n",
              "\t<tr><td>2332</td><td>NA</td></tr>\n",
              "\t<tr><td>2489</td><td>NA</td></tr>\n",
              "\t<tr><td>1449</td><td>NA</td></tr>\n",
              "\t<tr><td>3665</td><td>NA</td></tr>\n",
              "\t<tr><td>3863</td><td>NA</td></tr>\n",
              "</tbody>\n",
              "</table>\n"
            ]
          },
          "metadata": {
            "tags": []
          }
        }
      ]
    },
    {
      "cell_type": "code",
      "metadata": {
        "id": "C0f_NPfkCgoZ",
        "colab_type": "code",
        "colab": {
          "base_uri": "https://localhost:8080/",
          "height": 367
        },
        "outputId": "241ffc03-272a-497d-848d-0bab82fd227f"
      },
      "source": [
        "df <- tribble(\n",
        "  ~x,  ~y,\n",
        "  \"1\", \"1.21\",\n",
        "  \"2\", \"2.32\",\n",
        "  \"3\", \"4.56\"\n",
        ")\n",
        "df\n",
        "\n",
        "type_convert(df)"
      ],
      "execution_count": 73,
      "outputs": [
        {
          "output_type": "display_data",
          "data": {
            "text/plain": [
              "  x y   \n",
              "1 1 1.21\n",
              "2 2 2.32\n",
              "3 3 4.56"
            ],
            "text/latex": "A tibble: 3 × 2\n\\begin{tabular}{ll}\n x & y\\\\\n <chr> & <chr>\\\\\n\\hline\n\t 1 & 1.21\\\\\n\t 2 & 2.32\\\\\n\t 3 & 4.56\\\\\n\\end{tabular}\n",
            "text/markdown": "\nA tibble: 3 × 2\n\n| x &lt;chr&gt; | y &lt;chr&gt; |\n|---|---|\n| 1 | 1.21 |\n| 2 | 2.32 |\n| 3 | 4.56 |\n\n",
            "text/html": [
              "<table>\n",
              "<caption>A tibble: 3 × 2</caption>\n",
              "<thead>\n",
              "\t<tr><th scope=col>x</th><th scope=col>y</th></tr>\n",
              "\t<tr><th scope=col>&lt;chr&gt;</th><th scope=col>&lt;chr&gt;</th></tr>\n",
              "</thead>\n",
              "<tbody>\n",
              "\t<tr><td>1</td><td>1.21</td></tr>\n",
              "\t<tr><td>2</td><td>2.32</td></tr>\n",
              "\t<tr><td>3</td><td>4.56</td></tr>\n",
              "</tbody>\n",
              "</table>\n"
            ]
          },
          "metadata": {
            "tags": []
          }
        },
        {
          "output_type": "stream",
          "text": [
            "Parsed with column specification:\n",
            "cols(\n",
            "  x = \u001b[32mcol_double()\u001b[39m,\n",
            "  y = \u001b[32mcol_double()\u001b[39m\n",
            ")\n",
            "\n"
          ],
          "name": "stderr"
        },
        {
          "output_type": "display_data",
          "data": {
            "text/plain": [
              "  x y   \n",
              "1 1 1.21\n",
              "2 2 2.32\n",
              "3 3 4.56"
            ],
            "text/latex": "A tibble: 3 × 2\n\\begin{tabular}{ll}\n x & y\\\\\n <dbl> & <dbl>\\\\\n\\hline\n\t 1 & 1.21\\\\\n\t 2 & 2.32\\\\\n\t 3 & 4.56\\\\\n\\end{tabular}\n",
            "text/markdown": "\nA tibble: 3 × 2\n\n| x &lt;dbl&gt; | y &lt;dbl&gt; |\n|---|---|\n| 1 | 1.21 |\n| 2 | 2.32 |\n| 3 | 4.56 |\n\n",
            "text/html": [
              "<table>\n",
              "<caption>A tibble: 3 × 2</caption>\n",
              "<thead>\n",
              "\t<tr><th scope=col>x</th><th scope=col>y</th></tr>\n",
              "\t<tr><th scope=col>&lt;dbl&gt;</th><th scope=col>&lt;dbl&gt;</th></tr>\n",
              "</thead>\n",
              "<tbody>\n",
              "\t<tr><td>1</td><td>1.21</td></tr>\n",
              "\t<tr><td>2</td><td>2.32</td></tr>\n",
              "\t<tr><td>3</td><td>4.56</td></tr>\n",
              "</tbody>\n",
              "</table>\n"
            ]
          },
          "metadata": {
            "tags": []
          }
        }
      ]
    },
    {
      "cell_type": "markdown",
      "metadata": {
        "id": "VbIV2Z0EDgeb",
        "colab_type": "text"
      },
      "source": [
        "### Aumentar el conjunto de filas para inferir\n",
        "\n",
        "Por supuesto también podríamos tener mala suerte y necesitar más de 1000 filas para inferir bien el tipo de dato correcto pero puede ser una estrategia un tanto particular. "
      ]
    },
    {
      "cell_type": "code",
      "metadata": {
        "id": "SwVxUopODAcQ",
        "colab_type": "code",
        "colab": {
          "base_uri": "https://localhost:8080/",
          "height": 119
        },
        "outputId": "2ad8ed72-927f-47cb-b9ee-36a3681292f4"
      },
      "source": [
        "challenge2 <- read_csv(readr_example(\"challenge.csv\"), guess_max = 1001)"
      ],
      "execution_count": 74,
      "outputs": [
        {
          "output_type": "stream",
          "text": [
            "Parsed with column specification:\n",
            "cols(\n",
            "  x = \u001b[32mcol_double()\u001b[39m,\n",
            "  y = \u001b[34mcol_date(format = \"\")\u001b[39m\n",
            ")\n",
            "\n"
          ],
          "name": "stderr"
        }
      ]
    },
    {
      "cell_type": "markdown",
      "metadata": {
        "id": "wlbWBoa-Ev8b",
        "colab_type": "text"
      },
      "source": [
        "### Casos combinando tipos \n",
        "\n",
        "Un caso particular es el de los faltantes o NA, puede darse que el conjunto de datos no tenga exactamente un NA, sino una palabra o algo que dañe la transformación para ellos podemos filtrar, cambiar y luego transformar los datos según lo que necesitemos:"
      ]
    },
    {
      "cell_type": "code",
      "metadata": {
        "id": "TtjtHaqUDc3u",
        "colab_type": "code",
        "colab": {
          "base_uri": "https://localhost:8080/",
          "height": 141
        },
        "outputId": "6f24d113-f207-4876-f6ab-f4ad4648974d"
      },
      "source": [
        "df <- tribble(\n",
        "  ~x,  ~y,\n",
        "  1, \"----\",\n",
        "  2, \"2015-01-16\",\n",
        "  3, \"2016-01-17\"\n",
        ")\n",
        "df"
      ],
      "execution_count": 75,
      "outputs": [
        {
          "output_type": "display_data",
          "data": {
            "text/plain": [
              "  x y         \n",
              "1 1 ----      \n",
              "2 2 2015-01-16\n",
              "3 3 2016-01-17"
            ],
            "text/latex": "A tibble: 3 × 2\n\\begin{tabular}{ll}\n x & y\\\\\n <dbl> & <chr>\\\\\n\\hline\n\t 1 & ----      \\\\\n\t 2 & 2015-01-16\\\\\n\t 3 & 2016-01-17\\\\\n\\end{tabular}\n",
            "text/markdown": "\nA tibble: 3 × 2\n\n| x &lt;dbl&gt; | y &lt;chr&gt; |\n|---|---|\n| 1 | ----       |\n| 2 | 2015-01-16 |\n| 3 | 2016-01-17 |\n\n",
            "text/html": [
              "<table>\n",
              "<caption>A tibble: 3 × 2</caption>\n",
              "<thead>\n",
              "\t<tr><th scope=col>x</th><th scope=col>y</th></tr>\n",
              "\t<tr><th scope=col>&lt;dbl&gt;</th><th scope=col>&lt;chr&gt;</th></tr>\n",
              "</thead>\n",
              "<tbody>\n",
              "\t<tr><td>1</td><td>----      </td></tr>\n",
              "\t<tr><td>2</td><td>2015-01-16</td></tr>\n",
              "\t<tr><td>3</td><td>2016-01-17</td></tr>\n",
              "</tbody>\n",
              "</table>\n"
            ]
          },
          "metadata": {
            "tags": []
          }
        }
      ]
    },
    {
      "cell_type": "code",
      "metadata": {
        "id": "M7lcxycKHCfO",
        "colab_type": "code",
        "colab": {
          "base_uri": "https://localhost:8080/",
          "height": 99
        },
        "outputId": "57bda6d6-e520-474b-d499-0669d98ec926"
      },
      "source": [
        "df %>% \n",
        "  filter(!str_detect(y, '2015|2016'))"
      ],
      "execution_count": 77,
      "outputs": [
        {
          "output_type": "display_data",
          "data": {
            "text/plain": [
              "  x y   \n",
              "1 1 ----"
            ],
            "text/latex": "A tibble: 1 × 2\n\\begin{tabular}{ll}\n x & y\\\\\n <dbl> & <chr>\\\\\n\\hline\n\t 1 & ----\\\\\n\\end{tabular}\n",
            "text/markdown": "\nA tibble: 1 × 2\n\n| x &lt;dbl&gt; | y &lt;chr&gt; |\n|---|---|\n| 1 | ---- |\n\n",
            "text/html": [
              "<table>\n",
              "<caption>A tibble: 1 × 2</caption>\n",
              "<thead>\n",
              "\t<tr><th scope=col>x</th><th scope=col>y</th></tr>\n",
              "\t<tr><th scope=col>&lt;dbl&gt;</th><th scope=col>&lt;chr&gt;</th></tr>\n",
              "</thead>\n",
              "<tbody>\n",
              "\t<tr><td>1</td><td>----</td></tr>\n",
              "</tbody>\n",
              "</table>\n"
            ]
          },
          "metadata": {
            "tags": []
          }
        }
      ]
    },
    {
      "cell_type": "code",
      "metadata": {
        "id": "Am1TPW6cFdF_",
        "colab_type": "code",
        "colab": {
          "base_uri": "https://localhost:8080/",
          "height": 141
        },
        "outputId": "bda8cdb5-7840-405a-830f-48d132174f57"
      },
      "source": [
        "df <- df %>% \n",
        "  mutate(y = replace(y, !str_detect(y, '2015|2016'), NA)) \n",
        "df"
      ],
      "execution_count": 78,
      "outputs": [
        {
          "output_type": "display_data",
          "data": {
            "text/plain": [
              "  x y         \n",
              "1 1 NA        \n",
              "2 2 2015-01-16\n",
              "3 3 2016-01-17"
            ],
            "text/latex": "A tibble: 3 × 2\n\\begin{tabular}{ll}\n x & y\\\\\n <dbl> & <chr>\\\\\n\\hline\n\t 1 & NA        \\\\\n\t 2 & 2015-01-16\\\\\n\t 3 & 2016-01-17\\\\\n\\end{tabular}\n",
            "text/markdown": "\nA tibble: 3 × 2\n\n| x &lt;dbl&gt; | y &lt;chr&gt; |\n|---|---|\n| 1 | NA         |\n| 2 | 2015-01-16 |\n| 3 | 2016-01-17 |\n\n",
            "text/html": [
              "<table>\n",
              "<caption>A tibble: 3 × 2</caption>\n",
              "<thead>\n",
              "\t<tr><th scope=col>x</th><th scope=col>y</th></tr>\n",
              "\t<tr><th scope=col>&lt;dbl&gt;</th><th scope=col>&lt;chr&gt;</th></tr>\n",
              "</thead>\n",
              "<tbody>\n",
              "\t<tr><td>1</td><td>NA        </td></tr>\n",
              "\t<tr><td>2</td><td>2015-01-16</td></tr>\n",
              "\t<tr><td>3</td><td>2016-01-17</td></tr>\n",
              "</tbody>\n",
              "</table>\n"
            ]
          },
          "metadata": {
            "tags": []
          }
        }
      ]
    },
    {
      "cell_type": "code",
      "metadata": {
        "id": "L703ME5sE79u",
        "colab_type": "code",
        "colab": {
          "base_uri": "https://localhost:8080/",
          "height": 141
        },
        "outputId": "35294021-2cba-48d8-85a3-9df3be0583af"
      },
      "source": [
        "df <- df %>%\n",
        "        mutate(y = as.Date(y, \"%Y-%m-%d\"))\n",
        "df"
      ],
      "execution_count": 79,
      "outputs": [
        {
          "output_type": "display_data",
          "data": {
            "text/plain": [
              "  x y         \n",
              "1 1 <NA>      \n",
              "2 2 2015-01-16\n",
              "3 3 2016-01-17"
            ],
            "text/latex": "A tibble: 3 × 2\n\\begin{tabular}{ll}\n x & y\\\\\n <dbl> & <date>\\\\\n\\hline\n\t 1 & NA\\\\\n\t 2 & 2015-01-16\\\\\n\t 3 & 2016-01-17\\\\\n\\end{tabular}\n",
            "text/markdown": "\nA tibble: 3 × 2\n\n| x &lt;dbl&gt; | y &lt;date&gt; |\n|---|---|\n| 1 | NA |\n| 2 | 2015-01-16 |\n| 3 | 2016-01-17 |\n\n",
            "text/html": [
              "<table>\n",
              "<caption>A tibble: 3 × 2</caption>\n",
              "<thead>\n",
              "\t<tr><th scope=col>x</th><th scope=col>y</th></tr>\n",
              "\t<tr><th scope=col>&lt;dbl&gt;</th><th scope=col>&lt;date&gt;</th></tr>\n",
              "</thead>\n",
              "<tbody>\n",
              "\t<tr><td>1</td><td>NA</td></tr>\n",
              "\t<tr><td>2</td><td>2015-01-16</td></tr>\n",
              "\t<tr><td>3</td><td>2016-01-17</td></tr>\n",
              "</tbody>\n",
              "</table>\n"
            ]
          },
          "metadata": {
            "tags": []
          }
        }
      ]
    },
    {
      "cell_type": "markdown",
      "metadata": {
        "id": "0GQJjRnbJS5P",
        "colab_type": "text"
      },
      "source": [
        "## Escribir un archivo \n",
        "\n",
        "La función `write_csv()` codifica cadenas en UTF-8. Guardar fechas y horas en formato ISO8601 para que puedan analizarse fácilmente en otro lugar.\n",
        "\n",
        "Si desea exportar un archivo csv a Excel, se puede usar `write_excel_csv()`,esto escribe un carácter especial (una \"marca de orden de bytes\") al comienzo del archivo que le indica a Excel que está utilizando la codificación UTF-8.\n",
        "\n",
        "Los argumentos más importantes son el marco de datos para guardar y el path(la ubicación para guardarlo). También puede especificar cómo se escriben los valores faltantes nay si desea hacerlo appenden un archivo existente.\n",
        "\n",
        "```r\n",
        "write_csv(challenge, \"challenge.csv\")\n",
        "```\n",
        "\n",
        "Sin embargo si deseamos que el csv conserve el tipo de datos podemos usar la funciones:\n",
        "\n",
        "```r\n",
        "write_rds(challenge, \"challenge.rds\")\n",
        "read_rds(\"challenge.rds\")\n",
        "```\n",
        "\n",
        "También hay opciones de esritura y lectura más rápidos:\n",
        "```r\n",
        "library(feather)\n",
        "write_feather(challenge, \"challenge.feather\")\n",
        "read_feather(\"challenge.feather\")\n",
        "```\n"
      ]
    },
    {
      "cell_type": "code",
      "metadata": {
        "id": "Ll33rVkDFXAX",
        "colab_type": "code",
        "colab": {
          "base_uri": "https://localhost:8080/",
          "height": 1000
        },
        "outputId": "8784c5c7-8c75-46cf-e329-f10ed5ac0561"
      },
      "source": [
        "write_rds(challenge, \"challenge.rds\")\n",
        "read_rds(\"challenge.rds\")"
      ],
      "execution_count": null,
      "outputs": [
        {
          "output_type": "display_data",
          "data": {
            "text/plain": [
              "     x          y         \n",
              "1     404       <NA>      \n",
              "2    4172       <NA>      \n",
              "3    3004       <NA>      \n",
              "4     787       <NA>      \n",
              "5      37       <NA>      \n",
              "6    2332       <NA>      \n",
              "7    2489       <NA>      \n",
              "8    1449       <NA>      \n",
              "9    3665       <NA>      \n",
              "10   3863       <NA>      \n",
              "11   4374       <NA>      \n",
              "12    875       <NA>      \n",
              "13    172       <NA>      \n",
              "14   1602       <NA>      \n",
              "15   2012       <NA>      \n",
              "16    979       <NA>      \n",
              "17   2018       <NA>      \n",
              "18    319       <NA>      \n",
              "19   1944       <NA>      \n",
              "20   4878       <NA>      \n",
              "21   1450       <NA>      \n",
              "22   3392       <NA>      \n",
              "23   3677       <NA>      \n",
              "24    980       <NA>      \n",
              "25   4903       <NA>      \n",
              "26   3708       <NA>      \n",
              "27    258       <NA>      \n",
              "28   2652       <NA>      \n",
              "29   3480       <NA>      \n",
              "30   3443       <NA>      \n",
              "⋮    ⋮          ⋮         \n",
              "1971 0.14324546 2020-06-10\n",
              "1972 0.42678032 2013-11-08\n",
              "1973 0.56445359 2017-07-12\n",
              "1974 0.18729942 2016-08-12\n",
              "1975 0.60274952 2022-05-12\n",
              "1976 0.73487829 2020-08-11\n",
              "1977 0.06834881 2011-10-26\n",
              "1978 0.78291796 2015-12-09\n",
              "1979 0.92149271 2012-09-27\n",
              "1980 0.04428217 2013-02-04\n",
              "1981 0.71311485 2010-11-29\n",
              "1982 0.90388602 2013-10-16\n",
              "1983 0.73958150 2015-04-26\n",
              "1984 0.17217563 2011-04-12\n",
              "1985 0.18658998 2017-01-30\n",
              "1986 0.38248836 2014-06-08\n",
              "1987 0.45361328 2016-10-19\n",
              "1988 0.45513148 2023-09-01\n",
              "1989 0.17310278 2010-01-09\n",
              "1990 0.30541726 2020-01-11\n",
              "1991 0.86775210 2016-12-16\n",
              "1992 0.26023225 2010-01-03\n",
              "1993 0.68087076 2016-04-23\n",
              "1994 0.85357656 2016-08-10\n",
              "1995 0.80527431 2019-11-21\n",
              "1996 0.16351634 2018-03-29\n",
              "1997 0.47193898 2014-08-04\n",
              "1998 0.71831865 2015-08-16\n",
              "1999 0.26987859 2020-02-04\n",
              "2000 0.60823719 2019-01-06"
            ],
            "text/latex": "A spec\\_tbl\\_df: 2000 × 2\n\\begin{tabular}{ll}\n x & y\\\\\n <dbl> & <date>\\\\\n\\hline\n\t  404 & NA\\\\\n\t 4172 & NA\\\\\n\t 3004 & NA\\\\\n\t  787 & NA\\\\\n\t   37 & NA\\\\\n\t 2332 & NA\\\\\n\t 2489 & NA\\\\\n\t 1449 & NA\\\\\n\t 3665 & NA\\\\\n\t 3863 & NA\\\\\n\t 4374 & NA\\\\\n\t  875 & NA\\\\\n\t  172 & NA\\\\\n\t 1602 & NA\\\\\n\t 2012 & NA\\\\\n\t  979 & NA\\\\\n\t 2018 & NA\\\\\n\t  319 & NA\\\\\n\t 1944 & NA\\\\\n\t 4878 & NA\\\\\n\t 1450 & NA\\\\\n\t 3392 & NA\\\\\n\t 3677 & NA\\\\\n\t  980 & NA\\\\\n\t 4903 & NA\\\\\n\t 3708 & NA\\\\\n\t  258 & NA\\\\\n\t 2652 & NA\\\\\n\t 3480 & NA\\\\\n\t 3443 & NA\\\\\n\t ⋮ & ⋮\\\\\n\t 0.14324546 & 2020-06-10\\\\\n\t 0.42678032 & 2013-11-08\\\\\n\t 0.56445359 & 2017-07-12\\\\\n\t 0.18729942 & 2016-08-12\\\\\n\t 0.60274952 & 2022-05-12\\\\\n\t 0.73487829 & 2020-08-11\\\\\n\t 0.06834881 & 2011-10-26\\\\\n\t 0.78291796 & 2015-12-09\\\\\n\t 0.92149271 & 2012-09-27\\\\\n\t 0.04428217 & 2013-02-04\\\\\n\t 0.71311485 & 2010-11-29\\\\\n\t 0.90388602 & 2013-10-16\\\\\n\t 0.73958150 & 2015-04-26\\\\\n\t 0.17217563 & 2011-04-12\\\\\n\t 0.18658998 & 2017-01-30\\\\\n\t 0.38248836 & 2014-06-08\\\\\n\t 0.45361328 & 2016-10-19\\\\\n\t 0.45513148 & 2023-09-01\\\\\n\t 0.17310278 & 2010-01-09\\\\\n\t 0.30541726 & 2020-01-11\\\\\n\t 0.86775210 & 2016-12-16\\\\\n\t 0.26023225 & 2010-01-03\\\\\n\t 0.68087076 & 2016-04-23\\\\\n\t 0.85357656 & 2016-08-10\\\\\n\t 0.80527431 & 2019-11-21\\\\\n\t 0.16351634 & 2018-03-29\\\\\n\t 0.47193898 & 2014-08-04\\\\\n\t 0.71831865 & 2015-08-16\\\\\n\t 0.26987859 & 2020-02-04\\\\\n\t 0.60823719 & 2019-01-06\\\\\n\\end{tabular}\n",
            "text/markdown": "\nA spec_tbl_df: 2000 × 2\n\n| x &lt;dbl&gt; | y &lt;date&gt; |\n|---|---|\n|  404 | NA |\n| 4172 | NA |\n| 3004 | NA |\n|  787 | NA |\n|   37 | NA |\n| 2332 | NA |\n| 2489 | NA |\n| 1449 | NA |\n| 3665 | NA |\n| 3863 | NA |\n| 4374 | NA |\n|  875 | NA |\n|  172 | NA |\n| 1602 | NA |\n| 2012 | NA |\n|  979 | NA |\n| 2018 | NA |\n|  319 | NA |\n| 1944 | NA |\n| 4878 | NA |\n| 1450 | NA |\n| 3392 | NA |\n| 3677 | NA |\n|  980 | NA |\n| 4903 | NA |\n| 3708 | NA |\n|  258 | NA |\n| 2652 | NA |\n| 3480 | NA |\n| 3443 | NA |\n| ⋮ | ⋮ |\n| 0.14324546 | 2020-06-10 |\n| 0.42678032 | 2013-11-08 |\n| 0.56445359 | 2017-07-12 |\n| 0.18729942 | 2016-08-12 |\n| 0.60274952 | 2022-05-12 |\n| 0.73487829 | 2020-08-11 |\n| 0.06834881 | 2011-10-26 |\n| 0.78291796 | 2015-12-09 |\n| 0.92149271 | 2012-09-27 |\n| 0.04428217 | 2013-02-04 |\n| 0.71311485 | 2010-11-29 |\n| 0.90388602 | 2013-10-16 |\n| 0.73958150 | 2015-04-26 |\n| 0.17217563 | 2011-04-12 |\n| 0.18658998 | 2017-01-30 |\n| 0.38248836 | 2014-06-08 |\n| 0.45361328 | 2016-10-19 |\n| 0.45513148 | 2023-09-01 |\n| 0.17310278 | 2010-01-09 |\n| 0.30541726 | 2020-01-11 |\n| 0.86775210 | 2016-12-16 |\n| 0.26023225 | 2010-01-03 |\n| 0.68087076 | 2016-04-23 |\n| 0.85357656 | 2016-08-10 |\n| 0.80527431 | 2019-11-21 |\n| 0.16351634 | 2018-03-29 |\n| 0.47193898 | 2014-08-04 |\n| 0.71831865 | 2015-08-16 |\n| 0.26987859 | 2020-02-04 |\n| 0.60823719 | 2019-01-06 |\n\n",
            "text/html": [
              "<table>\n",
              "<caption>A spec_tbl_df: 2000 × 2</caption>\n",
              "<thead>\n",
              "\t<tr><th scope=col>x</th><th scope=col>y</th></tr>\n",
              "\t<tr><th scope=col>&lt;dbl&gt;</th><th scope=col>&lt;date&gt;</th></tr>\n",
              "</thead>\n",
              "<tbody>\n",
              "\t<tr><td> 404</td><td>NA</td></tr>\n",
              "\t<tr><td>4172</td><td>NA</td></tr>\n",
              "\t<tr><td>3004</td><td>NA</td></tr>\n",
              "\t<tr><td> 787</td><td>NA</td></tr>\n",
              "\t<tr><td>  37</td><td>NA</td></tr>\n",
              "\t<tr><td>2332</td><td>NA</td></tr>\n",
              "\t<tr><td>2489</td><td>NA</td></tr>\n",
              "\t<tr><td>1449</td><td>NA</td></tr>\n",
              "\t<tr><td>3665</td><td>NA</td></tr>\n",
              "\t<tr><td>3863</td><td>NA</td></tr>\n",
              "\t<tr><td>4374</td><td>NA</td></tr>\n",
              "\t<tr><td> 875</td><td>NA</td></tr>\n",
              "\t<tr><td> 172</td><td>NA</td></tr>\n",
              "\t<tr><td>1602</td><td>NA</td></tr>\n",
              "\t<tr><td>2012</td><td>NA</td></tr>\n",
              "\t<tr><td> 979</td><td>NA</td></tr>\n",
              "\t<tr><td>2018</td><td>NA</td></tr>\n",
              "\t<tr><td> 319</td><td>NA</td></tr>\n",
              "\t<tr><td>1944</td><td>NA</td></tr>\n",
              "\t<tr><td>4878</td><td>NA</td></tr>\n",
              "\t<tr><td>1450</td><td>NA</td></tr>\n",
              "\t<tr><td>3392</td><td>NA</td></tr>\n",
              "\t<tr><td>3677</td><td>NA</td></tr>\n",
              "\t<tr><td> 980</td><td>NA</td></tr>\n",
              "\t<tr><td>4903</td><td>NA</td></tr>\n",
              "\t<tr><td>3708</td><td>NA</td></tr>\n",
              "\t<tr><td> 258</td><td>NA</td></tr>\n",
              "\t<tr><td>2652</td><td>NA</td></tr>\n",
              "\t<tr><td>3480</td><td>NA</td></tr>\n",
              "\t<tr><td>3443</td><td>NA</td></tr>\n",
              "\t<tr><td>⋮</td><td>⋮</td></tr>\n",
              "\t<tr><td>0.14324546</td><td>2020-06-10</td></tr>\n",
              "\t<tr><td>0.42678032</td><td>2013-11-08</td></tr>\n",
              "\t<tr><td>0.56445359</td><td>2017-07-12</td></tr>\n",
              "\t<tr><td>0.18729942</td><td>2016-08-12</td></tr>\n",
              "\t<tr><td>0.60274952</td><td>2022-05-12</td></tr>\n",
              "\t<tr><td>0.73487829</td><td>2020-08-11</td></tr>\n",
              "\t<tr><td>0.06834881</td><td>2011-10-26</td></tr>\n",
              "\t<tr><td>0.78291796</td><td>2015-12-09</td></tr>\n",
              "\t<tr><td>0.92149271</td><td>2012-09-27</td></tr>\n",
              "\t<tr><td>0.04428217</td><td>2013-02-04</td></tr>\n",
              "\t<tr><td>0.71311485</td><td>2010-11-29</td></tr>\n",
              "\t<tr><td>0.90388602</td><td>2013-10-16</td></tr>\n",
              "\t<tr><td>0.73958150</td><td>2015-04-26</td></tr>\n",
              "\t<tr><td>0.17217563</td><td>2011-04-12</td></tr>\n",
              "\t<tr><td>0.18658998</td><td>2017-01-30</td></tr>\n",
              "\t<tr><td>0.38248836</td><td>2014-06-08</td></tr>\n",
              "\t<tr><td>0.45361328</td><td>2016-10-19</td></tr>\n",
              "\t<tr><td>0.45513148</td><td>2023-09-01</td></tr>\n",
              "\t<tr><td>0.17310278</td><td>2010-01-09</td></tr>\n",
              "\t<tr><td>0.30541726</td><td>2020-01-11</td></tr>\n",
              "\t<tr><td>0.86775210</td><td>2016-12-16</td></tr>\n",
              "\t<tr><td>0.26023225</td><td>2010-01-03</td></tr>\n",
              "\t<tr><td>0.68087076</td><td>2016-04-23</td></tr>\n",
              "\t<tr><td>0.85357656</td><td>2016-08-10</td></tr>\n",
              "\t<tr><td>0.80527431</td><td>2019-11-21</td></tr>\n",
              "\t<tr><td>0.16351634</td><td>2018-03-29</td></tr>\n",
              "\t<tr><td>0.47193898</td><td>2014-08-04</td></tr>\n",
              "\t<tr><td>0.71831865</td><td>2015-08-16</td></tr>\n",
              "\t<tr><td>0.26987859</td><td>2020-02-04</td></tr>\n",
              "\t<tr><td>0.60823719</td><td>2019-01-06</td></tr>\n",
              "</tbody>\n",
              "</table>\n"
            ]
          },
          "metadata": {
            "tags": []
          }
        }
      ]
    },
    {
      "cell_type": "markdown",
      "metadata": {
        "id": "Z2KYcCm-o-TE",
        "colab_type": "text"
      },
      "source": [
        ""
      ]
    },
    {
      "cell_type": "markdown",
      "metadata": {
        "id": "segGrByoNb9b",
        "colab_type": "text"
      },
      "source": [
        "#Ejercicio de lectura\n",
        "\n",
        "Usemos nuestro datos de Covid19 los cuales se leen por default como `chr` y hagamos un proceso de asignación correcta de tipos para las fechas. En este caso procese caulquier cosa por fuera del formato fecha como **NA**, organice las fechas en un tibble aparte, busque las opciones usando un `for` y usando `mutate_at`. "
      ]
    },
    {
      "cell_type": "code",
      "metadata": {
        "id": "ky0g524lMqjV",
        "colab_type": "code",
        "colab": {
          "base_uri": "https://localhost:8080/",
          "height": 70
        },
        "outputId": "b66fbd3c-f739-4ba8-8a7e-aba1be996ee3"
      },
      "source": [
        "install.packages(\"RSocrata\")\n",
        "library(RSocrata)"
      ],
      "execution_count": null,
      "outputs": [
        {
          "output_type": "stream",
          "text": [
            "Installing package into ‘/usr/local/lib/R/site-library’\n",
            "(as ‘lib’ is unspecified)\n",
            "\n"
          ],
          "name": "stderr"
        }
      ]
    },
    {
      "cell_type": "code",
      "metadata": {
        "id": "mjWC-TjuNzGj",
        "colab_type": "code",
        "colab": {}
      },
      "source": [
        "dominio <- \"www.datos.gov.co\"\n",
        "#Este token (o llave, clave) será removido en los siguientes días, sin embargo\n",
        "#usted puede obtener uno fácilmente o de plano no usarlo y poner None\n",
        "#para más información https://dev.socrata.com/docs/app-tokens.html\n",
        "token <- \"99wufepiZdd52go4LdzeENbG4\"\n",
        "dataset_id <- \"gt2j-8ykr\"\n",
        "source_data <- paste(\"http://\",dominio,\"/resource/\",dataset_id,\".csv\",sep=\"\")\n",
        "data <- read.socrata(source_data, app_token = token)\n",
        "data_dev <- as_tibble(data)\n",
        "data_dev <- select(data_dev,-('fecha_reporte_web':'codigo_pais'))"
      ],
      "execution_count": null,
      "outputs": []
    },
    {
      "cell_type": "code",
      "metadata": {
        "id": "x41ONQLQTBOj",
        "colab_type": "code",
        "colab": {}
      },
      "source": [
        "cols <- c('ID', 'FECHA_NOTIFICADO','DIVIPOLA',\n",
        "        'CIUDAD', 'DEPARTAMENTO', 'LUGAR_PROCESO', 'EDAD',\n",
        "        'SEXO', 'TIPO_FUENTE', 'ESTADO', 'PROCEDENCIA', 'FECHA_SINTOMAS',\n",
        "        'FECHA_DECESO', 'FECHA_DIAGNOSTICO', 'FECHA_RECUPERADO')\n",
        "cols_rename = colnames(data_dev)\n",
        "names(cols_rename) = cols\n",
        "data_dev <- data_dev %>% rename(all_of(cols_rename))"
      ],
      "execution_count": null,
      "outputs": []
    },
    {
      "cell_type": "code",
      "metadata": {
        "id": "EqFcY01lPl6I",
        "colab_type": "code",
        "colab": {
          "base_uri": "https://localhost:8080/",
          "height": 316
        },
        "outputId": "dbb78246-234f-4f51-eb64-d6675900f3ab"
      },
      "source": [
        "head(data_dev)"
      ],
      "execution_count": null,
      "outputs": [
        {
          "output_type": "display_data",
          "data": {
            "text/plain": [
              "  ID FECHA_NOTIFICADO        DIVIPOLA CIUDAD              DEPARTAMENTO   \n",
              "1 1  2020-03-02T00:00:00.000 11001    Bogotá D.C.         Bogotá D.C.    \n",
              "2 2  2020-03-06T00:00:00.000 76111    Guadalajara de Buga Valle del Cauca\n",
              "3 3  2020-03-07T00:00:00.000  5001    Medellín            Antioquia      \n",
              "4 4  2020-03-09T00:00:00.000  5001    Medellín            Antioquia      \n",
              "5 5  2020-03-09T00:00:00.000  5001    Medellín            Antioquia      \n",
              "6 6  2020-03-10T00:00:00.000  5360    Itagüí              Antioquia      \n",
              "  LUGAR_PROCESO EDAD SEXO TIPO_FUENTE ESTADO PROCEDENCIA\n",
              "1 Recuperado    19   F    Importado   Leve   ITALIA     \n",
              "2 Recuperado    34   M    Importado   Leve   ESPAÑA     \n",
              "3 Recuperado    50   F    Importado   Leve   ESPAÑA     \n",
              "4 Recuperado    55   M    Relacionado Leve              \n",
              "5 Recuperado    25   M    Relacionado Leve              \n",
              "6 Recuperado    27   F    Relacionado Leve              \n",
              "  FECHA_SINTOMAS          FECHA_DECESO FECHA_DIAGNOSTICO      \n",
              "1 2020-02-27T00:00:00.000              2020-03-06T00:00:00.000\n",
              "2 2020-03-04T00:00:00.000              2020-03-09T00:00:00.000\n",
              "3 2020-02-29T00:00:00.000              2020-03-09T00:00:00.000\n",
              "4 2020-03-06T00:00:00.000              2020-03-11T00:00:00.000\n",
              "5 2020-03-08T00:00:00.000              2020-03-11T00:00:00.000\n",
              "6 2020-03-06T00:00:00.000              2020-03-11T00:00:00.000\n",
              "  FECHA_RECUPERADO       \n",
              "1 2020-03-13T00:00:00.000\n",
              "2 2020-03-19T00:00:00.000\n",
              "3 2020-03-15T00:00:00.000\n",
              "4 2020-03-26T00:00:00.000\n",
              "5 2020-03-23T00:00:00.000\n",
              "6 2020-03-26T00:00:00.000"
            ],
            "text/latex": "A tibble: 6 × 15\n\\begin{tabular}{lllllllllllllll}\n ID & FECHA\\_NOTIFICADO & DIVIPOLA & CIUDAD & DEPARTAMENTO & LUGAR\\_PROCESO & EDAD & SEXO & TIPO\\_FUENTE & ESTADO & PROCEDENCIA & FECHA\\_SINTOMAS & FECHA\\_DECESO & FECHA\\_DIAGNOSTICO & FECHA\\_RECUPERADO\\\\\n <int> & <chr> & <int> & <chr> & <chr> & <chr> & <int> & <chr> & <chr> & <chr> & <chr> & <chr> & <chr> & <chr> & <chr>\\\\\n\\hline\n\t 1 & 2020-03-02T00:00:00.000 & 11001 & Bogotá D.C.         & Bogotá D.C.     & Recuperado & 19 & F & Importado   & Leve & ITALIA & 2020-02-27T00:00:00.000 &  & 2020-03-06T00:00:00.000 & 2020-03-13T00:00:00.000\\\\\n\t 2 & 2020-03-06T00:00:00.000 & 76111 & Guadalajara de Buga & Valle del Cauca & Recuperado & 34 & M & Importado   & Leve & ESPAÑA & 2020-03-04T00:00:00.000 &  & 2020-03-09T00:00:00.000 & 2020-03-19T00:00:00.000\\\\\n\t 3 & 2020-03-07T00:00:00.000 &  5001 & Medellín            & Antioquia       & Recuperado & 50 & F & Importado   & Leve & ESPAÑA & 2020-02-29T00:00:00.000 &  & 2020-03-09T00:00:00.000 & 2020-03-15T00:00:00.000\\\\\n\t 4 & 2020-03-09T00:00:00.000 &  5001 & Medellín            & Antioquia       & Recuperado & 55 & M & Relacionado & Leve &        & 2020-03-06T00:00:00.000 &  & 2020-03-11T00:00:00.000 & 2020-03-26T00:00:00.000\\\\\n\t 5 & 2020-03-09T00:00:00.000 &  5001 & Medellín            & Antioquia       & Recuperado & 25 & M & Relacionado & Leve &        & 2020-03-08T00:00:00.000 &  & 2020-03-11T00:00:00.000 & 2020-03-23T00:00:00.000\\\\\n\t 6 & 2020-03-10T00:00:00.000 &  5360 & Itagüí              & Antioquia       & Recuperado & 27 & F & Relacionado & Leve &        & 2020-03-06T00:00:00.000 &  & 2020-03-11T00:00:00.000 & 2020-03-26T00:00:00.000\\\\\n\\end{tabular}\n",
            "text/markdown": "\nA tibble: 6 × 15\n\n| ID &lt;int&gt; | FECHA_NOTIFICADO &lt;chr&gt; | DIVIPOLA &lt;int&gt; | CIUDAD &lt;chr&gt; | DEPARTAMENTO &lt;chr&gt; | LUGAR_PROCESO &lt;chr&gt; | EDAD &lt;int&gt; | SEXO &lt;chr&gt; | TIPO_FUENTE &lt;chr&gt; | ESTADO &lt;chr&gt; | PROCEDENCIA &lt;chr&gt; | FECHA_SINTOMAS &lt;chr&gt; | FECHA_DECESO &lt;chr&gt; | FECHA_DIAGNOSTICO &lt;chr&gt; | FECHA_RECUPERADO &lt;chr&gt; |\n|---|---|---|---|---|---|---|---|---|---|---|---|---|---|---|\n| 1 | 2020-03-02T00:00:00.000 | 11001 | Bogotá D.C.         | Bogotá D.C.     | Recuperado | 19 | F | Importado   | Leve | ITALIA | 2020-02-27T00:00:00.000 | <!----> | 2020-03-06T00:00:00.000 | 2020-03-13T00:00:00.000 |\n| 2 | 2020-03-06T00:00:00.000 | 76111 | Guadalajara de Buga | Valle del Cauca | Recuperado | 34 | M | Importado   | Leve | ESPAÑA | 2020-03-04T00:00:00.000 | <!----> | 2020-03-09T00:00:00.000 | 2020-03-19T00:00:00.000 |\n| 3 | 2020-03-07T00:00:00.000 |  5001 | Medellín            | Antioquia       | Recuperado | 50 | F | Importado   | Leve | ESPAÑA | 2020-02-29T00:00:00.000 | <!----> | 2020-03-09T00:00:00.000 | 2020-03-15T00:00:00.000 |\n| 4 | 2020-03-09T00:00:00.000 |  5001 | Medellín            | Antioquia       | Recuperado | 55 | M | Relacionado | Leve | <!----> | 2020-03-06T00:00:00.000 | <!----> | 2020-03-11T00:00:00.000 | 2020-03-26T00:00:00.000 |\n| 5 | 2020-03-09T00:00:00.000 |  5001 | Medellín            | Antioquia       | Recuperado | 25 | M | Relacionado | Leve | <!----> | 2020-03-08T00:00:00.000 | <!----> | 2020-03-11T00:00:00.000 | 2020-03-23T00:00:00.000 |\n| 6 | 2020-03-10T00:00:00.000 |  5360 | Itagüí              | Antioquia       | Recuperado | 27 | F | Relacionado | Leve | <!----> | 2020-03-06T00:00:00.000 | <!----> | 2020-03-11T00:00:00.000 | 2020-03-26T00:00:00.000 |\n\n",
            "text/html": [
              "<table>\n",
              "<caption>A tibble: 6 × 15</caption>\n",
              "<thead>\n",
              "\t<tr><th scope=col>ID</th><th scope=col>FECHA_NOTIFICADO</th><th scope=col>DIVIPOLA</th><th scope=col>CIUDAD</th><th scope=col>DEPARTAMENTO</th><th scope=col>LUGAR_PROCESO</th><th scope=col>EDAD</th><th scope=col>SEXO</th><th scope=col>TIPO_FUENTE</th><th scope=col>ESTADO</th><th scope=col>PROCEDENCIA</th><th scope=col>FECHA_SINTOMAS</th><th scope=col>FECHA_DECESO</th><th scope=col>FECHA_DIAGNOSTICO</th><th scope=col>FECHA_RECUPERADO</th></tr>\n",
              "\t<tr><th scope=col>&lt;int&gt;</th><th scope=col>&lt;chr&gt;</th><th scope=col>&lt;int&gt;</th><th scope=col>&lt;chr&gt;</th><th scope=col>&lt;chr&gt;</th><th scope=col>&lt;chr&gt;</th><th scope=col>&lt;int&gt;</th><th scope=col>&lt;chr&gt;</th><th scope=col>&lt;chr&gt;</th><th scope=col>&lt;chr&gt;</th><th scope=col>&lt;chr&gt;</th><th scope=col>&lt;chr&gt;</th><th scope=col>&lt;chr&gt;</th><th scope=col>&lt;chr&gt;</th><th scope=col>&lt;chr&gt;</th></tr>\n",
              "</thead>\n",
              "<tbody>\n",
              "\t<tr><td>1</td><td>2020-03-02T00:00:00.000</td><td>11001</td><td>Bogotá D.C.        </td><td>Bogotá D.C.    </td><td>Recuperado</td><td>19</td><td>F</td><td>Importado  </td><td>Leve</td><td>ITALIA</td><td>2020-02-27T00:00:00.000</td><td></td><td>2020-03-06T00:00:00.000</td><td>2020-03-13T00:00:00.000</td></tr>\n",
              "\t<tr><td>2</td><td>2020-03-06T00:00:00.000</td><td>76111</td><td>Guadalajara de Buga</td><td>Valle del Cauca</td><td>Recuperado</td><td>34</td><td>M</td><td>Importado  </td><td>Leve</td><td>ESPAÑA</td><td>2020-03-04T00:00:00.000</td><td></td><td>2020-03-09T00:00:00.000</td><td>2020-03-19T00:00:00.000</td></tr>\n",
              "\t<tr><td>3</td><td>2020-03-07T00:00:00.000</td><td> 5001</td><td>Medellín           </td><td>Antioquia      </td><td>Recuperado</td><td>50</td><td>F</td><td>Importado  </td><td>Leve</td><td>ESPAÑA</td><td>2020-02-29T00:00:00.000</td><td></td><td>2020-03-09T00:00:00.000</td><td>2020-03-15T00:00:00.000</td></tr>\n",
              "\t<tr><td>4</td><td>2020-03-09T00:00:00.000</td><td> 5001</td><td>Medellín           </td><td>Antioquia      </td><td>Recuperado</td><td>55</td><td>M</td><td>Relacionado</td><td>Leve</td><td>      </td><td>2020-03-06T00:00:00.000</td><td></td><td>2020-03-11T00:00:00.000</td><td>2020-03-26T00:00:00.000</td></tr>\n",
              "\t<tr><td>5</td><td>2020-03-09T00:00:00.000</td><td> 5001</td><td>Medellín           </td><td>Antioquia      </td><td>Recuperado</td><td>25</td><td>M</td><td>Relacionado</td><td>Leve</td><td>      </td><td>2020-03-08T00:00:00.000</td><td></td><td>2020-03-11T00:00:00.000</td><td>2020-03-23T00:00:00.000</td></tr>\n",
              "\t<tr><td>6</td><td>2020-03-10T00:00:00.000</td><td> 5360</td><td>Itagüí             </td><td>Antioquia      </td><td>Recuperado</td><td>27</td><td>F</td><td>Relacionado</td><td>Leve</td><td>      </td><td>2020-03-06T00:00:00.000</td><td></td><td>2020-03-11T00:00:00.000</td><td>2020-03-26T00:00:00.000</td></tr>\n",
              "</tbody>\n",
              "</table>\n"
            ]
          },
          "metadata": {
            "tags": []
          }
        }
      ]
    },
    {
      "cell_type": "code",
      "metadata": {
        "id": "kmkvV069QfqI",
        "colab_type": "code",
        "cellView": "form",
        "colab": {}
      },
      "source": [
        "#@title Vea la solución **aquí**\n",
        "if (F){\n",
        "  datecols <- data_dev %>% \n",
        "              select(starts_with(\"FECHA\")) \n",
        "  #Con esta instrucción se podría identificar a mano las col problema\n",
        "  #try(info <- type_convert(datecols))\n",
        "  #Opción con for\n",
        "  for (col in colnames(datecols)){\n",
        "    datecols <- datecols %>% \n",
        "      mutate(\n",
        "        !!as.character(col) := replace(!!as.symbol(col), !str_detect(!!as.symbol(col), '2020'), NA)) %>%\n",
        "      mutate(\n",
        "        !!as.character(col) := as.Date(!!as.symbol(col), \"%Y-%m-%d\"))\n",
        "  }\n",
        "  #Opción con mutate_at\n",
        "  datecols %>% \n",
        "    mutate_at(colnames(datecols), ~case_when(grepl(\"2020\", .) ~ . )) %>%\n",
        "    mutate_at(colnames(datecols), as.Date)\n",
        "}"
      ],
      "execution_count": null,
      "outputs": []
    }
  ]
}