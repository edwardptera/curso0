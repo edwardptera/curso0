{
  "nbformat": 4,
  "nbformat_minor": 0,
  "metadata": {
    "colab": {
      "name": "S12_C0.ipynb",
      "provenance": [],
      "collapsed_sections": []
    },
    "kernelspec": {
      "name": "ir",
      "display_name": "R"
    }
  },
  "cells": [
    {
      "cell_type": "markdown",
      "metadata": {
        "id": "6EsK8eCiFozP",
        "colab_type": "text"
      },
      "source": [
        "<p><img alt=\"Colaboratory logo\" height=\"140px\" src=\"https://upload.wikimedia.org/wikipedia/commons/archive/f/fb/20161010213812%21Escudo-UdeA.svg\" align=\"left\" hspace=\"10px\" vspace=\"0px\"></p>\n",
        "\n",
        "# **Curso de bases para AI - Universidad de Antioquia**\n",
        "\n",
        "\n",
        "El presente curso hace parte del centro de Big Data de la facultad de ciencias exactas y naturales (FCEN) de la Universidad de Antioquia.\n",
        "\n",
        "\\\n",
        "\n",
        "El curso será dictado en 16 sesiones o clases de 4 horas los días sábado en las instalaciones de la universidad. Para un total de dededicación temporal de 64 horas. El curso cuenta con los siguientes módulos:\n",
        "\n",
        "1. Bases matemáticas y de programación. (10H)\n",
        "2. Bases de Python. (19H)\n",
        "3. Bases de R. (13H)\n",
        "4. Procesamiento de datos. (22H)"
      ]
    },
    {
      "cell_type": "markdown",
      "metadata": {
        "id": "hXT-5qviOK-w",
        "colab_type": "text"
      },
      "source": [
        "#**dplyr**\n",
        "\n",
        "La visualización es una herramienta importante para la generación de información, pero es raro que obtenga los datos exactamente en la forma correcta que necesita. A menudo necesitará crear algunas variables o resúmenes nuevos, o tal vez solo desee cambiar el nombre de las variables o reordenar las observaciones para que los datos sean un poco más fáciles de trabajar. La idea principal en esta sección es aprender cómo transformar sus datos utilizando el paquete **dplyr** y un nuevo conjunto de datos en vuelos que salen de la ciudad de Nueva York en 2013."
      ]
    },
    {
      "cell_type": "code",
      "metadata": {
        "id": "FyBBUNgQPVzp",
        "colab_type": "code",
        "colab": {
          "base_uri": "https://localhost:8080/",
          "height": 68
        },
        "outputId": "29d0aeab-d1ed-4336-ce9c-9b9521f6d188"
      },
      "source": [
        "install.packages(\"nycflights13\")"
      ],
      "execution_count": 1,
      "outputs": [
        {
          "output_type": "stream",
          "text": [
            "Installing package into ‘/usr/local/lib/R/site-library’\n",
            "(as ‘lib’ is unspecified)\n",
            "\n"
          ],
          "name": "stderr"
        }
      ]
    },
    {
      "cell_type": "markdown",
      "metadata": {
        "id": "49fAjbreRLM1",
        "colab_type": "text"
      },
      "source": [
        "En esta sesión nos centraremos en cómo usar el paquete **dplyr**, otro miembro central del **tidyverse**. Ilustraremos las ideas clave utilizando los datos del paquete nycflights13 y usaremos **ggplot2** para ayudarnos a comprender los datos."
      ]
    },
    {
      "cell_type": "code",
      "metadata": {
        "id": "mUE3itoYNZ9v",
        "colab_type": "code",
        "colab": {}
      },
      "source": [
        "library(nycflights13)\n",
        "library(tidyverse)"
      ],
      "execution_count": 3,
      "outputs": []
    },
    {
      "cell_type": "markdown",
      "metadata": {
        "id": "wSdPPOxgTPCw",
        "colab_type": "text"
      },
      "source": [
        "Tome nota cuidadosamente del mensaje de conflictos que se imprime cuando carga el **tidyverse**. Le dice que **dplyr** sobrescribe algunas funciones en la base R. Si desea usar la versión base de estas funciones después de cargar **dplyr**, deberá usar sus nombres completos: `stats::filter()` y `stats::lag()`.\n",
        "\n",
        "\n"
      ]
    },
    {
      "cell_type": "markdown",
      "metadata": {
        "id": "mckJngf3T0IS",
        "colab_type": "text"
      },
      "source": [
        "## **nycflights13**\n",
        "\n",
        "Para explorar los verbos básicos de manipulación de datos de **dplyr**, usaremos `nycflights13::vuelos`. Este data frame contiene los 336,776 vuelos que partieron de la ciudad de Nueva York en 2013. Los datos provienen de la Oficina de Estadísticas de Transporte de EE. UU. Y están documentados en `?flights`"
      ]
    },
    {
      "cell_type": "code",
      "metadata": {
        "id": "xLywrw3FOj7y",
        "colab_type": "code",
        "colab": {
          "base_uri": "https://localhost:8080/",
          "height": 204
        },
        "outputId": "c6fa3829-45a8-4f0e-acc5-f50af075f402"
      },
      "source": [
        "head(flights)"
      ],
      "execution_count": 4,
      "outputs": [
        {
          "output_type": "display_data",
          "data": {
            "text/plain": [
              "  year month day dep_time sched_dep_time dep_delay arr_time sched_arr_time\n",
              "1 2013 1     1   517      515             2         830      819          \n",
              "2 2013 1     1   533      529             4         850      830          \n",
              "3 2013 1     1   542      540             2         923      850          \n",
              "4 2013 1     1   544      545            -1        1004     1022          \n",
              "5 2013 1     1   554      600            -6         812      837          \n",
              "6 2013 1     1   554      558            -4         740      728          \n",
              "  arr_delay carrier flight tailnum origin dest air_time distance hour minute\n",
              "1  11       UA      1545   N14228  EWR    IAH  227      1400     5    15    \n",
              "2  20       UA      1714   N24211  LGA    IAH  227      1416     5    29    \n",
              "3  33       AA      1141   N619AA  JFK    MIA  160      1089     5    40    \n",
              "4 -18       B6       725   N804JB  JFK    BQN  183      1576     5    45    \n",
              "5 -25       DL       461   N668DN  LGA    ATL  116       762     6     0    \n",
              "6  12       UA      1696   N39463  EWR    ORD  150       719     5    58    \n",
              "  time_hour          \n",
              "1 2013-01-01 05:00:00\n",
              "2 2013-01-01 05:00:00\n",
              "3 2013-01-01 05:00:00\n",
              "4 2013-01-01 05:00:00\n",
              "5 2013-01-01 06:00:00\n",
              "6 2013-01-01 05:00:00"
            ],
            "text/latex": "A tibble: 6 × 19\n\\begin{tabular}{lllllllllllllllllll}\n year & month & day & dep\\_time & sched\\_dep\\_time & dep\\_delay & arr\\_time & sched\\_arr\\_time & arr\\_delay & carrier & flight & tailnum & origin & dest & air\\_time & distance & hour & minute & time\\_hour\\\\\n <int> & <int> & <int> & <int> & <int> & <dbl> & <int> & <int> & <dbl> & <chr> & <int> & <chr> & <chr> & <chr> & <dbl> & <dbl> & <dbl> & <dbl> & <dttm>\\\\\n\\hline\n\t 2013 & 1 & 1 & 517 & 515 &  2 &  830 &  819 &  11 & UA & 1545 & N14228 & EWR & IAH & 227 & 1400 & 5 & 15 & 2013-01-01 05:00:00\\\\\n\t 2013 & 1 & 1 & 533 & 529 &  4 &  850 &  830 &  20 & UA & 1714 & N24211 & LGA & IAH & 227 & 1416 & 5 & 29 & 2013-01-01 05:00:00\\\\\n\t 2013 & 1 & 1 & 542 & 540 &  2 &  923 &  850 &  33 & AA & 1141 & N619AA & JFK & MIA & 160 & 1089 & 5 & 40 & 2013-01-01 05:00:00\\\\\n\t 2013 & 1 & 1 & 544 & 545 & -1 & 1004 & 1022 & -18 & B6 &  725 & N804JB & JFK & BQN & 183 & 1576 & 5 & 45 & 2013-01-01 05:00:00\\\\\n\t 2013 & 1 & 1 & 554 & 600 & -6 &  812 &  837 & -25 & DL &  461 & N668DN & LGA & ATL & 116 &  762 & 6 &  0 & 2013-01-01 06:00:00\\\\\n\t 2013 & 1 & 1 & 554 & 558 & -4 &  740 &  728 &  12 & UA & 1696 & N39463 & EWR & ORD & 150 &  719 & 5 & 58 & 2013-01-01 05:00:00\\\\\n\\end{tabular}\n",
            "text/markdown": "\nA tibble: 6 × 19\n\n| year &lt;int&gt; | month &lt;int&gt; | day &lt;int&gt; | dep_time &lt;int&gt; | sched_dep_time &lt;int&gt; | dep_delay &lt;dbl&gt; | arr_time &lt;int&gt; | sched_arr_time &lt;int&gt; | arr_delay &lt;dbl&gt; | carrier &lt;chr&gt; | flight &lt;int&gt; | tailnum &lt;chr&gt; | origin &lt;chr&gt; | dest &lt;chr&gt; | air_time &lt;dbl&gt; | distance &lt;dbl&gt; | hour &lt;dbl&gt; | minute &lt;dbl&gt; | time_hour &lt;dttm&gt; |\n|---|---|---|---|---|---|---|---|---|---|---|---|---|---|---|---|---|---|---|\n| 2013 | 1 | 1 | 517 | 515 |  2 |  830 |  819 |  11 | UA | 1545 | N14228 | EWR | IAH | 227 | 1400 | 5 | 15 | 2013-01-01 05:00:00 |\n| 2013 | 1 | 1 | 533 | 529 |  4 |  850 |  830 |  20 | UA | 1714 | N24211 | LGA | IAH | 227 | 1416 | 5 | 29 | 2013-01-01 05:00:00 |\n| 2013 | 1 | 1 | 542 | 540 |  2 |  923 |  850 |  33 | AA | 1141 | N619AA | JFK | MIA | 160 | 1089 | 5 | 40 | 2013-01-01 05:00:00 |\n| 2013 | 1 | 1 | 544 | 545 | -1 | 1004 | 1022 | -18 | B6 |  725 | N804JB | JFK | BQN | 183 | 1576 | 5 | 45 | 2013-01-01 05:00:00 |\n| 2013 | 1 | 1 | 554 | 600 | -6 |  812 |  837 | -25 | DL |  461 | N668DN | LGA | ATL | 116 |  762 | 6 |  0 | 2013-01-01 06:00:00 |\n| 2013 | 1 | 1 | 554 | 558 | -4 |  740 |  728 |  12 | UA | 1696 | N39463 | EWR | ORD | 150 |  719 | 5 | 58 | 2013-01-01 05:00:00 |\n\n",
            "text/html": [
              "<table>\n",
              "<caption>A tibble: 6 × 19</caption>\n",
              "<thead>\n",
              "\t<tr><th scope=col>year</th><th scope=col>month</th><th scope=col>day</th><th scope=col>dep_time</th><th scope=col>sched_dep_time</th><th scope=col>dep_delay</th><th scope=col>arr_time</th><th scope=col>sched_arr_time</th><th scope=col>arr_delay</th><th scope=col>carrier</th><th scope=col>flight</th><th scope=col>tailnum</th><th scope=col>origin</th><th scope=col>dest</th><th scope=col>air_time</th><th scope=col>distance</th><th scope=col>hour</th><th scope=col>minute</th><th scope=col>time_hour</th></tr>\n",
              "\t<tr><th scope=col>&lt;int&gt;</th><th scope=col>&lt;int&gt;</th><th scope=col>&lt;int&gt;</th><th scope=col>&lt;int&gt;</th><th scope=col>&lt;int&gt;</th><th scope=col>&lt;dbl&gt;</th><th scope=col>&lt;int&gt;</th><th scope=col>&lt;int&gt;</th><th scope=col>&lt;dbl&gt;</th><th scope=col>&lt;chr&gt;</th><th scope=col>&lt;int&gt;</th><th scope=col>&lt;chr&gt;</th><th scope=col>&lt;chr&gt;</th><th scope=col>&lt;chr&gt;</th><th scope=col>&lt;dbl&gt;</th><th scope=col>&lt;dbl&gt;</th><th scope=col>&lt;dbl&gt;</th><th scope=col>&lt;dbl&gt;</th><th scope=col>&lt;dttm&gt;</th></tr>\n",
              "</thead>\n",
              "<tbody>\n",
              "\t<tr><td>2013</td><td>1</td><td>1</td><td>517</td><td>515</td><td> 2</td><td> 830</td><td> 819</td><td> 11</td><td>UA</td><td>1545</td><td>N14228</td><td>EWR</td><td>IAH</td><td>227</td><td>1400</td><td>5</td><td>15</td><td>2013-01-01 05:00:00</td></tr>\n",
              "\t<tr><td>2013</td><td>1</td><td>1</td><td>533</td><td>529</td><td> 4</td><td> 850</td><td> 830</td><td> 20</td><td>UA</td><td>1714</td><td>N24211</td><td>LGA</td><td>IAH</td><td>227</td><td>1416</td><td>5</td><td>29</td><td>2013-01-01 05:00:00</td></tr>\n",
              "\t<tr><td>2013</td><td>1</td><td>1</td><td>542</td><td>540</td><td> 2</td><td> 923</td><td> 850</td><td> 33</td><td>AA</td><td>1141</td><td>N619AA</td><td>JFK</td><td>MIA</td><td>160</td><td>1089</td><td>5</td><td>40</td><td>2013-01-01 05:00:00</td></tr>\n",
              "\t<tr><td>2013</td><td>1</td><td>1</td><td>544</td><td>545</td><td>-1</td><td>1004</td><td>1022</td><td>-18</td><td>B6</td><td> 725</td><td>N804JB</td><td>JFK</td><td>BQN</td><td>183</td><td>1576</td><td>5</td><td>45</td><td>2013-01-01 05:00:00</td></tr>\n",
              "\t<tr><td>2013</td><td>1</td><td>1</td><td>554</td><td>600</td><td>-6</td><td> 812</td><td> 837</td><td>-25</td><td>DL</td><td> 461</td><td>N668DN</td><td>LGA</td><td>ATL</td><td>116</td><td> 762</td><td>6</td><td> 0</td><td>2013-01-01 06:00:00</td></tr>\n",
              "\t<tr><td>2013</td><td>1</td><td>1</td><td>554</td><td>558</td><td>-4</td><td> 740</td><td> 728</td><td> 12</td><td>UA</td><td>1696</td><td>N39463</td><td>EWR</td><td>ORD</td><td>150</td><td> 719</td><td>5</td><td>58</td><td>2013-01-01 05:00:00</td></tr>\n",
              "</tbody>\n",
              "</table>\n"
            ]
          },
          "metadata": {
            "tags": []
          }
        }
      ]
    },
    {
      "cell_type": "code",
      "metadata": {
        "id": "U_z6ZU2GPMSq",
        "colab_type": "code",
        "colab": {
          "base_uri": "https://localhost:8080/",
          "height": 34
        },
        "outputId": "6044212f-1776-4dd4-826c-82c92af5dd9f"
      },
      "source": [
        "nrow(flights)"
      ],
      "execution_count": 5,
      "outputs": [
        {
          "output_type": "display_data",
          "data": {
            "text/plain": [
              "[1] 336776"
            ],
            "text/latex": "336776",
            "text/markdown": "336776",
            "text/html": [
              "336776"
            ]
          },
          "metadata": {
            "tags": []
          }
        }
      ]
    },
    {
      "cell_type": "markdown",
      "metadata": {
        "id": "pnzwM3XP0q6f",
        "colab_type": "text"
      },
      "source": [
        "### **funciones dplyr** \n",
        "\n",
        "Existen 5 funciones que permiten resolver la basta mayoría de los retos de manipulación de datos :\n",
        "\n",
        "- Seleccionar por sus valores (`filter()`)\n",
        "- Reordenar filas (`arange()`)\n",
        "- Seleccionar variables o columnas por sus nombres (`select()`)\n",
        "- Crear variables como funciones de las variables ya existentes(`mutate()`)\n",
        "- Contraiga muchos valores a un solo resumen (`summaryize()`).\n",
        "\n",
        "Todos estos pueden usarse junto con `group_by()`, que cambia el alcance de cada función desde operar en todo el conjunto de datos hasta operar en grupo por grupo. Estas seis funciones proporcionan los verbos para un lenguaje de manipulación de datos.\n",
        "\n",
        "Todos los verbos funcionan de manera similar:\n",
        "\n",
        "1. El primer argumento es el data-frame.\n",
        "2. Los argumentos posteriores describen qué hacer con el data-frame, utilizando los nombres de las variables (sin comillas).\n",
        "3. El resultado esun nuevo data-frame.\n",
        "\n",
        "En conjunto, estas propiedades hacen que sea fácil encadenar múltiples pasos simples para lograr un resultado complejo. Vamos a sumergirnos y ver cómo funcionan estos verbos."
      ]
    },
    {
      "cell_type": "markdown",
      "metadata": {
        "id": "OP1HpDql6M4d",
        "colab_type": "text"
      },
      "source": [
        "### **Filtros con filter()**\n",
        "`filter ()` le permite subconjugar observaciones en función de sus valores. El primer argumento es el nombre del marco de datos. El segundo argumento y los posteriores son las expresiones que filtran el marco de datos. Por ejemplo, podemos seleccionar todos los vuelos el 1 de enero con:"
      ]
    },
    {
      "cell_type": "code",
      "metadata": {
        "id": "XTyoVtJa0cNH",
        "colab_type": "code",
        "colab": {
          "base_uri": "https://localhost:8080/",
          "height": 221
        },
        "outputId": "c1eecb82-e069-459a-8d0a-4cc49abc2e3a"
      },
      "source": [
        "head(filter(flights, month == 1, day == 1))\n",
        "nrow((filter(flights, month == 1, day == 1)))"
      ],
      "execution_count": 6,
      "outputs": [
        {
          "output_type": "display_data",
          "data": {
            "text/plain": [
              "  year month day dep_time sched_dep_time dep_delay arr_time sched_arr_time\n",
              "1 2013 1     1   517      515             2         830      819          \n",
              "2 2013 1     1   533      529             4         850      830          \n",
              "3 2013 1     1   542      540             2         923      850          \n",
              "4 2013 1     1   544      545            -1        1004     1022          \n",
              "5 2013 1     1   554      600            -6         812      837          \n",
              "6 2013 1     1   554      558            -4         740      728          \n",
              "  arr_delay carrier flight tailnum origin dest air_time distance hour minute\n",
              "1  11       UA      1545   N14228  EWR    IAH  227      1400     5    15    \n",
              "2  20       UA      1714   N24211  LGA    IAH  227      1416     5    29    \n",
              "3  33       AA      1141   N619AA  JFK    MIA  160      1089     5    40    \n",
              "4 -18       B6       725   N804JB  JFK    BQN  183      1576     5    45    \n",
              "5 -25       DL       461   N668DN  LGA    ATL  116       762     6     0    \n",
              "6  12       UA      1696   N39463  EWR    ORD  150       719     5    58    \n",
              "  time_hour          \n",
              "1 2013-01-01 05:00:00\n",
              "2 2013-01-01 05:00:00\n",
              "3 2013-01-01 05:00:00\n",
              "4 2013-01-01 05:00:00\n",
              "5 2013-01-01 06:00:00\n",
              "6 2013-01-01 05:00:00"
            ],
            "text/latex": "A tibble: 6 × 19\n\\begin{tabular}{lllllllllllllllllll}\n year & month & day & dep\\_time & sched\\_dep\\_time & dep\\_delay & arr\\_time & sched\\_arr\\_time & arr\\_delay & carrier & flight & tailnum & origin & dest & air\\_time & distance & hour & minute & time\\_hour\\\\\n <int> & <int> & <int> & <int> & <int> & <dbl> & <int> & <int> & <dbl> & <chr> & <int> & <chr> & <chr> & <chr> & <dbl> & <dbl> & <dbl> & <dbl> & <dttm>\\\\\n\\hline\n\t 2013 & 1 & 1 & 517 & 515 &  2 &  830 &  819 &  11 & UA & 1545 & N14228 & EWR & IAH & 227 & 1400 & 5 & 15 & 2013-01-01 05:00:00\\\\\n\t 2013 & 1 & 1 & 533 & 529 &  4 &  850 &  830 &  20 & UA & 1714 & N24211 & LGA & IAH & 227 & 1416 & 5 & 29 & 2013-01-01 05:00:00\\\\\n\t 2013 & 1 & 1 & 542 & 540 &  2 &  923 &  850 &  33 & AA & 1141 & N619AA & JFK & MIA & 160 & 1089 & 5 & 40 & 2013-01-01 05:00:00\\\\\n\t 2013 & 1 & 1 & 544 & 545 & -1 & 1004 & 1022 & -18 & B6 &  725 & N804JB & JFK & BQN & 183 & 1576 & 5 & 45 & 2013-01-01 05:00:00\\\\\n\t 2013 & 1 & 1 & 554 & 600 & -6 &  812 &  837 & -25 & DL &  461 & N668DN & LGA & ATL & 116 &  762 & 6 &  0 & 2013-01-01 06:00:00\\\\\n\t 2013 & 1 & 1 & 554 & 558 & -4 &  740 &  728 &  12 & UA & 1696 & N39463 & EWR & ORD & 150 &  719 & 5 & 58 & 2013-01-01 05:00:00\\\\\n\\end{tabular}\n",
            "text/markdown": "\nA tibble: 6 × 19\n\n| year &lt;int&gt; | month &lt;int&gt; | day &lt;int&gt; | dep_time &lt;int&gt; | sched_dep_time &lt;int&gt; | dep_delay &lt;dbl&gt; | arr_time &lt;int&gt; | sched_arr_time &lt;int&gt; | arr_delay &lt;dbl&gt; | carrier &lt;chr&gt; | flight &lt;int&gt; | tailnum &lt;chr&gt; | origin &lt;chr&gt; | dest &lt;chr&gt; | air_time &lt;dbl&gt; | distance &lt;dbl&gt; | hour &lt;dbl&gt; | minute &lt;dbl&gt; | time_hour &lt;dttm&gt; |\n|---|---|---|---|---|---|---|---|---|---|---|---|---|---|---|---|---|---|---|\n| 2013 | 1 | 1 | 517 | 515 |  2 |  830 |  819 |  11 | UA | 1545 | N14228 | EWR | IAH | 227 | 1400 | 5 | 15 | 2013-01-01 05:00:00 |\n| 2013 | 1 | 1 | 533 | 529 |  4 |  850 |  830 |  20 | UA | 1714 | N24211 | LGA | IAH | 227 | 1416 | 5 | 29 | 2013-01-01 05:00:00 |\n| 2013 | 1 | 1 | 542 | 540 |  2 |  923 |  850 |  33 | AA | 1141 | N619AA | JFK | MIA | 160 | 1089 | 5 | 40 | 2013-01-01 05:00:00 |\n| 2013 | 1 | 1 | 544 | 545 | -1 | 1004 | 1022 | -18 | B6 |  725 | N804JB | JFK | BQN | 183 | 1576 | 5 | 45 | 2013-01-01 05:00:00 |\n| 2013 | 1 | 1 | 554 | 600 | -6 |  812 |  837 | -25 | DL |  461 | N668DN | LGA | ATL | 116 |  762 | 6 |  0 | 2013-01-01 06:00:00 |\n| 2013 | 1 | 1 | 554 | 558 | -4 |  740 |  728 |  12 | UA | 1696 | N39463 | EWR | ORD | 150 |  719 | 5 | 58 | 2013-01-01 05:00:00 |\n\n",
            "text/html": [
              "<table>\n",
              "<caption>A tibble: 6 × 19</caption>\n",
              "<thead>\n",
              "\t<tr><th scope=col>year</th><th scope=col>month</th><th scope=col>day</th><th scope=col>dep_time</th><th scope=col>sched_dep_time</th><th scope=col>dep_delay</th><th scope=col>arr_time</th><th scope=col>sched_arr_time</th><th scope=col>arr_delay</th><th scope=col>carrier</th><th scope=col>flight</th><th scope=col>tailnum</th><th scope=col>origin</th><th scope=col>dest</th><th scope=col>air_time</th><th scope=col>distance</th><th scope=col>hour</th><th scope=col>minute</th><th scope=col>time_hour</th></tr>\n",
              "\t<tr><th scope=col>&lt;int&gt;</th><th scope=col>&lt;int&gt;</th><th scope=col>&lt;int&gt;</th><th scope=col>&lt;int&gt;</th><th scope=col>&lt;int&gt;</th><th scope=col>&lt;dbl&gt;</th><th scope=col>&lt;int&gt;</th><th scope=col>&lt;int&gt;</th><th scope=col>&lt;dbl&gt;</th><th scope=col>&lt;chr&gt;</th><th scope=col>&lt;int&gt;</th><th scope=col>&lt;chr&gt;</th><th scope=col>&lt;chr&gt;</th><th scope=col>&lt;chr&gt;</th><th scope=col>&lt;dbl&gt;</th><th scope=col>&lt;dbl&gt;</th><th scope=col>&lt;dbl&gt;</th><th scope=col>&lt;dbl&gt;</th><th scope=col>&lt;dttm&gt;</th></tr>\n",
              "</thead>\n",
              "<tbody>\n",
              "\t<tr><td>2013</td><td>1</td><td>1</td><td>517</td><td>515</td><td> 2</td><td> 830</td><td> 819</td><td> 11</td><td>UA</td><td>1545</td><td>N14228</td><td>EWR</td><td>IAH</td><td>227</td><td>1400</td><td>5</td><td>15</td><td>2013-01-01 05:00:00</td></tr>\n",
              "\t<tr><td>2013</td><td>1</td><td>1</td><td>533</td><td>529</td><td> 4</td><td> 850</td><td> 830</td><td> 20</td><td>UA</td><td>1714</td><td>N24211</td><td>LGA</td><td>IAH</td><td>227</td><td>1416</td><td>5</td><td>29</td><td>2013-01-01 05:00:00</td></tr>\n",
              "\t<tr><td>2013</td><td>1</td><td>1</td><td>542</td><td>540</td><td> 2</td><td> 923</td><td> 850</td><td> 33</td><td>AA</td><td>1141</td><td>N619AA</td><td>JFK</td><td>MIA</td><td>160</td><td>1089</td><td>5</td><td>40</td><td>2013-01-01 05:00:00</td></tr>\n",
              "\t<tr><td>2013</td><td>1</td><td>1</td><td>544</td><td>545</td><td>-1</td><td>1004</td><td>1022</td><td>-18</td><td>B6</td><td> 725</td><td>N804JB</td><td>JFK</td><td>BQN</td><td>183</td><td>1576</td><td>5</td><td>45</td><td>2013-01-01 05:00:00</td></tr>\n",
              "\t<tr><td>2013</td><td>1</td><td>1</td><td>554</td><td>600</td><td>-6</td><td> 812</td><td> 837</td><td>-25</td><td>DL</td><td> 461</td><td>N668DN</td><td>LGA</td><td>ATL</td><td>116</td><td> 762</td><td>6</td><td> 0</td><td>2013-01-01 06:00:00</td></tr>\n",
              "\t<tr><td>2013</td><td>1</td><td>1</td><td>554</td><td>558</td><td>-4</td><td> 740</td><td> 728</td><td> 12</td><td>UA</td><td>1696</td><td>N39463</td><td>EWR</td><td>ORD</td><td>150</td><td> 719</td><td>5</td><td>58</td><td>2013-01-01 05:00:00</td></tr>\n",
              "</tbody>\n",
              "</table>\n"
            ]
          },
          "metadata": {
            "tags": []
          }
        },
        {
          "output_type": "display_data",
          "data": {
            "text/plain": [
              "[1] 842"
            ],
            "text/latex": "842",
            "text/markdown": "842",
            "text/html": [
              "842"
            ]
          },
          "metadata": {
            "tags": []
          }
        }
      ]
    },
    {
      "cell_type": "markdown",
      "metadata": {
        "id": "FGyKX1BuL0ab",
        "colab_type": "text"
      },
      "source": [
        "Cuando ejecuta esa línea de código, **dplyr** ejecuta la operación de filtrado y devuelve una vista del data-frame. Las funciones **dplyr** nunca modifican sus entradas, por lo que si desea guardar el resultado, deberá usar el operador de asignación, <-:"
      ]
    },
    {
      "cell_type": "code",
      "metadata": {
        "id": "ClTThJKTLdxo",
        "colab_type": "code",
        "colab": {
          "base_uri": "https://localhost:8080/",
          "height": 34
        },
        "outputId": "f05e9376-a4a2-4dc0-c118-87e1d8c79d9a"
      },
      "source": [
        "jan1 <- filter(flights, month == 1, day == 1)\n",
        "nrow(jan1)"
      ],
      "execution_count": 9,
      "outputs": [
        {
          "output_type": "display_data",
          "data": {
            "text/plain": [
              "[1] 842"
            ],
            "text/latex": "842",
            "text/markdown": "842",
            "text/html": [
              "842"
            ]
          },
          "metadata": {
            "tags": []
          }
        }
      ]
    },
    {
      "cell_type": "markdown",
      "metadata": {
        "id": "CHoAjO1KM_lt",
        "colab_type": "text"
      },
      "source": [
        "R imprime los resultados o los guarda en una variable. Si desea hacer ambas cosas, puede ajustar la asignación entre paréntesis:"
      ]
    },
    {
      "cell_type": "code",
      "metadata": {
        "id": "0k0bhy1gL-MY",
        "colab_type": "code",
        "colab": {
          "base_uri": "https://localhost:8080/",
          "height": 1000
        },
        "outputId": "bdbc882f-16b9-4368-fa82-705802f4c3eb"
      },
      "source": [
        "(dec25 <- filter(flights, month == 12, day == 25))\n",
        "nrow(dec25)"
      ],
      "execution_count": 10,
      "outputs": [
        {
          "output_type": "display_data",
          "data": {
            "text/plain": [
              "    year month day dep_time sched_dep_time dep_delay arr_time sched_arr_time\n",
              "1   2013 12    25  456      500            -4         649      651          \n",
              "2   2013 12    25  524      515             9         805      814          \n",
              "3   2013 12    25  542      540             2         832      850          \n",
              "4   2013 12    25  546      550            -4        1022     1027          \n",
              "5   2013 12    25  556      600            -4         730      745          \n",
              "6   2013 12    25  557      600            -3         743      752          \n",
              "7   2013 12    25  557      600            -3         818      831          \n",
              "8   2013 12    25  559      600            -1         855      856          \n",
              "9   2013 12    25  559      600            -1         849      855          \n",
              "10  2013 12    25  600      600             0         850      846          \n",
              "11  2013 12    25  600      600             0         715      723          \n",
              "12  2013 12    25  601      600             1         855      905          \n",
              "13  2013 12    25  601      600             1         846      849          \n",
              "14  2013 12    25  604      611            -7        1051     1055          \n",
              "15  2013 12    25  605      600             5         912      937          \n",
              "16  2013 12    25  610      610             0         922      915          \n",
              "17  2013 12    25  610      605             5         718      723          \n",
              "18  2013 12    25  611      611             0         908      912          \n",
              "19  2013 12    25  612      615            -3         859      852          \n",
              "20  2013 12    25  615      615             0         802      818          \n",
              "21  2013 12    25  620      615             5         818      817          \n",
              "22  2013 12    25  621      610            11         902      905          \n",
              "23  2013 12    25  627      625             2        1010     1009          \n",
              "24  2013 12    25  628      630            -2         932      938          \n",
              "25  2013 12    25  628      630            -2         949      919          \n",
              "26  2013 12    25  630      631            -1         924      958          \n",
              "27  2013 12    25  632      635            -3         927      929          \n",
              "28  2013 12    25  632      620            12         922      919          \n",
              "29  2013 12    25  635      614            21         921      925          \n",
              "30  2013 12    25  643      630            13         904      859          \n",
              "⋮   ⋮    ⋮     ⋮   ⋮        ⋮              ⋮         ⋮        ⋮             \n",
              "690 2013 12    25  2126     2129            -3         24       22          \n",
              "691 2013 12    25  2129     2053            36          1     2333          \n",
              "692 2013 12    25  2130     2135            -5         25       55          \n",
              "693 2013 12    25  2130     2115            15       2322     2315          \n",
              "694 2013 12    25  2131     2046            45         24     2349          \n",
              "695 2013 12    25  2140     2141            -1         44       37          \n",
              "696 2013 12    25  2144     2145            -1         27       19          \n",
              "697 2013 12    25  2149     2155            -6       2328     2334          \n",
              "698 2013 12    25  2150     2159            -9        103       45          \n",
              "699 2013 12    25  2152     2155            -3        100       56          \n",
              "700 2013 12    25  2153     2155            -2         50       46          \n",
              "701 2013 12    25  2153     2135            18         22       19          \n",
              "702 2013 12    25  2153     2030            83         46     2347          \n",
              "703 2013 12    25  2203     2136            27       2327     2259          \n",
              "704 2013 12    25  2203     2130            33       2309     2245          \n",
              "705 2013 12    25  2219     2110            69        102     2339          \n",
              "706 2013 12    25  2231     2219            12        311      304          \n",
              "707 2013 12    25  2302     2245            17         15        3          \n",
              "708 2013 12    25  2308     2245            23         10     2355          \n",
              "709 2013 12    25  2312     2250            22         10     2356          \n",
              "710 2013 12    25  2314     2245            29         15     2353          \n",
              "711 2013 12    25  2315     2330           -15        348      409          \n",
              "712 2013 12    25  2352     2359            -7        429      440          \n",
              "713 2013 12    25  2353     2355            -2        442      438          \n",
              "714 2013 12    25  2357     2359            -2        446      445          \n",
              "715 2013 12    25  2357     2359            -2        433      437          \n",
              "716 2013 12    25    NA     1630            NA         NA     1838          \n",
              "717 2013 12    25    NA     1525            NA         NA     1720          \n",
              "718 2013 12    25    NA     1100            NA         NA     1210          \n",
              "719 2013 12    25    NA     1930            NA         NA     2115          \n",
              "    arr_delay carrier flight tailnum origin dest air_time distance hour minute\n",
              "1    -2       US      1895   N156UW  EWR    CLT   98       529     5     0    \n",
              "2    -9       UA      1016   N32404  EWR    IAH  203      1400     5    15    \n",
              "3   -18       AA      2243   N5EBAA  JFK    MIA  146      1089     5    40    \n",
              "4    -5       B6       939   N665JB  JFK    BQN  191      1576     5    50    \n",
              "5   -15       AA       301   N3JLAA  LGA    ORD  123       733     6     0    \n",
              "6    -9       DL       731   N369NB  LGA    DTW   88       502     6     0    \n",
              "7   -13       DL       904   N397DA  LGA    ATL  118       762     6     0    \n",
              "8    -1       B6       371   N608JB  LGA    FLL  147      1076     6     0    \n",
              "9    -6       B6       605   N536JB  EWR    FLL  149      1065     6     0    \n",
              "10    4       B6       583   N746JB  JFK    MCO  137       944     6     0    \n",
              "11   -8       EV      5747   N835AS  LGA    IAD   47       229     6     0    \n",
              "12  -10       AA      1175   N3EJAA  LGA    MIA  152      1096     6     0    \n",
              "13   -3       B6       353   N766JB  JFK    PBI  143      1028     6     0    \n",
              "14   -4       B6      1403   N779JB  JFK    SJU  190      1598     6    11    \n",
              "15  -25       UA       303   N596UA  JFK    SFO  345      2586     6     0    \n",
              "16    7       AA      1205   N5BTAA  EWR    MIA  145      1085     6    10    \n",
              "17   -5       EV      6177   N11189  EWR    IAD   44       212     6     5    \n",
              "18   -4       B6       601   N804JB  JFK    FLL  153      1069     6    11    \n",
              "19    7       DL       479   N3769L  JFK    ATL  127       760     6    15    \n",
              "20  -16       US      1963   N169UW  EWR    CLT   87       529     6    15    \n",
              "21    1       US       840   N151UW  JFK    CLT   96       541     6    15    \n",
              "22   -3       UA      1627   N76269  EWR    PBI  142      1023     6    10    \n",
              "23    1       US       690   N672AW  EWR    PHX  288      2133     6    25    \n",
              "24   -6       B6       929   N712JB  JFK    RSW  162      1074     6    30    \n",
              "25   30       B6      1099   N571JB  LGA    MCO  136       950     6    30    \n",
              "26  -34       UA       398   N505UA  JFK    LAX  335      2475     6    31    \n",
              "27   -2       B6       525   N556JB  JFK    TPA  151      1005     6    35    \n",
              "28    3       UA       596   N556UA  EWR    TPA  147       997     6    20    \n",
              "29   -4       UA      1701   N38417  EWR    FLL  151      1065     6    14    \n",
              "30    5       DL       807   N977AT  EWR    ATL  115       746     6    30    \n",
              "⋮   ⋮         ⋮       ⋮      ⋮       ⋮      ⋮    ⋮        ⋮        ⋮    ⋮     \n",
              "690   2       B6      2043   N599JB  EWR    PBI  144      1023     21   29    \n",
              "691  28       EV      4388   N17984  EWR    JAX  133       820     20   53    \n",
              "692 -30       AA       185   N332AA  JFK    LAX  328      2475     21   35    \n",
              "693   7       MQ      3384   N520MQ  LGA    CLT   90       544     21   15    \n",
              "694  35       UA       236   N406UA  EWR    TPA  151       997     20   46    \n",
              "695   7       B6       425   N579JB  JFK    TPA  160      1005     21   41    \n",
              "696   8       B6      2227   N273JB  EWR    MCO  144       937     21   45    \n",
              "697  -6       B6       985   N339JB  JFK    RDU   80       427     21   55    \n",
              "698  18       B6      1183   N634JB  JFK    MCO  151       944     21   59    \n",
              "699   4       B6      1901   N665JB  JFK    FLL  154      1069     21   55    \n",
              "700   4       B6      2053   N613JB  JFK    PBI  148      1028     21   55    \n",
              "701   3       B6       611   N519JB  JFK    LAS  305      2248     21   35    \n",
              "702  59       UA      1682   N78524  EWR    FLL  151      1065     20   30    \n",
              "703  28       B6       702   N198JB  JFK    BUF   59       301     21   36    \n",
              "704  24       MQ      3621   N844MQ  JFK    DCA   42       213     21   30    \n",
              "705  83       B6       775   N258JB  JFK    MSY  192      1182     21   10    \n",
              "706   7       B6      1203   N618JB  JFK    SJU  194      1598     22   19    \n",
              "707  12       B6       486   N203JB  JFK    ROC   54       264     22   45    \n",
              "708  15       B6       234   N316JB  JFK    BTV   43       266     22   45    \n",
              "709  14       B6      1816   N358JB  JFK    SYR   44       209     22   50    \n",
              "710  22       B6       108   N279JB  JFK    PWM   46       273     22   45    \n",
              "711 -21       B6      1389   N554JB  EWR    SJU  199      1608     23   30    \n",
              "712 -11       B6      1503   N531JB  JFK    SJU  198      1598     23   59    \n",
              "713   4       DL      2380   N713TW  JFK    SJU  196      1598     23   55    \n",
              "714   1       B6       745   N636JB  JFK    PSE  204      1617     23   59    \n",
              "715  -4       B6       839   N784JB  JFK    BQN  194      1576     23   59    \n",
              "716  NA       DL      2231   N312US  LGA    DTW   NA       502     16   30    \n",
              "717  NA       MQ      2840   N8EGMQ  LGA    STL   NA       888     15   25    \n",
              "718  NA       MQ      3230   N524MQ  JFK    DCA   NA       213     11    0    \n",
              "719  NA       MQ      3535   N509MQ  JFK    CMH   NA       483     19   30    \n",
              "    time_hour          \n",
              "1   2013-12-25 05:00:00\n",
              "2   2013-12-25 05:00:00\n",
              "3   2013-12-25 05:00:00\n",
              "4   2013-12-25 05:00:00\n",
              "5   2013-12-25 06:00:00\n",
              "6   2013-12-25 06:00:00\n",
              "7   2013-12-25 06:00:00\n",
              "8   2013-12-25 06:00:00\n",
              "9   2013-12-25 06:00:00\n",
              "10  2013-12-25 06:00:00\n",
              "11  2013-12-25 06:00:00\n",
              "12  2013-12-25 06:00:00\n",
              "13  2013-12-25 06:00:00\n",
              "14  2013-12-25 06:00:00\n",
              "15  2013-12-25 06:00:00\n",
              "16  2013-12-25 06:00:00\n",
              "17  2013-12-25 06:00:00\n",
              "18  2013-12-25 06:00:00\n",
              "19  2013-12-25 06:00:00\n",
              "20  2013-12-25 06:00:00\n",
              "21  2013-12-25 06:00:00\n",
              "22  2013-12-25 06:00:00\n",
              "23  2013-12-25 06:00:00\n",
              "24  2013-12-25 06:00:00\n",
              "25  2013-12-25 06:00:00\n",
              "26  2013-12-25 06:00:00\n",
              "27  2013-12-25 06:00:00\n",
              "28  2013-12-25 06:00:00\n",
              "29  2013-12-25 06:00:00\n",
              "30  2013-12-25 06:00:00\n",
              "⋮   ⋮                  \n",
              "690 2013-12-25 21:00:00\n",
              "691 2013-12-25 20:00:00\n",
              "692 2013-12-25 21:00:00\n",
              "693 2013-12-25 21:00:00\n",
              "694 2013-12-25 20:00:00\n",
              "695 2013-12-25 21:00:00\n",
              "696 2013-12-25 21:00:00\n",
              "697 2013-12-25 21:00:00\n",
              "698 2013-12-25 21:00:00\n",
              "699 2013-12-25 21:00:00\n",
              "700 2013-12-25 21:00:00\n",
              "701 2013-12-25 21:00:00\n",
              "702 2013-12-25 20:00:00\n",
              "703 2013-12-25 21:00:00\n",
              "704 2013-12-25 21:00:00\n",
              "705 2013-12-25 21:00:00\n",
              "706 2013-12-25 22:00:00\n",
              "707 2013-12-25 22:00:00\n",
              "708 2013-12-25 22:00:00\n",
              "709 2013-12-25 22:00:00\n",
              "710 2013-12-25 22:00:00\n",
              "711 2013-12-25 23:00:00\n",
              "712 2013-12-25 23:00:00\n",
              "713 2013-12-25 23:00:00\n",
              "714 2013-12-25 23:00:00\n",
              "715 2013-12-25 23:00:00\n",
              "716 2013-12-25 16:00:00\n",
              "717 2013-12-25 15:00:00\n",
              "718 2013-12-25 11:00:00\n",
              "719 2013-12-25 19:00:00"
            ],
            "text/latex": "A tibble: 719 × 19\n\\begin{tabular}{lllllllllllllllllll}\n year & month & day & dep\\_time & sched\\_dep\\_time & dep\\_delay & arr\\_time & sched\\_arr\\_time & arr\\_delay & carrier & flight & tailnum & origin & dest & air\\_time & distance & hour & minute & time\\_hour\\\\\n <int> & <int> & <int> & <int> & <int> & <dbl> & <int> & <int> & <dbl> & <chr> & <int> & <chr> & <chr> & <chr> & <dbl> & <dbl> & <dbl> & <dbl> & <dttm>\\\\\n\\hline\n\t 2013 & 12 & 25 & 456 & 500 & -4 &  649 &  651 &  -2 & US & 1895 & N156UW & EWR & CLT &  98 &  529 & 5 &  0 & 2013-12-25 05:00:00\\\\\n\t 2013 & 12 & 25 & 524 & 515 &  9 &  805 &  814 &  -9 & UA & 1016 & N32404 & EWR & IAH & 203 & 1400 & 5 & 15 & 2013-12-25 05:00:00\\\\\n\t 2013 & 12 & 25 & 542 & 540 &  2 &  832 &  850 & -18 & AA & 2243 & N5EBAA & JFK & MIA & 146 & 1089 & 5 & 40 & 2013-12-25 05:00:00\\\\\n\t 2013 & 12 & 25 & 546 & 550 & -4 & 1022 & 1027 &  -5 & B6 &  939 & N665JB & JFK & BQN & 191 & 1576 & 5 & 50 & 2013-12-25 05:00:00\\\\\n\t 2013 & 12 & 25 & 556 & 600 & -4 &  730 &  745 & -15 & AA &  301 & N3JLAA & LGA & ORD & 123 &  733 & 6 &  0 & 2013-12-25 06:00:00\\\\\n\t 2013 & 12 & 25 & 557 & 600 & -3 &  743 &  752 &  -9 & DL &  731 & N369NB & LGA & DTW &  88 &  502 & 6 &  0 & 2013-12-25 06:00:00\\\\\n\t 2013 & 12 & 25 & 557 & 600 & -3 &  818 &  831 & -13 & DL &  904 & N397DA & LGA & ATL & 118 &  762 & 6 &  0 & 2013-12-25 06:00:00\\\\\n\t 2013 & 12 & 25 & 559 & 600 & -1 &  855 &  856 &  -1 & B6 &  371 & N608JB & LGA & FLL & 147 & 1076 & 6 &  0 & 2013-12-25 06:00:00\\\\\n\t 2013 & 12 & 25 & 559 & 600 & -1 &  849 &  855 &  -6 & B6 &  605 & N536JB & EWR & FLL & 149 & 1065 & 6 &  0 & 2013-12-25 06:00:00\\\\\n\t 2013 & 12 & 25 & 600 & 600 &  0 &  850 &  846 &   4 & B6 &  583 & N746JB & JFK & MCO & 137 &  944 & 6 &  0 & 2013-12-25 06:00:00\\\\\n\t 2013 & 12 & 25 & 600 & 600 &  0 &  715 &  723 &  -8 & EV & 5747 & N835AS & LGA & IAD &  47 &  229 & 6 &  0 & 2013-12-25 06:00:00\\\\\n\t 2013 & 12 & 25 & 601 & 600 &  1 &  855 &  905 & -10 & AA & 1175 & N3EJAA & LGA & MIA & 152 & 1096 & 6 &  0 & 2013-12-25 06:00:00\\\\\n\t 2013 & 12 & 25 & 601 & 600 &  1 &  846 &  849 &  -3 & B6 &  353 & N766JB & JFK & PBI & 143 & 1028 & 6 &  0 & 2013-12-25 06:00:00\\\\\n\t 2013 & 12 & 25 & 604 & 611 & -7 & 1051 & 1055 &  -4 & B6 & 1403 & N779JB & JFK & SJU & 190 & 1598 & 6 & 11 & 2013-12-25 06:00:00\\\\\n\t 2013 & 12 & 25 & 605 & 600 &  5 &  912 &  937 & -25 & UA &  303 & N596UA & JFK & SFO & 345 & 2586 & 6 &  0 & 2013-12-25 06:00:00\\\\\n\t 2013 & 12 & 25 & 610 & 610 &  0 &  922 &  915 &   7 & AA & 1205 & N5BTAA & EWR & MIA & 145 & 1085 & 6 & 10 & 2013-12-25 06:00:00\\\\\n\t 2013 & 12 & 25 & 610 & 605 &  5 &  718 &  723 &  -5 & EV & 6177 & N11189 & EWR & IAD &  44 &  212 & 6 &  5 & 2013-12-25 06:00:00\\\\\n\t 2013 & 12 & 25 & 611 & 611 &  0 &  908 &  912 &  -4 & B6 &  601 & N804JB & JFK & FLL & 153 & 1069 & 6 & 11 & 2013-12-25 06:00:00\\\\\n\t 2013 & 12 & 25 & 612 & 615 & -3 &  859 &  852 &   7 & DL &  479 & N3769L & JFK & ATL & 127 &  760 & 6 & 15 & 2013-12-25 06:00:00\\\\\n\t 2013 & 12 & 25 & 615 & 615 &  0 &  802 &  818 & -16 & US & 1963 & N169UW & EWR & CLT &  87 &  529 & 6 & 15 & 2013-12-25 06:00:00\\\\\n\t 2013 & 12 & 25 & 620 & 615 &  5 &  818 &  817 &   1 & US &  840 & N151UW & JFK & CLT &  96 &  541 & 6 & 15 & 2013-12-25 06:00:00\\\\\n\t 2013 & 12 & 25 & 621 & 610 & 11 &  902 &  905 &  -3 & UA & 1627 & N76269 & EWR & PBI & 142 & 1023 & 6 & 10 & 2013-12-25 06:00:00\\\\\n\t 2013 & 12 & 25 & 627 & 625 &  2 & 1010 & 1009 &   1 & US &  690 & N672AW & EWR & PHX & 288 & 2133 & 6 & 25 & 2013-12-25 06:00:00\\\\\n\t 2013 & 12 & 25 & 628 & 630 & -2 &  932 &  938 &  -6 & B6 &  929 & N712JB & JFK & RSW & 162 & 1074 & 6 & 30 & 2013-12-25 06:00:00\\\\\n\t 2013 & 12 & 25 & 628 & 630 & -2 &  949 &  919 &  30 & B6 & 1099 & N571JB & LGA & MCO & 136 &  950 & 6 & 30 & 2013-12-25 06:00:00\\\\\n\t 2013 & 12 & 25 & 630 & 631 & -1 &  924 &  958 & -34 & UA &  398 & N505UA & JFK & LAX & 335 & 2475 & 6 & 31 & 2013-12-25 06:00:00\\\\\n\t 2013 & 12 & 25 & 632 & 635 & -3 &  927 &  929 &  -2 & B6 &  525 & N556JB & JFK & TPA & 151 & 1005 & 6 & 35 & 2013-12-25 06:00:00\\\\\n\t 2013 & 12 & 25 & 632 & 620 & 12 &  922 &  919 &   3 & UA &  596 & N556UA & EWR & TPA & 147 &  997 & 6 & 20 & 2013-12-25 06:00:00\\\\\n\t 2013 & 12 & 25 & 635 & 614 & 21 &  921 &  925 &  -4 & UA & 1701 & N38417 & EWR & FLL & 151 & 1065 & 6 & 14 & 2013-12-25 06:00:00\\\\\n\t 2013 & 12 & 25 & 643 & 630 & 13 &  904 &  859 &   5 & DL &  807 & N977AT & EWR & ATL & 115 &  746 & 6 & 30 & 2013-12-25 06:00:00\\\\\n\t ⋮ & ⋮ & ⋮ & ⋮ & ⋮ & ⋮ & ⋮ & ⋮ & ⋮ & ⋮ & ⋮ & ⋮ & ⋮ & ⋮ & ⋮ & ⋮ & ⋮ & ⋮ & ⋮\\\\\n\t 2013 & 12 & 25 & 2126 & 2129 &  -3 &   24 &   22 &   2 & B6 & 2043 & N599JB & EWR & PBI & 144 & 1023 & 21 & 29 & 2013-12-25 21:00:00\\\\\n\t 2013 & 12 & 25 & 2129 & 2053 &  36 &    1 & 2333 &  28 & EV & 4388 & N17984 & EWR & JAX & 133 &  820 & 20 & 53 & 2013-12-25 20:00:00\\\\\n\t 2013 & 12 & 25 & 2130 & 2135 &  -5 &   25 &   55 & -30 & AA &  185 & N332AA & JFK & LAX & 328 & 2475 & 21 & 35 & 2013-12-25 21:00:00\\\\\n\t 2013 & 12 & 25 & 2130 & 2115 &  15 & 2322 & 2315 &   7 & MQ & 3384 & N520MQ & LGA & CLT &  90 &  544 & 21 & 15 & 2013-12-25 21:00:00\\\\\n\t 2013 & 12 & 25 & 2131 & 2046 &  45 &   24 & 2349 &  35 & UA &  236 & N406UA & EWR & TPA & 151 &  997 & 20 & 46 & 2013-12-25 20:00:00\\\\\n\t 2013 & 12 & 25 & 2140 & 2141 &  -1 &   44 &   37 &   7 & B6 &  425 & N579JB & JFK & TPA & 160 & 1005 & 21 & 41 & 2013-12-25 21:00:00\\\\\n\t 2013 & 12 & 25 & 2144 & 2145 &  -1 &   27 &   19 &   8 & B6 & 2227 & N273JB & EWR & MCO & 144 &  937 & 21 & 45 & 2013-12-25 21:00:00\\\\\n\t 2013 & 12 & 25 & 2149 & 2155 &  -6 & 2328 & 2334 &  -6 & B6 &  985 & N339JB & JFK & RDU &  80 &  427 & 21 & 55 & 2013-12-25 21:00:00\\\\\n\t 2013 & 12 & 25 & 2150 & 2159 &  -9 &  103 &   45 &  18 & B6 & 1183 & N634JB & JFK & MCO & 151 &  944 & 21 & 59 & 2013-12-25 21:00:00\\\\\n\t 2013 & 12 & 25 & 2152 & 2155 &  -3 &  100 &   56 &   4 & B6 & 1901 & N665JB & JFK & FLL & 154 & 1069 & 21 & 55 & 2013-12-25 21:00:00\\\\\n\t 2013 & 12 & 25 & 2153 & 2155 &  -2 &   50 &   46 &   4 & B6 & 2053 & N613JB & JFK & PBI & 148 & 1028 & 21 & 55 & 2013-12-25 21:00:00\\\\\n\t 2013 & 12 & 25 & 2153 & 2135 &  18 &   22 &   19 &   3 & B6 &  611 & N519JB & JFK & LAS & 305 & 2248 & 21 & 35 & 2013-12-25 21:00:00\\\\\n\t 2013 & 12 & 25 & 2153 & 2030 &  83 &   46 & 2347 &  59 & UA & 1682 & N78524 & EWR & FLL & 151 & 1065 & 20 & 30 & 2013-12-25 20:00:00\\\\\n\t 2013 & 12 & 25 & 2203 & 2136 &  27 & 2327 & 2259 &  28 & B6 &  702 & N198JB & JFK & BUF &  59 &  301 & 21 & 36 & 2013-12-25 21:00:00\\\\\n\t 2013 & 12 & 25 & 2203 & 2130 &  33 & 2309 & 2245 &  24 & MQ & 3621 & N844MQ & JFK & DCA &  42 &  213 & 21 & 30 & 2013-12-25 21:00:00\\\\\n\t 2013 & 12 & 25 & 2219 & 2110 &  69 &  102 & 2339 &  83 & B6 &  775 & N258JB & JFK & MSY & 192 & 1182 & 21 & 10 & 2013-12-25 21:00:00\\\\\n\t 2013 & 12 & 25 & 2231 & 2219 &  12 &  311 &  304 &   7 & B6 & 1203 & N618JB & JFK & SJU & 194 & 1598 & 22 & 19 & 2013-12-25 22:00:00\\\\\n\t 2013 & 12 & 25 & 2302 & 2245 &  17 &   15 &    3 &  12 & B6 &  486 & N203JB & JFK & ROC &  54 &  264 & 22 & 45 & 2013-12-25 22:00:00\\\\\n\t 2013 & 12 & 25 & 2308 & 2245 &  23 &   10 & 2355 &  15 & B6 &  234 & N316JB & JFK & BTV &  43 &  266 & 22 & 45 & 2013-12-25 22:00:00\\\\\n\t 2013 & 12 & 25 & 2312 & 2250 &  22 &   10 & 2356 &  14 & B6 & 1816 & N358JB & JFK & SYR &  44 &  209 & 22 & 50 & 2013-12-25 22:00:00\\\\\n\t 2013 & 12 & 25 & 2314 & 2245 &  29 &   15 & 2353 &  22 & B6 &  108 & N279JB & JFK & PWM &  46 &  273 & 22 & 45 & 2013-12-25 22:00:00\\\\\n\t 2013 & 12 & 25 & 2315 & 2330 & -15 &  348 &  409 & -21 & B6 & 1389 & N554JB & EWR & SJU & 199 & 1608 & 23 & 30 & 2013-12-25 23:00:00\\\\\n\t 2013 & 12 & 25 & 2352 & 2359 &  -7 &  429 &  440 & -11 & B6 & 1503 & N531JB & JFK & SJU & 198 & 1598 & 23 & 59 & 2013-12-25 23:00:00\\\\\n\t 2013 & 12 & 25 & 2353 & 2355 &  -2 &  442 &  438 &   4 & DL & 2380 & N713TW & JFK & SJU & 196 & 1598 & 23 & 55 & 2013-12-25 23:00:00\\\\\n\t 2013 & 12 & 25 & 2357 & 2359 &  -2 &  446 &  445 &   1 & B6 &  745 & N636JB & JFK & PSE & 204 & 1617 & 23 & 59 & 2013-12-25 23:00:00\\\\\n\t 2013 & 12 & 25 & 2357 & 2359 &  -2 &  433 &  437 &  -4 & B6 &  839 & N784JB & JFK & BQN & 194 & 1576 & 23 & 59 & 2013-12-25 23:00:00\\\\\n\t 2013 & 12 & 25 &   NA & 1630 &  NA &   NA & 1838 &  NA & DL & 2231 & N312US & LGA & DTW &  NA &  502 & 16 & 30 & 2013-12-25 16:00:00\\\\\n\t 2013 & 12 & 25 &   NA & 1525 &  NA &   NA & 1720 &  NA & MQ & 2840 & N8EGMQ & LGA & STL &  NA &  888 & 15 & 25 & 2013-12-25 15:00:00\\\\\n\t 2013 & 12 & 25 &   NA & 1100 &  NA &   NA & 1210 &  NA & MQ & 3230 & N524MQ & JFK & DCA &  NA &  213 & 11 &  0 & 2013-12-25 11:00:00\\\\\n\t 2013 & 12 & 25 &   NA & 1930 &  NA &   NA & 2115 &  NA & MQ & 3535 & N509MQ & JFK & CMH &  NA &  483 & 19 & 30 & 2013-12-25 19:00:00\\\\\n\\end{tabular}\n",
            "text/markdown": "\nA tibble: 719 × 19\n\n| year &lt;int&gt; | month &lt;int&gt; | day &lt;int&gt; | dep_time &lt;int&gt; | sched_dep_time &lt;int&gt; | dep_delay &lt;dbl&gt; | arr_time &lt;int&gt; | sched_arr_time &lt;int&gt; | arr_delay &lt;dbl&gt; | carrier &lt;chr&gt; | flight &lt;int&gt; | tailnum &lt;chr&gt; | origin &lt;chr&gt; | dest &lt;chr&gt; | air_time &lt;dbl&gt; | distance &lt;dbl&gt; | hour &lt;dbl&gt; | minute &lt;dbl&gt; | time_hour &lt;dttm&gt; |\n|---|---|---|---|---|---|---|---|---|---|---|---|---|---|---|---|---|---|---|\n| 2013 | 12 | 25 | 456 | 500 | -4 |  649 |  651 |  -2 | US | 1895 | N156UW | EWR | CLT |  98 |  529 | 5 |  0 | 2013-12-25 05:00:00 |\n| 2013 | 12 | 25 | 524 | 515 |  9 |  805 |  814 |  -9 | UA | 1016 | N32404 | EWR | IAH | 203 | 1400 | 5 | 15 | 2013-12-25 05:00:00 |\n| 2013 | 12 | 25 | 542 | 540 |  2 |  832 |  850 | -18 | AA | 2243 | N5EBAA | JFK | MIA | 146 | 1089 | 5 | 40 | 2013-12-25 05:00:00 |\n| 2013 | 12 | 25 | 546 | 550 | -4 | 1022 | 1027 |  -5 | B6 |  939 | N665JB | JFK | BQN | 191 | 1576 | 5 | 50 | 2013-12-25 05:00:00 |\n| 2013 | 12 | 25 | 556 | 600 | -4 |  730 |  745 | -15 | AA |  301 | N3JLAA | LGA | ORD | 123 |  733 | 6 |  0 | 2013-12-25 06:00:00 |\n| 2013 | 12 | 25 | 557 | 600 | -3 |  743 |  752 |  -9 | DL |  731 | N369NB | LGA | DTW |  88 |  502 | 6 |  0 | 2013-12-25 06:00:00 |\n| 2013 | 12 | 25 | 557 | 600 | -3 |  818 |  831 | -13 | DL |  904 | N397DA | LGA | ATL | 118 |  762 | 6 |  0 | 2013-12-25 06:00:00 |\n| 2013 | 12 | 25 | 559 | 600 | -1 |  855 |  856 |  -1 | B6 |  371 | N608JB | LGA | FLL | 147 | 1076 | 6 |  0 | 2013-12-25 06:00:00 |\n| 2013 | 12 | 25 | 559 | 600 | -1 |  849 |  855 |  -6 | B6 |  605 | N536JB | EWR | FLL | 149 | 1065 | 6 |  0 | 2013-12-25 06:00:00 |\n| 2013 | 12 | 25 | 600 | 600 |  0 |  850 |  846 |   4 | B6 |  583 | N746JB | JFK | MCO | 137 |  944 | 6 |  0 | 2013-12-25 06:00:00 |\n| 2013 | 12 | 25 | 600 | 600 |  0 |  715 |  723 |  -8 | EV | 5747 | N835AS | LGA | IAD |  47 |  229 | 6 |  0 | 2013-12-25 06:00:00 |\n| 2013 | 12 | 25 | 601 | 600 |  1 |  855 |  905 | -10 | AA | 1175 | N3EJAA | LGA | MIA | 152 | 1096 | 6 |  0 | 2013-12-25 06:00:00 |\n| 2013 | 12 | 25 | 601 | 600 |  1 |  846 |  849 |  -3 | B6 |  353 | N766JB | JFK | PBI | 143 | 1028 | 6 |  0 | 2013-12-25 06:00:00 |\n| 2013 | 12 | 25 | 604 | 611 | -7 | 1051 | 1055 |  -4 | B6 | 1403 | N779JB | JFK | SJU | 190 | 1598 | 6 | 11 | 2013-12-25 06:00:00 |\n| 2013 | 12 | 25 | 605 | 600 |  5 |  912 |  937 | -25 | UA |  303 | N596UA | JFK | SFO | 345 | 2586 | 6 |  0 | 2013-12-25 06:00:00 |\n| 2013 | 12 | 25 | 610 | 610 |  0 |  922 |  915 |   7 | AA | 1205 | N5BTAA | EWR | MIA | 145 | 1085 | 6 | 10 | 2013-12-25 06:00:00 |\n| 2013 | 12 | 25 | 610 | 605 |  5 |  718 |  723 |  -5 | EV | 6177 | N11189 | EWR | IAD |  44 |  212 | 6 |  5 | 2013-12-25 06:00:00 |\n| 2013 | 12 | 25 | 611 | 611 |  0 |  908 |  912 |  -4 | B6 |  601 | N804JB | JFK | FLL | 153 | 1069 | 6 | 11 | 2013-12-25 06:00:00 |\n| 2013 | 12 | 25 | 612 | 615 | -3 |  859 |  852 |   7 | DL |  479 | N3769L | JFK | ATL | 127 |  760 | 6 | 15 | 2013-12-25 06:00:00 |\n| 2013 | 12 | 25 | 615 | 615 |  0 |  802 |  818 | -16 | US | 1963 | N169UW | EWR | CLT |  87 |  529 | 6 | 15 | 2013-12-25 06:00:00 |\n| 2013 | 12 | 25 | 620 | 615 |  5 |  818 |  817 |   1 | US |  840 | N151UW | JFK | CLT |  96 |  541 | 6 | 15 | 2013-12-25 06:00:00 |\n| 2013 | 12 | 25 | 621 | 610 | 11 |  902 |  905 |  -3 | UA | 1627 | N76269 | EWR | PBI | 142 | 1023 | 6 | 10 | 2013-12-25 06:00:00 |\n| 2013 | 12 | 25 | 627 | 625 |  2 | 1010 | 1009 |   1 | US |  690 | N672AW | EWR | PHX | 288 | 2133 | 6 | 25 | 2013-12-25 06:00:00 |\n| 2013 | 12 | 25 | 628 | 630 | -2 |  932 |  938 |  -6 | B6 |  929 | N712JB | JFK | RSW | 162 | 1074 | 6 | 30 | 2013-12-25 06:00:00 |\n| 2013 | 12 | 25 | 628 | 630 | -2 |  949 |  919 |  30 | B6 | 1099 | N571JB | LGA | MCO | 136 |  950 | 6 | 30 | 2013-12-25 06:00:00 |\n| 2013 | 12 | 25 | 630 | 631 | -1 |  924 |  958 | -34 | UA |  398 | N505UA | JFK | LAX | 335 | 2475 | 6 | 31 | 2013-12-25 06:00:00 |\n| 2013 | 12 | 25 | 632 | 635 | -3 |  927 |  929 |  -2 | B6 |  525 | N556JB | JFK | TPA | 151 | 1005 | 6 | 35 | 2013-12-25 06:00:00 |\n| 2013 | 12 | 25 | 632 | 620 | 12 |  922 |  919 |   3 | UA |  596 | N556UA | EWR | TPA | 147 |  997 | 6 | 20 | 2013-12-25 06:00:00 |\n| 2013 | 12 | 25 | 635 | 614 | 21 |  921 |  925 |  -4 | UA | 1701 | N38417 | EWR | FLL | 151 | 1065 | 6 | 14 | 2013-12-25 06:00:00 |\n| 2013 | 12 | 25 | 643 | 630 | 13 |  904 |  859 |   5 | DL |  807 | N977AT | EWR | ATL | 115 |  746 | 6 | 30 | 2013-12-25 06:00:00 |\n| ⋮ | ⋮ | ⋮ | ⋮ | ⋮ | ⋮ | ⋮ | ⋮ | ⋮ | ⋮ | ⋮ | ⋮ | ⋮ | ⋮ | ⋮ | ⋮ | ⋮ | ⋮ | ⋮ |\n| 2013 | 12 | 25 | 2126 | 2129 |  -3 |   24 |   22 |   2 | B6 | 2043 | N599JB | EWR | PBI | 144 | 1023 | 21 | 29 | 2013-12-25 21:00:00 |\n| 2013 | 12 | 25 | 2129 | 2053 |  36 |    1 | 2333 |  28 | EV | 4388 | N17984 | EWR | JAX | 133 |  820 | 20 | 53 | 2013-12-25 20:00:00 |\n| 2013 | 12 | 25 | 2130 | 2135 |  -5 |   25 |   55 | -30 | AA |  185 | N332AA | JFK | LAX | 328 | 2475 | 21 | 35 | 2013-12-25 21:00:00 |\n| 2013 | 12 | 25 | 2130 | 2115 |  15 | 2322 | 2315 |   7 | MQ | 3384 | N520MQ | LGA | CLT |  90 |  544 | 21 | 15 | 2013-12-25 21:00:00 |\n| 2013 | 12 | 25 | 2131 | 2046 |  45 |   24 | 2349 |  35 | UA |  236 | N406UA | EWR | TPA | 151 |  997 | 20 | 46 | 2013-12-25 20:00:00 |\n| 2013 | 12 | 25 | 2140 | 2141 |  -1 |   44 |   37 |   7 | B6 |  425 | N579JB | JFK | TPA | 160 | 1005 | 21 | 41 | 2013-12-25 21:00:00 |\n| 2013 | 12 | 25 | 2144 | 2145 |  -1 |   27 |   19 |   8 | B6 | 2227 | N273JB | EWR | MCO | 144 |  937 | 21 | 45 | 2013-12-25 21:00:00 |\n| 2013 | 12 | 25 | 2149 | 2155 |  -6 | 2328 | 2334 |  -6 | B6 |  985 | N339JB | JFK | RDU |  80 |  427 | 21 | 55 | 2013-12-25 21:00:00 |\n| 2013 | 12 | 25 | 2150 | 2159 |  -9 |  103 |   45 |  18 | B6 | 1183 | N634JB | JFK | MCO | 151 |  944 | 21 | 59 | 2013-12-25 21:00:00 |\n| 2013 | 12 | 25 | 2152 | 2155 |  -3 |  100 |   56 |   4 | B6 | 1901 | N665JB | JFK | FLL | 154 | 1069 | 21 | 55 | 2013-12-25 21:00:00 |\n| 2013 | 12 | 25 | 2153 | 2155 |  -2 |   50 |   46 |   4 | B6 | 2053 | N613JB | JFK | PBI | 148 | 1028 | 21 | 55 | 2013-12-25 21:00:00 |\n| 2013 | 12 | 25 | 2153 | 2135 |  18 |   22 |   19 |   3 | B6 |  611 | N519JB | JFK | LAS | 305 | 2248 | 21 | 35 | 2013-12-25 21:00:00 |\n| 2013 | 12 | 25 | 2153 | 2030 |  83 |   46 | 2347 |  59 | UA | 1682 | N78524 | EWR | FLL | 151 | 1065 | 20 | 30 | 2013-12-25 20:00:00 |\n| 2013 | 12 | 25 | 2203 | 2136 |  27 | 2327 | 2259 |  28 | B6 |  702 | N198JB | JFK | BUF |  59 |  301 | 21 | 36 | 2013-12-25 21:00:00 |\n| 2013 | 12 | 25 | 2203 | 2130 |  33 | 2309 | 2245 |  24 | MQ | 3621 | N844MQ | JFK | DCA |  42 |  213 | 21 | 30 | 2013-12-25 21:00:00 |\n| 2013 | 12 | 25 | 2219 | 2110 |  69 |  102 | 2339 |  83 | B6 |  775 | N258JB | JFK | MSY | 192 | 1182 | 21 | 10 | 2013-12-25 21:00:00 |\n| 2013 | 12 | 25 | 2231 | 2219 |  12 |  311 |  304 |   7 | B6 | 1203 | N618JB | JFK | SJU | 194 | 1598 | 22 | 19 | 2013-12-25 22:00:00 |\n| 2013 | 12 | 25 | 2302 | 2245 |  17 |   15 |    3 |  12 | B6 |  486 | N203JB | JFK | ROC |  54 |  264 | 22 | 45 | 2013-12-25 22:00:00 |\n| 2013 | 12 | 25 | 2308 | 2245 |  23 |   10 | 2355 |  15 | B6 |  234 | N316JB | JFK | BTV |  43 |  266 | 22 | 45 | 2013-12-25 22:00:00 |\n| 2013 | 12 | 25 | 2312 | 2250 |  22 |   10 | 2356 |  14 | B6 | 1816 | N358JB | JFK | SYR |  44 |  209 | 22 | 50 | 2013-12-25 22:00:00 |\n| 2013 | 12 | 25 | 2314 | 2245 |  29 |   15 | 2353 |  22 | B6 |  108 | N279JB | JFK | PWM |  46 |  273 | 22 | 45 | 2013-12-25 22:00:00 |\n| 2013 | 12 | 25 | 2315 | 2330 | -15 |  348 |  409 | -21 | B6 | 1389 | N554JB | EWR | SJU | 199 | 1608 | 23 | 30 | 2013-12-25 23:00:00 |\n| 2013 | 12 | 25 | 2352 | 2359 |  -7 |  429 |  440 | -11 | B6 | 1503 | N531JB | JFK | SJU | 198 | 1598 | 23 | 59 | 2013-12-25 23:00:00 |\n| 2013 | 12 | 25 | 2353 | 2355 |  -2 |  442 |  438 |   4 | DL | 2380 | N713TW | JFK | SJU | 196 | 1598 | 23 | 55 | 2013-12-25 23:00:00 |\n| 2013 | 12 | 25 | 2357 | 2359 |  -2 |  446 |  445 |   1 | B6 |  745 | N636JB | JFK | PSE | 204 | 1617 | 23 | 59 | 2013-12-25 23:00:00 |\n| 2013 | 12 | 25 | 2357 | 2359 |  -2 |  433 |  437 |  -4 | B6 |  839 | N784JB | JFK | BQN | 194 | 1576 | 23 | 59 | 2013-12-25 23:00:00 |\n| 2013 | 12 | 25 |   NA | 1630 |  NA |   NA | 1838 |  NA | DL | 2231 | N312US | LGA | DTW |  NA |  502 | 16 | 30 | 2013-12-25 16:00:00 |\n| 2013 | 12 | 25 |   NA | 1525 |  NA |   NA | 1720 |  NA | MQ | 2840 | N8EGMQ | LGA | STL |  NA |  888 | 15 | 25 | 2013-12-25 15:00:00 |\n| 2013 | 12 | 25 |   NA | 1100 |  NA |   NA | 1210 |  NA | MQ | 3230 | N524MQ | JFK | DCA |  NA |  213 | 11 |  0 | 2013-12-25 11:00:00 |\n| 2013 | 12 | 25 |   NA | 1930 |  NA |   NA | 2115 |  NA | MQ | 3535 | N509MQ | JFK | CMH |  NA |  483 | 19 | 30 | 2013-12-25 19:00:00 |\n\n",
            "text/html": [
              "<table>\n",
              "<caption>A tibble: 719 × 19</caption>\n",
              "<thead>\n",
              "\t<tr><th scope=col>year</th><th scope=col>month</th><th scope=col>day</th><th scope=col>dep_time</th><th scope=col>sched_dep_time</th><th scope=col>dep_delay</th><th scope=col>arr_time</th><th scope=col>sched_arr_time</th><th scope=col>arr_delay</th><th scope=col>carrier</th><th scope=col>flight</th><th scope=col>tailnum</th><th scope=col>origin</th><th scope=col>dest</th><th scope=col>air_time</th><th scope=col>distance</th><th scope=col>hour</th><th scope=col>minute</th><th scope=col>time_hour</th></tr>\n",
              "\t<tr><th scope=col>&lt;int&gt;</th><th scope=col>&lt;int&gt;</th><th scope=col>&lt;int&gt;</th><th scope=col>&lt;int&gt;</th><th scope=col>&lt;int&gt;</th><th scope=col>&lt;dbl&gt;</th><th scope=col>&lt;int&gt;</th><th scope=col>&lt;int&gt;</th><th scope=col>&lt;dbl&gt;</th><th scope=col>&lt;chr&gt;</th><th scope=col>&lt;int&gt;</th><th scope=col>&lt;chr&gt;</th><th scope=col>&lt;chr&gt;</th><th scope=col>&lt;chr&gt;</th><th scope=col>&lt;dbl&gt;</th><th scope=col>&lt;dbl&gt;</th><th scope=col>&lt;dbl&gt;</th><th scope=col>&lt;dbl&gt;</th><th scope=col>&lt;dttm&gt;</th></tr>\n",
              "</thead>\n",
              "<tbody>\n",
              "\t<tr><td>2013</td><td>12</td><td>25</td><td>456</td><td>500</td><td>-4</td><td> 649</td><td> 651</td><td> -2</td><td>US</td><td>1895</td><td>N156UW</td><td>EWR</td><td>CLT</td><td> 98</td><td> 529</td><td>5</td><td> 0</td><td>2013-12-25 05:00:00</td></tr>\n",
              "\t<tr><td>2013</td><td>12</td><td>25</td><td>524</td><td>515</td><td> 9</td><td> 805</td><td> 814</td><td> -9</td><td>UA</td><td>1016</td><td>N32404</td><td>EWR</td><td>IAH</td><td>203</td><td>1400</td><td>5</td><td>15</td><td>2013-12-25 05:00:00</td></tr>\n",
              "\t<tr><td>2013</td><td>12</td><td>25</td><td>542</td><td>540</td><td> 2</td><td> 832</td><td> 850</td><td>-18</td><td>AA</td><td>2243</td><td>N5EBAA</td><td>JFK</td><td>MIA</td><td>146</td><td>1089</td><td>5</td><td>40</td><td>2013-12-25 05:00:00</td></tr>\n",
              "\t<tr><td>2013</td><td>12</td><td>25</td><td>546</td><td>550</td><td>-4</td><td>1022</td><td>1027</td><td> -5</td><td>B6</td><td> 939</td><td>N665JB</td><td>JFK</td><td>BQN</td><td>191</td><td>1576</td><td>5</td><td>50</td><td>2013-12-25 05:00:00</td></tr>\n",
              "\t<tr><td>2013</td><td>12</td><td>25</td><td>556</td><td>600</td><td>-4</td><td> 730</td><td> 745</td><td>-15</td><td>AA</td><td> 301</td><td>N3JLAA</td><td>LGA</td><td>ORD</td><td>123</td><td> 733</td><td>6</td><td> 0</td><td>2013-12-25 06:00:00</td></tr>\n",
              "\t<tr><td>2013</td><td>12</td><td>25</td><td>557</td><td>600</td><td>-3</td><td> 743</td><td> 752</td><td> -9</td><td>DL</td><td> 731</td><td>N369NB</td><td>LGA</td><td>DTW</td><td> 88</td><td> 502</td><td>6</td><td> 0</td><td>2013-12-25 06:00:00</td></tr>\n",
              "\t<tr><td>2013</td><td>12</td><td>25</td><td>557</td><td>600</td><td>-3</td><td> 818</td><td> 831</td><td>-13</td><td>DL</td><td> 904</td><td>N397DA</td><td>LGA</td><td>ATL</td><td>118</td><td> 762</td><td>6</td><td> 0</td><td>2013-12-25 06:00:00</td></tr>\n",
              "\t<tr><td>2013</td><td>12</td><td>25</td><td>559</td><td>600</td><td>-1</td><td> 855</td><td> 856</td><td> -1</td><td>B6</td><td> 371</td><td>N608JB</td><td>LGA</td><td>FLL</td><td>147</td><td>1076</td><td>6</td><td> 0</td><td>2013-12-25 06:00:00</td></tr>\n",
              "\t<tr><td>2013</td><td>12</td><td>25</td><td>559</td><td>600</td><td>-1</td><td> 849</td><td> 855</td><td> -6</td><td>B6</td><td> 605</td><td>N536JB</td><td>EWR</td><td>FLL</td><td>149</td><td>1065</td><td>6</td><td> 0</td><td>2013-12-25 06:00:00</td></tr>\n",
              "\t<tr><td>2013</td><td>12</td><td>25</td><td>600</td><td>600</td><td> 0</td><td> 850</td><td> 846</td><td>  4</td><td>B6</td><td> 583</td><td>N746JB</td><td>JFK</td><td>MCO</td><td>137</td><td> 944</td><td>6</td><td> 0</td><td>2013-12-25 06:00:00</td></tr>\n",
              "\t<tr><td>2013</td><td>12</td><td>25</td><td>600</td><td>600</td><td> 0</td><td> 715</td><td> 723</td><td> -8</td><td>EV</td><td>5747</td><td>N835AS</td><td>LGA</td><td>IAD</td><td> 47</td><td> 229</td><td>6</td><td> 0</td><td>2013-12-25 06:00:00</td></tr>\n",
              "\t<tr><td>2013</td><td>12</td><td>25</td><td>601</td><td>600</td><td> 1</td><td> 855</td><td> 905</td><td>-10</td><td>AA</td><td>1175</td><td>N3EJAA</td><td>LGA</td><td>MIA</td><td>152</td><td>1096</td><td>6</td><td> 0</td><td>2013-12-25 06:00:00</td></tr>\n",
              "\t<tr><td>2013</td><td>12</td><td>25</td><td>601</td><td>600</td><td> 1</td><td> 846</td><td> 849</td><td> -3</td><td>B6</td><td> 353</td><td>N766JB</td><td>JFK</td><td>PBI</td><td>143</td><td>1028</td><td>6</td><td> 0</td><td>2013-12-25 06:00:00</td></tr>\n",
              "\t<tr><td>2013</td><td>12</td><td>25</td><td>604</td><td>611</td><td>-7</td><td>1051</td><td>1055</td><td> -4</td><td>B6</td><td>1403</td><td>N779JB</td><td>JFK</td><td>SJU</td><td>190</td><td>1598</td><td>6</td><td>11</td><td>2013-12-25 06:00:00</td></tr>\n",
              "\t<tr><td>2013</td><td>12</td><td>25</td><td>605</td><td>600</td><td> 5</td><td> 912</td><td> 937</td><td>-25</td><td>UA</td><td> 303</td><td>N596UA</td><td>JFK</td><td>SFO</td><td>345</td><td>2586</td><td>6</td><td> 0</td><td>2013-12-25 06:00:00</td></tr>\n",
              "\t<tr><td>2013</td><td>12</td><td>25</td><td>610</td><td>610</td><td> 0</td><td> 922</td><td> 915</td><td>  7</td><td>AA</td><td>1205</td><td>N5BTAA</td><td>EWR</td><td>MIA</td><td>145</td><td>1085</td><td>6</td><td>10</td><td>2013-12-25 06:00:00</td></tr>\n",
              "\t<tr><td>2013</td><td>12</td><td>25</td><td>610</td><td>605</td><td> 5</td><td> 718</td><td> 723</td><td> -5</td><td>EV</td><td>6177</td><td>N11189</td><td>EWR</td><td>IAD</td><td> 44</td><td> 212</td><td>6</td><td> 5</td><td>2013-12-25 06:00:00</td></tr>\n",
              "\t<tr><td>2013</td><td>12</td><td>25</td><td>611</td><td>611</td><td> 0</td><td> 908</td><td> 912</td><td> -4</td><td>B6</td><td> 601</td><td>N804JB</td><td>JFK</td><td>FLL</td><td>153</td><td>1069</td><td>6</td><td>11</td><td>2013-12-25 06:00:00</td></tr>\n",
              "\t<tr><td>2013</td><td>12</td><td>25</td><td>612</td><td>615</td><td>-3</td><td> 859</td><td> 852</td><td>  7</td><td>DL</td><td> 479</td><td>N3769L</td><td>JFK</td><td>ATL</td><td>127</td><td> 760</td><td>6</td><td>15</td><td>2013-12-25 06:00:00</td></tr>\n",
              "\t<tr><td>2013</td><td>12</td><td>25</td><td>615</td><td>615</td><td> 0</td><td> 802</td><td> 818</td><td>-16</td><td>US</td><td>1963</td><td>N169UW</td><td>EWR</td><td>CLT</td><td> 87</td><td> 529</td><td>6</td><td>15</td><td>2013-12-25 06:00:00</td></tr>\n",
              "\t<tr><td>2013</td><td>12</td><td>25</td><td>620</td><td>615</td><td> 5</td><td> 818</td><td> 817</td><td>  1</td><td>US</td><td> 840</td><td>N151UW</td><td>JFK</td><td>CLT</td><td> 96</td><td> 541</td><td>6</td><td>15</td><td>2013-12-25 06:00:00</td></tr>\n",
              "\t<tr><td>2013</td><td>12</td><td>25</td><td>621</td><td>610</td><td>11</td><td> 902</td><td> 905</td><td> -3</td><td>UA</td><td>1627</td><td>N76269</td><td>EWR</td><td>PBI</td><td>142</td><td>1023</td><td>6</td><td>10</td><td>2013-12-25 06:00:00</td></tr>\n",
              "\t<tr><td>2013</td><td>12</td><td>25</td><td>627</td><td>625</td><td> 2</td><td>1010</td><td>1009</td><td>  1</td><td>US</td><td> 690</td><td>N672AW</td><td>EWR</td><td>PHX</td><td>288</td><td>2133</td><td>6</td><td>25</td><td>2013-12-25 06:00:00</td></tr>\n",
              "\t<tr><td>2013</td><td>12</td><td>25</td><td>628</td><td>630</td><td>-2</td><td> 932</td><td> 938</td><td> -6</td><td>B6</td><td> 929</td><td>N712JB</td><td>JFK</td><td>RSW</td><td>162</td><td>1074</td><td>6</td><td>30</td><td>2013-12-25 06:00:00</td></tr>\n",
              "\t<tr><td>2013</td><td>12</td><td>25</td><td>628</td><td>630</td><td>-2</td><td> 949</td><td> 919</td><td> 30</td><td>B6</td><td>1099</td><td>N571JB</td><td>LGA</td><td>MCO</td><td>136</td><td> 950</td><td>6</td><td>30</td><td>2013-12-25 06:00:00</td></tr>\n",
              "\t<tr><td>2013</td><td>12</td><td>25</td><td>630</td><td>631</td><td>-1</td><td> 924</td><td> 958</td><td>-34</td><td>UA</td><td> 398</td><td>N505UA</td><td>JFK</td><td>LAX</td><td>335</td><td>2475</td><td>6</td><td>31</td><td>2013-12-25 06:00:00</td></tr>\n",
              "\t<tr><td>2013</td><td>12</td><td>25</td><td>632</td><td>635</td><td>-3</td><td> 927</td><td> 929</td><td> -2</td><td>B6</td><td> 525</td><td>N556JB</td><td>JFK</td><td>TPA</td><td>151</td><td>1005</td><td>6</td><td>35</td><td>2013-12-25 06:00:00</td></tr>\n",
              "\t<tr><td>2013</td><td>12</td><td>25</td><td>632</td><td>620</td><td>12</td><td> 922</td><td> 919</td><td>  3</td><td>UA</td><td> 596</td><td>N556UA</td><td>EWR</td><td>TPA</td><td>147</td><td> 997</td><td>6</td><td>20</td><td>2013-12-25 06:00:00</td></tr>\n",
              "\t<tr><td>2013</td><td>12</td><td>25</td><td>635</td><td>614</td><td>21</td><td> 921</td><td> 925</td><td> -4</td><td>UA</td><td>1701</td><td>N38417</td><td>EWR</td><td>FLL</td><td>151</td><td>1065</td><td>6</td><td>14</td><td>2013-12-25 06:00:00</td></tr>\n",
              "\t<tr><td>2013</td><td>12</td><td>25</td><td>643</td><td>630</td><td>13</td><td> 904</td><td> 859</td><td>  5</td><td>DL</td><td> 807</td><td>N977AT</td><td>EWR</td><td>ATL</td><td>115</td><td> 746</td><td>6</td><td>30</td><td>2013-12-25 06:00:00</td></tr>\n",
              "\t<tr><td>⋮</td><td>⋮</td><td>⋮</td><td>⋮</td><td>⋮</td><td>⋮</td><td>⋮</td><td>⋮</td><td>⋮</td><td>⋮</td><td>⋮</td><td>⋮</td><td>⋮</td><td>⋮</td><td>⋮</td><td>⋮</td><td>⋮</td><td>⋮</td><td>⋮</td></tr>\n",
              "\t<tr><td>2013</td><td>12</td><td>25</td><td>2126</td><td>2129</td><td> -3</td><td>  24</td><td>  22</td><td>  2</td><td>B6</td><td>2043</td><td>N599JB</td><td>EWR</td><td>PBI</td><td>144</td><td>1023</td><td>21</td><td>29</td><td>2013-12-25 21:00:00</td></tr>\n",
              "\t<tr><td>2013</td><td>12</td><td>25</td><td>2129</td><td>2053</td><td> 36</td><td>   1</td><td>2333</td><td> 28</td><td>EV</td><td>4388</td><td>N17984</td><td>EWR</td><td>JAX</td><td>133</td><td> 820</td><td>20</td><td>53</td><td>2013-12-25 20:00:00</td></tr>\n",
              "\t<tr><td>2013</td><td>12</td><td>25</td><td>2130</td><td>2135</td><td> -5</td><td>  25</td><td>  55</td><td>-30</td><td>AA</td><td> 185</td><td>N332AA</td><td>JFK</td><td>LAX</td><td>328</td><td>2475</td><td>21</td><td>35</td><td>2013-12-25 21:00:00</td></tr>\n",
              "\t<tr><td>2013</td><td>12</td><td>25</td><td>2130</td><td>2115</td><td> 15</td><td>2322</td><td>2315</td><td>  7</td><td>MQ</td><td>3384</td><td>N520MQ</td><td>LGA</td><td>CLT</td><td> 90</td><td> 544</td><td>21</td><td>15</td><td>2013-12-25 21:00:00</td></tr>\n",
              "\t<tr><td>2013</td><td>12</td><td>25</td><td>2131</td><td>2046</td><td> 45</td><td>  24</td><td>2349</td><td> 35</td><td>UA</td><td> 236</td><td>N406UA</td><td>EWR</td><td>TPA</td><td>151</td><td> 997</td><td>20</td><td>46</td><td>2013-12-25 20:00:00</td></tr>\n",
              "\t<tr><td>2013</td><td>12</td><td>25</td><td>2140</td><td>2141</td><td> -1</td><td>  44</td><td>  37</td><td>  7</td><td>B6</td><td> 425</td><td>N579JB</td><td>JFK</td><td>TPA</td><td>160</td><td>1005</td><td>21</td><td>41</td><td>2013-12-25 21:00:00</td></tr>\n",
              "\t<tr><td>2013</td><td>12</td><td>25</td><td>2144</td><td>2145</td><td> -1</td><td>  27</td><td>  19</td><td>  8</td><td>B6</td><td>2227</td><td>N273JB</td><td>EWR</td><td>MCO</td><td>144</td><td> 937</td><td>21</td><td>45</td><td>2013-12-25 21:00:00</td></tr>\n",
              "\t<tr><td>2013</td><td>12</td><td>25</td><td>2149</td><td>2155</td><td> -6</td><td>2328</td><td>2334</td><td> -6</td><td>B6</td><td> 985</td><td>N339JB</td><td>JFK</td><td>RDU</td><td> 80</td><td> 427</td><td>21</td><td>55</td><td>2013-12-25 21:00:00</td></tr>\n",
              "\t<tr><td>2013</td><td>12</td><td>25</td><td>2150</td><td>2159</td><td> -9</td><td> 103</td><td>  45</td><td> 18</td><td>B6</td><td>1183</td><td>N634JB</td><td>JFK</td><td>MCO</td><td>151</td><td> 944</td><td>21</td><td>59</td><td>2013-12-25 21:00:00</td></tr>\n",
              "\t<tr><td>2013</td><td>12</td><td>25</td><td>2152</td><td>2155</td><td> -3</td><td> 100</td><td>  56</td><td>  4</td><td>B6</td><td>1901</td><td>N665JB</td><td>JFK</td><td>FLL</td><td>154</td><td>1069</td><td>21</td><td>55</td><td>2013-12-25 21:00:00</td></tr>\n",
              "\t<tr><td>2013</td><td>12</td><td>25</td><td>2153</td><td>2155</td><td> -2</td><td>  50</td><td>  46</td><td>  4</td><td>B6</td><td>2053</td><td>N613JB</td><td>JFK</td><td>PBI</td><td>148</td><td>1028</td><td>21</td><td>55</td><td>2013-12-25 21:00:00</td></tr>\n",
              "\t<tr><td>2013</td><td>12</td><td>25</td><td>2153</td><td>2135</td><td> 18</td><td>  22</td><td>  19</td><td>  3</td><td>B6</td><td> 611</td><td>N519JB</td><td>JFK</td><td>LAS</td><td>305</td><td>2248</td><td>21</td><td>35</td><td>2013-12-25 21:00:00</td></tr>\n",
              "\t<tr><td>2013</td><td>12</td><td>25</td><td>2153</td><td>2030</td><td> 83</td><td>  46</td><td>2347</td><td> 59</td><td>UA</td><td>1682</td><td>N78524</td><td>EWR</td><td>FLL</td><td>151</td><td>1065</td><td>20</td><td>30</td><td>2013-12-25 20:00:00</td></tr>\n",
              "\t<tr><td>2013</td><td>12</td><td>25</td><td>2203</td><td>2136</td><td> 27</td><td>2327</td><td>2259</td><td> 28</td><td>B6</td><td> 702</td><td>N198JB</td><td>JFK</td><td>BUF</td><td> 59</td><td> 301</td><td>21</td><td>36</td><td>2013-12-25 21:00:00</td></tr>\n",
              "\t<tr><td>2013</td><td>12</td><td>25</td><td>2203</td><td>2130</td><td> 33</td><td>2309</td><td>2245</td><td> 24</td><td>MQ</td><td>3621</td><td>N844MQ</td><td>JFK</td><td>DCA</td><td> 42</td><td> 213</td><td>21</td><td>30</td><td>2013-12-25 21:00:00</td></tr>\n",
              "\t<tr><td>2013</td><td>12</td><td>25</td><td>2219</td><td>2110</td><td> 69</td><td> 102</td><td>2339</td><td> 83</td><td>B6</td><td> 775</td><td>N258JB</td><td>JFK</td><td>MSY</td><td>192</td><td>1182</td><td>21</td><td>10</td><td>2013-12-25 21:00:00</td></tr>\n",
              "\t<tr><td>2013</td><td>12</td><td>25</td><td>2231</td><td>2219</td><td> 12</td><td> 311</td><td> 304</td><td>  7</td><td>B6</td><td>1203</td><td>N618JB</td><td>JFK</td><td>SJU</td><td>194</td><td>1598</td><td>22</td><td>19</td><td>2013-12-25 22:00:00</td></tr>\n",
              "\t<tr><td>2013</td><td>12</td><td>25</td><td>2302</td><td>2245</td><td> 17</td><td>  15</td><td>   3</td><td> 12</td><td>B6</td><td> 486</td><td>N203JB</td><td>JFK</td><td>ROC</td><td> 54</td><td> 264</td><td>22</td><td>45</td><td>2013-12-25 22:00:00</td></tr>\n",
              "\t<tr><td>2013</td><td>12</td><td>25</td><td>2308</td><td>2245</td><td> 23</td><td>  10</td><td>2355</td><td> 15</td><td>B6</td><td> 234</td><td>N316JB</td><td>JFK</td><td>BTV</td><td> 43</td><td> 266</td><td>22</td><td>45</td><td>2013-12-25 22:00:00</td></tr>\n",
              "\t<tr><td>2013</td><td>12</td><td>25</td><td>2312</td><td>2250</td><td> 22</td><td>  10</td><td>2356</td><td> 14</td><td>B6</td><td>1816</td><td>N358JB</td><td>JFK</td><td>SYR</td><td> 44</td><td> 209</td><td>22</td><td>50</td><td>2013-12-25 22:00:00</td></tr>\n",
              "\t<tr><td>2013</td><td>12</td><td>25</td><td>2314</td><td>2245</td><td> 29</td><td>  15</td><td>2353</td><td> 22</td><td>B6</td><td> 108</td><td>N279JB</td><td>JFK</td><td>PWM</td><td> 46</td><td> 273</td><td>22</td><td>45</td><td>2013-12-25 22:00:00</td></tr>\n",
              "\t<tr><td>2013</td><td>12</td><td>25</td><td>2315</td><td>2330</td><td>-15</td><td> 348</td><td> 409</td><td>-21</td><td>B6</td><td>1389</td><td>N554JB</td><td>EWR</td><td>SJU</td><td>199</td><td>1608</td><td>23</td><td>30</td><td>2013-12-25 23:00:00</td></tr>\n",
              "\t<tr><td>2013</td><td>12</td><td>25</td><td>2352</td><td>2359</td><td> -7</td><td> 429</td><td> 440</td><td>-11</td><td>B6</td><td>1503</td><td>N531JB</td><td>JFK</td><td>SJU</td><td>198</td><td>1598</td><td>23</td><td>59</td><td>2013-12-25 23:00:00</td></tr>\n",
              "\t<tr><td>2013</td><td>12</td><td>25</td><td>2353</td><td>2355</td><td> -2</td><td> 442</td><td> 438</td><td>  4</td><td>DL</td><td>2380</td><td>N713TW</td><td>JFK</td><td>SJU</td><td>196</td><td>1598</td><td>23</td><td>55</td><td>2013-12-25 23:00:00</td></tr>\n",
              "\t<tr><td>2013</td><td>12</td><td>25</td><td>2357</td><td>2359</td><td> -2</td><td> 446</td><td> 445</td><td>  1</td><td>B6</td><td> 745</td><td>N636JB</td><td>JFK</td><td>PSE</td><td>204</td><td>1617</td><td>23</td><td>59</td><td>2013-12-25 23:00:00</td></tr>\n",
              "\t<tr><td>2013</td><td>12</td><td>25</td><td>2357</td><td>2359</td><td> -2</td><td> 433</td><td> 437</td><td> -4</td><td>B6</td><td> 839</td><td>N784JB</td><td>JFK</td><td>BQN</td><td>194</td><td>1576</td><td>23</td><td>59</td><td>2013-12-25 23:00:00</td></tr>\n",
              "\t<tr><td>2013</td><td>12</td><td>25</td><td>  NA</td><td>1630</td><td> NA</td><td>  NA</td><td>1838</td><td> NA</td><td>DL</td><td>2231</td><td>N312US</td><td>LGA</td><td>DTW</td><td> NA</td><td> 502</td><td>16</td><td>30</td><td>2013-12-25 16:00:00</td></tr>\n",
              "\t<tr><td>2013</td><td>12</td><td>25</td><td>  NA</td><td>1525</td><td> NA</td><td>  NA</td><td>1720</td><td> NA</td><td>MQ</td><td>2840</td><td>N8EGMQ</td><td>LGA</td><td>STL</td><td> NA</td><td> 888</td><td>15</td><td>25</td><td>2013-12-25 15:00:00</td></tr>\n",
              "\t<tr><td>2013</td><td>12</td><td>25</td><td>  NA</td><td>1100</td><td> NA</td><td>  NA</td><td>1210</td><td> NA</td><td>MQ</td><td>3230</td><td>N524MQ</td><td>JFK</td><td>DCA</td><td> NA</td><td> 213</td><td>11</td><td> 0</td><td>2013-12-25 11:00:00</td></tr>\n",
              "\t<tr><td>2013</td><td>12</td><td>25</td><td>  NA</td><td>1930</td><td> NA</td><td>  NA</td><td>2115</td><td> NA</td><td>MQ</td><td>3535</td><td>N509MQ</td><td>JFK</td><td>CMH</td><td> NA</td><td> 483</td><td>19</td><td>30</td><td>2013-12-25 19:00:00</td></tr>\n",
              "</tbody>\n",
              "</table>\n"
            ]
          },
          "metadata": {
            "tags": []
          }
        },
        {
          "output_type": "display_data",
          "data": {
            "text/plain": [
              "[1] 719"
            ],
            "text/latex": "719",
            "text/markdown": "719",
            "text/html": [
              "719"
            ]
          },
          "metadata": {
            "tags": []
          }
        }
      ]
    },
    {
      "cell_type": "markdown",
      "metadata": {
        "id": "qXC2rQYdNynH",
        "colab_type": "text"
      },
      "source": [
        "Para utilizar el filtrado de manera efectiva, debe saber cómo seleccionar las observaciones que desea utilizando los operadores de comparación. R proporciona el conjunto estándar: \n",
        "\n",
        "- `>`\n",
        "- `> =`\n",
        "- `<`\n",
        "- `<=`\n",
        "- `! =` (No es igual)\n",
        "- `== (igual)`.\n",
        "\n",
        "Sin embargo, hay un problema común que puede encontrar al usar `==`: números de punto flotante. ¡Estos resultados pueden sorprenderte!"
      ]
    },
    {
      "cell_type": "code",
      "metadata": {
        "id": "MeSeFHAdNEK8",
        "colab_type": "code",
        "colab": {
          "base_uri": "https://localhost:8080/",
          "height": 51
        },
        "outputId": "550850fb-3a5c-4f78-8fb1-a5c8fe9e5d64"
      },
      "source": [
        "sqrt(2)^2 == 2\n",
        "\n",
        "1/49 * 49 == 1\n"
      ],
      "execution_count": 11,
      "outputs": [
        {
          "output_type": "display_data",
          "data": {
            "text/plain": [
              "[1] FALSE"
            ],
            "text/latex": "FALSE",
            "text/markdown": "FALSE",
            "text/html": [
              "FALSE"
            ]
          },
          "metadata": {
            "tags": []
          }
        },
        {
          "output_type": "display_data",
          "data": {
            "text/plain": [
              "[1] FALSE"
            ],
            "text/latex": "FALSE",
            "text/markdown": "FALSE",
            "text/html": [
              "FALSE"
            ]
          },
          "metadata": {
            "tags": []
          }
        }
      ]
    },
    {
      "cell_type": "markdown",
      "metadata": {
        "id": "RxN6djGAPTOO",
        "colab_type": "text"
      },
      "source": [
        "Las computadoras usan aritmética de precisión finita (¡obviamente no pueden almacenar un número infinito de dígitos!), Así que recuerde que cada número que ve es una aproximación. En lugar de confiar en `==`, use `near ()`:"
      ]
    },
    {
      "cell_type": "code",
      "metadata": {
        "id": "ur2mZjiRO9LP",
        "colab_type": "code",
        "colab": {
          "base_uri": "https://localhost:8080/",
          "height": 51
        },
        "outputId": "fb946d03-b97c-4ef2-8375-13a09a390971"
      },
      "source": [
        "near(sqrt(2) ^ 2, 2)\n",
        "\n",
        "near(1 / 49 * 49, 1)\n"
      ],
      "execution_count": 12,
      "outputs": [
        {
          "output_type": "display_data",
          "data": {
            "text/plain": [
              "[1] TRUE"
            ],
            "text/latex": "TRUE",
            "text/markdown": "TRUE",
            "text/html": [
              "TRUE"
            ]
          },
          "metadata": {
            "tags": []
          }
        },
        {
          "output_type": "display_data",
          "data": {
            "text/plain": [
              "[1] TRUE"
            ],
            "text/latex": "TRUE",
            "text/markdown": "TRUE",
            "text/html": [
              "TRUE"
            ]
          },
          "metadata": {
            "tags": []
          }
        }
      ]
    },
    {
      "cell_type": "markdown",
      "metadata": {
        "id": "ZcCDczzmQWnu",
        "colab_type": "text"
      },
      "source": [
        "Podemos usar los operadores lógicos como múltiples argumentos de la función `filter()`. Recuerde que `&` es “and,” `|` es “or,” y `!` es “not.”. Es importante recordar que estos funcionan así\n",
        "\n",
        "\n",
        "![Imagen modificada de Wikipedia](https://github.com/tomasate/Curso0/blob/master/Img13.PNG?raw=true)\n",
        "</center>\n",
        "\n",
        "Busquemos entonces todos los vuelos de noviembre y diciembre.\n",
        "\n"
      ]
    },
    {
      "cell_type": "code",
      "metadata": {
        "id": "cYFEc01WPX7I",
        "colab_type": "code",
        "colab": {
          "base_uri": "https://localhost:8080/",
          "height": 221
        },
        "outputId": "03cc28dc-81a3-422b-a6ee-a4372e9c4444"
      },
      "source": [
        "head(filter(flights, month == 11 | month == 12))\n",
        "nrow((filter(flights, month == 11 | month == 12)))"
      ],
      "execution_count": 13,
      "outputs": [
        {
          "output_type": "display_data",
          "data": {
            "text/plain": [
              "  year month day dep_time sched_dep_time dep_delay arr_time sched_arr_time\n",
              "1 2013 11    1     5      2359             6       352       345          \n",
              "2 2013 11    1    35      2250           105       123      2356          \n",
              "3 2013 11    1   455       500            -5       641       651          \n",
              "4 2013 11    1   539       545            -6       856       827          \n",
              "5 2013 11    1   542       545            -3       831       855          \n",
              "6 2013 11    1   549       600           -11       912       923          \n",
              "  arr_delay carrier flight tailnum origin dest air_time distance hour minute\n",
              "1   7       B6       745   N568JB  JFK    PSE  205      1617     23   59    \n",
              "2  87       B6      1816   N353JB  JFK    SYR   36       209     22   50    \n",
              "3 -10       US      1895   N192UW  EWR    CLT   88       529      5    0    \n",
              "4  29       UA      1714   N38727  LGA    IAH  229      1416      5   45    \n",
              "5 -24       AA      2243   N5CLAA  JFK    MIA  147      1089      5   45    \n",
              "6 -11       UA       303   N595UA  JFK    SFO  359      2586      6    0    \n",
              "  time_hour          \n",
              "1 2013-11-01 23:00:00\n",
              "2 2013-11-01 22:00:00\n",
              "3 2013-11-01 05:00:00\n",
              "4 2013-11-01 05:00:00\n",
              "5 2013-11-01 05:00:00\n",
              "6 2013-11-01 06:00:00"
            ],
            "text/latex": "A tibble: 6 × 19\n\\begin{tabular}{lllllllllllllllllll}\n year & month & day & dep\\_time & sched\\_dep\\_time & dep\\_delay & arr\\_time & sched\\_arr\\_time & arr\\_delay & carrier & flight & tailnum & origin & dest & air\\_time & distance & hour & minute & time\\_hour\\\\\n <int> & <int> & <int> & <int> & <int> & <dbl> & <int> & <int> & <dbl> & <chr> & <int> & <chr> & <chr> & <chr> & <dbl> & <dbl> & <dbl> & <dbl> & <dttm>\\\\\n\\hline\n\t 2013 & 11 & 1 &   5 & 2359 &   6 & 352 &  345 &   7 & B6 &  745 & N568JB & JFK & PSE & 205 & 1617 & 23 & 59 & 2013-11-01 23:00:00\\\\\n\t 2013 & 11 & 1 &  35 & 2250 & 105 & 123 & 2356 &  87 & B6 & 1816 & N353JB & JFK & SYR &  36 &  209 & 22 & 50 & 2013-11-01 22:00:00\\\\\n\t 2013 & 11 & 1 & 455 &  500 &  -5 & 641 &  651 & -10 & US & 1895 & N192UW & EWR & CLT &  88 &  529 &  5 &  0 & 2013-11-01 05:00:00\\\\\n\t 2013 & 11 & 1 & 539 &  545 &  -6 & 856 &  827 &  29 & UA & 1714 & N38727 & LGA & IAH & 229 & 1416 &  5 & 45 & 2013-11-01 05:00:00\\\\\n\t 2013 & 11 & 1 & 542 &  545 &  -3 & 831 &  855 & -24 & AA & 2243 & N5CLAA & JFK & MIA & 147 & 1089 &  5 & 45 & 2013-11-01 05:00:00\\\\\n\t 2013 & 11 & 1 & 549 &  600 & -11 & 912 &  923 & -11 & UA &  303 & N595UA & JFK & SFO & 359 & 2586 &  6 &  0 & 2013-11-01 06:00:00\\\\\n\\end{tabular}\n",
            "text/markdown": "\nA tibble: 6 × 19\n\n| year &lt;int&gt; | month &lt;int&gt; | day &lt;int&gt; | dep_time &lt;int&gt; | sched_dep_time &lt;int&gt; | dep_delay &lt;dbl&gt; | arr_time &lt;int&gt; | sched_arr_time &lt;int&gt; | arr_delay &lt;dbl&gt; | carrier &lt;chr&gt; | flight &lt;int&gt; | tailnum &lt;chr&gt; | origin &lt;chr&gt; | dest &lt;chr&gt; | air_time &lt;dbl&gt; | distance &lt;dbl&gt; | hour &lt;dbl&gt; | minute &lt;dbl&gt; | time_hour &lt;dttm&gt; |\n|---|---|---|---|---|---|---|---|---|---|---|---|---|---|---|---|---|---|---|\n| 2013 | 11 | 1 |   5 | 2359 |   6 | 352 |  345 |   7 | B6 |  745 | N568JB | JFK | PSE | 205 | 1617 | 23 | 59 | 2013-11-01 23:00:00 |\n| 2013 | 11 | 1 |  35 | 2250 | 105 | 123 | 2356 |  87 | B6 | 1816 | N353JB | JFK | SYR |  36 |  209 | 22 | 50 | 2013-11-01 22:00:00 |\n| 2013 | 11 | 1 | 455 |  500 |  -5 | 641 |  651 | -10 | US | 1895 | N192UW | EWR | CLT |  88 |  529 |  5 |  0 | 2013-11-01 05:00:00 |\n| 2013 | 11 | 1 | 539 |  545 |  -6 | 856 |  827 |  29 | UA | 1714 | N38727 | LGA | IAH | 229 | 1416 |  5 | 45 | 2013-11-01 05:00:00 |\n| 2013 | 11 | 1 | 542 |  545 |  -3 | 831 |  855 | -24 | AA | 2243 | N5CLAA | JFK | MIA | 147 | 1089 |  5 | 45 | 2013-11-01 05:00:00 |\n| 2013 | 11 | 1 | 549 |  600 | -11 | 912 |  923 | -11 | UA |  303 | N595UA | JFK | SFO | 359 | 2586 |  6 |  0 | 2013-11-01 06:00:00 |\n\n",
            "text/html": [
              "<table>\n",
              "<caption>A tibble: 6 × 19</caption>\n",
              "<thead>\n",
              "\t<tr><th scope=col>year</th><th scope=col>month</th><th scope=col>day</th><th scope=col>dep_time</th><th scope=col>sched_dep_time</th><th scope=col>dep_delay</th><th scope=col>arr_time</th><th scope=col>sched_arr_time</th><th scope=col>arr_delay</th><th scope=col>carrier</th><th scope=col>flight</th><th scope=col>tailnum</th><th scope=col>origin</th><th scope=col>dest</th><th scope=col>air_time</th><th scope=col>distance</th><th scope=col>hour</th><th scope=col>minute</th><th scope=col>time_hour</th></tr>\n",
              "\t<tr><th scope=col>&lt;int&gt;</th><th scope=col>&lt;int&gt;</th><th scope=col>&lt;int&gt;</th><th scope=col>&lt;int&gt;</th><th scope=col>&lt;int&gt;</th><th scope=col>&lt;dbl&gt;</th><th scope=col>&lt;int&gt;</th><th scope=col>&lt;int&gt;</th><th scope=col>&lt;dbl&gt;</th><th scope=col>&lt;chr&gt;</th><th scope=col>&lt;int&gt;</th><th scope=col>&lt;chr&gt;</th><th scope=col>&lt;chr&gt;</th><th scope=col>&lt;chr&gt;</th><th scope=col>&lt;dbl&gt;</th><th scope=col>&lt;dbl&gt;</th><th scope=col>&lt;dbl&gt;</th><th scope=col>&lt;dbl&gt;</th><th scope=col>&lt;dttm&gt;</th></tr>\n",
              "</thead>\n",
              "<tbody>\n",
              "\t<tr><td>2013</td><td>11</td><td>1</td><td>  5</td><td>2359</td><td>  6</td><td>352</td><td> 345</td><td>  7</td><td>B6</td><td> 745</td><td>N568JB</td><td>JFK</td><td>PSE</td><td>205</td><td>1617</td><td>23</td><td>59</td><td>2013-11-01 23:00:00</td></tr>\n",
              "\t<tr><td>2013</td><td>11</td><td>1</td><td> 35</td><td>2250</td><td>105</td><td>123</td><td>2356</td><td> 87</td><td>B6</td><td>1816</td><td>N353JB</td><td>JFK</td><td>SYR</td><td> 36</td><td> 209</td><td>22</td><td>50</td><td>2013-11-01 22:00:00</td></tr>\n",
              "\t<tr><td>2013</td><td>11</td><td>1</td><td>455</td><td> 500</td><td> -5</td><td>641</td><td> 651</td><td>-10</td><td>US</td><td>1895</td><td>N192UW</td><td>EWR</td><td>CLT</td><td> 88</td><td> 529</td><td> 5</td><td> 0</td><td>2013-11-01 05:00:00</td></tr>\n",
              "\t<tr><td>2013</td><td>11</td><td>1</td><td>539</td><td> 545</td><td> -6</td><td>856</td><td> 827</td><td> 29</td><td>UA</td><td>1714</td><td>N38727</td><td>LGA</td><td>IAH</td><td>229</td><td>1416</td><td> 5</td><td>45</td><td>2013-11-01 05:00:00</td></tr>\n",
              "\t<tr><td>2013</td><td>11</td><td>1</td><td>542</td><td> 545</td><td> -3</td><td>831</td><td> 855</td><td>-24</td><td>AA</td><td>2243</td><td>N5CLAA</td><td>JFK</td><td>MIA</td><td>147</td><td>1089</td><td> 5</td><td>45</td><td>2013-11-01 05:00:00</td></tr>\n",
              "\t<tr><td>2013</td><td>11</td><td>1</td><td>549</td><td> 600</td><td>-11</td><td>912</td><td> 923</td><td>-11</td><td>UA</td><td> 303</td><td>N595UA</td><td>JFK</td><td>SFO</td><td>359</td><td>2586</td><td> 6</td><td> 0</td><td>2013-11-01 06:00:00</td></tr>\n",
              "</tbody>\n",
              "</table>\n"
            ]
          },
          "metadata": {
            "tags": []
          }
        },
        {
          "output_type": "display_data",
          "data": {
            "text/plain": [
              "[1] 55403"
            ],
            "text/latex": "55403",
            "text/markdown": "55403",
            "text/html": [
              "55403"
            ]
          },
          "metadata": {
            "tags": []
          }
        }
      ]
    },
    {
      "cell_type": "markdown",
      "metadata": {
        "id": "yi_RUlbRVCbR",
        "colab_type": "text"
      },
      "source": [
        "El orden de las operaciones no funciona como el inglés. No puede escribir `filter(flights, month == 11 | 12)`, que podría traducir literalmente en \"encuentra todos los vuelos que partieron en noviembre o diciembre\". En cambio, encuentra todos los meses que equivalen a `11 | 12`, una expresión que se evalúa como `TRUE`. En un contexto numérico (como aquí), `TRUE` se convierte en uno, por lo que encuentra todos los vuelos en enero, no en noviembre o\n",
        "Diciembre. ¡Esto es bastante confuso!"
      ]
    },
    {
      "cell_type": "code",
      "metadata": {
        "id": "SIbTp6JfToYZ",
        "colab_type": "code",
        "colab": {
          "base_uri": "https://localhost:8080/",
          "height": 221
        },
        "outputId": "d530a7b7-cda7-42a0-8956-6923be227376"
      },
      "source": [
        "head(filter(flights, month == 11 | 12))\n",
        "nrow(filter(flights, month == 11 | 12))"
      ],
      "execution_count": 14,
      "outputs": [
        {
          "output_type": "display_data",
          "data": {
            "text/plain": [
              "  year month day dep_time sched_dep_time dep_delay arr_time sched_arr_time\n",
              "1 2013 1     1   517      515             2         830      819          \n",
              "2 2013 1     1   533      529             4         850      830          \n",
              "3 2013 1     1   542      540             2         923      850          \n",
              "4 2013 1     1   544      545            -1        1004     1022          \n",
              "5 2013 1     1   554      600            -6         812      837          \n",
              "6 2013 1     1   554      558            -4         740      728          \n",
              "  arr_delay carrier flight tailnum origin dest air_time distance hour minute\n",
              "1  11       UA      1545   N14228  EWR    IAH  227      1400     5    15    \n",
              "2  20       UA      1714   N24211  LGA    IAH  227      1416     5    29    \n",
              "3  33       AA      1141   N619AA  JFK    MIA  160      1089     5    40    \n",
              "4 -18       B6       725   N804JB  JFK    BQN  183      1576     5    45    \n",
              "5 -25       DL       461   N668DN  LGA    ATL  116       762     6     0    \n",
              "6  12       UA      1696   N39463  EWR    ORD  150       719     5    58    \n",
              "  time_hour          \n",
              "1 2013-01-01 05:00:00\n",
              "2 2013-01-01 05:00:00\n",
              "3 2013-01-01 05:00:00\n",
              "4 2013-01-01 05:00:00\n",
              "5 2013-01-01 06:00:00\n",
              "6 2013-01-01 05:00:00"
            ],
            "text/latex": "A tibble: 6 × 19\n\\begin{tabular}{lllllllllllllllllll}\n year & month & day & dep\\_time & sched\\_dep\\_time & dep\\_delay & arr\\_time & sched\\_arr\\_time & arr\\_delay & carrier & flight & tailnum & origin & dest & air\\_time & distance & hour & minute & time\\_hour\\\\\n <int> & <int> & <int> & <int> & <int> & <dbl> & <int> & <int> & <dbl> & <chr> & <int> & <chr> & <chr> & <chr> & <dbl> & <dbl> & <dbl> & <dbl> & <dttm>\\\\\n\\hline\n\t 2013 & 1 & 1 & 517 & 515 &  2 &  830 &  819 &  11 & UA & 1545 & N14228 & EWR & IAH & 227 & 1400 & 5 & 15 & 2013-01-01 05:00:00\\\\\n\t 2013 & 1 & 1 & 533 & 529 &  4 &  850 &  830 &  20 & UA & 1714 & N24211 & LGA & IAH & 227 & 1416 & 5 & 29 & 2013-01-01 05:00:00\\\\\n\t 2013 & 1 & 1 & 542 & 540 &  2 &  923 &  850 &  33 & AA & 1141 & N619AA & JFK & MIA & 160 & 1089 & 5 & 40 & 2013-01-01 05:00:00\\\\\n\t 2013 & 1 & 1 & 544 & 545 & -1 & 1004 & 1022 & -18 & B6 &  725 & N804JB & JFK & BQN & 183 & 1576 & 5 & 45 & 2013-01-01 05:00:00\\\\\n\t 2013 & 1 & 1 & 554 & 600 & -6 &  812 &  837 & -25 & DL &  461 & N668DN & LGA & ATL & 116 &  762 & 6 &  0 & 2013-01-01 06:00:00\\\\\n\t 2013 & 1 & 1 & 554 & 558 & -4 &  740 &  728 &  12 & UA & 1696 & N39463 & EWR & ORD & 150 &  719 & 5 & 58 & 2013-01-01 05:00:00\\\\\n\\end{tabular}\n",
            "text/markdown": "\nA tibble: 6 × 19\n\n| year &lt;int&gt; | month &lt;int&gt; | day &lt;int&gt; | dep_time &lt;int&gt; | sched_dep_time &lt;int&gt; | dep_delay &lt;dbl&gt; | arr_time &lt;int&gt; | sched_arr_time &lt;int&gt; | arr_delay &lt;dbl&gt; | carrier &lt;chr&gt; | flight &lt;int&gt; | tailnum &lt;chr&gt; | origin &lt;chr&gt; | dest &lt;chr&gt; | air_time &lt;dbl&gt; | distance &lt;dbl&gt; | hour &lt;dbl&gt; | minute &lt;dbl&gt; | time_hour &lt;dttm&gt; |\n|---|---|---|---|---|---|---|---|---|---|---|---|---|---|---|---|---|---|---|\n| 2013 | 1 | 1 | 517 | 515 |  2 |  830 |  819 |  11 | UA | 1545 | N14228 | EWR | IAH | 227 | 1400 | 5 | 15 | 2013-01-01 05:00:00 |\n| 2013 | 1 | 1 | 533 | 529 |  4 |  850 |  830 |  20 | UA | 1714 | N24211 | LGA | IAH | 227 | 1416 | 5 | 29 | 2013-01-01 05:00:00 |\n| 2013 | 1 | 1 | 542 | 540 |  2 |  923 |  850 |  33 | AA | 1141 | N619AA | JFK | MIA | 160 | 1089 | 5 | 40 | 2013-01-01 05:00:00 |\n| 2013 | 1 | 1 | 544 | 545 | -1 | 1004 | 1022 | -18 | B6 |  725 | N804JB | JFK | BQN | 183 | 1576 | 5 | 45 | 2013-01-01 05:00:00 |\n| 2013 | 1 | 1 | 554 | 600 | -6 |  812 |  837 | -25 | DL |  461 | N668DN | LGA | ATL | 116 |  762 | 6 |  0 | 2013-01-01 06:00:00 |\n| 2013 | 1 | 1 | 554 | 558 | -4 |  740 |  728 |  12 | UA | 1696 | N39463 | EWR | ORD | 150 |  719 | 5 | 58 | 2013-01-01 05:00:00 |\n\n",
            "text/html": [
              "<table>\n",
              "<caption>A tibble: 6 × 19</caption>\n",
              "<thead>\n",
              "\t<tr><th scope=col>year</th><th scope=col>month</th><th scope=col>day</th><th scope=col>dep_time</th><th scope=col>sched_dep_time</th><th scope=col>dep_delay</th><th scope=col>arr_time</th><th scope=col>sched_arr_time</th><th scope=col>arr_delay</th><th scope=col>carrier</th><th scope=col>flight</th><th scope=col>tailnum</th><th scope=col>origin</th><th scope=col>dest</th><th scope=col>air_time</th><th scope=col>distance</th><th scope=col>hour</th><th scope=col>minute</th><th scope=col>time_hour</th></tr>\n",
              "\t<tr><th scope=col>&lt;int&gt;</th><th scope=col>&lt;int&gt;</th><th scope=col>&lt;int&gt;</th><th scope=col>&lt;int&gt;</th><th scope=col>&lt;int&gt;</th><th scope=col>&lt;dbl&gt;</th><th scope=col>&lt;int&gt;</th><th scope=col>&lt;int&gt;</th><th scope=col>&lt;dbl&gt;</th><th scope=col>&lt;chr&gt;</th><th scope=col>&lt;int&gt;</th><th scope=col>&lt;chr&gt;</th><th scope=col>&lt;chr&gt;</th><th scope=col>&lt;chr&gt;</th><th scope=col>&lt;dbl&gt;</th><th scope=col>&lt;dbl&gt;</th><th scope=col>&lt;dbl&gt;</th><th scope=col>&lt;dbl&gt;</th><th scope=col>&lt;dttm&gt;</th></tr>\n",
              "</thead>\n",
              "<tbody>\n",
              "\t<tr><td>2013</td><td>1</td><td>1</td><td>517</td><td>515</td><td> 2</td><td> 830</td><td> 819</td><td> 11</td><td>UA</td><td>1545</td><td>N14228</td><td>EWR</td><td>IAH</td><td>227</td><td>1400</td><td>5</td><td>15</td><td>2013-01-01 05:00:00</td></tr>\n",
              "\t<tr><td>2013</td><td>1</td><td>1</td><td>533</td><td>529</td><td> 4</td><td> 850</td><td> 830</td><td> 20</td><td>UA</td><td>1714</td><td>N24211</td><td>LGA</td><td>IAH</td><td>227</td><td>1416</td><td>5</td><td>29</td><td>2013-01-01 05:00:00</td></tr>\n",
              "\t<tr><td>2013</td><td>1</td><td>1</td><td>542</td><td>540</td><td> 2</td><td> 923</td><td> 850</td><td> 33</td><td>AA</td><td>1141</td><td>N619AA</td><td>JFK</td><td>MIA</td><td>160</td><td>1089</td><td>5</td><td>40</td><td>2013-01-01 05:00:00</td></tr>\n",
              "\t<tr><td>2013</td><td>1</td><td>1</td><td>544</td><td>545</td><td>-1</td><td>1004</td><td>1022</td><td>-18</td><td>B6</td><td> 725</td><td>N804JB</td><td>JFK</td><td>BQN</td><td>183</td><td>1576</td><td>5</td><td>45</td><td>2013-01-01 05:00:00</td></tr>\n",
              "\t<tr><td>2013</td><td>1</td><td>1</td><td>554</td><td>600</td><td>-6</td><td> 812</td><td> 837</td><td>-25</td><td>DL</td><td> 461</td><td>N668DN</td><td>LGA</td><td>ATL</td><td>116</td><td> 762</td><td>6</td><td> 0</td><td>2013-01-01 06:00:00</td></tr>\n",
              "\t<tr><td>2013</td><td>1</td><td>1</td><td>554</td><td>558</td><td>-4</td><td> 740</td><td> 728</td><td> 12</td><td>UA</td><td>1696</td><td>N39463</td><td>EWR</td><td>ORD</td><td>150</td><td> 719</td><td>5</td><td>58</td><td>2013-01-01 05:00:00</td></tr>\n",
              "</tbody>\n",
              "</table>\n"
            ]
          },
          "metadata": {
            "tags": []
          }
        },
        {
          "output_type": "display_data",
          "data": {
            "text/plain": [
              "[1] 336776"
            ],
            "text/latex": "336776",
            "text/markdown": "336776",
            "text/html": [
              "336776"
            ]
          },
          "metadata": {
            "tags": []
          }
        }
      ]
    },
    {
      "cell_type": "markdown",
      "metadata": {
        "id": "N0iXjN0AWbIe",
        "colab_type": "text"
      },
      "source": [
        "Una abreviatura útil para este problema es `x %in% y`. Esto seleccionará cada fila donde x es uno de los valores en y. Podríamos usarlo para reescribir el código anterior:"
      ]
    },
    {
      "cell_type": "code",
      "metadata": {
        "id": "98tnV0AJWDeh",
        "colab_type": "code",
        "colab": {
          "base_uri": "https://localhost:8080/",
          "height": 221
        },
        "outputId": "fef2a778-2f64-4266-9a07-9759b9e5e888"
      },
      "source": [
        "head(nov_dec <- filter(flights, month %in% c(11, 12)))\n",
        "nrow(nov_dec)"
      ],
      "execution_count": 15,
      "outputs": [
        {
          "output_type": "display_data",
          "data": {
            "text/plain": [
              "  year month day dep_time sched_dep_time dep_delay arr_time sched_arr_time\n",
              "1 2013 11    1     5      2359             6       352       345          \n",
              "2 2013 11    1    35      2250           105       123      2356          \n",
              "3 2013 11    1   455       500            -5       641       651          \n",
              "4 2013 11    1   539       545            -6       856       827          \n",
              "5 2013 11    1   542       545            -3       831       855          \n",
              "6 2013 11    1   549       600           -11       912       923          \n",
              "  arr_delay carrier flight tailnum origin dest air_time distance hour minute\n",
              "1   7       B6       745   N568JB  JFK    PSE  205      1617     23   59    \n",
              "2  87       B6      1816   N353JB  JFK    SYR   36       209     22   50    \n",
              "3 -10       US      1895   N192UW  EWR    CLT   88       529      5    0    \n",
              "4  29       UA      1714   N38727  LGA    IAH  229      1416      5   45    \n",
              "5 -24       AA      2243   N5CLAA  JFK    MIA  147      1089      5   45    \n",
              "6 -11       UA       303   N595UA  JFK    SFO  359      2586      6    0    \n",
              "  time_hour          \n",
              "1 2013-11-01 23:00:00\n",
              "2 2013-11-01 22:00:00\n",
              "3 2013-11-01 05:00:00\n",
              "4 2013-11-01 05:00:00\n",
              "5 2013-11-01 05:00:00\n",
              "6 2013-11-01 06:00:00"
            ],
            "text/latex": "A tibble: 6 × 19\n\\begin{tabular}{lllllllllllllllllll}\n year & month & day & dep\\_time & sched\\_dep\\_time & dep\\_delay & arr\\_time & sched\\_arr\\_time & arr\\_delay & carrier & flight & tailnum & origin & dest & air\\_time & distance & hour & minute & time\\_hour\\\\\n <int> & <int> & <int> & <int> & <int> & <dbl> & <int> & <int> & <dbl> & <chr> & <int> & <chr> & <chr> & <chr> & <dbl> & <dbl> & <dbl> & <dbl> & <dttm>\\\\\n\\hline\n\t 2013 & 11 & 1 &   5 & 2359 &   6 & 352 &  345 &   7 & B6 &  745 & N568JB & JFK & PSE & 205 & 1617 & 23 & 59 & 2013-11-01 23:00:00\\\\\n\t 2013 & 11 & 1 &  35 & 2250 & 105 & 123 & 2356 &  87 & B6 & 1816 & N353JB & JFK & SYR &  36 &  209 & 22 & 50 & 2013-11-01 22:00:00\\\\\n\t 2013 & 11 & 1 & 455 &  500 &  -5 & 641 &  651 & -10 & US & 1895 & N192UW & EWR & CLT &  88 &  529 &  5 &  0 & 2013-11-01 05:00:00\\\\\n\t 2013 & 11 & 1 & 539 &  545 &  -6 & 856 &  827 &  29 & UA & 1714 & N38727 & LGA & IAH & 229 & 1416 &  5 & 45 & 2013-11-01 05:00:00\\\\\n\t 2013 & 11 & 1 & 542 &  545 &  -3 & 831 &  855 & -24 & AA & 2243 & N5CLAA & JFK & MIA & 147 & 1089 &  5 & 45 & 2013-11-01 05:00:00\\\\\n\t 2013 & 11 & 1 & 549 &  600 & -11 & 912 &  923 & -11 & UA &  303 & N595UA & JFK & SFO & 359 & 2586 &  6 &  0 & 2013-11-01 06:00:00\\\\\n\\end{tabular}\n",
            "text/markdown": "\nA tibble: 6 × 19\n\n| year &lt;int&gt; | month &lt;int&gt; | day &lt;int&gt; | dep_time &lt;int&gt; | sched_dep_time &lt;int&gt; | dep_delay &lt;dbl&gt; | arr_time &lt;int&gt; | sched_arr_time &lt;int&gt; | arr_delay &lt;dbl&gt; | carrier &lt;chr&gt; | flight &lt;int&gt; | tailnum &lt;chr&gt; | origin &lt;chr&gt; | dest &lt;chr&gt; | air_time &lt;dbl&gt; | distance &lt;dbl&gt; | hour &lt;dbl&gt; | minute &lt;dbl&gt; | time_hour &lt;dttm&gt; |\n|---|---|---|---|---|---|---|---|---|---|---|---|---|---|---|---|---|---|---|\n| 2013 | 11 | 1 |   5 | 2359 |   6 | 352 |  345 |   7 | B6 |  745 | N568JB | JFK | PSE | 205 | 1617 | 23 | 59 | 2013-11-01 23:00:00 |\n| 2013 | 11 | 1 |  35 | 2250 | 105 | 123 | 2356 |  87 | B6 | 1816 | N353JB | JFK | SYR |  36 |  209 | 22 | 50 | 2013-11-01 22:00:00 |\n| 2013 | 11 | 1 | 455 |  500 |  -5 | 641 |  651 | -10 | US | 1895 | N192UW | EWR | CLT |  88 |  529 |  5 |  0 | 2013-11-01 05:00:00 |\n| 2013 | 11 | 1 | 539 |  545 |  -6 | 856 |  827 |  29 | UA | 1714 | N38727 | LGA | IAH | 229 | 1416 |  5 | 45 | 2013-11-01 05:00:00 |\n| 2013 | 11 | 1 | 542 |  545 |  -3 | 831 |  855 | -24 | AA | 2243 | N5CLAA | JFK | MIA | 147 | 1089 |  5 | 45 | 2013-11-01 05:00:00 |\n| 2013 | 11 | 1 | 549 |  600 | -11 | 912 |  923 | -11 | UA |  303 | N595UA | JFK | SFO | 359 | 2586 |  6 |  0 | 2013-11-01 06:00:00 |\n\n",
            "text/html": [
              "<table>\n",
              "<caption>A tibble: 6 × 19</caption>\n",
              "<thead>\n",
              "\t<tr><th scope=col>year</th><th scope=col>month</th><th scope=col>day</th><th scope=col>dep_time</th><th scope=col>sched_dep_time</th><th scope=col>dep_delay</th><th scope=col>arr_time</th><th scope=col>sched_arr_time</th><th scope=col>arr_delay</th><th scope=col>carrier</th><th scope=col>flight</th><th scope=col>tailnum</th><th scope=col>origin</th><th scope=col>dest</th><th scope=col>air_time</th><th scope=col>distance</th><th scope=col>hour</th><th scope=col>minute</th><th scope=col>time_hour</th></tr>\n",
              "\t<tr><th scope=col>&lt;int&gt;</th><th scope=col>&lt;int&gt;</th><th scope=col>&lt;int&gt;</th><th scope=col>&lt;int&gt;</th><th scope=col>&lt;int&gt;</th><th scope=col>&lt;dbl&gt;</th><th scope=col>&lt;int&gt;</th><th scope=col>&lt;int&gt;</th><th scope=col>&lt;dbl&gt;</th><th scope=col>&lt;chr&gt;</th><th scope=col>&lt;int&gt;</th><th scope=col>&lt;chr&gt;</th><th scope=col>&lt;chr&gt;</th><th scope=col>&lt;chr&gt;</th><th scope=col>&lt;dbl&gt;</th><th scope=col>&lt;dbl&gt;</th><th scope=col>&lt;dbl&gt;</th><th scope=col>&lt;dbl&gt;</th><th scope=col>&lt;dttm&gt;</th></tr>\n",
              "</thead>\n",
              "<tbody>\n",
              "\t<tr><td>2013</td><td>11</td><td>1</td><td>  5</td><td>2359</td><td>  6</td><td>352</td><td> 345</td><td>  7</td><td>B6</td><td> 745</td><td>N568JB</td><td>JFK</td><td>PSE</td><td>205</td><td>1617</td><td>23</td><td>59</td><td>2013-11-01 23:00:00</td></tr>\n",
              "\t<tr><td>2013</td><td>11</td><td>1</td><td> 35</td><td>2250</td><td>105</td><td>123</td><td>2356</td><td> 87</td><td>B6</td><td>1816</td><td>N353JB</td><td>JFK</td><td>SYR</td><td> 36</td><td> 209</td><td>22</td><td>50</td><td>2013-11-01 22:00:00</td></tr>\n",
              "\t<tr><td>2013</td><td>11</td><td>1</td><td>455</td><td> 500</td><td> -5</td><td>641</td><td> 651</td><td>-10</td><td>US</td><td>1895</td><td>N192UW</td><td>EWR</td><td>CLT</td><td> 88</td><td> 529</td><td> 5</td><td> 0</td><td>2013-11-01 05:00:00</td></tr>\n",
              "\t<tr><td>2013</td><td>11</td><td>1</td><td>539</td><td> 545</td><td> -6</td><td>856</td><td> 827</td><td> 29</td><td>UA</td><td>1714</td><td>N38727</td><td>LGA</td><td>IAH</td><td>229</td><td>1416</td><td> 5</td><td>45</td><td>2013-11-01 05:00:00</td></tr>\n",
              "\t<tr><td>2013</td><td>11</td><td>1</td><td>542</td><td> 545</td><td> -3</td><td>831</td><td> 855</td><td>-24</td><td>AA</td><td>2243</td><td>N5CLAA</td><td>JFK</td><td>MIA</td><td>147</td><td>1089</td><td> 5</td><td>45</td><td>2013-11-01 05:00:00</td></tr>\n",
              "\t<tr><td>2013</td><td>11</td><td>1</td><td>549</td><td> 600</td><td>-11</td><td>912</td><td> 923</td><td>-11</td><td>UA</td><td> 303</td><td>N595UA</td><td>JFK</td><td>SFO</td><td>359</td><td>2586</td><td> 6</td><td> 0</td><td>2013-11-01 06:00:00</td></tr>\n",
              "</tbody>\n",
              "</table>\n"
            ]
          },
          "metadata": {
            "tags": []
          }
        },
        {
          "output_type": "display_data",
          "data": {
            "text/plain": [
              "[1] 55403"
            ],
            "text/latex": "55403",
            "text/markdown": "55403",
            "text/html": [
              "55403"
            ]
          },
          "metadata": {
            "tags": []
          }
        }
      ]
    },
    {
      "cell_type": "markdown",
      "metadata": {
        "id": "TnboliyLputP",
        "colab_type": "text"
      },
      "source": [
        "A veces, puede simplificar los subconjuntos complicados recordando la ley de De Morgan:\n",
        "\n",
        "- `!(x & y)` es lo mismo que `!x |!y`, \n",
        "- `!(x | y)` es lo mismo que `!x & !y`. \n",
        "\n",
        "Por ejemplo, si desea encontrar vuelos que no se retrasaron (bien sea a la llegada o salida) en más de dos horas, puede usar cualquiera de los dos filtros siguientes:"
      ]
    },
    {
      "cell_type": "code",
      "metadata": {
        "id": "2HTB0xIuWjrW",
        "colab_type": "code",
        "colab": {
          "base_uri": "https://localhost:8080/",
          "height": 1000
        },
        "outputId": "04484344-8c75-47cb-a972-719008c991a5"
      },
      "source": [
        "#filter(flights, !(arr_delay > 120 | dep_delay > 120))\n",
        "filter(flights, arr_delay <= 120, dep_delay <= 120)"
      ],
      "execution_count": 16,
      "outputs": [
        {
          "output_type": "display_data",
          "data": {
            "text/plain": [
              "       year month day dep_time sched_dep_time dep_delay arr_time sched_arr_time\n",
              "1      2013 1     1   517      515             2         830      819          \n",
              "2      2013 1     1   533      529             4         850      830          \n",
              "3      2013 1     1   542      540             2         923      850          \n",
              "4      2013 1     1   544      545            -1        1004     1022          \n",
              "5      2013 1     1   554      600            -6         812      837          \n",
              "6      2013 1     1   554      558            -4         740      728          \n",
              "7      2013 1     1   555      600            -5         913      854          \n",
              "8      2013 1     1   557      600            -3         709      723          \n",
              "9      2013 1     1   557      600            -3         838      846          \n",
              "10     2013 1     1   558      600            -2         753      745          \n",
              "11     2013 1     1   558      600            -2         849      851          \n",
              "12     2013 1     1   558      600            -2         853      856          \n",
              "13     2013 1     1   558      600            -2         924      917          \n",
              "14     2013 1     1   558      600            -2         923      937          \n",
              "15     2013 1     1   559      600            -1         941      910          \n",
              "16     2013 1     1   559      559             0         702      706          \n",
              "17     2013 1     1   559      600            -1         854      902          \n",
              "18     2013 1     1   600      600             0         851      858          \n",
              "19     2013 1     1   600      600             0         837      825          \n",
              "20     2013 1     1   601      600             1         844      850          \n",
              "21     2013 1     1   602      610            -8         812      820          \n",
              "22     2013 1     1   602      605            -3         821      805          \n",
              "23     2013 1     1   606      610            -4         858      910          \n",
              "24     2013 1     1   606      610            -4         837      845          \n",
              "25     2013 1     1   607      607             0         858      915          \n",
              "26     2013 1     1   608      600             8         807      735          \n",
              "27     2013 1     1   611      600            11         945      931          \n",
              "28     2013 1     1   613      610             3         925      921          \n",
              "29     2013 1     1   615      615             0        1039     1100          \n",
              "30     2013 1     1   615      615             0         833      842          \n",
              "⋮      ⋮    ⋮     ⋮   ⋮        ⋮              ⋮         ⋮        ⋮             \n",
              "316021 2013 9     30  2110     2055            15         51     2359          \n",
              "316022 2013 9     30  2114     2025            49       2304     2228          \n",
              "316023 2013 9     30  2115     2110             5       2246     2255          \n",
              "316024 2013 9     30  2116     2124            -8       2317     2337          \n",
              "316025 2013 9     30  2119     2005            74       2310     2212          \n",
              "316026 2013 9     30  2119     2120            -1       2330     2354          \n",
              "316027 2013 9     30  2121     2100            21       2349       14          \n",
              "316028 2013 9     30  2122     2127            -5       2226     2237          \n",
              "316029 2013 9     30  2123     2125            -2       2223     2247          \n",
              "316030 2013 9     30  2127     2129            -2       2314     2323          \n",
              "316031 2013 9     30  2128     2130            -2       2328     2359          \n",
              "316032 2013 9     30  2129     2059            30       2230     2232          \n",
              "316033 2013 9     30  2131     2140            -9       2225     2255          \n",
              "316034 2013 9     30  2140     2140             0         10       40          \n",
              "316035 2013 9     30  2142     2129            13       2250     2239          \n",
              "316036 2013 9     30  2145     2145             0        115      140          \n",
              "316037 2013 9     30  2147     2137            10         30       27          \n",
              "316038 2013 9     30  2149     2156            -7       2245     2308          \n",
              "316039 2013 9     30  2150     2159            -9       2250     2306          \n",
              "316040 2013 9     30  2203     2205            -2       2339     2331          \n",
              "316041 2013 9     30  2207     2140            27       2257     2250          \n",
              "316042 2013 9     30  2211     2059            72       2339     2242          \n",
              "316043 2013 9     30  2231     2245           -14       2335     2356          \n",
              "316044 2013 9     30  2233     2113            80        112       30          \n",
              "316045 2013 9     30  2237     2245            -8       2345     2353          \n",
              "316046 2013 9     30  2240     2245            -5       2334     2351          \n",
              "316047 2013 9     30  2240     2250           -10       2347        7          \n",
              "316048 2013 9     30  2241     2246            -5       2345        1          \n",
              "316049 2013 9     30  2307     2255            12       2359     2358          \n",
              "316050 2013 9     30  2349     2359           -10        325      350          \n",
              "       arr_delay carrier flight tailnum origin dest air_time distance hour\n",
              "1       11       UA      1545   N14228  EWR    IAH  227      1400     5   \n",
              "2       20       UA      1714   N24211  LGA    IAH  227      1416     5   \n",
              "3       33       AA      1141   N619AA  JFK    MIA  160      1089     5   \n",
              "4      -18       B6       725   N804JB  JFK    BQN  183      1576     5   \n",
              "5      -25       DL       461   N668DN  LGA    ATL  116       762     6   \n",
              "6       12       UA      1696   N39463  EWR    ORD  150       719     5   \n",
              "7       19       B6       507   N516JB  EWR    FLL  158      1065     6   \n",
              "8      -14       EV      5708   N829AS  LGA    IAD   53       229     6   \n",
              "9       -8       B6        79   N593JB  JFK    MCO  140       944     6   \n",
              "10       8       AA       301   N3ALAA  LGA    ORD  138       733     6   \n",
              "11      -2       B6        49   N793JB  JFK    PBI  149      1028     6   \n",
              "12      -3       B6        71   N657JB  JFK    TPA  158      1005     6   \n",
              "13       7       UA       194   N29129  JFK    LAX  345      2475     6   \n",
              "14     -14       UA      1124   N53441  EWR    SFO  361      2565     6   \n",
              "15      31       AA       707   N3DUAA  LGA    DFW  257      1389     6   \n",
              "16      -4       B6      1806   N708JB  JFK    BOS   44       187     5   \n",
              "17      -8       UA      1187   N76515  EWR    LAS  337      2227     6   \n",
              "18      -7       B6       371   N595JB  LGA    FLL  152      1076     6   \n",
              "19      12       MQ      4650   N542MQ  LGA    ATL  134       762     6   \n",
              "20      -6       B6       343   N644JB  EWR    PBI  147      1023     6   \n",
              "21      -8       DL      1919   N971DL  LGA    MSP  170      1020     6   \n",
              "22      16       MQ      4401   N730MQ  LGA    DTW  105       502     6   \n",
              "23     -12       AA      1895   N633AA  EWR    MIA  152      1085     6   \n",
              "24      -8       DL      1743   N3739P  JFK    ATL  128       760     6   \n",
              "25     -17       UA      1077   N53442  EWR    MIA  157      1085     6   \n",
              "26      32       MQ      3768   N9EAMQ  EWR    ORD  139       719     6   \n",
              "27      14       UA       303   N532UA  JFK    SFO  366      2586     6   \n",
              "28       4       B6       135   N635JB  JFK    RSW  175      1074     6   \n",
              "29     -21       B6       709   N794JB  JFK    SJU  182      1598     6   \n",
              "30      -9       DL       575   N326NB  EWR    ATL  120       746     6   \n",
              "⋮      ⋮         ⋮       ⋮      ⋮       ⋮      ⋮    ⋮        ⋮        ⋮   \n",
              "316021  52       B6      1205   N517JB  JFK    PDX  361      2454     20  \n",
              "316022  36       EV      4348   N11184  EWR    MSP  145      1008     20  \n",
              "316023  -9       MQ      3603   N519MQ  LGA    DTW   72       502     21  \n",
              "316024 -20       EV      4682   N14542  EWR    SDF   94       642     21  \n",
              "316025  58       EV      4321   N17984  EWR    MCI  147      1092     20  \n",
              "316026 -24       B6      1677   N358JB  JFK    JAX  113       828     21  \n",
              "316027 -25       DL      2363   N193DN  JFK    LAX  296      2475     21  \n",
              "316028 -11       EV      4372   N14902  EWR    DCA   35       199     21  \n",
              "316029 -24       EV      5489   N712EV  LGA    CHO   45       305     21  \n",
              "316030  -9       EV      3833   N16546  EWR    CLT   72       529     21  \n",
              "316031 -31       B6        97   N807JB  JFK    DEN  213      1626     21  \n",
              "316032  -2       EV      5048   N751EV  LGA    RIC   45       292     20  \n",
              "316033 -30       MQ      3621   N807MQ  JFK    DCA   36       213     21  \n",
              "316034 -30       AA       185   N335AA  JFK    LAX  298      2475     21  \n",
              "316035  11       EV      4509   N12957  EWR    PWM   47       284     21  \n",
              "316036 -25       B6      1103   N633JB  JFK    SJU  192      1598     21  \n",
              "316037   3       B6      1371   N627JB  LGA    FLL  139      1076     21  \n",
              "316038 -23       UA       523   N813UA  EWR    BOS   37       200     21  \n",
              "316039 -16       EV      3842   N10575  EWR    MHT   39       209     21  \n",
              "316040   8       EV      5311   N722EV  LGA    BGR   61       378     22  \n",
              "316041   7       MQ      3660   N532MQ  LGA    BNA   97       764     21  \n",
              "316042  57       EV      4672   N12145  EWR    STL  120       872     20  \n",
              "316043 -21       B6       108   N193JB  JFK    PWM   48       273     22  \n",
              "316044  42       UA       471   N578UA  EWR    SFO  318      2565     21  \n",
              "316045  -8       B6       234   N318JB  JFK    BTV   43       266     22  \n",
              "316046 -17       B6      1816   N354JB  JFK    SYR   41       209     22  \n",
              "316047 -20       B6      2002   N281JB  JFK    BUF   52       301     22  \n",
              "316048 -16       B6       486   N346JB  JFK    ROC   47       264     22  \n",
              "316049   1       B6       718   N565JB  JFK    BOS   33       187     22  \n",
              "316050 -25       B6       745   N516JB  JFK    PSE  196      1617     23  \n",
              "       minute time_hour          \n",
              "1      15     2013-01-01 05:00:00\n",
              "2      29     2013-01-01 05:00:00\n",
              "3      40     2013-01-01 05:00:00\n",
              "4      45     2013-01-01 05:00:00\n",
              "5       0     2013-01-01 06:00:00\n",
              "6      58     2013-01-01 05:00:00\n",
              "7       0     2013-01-01 06:00:00\n",
              "8       0     2013-01-01 06:00:00\n",
              "9       0     2013-01-01 06:00:00\n",
              "10      0     2013-01-01 06:00:00\n",
              "11      0     2013-01-01 06:00:00\n",
              "12      0     2013-01-01 06:00:00\n",
              "13      0     2013-01-01 06:00:00\n",
              "14      0     2013-01-01 06:00:00\n",
              "15      0     2013-01-01 06:00:00\n",
              "16     59     2013-01-01 05:00:00\n",
              "17      0     2013-01-01 06:00:00\n",
              "18      0     2013-01-01 06:00:00\n",
              "19      0     2013-01-01 06:00:00\n",
              "20      0     2013-01-01 06:00:00\n",
              "21     10     2013-01-01 06:00:00\n",
              "22      5     2013-01-01 06:00:00\n",
              "23     10     2013-01-01 06:00:00\n",
              "24     10     2013-01-01 06:00:00\n",
              "25      7     2013-01-01 06:00:00\n",
              "26      0     2013-01-01 06:00:00\n",
              "27      0     2013-01-01 06:00:00\n",
              "28     10     2013-01-01 06:00:00\n",
              "29     15     2013-01-01 06:00:00\n",
              "30     15     2013-01-01 06:00:00\n",
              "⋮      ⋮      ⋮                  \n",
              "316021 55     2013-09-30 20:00:00\n",
              "316022 25     2013-09-30 20:00:00\n",
              "316023 10     2013-09-30 21:00:00\n",
              "316024 24     2013-09-30 21:00:00\n",
              "316025  5     2013-09-30 20:00:00\n",
              "316026 20     2013-09-30 21:00:00\n",
              "316027  0     2013-09-30 21:00:00\n",
              "316028 27     2013-09-30 21:00:00\n",
              "316029 25     2013-09-30 21:00:00\n",
              "316030 29     2013-09-30 21:00:00\n",
              "316031 30     2013-09-30 21:00:00\n",
              "316032 59     2013-09-30 20:00:00\n",
              "316033 40     2013-09-30 21:00:00\n",
              "316034 40     2013-09-30 21:00:00\n",
              "316035 29     2013-09-30 21:00:00\n",
              "316036 45     2013-09-30 21:00:00\n",
              "316037 37     2013-09-30 21:00:00\n",
              "316038 56     2013-09-30 21:00:00\n",
              "316039 59     2013-09-30 21:00:00\n",
              "316040  5     2013-09-30 22:00:00\n",
              "316041 40     2013-09-30 21:00:00\n",
              "316042 59     2013-09-30 20:00:00\n",
              "316043 45     2013-09-30 22:00:00\n",
              "316044 13     2013-09-30 21:00:00\n",
              "316045 45     2013-09-30 22:00:00\n",
              "316046 45     2013-09-30 22:00:00\n",
              "316047 50     2013-09-30 22:00:00\n",
              "316048 46     2013-09-30 22:00:00\n",
              "316049 55     2013-09-30 22:00:00\n",
              "316050 59     2013-09-30 23:00:00"
            ],
            "text/latex": "A tibble: 316050 × 19\n\\begin{tabular}{lllllllllllllllllll}\n year & month & day & dep\\_time & sched\\_dep\\_time & dep\\_delay & arr\\_time & sched\\_arr\\_time & arr\\_delay & carrier & flight & tailnum & origin & dest & air\\_time & distance & hour & minute & time\\_hour\\\\\n <int> & <int> & <int> & <int> & <int> & <dbl> & <int> & <int> & <dbl> & <chr> & <int> & <chr> & <chr> & <chr> & <dbl> & <dbl> & <dbl> & <dbl> & <dttm>\\\\\n\\hline\n\t 2013 & 1 & 1 & 517 & 515 &  2 &  830 &  819 &  11 & UA & 1545 & N14228 & EWR & IAH & 227 & 1400 & 5 & 15 & 2013-01-01 05:00:00\\\\\n\t 2013 & 1 & 1 & 533 & 529 &  4 &  850 &  830 &  20 & UA & 1714 & N24211 & LGA & IAH & 227 & 1416 & 5 & 29 & 2013-01-01 05:00:00\\\\\n\t 2013 & 1 & 1 & 542 & 540 &  2 &  923 &  850 &  33 & AA & 1141 & N619AA & JFK & MIA & 160 & 1089 & 5 & 40 & 2013-01-01 05:00:00\\\\\n\t 2013 & 1 & 1 & 544 & 545 & -1 & 1004 & 1022 & -18 & B6 &  725 & N804JB & JFK & BQN & 183 & 1576 & 5 & 45 & 2013-01-01 05:00:00\\\\\n\t 2013 & 1 & 1 & 554 & 600 & -6 &  812 &  837 & -25 & DL &  461 & N668DN & LGA & ATL & 116 &  762 & 6 &  0 & 2013-01-01 06:00:00\\\\\n\t 2013 & 1 & 1 & 554 & 558 & -4 &  740 &  728 &  12 & UA & 1696 & N39463 & EWR & ORD & 150 &  719 & 5 & 58 & 2013-01-01 05:00:00\\\\\n\t 2013 & 1 & 1 & 555 & 600 & -5 &  913 &  854 &  19 & B6 &  507 & N516JB & EWR & FLL & 158 & 1065 & 6 &  0 & 2013-01-01 06:00:00\\\\\n\t 2013 & 1 & 1 & 557 & 600 & -3 &  709 &  723 & -14 & EV & 5708 & N829AS & LGA & IAD &  53 &  229 & 6 &  0 & 2013-01-01 06:00:00\\\\\n\t 2013 & 1 & 1 & 557 & 600 & -3 &  838 &  846 &  -8 & B6 &   79 & N593JB & JFK & MCO & 140 &  944 & 6 &  0 & 2013-01-01 06:00:00\\\\\n\t 2013 & 1 & 1 & 558 & 600 & -2 &  753 &  745 &   8 & AA &  301 & N3ALAA & LGA & ORD & 138 &  733 & 6 &  0 & 2013-01-01 06:00:00\\\\\n\t 2013 & 1 & 1 & 558 & 600 & -2 &  849 &  851 &  -2 & B6 &   49 & N793JB & JFK & PBI & 149 & 1028 & 6 &  0 & 2013-01-01 06:00:00\\\\\n\t 2013 & 1 & 1 & 558 & 600 & -2 &  853 &  856 &  -3 & B6 &   71 & N657JB & JFK & TPA & 158 & 1005 & 6 &  0 & 2013-01-01 06:00:00\\\\\n\t 2013 & 1 & 1 & 558 & 600 & -2 &  924 &  917 &   7 & UA &  194 & N29129 & JFK & LAX & 345 & 2475 & 6 &  0 & 2013-01-01 06:00:00\\\\\n\t 2013 & 1 & 1 & 558 & 600 & -2 &  923 &  937 & -14 & UA & 1124 & N53441 & EWR & SFO & 361 & 2565 & 6 &  0 & 2013-01-01 06:00:00\\\\\n\t 2013 & 1 & 1 & 559 & 600 & -1 &  941 &  910 &  31 & AA &  707 & N3DUAA & LGA & DFW & 257 & 1389 & 6 &  0 & 2013-01-01 06:00:00\\\\\n\t 2013 & 1 & 1 & 559 & 559 &  0 &  702 &  706 &  -4 & B6 & 1806 & N708JB & JFK & BOS &  44 &  187 & 5 & 59 & 2013-01-01 05:00:00\\\\\n\t 2013 & 1 & 1 & 559 & 600 & -1 &  854 &  902 &  -8 & UA & 1187 & N76515 & EWR & LAS & 337 & 2227 & 6 &  0 & 2013-01-01 06:00:00\\\\\n\t 2013 & 1 & 1 & 600 & 600 &  0 &  851 &  858 &  -7 & B6 &  371 & N595JB & LGA & FLL & 152 & 1076 & 6 &  0 & 2013-01-01 06:00:00\\\\\n\t 2013 & 1 & 1 & 600 & 600 &  0 &  837 &  825 &  12 & MQ & 4650 & N542MQ & LGA & ATL & 134 &  762 & 6 &  0 & 2013-01-01 06:00:00\\\\\n\t 2013 & 1 & 1 & 601 & 600 &  1 &  844 &  850 &  -6 & B6 &  343 & N644JB & EWR & PBI & 147 & 1023 & 6 &  0 & 2013-01-01 06:00:00\\\\\n\t 2013 & 1 & 1 & 602 & 610 & -8 &  812 &  820 &  -8 & DL & 1919 & N971DL & LGA & MSP & 170 & 1020 & 6 & 10 & 2013-01-01 06:00:00\\\\\n\t 2013 & 1 & 1 & 602 & 605 & -3 &  821 &  805 &  16 & MQ & 4401 & N730MQ & LGA & DTW & 105 &  502 & 6 &  5 & 2013-01-01 06:00:00\\\\\n\t 2013 & 1 & 1 & 606 & 610 & -4 &  858 &  910 & -12 & AA & 1895 & N633AA & EWR & MIA & 152 & 1085 & 6 & 10 & 2013-01-01 06:00:00\\\\\n\t 2013 & 1 & 1 & 606 & 610 & -4 &  837 &  845 &  -8 & DL & 1743 & N3739P & JFK & ATL & 128 &  760 & 6 & 10 & 2013-01-01 06:00:00\\\\\n\t 2013 & 1 & 1 & 607 & 607 &  0 &  858 &  915 & -17 & UA & 1077 & N53442 & EWR & MIA & 157 & 1085 & 6 &  7 & 2013-01-01 06:00:00\\\\\n\t 2013 & 1 & 1 & 608 & 600 &  8 &  807 &  735 &  32 & MQ & 3768 & N9EAMQ & EWR & ORD & 139 &  719 & 6 &  0 & 2013-01-01 06:00:00\\\\\n\t 2013 & 1 & 1 & 611 & 600 & 11 &  945 &  931 &  14 & UA &  303 & N532UA & JFK & SFO & 366 & 2586 & 6 &  0 & 2013-01-01 06:00:00\\\\\n\t 2013 & 1 & 1 & 613 & 610 &  3 &  925 &  921 &   4 & B6 &  135 & N635JB & JFK & RSW & 175 & 1074 & 6 & 10 & 2013-01-01 06:00:00\\\\\n\t 2013 & 1 & 1 & 615 & 615 &  0 & 1039 & 1100 & -21 & B6 &  709 & N794JB & JFK & SJU & 182 & 1598 & 6 & 15 & 2013-01-01 06:00:00\\\\\n\t 2013 & 1 & 1 & 615 & 615 &  0 &  833 &  842 &  -9 & DL &  575 & N326NB & EWR & ATL & 120 &  746 & 6 & 15 & 2013-01-01 06:00:00\\\\\n\t ⋮ & ⋮ & ⋮ & ⋮ & ⋮ & ⋮ & ⋮ & ⋮ & ⋮ & ⋮ & ⋮ & ⋮ & ⋮ & ⋮ & ⋮ & ⋮ & ⋮ & ⋮ & ⋮\\\\\n\t 2013 & 9 & 30 & 2110 & 2055 &  15 &   51 & 2359 &  52 & B6 & 1205 & N517JB & JFK & PDX & 361 & 2454 & 20 & 55 & 2013-09-30 20:00:00\\\\\n\t 2013 & 9 & 30 & 2114 & 2025 &  49 & 2304 & 2228 &  36 & EV & 4348 & N11184 & EWR & MSP & 145 & 1008 & 20 & 25 & 2013-09-30 20:00:00\\\\\n\t 2013 & 9 & 30 & 2115 & 2110 &   5 & 2246 & 2255 &  -9 & MQ & 3603 & N519MQ & LGA & DTW &  72 &  502 & 21 & 10 & 2013-09-30 21:00:00\\\\\n\t 2013 & 9 & 30 & 2116 & 2124 &  -8 & 2317 & 2337 & -20 & EV & 4682 & N14542 & EWR & SDF &  94 &  642 & 21 & 24 & 2013-09-30 21:00:00\\\\\n\t 2013 & 9 & 30 & 2119 & 2005 &  74 & 2310 & 2212 &  58 & EV & 4321 & N17984 & EWR & MCI & 147 & 1092 & 20 &  5 & 2013-09-30 20:00:00\\\\\n\t 2013 & 9 & 30 & 2119 & 2120 &  -1 & 2330 & 2354 & -24 & B6 & 1677 & N358JB & JFK & JAX & 113 &  828 & 21 & 20 & 2013-09-30 21:00:00\\\\\n\t 2013 & 9 & 30 & 2121 & 2100 &  21 & 2349 &   14 & -25 & DL & 2363 & N193DN & JFK & LAX & 296 & 2475 & 21 &  0 & 2013-09-30 21:00:00\\\\\n\t 2013 & 9 & 30 & 2122 & 2127 &  -5 & 2226 & 2237 & -11 & EV & 4372 & N14902 & EWR & DCA &  35 &  199 & 21 & 27 & 2013-09-30 21:00:00\\\\\n\t 2013 & 9 & 30 & 2123 & 2125 &  -2 & 2223 & 2247 & -24 & EV & 5489 & N712EV & LGA & CHO &  45 &  305 & 21 & 25 & 2013-09-30 21:00:00\\\\\n\t 2013 & 9 & 30 & 2127 & 2129 &  -2 & 2314 & 2323 &  -9 & EV & 3833 & N16546 & EWR & CLT &  72 &  529 & 21 & 29 & 2013-09-30 21:00:00\\\\\n\t 2013 & 9 & 30 & 2128 & 2130 &  -2 & 2328 & 2359 & -31 & B6 &   97 & N807JB & JFK & DEN & 213 & 1626 & 21 & 30 & 2013-09-30 21:00:00\\\\\n\t 2013 & 9 & 30 & 2129 & 2059 &  30 & 2230 & 2232 &  -2 & EV & 5048 & N751EV & LGA & RIC &  45 &  292 & 20 & 59 & 2013-09-30 20:00:00\\\\\n\t 2013 & 9 & 30 & 2131 & 2140 &  -9 & 2225 & 2255 & -30 & MQ & 3621 & N807MQ & JFK & DCA &  36 &  213 & 21 & 40 & 2013-09-30 21:00:00\\\\\n\t 2013 & 9 & 30 & 2140 & 2140 &   0 &   10 &   40 & -30 & AA &  185 & N335AA & JFK & LAX & 298 & 2475 & 21 & 40 & 2013-09-30 21:00:00\\\\\n\t 2013 & 9 & 30 & 2142 & 2129 &  13 & 2250 & 2239 &  11 & EV & 4509 & N12957 & EWR & PWM &  47 &  284 & 21 & 29 & 2013-09-30 21:00:00\\\\\n\t 2013 & 9 & 30 & 2145 & 2145 &   0 &  115 &  140 & -25 & B6 & 1103 & N633JB & JFK & SJU & 192 & 1598 & 21 & 45 & 2013-09-30 21:00:00\\\\\n\t 2013 & 9 & 30 & 2147 & 2137 &  10 &   30 &   27 &   3 & B6 & 1371 & N627JB & LGA & FLL & 139 & 1076 & 21 & 37 & 2013-09-30 21:00:00\\\\\n\t 2013 & 9 & 30 & 2149 & 2156 &  -7 & 2245 & 2308 & -23 & UA &  523 & N813UA & EWR & BOS &  37 &  200 & 21 & 56 & 2013-09-30 21:00:00\\\\\n\t 2013 & 9 & 30 & 2150 & 2159 &  -9 & 2250 & 2306 & -16 & EV & 3842 & N10575 & EWR & MHT &  39 &  209 & 21 & 59 & 2013-09-30 21:00:00\\\\\n\t 2013 & 9 & 30 & 2203 & 2205 &  -2 & 2339 & 2331 &   8 & EV & 5311 & N722EV & LGA & BGR &  61 &  378 & 22 &  5 & 2013-09-30 22:00:00\\\\\n\t 2013 & 9 & 30 & 2207 & 2140 &  27 & 2257 & 2250 &   7 & MQ & 3660 & N532MQ & LGA & BNA &  97 &  764 & 21 & 40 & 2013-09-30 21:00:00\\\\\n\t 2013 & 9 & 30 & 2211 & 2059 &  72 & 2339 & 2242 &  57 & EV & 4672 & N12145 & EWR & STL & 120 &  872 & 20 & 59 & 2013-09-30 20:00:00\\\\\n\t 2013 & 9 & 30 & 2231 & 2245 & -14 & 2335 & 2356 & -21 & B6 &  108 & N193JB & JFK & PWM &  48 &  273 & 22 & 45 & 2013-09-30 22:00:00\\\\\n\t 2013 & 9 & 30 & 2233 & 2113 &  80 &  112 &   30 &  42 & UA &  471 & N578UA & EWR & SFO & 318 & 2565 & 21 & 13 & 2013-09-30 21:00:00\\\\\n\t 2013 & 9 & 30 & 2237 & 2245 &  -8 & 2345 & 2353 &  -8 & B6 &  234 & N318JB & JFK & BTV &  43 &  266 & 22 & 45 & 2013-09-30 22:00:00\\\\\n\t 2013 & 9 & 30 & 2240 & 2245 &  -5 & 2334 & 2351 & -17 & B6 & 1816 & N354JB & JFK & SYR &  41 &  209 & 22 & 45 & 2013-09-30 22:00:00\\\\\n\t 2013 & 9 & 30 & 2240 & 2250 & -10 & 2347 &    7 & -20 & B6 & 2002 & N281JB & JFK & BUF &  52 &  301 & 22 & 50 & 2013-09-30 22:00:00\\\\\n\t 2013 & 9 & 30 & 2241 & 2246 &  -5 & 2345 &    1 & -16 & B6 &  486 & N346JB & JFK & ROC &  47 &  264 & 22 & 46 & 2013-09-30 22:00:00\\\\\n\t 2013 & 9 & 30 & 2307 & 2255 &  12 & 2359 & 2358 &   1 & B6 &  718 & N565JB & JFK & BOS &  33 &  187 & 22 & 55 & 2013-09-30 22:00:00\\\\\n\t 2013 & 9 & 30 & 2349 & 2359 & -10 &  325 &  350 & -25 & B6 &  745 & N516JB & JFK & PSE & 196 & 1617 & 23 & 59 & 2013-09-30 23:00:00\\\\\n\\end{tabular}\n",
            "text/markdown": "\nA tibble: 316050 × 19\n\n| year &lt;int&gt; | month &lt;int&gt; | day &lt;int&gt; | dep_time &lt;int&gt; | sched_dep_time &lt;int&gt; | dep_delay &lt;dbl&gt; | arr_time &lt;int&gt; | sched_arr_time &lt;int&gt; | arr_delay &lt;dbl&gt; | carrier &lt;chr&gt; | flight &lt;int&gt; | tailnum &lt;chr&gt; | origin &lt;chr&gt; | dest &lt;chr&gt; | air_time &lt;dbl&gt; | distance &lt;dbl&gt; | hour &lt;dbl&gt; | minute &lt;dbl&gt; | time_hour &lt;dttm&gt; |\n|---|---|---|---|---|---|---|---|---|---|---|---|---|---|---|---|---|---|---|\n| 2013 | 1 | 1 | 517 | 515 |  2 |  830 |  819 |  11 | UA | 1545 | N14228 | EWR | IAH | 227 | 1400 | 5 | 15 | 2013-01-01 05:00:00 |\n| 2013 | 1 | 1 | 533 | 529 |  4 |  850 |  830 |  20 | UA | 1714 | N24211 | LGA | IAH | 227 | 1416 | 5 | 29 | 2013-01-01 05:00:00 |\n| 2013 | 1 | 1 | 542 | 540 |  2 |  923 |  850 |  33 | AA | 1141 | N619AA | JFK | MIA | 160 | 1089 | 5 | 40 | 2013-01-01 05:00:00 |\n| 2013 | 1 | 1 | 544 | 545 | -1 | 1004 | 1022 | -18 | B6 |  725 | N804JB | JFK | BQN | 183 | 1576 | 5 | 45 | 2013-01-01 05:00:00 |\n| 2013 | 1 | 1 | 554 | 600 | -6 |  812 |  837 | -25 | DL |  461 | N668DN | LGA | ATL | 116 |  762 | 6 |  0 | 2013-01-01 06:00:00 |\n| 2013 | 1 | 1 | 554 | 558 | -4 |  740 |  728 |  12 | UA | 1696 | N39463 | EWR | ORD | 150 |  719 | 5 | 58 | 2013-01-01 05:00:00 |\n| 2013 | 1 | 1 | 555 | 600 | -5 |  913 |  854 |  19 | B6 |  507 | N516JB | EWR | FLL | 158 | 1065 | 6 |  0 | 2013-01-01 06:00:00 |\n| 2013 | 1 | 1 | 557 | 600 | -3 |  709 |  723 | -14 | EV | 5708 | N829AS | LGA | IAD |  53 |  229 | 6 |  0 | 2013-01-01 06:00:00 |\n| 2013 | 1 | 1 | 557 | 600 | -3 |  838 |  846 |  -8 | B6 |   79 | N593JB | JFK | MCO | 140 |  944 | 6 |  0 | 2013-01-01 06:00:00 |\n| 2013 | 1 | 1 | 558 | 600 | -2 |  753 |  745 |   8 | AA |  301 | N3ALAA | LGA | ORD | 138 |  733 | 6 |  0 | 2013-01-01 06:00:00 |\n| 2013 | 1 | 1 | 558 | 600 | -2 |  849 |  851 |  -2 | B6 |   49 | N793JB | JFK | PBI | 149 | 1028 | 6 |  0 | 2013-01-01 06:00:00 |\n| 2013 | 1 | 1 | 558 | 600 | -2 |  853 |  856 |  -3 | B6 |   71 | N657JB | JFK | TPA | 158 | 1005 | 6 |  0 | 2013-01-01 06:00:00 |\n| 2013 | 1 | 1 | 558 | 600 | -2 |  924 |  917 |   7 | UA |  194 | N29129 | JFK | LAX | 345 | 2475 | 6 |  0 | 2013-01-01 06:00:00 |\n| 2013 | 1 | 1 | 558 | 600 | -2 |  923 |  937 | -14 | UA | 1124 | N53441 | EWR | SFO | 361 | 2565 | 6 |  0 | 2013-01-01 06:00:00 |\n| 2013 | 1 | 1 | 559 | 600 | -1 |  941 |  910 |  31 | AA |  707 | N3DUAA | LGA | DFW | 257 | 1389 | 6 |  0 | 2013-01-01 06:00:00 |\n| 2013 | 1 | 1 | 559 | 559 |  0 |  702 |  706 |  -4 | B6 | 1806 | N708JB | JFK | BOS |  44 |  187 | 5 | 59 | 2013-01-01 05:00:00 |\n| 2013 | 1 | 1 | 559 | 600 | -1 |  854 |  902 |  -8 | UA | 1187 | N76515 | EWR | LAS | 337 | 2227 | 6 |  0 | 2013-01-01 06:00:00 |\n| 2013 | 1 | 1 | 600 | 600 |  0 |  851 |  858 |  -7 | B6 |  371 | N595JB | LGA | FLL | 152 | 1076 | 6 |  0 | 2013-01-01 06:00:00 |\n| 2013 | 1 | 1 | 600 | 600 |  0 |  837 |  825 |  12 | MQ | 4650 | N542MQ | LGA | ATL | 134 |  762 | 6 |  0 | 2013-01-01 06:00:00 |\n| 2013 | 1 | 1 | 601 | 600 |  1 |  844 |  850 |  -6 | B6 |  343 | N644JB | EWR | PBI | 147 | 1023 | 6 |  0 | 2013-01-01 06:00:00 |\n| 2013 | 1 | 1 | 602 | 610 | -8 |  812 |  820 |  -8 | DL | 1919 | N971DL | LGA | MSP | 170 | 1020 | 6 | 10 | 2013-01-01 06:00:00 |\n| 2013 | 1 | 1 | 602 | 605 | -3 |  821 |  805 |  16 | MQ | 4401 | N730MQ | LGA | DTW | 105 |  502 | 6 |  5 | 2013-01-01 06:00:00 |\n| 2013 | 1 | 1 | 606 | 610 | -4 |  858 |  910 | -12 | AA | 1895 | N633AA | EWR | MIA | 152 | 1085 | 6 | 10 | 2013-01-01 06:00:00 |\n| 2013 | 1 | 1 | 606 | 610 | -4 |  837 |  845 |  -8 | DL | 1743 | N3739P | JFK | ATL | 128 |  760 | 6 | 10 | 2013-01-01 06:00:00 |\n| 2013 | 1 | 1 | 607 | 607 |  0 |  858 |  915 | -17 | UA | 1077 | N53442 | EWR | MIA | 157 | 1085 | 6 |  7 | 2013-01-01 06:00:00 |\n| 2013 | 1 | 1 | 608 | 600 |  8 |  807 |  735 |  32 | MQ | 3768 | N9EAMQ | EWR | ORD | 139 |  719 | 6 |  0 | 2013-01-01 06:00:00 |\n| 2013 | 1 | 1 | 611 | 600 | 11 |  945 |  931 |  14 | UA |  303 | N532UA | JFK | SFO | 366 | 2586 | 6 |  0 | 2013-01-01 06:00:00 |\n| 2013 | 1 | 1 | 613 | 610 |  3 |  925 |  921 |   4 | B6 |  135 | N635JB | JFK | RSW | 175 | 1074 | 6 | 10 | 2013-01-01 06:00:00 |\n| 2013 | 1 | 1 | 615 | 615 |  0 | 1039 | 1100 | -21 | B6 |  709 | N794JB | JFK | SJU | 182 | 1598 | 6 | 15 | 2013-01-01 06:00:00 |\n| 2013 | 1 | 1 | 615 | 615 |  0 |  833 |  842 |  -9 | DL |  575 | N326NB | EWR | ATL | 120 |  746 | 6 | 15 | 2013-01-01 06:00:00 |\n| ⋮ | ⋮ | ⋮ | ⋮ | ⋮ | ⋮ | ⋮ | ⋮ | ⋮ | ⋮ | ⋮ | ⋮ | ⋮ | ⋮ | ⋮ | ⋮ | ⋮ | ⋮ | ⋮ |\n| 2013 | 9 | 30 | 2110 | 2055 |  15 |   51 | 2359 |  52 | B6 | 1205 | N517JB | JFK | PDX | 361 | 2454 | 20 | 55 | 2013-09-30 20:00:00 |\n| 2013 | 9 | 30 | 2114 | 2025 |  49 | 2304 | 2228 |  36 | EV | 4348 | N11184 | EWR | MSP | 145 | 1008 | 20 | 25 | 2013-09-30 20:00:00 |\n| 2013 | 9 | 30 | 2115 | 2110 |   5 | 2246 | 2255 |  -9 | MQ | 3603 | N519MQ | LGA | DTW |  72 |  502 | 21 | 10 | 2013-09-30 21:00:00 |\n| 2013 | 9 | 30 | 2116 | 2124 |  -8 | 2317 | 2337 | -20 | EV | 4682 | N14542 | EWR | SDF |  94 |  642 | 21 | 24 | 2013-09-30 21:00:00 |\n| 2013 | 9 | 30 | 2119 | 2005 |  74 | 2310 | 2212 |  58 | EV | 4321 | N17984 | EWR | MCI | 147 | 1092 | 20 |  5 | 2013-09-30 20:00:00 |\n| 2013 | 9 | 30 | 2119 | 2120 |  -1 | 2330 | 2354 | -24 | B6 | 1677 | N358JB | JFK | JAX | 113 |  828 | 21 | 20 | 2013-09-30 21:00:00 |\n| 2013 | 9 | 30 | 2121 | 2100 |  21 | 2349 |   14 | -25 | DL | 2363 | N193DN | JFK | LAX | 296 | 2475 | 21 |  0 | 2013-09-30 21:00:00 |\n| 2013 | 9 | 30 | 2122 | 2127 |  -5 | 2226 | 2237 | -11 | EV | 4372 | N14902 | EWR | DCA |  35 |  199 | 21 | 27 | 2013-09-30 21:00:00 |\n| 2013 | 9 | 30 | 2123 | 2125 |  -2 | 2223 | 2247 | -24 | EV | 5489 | N712EV | LGA | CHO |  45 |  305 | 21 | 25 | 2013-09-30 21:00:00 |\n| 2013 | 9 | 30 | 2127 | 2129 |  -2 | 2314 | 2323 |  -9 | EV | 3833 | N16546 | EWR | CLT |  72 |  529 | 21 | 29 | 2013-09-30 21:00:00 |\n| 2013 | 9 | 30 | 2128 | 2130 |  -2 | 2328 | 2359 | -31 | B6 |   97 | N807JB | JFK | DEN | 213 | 1626 | 21 | 30 | 2013-09-30 21:00:00 |\n| 2013 | 9 | 30 | 2129 | 2059 |  30 | 2230 | 2232 |  -2 | EV | 5048 | N751EV | LGA | RIC |  45 |  292 | 20 | 59 | 2013-09-30 20:00:00 |\n| 2013 | 9 | 30 | 2131 | 2140 |  -9 | 2225 | 2255 | -30 | MQ | 3621 | N807MQ | JFK | DCA |  36 |  213 | 21 | 40 | 2013-09-30 21:00:00 |\n| 2013 | 9 | 30 | 2140 | 2140 |   0 |   10 |   40 | -30 | AA |  185 | N335AA | JFK | LAX | 298 | 2475 | 21 | 40 | 2013-09-30 21:00:00 |\n| 2013 | 9 | 30 | 2142 | 2129 |  13 | 2250 | 2239 |  11 | EV | 4509 | N12957 | EWR | PWM |  47 |  284 | 21 | 29 | 2013-09-30 21:00:00 |\n| 2013 | 9 | 30 | 2145 | 2145 |   0 |  115 |  140 | -25 | B6 | 1103 | N633JB | JFK | SJU | 192 | 1598 | 21 | 45 | 2013-09-30 21:00:00 |\n| 2013 | 9 | 30 | 2147 | 2137 |  10 |   30 |   27 |   3 | B6 | 1371 | N627JB | LGA | FLL | 139 | 1076 | 21 | 37 | 2013-09-30 21:00:00 |\n| 2013 | 9 | 30 | 2149 | 2156 |  -7 | 2245 | 2308 | -23 | UA |  523 | N813UA | EWR | BOS |  37 |  200 | 21 | 56 | 2013-09-30 21:00:00 |\n| 2013 | 9 | 30 | 2150 | 2159 |  -9 | 2250 | 2306 | -16 | EV | 3842 | N10575 | EWR | MHT |  39 |  209 | 21 | 59 | 2013-09-30 21:00:00 |\n| 2013 | 9 | 30 | 2203 | 2205 |  -2 | 2339 | 2331 |   8 | EV | 5311 | N722EV | LGA | BGR |  61 |  378 | 22 |  5 | 2013-09-30 22:00:00 |\n| 2013 | 9 | 30 | 2207 | 2140 |  27 | 2257 | 2250 |   7 | MQ | 3660 | N532MQ | LGA | BNA |  97 |  764 | 21 | 40 | 2013-09-30 21:00:00 |\n| 2013 | 9 | 30 | 2211 | 2059 |  72 | 2339 | 2242 |  57 | EV | 4672 | N12145 | EWR | STL | 120 |  872 | 20 | 59 | 2013-09-30 20:00:00 |\n| 2013 | 9 | 30 | 2231 | 2245 | -14 | 2335 | 2356 | -21 | B6 |  108 | N193JB | JFK | PWM |  48 |  273 | 22 | 45 | 2013-09-30 22:00:00 |\n| 2013 | 9 | 30 | 2233 | 2113 |  80 |  112 |   30 |  42 | UA |  471 | N578UA | EWR | SFO | 318 | 2565 | 21 | 13 | 2013-09-30 21:00:00 |\n| 2013 | 9 | 30 | 2237 | 2245 |  -8 | 2345 | 2353 |  -8 | B6 |  234 | N318JB | JFK | BTV |  43 |  266 | 22 | 45 | 2013-09-30 22:00:00 |\n| 2013 | 9 | 30 | 2240 | 2245 |  -5 | 2334 | 2351 | -17 | B6 | 1816 | N354JB | JFK | SYR |  41 |  209 | 22 | 45 | 2013-09-30 22:00:00 |\n| 2013 | 9 | 30 | 2240 | 2250 | -10 | 2347 |    7 | -20 | B6 | 2002 | N281JB | JFK | BUF |  52 |  301 | 22 | 50 | 2013-09-30 22:00:00 |\n| 2013 | 9 | 30 | 2241 | 2246 |  -5 | 2345 |    1 | -16 | B6 |  486 | N346JB | JFK | ROC |  47 |  264 | 22 | 46 | 2013-09-30 22:00:00 |\n| 2013 | 9 | 30 | 2307 | 2255 |  12 | 2359 | 2358 |   1 | B6 |  718 | N565JB | JFK | BOS |  33 |  187 | 22 | 55 | 2013-09-30 22:00:00 |\n| 2013 | 9 | 30 | 2349 | 2359 | -10 |  325 |  350 | -25 | B6 |  745 | N516JB | JFK | PSE | 196 | 1617 | 23 | 59 | 2013-09-30 23:00:00 |\n\n",
            "text/html": [
              "<table>\n",
              "<caption>A tibble: 316050 × 19</caption>\n",
              "<thead>\n",
              "\t<tr><th scope=col>year</th><th scope=col>month</th><th scope=col>day</th><th scope=col>dep_time</th><th scope=col>sched_dep_time</th><th scope=col>dep_delay</th><th scope=col>arr_time</th><th scope=col>sched_arr_time</th><th scope=col>arr_delay</th><th scope=col>carrier</th><th scope=col>flight</th><th scope=col>tailnum</th><th scope=col>origin</th><th scope=col>dest</th><th scope=col>air_time</th><th scope=col>distance</th><th scope=col>hour</th><th scope=col>minute</th><th scope=col>time_hour</th></tr>\n",
              "\t<tr><th scope=col>&lt;int&gt;</th><th scope=col>&lt;int&gt;</th><th scope=col>&lt;int&gt;</th><th scope=col>&lt;int&gt;</th><th scope=col>&lt;int&gt;</th><th scope=col>&lt;dbl&gt;</th><th scope=col>&lt;int&gt;</th><th scope=col>&lt;int&gt;</th><th scope=col>&lt;dbl&gt;</th><th scope=col>&lt;chr&gt;</th><th scope=col>&lt;int&gt;</th><th scope=col>&lt;chr&gt;</th><th scope=col>&lt;chr&gt;</th><th scope=col>&lt;chr&gt;</th><th scope=col>&lt;dbl&gt;</th><th scope=col>&lt;dbl&gt;</th><th scope=col>&lt;dbl&gt;</th><th scope=col>&lt;dbl&gt;</th><th scope=col>&lt;dttm&gt;</th></tr>\n",
              "</thead>\n",
              "<tbody>\n",
              "\t<tr><td>2013</td><td>1</td><td>1</td><td>517</td><td>515</td><td> 2</td><td> 830</td><td> 819</td><td> 11</td><td>UA</td><td>1545</td><td>N14228</td><td>EWR</td><td>IAH</td><td>227</td><td>1400</td><td>5</td><td>15</td><td>2013-01-01 05:00:00</td></tr>\n",
              "\t<tr><td>2013</td><td>1</td><td>1</td><td>533</td><td>529</td><td> 4</td><td> 850</td><td> 830</td><td> 20</td><td>UA</td><td>1714</td><td>N24211</td><td>LGA</td><td>IAH</td><td>227</td><td>1416</td><td>5</td><td>29</td><td>2013-01-01 05:00:00</td></tr>\n",
              "\t<tr><td>2013</td><td>1</td><td>1</td><td>542</td><td>540</td><td> 2</td><td> 923</td><td> 850</td><td> 33</td><td>AA</td><td>1141</td><td>N619AA</td><td>JFK</td><td>MIA</td><td>160</td><td>1089</td><td>5</td><td>40</td><td>2013-01-01 05:00:00</td></tr>\n",
              "\t<tr><td>2013</td><td>1</td><td>1</td><td>544</td><td>545</td><td>-1</td><td>1004</td><td>1022</td><td>-18</td><td>B6</td><td> 725</td><td>N804JB</td><td>JFK</td><td>BQN</td><td>183</td><td>1576</td><td>5</td><td>45</td><td>2013-01-01 05:00:00</td></tr>\n",
              "\t<tr><td>2013</td><td>1</td><td>1</td><td>554</td><td>600</td><td>-6</td><td> 812</td><td> 837</td><td>-25</td><td>DL</td><td> 461</td><td>N668DN</td><td>LGA</td><td>ATL</td><td>116</td><td> 762</td><td>6</td><td> 0</td><td>2013-01-01 06:00:00</td></tr>\n",
              "\t<tr><td>2013</td><td>1</td><td>1</td><td>554</td><td>558</td><td>-4</td><td> 740</td><td> 728</td><td> 12</td><td>UA</td><td>1696</td><td>N39463</td><td>EWR</td><td>ORD</td><td>150</td><td> 719</td><td>5</td><td>58</td><td>2013-01-01 05:00:00</td></tr>\n",
              "\t<tr><td>2013</td><td>1</td><td>1</td><td>555</td><td>600</td><td>-5</td><td> 913</td><td> 854</td><td> 19</td><td>B6</td><td> 507</td><td>N516JB</td><td>EWR</td><td>FLL</td><td>158</td><td>1065</td><td>6</td><td> 0</td><td>2013-01-01 06:00:00</td></tr>\n",
              "\t<tr><td>2013</td><td>1</td><td>1</td><td>557</td><td>600</td><td>-3</td><td> 709</td><td> 723</td><td>-14</td><td>EV</td><td>5708</td><td>N829AS</td><td>LGA</td><td>IAD</td><td> 53</td><td> 229</td><td>6</td><td> 0</td><td>2013-01-01 06:00:00</td></tr>\n",
              "\t<tr><td>2013</td><td>1</td><td>1</td><td>557</td><td>600</td><td>-3</td><td> 838</td><td> 846</td><td> -8</td><td>B6</td><td>  79</td><td>N593JB</td><td>JFK</td><td>MCO</td><td>140</td><td> 944</td><td>6</td><td> 0</td><td>2013-01-01 06:00:00</td></tr>\n",
              "\t<tr><td>2013</td><td>1</td><td>1</td><td>558</td><td>600</td><td>-2</td><td> 753</td><td> 745</td><td>  8</td><td>AA</td><td> 301</td><td>N3ALAA</td><td>LGA</td><td>ORD</td><td>138</td><td> 733</td><td>6</td><td> 0</td><td>2013-01-01 06:00:00</td></tr>\n",
              "\t<tr><td>2013</td><td>1</td><td>1</td><td>558</td><td>600</td><td>-2</td><td> 849</td><td> 851</td><td> -2</td><td>B6</td><td>  49</td><td>N793JB</td><td>JFK</td><td>PBI</td><td>149</td><td>1028</td><td>6</td><td> 0</td><td>2013-01-01 06:00:00</td></tr>\n",
              "\t<tr><td>2013</td><td>1</td><td>1</td><td>558</td><td>600</td><td>-2</td><td> 853</td><td> 856</td><td> -3</td><td>B6</td><td>  71</td><td>N657JB</td><td>JFK</td><td>TPA</td><td>158</td><td>1005</td><td>6</td><td> 0</td><td>2013-01-01 06:00:00</td></tr>\n",
              "\t<tr><td>2013</td><td>1</td><td>1</td><td>558</td><td>600</td><td>-2</td><td> 924</td><td> 917</td><td>  7</td><td>UA</td><td> 194</td><td>N29129</td><td>JFK</td><td>LAX</td><td>345</td><td>2475</td><td>6</td><td> 0</td><td>2013-01-01 06:00:00</td></tr>\n",
              "\t<tr><td>2013</td><td>1</td><td>1</td><td>558</td><td>600</td><td>-2</td><td> 923</td><td> 937</td><td>-14</td><td>UA</td><td>1124</td><td>N53441</td><td>EWR</td><td>SFO</td><td>361</td><td>2565</td><td>6</td><td> 0</td><td>2013-01-01 06:00:00</td></tr>\n",
              "\t<tr><td>2013</td><td>1</td><td>1</td><td>559</td><td>600</td><td>-1</td><td> 941</td><td> 910</td><td> 31</td><td>AA</td><td> 707</td><td>N3DUAA</td><td>LGA</td><td>DFW</td><td>257</td><td>1389</td><td>6</td><td> 0</td><td>2013-01-01 06:00:00</td></tr>\n",
              "\t<tr><td>2013</td><td>1</td><td>1</td><td>559</td><td>559</td><td> 0</td><td> 702</td><td> 706</td><td> -4</td><td>B6</td><td>1806</td><td>N708JB</td><td>JFK</td><td>BOS</td><td> 44</td><td> 187</td><td>5</td><td>59</td><td>2013-01-01 05:00:00</td></tr>\n",
              "\t<tr><td>2013</td><td>1</td><td>1</td><td>559</td><td>600</td><td>-1</td><td> 854</td><td> 902</td><td> -8</td><td>UA</td><td>1187</td><td>N76515</td><td>EWR</td><td>LAS</td><td>337</td><td>2227</td><td>6</td><td> 0</td><td>2013-01-01 06:00:00</td></tr>\n",
              "\t<tr><td>2013</td><td>1</td><td>1</td><td>600</td><td>600</td><td> 0</td><td> 851</td><td> 858</td><td> -7</td><td>B6</td><td> 371</td><td>N595JB</td><td>LGA</td><td>FLL</td><td>152</td><td>1076</td><td>6</td><td> 0</td><td>2013-01-01 06:00:00</td></tr>\n",
              "\t<tr><td>2013</td><td>1</td><td>1</td><td>600</td><td>600</td><td> 0</td><td> 837</td><td> 825</td><td> 12</td><td>MQ</td><td>4650</td><td>N542MQ</td><td>LGA</td><td>ATL</td><td>134</td><td> 762</td><td>6</td><td> 0</td><td>2013-01-01 06:00:00</td></tr>\n",
              "\t<tr><td>2013</td><td>1</td><td>1</td><td>601</td><td>600</td><td> 1</td><td> 844</td><td> 850</td><td> -6</td><td>B6</td><td> 343</td><td>N644JB</td><td>EWR</td><td>PBI</td><td>147</td><td>1023</td><td>6</td><td> 0</td><td>2013-01-01 06:00:00</td></tr>\n",
              "\t<tr><td>2013</td><td>1</td><td>1</td><td>602</td><td>610</td><td>-8</td><td> 812</td><td> 820</td><td> -8</td><td>DL</td><td>1919</td><td>N971DL</td><td>LGA</td><td>MSP</td><td>170</td><td>1020</td><td>6</td><td>10</td><td>2013-01-01 06:00:00</td></tr>\n",
              "\t<tr><td>2013</td><td>1</td><td>1</td><td>602</td><td>605</td><td>-3</td><td> 821</td><td> 805</td><td> 16</td><td>MQ</td><td>4401</td><td>N730MQ</td><td>LGA</td><td>DTW</td><td>105</td><td> 502</td><td>6</td><td> 5</td><td>2013-01-01 06:00:00</td></tr>\n",
              "\t<tr><td>2013</td><td>1</td><td>1</td><td>606</td><td>610</td><td>-4</td><td> 858</td><td> 910</td><td>-12</td><td>AA</td><td>1895</td><td>N633AA</td><td>EWR</td><td>MIA</td><td>152</td><td>1085</td><td>6</td><td>10</td><td>2013-01-01 06:00:00</td></tr>\n",
              "\t<tr><td>2013</td><td>1</td><td>1</td><td>606</td><td>610</td><td>-4</td><td> 837</td><td> 845</td><td> -8</td><td>DL</td><td>1743</td><td>N3739P</td><td>JFK</td><td>ATL</td><td>128</td><td> 760</td><td>6</td><td>10</td><td>2013-01-01 06:00:00</td></tr>\n",
              "\t<tr><td>2013</td><td>1</td><td>1</td><td>607</td><td>607</td><td> 0</td><td> 858</td><td> 915</td><td>-17</td><td>UA</td><td>1077</td><td>N53442</td><td>EWR</td><td>MIA</td><td>157</td><td>1085</td><td>6</td><td> 7</td><td>2013-01-01 06:00:00</td></tr>\n",
              "\t<tr><td>2013</td><td>1</td><td>1</td><td>608</td><td>600</td><td> 8</td><td> 807</td><td> 735</td><td> 32</td><td>MQ</td><td>3768</td><td>N9EAMQ</td><td>EWR</td><td>ORD</td><td>139</td><td> 719</td><td>6</td><td> 0</td><td>2013-01-01 06:00:00</td></tr>\n",
              "\t<tr><td>2013</td><td>1</td><td>1</td><td>611</td><td>600</td><td>11</td><td> 945</td><td> 931</td><td> 14</td><td>UA</td><td> 303</td><td>N532UA</td><td>JFK</td><td>SFO</td><td>366</td><td>2586</td><td>6</td><td> 0</td><td>2013-01-01 06:00:00</td></tr>\n",
              "\t<tr><td>2013</td><td>1</td><td>1</td><td>613</td><td>610</td><td> 3</td><td> 925</td><td> 921</td><td>  4</td><td>B6</td><td> 135</td><td>N635JB</td><td>JFK</td><td>RSW</td><td>175</td><td>1074</td><td>6</td><td>10</td><td>2013-01-01 06:00:00</td></tr>\n",
              "\t<tr><td>2013</td><td>1</td><td>1</td><td>615</td><td>615</td><td> 0</td><td>1039</td><td>1100</td><td>-21</td><td>B6</td><td> 709</td><td>N794JB</td><td>JFK</td><td>SJU</td><td>182</td><td>1598</td><td>6</td><td>15</td><td>2013-01-01 06:00:00</td></tr>\n",
              "\t<tr><td>2013</td><td>1</td><td>1</td><td>615</td><td>615</td><td> 0</td><td> 833</td><td> 842</td><td> -9</td><td>DL</td><td> 575</td><td>N326NB</td><td>EWR</td><td>ATL</td><td>120</td><td> 746</td><td>6</td><td>15</td><td>2013-01-01 06:00:00</td></tr>\n",
              "\t<tr><td>⋮</td><td>⋮</td><td>⋮</td><td>⋮</td><td>⋮</td><td>⋮</td><td>⋮</td><td>⋮</td><td>⋮</td><td>⋮</td><td>⋮</td><td>⋮</td><td>⋮</td><td>⋮</td><td>⋮</td><td>⋮</td><td>⋮</td><td>⋮</td><td>⋮</td></tr>\n",
              "\t<tr><td>2013</td><td>9</td><td>30</td><td>2110</td><td>2055</td><td> 15</td><td>  51</td><td>2359</td><td> 52</td><td>B6</td><td>1205</td><td>N517JB</td><td>JFK</td><td>PDX</td><td>361</td><td>2454</td><td>20</td><td>55</td><td>2013-09-30 20:00:00</td></tr>\n",
              "\t<tr><td>2013</td><td>9</td><td>30</td><td>2114</td><td>2025</td><td> 49</td><td>2304</td><td>2228</td><td> 36</td><td>EV</td><td>4348</td><td>N11184</td><td>EWR</td><td>MSP</td><td>145</td><td>1008</td><td>20</td><td>25</td><td>2013-09-30 20:00:00</td></tr>\n",
              "\t<tr><td>2013</td><td>9</td><td>30</td><td>2115</td><td>2110</td><td>  5</td><td>2246</td><td>2255</td><td> -9</td><td>MQ</td><td>3603</td><td>N519MQ</td><td>LGA</td><td>DTW</td><td> 72</td><td> 502</td><td>21</td><td>10</td><td>2013-09-30 21:00:00</td></tr>\n",
              "\t<tr><td>2013</td><td>9</td><td>30</td><td>2116</td><td>2124</td><td> -8</td><td>2317</td><td>2337</td><td>-20</td><td>EV</td><td>4682</td><td>N14542</td><td>EWR</td><td>SDF</td><td> 94</td><td> 642</td><td>21</td><td>24</td><td>2013-09-30 21:00:00</td></tr>\n",
              "\t<tr><td>2013</td><td>9</td><td>30</td><td>2119</td><td>2005</td><td> 74</td><td>2310</td><td>2212</td><td> 58</td><td>EV</td><td>4321</td><td>N17984</td><td>EWR</td><td>MCI</td><td>147</td><td>1092</td><td>20</td><td> 5</td><td>2013-09-30 20:00:00</td></tr>\n",
              "\t<tr><td>2013</td><td>9</td><td>30</td><td>2119</td><td>2120</td><td> -1</td><td>2330</td><td>2354</td><td>-24</td><td>B6</td><td>1677</td><td>N358JB</td><td>JFK</td><td>JAX</td><td>113</td><td> 828</td><td>21</td><td>20</td><td>2013-09-30 21:00:00</td></tr>\n",
              "\t<tr><td>2013</td><td>9</td><td>30</td><td>2121</td><td>2100</td><td> 21</td><td>2349</td><td>  14</td><td>-25</td><td>DL</td><td>2363</td><td>N193DN</td><td>JFK</td><td>LAX</td><td>296</td><td>2475</td><td>21</td><td> 0</td><td>2013-09-30 21:00:00</td></tr>\n",
              "\t<tr><td>2013</td><td>9</td><td>30</td><td>2122</td><td>2127</td><td> -5</td><td>2226</td><td>2237</td><td>-11</td><td>EV</td><td>4372</td><td>N14902</td><td>EWR</td><td>DCA</td><td> 35</td><td> 199</td><td>21</td><td>27</td><td>2013-09-30 21:00:00</td></tr>\n",
              "\t<tr><td>2013</td><td>9</td><td>30</td><td>2123</td><td>2125</td><td> -2</td><td>2223</td><td>2247</td><td>-24</td><td>EV</td><td>5489</td><td>N712EV</td><td>LGA</td><td>CHO</td><td> 45</td><td> 305</td><td>21</td><td>25</td><td>2013-09-30 21:00:00</td></tr>\n",
              "\t<tr><td>2013</td><td>9</td><td>30</td><td>2127</td><td>2129</td><td> -2</td><td>2314</td><td>2323</td><td> -9</td><td>EV</td><td>3833</td><td>N16546</td><td>EWR</td><td>CLT</td><td> 72</td><td> 529</td><td>21</td><td>29</td><td>2013-09-30 21:00:00</td></tr>\n",
              "\t<tr><td>2013</td><td>9</td><td>30</td><td>2128</td><td>2130</td><td> -2</td><td>2328</td><td>2359</td><td>-31</td><td>B6</td><td>  97</td><td>N807JB</td><td>JFK</td><td>DEN</td><td>213</td><td>1626</td><td>21</td><td>30</td><td>2013-09-30 21:00:00</td></tr>\n",
              "\t<tr><td>2013</td><td>9</td><td>30</td><td>2129</td><td>2059</td><td> 30</td><td>2230</td><td>2232</td><td> -2</td><td>EV</td><td>5048</td><td>N751EV</td><td>LGA</td><td>RIC</td><td> 45</td><td> 292</td><td>20</td><td>59</td><td>2013-09-30 20:00:00</td></tr>\n",
              "\t<tr><td>2013</td><td>9</td><td>30</td><td>2131</td><td>2140</td><td> -9</td><td>2225</td><td>2255</td><td>-30</td><td>MQ</td><td>3621</td><td>N807MQ</td><td>JFK</td><td>DCA</td><td> 36</td><td> 213</td><td>21</td><td>40</td><td>2013-09-30 21:00:00</td></tr>\n",
              "\t<tr><td>2013</td><td>9</td><td>30</td><td>2140</td><td>2140</td><td>  0</td><td>  10</td><td>  40</td><td>-30</td><td>AA</td><td> 185</td><td>N335AA</td><td>JFK</td><td>LAX</td><td>298</td><td>2475</td><td>21</td><td>40</td><td>2013-09-30 21:00:00</td></tr>\n",
              "\t<tr><td>2013</td><td>9</td><td>30</td><td>2142</td><td>2129</td><td> 13</td><td>2250</td><td>2239</td><td> 11</td><td>EV</td><td>4509</td><td>N12957</td><td>EWR</td><td>PWM</td><td> 47</td><td> 284</td><td>21</td><td>29</td><td>2013-09-30 21:00:00</td></tr>\n",
              "\t<tr><td>2013</td><td>9</td><td>30</td><td>2145</td><td>2145</td><td>  0</td><td> 115</td><td> 140</td><td>-25</td><td>B6</td><td>1103</td><td>N633JB</td><td>JFK</td><td>SJU</td><td>192</td><td>1598</td><td>21</td><td>45</td><td>2013-09-30 21:00:00</td></tr>\n",
              "\t<tr><td>2013</td><td>9</td><td>30</td><td>2147</td><td>2137</td><td> 10</td><td>  30</td><td>  27</td><td>  3</td><td>B6</td><td>1371</td><td>N627JB</td><td>LGA</td><td>FLL</td><td>139</td><td>1076</td><td>21</td><td>37</td><td>2013-09-30 21:00:00</td></tr>\n",
              "\t<tr><td>2013</td><td>9</td><td>30</td><td>2149</td><td>2156</td><td> -7</td><td>2245</td><td>2308</td><td>-23</td><td>UA</td><td> 523</td><td>N813UA</td><td>EWR</td><td>BOS</td><td> 37</td><td> 200</td><td>21</td><td>56</td><td>2013-09-30 21:00:00</td></tr>\n",
              "\t<tr><td>2013</td><td>9</td><td>30</td><td>2150</td><td>2159</td><td> -9</td><td>2250</td><td>2306</td><td>-16</td><td>EV</td><td>3842</td><td>N10575</td><td>EWR</td><td>MHT</td><td> 39</td><td> 209</td><td>21</td><td>59</td><td>2013-09-30 21:00:00</td></tr>\n",
              "\t<tr><td>2013</td><td>9</td><td>30</td><td>2203</td><td>2205</td><td> -2</td><td>2339</td><td>2331</td><td>  8</td><td>EV</td><td>5311</td><td>N722EV</td><td>LGA</td><td>BGR</td><td> 61</td><td> 378</td><td>22</td><td> 5</td><td>2013-09-30 22:00:00</td></tr>\n",
              "\t<tr><td>2013</td><td>9</td><td>30</td><td>2207</td><td>2140</td><td> 27</td><td>2257</td><td>2250</td><td>  7</td><td>MQ</td><td>3660</td><td>N532MQ</td><td>LGA</td><td>BNA</td><td> 97</td><td> 764</td><td>21</td><td>40</td><td>2013-09-30 21:00:00</td></tr>\n",
              "\t<tr><td>2013</td><td>9</td><td>30</td><td>2211</td><td>2059</td><td> 72</td><td>2339</td><td>2242</td><td> 57</td><td>EV</td><td>4672</td><td>N12145</td><td>EWR</td><td>STL</td><td>120</td><td> 872</td><td>20</td><td>59</td><td>2013-09-30 20:00:00</td></tr>\n",
              "\t<tr><td>2013</td><td>9</td><td>30</td><td>2231</td><td>2245</td><td>-14</td><td>2335</td><td>2356</td><td>-21</td><td>B6</td><td> 108</td><td>N193JB</td><td>JFK</td><td>PWM</td><td> 48</td><td> 273</td><td>22</td><td>45</td><td>2013-09-30 22:00:00</td></tr>\n",
              "\t<tr><td>2013</td><td>9</td><td>30</td><td>2233</td><td>2113</td><td> 80</td><td> 112</td><td>  30</td><td> 42</td><td>UA</td><td> 471</td><td>N578UA</td><td>EWR</td><td>SFO</td><td>318</td><td>2565</td><td>21</td><td>13</td><td>2013-09-30 21:00:00</td></tr>\n",
              "\t<tr><td>2013</td><td>9</td><td>30</td><td>2237</td><td>2245</td><td> -8</td><td>2345</td><td>2353</td><td> -8</td><td>B6</td><td> 234</td><td>N318JB</td><td>JFK</td><td>BTV</td><td> 43</td><td> 266</td><td>22</td><td>45</td><td>2013-09-30 22:00:00</td></tr>\n",
              "\t<tr><td>2013</td><td>9</td><td>30</td><td>2240</td><td>2245</td><td> -5</td><td>2334</td><td>2351</td><td>-17</td><td>B6</td><td>1816</td><td>N354JB</td><td>JFK</td><td>SYR</td><td> 41</td><td> 209</td><td>22</td><td>45</td><td>2013-09-30 22:00:00</td></tr>\n",
              "\t<tr><td>2013</td><td>9</td><td>30</td><td>2240</td><td>2250</td><td>-10</td><td>2347</td><td>   7</td><td>-20</td><td>B6</td><td>2002</td><td>N281JB</td><td>JFK</td><td>BUF</td><td> 52</td><td> 301</td><td>22</td><td>50</td><td>2013-09-30 22:00:00</td></tr>\n",
              "\t<tr><td>2013</td><td>9</td><td>30</td><td>2241</td><td>2246</td><td> -5</td><td>2345</td><td>   1</td><td>-16</td><td>B6</td><td> 486</td><td>N346JB</td><td>JFK</td><td>ROC</td><td> 47</td><td> 264</td><td>22</td><td>46</td><td>2013-09-30 22:00:00</td></tr>\n",
              "\t<tr><td>2013</td><td>9</td><td>30</td><td>2307</td><td>2255</td><td> 12</td><td>2359</td><td>2358</td><td>  1</td><td>B6</td><td> 718</td><td>N565JB</td><td>JFK</td><td>BOS</td><td> 33</td><td> 187</td><td>22</td><td>55</td><td>2013-09-30 22:00:00</td></tr>\n",
              "\t<tr><td>2013</td><td>9</td><td>30</td><td>2349</td><td>2359</td><td>-10</td><td> 325</td><td> 350</td><td>-25</td><td>B6</td><td> 745</td><td>N516JB</td><td>JFK</td><td>PSE</td><td>196</td><td>1617</td><td>23</td><td>59</td><td>2013-09-30 23:00:00</td></tr>\n",
              "</tbody>\n",
              "</table>\n"
            ]
          },
          "metadata": {
            "tags": []
          }
        }
      ]
    },
    {
      "cell_type": "markdown",
      "metadata": {
        "id": "qR9DeGmOqiO3",
        "colab_type": "text"
      },
      "source": [
        "Siempre que empiece a usar expresiones complicadas y de varias partes en `filter()`, considere hacerlas explícitas en su lugar. Eso hace que sea mucho más fácil verificar tu trabajo."
      ]
    },
    {
      "cell_type": "markdown",
      "metadata": {
        "id": "q8Bo0kTHqqNW",
        "colab_type": "text"
      },
      "source": [
        "###**Valores Faltantes**\n",
        "\n",
        "Una característica importante de R que puede dificultar la comparación es la falta de valores o NA (\"not available\"). NA representa un valor desconocido, por lo que los valores faltantes son \"contagiosos\"; casi cualquier operación que implique un valor desconocido también será desconocida:"
      ]
    },
    {
      "cell_type": "code",
      "metadata": {
        "id": "sxqX-TviqI05",
        "colab_type": "code",
        "colab": {
          "base_uri": "https://localhost:8080/",
          "height": 102
        },
        "outputId": "d63e4fa1-676a-486b-b889-868d37051312"
      },
      "source": [
        "NA > 5\n",
        "\n",
        "10 == NA\n",
        "\n",
        "NA + 10\n",
        "\n",
        "NA / 2\n",
        "\n",
        "NA == NA"
      ],
      "execution_count": 17,
      "outputs": [
        {
          "output_type": "display_data",
          "data": {
            "text/plain": [
              "[1] NA"
            ],
            "text/latex": "<NA>",
            "text/markdown": "&lt;NA&gt;",
            "text/html": [
              "&lt;NA&gt;"
            ]
          },
          "metadata": {
            "tags": []
          }
        },
        {
          "output_type": "display_data",
          "data": {
            "text/plain": [
              "[1] NA"
            ],
            "text/latex": "<NA>",
            "text/markdown": "&lt;NA&gt;",
            "text/html": [
              "&lt;NA&gt;"
            ]
          },
          "metadata": {
            "tags": []
          }
        },
        {
          "output_type": "display_data",
          "data": {
            "text/plain": [
              "[1] NA"
            ],
            "text/latex": "<NA>",
            "text/markdown": "&lt;NA&gt;",
            "text/html": [
              "&lt;NA&gt;"
            ]
          },
          "metadata": {
            "tags": []
          }
        },
        {
          "output_type": "display_data",
          "data": {
            "text/plain": [
              "[1] NA"
            ],
            "text/latex": "<NA>",
            "text/markdown": "&lt;NA&gt;",
            "text/html": [
              "&lt;NA&gt;"
            ]
          },
          "metadata": {
            "tags": []
          }
        },
        {
          "output_type": "display_data",
          "data": {
            "text/plain": [
              "[1] NA"
            ],
            "text/latex": "<NA>",
            "text/markdown": "&lt;NA&gt;",
            "text/html": [
              "&lt;NA&gt;"
            ]
          },
          "metadata": {
            "tags": []
          }
        }
      ]
    },
    {
      "cell_type": "markdown",
      "metadata": {
        "id": "y76KmB9IrR8L",
        "colab_type": "text"
      },
      "source": [
        "Si uno quiere saber si un valor es `NA` puede usar la función `is.na()`"
      ]
    },
    {
      "cell_type": "code",
      "metadata": {
        "id": "A-N4qAoQrJpe",
        "colab_type": "code",
        "colab": {
          "base_uri": "https://localhost:8080/",
          "height": 34
        },
        "outputId": "6b9054be-8e04-4bbb-ad81-898001ade443"
      },
      "source": [
        "x <- 5L\n",
        "y <- NA\n",
        "is.na(y)"
      ],
      "execution_count": 18,
      "outputs": [
        {
          "output_type": "display_data",
          "data": {
            "text/plain": [
              "[1] TRUE"
            ],
            "text/latex": "TRUE",
            "text/markdown": "TRUE",
            "text/html": [
              "TRUE"
            ]
          },
          "metadata": {
            "tags": []
          }
        }
      ]
    },
    {
      "cell_type": "markdown",
      "metadata": {
        "id": "Ppggr9ogrwkk",
        "colab_type": "text"
      },
      "source": [
        "`filter()` solo incluye filas donde la condición es `TRUE`; excluye los valores `FALSE` y `NA`. Si desea conservar los valores faltantes, solicítelos explícitamente:"
      ]
    },
    {
      "cell_type": "code",
      "metadata": {
        "id": "qNAT8t4ErO2o",
        "colab_type": "code",
        "colab": {
          "base_uri": "https://localhost:8080/",
          "height": 175
        },
        "outputId": "7088080b-130b-4891-cfa7-4a5b0383fa4b"
      },
      "source": [
        "df <- tibble(x = c(1, NA, 3)) # tibble es una versión abreviada de data.frame\n",
        "df\n",
        "#filter(df, x > 1)"
      ],
      "execution_count": 20,
      "outputs": [
        {
          "output_type": "display_data",
          "data": {
            "text/plain": [
              "  x \n",
              "1  1\n",
              "2 NA\n",
              "3  3"
            ],
            "text/latex": "A tibble: 3 × 1\n\\begin{tabular}{l}\n x\\\\\n <dbl>\\\\\n\\hline\n\t  1\\\\\n\t NA\\\\\n\t  3\\\\\n\\end{tabular}\n",
            "text/markdown": "\nA tibble: 3 × 1\n\n| x &lt;dbl&gt; |\n|---|\n|  1 |\n| NA |\n|  3 |\n\n",
            "text/html": [
              "<table>\n",
              "<caption>A tibble: 3 × 1</caption>\n",
              "<thead>\n",
              "\t<tr><th scope=col>x</th></tr>\n",
              "\t<tr><th scope=col>&lt;dbl&gt;</th></tr>\n",
              "</thead>\n",
              "<tbody>\n",
              "\t<tr><td> 1</td></tr>\n",
              "\t<tr><td>NA</td></tr>\n",
              "\t<tr><td> 3</td></tr>\n",
              "</tbody>\n",
              "</table>\n"
            ]
          },
          "metadata": {
            "tags": []
          }
        }
      ]
    },
    {
      "cell_type": "code",
      "metadata": {
        "id": "KQ0nIxnxsAGf",
        "colab_type": "code",
        "colab": {
          "base_uri": "https://localhost:8080/",
          "height": 133
        },
        "outputId": "e70f9f64-e787-4c3a-ec40-b5eea24fe3f9"
      },
      "source": [
        "filter(df, x > 1)"
      ],
      "execution_count": 21,
      "outputs": [
        {
          "output_type": "display_data",
          "data": {
            "text/plain": [
              "  x\n",
              "1 3"
            ],
            "text/latex": "A tibble: 1 × 1\n\\begin{tabular}{l}\n x\\\\\n <dbl>\\\\\n\\hline\n\t 3\\\\\n\\end{tabular}\n",
            "text/markdown": "\nA tibble: 1 × 1\n\n| x &lt;dbl&gt; |\n|---|\n| 3 |\n\n",
            "text/html": [
              "<table>\n",
              "<caption>A tibble: 1 × 1</caption>\n",
              "<thead>\n",
              "\t<tr><th scope=col>x</th></tr>\n",
              "\t<tr><th scope=col>&lt;dbl&gt;</th></tr>\n",
              "</thead>\n",
              "<tbody>\n",
              "\t<tr><td>3</td></tr>\n",
              "</tbody>\n",
              "</table>\n"
            ]
          },
          "metadata": {
            "tags": []
          }
        }
      ]
    },
    {
      "cell_type": "code",
      "metadata": {
        "id": "-on6z9FbsNer",
        "colab_type": "code",
        "colab": {
          "base_uri": "https://localhost:8080/",
          "height": 154
        },
        "outputId": "97f48297-f365-4552-a9e2-ff00a73b762b"
      },
      "source": [
        "filter(df, is.na(x) | x > 1)"
      ],
      "execution_count": 22,
      "outputs": [
        {
          "output_type": "display_data",
          "data": {
            "text/plain": [
              "  x \n",
              "1 NA\n",
              "2  3"
            ],
            "text/latex": "A tibble: 2 × 1\n\\begin{tabular}{l}\n x\\\\\n <dbl>\\\\\n\\hline\n\t NA\\\\\n\t  3\\\\\n\\end{tabular}\n",
            "text/markdown": "\nA tibble: 2 × 1\n\n| x &lt;dbl&gt; |\n|---|\n| NA |\n|  3 |\n\n",
            "text/html": [
              "<table>\n",
              "<caption>A tibble: 2 × 1</caption>\n",
              "<thead>\n",
              "\t<tr><th scope=col>x</th></tr>\n",
              "\t<tr><th scope=col>&lt;dbl&gt;</th></tr>\n",
              "</thead>\n",
              "<tbody>\n",
              "\t<tr><td>NA</td></tr>\n",
              "\t<tr><td> 3</td></tr>\n",
              "</tbody>\n",
              "</table>\n"
            ]
          },
          "metadata": {
            "tags": []
          }
        }
      ]
    },
    {
      "cell_type": "markdown",
      "metadata": {
        "id": "2kN_h6aPt3Ec",
        "colab_type": "text"
      },
      "source": [
        "##**Ejercicios**\n",
        "Encuentre los vuelos que:"
      ]
    },
    {
      "cell_type": "markdown",
      "metadata": {
        "id": "Prs07iivt6l4",
        "colab_type": "text"
      },
      "source": [
        "###**1)**\n",
        "Tuvieron una llegada dilatada por 2 o más horas."
      ]
    },
    {
      "cell_type": "code",
      "metadata": {
        "id": "FYG2d4tUsO5M",
        "colab_type": "code",
        "cellView": "form",
        "colab": {}
      },
      "source": [
        "#@title **Consulte la Respuesta Acá**\n",
        "if (F){\n",
        "  filter(flights, arr_delay >= 120)\n",
        "}"
      ],
      "execution_count": null,
      "outputs": []
    },
    {
      "cell_type": "markdown",
      "metadata": {
        "id": "4H6On7lkuqoO",
        "colab_type": "text"
      },
      "source": [
        "###**2)**\n",
        "Volaron hacia Houston (`IAH`,`HOU`)"
      ]
    },
    {
      "cell_type": "code",
      "metadata": {
        "id": "4wN8vheRuaOa",
        "colab_type": "code",
        "cellView": "form",
        "colab": {}
      },
      "source": [
        "#@title **Consulte la Respuesta Acá**\n",
        "if (F){\n",
        "\n",
        "  filter(flights, dest == 'IAH' | dest == 'HOU')\n",
        "}"
      ],
      "execution_count": null,
      "outputs": []
    },
    {
      "cell_type": "markdown",
      "metadata": {
        "id": "OTHLY4MSvohy",
        "colab_type": "text"
      },
      "source": [
        "### **3)**\n",
        "Fueron operados por United, American, o Delta. \n",
        "\n",
        "Hint: Lea la ayuda con `?flights` para ver qué es `airlines`.\n",
        "\n"
      ]
    },
    {
      "cell_type": "code",
      "metadata": {
        "id": "ZhZFrcNpwD6m",
        "colab_type": "code",
        "colab": {
          "base_uri": "https://localhost:8080/",
          "height": 395
        },
        "outputId": "1aaaa39b-c074-4cf7-fe0d-669f1041bd49"
      },
      "source": [
        "airlines"
      ],
      "execution_count": null,
      "outputs": [
        {
          "output_type": "display_data",
          "data": {
            "text/plain": [
              "   carrier name                       \n",
              "1  9E      Endeavor Air Inc.          \n",
              "2  AA      American Airlines Inc.     \n",
              "3  AS      Alaska Airlines Inc.       \n",
              "4  B6      JetBlue Airways            \n",
              "5  DL      Delta Air Lines Inc.       \n",
              "6  EV      ExpressJet Airlines Inc.   \n",
              "7  F9      Frontier Airlines Inc.     \n",
              "8  FL      AirTran Airways Corporation\n",
              "9  HA      Hawaiian Airlines Inc.     \n",
              "10 MQ      Envoy Air                  \n",
              "11 OO      SkyWest Airlines Inc.      \n",
              "12 UA      United Air Lines Inc.      \n",
              "13 US      US Airways Inc.            \n",
              "14 VX      Virgin America             \n",
              "15 WN      Southwest Airlines Co.     \n",
              "16 YV      Mesa Airlines Inc.         "
            ],
            "text/latex": "A tibble: 16 × 2\n\\begin{tabular}{ll}\n carrier & name\\\\\n <chr> & <chr>\\\\\n\\hline\n\t 9E & Endeavor Air Inc.          \\\\\n\t AA & American Airlines Inc.     \\\\\n\t AS & Alaska Airlines Inc.       \\\\\n\t B6 & JetBlue Airways            \\\\\n\t DL & Delta Air Lines Inc.       \\\\\n\t EV & ExpressJet Airlines Inc.   \\\\\n\t F9 & Frontier Airlines Inc.     \\\\\n\t FL & AirTran Airways Corporation\\\\\n\t HA & Hawaiian Airlines Inc.     \\\\\n\t MQ & Envoy Air                  \\\\\n\t OO & SkyWest Airlines Inc.      \\\\\n\t UA & United Air Lines Inc.      \\\\\n\t US & US Airways Inc.            \\\\\n\t VX & Virgin America             \\\\\n\t WN & Southwest Airlines Co.     \\\\\n\t YV & Mesa Airlines Inc.         \\\\\n\\end{tabular}\n",
            "text/markdown": "\nA tibble: 16 × 2\n\n| carrier &lt;chr&gt; | name &lt;chr&gt; |\n|---|---|\n| 9E | Endeavor Air Inc.           |\n| AA | American Airlines Inc.      |\n| AS | Alaska Airlines Inc.        |\n| B6 | JetBlue Airways             |\n| DL | Delta Air Lines Inc.        |\n| EV | ExpressJet Airlines Inc.    |\n| F9 | Frontier Airlines Inc.      |\n| FL | AirTran Airways Corporation |\n| HA | Hawaiian Airlines Inc.      |\n| MQ | Envoy Air                   |\n| OO | SkyWest Airlines Inc.       |\n| UA | United Air Lines Inc.       |\n| US | US Airways Inc.             |\n| VX | Virgin America              |\n| WN | Southwest Airlines Co.      |\n| YV | Mesa Airlines Inc.          |\n\n",
            "text/html": [
              "<table>\n",
              "<caption>A tibble: 16 × 2</caption>\n",
              "<thead>\n",
              "\t<tr><th scope=col>carrier</th><th scope=col>name</th></tr>\n",
              "\t<tr><th scope=col>&lt;chr&gt;</th><th scope=col>&lt;chr&gt;</th></tr>\n",
              "</thead>\n",
              "<tbody>\n",
              "\t<tr><td>9E</td><td>Endeavor Air Inc.          </td></tr>\n",
              "\t<tr><td>AA</td><td>American Airlines Inc.     </td></tr>\n",
              "\t<tr><td>AS</td><td>Alaska Airlines Inc.       </td></tr>\n",
              "\t<tr><td>B6</td><td>JetBlue Airways            </td></tr>\n",
              "\t<tr><td>DL</td><td>Delta Air Lines Inc.       </td></tr>\n",
              "\t<tr><td>EV</td><td>ExpressJet Airlines Inc.   </td></tr>\n",
              "\t<tr><td>F9</td><td>Frontier Airlines Inc.     </td></tr>\n",
              "\t<tr><td>FL</td><td>AirTran Airways Corporation</td></tr>\n",
              "\t<tr><td>HA</td><td>Hawaiian Airlines Inc.     </td></tr>\n",
              "\t<tr><td>MQ</td><td>Envoy Air                  </td></tr>\n",
              "\t<tr><td>OO</td><td>SkyWest Airlines Inc.      </td></tr>\n",
              "\t<tr><td>UA</td><td>United Air Lines Inc.      </td></tr>\n",
              "\t<tr><td>US</td><td>US Airways Inc.            </td></tr>\n",
              "\t<tr><td>VX</td><td>Virgin America             </td></tr>\n",
              "\t<tr><td>WN</td><td>Southwest Airlines Co.     </td></tr>\n",
              "\t<tr><td>YV</td><td>Mesa Airlines Inc.         </td></tr>\n",
              "</tbody>\n",
              "</table>\n"
            ]
          },
          "metadata": {
            "tags": []
          }
        }
      ]
    },
    {
      "cell_type": "code",
      "metadata": {
        "id": "pOnSmoepu0V4",
        "colab_type": "code",
        "cellView": "form",
        "colab": {}
      },
      "source": [
        "#@title **Consulte la Respuesta Acá**\n",
        "if(F){\n",
        "filter(flights, carrier %in% c('AA', 'UA', 'DL') )\n",
        "}"
      ],
      "execution_count": null,
      "outputs": []
    },
    {
      "cell_type": "markdown",
      "metadata": {
        "id": "7ADyT-HDxdY7",
        "colab_type": "text"
      },
      "source": [
        "### **3)**\n",
        "Volaron en verano(Junio, Julio y Agosto )"
      ]
    },
    {
      "cell_type": "code",
      "metadata": {
        "id": "hCvweB7wzUDt",
        "colab_type": "code",
        "cellView": "form",
        "colab": {}
      },
      "source": [
        "#@title **Consulte la Respuesta Acá**\n",
        "if(F){\n",
        "  filter(flights, month %in% c(6,7,8))\n",
        "}"
      ],
      "execution_count": null,
      "outputs": []
    },
    {
      "cell_type": "markdown",
      "metadata": {
        "id": "9J6G31jOz9Sz",
        "colab_type": "text"
      },
      "source": [
        "### **4)**\n",
        "Llegaron más de dos horas tarde, pero no salieron tarde"
      ]
    },
    {
      "cell_type": "code",
      "metadata": {
        "id": "a4vtdGRHz-NJ",
        "colab_type": "code",
        "cellView": "form",
        "colab": {
          "base_uri": "https://localhost:8080/",
          "height": 1000
        },
        "outputId": "60ea6e72-652e-475c-e47c-f642d3ba8177"
      },
      "source": [
        "#@title **Consulte la Respuesta Acá**\n",
        "if(T){\n",
        "  filter(flights, arr_delay >=120 & dep_delay <=0 )\n",
        "}"
      ],
      "execution_count": null,
      "outputs": [
        {
          "output_type": "display_data",
          "data": {
            "text/plain": [
              "   year month day dep_time sched_dep_time dep_delay arr_time sched_arr_time\n",
              "1  2013  1    27  1419     1420            -1       1754     1550          \n",
              "2  2013 10     7  1350     1350             0       1736     1526          \n",
              "3  2013 10     7  1357     1359            -2       1858     1654          \n",
              "4  2013 10    16   657      700            -3       1258     1056          \n",
              "5  2013 11     1   658      700            -2       1329     1015          \n",
              "6  2013  3    18  1844     1847            -3         39     2219          \n",
              "7  2013  4    17  1635     1640            -5       2049     1845          \n",
              "8  2013  4    18   558      600            -2       1149      850          \n",
              "9  2013  4    18   655      700            -5       1213      950          \n",
              "10 2013  5    22  1827     1830            -3       2217     2010          \n",
              "11 2013  5    23  1810     1810             0       2208     2000          \n",
              "12 2013  6     5  1604     1615           -11       2041     1840          \n",
              "13 2013  6    14  1708     1710            -2       2227     2015          \n",
              "14 2013  6    24  1602     1605            -3       2134     1916          \n",
              "15 2013  6    27  2052     2100            -8         13     2210          \n",
              "16 2013  6    30  1423     1425            -2       1816     1554          \n",
              "17 2013  7     1   905      905             0       1443     1223          \n",
              "18 2013  7     7  1659     1700            -1       2050     1823          \n",
              "19 2013  7     7  1727     1730            -3       2203     1951          \n",
              "20 2013  7     7  1746     1755            -9       2133     1921          \n",
              "21 2013  7     7  1823     1830            -7       2201     1955          \n",
              "22 2013  7    22  1555     1600            -5       2139     1938          \n",
              "23 2013  7    22  1606     1615            -9       2056     1831          \n",
              "24 2013  7    22  1628     1630            -2       2151     1939          \n",
              "25 2013  7    28  1710     1711            -1       2248     2039          \n",
              "26 2013  8     8  1457     1500            -3       1828     1624          \n",
              "27 2013  8    13   657      659            -2       1015      814          \n",
              "28 2013  8    28  1157     1200            -3       1520     1316          \n",
              "29 2013  9    19   656      700            -4       1037      833          \n",
              "   arr_delay carrier flight tailnum origin dest air_time distance hour minute\n",
              "1  124       MQ      3728   N1EAMQ  EWR    ORD  135       719     14   20    \n",
              "2  130       EV      5181   N611QX  LGA    MSN  117       812     13   50    \n",
              "3  124       AA      1151   N3CMAA  LGA    DFW  192      1389     13   59    \n",
              "4  122       B6         3   N703JB  JFK    SJU  225      1598      7    0    \n",
              "5  194       VX       399   N629VA  JFK    LAX  336      2475      7    0    \n",
              "6  140       UA       389   N560UA  JFK    SFO  386      2586     18   47    \n",
              "7  124       MQ      4540   N721MQ  LGA    DTW  130       502     16   40    \n",
              "8  179       AA       707   N3EXAA  LGA    DFW  234      1389      6    0    \n",
              "9  143       AA      2083   N565AA  EWR    DFW  230      1372      7    0    \n",
              "10 127       MQ      4674   N518MQ  LGA    CLE   90       419     18   30    \n",
              "11 128       MQ      4626   N525MQ  LGA    CMH   82       479     18   10    \n",
              "12 121       MQ      4657   N510MQ  LGA    ATL  158       762     16   15    \n",
              "13 132       AA       181   N320AA  JFK    LAX  334      2475     17   10    \n",
              "14 138       DL       706   N3768   JFK    AUS  247      1521     16    5    \n",
              "15 123       US      2144   N952UW  LGA    BOS   46       184     21    0    \n",
              "16 142       B6      2402   N206JB  JFK    BUF   80       301     14   25    \n",
              "17 140       DL      1057   N337NB  LGA    MIA  183      1096      9    5    \n",
              "18 147       US      2183   N948UW  LGA    DCA   64       214     17    0    \n",
              "19 132       F9       837   N263AV  LGA    DEN  236      1620     17   30    \n",
              "20 132       B6      1407   N374JB  JFK    IAD   78       228     17   55    \n",
              "21 126       MQ      3486   N724MQ  LGA    BNA  113       764     18   30    \n",
              "22 121       DL       141   N713TW  JFK    SFO  371      2586     16    0    \n",
              "23 145       DL      1619   N970DL  LGA    MSP  140      1020     16   15    \n",
              "24 132       B6       423   N625JB  JFK    LAX  332      2475     16   30    \n",
              "25 129       B6       167   N510JB  JFK    OAK  353      2576     17   11    \n",
              "26 124       US      2185   N746UW  LGA    DCA   70       214     15    0    \n",
              "27 121       EV      4522   N14188  EWR    BNA  146       748      6   59    \n",
              "28 124       US      2179   N737US  LGA    DCA   63       214     12    0    \n",
              "29 124       UA       331   N808UA  LGA    ORD  192       733      7    0    \n",
              "   time_hour          \n",
              "1  2013-01-27 14:00:00\n",
              "2  2013-10-07 13:00:00\n",
              "3  2013-10-07 13:00:00\n",
              "4  2013-10-16 07:00:00\n",
              "5  2013-11-01 07:00:00\n",
              "6  2013-03-18 18:00:00\n",
              "7  2013-04-17 16:00:00\n",
              "8  2013-04-18 06:00:00\n",
              "9  2013-04-18 07:00:00\n",
              "10 2013-05-22 18:00:00\n",
              "11 2013-05-23 18:00:00\n",
              "12 2013-06-05 16:00:00\n",
              "13 2013-06-14 17:00:00\n",
              "14 2013-06-24 16:00:00\n",
              "15 2013-06-27 21:00:00\n",
              "16 2013-06-30 14:00:00\n",
              "17 2013-07-01 09:00:00\n",
              "18 2013-07-07 17:00:00\n",
              "19 2013-07-07 17:00:00\n",
              "20 2013-07-07 17:00:00\n",
              "21 2013-07-07 18:00:00\n",
              "22 2013-07-22 16:00:00\n",
              "23 2013-07-22 16:00:00\n",
              "24 2013-07-22 16:00:00\n",
              "25 2013-07-28 17:00:00\n",
              "26 2013-08-08 15:00:00\n",
              "27 2013-08-13 06:00:00\n",
              "28 2013-08-28 12:00:00\n",
              "29 2013-09-19 07:00:00"
            ],
            "text/latex": "A tibble: 29 × 19\n\\begin{tabular}{lllllllllllllllllll}\n year & month & day & dep\\_time & sched\\_dep\\_time & dep\\_delay & arr\\_time & sched\\_arr\\_time & arr\\_delay & carrier & flight & tailnum & origin & dest & air\\_time & distance & hour & minute & time\\_hour\\\\\n <int> & <int> & <int> & <int> & <int> & <dbl> & <int> & <int> & <dbl> & <chr> & <int> & <chr> & <chr> & <chr> & <dbl> & <dbl> & <dbl> & <dbl> & <dttm>\\\\\n\\hline\n\t 2013 &  1 & 27 & 1419 & 1420 &  -1 & 1754 & 1550 & 124 & MQ & 3728 & N1EAMQ & EWR & ORD & 135 &  719 & 14 & 20 & 2013-01-27 14:00:00\\\\\n\t 2013 & 10 &  7 & 1350 & 1350 &   0 & 1736 & 1526 & 130 & EV & 5181 & N611QX & LGA & MSN & 117 &  812 & 13 & 50 & 2013-10-07 13:00:00\\\\\n\t 2013 & 10 &  7 & 1357 & 1359 &  -2 & 1858 & 1654 & 124 & AA & 1151 & N3CMAA & LGA & DFW & 192 & 1389 & 13 & 59 & 2013-10-07 13:00:00\\\\\n\t 2013 & 10 & 16 &  657 &  700 &  -3 & 1258 & 1056 & 122 & B6 &    3 & N703JB & JFK & SJU & 225 & 1598 &  7 &  0 & 2013-10-16 07:00:00\\\\\n\t 2013 & 11 &  1 &  658 &  700 &  -2 & 1329 & 1015 & 194 & VX &  399 & N629VA & JFK & LAX & 336 & 2475 &  7 &  0 & 2013-11-01 07:00:00\\\\\n\t 2013 &  3 & 18 & 1844 & 1847 &  -3 &   39 & 2219 & 140 & UA &  389 & N560UA & JFK & SFO & 386 & 2586 & 18 & 47 & 2013-03-18 18:00:00\\\\\n\t 2013 &  4 & 17 & 1635 & 1640 &  -5 & 2049 & 1845 & 124 & MQ & 4540 & N721MQ & LGA & DTW & 130 &  502 & 16 & 40 & 2013-04-17 16:00:00\\\\\n\t 2013 &  4 & 18 &  558 &  600 &  -2 & 1149 &  850 & 179 & AA &  707 & N3EXAA & LGA & DFW & 234 & 1389 &  6 &  0 & 2013-04-18 06:00:00\\\\\n\t 2013 &  4 & 18 &  655 &  700 &  -5 & 1213 &  950 & 143 & AA & 2083 & N565AA & EWR & DFW & 230 & 1372 &  7 &  0 & 2013-04-18 07:00:00\\\\\n\t 2013 &  5 & 22 & 1827 & 1830 &  -3 & 2217 & 2010 & 127 & MQ & 4674 & N518MQ & LGA & CLE &  90 &  419 & 18 & 30 & 2013-05-22 18:00:00\\\\\n\t 2013 &  5 & 23 & 1810 & 1810 &   0 & 2208 & 2000 & 128 & MQ & 4626 & N525MQ & LGA & CMH &  82 &  479 & 18 & 10 & 2013-05-23 18:00:00\\\\\n\t 2013 &  6 &  5 & 1604 & 1615 & -11 & 2041 & 1840 & 121 & MQ & 4657 & N510MQ & LGA & ATL & 158 &  762 & 16 & 15 & 2013-06-05 16:00:00\\\\\n\t 2013 &  6 & 14 & 1708 & 1710 &  -2 & 2227 & 2015 & 132 & AA &  181 & N320AA & JFK & LAX & 334 & 2475 & 17 & 10 & 2013-06-14 17:00:00\\\\\n\t 2013 &  6 & 24 & 1602 & 1605 &  -3 & 2134 & 1916 & 138 & DL &  706 & N3768  & JFK & AUS & 247 & 1521 & 16 &  5 & 2013-06-24 16:00:00\\\\\n\t 2013 &  6 & 27 & 2052 & 2100 &  -8 &   13 & 2210 & 123 & US & 2144 & N952UW & LGA & BOS &  46 &  184 & 21 &  0 & 2013-06-27 21:00:00\\\\\n\t 2013 &  6 & 30 & 1423 & 1425 &  -2 & 1816 & 1554 & 142 & B6 & 2402 & N206JB & JFK & BUF &  80 &  301 & 14 & 25 & 2013-06-30 14:00:00\\\\\n\t 2013 &  7 &  1 &  905 &  905 &   0 & 1443 & 1223 & 140 & DL & 1057 & N337NB & LGA & MIA & 183 & 1096 &  9 &  5 & 2013-07-01 09:00:00\\\\\n\t 2013 &  7 &  7 & 1659 & 1700 &  -1 & 2050 & 1823 & 147 & US & 2183 & N948UW & LGA & DCA &  64 &  214 & 17 &  0 & 2013-07-07 17:00:00\\\\\n\t 2013 &  7 &  7 & 1727 & 1730 &  -3 & 2203 & 1951 & 132 & F9 &  837 & N263AV & LGA & DEN & 236 & 1620 & 17 & 30 & 2013-07-07 17:00:00\\\\\n\t 2013 &  7 &  7 & 1746 & 1755 &  -9 & 2133 & 1921 & 132 & B6 & 1407 & N374JB & JFK & IAD &  78 &  228 & 17 & 55 & 2013-07-07 17:00:00\\\\\n\t 2013 &  7 &  7 & 1823 & 1830 &  -7 & 2201 & 1955 & 126 & MQ & 3486 & N724MQ & LGA & BNA & 113 &  764 & 18 & 30 & 2013-07-07 18:00:00\\\\\n\t 2013 &  7 & 22 & 1555 & 1600 &  -5 & 2139 & 1938 & 121 & DL &  141 & N713TW & JFK & SFO & 371 & 2586 & 16 &  0 & 2013-07-22 16:00:00\\\\\n\t 2013 &  7 & 22 & 1606 & 1615 &  -9 & 2056 & 1831 & 145 & DL & 1619 & N970DL & LGA & MSP & 140 & 1020 & 16 & 15 & 2013-07-22 16:00:00\\\\\n\t 2013 &  7 & 22 & 1628 & 1630 &  -2 & 2151 & 1939 & 132 & B6 &  423 & N625JB & JFK & LAX & 332 & 2475 & 16 & 30 & 2013-07-22 16:00:00\\\\\n\t 2013 &  7 & 28 & 1710 & 1711 &  -1 & 2248 & 2039 & 129 & B6 &  167 & N510JB & JFK & OAK & 353 & 2576 & 17 & 11 & 2013-07-28 17:00:00\\\\\n\t 2013 &  8 &  8 & 1457 & 1500 &  -3 & 1828 & 1624 & 124 & US & 2185 & N746UW & LGA & DCA &  70 &  214 & 15 &  0 & 2013-08-08 15:00:00\\\\\n\t 2013 &  8 & 13 &  657 &  659 &  -2 & 1015 &  814 & 121 & EV & 4522 & N14188 & EWR & BNA & 146 &  748 &  6 & 59 & 2013-08-13 06:00:00\\\\\n\t 2013 &  8 & 28 & 1157 & 1200 &  -3 & 1520 & 1316 & 124 & US & 2179 & N737US & LGA & DCA &  63 &  214 & 12 &  0 & 2013-08-28 12:00:00\\\\\n\t 2013 &  9 & 19 &  656 &  700 &  -4 & 1037 &  833 & 124 & UA &  331 & N808UA & LGA & ORD & 192 &  733 &  7 &  0 & 2013-09-19 07:00:00\\\\\n\\end{tabular}\n",
            "text/markdown": "\nA tibble: 29 × 19\n\n| year &lt;int&gt; | month &lt;int&gt; | day &lt;int&gt; | dep_time &lt;int&gt; | sched_dep_time &lt;int&gt; | dep_delay &lt;dbl&gt; | arr_time &lt;int&gt; | sched_arr_time &lt;int&gt; | arr_delay &lt;dbl&gt; | carrier &lt;chr&gt; | flight &lt;int&gt; | tailnum &lt;chr&gt; | origin &lt;chr&gt; | dest &lt;chr&gt; | air_time &lt;dbl&gt; | distance &lt;dbl&gt; | hour &lt;dbl&gt; | minute &lt;dbl&gt; | time_hour &lt;dttm&gt; |\n|---|---|---|---|---|---|---|---|---|---|---|---|---|---|---|---|---|---|---|\n| 2013 |  1 | 27 | 1419 | 1420 |  -1 | 1754 | 1550 | 124 | MQ | 3728 | N1EAMQ | EWR | ORD | 135 |  719 | 14 | 20 | 2013-01-27 14:00:00 |\n| 2013 | 10 |  7 | 1350 | 1350 |   0 | 1736 | 1526 | 130 | EV | 5181 | N611QX | LGA | MSN | 117 |  812 | 13 | 50 | 2013-10-07 13:00:00 |\n| 2013 | 10 |  7 | 1357 | 1359 |  -2 | 1858 | 1654 | 124 | AA | 1151 | N3CMAA | LGA | DFW | 192 | 1389 | 13 | 59 | 2013-10-07 13:00:00 |\n| 2013 | 10 | 16 |  657 |  700 |  -3 | 1258 | 1056 | 122 | B6 |    3 | N703JB | JFK | SJU | 225 | 1598 |  7 |  0 | 2013-10-16 07:00:00 |\n| 2013 | 11 |  1 |  658 |  700 |  -2 | 1329 | 1015 | 194 | VX |  399 | N629VA | JFK | LAX | 336 | 2475 |  7 |  0 | 2013-11-01 07:00:00 |\n| 2013 |  3 | 18 | 1844 | 1847 |  -3 |   39 | 2219 | 140 | UA |  389 | N560UA | JFK | SFO | 386 | 2586 | 18 | 47 | 2013-03-18 18:00:00 |\n| 2013 |  4 | 17 | 1635 | 1640 |  -5 | 2049 | 1845 | 124 | MQ | 4540 | N721MQ | LGA | DTW | 130 |  502 | 16 | 40 | 2013-04-17 16:00:00 |\n| 2013 |  4 | 18 |  558 |  600 |  -2 | 1149 |  850 | 179 | AA |  707 | N3EXAA | LGA | DFW | 234 | 1389 |  6 |  0 | 2013-04-18 06:00:00 |\n| 2013 |  4 | 18 |  655 |  700 |  -5 | 1213 |  950 | 143 | AA | 2083 | N565AA | EWR | DFW | 230 | 1372 |  7 |  0 | 2013-04-18 07:00:00 |\n| 2013 |  5 | 22 | 1827 | 1830 |  -3 | 2217 | 2010 | 127 | MQ | 4674 | N518MQ | LGA | CLE |  90 |  419 | 18 | 30 | 2013-05-22 18:00:00 |\n| 2013 |  5 | 23 | 1810 | 1810 |   0 | 2208 | 2000 | 128 | MQ | 4626 | N525MQ | LGA | CMH |  82 |  479 | 18 | 10 | 2013-05-23 18:00:00 |\n| 2013 |  6 |  5 | 1604 | 1615 | -11 | 2041 | 1840 | 121 | MQ | 4657 | N510MQ | LGA | ATL | 158 |  762 | 16 | 15 | 2013-06-05 16:00:00 |\n| 2013 |  6 | 14 | 1708 | 1710 |  -2 | 2227 | 2015 | 132 | AA |  181 | N320AA | JFK | LAX | 334 | 2475 | 17 | 10 | 2013-06-14 17:00:00 |\n| 2013 |  6 | 24 | 1602 | 1605 |  -3 | 2134 | 1916 | 138 | DL |  706 | N3768  | JFK | AUS | 247 | 1521 | 16 |  5 | 2013-06-24 16:00:00 |\n| 2013 |  6 | 27 | 2052 | 2100 |  -8 |   13 | 2210 | 123 | US | 2144 | N952UW | LGA | BOS |  46 |  184 | 21 |  0 | 2013-06-27 21:00:00 |\n| 2013 |  6 | 30 | 1423 | 1425 |  -2 | 1816 | 1554 | 142 | B6 | 2402 | N206JB | JFK | BUF |  80 |  301 | 14 | 25 | 2013-06-30 14:00:00 |\n| 2013 |  7 |  1 |  905 |  905 |   0 | 1443 | 1223 | 140 | DL | 1057 | N337NB | LGA | MIA | 183 | 1096 |  9 |  5 | 2013-07-01 09:00:00 |\n| 2013 |  7 |  7 | 1659 | 1700 |  -1 | 2050 | 1823 | 147 | US | 2183 | N948UW | LGA | DCA |  64 |  214 | 17 |  0 | 2013-07-07 17:00:00 |\n| 2013 |  7 |  7 | 1727 | 1730 |  -3 | 2203 | 1951 | 132 | F9 |  837 | N263AV | LGA | DEN | 236 | 1620 | 17 | 30 | 2013-07-07 17:00:00 |\n| 2013 |  7 |  7 | 1746 | 1755 |  -9 | 2133 | 1921 | 132 | B6 | 1407 | N374JB | JFK | IAD |  78 |  228 | 17 | 55 | 2013-07-07 17:00:00 |\n| 2013 |  7 |  7 | 1823 | 1830 |  -7 | 2201 | 1955 | 126 | MQ | 3486 | N724MQ | LGA | BNA | 113 |  764 | 18 | 30 | 2013-07-07 18:00:00 |\n| 2013 |  7 | 22 | 1555 | 1600 |  -5 | 2139 | 1938 | 121 | DL |  141 | N713TW | JFK | SFO | 371 | 2586 | 16 |  0 | 2013-07-22 16:00:00 |\n| 2013 |  7 | 22 | 1606 | 1615 |  -9 | 2056 | 1831 | 145 | DL | 1619 | N970DL | LGA | MSP | 140 | 1020 | 16 | 15 | 2013-07-22 16:00:00 |\n| 2013 |  7 | 22 | 1628 | 1630 |  -2 | 2151 | 1939 | 132 | B6 |  423 | N625JB | JFK | LAX | 332 | 2475 | 16 | 30 | 2013-07-22 16:00:00 |\n| 2013 |  7 | 28 | 1710 | 1711 |  -1 | 2248 | 2039 | 129 | B6 |  167 | N510JB | JFK | OAK | 353 | 2576 | 17 | 11 | 2013-07-28 17:00:00 |\n| 2013 |  8 |  8 | 1457 | 1500 |  -3 | 1828 | 1624 | 124 | US | 2185 | N746UW | LGA | DCA |  70 |  214 | 15 |  0 | 2013-08-08 15:00:00 |\n| 2013 |  8 | 13 |  657 |  659 |  -2 | 1015 |  814 | 121 | EV | 4522 | N14188 | EWR | BNA | 146 |  748 |  6 | 59 | 2013-08-13 06:00:00 |\n| 2013 |  8 | 28 | 1157 | 1200 |  -3 | 1520 | 1316 | 124 | US | 2179 | N737US | LGA | DCA |  63 |  214 | 12 |  0 | 2013-08-28 12:00:00 |\n| 2013 |  9 | 19 |  656 |  700 |  -4 | 1037 |  833 | 124 | UA |  331 | N808UA | LGA | ORD | 192 |  733 |  7 |  0 | 2013-09-19 07:00:00 |\n\n",
            "text/html": [
              "<table>\n",
              "<caption>A tibble: 29 × 19</caption>\n",
              "<thead>\n",
              "\t<tr><th scope=col>year</th><th scope=col>month</th><th scope=col>day</th><th scope=col>dep_time</th><th scope=col>sched_dep_time</th><th scope=col>dep_delay</th><th scope=col>arr_time</th><th scope=col>sched_arr_time</th><th scope=col>arr_delay</th><th scope=col>carrier</th><th scope=col>flight</th><th scope=col>tailnum</th><th scope=col>origin</th><th scope=col>dest</th><th scope=col>air_time</th><th scope=col>distance</th><th scope=col>hour</th><th scope=col>minute</th><th scope=col>time_hour</th></tr>\n",
              "\t<tr><th scope=col>&lt;int&gt;</th><th scope=col>&lt;int&gt;</th><th scope=col>&lt;int&gt;</th><th scope=col>&lt;int&gt;</th><th scope=col>&lt;int&gt;</th><th scope=col>&lt;dbl&gt;</th><th scope=col>&lt;int&gt;</th><th scope=col>&lt;int&gt;</th><th scope=col>&lt;dbl&gt;</th><th scope=col>&lt;chr&gt;</th><th scope=col>&lt;int&gt;</th><th scope=col>&lt;chr&gt;</th><th scope=col>&lt;chr&gt;</th><th scope=col>&lt;chr&gt;</th><th scope=col>&lt;dbl&gt;</th><th scope=col>&lt;dbl&gt;</th><th scope=col>&lt;dbl&gt;</th><th scope=col>&lt;dbl&gt;</th><th scope=col>&lt;dttm&gt;</th></tr>\n",
              "</thead>\n",
              "<tbody>\n",
              "\t<tr><td>2013</td><td> 1</td><td>27</td><td>1419</td><td>1420</td><td> -1</td><td>1754</td><td>1550</td><td>124</td><td>MQ</td><td>3728</td><td>N1EAMQ</td><td>EWR</td><td>ORD</td><td>135</td><td> 719</td><td>14</td><td>20</td><td>2013-01-27 14:00:00</td></tr>\n",
              "\t<tr><td>2013</td><td>10</td><td> 7</td><td>1350</td><td>1350</td><td>  0</td><td>1736</td><td>1526</td><td>130</td><td>EV</td><td>5181</td><td>N611QX</td><td>LGA</td><td>MSN</td><td>117</td><td> 812</td><td>13</td><td>50</td><td>2013-10-07 13:00:00</td></tr>\n",
              "\t<tr><td>2013</td><td>10</td><td> 7</td><td>1357</td><td>1359</td><td> -2</td><td>1858</td><td>1654</td><td>124</td><td>AA</td><td>1151</td><td>N3CMAA</td><td>LGA</td><td>DFW</td><td>192</td><td>1389</td><td>13</td><td>59</td><td>2013-10-07 13:00:00</td></tr>\n",
              "\t<tr><td>2013</td><td>10</td><td>16</td><td> 657</td><td> 700</td><td> -3</td><td>1258</td><td>1056</td><td>122</td><td>B6</td><td>   3</td><td>N703JB</td><td>JFK</td><td>SJU</td><td>225</td><td>1598</td><td> 7</td><td> 0</td><td>2013-10-16 07:00:00</td></tr>\n",
              "\t<tr><td>2013</td><td>11</td><td> 1</td><td> 658</td><td> 700</td><td> -2</td><td>1329</td><td>1015</td><td>194</td><td>VX</td><td> 399</td><td>N629VA</td><td>JFK</td><td>LAX</td><td>336</td><td>2475</td><td> 7</td><td> 0</td><td>2013-11-01 07:00:00</td></tr>\n",
              "\t<tr><td>2013</td><td> 3</td><td>18</td><td>1844</td><td>1847</td><td> -3</td><td>  39</td><td>2219</td><td>140</td><td>UA</td><td> 389</td><td>N560UA</td><td>JFK</td><td>SFO</td><td>386</td><td>2586</td><td>18</td><td>47</td><td>2013-03-18 18:00:00</td></tr>\n",
              "\t<tr><td>2013</td><td> 4</td><td>17</td><td>1635</td><td>1640</td><td> -5</td><td>2049</td><td>1845</td><td>124</td><td>MQ</td><td>4540</td><td>N721MQ</td><td>LGA</td><td>DTW</td><td>130</td><td> 502</td><td>16</td><td>40</td><td>2013-04-17 16:00:00</td></tr>\n",
              "\t<tr><td>2013</td><td> 4</td><td>18</td><td> 558</td><td> 600</td><td> -2</td><td>1149</td><td> 850</td><td>179</td><td>AA</td><td> 707</td><td>N3EXAA</td><td>LGA</td><td>DFW</td><td>234</td><td>1389</td><td> 6</td><td> 0</td><td>2013-04-18 06:00:00</td></tr>\n",
              "\t<tr><td>2013</td><td> 4</td><td>18</td><td> 655</td><td> 700</td><td> -5</td><td>1213</td><td> 950</td><td>143</td><td>AA</td><td>2083</td><td>N565AA</td><td>EWR</td><td>DFW</td><td>230</td><td>1372</td><td> 7</td><td> 0</td><td>2013-04-18 07:00:00</td></tr>\n",
              "\t<tr><td>2013</td><td> 5</td><td>22</td><td>1827</td><td>1830</td><td> -3</td><td>2217</td><td>2010</td><td>127</td><td>MQ</td><td>4674</td><td>N518MQ</td><td>LGA</td><td>CLE</td><td> 90</td><td> 419</td><td>18</td><td>30</td><td>2013-05-22 18:00:00</td></tr>\n",
              "\t<tr><td>2013</td><td> 5</td><td>23</td><td>1810</td><td>1810</td><td>  0</td><td>2208</td><td>2000</td><td>128</td><td>MQ</td><td>4626</td><td>N525MQ</td><td>LGA</td><td>CMH</td><td> 82</td><td> 479</td><td>18</td><td>10</td><td>2013-05-23 18:00:00</td></tr>\n",
              "\t<tr><td>2013</td><td> 6</td><td> 5</td><td>1604</td><td>1615</td><td>-11</td><td>2041</td><td>1840</td><td>121</td><td>MQ</td><td>4657</td><td>N510MQ</td><td>LGA</td><td>ATL</td><td>158</td><td> 762</td><td>16</td><td>15</td><td>2013-06-05 16:00:00</td></tr>\n",
              "\t<tr><td>2013</td><td> 6</td><td>14</td><td>1708</td><td>1710</td><td> -2</td><td>2227</td><td>2015</td><td>132</td><td>AA</td><td> 181</td><td>N320AA</td><td>JFK</td><td>LAX</td><td>334</td><td>2475</td><td>17</td><td>10</td><td>2013-06-14 17:00:00</td></tr>\n",
              "\t<tr><td>2013</td><td> 6</td><td>24</td><td>1602</td><td>1605</td><td> -3</td><td>2134</td><td>1916</td><td>138</td><td>DL</td><td> 706</td><td>N3768 </td><td>JFK</td><td>AUS</td><td>247</td><td>1521</td><td>16</td><td> 5</td><td>2013-06-24 16:00:00</td></tr>\n",
              "\t<tr><td>2013</td><td> 6</td><td>27</td><td>2052</td><td>2100</td><td> -8</td><td>  13</td><td>2210</td><td>123</td><td>US</td><td>2144</td><td>N952UW</td><td>LGA</td><td>BOS</td><td> 46</td><td> 184</td><td>21</td><td> 0</td><td>2013-06-27 21:00:00</td></tr>\n",
              "\t<tr><td>2013</td><td> 6</td><td>30</td><td>1423</td><td>1425</td><td> -2</td><td>1816</td><td>1554</td><td>142</td><td>B6</td><td>2402</td><td>N206JB</td><td>JFK</td><td>BUF</td><td> 80</td><td> 301</td><td>14</td><td>25</td><td>2013-06-30 14:00:00</td></tr>\n",
              "\t<tr><td>2013</td><td> 7</td><td> 1</td><td> 905</td><td> 905</td><td>  0</td><td>1443</td><td>1223</td><td>140</td><td>DL</td><td>1057</td><td>N337NB</td><td>LGA</td><td>MIA</td><td>183</td><td>1096</td><td> 9</td><td> 5</td><td>2013-07-01 09:00:00</td></tr>\n",
              "\t<tr><td>2013</td><td> 7</td><td> 7</td><td>1659</td><td>1700</td><td> -1</td><td>2050</td><td>1823</td><td>147</td><td>US</td><td>2183</td><td>N948UW</td><td>LGA</td><td>DCA</td><td> 64</td><td> 214</td><td>17</td><td> 0</td><td>2013-07-07 17:00:00</td></tr>\n",
              "\t<tr><td>2013</td><td> 7</td><td> 7</td><td>1727</td><td>1730</td><td> -3</td><td>2203</td><td>1951</td><td>132</td><td>F9</td><td> 837</td><td>N263AV</td><td>LGA</td><td>DEN</td><td>236</td><td>1620</td><td>17</td><td>30</td><td>2013-07-07 17:00:00</td></tr>\n",
              "\t<tr><td>2013</td><td> 7</td><td> 7</td><td>1746</td><td>1755</td><td> -9</td><td>2133</td><td>1921</td><td>132</td><td>B6</td><td>1407</td><td>N374JB</td><td>JFK</td><td>IAD</td><td> 78</td><td> 228</td><td>17</td><td>55</td><td>2013-07-07 17:00:00</td></tr>\n",
              "\t<tr><td>2013</td><td> 7</td><td> 7</td><td>1823</td><td>1830</td><td> -7</td><td>2201</td><td>1955</td><td>126</td><td>MQ</td><td>3486</td><td>N724MQ</td><td>LGA</td><td>BNA</td><td>113</td><td> 764</td><td>18</td><td>30</td><td>2013-07-07 18:00:00</td></tr>\n",
              "\t<tr><td>2013</td><td> 7</td><td>22</td><td>1555</td><td>1600</td><td> -5</td><td>2139</td><td>1938</td><td>121</td><td>DL</td><td> 141</td><td>N713TW</td><td>JFK</td><td>SFO</td><td>371</td><td>2586</td><td>16</td><td> 0</td><td>2013-07-22 16:00:00</td></tr>\n",
              "\t<tr><td>2013</td><td> 7</td><td>22</td><td>1606</td><td>1615</td><td> -9</td><td>2056</td><td>1831</td><td>145</td><td>DL</td><td>1619</td><td>N970DL</td><td>LGA</td><td>MSP</td><td>140</td><td>1020</td><td>16</td><td>15</td><td>2013-07-22 16:00:00</td></tr>\n",
              "\t<tr><td>2013</td><td> 7</td><td>22</td><td>1628</td><td>1630</td><td> -2</td><td>2151</td><td>1939</td><td>132</td><td>B6</td><td> 423</td><td>N625JB</td><td>JFK</td><td>LAX</td><td>332</td><td>2475</td><td>16</td><td>30</td><td>2013-07-22 16:00:00</td></tr>\n",
              "\t<tr><td>2013</td><td> 7</td><td>28</td><td>1710</td><td>1711</td><td> -1</td><td>2248</td><td>2039</td><td>129</td><td>B6</td><td> 167</td><td>N510JB</td><td>JFK</td><td>OAK</td><td>353</td><td>2576</td><td>17</td><td>11</td><td>2013-07-28 17:00:00</td></tr>\n",
              "\t<tr><td>2013</td><td> 8</td><td> 8</td><td>1457</td><td>1500</td><td> -3</td><td>1828</td><td>1624</td><td>124</td><td>US</td><td>2185</td><td>N746UW</td><td>LGA</td><td>DCA</td><td> 70</td><td> 214</td><td>15</td><td> 0</td><td>2013-08-08 15:00:00</td></tr>\n",
              "\t<tr><td>2013</td><td> 8</td><td>13</td><td> 657</td><td> 659</td><td> -2</td><td>1015</td><td> 814</td><td>121</td><td>EV</td><td>4522</td><td>N14188</td><td>EWR</td><td>BNA</td><td>146</td><td> 748</td><td> 6</td><td>59</td><td>2013-08-13 06:00:00</td></tr>\n",
              "\t<tr><td>2013</td><td> 8</td><td>28</td><td>1157</td><td>1200</td><td> -3</td><td>1520</td><td>1316</td><td>124</td><td>US</td><td>2179</td><td>N737US</td><td>LGA</td><td>DCA</td><td> 63</td><td> 214</td><td>12</td><td> 0</td><td>2013-08-28 12:00:00</td></tr>\n",
              "\t<tr><td>2013</td><td> 9</td><td>19</td><td> 656</td><td> 700</td><td> -4</td><td>1037</td><td> 833</td><td>124</td><td>UA</td><td> 331</td><td>N808UA</td><td>LGA</td><td>ORD</td><td>192</td><td> 733</td><td> 7</td><td> 0</td><td>2013-09-19 07:00:00</td></tr>\n",
              "</tbody>\n",
              "</table>\n"
            ]
          },
          "metadata": {
            "tags": []
          }
        }
      ]
    },
    {
      "cell_type": "markdown",
      "metadata": {
        "id": "aZrLzG_U1J3H",
        "colab_type": "text"
      },
      "source": [
        "### **5)**\n",
        "Salieron entre la media noche y las 6 a.m. (incluyendo)"
      ]
    },
    {
      "cell_type": "code",
      "metadata": {
        "id": "LExnVmal1KUN",
        "colab_type": "code",
        "cellView": "form",
        "colab": {}
      },
      "source": [
        "#@title **Consulte la Respuesta Acá**\n",
        "if(F){\n",
        "  filter(flights, dep_time <= 600)\n",
        "}"
      ],
      "execution_count": null,
      "outputs": []
    },
    {
      "cell_type": "markdown",
      "metadata": {
        "id": "k1x9nYbt3dT2",
        "colab_type": "text"
      },
      "source": [
        "##**Organizar filas con `arrange()`**\n",
        "\n",
        "`arrange() `funciona de manera similar a `filter() `excepto que en lugar de seleccionar filas, cambia su orden. Se necesita un marco de datos y un conjunto de nombres de columna (o expresiones más complicadas) para ordenar. Si proporciona más de un nombre de columna, cada columna adicional se utilizará para romper los lazos en los valores de las columnas anteriores:"
      ]
    },
    {
      "cell_type": "code",
      "metadata": {
        "id": "4Ke_e4hH35n4",
        "colab_type": "code",
        "colab": {
          "base_uri": "https://localhost:8080/",
          "height": 1000
        },
        "outputId": "a17a10fc-0bef-49eb-ca1e-c468256c85e4"
      },
      "source": [
        "arrange(flights, year, month, day)"
      ],
      "execution_count": 24,
      "outputs": [
        {
          "output_type": "display_data",
          "data": {
            "text/plain": [
              "       year month day dep_time sched_dep_time dep_delay arr_time sched_arr_time\n",
              "1      2013 1     1   517      515             2         830      819          \n",
              "2      2013 1     1   533      529             4         850      830          \n",
              "3      2013 1     1   542      540             2         923      850          \n",
              "4      2013 1     1   544      545            -1        1004     1022          \n",
              "5      2013 1     1   554      600            -6         812      837          \n",
              "6      2013 1     1   554      558            -4         740      728          \n",
              "7      2013 1     1   555      600            -5         913      854          \n",
              "8      2013 1     1   557      600            -3         709      723          \n",
              "9      2013 1     1   557      600            -3         838      846          \n",
              "10     2013 1     1   558      600            -2         753      745          \n",
              "11     2013 1     1   558      600            -2         849      851          \n",
              "12     2013 1     1   558      600            -2         853      856          \n",
              "13     2013 1     1   558      600            -2         924      917          \n",
              "14     2013 1     1   558      600            -2         923      937          \n",
              "15     2013 1     1   559      600            -1         941      910          \n",
              "16     2013 1     1   559      559             0         702      706          \n",
              "17     2013 1     1   559      600            -1         854      902          \n",
              "18     2013 1     1   600      600             0         851      858          \n",
              "19     2013 1     1   600      600             0         837      825          \n",
              "20     2013 1     1   601      600             1         844      850          \n",
              "21     2013 1     1   602      610            -8         812      820          \n",
              "22     2013 1     1   602      605            -3         821      805          \n",
              "23     2013 1     1   606      610            -4         858      910          \n",
              "24     2013 1     1   606      610            -4         837      845          \n",
              "25     2013 1     1   607      607             0         858      915          \n",
              "26     2013 1     1   608      600             8         807      735          \n",
              "27     2013 1     1   611      600            11         945      931          \n",
              "28     2013 1     1   613      610             3         925      921          \n",
              "29     2013 1     1   615      615             0        1039     1100          \n",
              "30     2013 1     1   615      615             0         833      842          \n",
              "⋮      ⋮    ⋮     ⋮   ⋮        ⋮              ⋮         ⋮        ⋮             \n",
              "336747 2013 12    31  2155     2039            76        253     2355          \n",
              "336748 2013 12    31  2155     2150             5        110       51          \n",
              "336749 2013 12    31  2159     2155             4         55       46          \n",
              "336750 2013 12    31  2206     2110            56         44     2339          \n",
              "336751 2013 12    31  2211     2159            12        100       45          \n",
              "336752 2013 12    31  2218     2219            -1        315      304          \n",
              "336753 2013 12    31  2235     2245           -10       2351     2355          \n",
              "336754 2013 12    31  2245     2250            -5       2359     2356          \n",
              "336755 2013 12    31  2310     2255            15          7     2356          \n",
              "336756 2013 12    31  2321     2250            31         46        8          \n",
              "336757 2013 12    31  2328     2330            -2        412      409          \n",
              "336758 2013 12    31  2332     2245            47         58        3          \n",
              "336759 2013 12    31  2355     2359            -4        430      440          \n",
              "336760 2013 12    31  2356     2359            -3        436      445          \n",
              "336761 2013 12    31    NA     1520            NA         NA     1705          \n",
              "336762 2013 12    31    NA     2025            NA         NA     2205          \n",
              "336763 2013 12    31    NA     1932            NA         NA     2305          \n",
              "336764 2013 12    31    NA     1505            NA         NA     1725          \n",
              "336765 2013 12    31    NA     1000            NA         NA     1252          \n",
              "336766 2013 12    31    NA      840            NA         NA     1205          \n",
              "336767 2013 12    31    NA      754            NA         NA     1118          \n",
              "336768 2013 12    31    NA     2000            NA         NA     2146          \n",
              "336769 2013 12    31    NA     1500            NA         NA     1817          \n",
              "336770 2013 12    31    NA     1430            NA         NA     1750          \n",
              "336771 2013 12    31    NA      855            NA         NA     1142          \n",
              "336772 2013 12    31    NA      705            NA         NA      931          \n",
              "336773 2013 12    31    NA      825            NA         NA     1029          \n",
              "336774 2013 12    31    NA     1615            NA         NA     1800          \n",
              "336775 2013 12    31    NA      600            NA         NA      735          \n",
              "336776 2013 12    31    NA      830            NA         NA     1154          \n",
              "       arr_delay carrier flight tailnum origin dest air_time distance hour\n",
              "1       11       UA      1545   N14228  EWR    IAH  227      1400     5   \n",
              "2       20       UA      1714   N24211  LGA    IAH  227      1416     5   \n",
              "3       33       AA      1141   N619AA  JFK    MIA  160      1089     5   \n",
              "4      -18       B6       725   N804JB  JFK    BQN  183      1576     5   \n",
              "5      -25       DL       461   N668DN  LGA    ATL  116       762     6   \n",
              "6       12       UA      1696   N39463  EWR    ORD  150       719     5   \n",
              "7       19       B6       507   N516JB  EWR    FLL  158      1065     6   \n",
              "8      -14       EV      5708   N829AS  LGA    IAD   53       229     6   \n",
              "9       -8       B6        79   N593JB  JFK    MCO  140       944     6   \n",
              "10       8       AA       301   N3ALAA  LGA    ORD  138       733     6   \n",
              "11      -2       B6        49   N793JB  JFK    PBI  149      1028     6   \n",
              "12      -3       B6        71   N657JB  JFK    TPA  158      1005     6   \n",
              "13       7       UA       194   N29129  JFK    LAX  345      2475     6   \n",
              "14     -14       UA      1124   N53441  EWR    SFO  361      2565     6   \n",
              "15      31       AA       707   N3DUAA  LGA    DFW  257      1389     6   \n",
              "16      -4       B6      1806   N708JB  JFK    BOS   44       187     5   \n",
              "17      -8       UA      1187   N76515  EWR    LAS  337      2227     6   \n",
              "18      -7       B6       371   N595JB  LGA    FLL  152      1076     6   \n",
              "19      12       MQ      4650   N542MQ  LGA    ATL  134       762     6   \n",
              "20      -6       B6       343   N644JB  EWR    PBI  147      1023     6   \n",
              "21      -8       DL      1919   N971DL  LGA    MSP  170      1020     6   \n",
              "22      16       MQ      4401   N730MQ  LGA    DTW  105       502     6   \n",
              "23     -12       AA      1895   N633AA  EWR    MIA  152      1085     6   \n",
              "24      -8       DL      1743   N3739P  JFK    ATL  128       760     6   \n",
              "25     -17       UA      1077   N53442  EWR    MIA  157      1085     6   \n",
              "26      32       MQ      3768   N9EAMQ  EWR    ORD  139       719     6   \n",
              "27      14       UA       303   N532UA  JFK    SFO  366      2586     6   \n",
              "28       4       B6       135   N635JB  JFK    RSW  175      1074     6   \n",
              "29     -21       B6       709   N794JB  JFK    SJU  182      1598     6   \n",
              "30      -9       DL       575   N326NB  EWR    ATL  120       746     6   \n",
              "⋮      ⋮         ⋮       ⋮      ⋮       ⋮      ⋮    ⋮        ⋮        ⋮   \n",
              "336747  NA       B6      1205   N627JB  JFK    PDX   NA      2454     20  \n",
              "336748  19       B6      1901   N729JB  JFK    FLL  164      1069     21  \n",
              "336749   9       B6      2053   N593JB  JFK    PBI  155      1028     21  \n",
              "336750  65       B6       775   N184JB  JFK    MSY  195      1182     21  \n",
              "336751  15       B6      1183   N715JB  JFK    MCO  148       944     21  \n",
              "336752  11       B6      1203   N625JB  JFK    SJU  202      1598     22  \n",
              "336753  -4       B6       234   N355JB  JFK    BTV   49       266     22  \n",
              "336754   3       B6      1816   N318JB  JFK    SYR   51       209     22  \n",
              "336755  11       B6       718   N279JB  JFK    BOS   40       187     22  \n",
              "336756  38       B6      2002   N179JB  JFK    BUF   66       301     22  \n",
              "336757   3       B6      1389   N651JB  EWR    SJU  198      1608     23  \n",
              "336758  55       B6       486   N334JB  JFK    ROC   60       264     22  \n",
              "336759 -10       B6      1503   N509JB  JFK    SJU  195      1598     23  \n",
              "336760  -9       B6       745   N665JB  JFK    PSE  200      1617     23  \n",
              "336761  NA       AA       341   N568AA  LGA    ORD   NA       733     15  \n",
              "336762  NA       AA       371   N482AA  LGA    ORD   NA       733     20  \n",
              "336763  NA       B6       161   N516JB  JFK    SMF   NA      2521     19  \n",
              "336764  NA       EV      4181   N24103  EWR    MCI   NA      1092     15  \n",
              "336765  NA       UA      1124   NA      EWR    EGE   NA      1725     10  \n",
              "336766  NA       UA      1151   NA      EWR    SEA   NA      2402      8  \n",
              "336767  NA       UA      1455   NA      EWR    LAX   NA      2454      7  \n",
              "336768  NA       UA      1482   NA      EWR    ORD   NA       719     20  \n",
              "336769  NA       UA      1483   NA      EWR    AUS   NA      1504     15  \n",
              "336770  NA       UA      1493   NA      EWR    LAX   NA      2454     14  \n",
              "336771  NA       UA      1506   NA      EWR    JAC   NA      1874      8  \n",
              "336772  NA       UA      1729   NA      EWR    DEN   NA      1605      7  \n",
              "336773  NA       US      1831   NA      JFK    CLT   NA       541      8  \n",
              "336774  NA       MQ      3301   N844MQ  LGA    RDU   NA       431     16  \n",
              "336775  NA       UA       219   NA      EWR    ORD   NA       719      6  \n",
              "336776  NA       UA       443   NA      JFK    LAX   NA      2475      8  \n",
              "       minute time_hour          \n",
              "1      15     2013-01-01 05:00:00\n",
              "2      29     2013-01-01 05:00:00\n",
              "3      40     2013-01-01 05:00:00\n",
              "4      45     2013-01-01 05:00:00\n",
              "5       0     2013-01-01 06:00:00\n",
              "6      58     2013-01-01 05:00:00\n",
              "7       0     2013-01-01 06:00:00\n",
              "8       0     2013-01-01 06:00:00\n",
              "9       0     2013-01-01 06:00:00\n",
              "10      0     2013-01-01 06:00:00\n",
              "11      0     2013-01-01 06:00:00\n",
              "12      0     2013-01-01 06:00:00\n",
              "13      0     2013-01-01 06:00:00\n",
              "14      0     2013-01-01 06:00:00\n",
              "15      0     2013-01-01 06:00:00\n",
              "16     59     2013-01-01 05:00:00\n",
              "17      0     2013-01-01 06:00:00\n",
              "18      0     2013-01-01 06:00:00\n",
              "19      0     2013-01-01 06:00:00\n",
              "20      0     2013-01-01 06:00:00\n",
              "21     10     2013-01-01 06:00:00\n",
              "22      5     2013-01-01 06:00:00\n",
              "23     10     2013-01-01 06:00:00\n",
              "24     10     2013-01-01 06:00:00\n",
              "25      7     2013-01-01 06:00:00\n",
              "26      0     2013-01-01 06:00:00\n",
              "27      0     2013-01-01 06:00:00\n",
              "28     10     2013-01-01 06:00:00\n",
              "29     15     2013-01-01 06:00:00\n",
              "30     15     2013-01-01 06:00:00\n",
              "⋮      ⋮      ⋮                  \n",
              "336747 39     2013-12-31 20:00:00\n",
              "336748 50     2013-12-31 21:00:00\n",
              "336749 55     2013-12-31 21:00:00\n",
              "336750 10     2013-12-31 21:00:00\n",
              "336751 59     2013-12-31 21:00:00\n",
              "336752 19     2013-12-31 22:00:00\n",
              "336753 45     2013-12-31 22:00:00\n",
              "336754 50     2013-12-31 22:00:00\n",
              "336755 55     2013-12-31 22:00:00\n",
              "336756 50     2013-12-31 22:00:00\n",
              "336757 30     2013-12-31 23:00:00\n",
              "336758 45     2013-12-31 22:00:00\n",
              "336759 59     2013-12-31 23:00:00\n",
              "336760 59     2013-12-31 23:00:00\n",
              "336761 20     2013-12-31 15:00:00\n",
              "336762 25     2013-12-31 20:00:00\n",
              "336763 32     2013-12-31 19:00:00\n",
              "336764  5     2013-12-31 15:00:00\n",
              "336765  0     2013-12-31 10:00:00\n",
              "336766 40     2013-12-31 08:00:00\n",
              "336767 54     2013-12-31 07:00:00\n",
              "336768  0     2013-12-31 20:00:00\n",
              "336769  0     2013-12-31 15:00:00\n",
              "336770 30     2013-12-31 14:00:00\n",
              "336771 55     2013-12-31 08:00:00\n",
              "336772  5     2013-12-31 07:00:00\n",
              "336773 25     2013-12-31 08:00:00\n",
              "336774 15     2013-12-31 16:00:00\n",
              "336775  0     2013-12-31 06:00:00\n",
              "336776 30     2013-12-31 08:00:00"
            ],
            "text/latex": "A tibble: 336776 × 19\n\\begin{tabular}{lllllllllllllllllll}\n year & month & day & dep\\_time & sched\\_dep\\_time & dep\\_delay & arr\\_time & sched\\_arr\\_time & arr\\_delay & carrier & flight & tailnum & origin & dest & air\\_time & distance & hour & minute & time\\_hour\\\\\n <int> & <int> & <int> & <int> & <int> & <dbl> & <int> & <int> & <dbl> & <chr> & <int> & <chr> & <chr> & <chr> & <dbl> & <dbl> & <dbl> & <dbl> & <dttm>\\\\\n\\hline\n\t 2013 & 1 & 1 & 517 & 515 &  2 &  830 &  819 &  11 & UA & 1545 & N14228 & EWR & IAH & 227 & 1400 & 5 & 15 & 2013-01-01 05:00:00\\\\\n\t 2013 & 1 & 1 & 533 & 529 &  4 &  850 &  830 &  20 & UA & 1714 & N24211 & LGA & IAH & 227 & 1416 & 5 & 29 & 2013-01-01 05:00:00\\\\\n\t 2013 & 1 & 1 & 542 & 540 &  2 &  923 &  850 &  33 & AA & 1141 & N619AA & JFK & MIA & 160 & 1089 & 5 & 40 & 2013-01-01 05:00:00\\\\\n\t 2013 & 1 & 1 & 544 & 545 & -1 & 1004 & 1022 & -18 & B6 &  725 & N804JB & JFK & BQN & 183 & 1576 & 5 & 45 & 2013-01-01 05:00:00\\\\\n\t 2013 & 1 & 1 & 554 & 600 & -6 &  812 &  837 & -25 & DL &  461 & N668DN & LGA & ATL & 116 &  762 & 6 &  0 & 2013-01-01 06:00:00\\\\\n\t 2013 & 1 & 1 & 554 & 558 & -4 &  740 &  728 &  12 & UA & 1696 & N39463 & EWR & ORD & 150 &  719 & 5 & 58 & 2013-01-01 05:00:00\\\\\n\t 2013 & 1 & 1 & 555 & 600 & -5 &  913 &  854 &  19 & B6 &  507 & N516JB & EWR & FLL & 158 & 1065 & 6 &  0 & 2013-01-01 06:00:00\\\\\n\t 2013 & 1 & 1 & 557 & 600 & -3 &  709 &  723 & -14 & EV & 5708 & N829AS & LGA & IAD &  53 &  229 & 6 &  0 & 2013-01-01 06:00:00\\\\\n\t 2013 & 1 & 1 & 557 & 600 & -3 &  838 &  846 &  -8 & B6 &   79 & N593JB & JFK & MCO & 140 &  944 & 6 &  0 & 2013-01-01 06:00:00\\\\\n\t 2013 & 1 & 1 & 558 & 600 & -2 &  753 &  745 &   8 & AA &  301 & N3ALAA & LGA & ORD & 138 &  733 & 6 &  0 & 2013-01-01 06:00:00\\\\\n\t 2013 & 1 & 1 & 558 & 600 & -2 &  849 &  851 &  -2 & B6 &   49 & N793JB & JFK & PBI & 149 & 1028 & 6 &  0 & 2013-01-01 06:00:00\\\\\n\t 2013 & 1 & 1 & 558 & 600 & -2 &  853 &  856 &  -3 & B6 &   71 & N657JB & JFK & TPA & 158 & 1005 & 6 &  0 & 2013-01-01 06:00:00\\\\\n\t 2013 & 1 & 1 & 558 & 600 & -2 &  924 &  917 &   7 & UA &  194 & N29129 & JFK & LAX & 345 & 2475 & 6 &  0 & 2013-01-01 06:00:00\\\\\n\t 2013 & 1 & 1 & 558 & 600 & -2 &  923 &  937 & -14 & UA & 1124 & N53441 & EWR & SFO & 361 & 2565 & 6 &  0 & 2013-01-01 06:00:00\\\\\n\t 2013 & 1 & 1 & 559 & 600 & -1 &  941 &  910 &  31 & AA &  707 & N3DUAA & LGA & DFW & 257 & 1389 & 6 &  0 & 2013-01-01 06:00:00\\\\\n\t 2013 & 1 & 1 & 559 & 559 &  0 &  702 &  706 &  -4 & B6 & 1806 & N708JB & JFK & BOS &  44 &  187 & 5 & 59 & 2013-01-01 05:00:00\\\\\n\t 2013 & 1 & 1 & 559 & 600 & -1 &  854 &  902 &  -8 & UA & 1187 & N76515 & EWR & LAS & 337 & 2227 & 6 &  0 & 2013-01-01 06:00:00\\\\\n\t 2013 & 1 & 1 & 600 & 600 &  0 &  851 &  858 &  -7 & B6 &  371 & N595JB & LGA & FLL & 152 & 1076 & 6 &  0 & 2013-01-01 06:00:00\\\\\n\t 2013 & 1 & 1 & 600 & 600 &  0 &  837 &  825 &  12 & MQ & 4650 & N542MQ & LGA & ATL & 134 &  762 & 6 &  0 & 2013-01-01 06:00:00\\\\\n\t 2013 & 1 & 1 & 601 & 600 &  1 &  844 &  850 &  -6 & B6 &  343 & N644JB & EWR & PBI & 147 & 1023 & 6 &  0 & 2013-01-01 06:00:00\\\\\n\t 2013 & 1 & 1 & 602 & 610 & -8 &  812 &  820 &  -8 & DL & 1919 & N971DL & LGA & MSP & 170 & 1020 & 6 & 10 & 2013-01-01 06:00:00\\\\\n\t 2013 & 1 & 1 & 602 & 605 & -3 &  821 &  805 &  16 & MQ & 4401 & N730MQ & LGA & DTW & 105 &  502 & 6 &  5 & 2013-01-01 06:00:00\\\\\n\t 2013 & 1 & 1 & 606 & 610 & -4 &  858 &  910 & -12 & AA & 1895 & N633AA & EWR & MIA & 152 & 1085 & 6 & 10 & 2013-01-01 06:00:00\\\\\n\t 2013 & 1 & 1 & 606 & 610 & -4 &  837 &  845 &  -8 & DL & 1743 & N3739P & JFK & ATL & 128 &  760 & 6 & 10 & 2013-01-01 06:00:00\\\\\n\t 2013 & 1 & 1 & 607 & 607 &  0 &  858 &  915 & -17 & UA & 1077 & N53442 & EWR & MIA & 157 & 1085 & 6 &  7 & 2013-01-01 06:00:00\\\\\n\t 2013 & 1 & 1 & 608 & 600 &  8 &  807 &  735 &  32 & MQ & 3768 & N9EAMQ & EWR & ORD & 139 &  719 & 6 &  0 & 2013-01-01 06:00:00\\\\\n\t 2013 & 1 & 1 & 611 & 600 & 11 &  945 &  931 &  14 & UA &  303 & N532UA & JFK & SFO & 366 & 2586 & 6 &  0 & 2013-01-01 06:00:00\\\\\n\t 2013 & 1 & 1 & 613 & 610 &  3 &  925 &  921 &   4 & B6 &  135 & N635JB & JFK & RSW & 175 & 1074 & 6 & 10 & 2013-01-01 06:00:00\\\\\n\t 2013 & 1 & 1 & 615 & 615 &  0 & 1039 & 1100 & -21 & B6 &  709 & N794JB & JFK & SJU & 182 & 1598 & 6 & 15 & 2013-01-01 06:00:00\\\\\n\t 2013 & 1 & 1 & 615 & 615 &  0 &  833 &  842 &  -9 & DL &  575 & N326NB & EWR & ATL & 120 &  746 & 6 & 15 & 2013-01-01 06:00:00\\\\\n\t ⋮ & ⋮ & ⋮ & ⋮ & ⋮ & ⋮ & ⋮ & ⋮ & ⋮ & ⋮ & ⋮ & ⋮ & ⋮ & ⋮ & ⋮ & ⋮ & ⋮ & ⋮ & ⋮\\\\\n\t 2013 & 12 & 31 & 2155 & 2039 &  76 &  253 & 2355 &  NA & B6 & 1205 & N627JB & JFK & PDX &  NA & 2454 & 20 & 39 & 2013-12-31 20:00:00\\\\\n\t 2013 & 12 & 31 & 2155 & 2150 &   5 &  110 &   51 &  19 & B6 & 1901 & N729JB & JFK & FLL & 164 & 1069 & 21 & 50 & 2013-12-31 21:00:00\\\\\n\t 2013 & 12 & 31 & 2159 & 2155 &   4 &   55 &   46 &   9 & B6 & 2053 & N593JB & JFK & PBI & 155 & 1028 & 21 & 55 & 2013-12-31 21:00:00\\\\\n\t 2013 & 12 & 31 & 2206 & 2110 &  56 &   44 & 2339 &  65 & B6 &  775 & N184JB & JFK & MSY & 195 & 1182 & 21 & 10 & 2013-12-31 21:00:00\\\\\n\t 2013 & 12 & 31 & 2211 & 2159 &  12 &  100 &   45 &  15 & B6 & 1183 & N715JB & JFK & MCO & 148 &  944 & 21 & 59 & 2013-12-31 21:00:00\\\\\n\t 2013 & 12 & 31 & 2218 & 2219 &  -1 &  315 &  304 &  11 & B6 & 1203 & N625JB & JFK & SJU & 202 & 1598 & 22 & 19 & 2013-12-31 22:00:00\\\\\n\t 2013 & 12 & 31 & 2235 & 2245 & -10 & 2351 & 2355 &  -4 & B6 &  234 & N355JB & JFK & BTV &  49 &  266 & 22 & 45 & 2013-12-31 22:00:00\\\\\n\t 2013 & 12 & 31 & 2245 & 2250 &  -5 & 2359 & 2356 &   3 & B6 & 1816 & N318JB & JFK & SYR &  51 &  209 & 22 & 50 & 2013-12-31 22:00:00\\\\\n\t 2013 & 12 & 31 & 2310 & 2255 &  15 &    7 & 2356 &  11 & B6 &  718 & N279JB & JFK & BOS &  40 &  187 & 22 & 55 & 2013-12-31 22:00:00\\\\\n\t 2013 & 12 & 31 & 2321 & 2250 &  31 &   46 &    8 &  38 & B6 & 2002 & N179JB & JFK & BUF &  66 &  301 & 22 & 50 & 2013-12-31 22:00:00\\\\\n\t 2013 & 12 & 31 & 2328 & 2330 &  -2 &  412 &  409 &   3 & B6 & 1389 & N651JB & EWR & SJU & 198 & 1608 & 23 & 30 & 2013-12-31 23:00:00\\\\\n\t 2013 & 12 & 31 & 2332 & 2245 &  47 &   58 &    3 &  55 & B6 &  486 & N334JB & JFK & ROC &  60 &  264 & 22 & 45 & 2013-12-31 22:00:00\\\\\n\t 2013 & 12 & 31 & 2355 & 2359 &  -4 &  430 &  440 & -10 & B6 & 1503 & N509JB & JFK & SJU & 195 & 1598 & 23 & 59 & 2013-12-31 23:00:00\\\\\n\t 2013 & 12 & 31 & 2356 & 2359 &  -3 &  436 &  445 &  -9 & B6 &  745 & N665JB & JFK & PSE & 200 & 1617 & 23 & 59 & 2013-12-31 23:00:00\\\\\n\t 2013 & 12 & 31 &   NA & 1520 &  NA &   NA & 1705 &  NA & AA &  341 & N568AA & LGA & ORD &  NA &  733 & 15 & 20 & 2013-12-31 15:00:00\\\\\n\t 2013 & 12 & 31 &   NA & 2025 &  NA &   NA & 2205 &  NA & AA &  371 & N482AA & LGA & ORD &  NA &  733 & 20 & 25 & 2013-12-31 20:00:00\\\\\n\t 2013 & 12 & 31 &   NA & 1932 &  NA &   NA & 2305 &  NA & B6 &  161 & N516JB & JFK & SMF &  NA & 2521 & 19 & 32 & 2013-12-31 19:00:00\\\\\n\t 2013 & 12 & 31 &   NA & 1505 &  NA &   NA & 1725 &  NA & EV & 4181 & N24103 & EWR & MCI &  NA & 1092 & 15 &  5 & 2013-12-31 15:00:00\\\\\n\t 2013 & 12 & 31 &   NA & 1000 &  NA &   NA & 1252 &  NA & UA & 1124 & NA     & EWR & EGE &  NA & 1725 & 10 &  0 & 2013-12-31 10:00:00\\\\\n\t 2013 & 12 & 31 &   NA &  840 &  NA &   NA & 1205 &  NA & UA & 1151 & NA     & EWR & SEA &  NA & 2402 &  8 & 40 & 2013-12-31 08:00:00\\\\\n\t 2013 & 12 & 31 &   NA &  754 &  NA &   NA & 1118 &  NA & UA & 1455 & NA     & EWR & LAX &  NA & 2454 &  7 & 54 & 2013-12-31 07:00:00\\\\\n\t 2013 & 12 & 31 &   NA & 2000 &  NA &   NA & 2146 &  NA & UA & 1482 & NA     & EWR & ORD &  NA &  719 & 20 &  0 & 2013-12-31 20:00:00\\\\\n\t 2013 & 12 & 31 &   NA & 1500 &  NA &   NA & 1817 &  NA & UA & 1483 & NA     & EWR & AUS &  NA & 1504 & 15 &  0 & 2013-12-31 15:00:00\\\\\n\t 2013 & 12 & 31 &   NA & 1430 &  NA &   NA & 1750 &  NA & UA & 1493 & NA     & EWR & LAX &  NA & 2454 & 14 & 30 & 2013-12-31 14:00:00\\\\\n\t 2013 & 12 & 31 &   NA &  855 &  NA &   NA & 1142 &  NA & UA & 1506 & NA     & EWR & JAC &  NA & 1874 &  8 & 55 & 2013-12-31 08:00:00\\\\\n\t 2013 & 12 & 31 &   NA &  705 &  NA &   NA &  931 &  NA & UA & 1729 & NA     & EWR & DEN &  NA & 1605 &  7 &  5 & 2013-12-31 07:00:00\\\\\n\t 2013 & 12 & 31 &   NA &  825 &  NA &   NA & 1029 &  NA & US & 1831 & NA     & JFK & CLT &  NA &  541 &  8 & 25 & 2013-12-31 08:00:00\\\\\n\t 2013 & 12 & 31 &   NA & 1615 &  NA &   NA & 1800 &  NA & MQ & 3301 & N844MQ & LGA & RDU &  NA &  431 & 16 & 15 & 2013-12-31 16:00:00\\\\\n\t 2013 & 12 & 31 &   NA &  600 &  NA &   NA &  735 &  NA & UA &  219 & NA     & EWR & ORD &  NA &  719 &  6 &  0 & 2013-12-31 06:00:00\\\\\n\t 2013 & 12 & 31 &   NA &  830 &  NA &   NA & 1154 &  NA & UA &  443 & NA     & JFK & LAX &  NA & 2475 &  8 & 30 & 2013-12-31 08:00:00\\\\\n\\end{tabular}\n",
            "text/markdown": "\nA tibble: 336776 × 19\n\n| year &lt;int&gt; | month &lt;int&gt; | day &lt;int&gt; | dep_time &lt;int&gt; | sched_dep_time &lt;int&gt; | dep_delay &lt;dbl&gt; | arr_time &lt;int&gt; | sched_arr_time &lt;int&gt; | arr_delay &lt;dbl&gt; | carrier &lt;chr&gt; | flight &lt;int&gt; | tailnum &lt;chr&gt; | origin &lt;chr&gt; | dest &lt;chr&gt; | air_time &lt;dbl&gt; | distance &lt;dbl&gt; | hour &lt;dbl&gt; | minute &lt;dbl&gt; | time_hour &lt;dttm&gt; |\n|---|---|---|---|---|---|---|---|---|---|---|---|---|---|---|---|---|---|---|\n| 2013 | 1 | 1 | 517 | 515 |  2 |  830 |  819 |  11 | UA | 1545 | N14228 | EWR | IAH | 227 | 1400 | 5 | 15 | 2013-01-01 05:00:00 |\n| 2013 | 1 | 1 | 533 | 529 |  4 |  850 |  830 |  20 | UA | 1714 | N24211 | LGA | IAH | 227 | 1416 | 5 | 29 | 2013-01-01 05:00:00 |\n| 2013 | 1 | 1 | 542 | 540 |  2 |  923 |  850 |  33 | AA | 1141 | N619AA | JFK | MIA | 160 | 1089 | 5 | 40 | 2013-01-01 05:00:00 |\n| 2013 | 1 | 1 | 544 | 545 | -1 | 1004 | 1022 | -18 | B6 |  725 | N804JB | JFK | BQN | 183 | 1576 | 5 | 45 | 2013-01-01 05:00:00 |\n| 2013 | 1 | 1 | 554 | 600 | -6 |  812 |  837 | -25 | DL |  461 | N668DN | LGA | ATL | 116 |  762 | 6 |  0 | 2013-01-01 06:00:00 |\n| 2013 | 1 | 1 | 554 | 558 | -4 |  740 |  728 |  12 | UA | 1696 | N39463 | EWR | ORD | 150 |  719 | 5 | 58 | 2013-01-01 05:00:00 |\n| 2013 | 1 | 1 | 555 | 600 | -5 |  913 |  854 |  19 | B6 |  507 | N516JB | EWR | FLL | 158 | 1065 | 6 |  0 | 2013-01-01 06:00:00 |\n| 2013 | 1 | 1 | 557 | 600 | -3 |  709 |  723 | -14 | EV | 5708 | N829AS | LGA | IAD |  53 |  229 | 6 |  0 | 2013-01-01 06:00:00 |\n| 2013 | 1 | 1 | 557 | 600 | -3 |  838 |  846 |  -8 | B6 |   79 | N593JB | JFK | MCO | 140 |  944 | 6 |  0 | 2013-01-01 06:00:00 |\n| 2013 | 1 | 1 | 558 | 600 | -2 |  753 |  745 |   8 | AA |  301 | N3ALAA | LGA | ORD | 138 |  733 | 6 |  0 | 2013-01-01 06:00:00 |\n| 2013 | 1 | 1 | 558 | 600 | -2 |  849 |  851 |  -2 | B6 |   49 | N793JB | JFK | PBI | 149 | 1028 | 6 |  0 | 2013-01-01 06:00:00 |\n| 2013 | 1 | 1 | 558 | 600 | -2 |  853 |  856 |  -3 | B6 |   71 | N657JB | JFK | TPA | 158 | 1005 | 6 |  0 | 2013-01-01 06:00:00 |\n| 2013 | 1 | 1 | 558 | 600 | -2 |  924 |  917 |   7 | UA |  194 | N29129 | JFK | LAX | 345 | 2475 | 6 |  0 | 2013-01-01 06:00:00 |\n| 2013 | 1 | 1 | 558 | 600 | -2 |  923 |  937 | -14 | UA | 1124 | N53441 | EWR | SFO | 361 | 2565 | 6 |  0 | 2013-01-01 06:00:00 |\n| 2013 | 1 | 1 | 559 | 600 | -1 |  941 |  910 |  31 | AA |  707 | N3DUAA | LGA | DFW | 257 | 1389 | 6 |  0 | 2013-01-01 06:00:00 |\n| 2013 | 1 | 1 | 559 | 559 |  0 |  702 |  706 |  -4 | B6 | 1806 | N708JB | JFK | BOS |  44 |  187 | 5 | 59 | 2013-01-01 05:00:00 |\n| 2013 | 1 | 1 | 559 | 600 | -1 |  854 |  902 |  -8 | UA | 1187 | N76515 | EWR | LAS | 337 | 2227 | 6 |  0 | 2013-01-01 06:00:00 |\n| 2013 | 1 | 1 | 600 | 600 |  0 |  851 |  858 |  -7 | B6 |  371 | N595JB | LGA | FLL | 152 | 1076 | 6 |  0 | 2013-01-01 06:00:00 |\n| 2013 | 1 | 1 | 600 | 600 |  0 |  837 |  825 |  12 | MQ | 4650 | N542MQ | LGA | ATL | 134 |  762 | 6 |  0 | 2013-01-01 06:00:00 |\n| 2013 | 1 | 1 | 601 | 600 |  1 |  844 |  850 |  -6 | B6 |  343 | N644JB | EWR | PBI | 147 | 1023 | 6 |  0 | 2013-01-01 06:00:00 |\n| 2013 | 1 | 1 | 602 | 610 | -8 |  812 |  820 |  -8 | DL | 1919 | N971DL | LGA | MSP | 170 | 1020 | 6 | 10 | 2013-01-01 06:00:00 |\n| 2013 | 1 | 1 | 602 | 605 | -3 |  821 |  805 |  16 | MQ | 4401 | N730MQ | LGA | DTW | 105 |  502 | 6 |  5 | 2013-01-01 06:00:00 |\n| 2013 | 1 | 1 | 606 | 610 | -4 |  858 |  910 | -12 | AA | 1895 | N633AA | EWR | MIA | 152 | 1085 | 6 | 10 | 2013-01-01 06:00:00 |\n| 2013 | 1 | 1 | 606 | 610 | -4 |  837 |  845 |  -8 | DL | 1743 | N3739P | JFK | ATL | 128 |  760 | 6 | 10 | 2013-01-01 06:00:00 |\n| 2013 | 1 | 1 | 607 | 607 |  0 |  858 |  915 | -17 | UA | 1077 | N53442 | EWR | MIA | 157 | 1085 | 6 |  7 | 2013-01-01 06:00:00 |\n| 2013 | 1 | 1 | 608 | 600 |  8 |  807 |  735 |  32 | MQ | 3768 | N9EAMQ | EWR | ORD | 139 |  719 | 6 |  0 | 2013-01-01 06:00:00 |\n| 2013 | 1 | 1 | 611 | 600 | 11 |  945 |  931 |  14 | UA |  303 | N532UA | JFK | SFO | 366 | 2586 | 6 |  0 | 2013-01-01 06:00:00 |\n| 2013 | 1 | 1 | 613 | 610 |  3 |  925 |  921 |   4 | B6 |  135 | N635JB | JFK | RSW | 175 | 1074 | 6 | 10 | 2013-01-01 06:00:00 |\n| 2013 | 1 | 1 | 615 | 615 |  0 | 1039 | 1100 | -21 | B6 |  709 | N794JB | JFK | SJU | 182 | 1598 | 6 | 15 | 2013-01-01 06:00:00 |\n| 2013 | 1 | 1 | 615 | 615 |  0 |  833 |  842 |  -9 | DL |  575 | N326NB | EWR | ATL | 120 |  746 | 6 | 15 | 2013-01-01 06:00:00 |\n| ⋮ | ⋮ | ⋮ | ⋮ | ⋮ | ⋮ | ⋮ | ⋮ | ⋮ | ⋮ | ⋮ | ⋮ | ⋮ | ⋮ | ⋮ | ⋮ | ⋮ | ⋮ | ⋮ |\n| 2013 | 12 | 31 | 2155 | 2039 |  76 |  253 | 2355 |  NA | B6 | 1205 | N627JB | JFK | PDX |  NA | 2454 | 20 | 39 | 2013-12-31 20:00:00 |\n| 2013 | 12 | 31 | 2155 | 2150 |   5 |  110 |   51 |  19 | B6 | 1901 | N729JB | JFK | FLL | 164 | 1069 | 21 | 50 | 2013-12-31 21:00:00 |\n| 2013 | 12 | 31 | 2159 | 2155 |   4 |   55 |   46 |   9 | B6 | 2053 | N593JB | JFK | PBI | 155 | 1028 | 21 | 55 | 2013-12-31 21:00:00 |\n| 2013 | 12 | 31 | 2206 | 2110 |  56 |   44 | 2339 |  65 | B6 |  775 | N184JB | JFK | MSY | 195 | 1182 | 21 | 10 | 2013-12-31 21:00:00 |\n| 2013 | 12 | 31 | 2211 | 2159 |  12 |  100 |   45 |  15 | B6 | 1183 | N715JB | JFK | MCO | 148 |  944 | 21 | 59 | 2013-12-31 21:00:00 |\n| 2013 | 12 | 31 | 2218 | 2219 |  -1 |  315 |  304 |  11 | B6 | 1203 | N625JB | JFK | SJU | 202 | 1598 | 22 | 19 | 2013-12-31 22:00:00 |\n| 2013 | 12 | 31 | 2235 | 2245 | -10 | 2351 | 2355 |  -4 | B6 |  234 | N355JB | JFK | BTV |  49 |  266 | 22 | 45 | 2013-12-31 22:00:00 |\n| 2013 | 12 | 31 | 2245 | 2250 |  -5 | 2359 | 2356 |   3 | B6 | 1816 | N318JB | JFK | SYR |  51 |  209 | 22 | 50 | 2013-12-31 22:00:00 |\n| 2013 | 12 | 31 | 2310 | 2255 |  15 |    7 | 2356 |  11 | B6 |  718 | N279JB | JFK | BOS |  40 |  187 | 22 | 55 | 2013-12-31 22:00:00 |\n| 2013 | 12 | 31 | 2321 | 2250 |  31 |   46 |    8 |  38 | B6 | 2002 | N179JB | JFK | BUF |  66 |  301 | 22 | 50 | 2013-12-31 22:00:00 |\n| 2013 | 12 | 31 | 2328 | 2330 |  -2 |  412 |  409 |   3 | B6 | 1389 | N651JB | EWR | SJU | 198 | 1608 | 23 | 30 | 2013-12-31 23:00:00 |\n| 2013 | 12 | 31 | 2332 | 2245 |  47 |   58 |    3 |  55 | B6 |  486 | N334JB | JFK | ROC |  60 |  264 | 22 | 45 | 2013-12-31 22:00:00 |\n| 2013 | 12 | 31 | 2355 | 2359 |  -4 |  430 |  440 | -10 | B6 | 1503 | N509JB | JFK | SJU | 195 | 1598 | 23 | 59 | 2013-12-31 23:00:00 |\n| 2013 | 12 | 31 | 2356 | 2359 |  -3 |  436 |  445 |  -9 | B6 |  745 | N665JB | JFK | PSE | 200 | 1617 | 23 | 59 | 2013-12-31 23:00:00 |\n| 2013 | 12 | 31 |   NA | 1520 |  NA |   NA | 1705 |  NA | AA |  341 | N568AA | LGA | ORD |  NA |  733 | 15 | 20 | 2013-12-31 15:00:00 |\n| 2013 | 12 | 31 |   NA | 2025 |  NA |   NA | 2205 |  NA | AA |  371 | N482AA | LGA | ORD |  NA |  733 | 20 | 25 | 2013-12-31 20:00:00 |\n| 2013 | 12 | 31 |   NA | 1932 |  NA |   NA | 2305 |  NA | B6 |  161 | N516JB | JFK | SMF |  NA | 2521 | 19 | 32 | 2013-12-31 19:00:00 |\n| 2013 | 12 | 31 |   NA | 1505 |  NA |   NA | 1725 |  NA | EV | 4181 | N24103 | EWR | MCI |  NA | 1092 | 15 |  5 | 2013-12-31 15:00:00 |\n| 2013 | 12 | 31 |   NA | 1000 |  NA |   NA | 1252 |  NA | UA | 1124 | NA     | EWR | EGE |  NA | 1725 | 10 |  0 | 2013-12-31 10:00:00 |\n| 2013 | 12 | 31 |   NA |  840 |  NA |   NA | 1205 |  NA | UA | 1151 | NA     | EWR | SEA |  NA | 2402 |  8 | 40 | 2013-12-31 08:00:00 |\n| 2013 | 12 | 31 |   NA |  754 |  NA |   NA | 1118 |  NA | UA | 1455 | NA     | EWR | LAX |  NA | 2454 |  7 | 54 | 2013-12-31 07:00:00 |\n| 2013 | 12 | 31 |   NA | 2000 |  NA |   NA | 2146 |  NA | UA | 1482 | NA     | EWR | ORD |  NA |  719 | 20 |  0 | 2013-12-31 20:00:00 |\n| 2013 | 12 | 31 |   NA | 1500 |  NA |   NA | 1817 |  NA | UA | 1483 | NA     | EWR | AUS |  NA | 1504 | 15 |  0 | 2013-12-31 15:00:00 |\n| 2013 | 12 | 31 |   NA | 1430 |  NA |   NA | 1750 |  NA | UA | 1493 | NA     | EWR | LAX |  NA | 2454 | 14 | 30 | 2013-12-31 14:00:00 |\n| 2013 | 12 | 31 |   NA |  855 |  NA |   NA | 1142 |  NA | UA | 1506 | NA     | EWR | JAC |  NA | 1874 |  8 | 55 | 2013-12-31 08:00:00 |\n| 2013 | 12 | 31 |   NA |  705 |  NA |   NA |  931 |  NA | UA | 1729 | NA     | EWR | DEN |  NA | 1605 |  7 |  5 | 2013-12-31 07:00:00 |\n| 2013 | 12 | 31 |   NA |  825 |  NA |   NA | 1029 |  NA | US | 1831 | NA     | JFK | CLT |  NA |  541 |  8 | 25 | 2013-12-31 08:00:00 |\n| 2013 | 12 | 31 |   NA | 1615 |  NA |   NA | 1800 |  NA | MQ | 3301 | N844MQ | LGA | RDU |  NA |  431 | 16 | 15 | 2013-12-31 16:00:00 |\n| 2013 | 12 | 31 |   NA |  600 |  NA |   NA |  735 |  NA | UA |  219 | NA     | EWR | ORD |  NA |  719 |  6 |  0 | 2013-12-31 06:00:00 |\n| 2013 | 12 | 31 |   NA |  830 |  NA |   NA | 1154 |  NA | UA |  443 | NA     | JFK | LAX |  NA | 2475 |  8 | 30 | 2013-12-31 08:00:00 |\n\n",
            "text/html": [
              "<table>\n",
              "<caption>A tibble: 336776 × 19</caption>\n",
              "<thead>\n",
              "\t<tr><th scope=col>year</th><th scope=col>month</th><th scope=col>day</th><th scope=col>dep_time</th><th scope=col>sched_dep_time</th><th scope=col>dep_delay</th><th scope=col>arr_time</th><th scope=col>sched_arr_time</th><th scope=col>arr_delay</th><th scope=col>carrier</th><th scope=col>flight</th><th scope=col>tailnum</th><th scope=col>origin</th><th scope=col>dest</th><th scope=col>air_time</th><th scope=col>distance</th><th scope=col>hour</th><th scope=col>minute</th><th scope=col>time_hour</th></tr>\n",
              "\t<tr><th scope=col>&lt;int&gt;</th><th scope=col>&lt;int&gt;</th><th scope=col>&lt;int&gt;</th><th scope=col>&lt;int&gt;</th><th scope=col>&lt;int&gt;</th><th scope=col>&lt;dbl&gt;</th><th scope=col>&lt;int&gt;</th><th scope=col>&lt;int&gt;</th><th scope=col>&lt;dbl&gt;</th><th scope=col>&lt;chr&gt;</th><th scope=col>&lt;int&gt;</th><th scope=col>&lt;chr&gt;</th><th scope=col>&lt;chr&gt;</th><th scope=col>&lt;chr&gt;</th><th scope=col>&lt;dbl&gt;</th><th scope=col>&lt;dbl&gt;</th><th scope=col>&lt;dbl&gt;</th><th scope=col>&lt;dbl&gt;</th><th scope=col>&lt;dttm&gt;</th></tr>\n",
              "</thead>\n",
              "<tbody>\n",
              "\t<tr><td>2013</td><td>1</td><td>1</td><td>517</td><td>515</td><td> 2</td><td> 830</td><td> 819</td><td> 11</td><td>UA</td><td>1545</td><td>N14228</td><td>EWR</td><td>IAH</td><td>227</td><td>1400</td><td>5</td><td>15</td><td>2013-01-01 05:00:00</td></tr>\n",
              "\t<tr><td>2013</td><td>1</td><td>1</td><td>533</td><td>529</td><td> 4</td><td> 850</td><td> 830</td><td> 20</td><td>UA</td><td>1714</td><td>N24211</td><td>LGA</td><td>IAH</td><td>227</td><td>1416</td><td>5</td><td>29</td><td>2013-01-01 05:00:00</td></tr>\n",
              "\t<tr><td>2013</td><td>1</td><td>1</td><td>542</td><td>540</td><td> 2</td><td> 923</td><td> 850</td><td> 33</td><td>AA</td><td>1141</td><td>N619AA</td><td>JFK</td><td>MIA</td><td>160</td><td>1089</td><td>5</td><td>40</td><td>2013-01-01 05:00:00</td></tr>\n",
              "\t<tr><td>2013</td><td>1</td><td>1</td><td>544</td><td>545</td><td>-1</td><td>1004</td><td>1022</td><td>-18</td><td>B6</td><td> 725</td><td>N804JB</td><td>JFK</td><td>BQN</td><td>183</td><td>1576</td><td>5</td><td>45</td><td>2013-01-01 05:00:00</td></tr>\n",
              "\t<tr><td>2013</td><td>1</td><td>1</td><td>554</td><td>600</td><td>-6</td><td> 812</td><td> 837</td><td>-25</td><td>DL</td><td> 461</td><td>N668DN</td><td>LGA</td><td>ATL</td><td>116</td><td> 762</td><td>6</td><td> 0</td><td>2013-01-01 06:00:00</td></tr>\n",
              "\t<tr><td>2013</td><td>1</td><td>1</td><td>554</td><td>558</td><td>-4</td><td> 740</td><td> 728</td><td> 12</td><td>UA</td><td>1696</td><td>N39463</td><td>EWR</td><td>ORD</td><td>150</td><td> 719</td><td>5</td><td>58</td><td>2013-01-01 05:00:00</td></tr>\n",
              "\t<tr><td>2013</td><td>1</td><td>1</td><td>555</td><td>600</td><td>-5</td><td> 913</td><td> 854</td><td> 19</td><td>B6</td><td> 507</td><td>N516JB</td><td>EWR</td><td>FLL</td><td>158</td><td>1065</td><td>6</td><td> 0</td><td>2013-01-01 06:00:00</td></tr>\n",
              "\t<tr><td>2013</td><td>1</td><td>1</td><td>557</td><td>600</td><td>-3</td><td> 709</td><td> 723</td><td>-14</td><td>EV</td><td>5708</td><td>N829AS</td><td>LGA</td><td>IAD</td><td> 53</td><td> 229</td><td>6</td><td> 0</td><td>2013-01-01 06:00:00</td></tr>\n",
              "\t<tr><td>2013</td><td>1</td><td>1</td><td>557</td><td>600</td><td>-3</td><td> 838</td><td> 846</td><td> -8</td><td>B6</td><td>  79</td><td>N593JB</td><td>JFK</td><td>MCO</td><td>140</td><td> 944</td><td>6</td><td> 0</td><td>2013-01-01 06:00:00</td></tr>\n",
              "\t<tr><td>2013</td><td>1</td><td>1</td><td>558</td><td>600</td><td>-2</td><td> 753</td><td> 745</td><td>  8</td><td>AA</td><td> 301</td><td>N3ALAA</td><td>LGA</td><td>ORD</td><td>138</td><td> 733</td><td>6</td><td> 0</td><td>2013-01-01 06:00:00</td></tr>\n",
              "\t<tr><td>2013</td><td>1</td><td>1</td><td>558</td><td>600</td><td>-2</td><td> 849</td><td> 851</td><td> -2</td><td>B6</td><td>  49</td><td>N793JB</td><td>JFK</td><td>PBI</td><td>149</td><td>1028</td><td>6</td><td> 0</td><td>2013-01-01 06:00:00</td></tr>\n",
              "\t<tr><td>2013</td><td>1</td><td>1</td><td>558</td><td>600</td><td>-2</td><td> 853</td><td> 856</td><td> -3</td><td>B6</td><td>  71</td><td>N657JB</td><td>JFK</td><td>TPA</td><td>158</td><td>1005</td><td>6</td><td> 0</td><td>2013-01-01 06:00:00</td></tr>\n",
              "\t<tr><td>2013</td><td>1</td><td>1</td><td>558</td><td>600</td><td>-2</td><td> 924</td><td> 917</td><td>  7</td><td>UA</td><td> 194</td><td>N29129</td><td>JFK</td><td>LAX</td><td>345</td><td>2475</td><td>6</td><td> 0</td><td>2013-01-01 06:00:00</td></tr>\n",
              "\t<tr><td>2013</td><td>1</td><td>1</td><td>558</td><td>600</td><td>-2</td><td> 923</td><td> 937</td><td>-14</td><td>UA</td><td>1124</td><td>N53441</td><td>EWR</td><td>SFO</td><td>361</td><td>2565</td><td>6</td><td> 0</td><td>2013-01-01 06:00:00</td></tr>\n",
              "\t<tr><td>2013</td><td>1</td><td>1</td><td>559</td><td>600</td><td>-1</td><td> 941</td><td> 910</td><td> 31</td><td>AA</td><td> 707</td><td>N3DUAA</td><td>LGA</td><td>DFW</td><td>257</td><td>1389</td><td>6</td><td> 0</td><td>2013-01-01 06:00:00</td></tr>\n",
              "\t<tr><td>2013</td><td>1</td><td>1</td><td>559</td><td>559</td><td> 0</td><td> 702</td><td> 706</td><td> -4</td><td>B6</td><td>1806</td><td>N708JB</td><td>JFK</td><td>BOS</td><td> 44</td><td> 187</td><td>5</td><td>59</td><td>2013-01-01 05:00:00</td></tr>\n",
              "\t<tr><td>2013</td><td>1</td><td>1</td><td>559</td><td>600</td><td>-1</td><td> 854</td><td> 902</td><td> -8</td><td>UA</td><td>1187</td><td>N76515</td><td>EWR</td><td>LAS</td><td>337</td><td>2227</td><td>6</td><td> 0</td><td>2013-01-01 06:00:00</td></tr>\n",
              "\t<tr><td>2013</td><td>1</td><td>1</td><td>600</td><td>600</td><td> 0</td><td> 851</td><td> 858</td><td> -7</td><td>B6</td><td> 371</td><td>N595JB</td><td>LGA</td><td>FLL</td><td>152</td><td>1076</td><td>6</td><td> 0</td><td>2013-01-01 06:00:00</td></tr>\n",
              "\t<tr><td>2013</td><td>1</td><td>1</td><td>600</td><td>600</td><td> 0</td><td> 837</td><td> 825</td><td> 12</td><td>MQ</td><td>4650</td><td>N542MQ</td><td>LGA</td><td>ATL</td><td>134</td><td> 762</td><td>6</td><td> 0</td><td>2013-01-01 06:00:00</td></tr>\n",
              "\t<tr><td>2013</td><td>1</td><td>1</td><td>601</td><td>600</td><td> 1</td><td> 844</td><td> 850</td><td> -6</td><td>B6</td><td> 343</td><td>N644JB</td><td>EWR</td><td>PBI</td><td>147</td><td>1023</td><td>6</td><td> 0</td><td>2013-01-01 06:00:00</td></tr>\n",
              "\t<tr><td>2013</td><td>1</td><td>1</td><td>602</td><td>610</td><td>-8</td><td> 812</td><td> 820</td><td> -8</td><td>DL</td><td>1919</td><td>N971DL</td><td>LGA</td><td>MSP</td><td>170</td><td>1020</td><td>6</td><td>10</td><td>2013-01-01 06:00:00</td></tr>\n",
              "\t<tr><td>2013</td><td>1</td><td>1</td><td>602</td><td>605</td><td>-3</td><td> 821</td><td> 805</td><td> 16</td><td>MQ</td><td>4401</td><td>N730MQ</td><td>LGA</td><td>DTW</td><td>105</td><td> 502</td><td>6</td><td> 5</td><td>2013-01-01 06:00:00</td></tr>\n",
              "\t<tr><td>2013</td><td>1</td><td>1</td><td>606</td><td>610</td><td>-4</td><td> 858</td><td> 910</td><td>-12</td><td>AA</td><td>1895</td><td>N633AA</td><td>EWR</td><td>MIA</td><td>152</td><td>1085</td><td>6</td><td>10</td><td>2013-01-01 06:00:00</td></tr>\n",
              "\t<tr><td>2013</td><td>1</td><td>1</td><td>606</td><td>610</td><td>-4</td><td> 837</td><td> 845</td><td> -8</td><td>DL</td><td>1743</td><td>N3739P</td><td>JFK</td><td>ATL</td><td>128</td><td> 760</td><td>6</td><td>10</td><td>2013-01-01 06:00:00</td></tr>\n",
              "\t<tr><td>2013</td><td>1</td><td>1</td><td>607</td><td>607</td><td> 0</td><td> 858</td><td> 915</td><td>-17</td><td>UA</td><td>1077</td><td>N53442</td><td>EWR</td><td>MIA</td><td>157</td><td>1085</td><td>6</td><td> 7</td><td>2013-01-01 06:00:00</td></tr>\n",
              "\t<tr><td>2013</td><td>1</td><td>1</td><td>608</td><td>600</td><td> 8</td><td> 807</td><td> 735</td><td> 32</td><td>MQ</td><td>3768</td><td>N9EAMQ</td><td>EWR</td><td>ORD</td><td>139</td><td> 719</td><td>6</td><td> 0</td><td>2013-01-01 06:00:00</td></tr>\n",
              "\t<tr><td>2013</td><td>1</td><td>1</td><td>611</td><td>600</td><td>11</td><td> 945</td><td> 931</td><td> 14</td><td>UA</td><td> 303</td><td>N532UA</td><td>JFK</td><td>SFO</td><td>366</td><td>2586</td><td>6</td><td> 0</td><td>2013-01-01 06:00:00</td></tr>\n",
              "\t<tr><td>2013</td><td>1</td><td>1</td><td>613</td><td>610</td><td> 3</td><td> 925</td><td> 921</td><td>  4</td><td>B6</td><td> 135</td><td>N635JB</td><td>JFK</td><td>RSW</td><td>175</td><td>1074</td><td>6</td><td>10</td><td>2013-01-01 06:00:00</td></tr>\n",
              "\t<tr><td>2013</td><td>1</td><td>1</td><td>615</td><td>615</td><td> 0</td><td>1039</td><td>1100</td><td>-21</td><td>B6</td><td> 709</td><td>N794JB</td><td>JFK</td><td>SJU</td><td>182</td><td>1598</td><td>6</td><td>15</td><td>2013-01-01 06:00:00</td></tr>\n",
              "\t<tr><td>2013</td><td>1</td><td>1</td><td>615</td><td>615</td><td> 0</td><td> 833</td><td> 842</td><td> -9</td><td>DL</td><td> 575</td><td>N326NB</td><td>EWR</td><td>ATL</td><td>120</td><td> 746</td><td>6</td><td>15</td><td>2013-01-01 06:00:00</td></tr>\n",
              "\t<tr><td>⋮</td><td>⋮</td><td>⋮</td><td>⋮</td><td>⋮</td><td>⋮</td><td>⋮</td><td>⋮</td><td>⋮</td><td>⋮</td><td>⋮</td><td>⋮</td><td>⋮</td><td>⋮</td><td>⋮</td><td>⋮</td><td>⋮</td><td>⋮</td><td>⋮</td></tr>\n",
              "\t<tr><td>2013</td><td>12</td><td>31</td><td>2155</td><td>2039</td><td> 76</td><td> 253</td><td>2355</td><td> NA</td><td>B6</td><td>1205</td><td>N627JB</td><td>JFK</td><td>PDX</td><td> NA</td><td>2454</td><td>20</td><td>39</td><td>2013-12-31 20:00:00</td></tr>\n",
              "\t<tr><td>2013</td><td>12</td><td>31</td><td>2155</td><td>2150</td><td>  5</td><td> 110</td><td>  51</td><td> 19</td><td>B6</td><td>1901</td><td>N729JB</td><td>JFK</td><td>FLL</td><td>164</td><td>1069</td><td>21</td><td>50</td><td>2013-12-31 21:00:00</td></tr>\n",
              "\t<tr><td>2013</td><td>12</td><td>31</td><td>2159</td><td>2155</td><td>  4</td><td>  55</td><td>  46</td><td>  9</td><td>B6</td><td>2053</td><td>N593JB</td><td>JFK</td><td>PBI</td><td>155</td><td>1028</td><td>21</td><td>55</td><td>2013-12-31 21:00:00</td></tr>\n",
              "\t<tr><td>2013</td><td>12</td><td>31</td><td>2206</td><td>2110</td><td> 56</td><td>  44</td><td>2339</td><td> 65</td><td>B6</td><td> 775</td><td>N184JB</td><td>JFK</td><td>MSY</td><td>195</td><td>1182</td><td>21</td><td>10</td><td>2013-12-31 21:00:00</td></tr>\n",
              "\t<tr><td>2013</td><td>12</td><td>31</td><td>2211</td><td>2159</td><td> 12</td><td> 100</td><td>  45</td><td> 15</td><td>B6</td><td>1183</td><td>N715JB</td><td>JFK</td><td>MCO</td><td>148</td><td> 944</td><td>21</td><td>59</td><td>2013-12-31 21:00:00</td></tr>\n",
              "\t<tr><td>2013</td><td>12</td><td>31</td><td>2218</td><td>2219</td><td> -1</td><td> 315</td><td> 304</td><td> 11</td><td>B6</td><td>1203</td><td>N625JB</td><td>JFK</td><td>SJU</td><td>202</td><td>1598</td><td>22</td><td>19</td><td>2013-12-31 22:00:00</td></tr>\n",
              "\t<tr><td>2013</td><td>12</td><td>31</td><td>2235</td><td>2245</td><td>-10</td><td>2351</td><td>2355</td><td> -4</td><td>B6</td><td> 234</td><td>N355JB</td><td>JFK</td><td>BTV</td><td> 49</td><td> 266</td><td>22</td><td>45</td><td>2013-12-31 22:00:00</td></tr>\n",
              "\t<tr><td>2013</td><td>12</td><td>31</td><td>2245</td><td>2250</td><td> -5</td><td>2359</td><td>2356</td><td>  3</td><td>B6</td><td>1816</td><td>N318JB</td><td>JFK</td><td>SYR</td><td> 51</td><td> 209</td><td>22</td><td>50</td><td>2013-12-31 22:00:00</td></tr>\n",
              "\t<tr><td>2013</td><td>12</td><td>31</td><td>2310</td><td>2255</td><td> 15</td><td>   7</td><td>2356</td><td> 11</td><td>B6</td><td> 718</td><td>N279JB</td><td>JFK</td><td>BOS</td><td> 40</td><td> 187</td><td>22</td><td>55</td><td>2013-12-31 22:00:00</td></tr>\n",
              "\t<tr><td>2013</td><td>12</td><td>31</td><td>2321</td><td>2250</td><td> 31</td><td>  46</td><td>   8</td><td> 38</td><td>B6</td><td>2002</td><td>N179JB</td><td>JFK</td><td>BUF</td><td> 66</td><td> 301</td><td>22</td><td>50</td><td>2013-12-31 22:00:00</td></tr>\n",
              "\t<tr><td>2013</td><td>12</td><td>31</td><td>2328</td><td>2330</td><td> -2</td><td> 412</td><td> 409</td><td>  3</td><td>B6</td><td>1389</td><td>N651JB</td><td>EWR</td><td>SJU</td><td>198</td><td>1608</td><td>23</td><td>30</td><td>2013-12-31 23:00:00</td></tr>\n",
              "\t<tr><td>2013</td><td>12</td><td>31</td><td>2332</td><td>2245</td><td> 47</td><td>  58</td><td>   3</td><td> 55</td><td>B6</td><td> 486</td><td>N334JB</td><td>JFK</td><td>ROC</td><td> 60</td><td> 264</td><td>22</td><td>45</td><td>2013-12-31 22:00:00</td></tr>\n",
              "\t<tr><td>2013</td><td>12</td><td>31</td><td>2355</td><td>2359</td><td> -4</td><td> 430</td><td> 440</td><td>-10</td><td>B6</td><td>1503</td><td>N509JB</td><td>JFK</td><td>SJU</td><td>195</td><td>1598</td><td>23</td><td>59</td><td>2013-12-31 23:00:00</td></tr>\n",
              "\t<tr><td>2013</td><td>12</td><td>31</td><td>2356</td><td>2359</td><td> -3</td><td> 436</td><td> 445</td><td> -9</td><td>B6</td><td> 745</td><td>N665JB</td><td>JFK</td><td>PSE</td><td>200</td><td>1617</td><td>23</td><td>59</td><td>2013-12-31 23:00:00</td></tr>\n",
              "\t<tr><td>2013</td><td>12</td><td>31</td><td>  NA</td><td>1520</td><td> NA</td><td>  NA</td><td>1705</td><td> NA</td><td>AA</td><td> 341</td><td>N568AA</td><td>LGA</td><td>ORD</td><td> NA</td><td> 733</td><td>15</td><td>20</td><td>2013-12-31 15:00:00</td></tr>\n",
              "\t<tr><td>2013</td><td>12</td><td>31</td><td>  NA</td><td>2025</td><td> NA</td><td>  NA</td><td>2205</td><td> NA</td><td>AA</td><td> 371</td><td>N482AA</td><td>LGA</td><td>ORD</td><td> NA</td><td> 733</td><td>20</td><td>25</td><td>2013-12-31 20:00:00</td></tr>\n",
              "\t<tr><td>2013</td><td>12</td><td>31</td><td>  NA</td><td>1932</td><td> NA</td><td>  NA</td><td>2305</td><td> NA</td><td>B6</td><td> 161</td><td>N516JB</td><td>JFK</td><td>SMF</td><td> NA</td><td>2521</td><td>19</td><td>32</td><td>2013-12-31 19:00:00</td></tr>\n",
              "\t<tr><td>2013</td><td>12</td><td>31</td><td>  NA</td><td>1505</td><td> NA</td><td>  NA</td><td>1725</td><td> NA</td><td>EV</td><td>4181</td><td>N24103</td><td>EWR</td><td>MCI</td><td> NA</td><td>1092</td><td>15</td><td> 5</td><td>2013-12-31 15:00:00</td></tr>\n",
              "\t<tr><td>2013</td><td>12</td><td>31</td><td>  NA</td><td>1000</td><td> NA</td><td>  NA</td><td>1252</td><td> NA</td><td>UA</td><td>1124</td><td>NA    </td><td>EWR</td><td>EGE</td><td> NA</td><td>1725</td><td>10</td><td> 0</td><td>2013-12-31 10:00:00</td></tr>\n",
              "\t<tr><td>2013</td><td>12</td><td>31</td><td>  NA</td><td> 840</td><td> NA</td><td>  NA</td><td>1205</td><td> NA</td><td>UA</td><td>1151</td><td>NA    </td><td>EWR</td><td>SEA</td><td> NA</td><td>2402</td><td> 8</td><td>40</td><td>2013-12-31 08:00:00</td></tr>\n",
              "\t<tr><td>2013</td><td>12</td><td>31</td><td>  NA</td><td> 754</td><td> NA</td><td>  NA</td><td>1118</td><td> NA</td><td>UA</td><td>1455</td><td>NA    </td><td>EWR</td><td>LAX</td><td> NA</td><td>2454</td><td> 7</td><td>54</td><td>2013-12-31 07:00:00</td></tr>\n",
              "\t<tr><td>2013</td><td>12</td><td>31</td><td>  NA</td><td>2000</td><td> NA</td><td>  NA</td><td>2146</td><td> NA</td><td>UA</td><td>1482</td><td>NA    </td><td>EWR</td><td>ORD</td><td> NA</td><td> 719</td><td>20</td><td> 0</td><td>2013-12-31 20:00:00</td></tr>\n",
              "\t<tr><td>2013</td><td>12</td><td>31</td><td>  NA</td><td>1500</td><td> NA</td><td>  NA</td><td>1817</td><td> NA</td><td>UA</td><td>1483</td><td>NA    </td><td>EWR</td><td>AUS</td><td> NA</td><td>1504</td><td>15</td><td> 0</td><td>2013-12-31 15:00:00</td></tr>\n",
              "\t<tr><td>2013</td><td>12</td><td>31</td><td>  NA</td><td>1430</td><td> NA</td><td>  NA</td><td>1750</td><td> NA</td><td>UA</td><td>1493</td><td>NA    </td><td>EWR</td><td>LAX</td><td> NA</td><td>2454</td><td>14</td><td>30</td><td>2013-12-31 14:00:00</td></tr>\n",
              "\t<tr><td>2013</td><td>12</td><td>31</td><td>  NA</td><td> 855</td><td> NA</td><td>  NA</td><td>1142</td><td> NA</td><td>UA</td><td>1506</td><td>NA    </td><td>EWR</td><td>JAC</td><td> NA</td><td>1874</td><td> 8</td><td>55</td><td>2013-12-31 08:00:00</td></tr>\n",
              "\t<tr><td>2013</td><td>12</td><td>31</td><td>  NA</td><td> 705</td><td> NA</td><td>  NA</td><td> 931</td><td> NA</td><td>UA</td><td>1729</td><td>NA    </td><td>EWR</td><td>DEN</td><td> NA</td><td>1605</td><td> 7</td><td> 5</td><td>2013-12-31 07:00:00</td></tr>\n",
              "\t<tr><td>2013</td><td>12</td><td>31</td><td>  NA</td><td> 825</td><td> NA</td><td>  NA</td><td>1029</td><td> NA</td><td>US</td><td>1831</td><td>NA    </td><td>JFK</td><td>CLT</td><td> NA</td><td> 541</td><td> 8</td><td>25</td><td>2013-12-31 08:00:00</td></tr>\n",
              "\t<tr><td>2013</td><td>12</td><td>31</td><td>  NA</td><td>1615</td><td> NA</td><td>  NA</td><td>1800</td><td> NA</td><td>MQ</td><td>3301</td><td>N844MQ</td><td>LGA</td><td>RDU</td><td> NA</td><td> 431</td><td>16</td><td>15</td><td>2013-12-31 16:00:00</td></tr>\n",
              "\t<tr><td>2013</td><td>12</td><td>31</td><td>  NA</td><td> 600</td><td> NA</td><td>  NA</td><td> 735</td><td> NA</td><td>UA</td><td> 219</td><td>NA    </td><td>EWR</td><td>ORD</td><td> NA</td><td> 719</td><td> 6</td><td> 0</td><td>2013-12-31 06:00:00</td></tr>\n",
              "\t<tr><td>2013</td><td>12</td><td>31</td><td>  NA</td><td> 830</td><td> NA</td><td>  NA</td><td>1154</td><td> NA</td><td>UA</td><td> 443</td><td>NA    </td><td>JFK</td><td>LAX</td><td> NA</td><td>2475</td><td> 8</td><td>30</td><td>2013-12-31 08:00:00</td></tr>\n",
              "</tbody>\n",
              "</table>\n"
            ]
          },
          "metadata": {
            "tags": []
          }
        }
      ]
    },
    {
      "cell_type": "markdown",
      "metadata": {
        "id": "rpnWuX-g4yzU",
        "colab_type": "text"
      },
      "source": [
        "Podemos usar `desc()` para organiar en orden descendente."
      ]
    },
    {
      "cell_type": "code",
      "metadata": {
        "id": "KQVxdmkJ36MT",
        "colab_type": "code",
        "colab": {
          "base_uri": "https://localhost:8080/",
          "height": 1000
        },
        "outputId": "5bf2f1ad-2d41-49cf-d20b-440ba17e4155"
      },
      "source": [
        "arrange(flights, desc(arr_delay))"
      ],
      "execution_count": 25,
      "outputs": [
        {
          "output_type": "display_data",
          "data": {
            "text/plain": [
              "       year month day dep_time sched_dep_time dep_delay arr_time sched_arr_time\n",
              "1      2013  1     9   641      900           1301      1242     1530          \n",
              "2      2013  6    15  1432     1935           1137      1607     2120          \n",
              "3      2013  1    10  1121     1635           1126      1239     1810          \n",
              "4      2013  9    20  1139     1845           1014      1457     2210          \n",
              "5      2013  7    22   845     1600           1005      1044     1815          \n",
              "6      2013  4    10  1100     1900            960      1342     2211          \n",
              "7      2013  3    17  2321      810            911       135     1020          \n",
              "8      2013  7    22  2257      759            898       121     1026          \n",
              "9      2013 12     5   756     1700            896      1058     2020          \n",
              "10     2013  5     3  1133     2055            878      1250     2215          \n",
              "11     2013 12    14   830     1845            825      1210     2154          \n",
              "12     2013  5    19   713     1700            853      1007     1955          \n",
              "13     2013  1     1   848     1835            853      1001     1950          \n",
              "14     2013  6    27   959     1900            899      1236     2226          \n",
              "15     2013 12    19   734     1725            849      1046     2039          \n",
              "16     2013 12    17   705     1700            845      1026     2020          \n",
              "17     2013  2    10  2243      830            853       100     1106          \n",
              "18     2013  4    19   912     1940            812      1228     2247          \n",
              "19     2013  6    27   753     1830            803       937     2015          \n",
              "20     2013 11     3   603     1645            798       829     1913          \n",
              "21     2013  3    18  1020     2100            800      1336       32          \n",
              "22     2013  4    19   606     1725            761       923     2020          \n",
              "23     2013  4    19   617     1700            797       858     1955          \n",
              "24     2013  6    27   732     1825            787       932     2032          \n",
              "25     2013  2    24  1921      615            786      2135      842          \n",
              "26     2013  6    27   615     1705            790       853     2004          \n",
              "27     2013  2    19  2324     1016            788       114     1227          \n",
              "28     2013  2    16   757     1930            747      1013     2149          \n",
              "29     2013  4    19   758     1925            753      1049     2225          \n",
              "30     2013 10    14  2042      900            702      2255     1127          \n",
              "⋮      ⋮    ⋮     ⋮   ⋮        ⋮              ⋮         ⋮        ⋮             \n",
              "336747 2013 9     25    NA     1655            NA         NA     1840          \n",
              "336748 2013 9     25    NA     1559            NA         NA     1719          \n",
              "336749 2013 9     26  1331     1329             2       1923     1813          \n",
              "336750 2013 9     26    NA      915            NA         NA     1141          \n",
              "336751 2013 9     26    NA     1400            NA         NA     1512          \n",
              "336752 2013 9     26    NA     1240            NA         NA     1525          \n",
              "336753 2013 9     27  1332     1329             3       1629     1509          \n",
              "336754 2013 9     27  2253     1945           188         NA     2146          \n",
              "336755 2013 9     27    NA      600            NA         NA      730          \n",
              "336756 2013 9     27    NA     2100            NA         NA     2211          \n",
              "336757 2013 9     27    NA     1329            NA         NA     1444          \n",
              "336758 2013 9     27    NA     1600            NA         NA     1739          \n",
              "336759 2013 9     28   555      600            -5        953      753          \n",
              "336760 2013 9     28   847      839             8       1130      959          \n",
              "336761 2013 9     28  1010     1020           -10       1344     1222          \n",
              "336762 2013 9     28  1214     1225           -11       1801     1510          \n",
              "336763 2013 9     28    NA     1803            NA         NA     1927          \n",
              "336764 2013 9     28    NA      910            NA         NA     1220          \n",
              "336765 2013 9     28    NA     1635            NA         NA     1827          \n",
              "336766 2013 9     29  1734     1711            23       2159     2020          \n",
              "336767 2013 9     29    NA     2054            NA         NA     2302          \n",
              "336768 2013 9     29    NA     1830            NA         NA     2010          \n",
              "336769 2013 9     29    NA      700            NA         NA      833          \n",
              "336770 2013 9     30   559      600            -1         NA      715          \n",
              "336771 2013 9     30    NA     1842            NA         NA     2019          \n",
              "336772 2013 9     30    NA     1455            NA         NA     1634          \n",
              "336773 2013 9     30    NA     2200            NA         NA     2312          \n",
              "336774 2013 9     30    NA     1210            NA         NA     1330          \n",
              "336775 2013 9     30    NA     1159            NA         NA     1344          \n",
              "336776 2013 9     30    NA      840            NA         NA     1020          \n",
              "       arr_delay carrier flight tailnum origin dest air_time distance hour\n",
              "1      1272      HA        51   N384HA  JFK    HNL  640      4983      9  \n",
              "2      1127      MQ      3535   N504MQ  JFK    CMH   74       483     19  \n",
              "3      1109      MQ      3695   N517MQ  EWR    ORD  111       719     16  \n",
              "4      1007      AA       177   N338AA  JFK    SFO  354      2586     18  \n",
              "5       989      MQ      3075   N665MQ  JFK    CVG   96       589     16  \n",
              "6       931      DL      2391   N959DL  JFK    TPA  139      1005     19  \n",
              "7       915      DL      2119   N927DA  LGA    MSP  167      1020      8  \n",
              "8       895      DL      2047   N6716C  LGA    ATL  109       762      7  \n",
              "9       878      AA       172   N5DMAA  EWR    MIA  149      1085     17  \n",
              "10      875      MQ      3744   N523MQ  EWR    ORD  112       719     20  \n",
              "11      856      DL      2391   N939DL  JFK    TPA  173      1005     18  \n",
              "12      852      AA       257   N3HEAA  JFK    LAS  323      2248     17  \n",
              "13      851      MQ      3944   N942MQ  JFK    BWI   41       184     18  \n",
              "14      850      DL      2007   N3762Y  JFK    PDX  313      2454     19  \n",
              "15      847      DL      1223   N375NC  EWR    SLC  290      1969     17  \n",
              "16      846      AA       172   N5EMAA  EWR    MIA  145      1085     17  \n",
              "17      834      F9       835   N203FR  LGA    DEN  233      1620      8  \n",
              "18      821      DL      1435   N900DE  LGA    TPA  174      1010     19  \n",
              "19      802      AA      2019   N571AA  LGA    STL  134       888     18  \n",
              "20      796      DL      2042   N990AT  EWR    ATL  109       746     16  \n",
              "21      784      DL      2363   N624AG  JFK    LAX  335      2475     21  \n",
              "22      783      AA      1901   N3DGAA  JFK    IAH  222      1417     17  \n",
              "23      783      AA       257   N3GJAA  JFK    LAS  313      2248     17  \n",
              "24      780      DL      1715   N335NB  LGA    MSY  160      1183     18  \n",
              "25      773      DL       575   N348NW  EWR    ATL  111       746      6  \n",
              "26      769      DL       503   N372DA  JFK    SAN  312      2446     17  \n",
              "27      767      DL      2319   N324US  LGA    MSP  136      1020     10  \n",
              "28      744      9E      3798   N8940E  JFK    CLT   85       541     19  \n",
              "29      744      DL      1485   N927DA  LGA    MCO  149       950     19  \n",
              "30      688      DL       502   N943DL  EWR    ATL   98       746      9  \n",
              "⋮      ⋮         ⋮       ⋮      ⋮       ⋮      ⋮    ⋮        ⋮        ⋮   \n",
              "336747 NA        MQ      3411   N735MQ  LGA    RDU  NA        431     16  \n",
              "336748 NA        MQ      3748   N530MQ  EWR    ORD  NA        719     15  \n",
              "336749 NA        UA        15   N67052  EWR    HNL  NA       4963     13  \n",
              "336750 NA        EV      5109   N748EV  LGA    CHS  NA        641      9  \n",
              "336751 NA        US      2183   NA      LGA    DCA  NA        214     14  \n",
              "336752 NA        WN      4720   N691WN  EWR    HOU  NA       1411     12  \n",
              "336753 NA        AA       331   N565AA  LGA    ORD  NA        733     13  \n",
              "336754 NA        EV      5306   N605QX  LGA    GSO  NA        461     19  \n",
              "336755 NA        AA       301   N584AA  LGA    ORD  NA        733      6  \n",
              "336756 NA        US      2164   NA      LGA    BOS  NA        184     21  \n",
              "336757 NA        MQ      3760   N505MQ  EWR    ORD  NA        719     13  \n",
              "336758 NA        UA       269   NA      LGA    ORD  NA        733     16  \n",
              "336759 NA        EV      5068   N133EV  EWR    DTW  NA        488      6  \n",
              "336760 NA        EV      4510   N14542  EWR    MKE  NA        725      8  \n",
              "336761 NA        EV      4412   N12175  EWR    DSM  NA       1017     10  \n",
              "336762 NA        AA       300   N488AA  EWR    DFW  NA       1372     12  \n",
              "336763 NA        EV      5563   N724EV  LGA    BTV  NA        258     18  \n",
              "336764 NA        AA         1   N320AA  JFK    LAX  NA       2475      9  \n",
              "336765 NA        US       581   NA      EWR    CLT  NA        529     16  \n",
              "336766 NA        UA       327   N463UA  EWR    PDX  NA       2434     17  \n",
              "336767 NA        EV      4536   N13988  EWR    CVG  NA        569     20  \n",
              "336768 NA        MQ      3134   N508MQ  EWR    ORD  NA        719     18  \n",
              "336769 NA        UA       331   NA      LGA    ORD  NA        733      7  \n",
              "336770 NA        WN       464   N411WN  EWR    MDW  NA        711      6  \n",
              "336771 NA        EV      5274   N740EV  LGA    BNA  NA        764     18  \n",
              "336772 NA        9E      3393   NA      JFK    DCA  NA        213     14  \n",
              "336773 NA        9E      3525   NA      LGA    SYR  NA        198     22  \n",
              "336774 NA        MQ      3461   N535MQ  LGA    BNA  NA        764     12  \n",
              "336775 NA        MQ      3572   N511MQ  LGA    CLE  NA        419     11  \n",
              "336776 NA        MQ      3531   N839MQ  LGA    RDU  NA        431      8  \n",
              "       minute time_hour          \n",
              "1       0     2013-01-09 09:00:00\n",
              "2      35     2013-06-15 19:00:00\n",
              "3      35     2013-01-10 16:00:00\n",
              "4      45     2013-09-20 18:00:00\n",
              "5       0     2013-07-22 16:00:00\n",
              "6       0     2013-04-10 19:00:00\n",
              "7      10     2013-03-17 08:00:00\n",
              "8      59     2013-07-22 07:00:00\n",
              "9       0     2013-12-05 17:00:00\n",
              "10     55     2013-05-03 20:00:00\n",
              "11     45     2013-12-14 18:00:00\n",
              "12      0     2013-05-19 17:00:00\n",
              "13     35     2013-01-01 18:00:00\n",
              "14      0     2013-06-27 19:00:00\n",
              "15     25     2013-12-19 17:00:00\n",
              "16      0     2013-12-17 17:00:00\n",
              "17     30     2013-02-10 08:00:00\n",
              "18     40     2013-04-19 19:00:00\n",
              "19     30     2013-06-27 18:00:00\n",
              "20     45     2013-11-03 16:00:00\n",
              "21      0     2013-03-18 21:00:00\n",
              "22     25     2013-04-19 17:00:00\n",
              "23      0     2013-04-19 17:00:00\n",
              "24     25     2013-06-27 18:00:00\n",
              "25     15     2013-02-24 06:00:00\n",
              "26      5     2013-06-27 17:00:00\n",
              "27     16     2013-02-19 10:00:00\n",
              "28     30     2013-02-16 19:00:00\n",
              "29     25     2013-04-19 19:00:00\n",
              "30      0     2013-10-14 09:00:00\n",
              "⋮      ⋮      ⋮                  \n",
              "336747 55     2013-09-25 16:00:00\n",
              "336748 59     2013-09-25 15:00:00\n",
              "336749 29     2013-09-26 13:00:00\n",
              "336750 15     2013-09-26 09:00:00\n",
              "336751  0     2013-09-26 14:00:00\n",
              "336752 40     2013-09-26 12:00:00\n",
              "336753 29     2013-09-27 13:00:00\n",
              "336754 45     2013-09-27 19:00:00\n",
              "336755  0     2013-09-27 06:00:00\n",
              "336756  0     2013-09-27 21:00:00\n",
              "336757 29     2013-09-27 13:00:00\n",
              "336758  0     2013-09-27 16:00:00\n",
              "336759  0     2013-09-28 06:00:00\n",
              "336760 39     2013-09-28 08:00:00\n",
              "336761 20     2013-09-28 10:00:00\n",
              "336762 25     2013-09-28 12:00:00\n",
              "336763  3     2013-09-28 18:00:00\n",
              "336764 10     2013-09-28 09:00:00\n",
              "336765 35     2013-09-28 16:00:00\n",
              "336766 11     2013-09-29 17:00:00\n",
              "336767 54     2013-09-29 20:00:00\n",
              "336768 30     2013-09-29 18:00:00\n",
              "336769  0     2013-09-29 07:00:00\n",
              "336770  0     2013-09-30 06:00:00\n",
              "336771 42     2013-09-30 18:00:00\n",
              "336772 55     2013-09-30 14:00:00\n",
              "336773  0     2013-09-30 22:00:00\n",
              "336774 10     2013-09-30 12:00:00\n",
              "336775 59     2013-09-30 11:00:00\n",
              "336776 40     2013-09-30 08:00:00"
            ],
            "text/latex": "A tibble: 336776 × 19\n\\begin{tabular}{lllllllllllllllllll}\n year & month & day & dep\\_time & sched\\_dep\\_time & dep\\_delay & arr\\_time & sched\\_arr\\_time & arr\\_delay & carrier & flight & tailnum & origin & dest & air\\_time & distance & hour & minute & time\\_hour\\\\\n <int> & <int> & <int> & <int> & <int> & <dbl> & <int> & <int> & <dbl> & <chr> & <int> & <chr> & <chr> & <chr> & <dbl> & <dbl> & <dbl> & <dbl> & <dttm>\\\\\n\\hline\n\t 2013 &  1 &  9 &  641 &  900 & 1301 & 1242 & 1530 & 1272 & HA &   51 & N384HA & JFK & HNL & 640 & 4983 &  9 &  0 & 2013-01-09 09:00:00\\\\\n\t 2013 &  6 & 15 & 1432 & 1935 & 1137 & 1607 & 2120 & 1127 & MQ & 3535 & N504MQ & JFK & CMH &  74 &  483 & 19 & 35 & 2013-06-15 19:00:00\\\\\n\t 2013 &  1 & 10 & 1121 & 1635 & 1126 & 1239 & 1810 & 1109 & MQ & 3695 & N517MQ & EWR & ORD & 111 &  719 & 16 & 35 & 2013-01-10 16:00:00\\\\\n\t 2013 &  9 & 20 & 1139 & 1845 & 1014 & 1457 & 2210 & 1007 & AA &  177 & N338AA & JFK & SFO & 354 & 2586 & 18 & 45 & 2013-09-20 18:00:00\\\\\n\t 2013 &  7 & 22 &  845 & 1600 & 1005 & 1044 & 1815 &  989 & MQ & 3075 & N665MQ & JFK & CVG &  96 &  589 & 16 &  0 & 2013-07-22 16:00:00\\\\\n\t 2013 &  4 & 10 & 1100 & 1900 &  960 & 1342 & 2211 &  931 & DL & 2391 & N959DL & JFK & TPA & 139 & 1005 & 19 &  0 & 2013-04-10 19:00:00\\\\\n\t 2013 &  3 & 17 & 2321 &  810 &  911 &  135 & 1020 &  915 & DL & 2119 & N927DA & LGA & MSP & 167 & 1020 &  8 & 10 & 2013-03-17 08:00:00\\\\\n\t 2013 &  7 & 22 & 2257 &  759 &  898 &  121 & 1026 &  895 & DL & 2047 & N6716C & LGA & ATL & 109 &  762 &  7 & 59 & 2013-07-22 07:00:00\\\\\n\t 2013 & 12 &  5 &  756 & 1700 &  896 & 1058 & 2020 &  878 & AA &  172 & N5DMAA & EWR & MIA & 149 & 1085 & 17 &  0 & 2013-12-05 17:00:00\\\\\n\t 2013 &  5 &  3 & 1133 & 2055 &  878 & 1250 & 2215 &  875 & MQ & 3744 & N523MQ & EWR & ORD & 112 &  719 & 20 & 55 & 2013-05-03 20:00:00\\\\\n\t 2013 & 12 & 14 &  830 & 1845 &  825 & 1210 & 2154 &  856 & DL & 2391 & N939DL & JFK & TPA & 173 & 1005 & 18 & 45 & 2013-12-14 18:00:00\\\\\n\t 2013 &  5 & 19 &  713 & 1700 &  853 & 1007 & 1955 &  852 & AA &  257 & N3HEAA & JFK & LAS & 323 & 2248 & 17 &  0 & 2013-05-19 17:00:00\\\\\n\t 2013 &  1 &  1 &  848 & 1835 &  853 & 1001 & 1950 &  851 & MQ & 3944 & N942MQ & JFK & BWI &  41 &  184 & 18 & 35 & 2013-01-01 18:00:00\\\\\n\t 2013 &  6 & 27 &  959 & 1900 &  899 & 1236 & 2226 &  850 & DL & 2007 & N3762Y & JFK & PDX & 313 & 2454 & 19 &  0 & 2013-06-27 19:00:00\\\\\n\t 2013 & 12 & 19 &  734 & 1725 &  849 & 1046 & 2039 &  847 & DL & 1223 & N375NC & EWR & SLC & 290 & 1969 & 17 & 25 & 2013-12-19 17:00:00\\\\\n\t 2013 & 12 & 17 &  705 & 1700 &  845 & 1026 & 2020 &  846 & AA &  172 & N5EMAA & EWR & MIA & 145 & 1085 & 17 &  0 & 2013-12-17 17:00:00\\\\\n\t 2013 &  2 & 10 & 2243 &  830 &  853 &  100 & 1106 &  834 & F9 &  835 & N203FR & LGA & DEN & 233 & 1620 &  8 & 30 & 2013-02-10 08:00:00\\\\\n\t 2013 &  4 & 19 &  912 & 1940 &  812 & 1228 & 2247 &  821 & DL & 1435 & N900DE & LGA & TPA & 174 & 1010 & 19 & 40 & 2013-04-19 19:00:00\\\\\n\t 2013 &  6 & 27 &  753 & 1830 &  803 &  937 & 2015 &  802 & AA & 2019 & N571AA & LGA & STL & 134 &  888 & 18 & 30 & 2013-06-27 18:00:00\\\\\n\t 2013 & 11 &  3 &  603 & 1645 &  798 &  829 & 1913 &  796 & DL & 2042 & N990AT & EWR & ATL & 109 &  746 & 16 & 45 & 2013-11-03 16:00:00\\\\\n\t 2013 &  3 & 18 & 1020 & 2100 &  800 & 1336 &   32 &  784 & DL & 2363 & N624AG & JFK & LAX & 335 & 2475 & 21 &  0 & 2013-03-18 21:00:00\\\\\n\t 2013 &  4 & 19 &  606 & 1725 &  761 &  923 & 2020 &  783 & AA & 1901 & N3DGAA & JFK & IAH & 222 & 1417 & 17 & 25 & 2013-04-19 17:00:00\\\\\n\t 2013 &  4 & 19 &  617 & 1700 &  797 &  858 & 1955 &  783 & AA &  257 & N3GJAA & JFK & LAS & 313 & 2248 & 17 &  0 & 2013-04-19 17:00:00\\\\\n\t 2013 &  6 & 27 &  732 & 1825 &  787 &  932 & 2032 &  780 & DL & 1715 & N335NB & LGA & MSY & 160 & 1183 & 18 & 25 & 2013-06-27 18:00:00\\\\\n\t 2013 &  2 & 24 & 1921 &  615 &  786 & 2135 &  842 &  773 & DL &  575 & N348NW & EWR & ATL & 111 &  746 &  6 & 15 & 2013-02-24 06:00:00\\\\\n\t 2013 &  6 & 27 &  615 & 1705 &  790 &  853 & 2004 &  769 & DL &  503 & N372DA & JFK & SAN & 312 & 2446 & 17 &  5 & 2013-06-27 17:00:00\\\\\n\t 2013 &  2 & 19 & 2324 & 1016 &  788 &  114 & 1227 &  767 & DL & 2319 & N324US & LGA & MSP & 136 & 1020 & 10 & 16 & 2013-02-19 10:00:00\\\\\n\t 2013 &  2 & 16 &  757 & 1930 &  747 & 1013 & 2149 &  744 & 9E & 3798 & N8940E & JFK & CLT &  85 &  541 & 19 & 30 & 2013-02-16 19:00:00\\\\\n\t 2013 &  4 & 19 &  758 & 1925 &  753 & 1049 & 2225 &  744 & DL & 1485 & N927DA & LGA & MCO & 149 &  950 & 19 & 25 & 2013-04-19 19:00:00\\\\\n\t 2013 & 10 & 14 & 2042 &  900 &  702 & 2255 & 1127 &  688 & DL &  502 & N943DL & EWR & ATL &  98 &  746 &  9 &  0 & 2013-10-14 09:00:00\\\\\n\t ⋮ & ⋮ & ⋮ & ⋮ & ⋮ & ⋮ & ⋮ & ⋮ & ⋮ & ⋮ & ⋮ & ⋮ & ⋮ & ⋮ & ⋮ & ⋮ & ⋮ & ⋮ & ⋮\\\\\n\t 2013 & 9 & 25 &   NA & 1655 &  NA &   NA & 1840 & NA & MQ & 3411 & N735MQ & LGA & RDU & NA &  431 & 16 & 55 & 2013-09-25 16:00:00\\\\\n\t 2013 & 9 & 25 &   NA & 1559 &  NA &   NA & 1719 & NA & MQ & 3748 & N530MQ & EWR & ORD & NA &  719 & 15 & 59 & 2013-09-25 15:00:00\\\\\n\t 2013 & 9 & 26 & 1331 & 1329 &   2 & 1923 & 1813 & NA & UA &   15 & N67052 & EWR & HNL & NA & 4963 & 13 & 29 & 2013-09-26 13:00:00\\\\\n\t 2013 & 9 & 26 &   NA &  915 &  NA &   NA & 1141 & NA & EV & 5109 & N748EV & LGA & CHS & NA &  641 &  9 & 15 & 2013-09-26 09:00:00\\\\\n\t 2013 & 9 & 26 &   NA & 1400 &  NA &   NA & 1512 & NA & US & 2183 & NA     & LGA & DCA & NA &  214 & 14 &  0 & 2013-09-26 14:00:00\\\\\n\t 2013 & 9 & 26 &   NA & 1240 &  NA &   NA & 1525 & NA & WN & 4720 & N691WN & EWR & HOU & NA & 1411 & 12 & 40 & 2013-09-26 12:00:00\\\\\n\t 2013 & 9 & 27 & 1332 & 1329 &   3 & 1629 & 1509 & NA & AA &  331 & N565AA & LGA & ORD & NA &  733 & 13 & 29 & 2013-09-27 13:00:00\\\\\n\t 2013 & 9 & 27 & 2253 & 1945 & 188 &   NA & 2146 & NA & EV & 5306 & N605QX & LGA & GSO & NA &  461 & 19 & 45 & 2013-09-27 19:00:00\\\\\n\t 2013 & 9 & 27 &   NA &  600 &  NA &   NA &  730 & NA & AA &  301 & N584AA & LGA & ORD & NA &  733 &  6 &  0 & 2013-09-27 06:00:00\\\\\n\t 2013 & 9 & 27 &   NA & 2100 &  NA &   NA & 2211 & NA & US & 2164 & NA     & LGA & BOS & NA &  184 & 21 &  0 & 2013-09-27 21:00:00\\\\\n\t 2013 & 9 & 27 &   NA & 1329 &  NA &   NA & 1444 & NA & MQ & 3760 & N505MQ & EWR & ORD & NA &  719 & 13 & 29 & 2013-09-27 13:00:00\\\\\n\t 2013 & 9 & 27 &   NA & 1600 &  NA &   NA & 1739 & NA & UA &  269 & NA     & LGA & ORD & NA &  733 & 16 &  0 & 2013-09-27 16:00:00\\\\\n\t 2013 & 9 & 28 &  555 &  600 &  -5 &  953 &  753 & NA & EV & 5068 & N133EV & EWR & DTW & NA &  488 &  6 &  0 & 2013-09-28 06:00:00\\\\\n\t 2013 & 9 & 28 &  847 &  839 &   8 & 1130 &  959 & NA & EV & 4510 & N14542 & EWR & MKE & NA &  725 &  8 & 39 & 2013-09-28 08:00:00\\\\\n\t 2013 & 9 & 28 & 1010 & 1020 & -10 & 1344 & 1222 & NA & EV & 4412 & N12175 & EWR & DSM & NA & 1017 & 10 & 20 & 2013-09-28 10:00:00\\\\\n\t 2013 & 9 & 28 & 1214 & 1225 & -11 & 1801 & 1510 & NA & AA &  300 & N488AA & EWR & DFW & NA & 1372 & 12 & 25 & 2013-09-28 12:00:00\\\\\n\t 2013 & 9 & 28 &   NA & 1803 &  NA &   NA & 1927 & NA & EV & 5563 & N724EV & LGA & BTV & NA &  258 & 18 &  3 & 2013-09-28 18:00:00\\\\\n\t 2013 & 9 & 28 &   NA &  910 &  NA &   NA & 1220 & NA & AA &    1 & N320AA & JFK & LAX & NA & 2475 &  9 & 10 & 2013-09-28 09:00:00\\\\\n\t 2013 & 9 & 28 &   NA & 1635 &  NA &   NA & 1827 & NA & US &  581 & NA     & EWR & CLT & NA &  529 & 16 & 35 & 2013-09-28 16:00:00\\\\\n\t 2013 & 9 & 29 & 1734 & 1711 &  23 & 2159 & 2020 & NA & UA &  327 & N463UA & EWR & PDX & NA & 2434 & 17 & 11 & 2013-09-29 17:00:00\\\\\n\t 2013 & 9 & 29 &   NA & 2054 &  NA &   NA & 2302 & NA & EV & 4536 & N13988 & EWR & CVG & NA &  569 & 20 & 54 & 2013-09-29 20:00:00\\\\\n\t 2013 & 9 & 29 &   NA & 1830 &  NA &   NA & 2010 & NA & MQ & 3134 & N508MQ & EWR & ORD & NA &  719 & 18 & 30 & 2013-09-29 18:00:00\\\\\n\t 2013 & 9 & 29 &   NA &  700 &  NA &   NA &  833 & NA & UA &  331 & NA     & LGA & ORD & NA &  733 &  7 &  0 & 2013-09-29 07:00:00\\\\\n\t 2013 & 9 & 30 &  559 &  600 &  -1 &   NA &  715 & NA & WN &  464 & N411WN & EWR & MDW & NA &  711 &  6 &  0 & 2013-09-30 06:00:00\\\\\n\t 2013 & 9 & 30 &   NA & 1842 &  NA &   NA & 2019 & NA & EV & 5274 & N740EV & LGA & BNA & NA &  764 & 18 & 42 & 2013-09-30 18:00:00\\\\\n\t 2013 & 9 & 30 &   NA & 1455 &  NA &   NA & 1634 & NA & 9E & 3393 & NA     & JFK & DCA & NA &  213 & 14 & 55 & 2013-09-30 14:00:00\\\\\n\t 2013 & 9 & 30 &   NA & 2200 &  NA &   NA & 2312 & NA & 9E & 3525 & NA     & LGA & SYR & NA &  198 & 22 &  0 & 2013-09-30 22:00:00\\\\\n\t 2013 & 9 & 30 &   NA & 1210 &  NA &   NA & 1330 & NA & MQ & 3461 & N535MQ & LGA & BNA & NA &  764 & 12 & 10 & 2013-09-30 12:00:00\\\\\n\t 2013 & 9 & 30 &   NA & 1159 &  NA &   NA & 1344 & NA & MQ & 3572 & N511MQ & LGA & CLE & NA &  419 & 11 & 59 & 2013-09-30 11:00:00\\\\\n\t 2013 & 9 & 30 &   NA &  840 &  NA &   NA & 1020 & NA & MQ & 3531 & N839MQ & LGA & RDU & NA &  431 &  8 & 40 & 2013-09-30 08:00:00\\\\\n\\end{tabular}\n",
            "text/markdown": "\nA tibble: 336776 × 19\n\n| year &lt;int&gt; | month &lt;int&gt; | day &lt;int&gt; | dep_time &lt;int&gt; | sched_dep_time &lt;int&gt; | dep_delay &lt;dbl&gt; | arr_time &lt;int&gt; | sched_arr_time &lt;int&gt; | arr_delay &lt;dbl&gt; | carrier &lt;chr&gt; | flight &lt;int&gt; | tailnum &lt;chr&gt; | origin &lt;chr&gt; | dest &lt;chr&gt; | air_time &lt;dbl&gt; | distance &lt;dbl&gt; | hour &lt;dbl&gt; | minute &lt;dbl&gt; | time_hour &lt;dttm&gt; |\n|---|---|---|---|---|---|---|---|---|---|---|---|---|---|---|---|---|---|---|\n| 2013 |  1 |  9 |  641 |  900 | 1301 | 1242 | 1530 | 1272 | HA |   51 | N384HA | JFK | HNL | 640 | 4983 |  9 |  0 | 2013-01-09 09:00:00 |\n| 2013 |  6 | 15 | 1432 | 1935 | 1137 | 1607 | 2120 | 1127 | MQ | 3535 | N504MQ | JFK | CMH |  74 |  483 | 19 | 35 | 2013-06-15 19:00:00 |\n| 2013 |  1 | 10 | 1121 | 1635 | 1126 | 1239 | 1810 | 1109 | MQ | 3695 | N517MQ | EWR | ORD | 111 |  719 | 16 | 35 | 2013-01-10 16:00:00 |\n| 2013 |  9 | 20 | 1139 | 1845 | 1014 | 1457 | 2210 | 1007 | AA |  177 | N338AA | JFK | SFO | 354 | 2586 | 18 | 45 | 2013-09-20 18:00:00 |\n| 2013 |  7 | 22 |  845 | 1600 | 1005 | 1044 | 1815 |  989 | MQ | 3075 | N665MQ | JFK | CVG |  96 |  589 | 16 |  0 | 2013-07-22 16:00:00 |\n| 2013 |  4 | 10 | 1100 | 1900 |  960 | 1342 | 2211 |  931 | DL | 2391 | N959DL | JFK | TPA | 139 | 1005 | 19 |  0 | 2013-04-10 19:00:00 |\n| 2013 |  3 | 17 | 2321 |  810 |  911 |  135 | 1020 |  915 | DL | 2119 | N927DA | LGA | MSP | 167 | 1020 |  8 | 10 | 2013-03-17 08:00:00 |\n| 2013 |  7 | 22 | 2257 |  759 |  898 |  121 | 1026 |  895 | DL | 2047 | N6716C | LGA | ATL | 109 |  762 |  7 | 59 | 2013-07-22 07:00:00 |\n| 2013 | 12 |  5 |  756 | 1700 |  896 | 1058 | 2020 |  878 | AA |  172 | N5DMAA | EWR | MIA | 149 | 1085 | 17 |  0 | 2013-12-05 17:00:00 |\n| 2013 |  5 |  3 | 1133 | 2055 |  878 | 1250 | 2215 |  875 | MQ | 3744 | N523MQ | EWR | ORD | 112 |  719 | 20 | 55 | 2013-05-03 20:00:00 |\n| 2013 | 12 | 14 |  830 | 1845 |  825 | 1210 | 2154 |  856 | DL | 2391 | N939DL | JFK | TPA | 173 | 1005 | 18 | 45 | 2013-12-14 18:00:00 |\n| 2013 |  5 | 19 |  713 | 1700 |  853 | 1007 | 1955 |  852 | AA |  257 | N3HEAA | JFK | LAS | 323 | 2248 | 17 |  0 | 2013-05-19 17:00:00 |\n| 2013 |  1 |  1 |  848 | 1835 |  853 | 1001 | 1950 |  851 | MQ | 3944 | N942MQ | JFK | BWI |  41 |  184 | 18 | 35 | 2013-01-01 18:00:00 |\n| 2013 |  6 | 27 |  959 | 1900 |  899 | 1236 | 2226 |  850 | DL | 2007 | N3762Y | JFK | PDX | 313 | 2454 | 19 |  0 | 2013-06-27 19:00:00 |\n| 2013 | 12 | 19 |  734 | 1725 |  849 | 1046 | 2039 |  847 | DL | 1223 | N375NC | EWR | SLC | 290 | 1969 | 17 | 25 | 2013-12-19 17:00:00 |\n| 2013 | 12 | 17 |  705 | 1700 |  845 | 1026 | 2020 |  846 | AA |  172 | N5EMAA | EWR | MIA | 145 | 1085 | 17 |  0 | 2013-12-17 17:00:00 |\n| 2013 |  2 | 10 | 2243 |  830 |  853 |  100 | 1106 |  834 | F9 |  835 | N203FR | LGA | DEN | 233 | 1620 |  8 | 30 | 2013-02-10 08:00:00 |\n| 2013 |  4 | 19 |  912 | 1940 |  812 | 1228 | 2247 |  821 | DL | 1435 | N900DE | LGA | TPA | 174 | 1010 | 19 | 40 | 2013-04-19 19:00:00 |\n| 2013 |  6 | 27 |  753 | 1830 |  803 |  937 | 2015 |  802 | AA | 2019 | N571AA | LGA | STL | 134 |  888 | 18 | 30 | 2013-06-27 18:00:00 |\n| 2013 | 11 |  3 |  603 | 1645 |  798 |  829 | 1913 |  796 | DL | 2042 | N990AT | EWR | ATL | 109 |  746 | 16 | 45 | 2013-11-03 16:00:00 |\n| 2013 |  3 | 18 | 1020 | 2100 |  800 | 1336 |   32 |  784 | DL | 2363 | N624AG | JFK | LAX | 335 | 2475 | 21 |  0 | 2013-03-18 21:00:00 |\n| 2013 |  4 | 19 |  606 | 1725 |  761 |  923 | 2020 |  783 | AA | 1901 | N3DGAA | JFK | IAH | 222 | 1417 | 17 | 25 | 2013-04-19 17:00:00 |\n| 2013 |  4 | 19 |  617 | 1700 |  797 |  858 | 1955 |  783 | AA |  257 | N3GJAA | JFK | LAS | 313 | 2248 | 17 |  0 | 2013-04-19 17:00:00 |\n| 2013 |  6 | 27 |  732 | 1825 |  787 |  932 | 2032 |  780 | DL | 1715 | N335NB | LGA | MSY | 160 | 1183 | 18 | 25 | 2013-06-27 18:00:00 |\n| 2013 |  2 | 24 | 1921 |  615 |  786 | 2135 |  842 |  773 | DL |  575 | N348NW | EWR | ATL | 111 |  746 |  6 | 15 | 2013-02-24 06:00:00 |\n| 2013 |  6 | 27 |  615 | 1705 |  790 |  853 | 2004 |  769 | DL |  503 | N372DA | JFK | SAN | 312 | 2446 | 17 |  5 | 2013-06-27 17:00:00 |\n| 2013 |  2 | 19 | 2324 | 1016 |  788 |  114 | 1227 |  767 | DL | 2319 | N324US | LGA | MSP | 136 | 1020 | 10 | 16 | 2013-02-19 10:00:00 |\n| 2013 |  2 | 16 |  757 | 1930 |  747 | 1013 | 2149 |  744 | 9E | 3798 | N8940E | JFK | CLT |  85 |  541 | 19 | 30 | 2013-02-16 19:00:00 |\n| 2013 |  4 | 19 |  758 | 1925 |  753 | 1049 | 2225 |  744 | DL | 1485 | N927DA | LGA | MCO | 149 |  950 | 19 | 25 | 2013-04-19 19:00:00 |\n| 2013 | 10 | 14 | 2042 |  900 |  702 | 2255 | 1127 |  688 | DL |  502 | N943DL | EWR | ATL |  98 |  746 |  9 |  0 | 2013-10-14 09:00:00 |\n| ⋮ | ⋮ | ⋮ | ⋮ | ⋮ | ⋮ | ⋮ | ⋮ | ⋮ | ⋮ | ⋮ | ⋮ | ⋮ | ⋮ | ⋮ | ⋮ | ⋮ | ⋮ | ⋮ |\n| 2013 | 9 | 25 |   NA | 1655 |  NA |   NA | 1840 | NA | MQ | 3411 | N735MQ | LGA | RDU | NA |  431 | 16 | 55 | 2013-09-25 16:00:00 |\n| 2013 | 9 | 25 |   NA | 1559 |  NA |   NA | 1719 | NA | MQ | 3748 | N530MQ | EWR | ORD | NA |  719 | 15 | 59 | 2013-09-25 15:00:00 |\n| 2013 | 9 | 26 | 1331 | 1329 |   2 | 1923 | 1813 | NA | UA |   15 | N67052 | EWR | HNL | NA | 4963 | 13 | 29 | 2013-09-26 13:00:00 |\n| 2013 | 9 | 26 |   NA |  915 |  NA |   NA | 1141 | NA | EV | 5109 | N748EV | LGA | CHS | NA |  641 |  9 | 15 | 2013-09-26 09:00:00 |\n| 2013 | 9 | 26 |   NA | 1400 |  NA |   NA | 1512 | NA | US | 2183 | NA     | LGA | DCA | NA |  214 | 14 |  0 | 2013-09-26 14:00:00 |\n| 2013 | 9 | 26 |   NA | 1240 |  NA |   NA | 1525 | NA | WN | 4720 | N691WN | EWR | HOU | NA | 1411 | 12 | 40 | 2013-09-26 12:00:00 |\n| 2013 | 9 | 27 | 1332 | 1329 |   3 | 1629 | 1509 | NA | AA |  331 | N565AA | LGA | ORD | NA |  733 | 13 | 29 | 2013-09-27 13:00:00 |\n| 2013 | 9 | 27 | 2253 | 1945 | 188 |   NA | 2146 | NA | EV | 5306 | N605QX | LGA | GSO | NA |  461 | 19 | 45 | 2013-09-27 19:00:00 |\n| 2013 | 9 | 27 |   NA |  600 |  NA |   NA |  730 | NA | AA |  301 | N584AA | LGA | ORD | NA |  733 |  6 |  0 | 2013-09-27 06:00:00 |\n| 2013 | 9 | 27 |   NA | 2100 |  NA |   NA | 2211 | NA | US | 2164 | NA     | LGA | BOS | NA |  184 | 21 |  0 | 2013-09-27 21:00:00 |\n| 2013 | 9 | 27 |   NA | 1329 |  NA |   NA | 1444 | NA | MQ | 3760 | N505MQ | EWR | ORD | NA |  719 | 13 | 29 | 2013-09-27 13:00:00 |\n| 2013 | 9 | 27 |   NA | 1600 |  NA |   NA | 1739 | NA | UA |  269 | NA     | LGA | ORD | NA |  733 | 16 |  0 | 2013-09-27 16:00:00 |\n| 2013 | 9 | 28 |  555 |  600 |  -5 |  953 |  753 | NA | EV | 5068 | N133EV | EWR | DTW | NA |  488 |  6 |  0 | 2013-09-28 06:00:00 |\n| 2013 | 9 | 28 |  847 |  839 |   8 | 1130 |  959 | NA | EV | 4510 | N14542 | EWR | MKE | NA |  725 |  8 | 39 | 2013-09-28 08:00:00 |\n| 2013 | 9 | 28 | 1010 | 1020 | -10 | 1344 | 1222 | NA | EV | 4412 | N12175 | EWR | DSM | NA | 1017 | 10 | 20 | 2013-09-28 10:00:00 |\n| 2013 | 9 | 28 | 1214 | 1225 | -11 | 1801 | 1510 | NA | AA |  300 | N488AA | EWR | DFW | NA | 1372 | 12 | 25 | 2013-09-28 12:00:00 |\n| 2013 | 9 | 28 |   NA | 1803 |  NA |   NA | 1927 | NA | EV | 5563 | N724EV | LGA | BTV | NA |  258 | 18 |  3 | 2013-09-28 18:00:00 |\n| 2013 | 9 | 28 |   NA |  910 |  NA |   NA | 1220 | NA | AA |    1 | N320AA | JFK | LAX | NA | 2475 |  9 | 10 | 2013-09-28 09:00:00 |\n| 2013 | 9 | 28 |   NA | 1635 |  NA |   NA | 1827 | NA | US |  581 | NA     | EWR | CLT | NA |  529 | 16 | 35 | 2013-09-28 16:00:00 |\n| 2013 | 9 | 29 | 1734 | 1711 |  23 | 2159 | 2020 | NA | UA |  327 | N463UA | EWR | PDX | NA | 2434 | 17 | 11 | 2013-09-29 17:00:00 |\n| 2013 | 9 | 29 |   NA | 2054 |  NA |   NA | 2302 | NA | EV | 4536 | N13988 | EWR | CVG | NA |  569 | 20 | 54 | 2013-09-29 20:00:00 |\n| 2013 | 9 | 29 |   NA | 1830 |  NA |   NA | 2010 | NA | MQ | 3134 | N508MQ | EWR | ORD | NA |  719 | 18 | 30 | 2013-09-29 18:00:00 |\n| 2013 | 9 | 29 |   NA |  700 |  NA |   NA |  833 | NA | UA |  331 | NA     | LGA | ORD | NA |  733 |  7 |  0 | 2013-09-29 07:00:00 |\n| 2013 | 9 | 30 |  559 |  600 |  -1 |   NA |  715 | NA | WN |  464 | N411WN | EWR | MDW | NA |  711 |  6 |  0 | 2013-09-30 06:00:00 |\n| 2013 | 9 | 30 |   NA | 1842 |  NA |   NA | 2019 | NA | EV | 5274 | N740EV | LGA | BNA | NA |  764 | 18 | 42 | 2013-09-30 18:00:00 |\n| 2013 | 9 | 30 |   NA | 1455 |  NA |   NA | 1634 | NA | 9E | 3393 | NA     | JFK | DCA | NA |  213 | 14 | 55 | 2013-09-30 14:00:00 |\n| 2013 | 9 | 30 |   NA | 2200 |  NA |   NA | 2312 | NA | 9E | 3525 | NA     | LGA | SYR | NA |  198 | 22 |  0 | 2013-09-30 22:00:00 |\n| 2013 | 9 | 30 |   NA | 1210 |  NA |   NA | 1330 | NA | MQ | 3461 | N535MQ | LGA | BNA | NA |  764 | 12 | 10 | 2013-09-30 12:00:00 |\n| 2013 | 9 | 30 |   NA | 1159 |  NA |   NA | 1344 | NA | MQ | 3572 | N511MQ | LGA | CLE | NA |  419 | 11 | 59 | 2013-09-30 11:00:00 |\n| 2013 | 9 | 30 |   NA |  840 |  NA |   NA | 1020 | NA | MQ | 3531 | N839MQ | LGA | RDU | NA |  431 |  8 | 40 | 2013-09-30 08:00:00 |\n\n",
            "text/html": [
              "<table>\n",
              "<caption>A tibble: 336776 × 19</caption>\n",
              "<thead>\n",
              "\t<tr><th scope=col>year</th><th scope=col>month</th><th scope=col>day</th><th scope=col>dep_time</th><th scope=col>sched_dep_time</th><th scope=col>dep_delay</th><th scope=col>arr_time</th><th scope=col>sched_arr_time</th><th scope=col>arr_delay</th><th scope=col>carrier</th><th scope=col>flight</th><th scope=col>tailnum</th><th scope=col>origin</th><th scope=col>dest</th><th scope=col>air_time</th><th scope=col>distance</th><th scope=col>hour</th><th scope=col>minute</th><th scope=col>time_hour</th></tr>\n",
              "\t<tr><th scope=col>&lt;int&gt;</th><th scope=col>&lt;int&gt;</th><th scope=col>&lt;int&gt;</th><th scope=col>&lt;int&gt;</th><th scope=col>&lt;int&gt;</th><th scope=col>&lt;dbl&gt;</th><th scope=col>&lt;int&gt;</th><th scope=col>&lt;int&gt;</th><th scope=col>&lt;dbl&gt;</th><th scope=col>&lt;chr&gt;</th><th scope=col>&lt;int&gt;</th><th scope=col>&lt;chr&gt;</th><th scope=col>&lt;chr&gt;</th><th scope=col>&lt;chr&gt;</th><th scope=col>&lt;dbl&gt;</th><th scope=col>&lt;dbl&gt;</th><th scope=col>&lt;dbl&gt;</th><th scope=col>&lt;dbl&gt;</th><th scope=col>&lt;dttm&gt;</th></tr>\n",
              "</thead>\n",
              "<tbody>\n",
              "\t<tr><td>2013</td><td> 1</td><td> 9</td><td> 641</td><td> 900</td><td>1301</td><td>1242</td><td>1530</td><td>1272</td><td>HA</td><td>  51</td><td>N384HA</td><td>JFK</td><td>HNL</td><td>640</td><td>4983</td><td> 9</td><td> 0</td><td>2013-01-09 09:00:00</td></tr>\n",
              "\t<tr><td>2013</td><td> 6</td><td>15</td><td>1432</td><td>1935</td><td>1137</td><td>1607</td><td>2120</td><td>1127</td><td>MQ</td><td>3535</td><td>N504MQ</td><td>JFK</td><td>CMH</td><td> 74</td><td> 483</td><td>19</td><td>35</td><td>2013-06-15 19:00:00</td></tr>\n",
              "\t<tr><td>2013</td><td> 1</td><td>10</td><td>1121</td><td>1635</td><td>1126</td><td>1239</td><td>1810</td><td>1109</td><td>MQ</td><td>3695</td><td>N517MQ</td><td>EWR</td><td>ORD</td><td>111</td><td> 719</td><td>16</td><td>35</td><td>2013-01-10 16:00:00</td></tr>\n",
              "\t<tr><td>2013</td><td> 9</td><td>20</td><td>1139</td><td>1845</td><td>1014</td><td>1457</td><td>2210</td><td>1007</td><td>AA</td><td> 177</td><td>N338AA</td><td>JFK</td><td>SFO</td><td>354</td><td>2586</td><td>18</td><td>45</td><td>2013-09-20 18:00:00</td></tr>\n",
              "\t<tr><td>2013</td><td> 7</td><td>22</td><td> 845</td><td>1600</td><td>1005</td><td>1044</td><td>1815</td><td> 989</td><td>MQ</td><td>3075</td><td>N665MQ</td><td>JFK</td><td>CVG</td><td> 96</td><td> 589</td><td>16</td><td> 0</td><td>2013-07-22 16:00:00</td></tr>\n",
              "\t<tr><td>2013</td><td> 4</td><td>10</td><td>1100</td><td>1900</td><td> 960</td><td>1342</td><td>2211</td><td> 931</td><td>DL</td><td>2391</td><td>N959DL</td><td>JFK</td><td>TPA</td><td>139</td><td>1005</td><td>19</td><td> 0</td><td>2013-04-10 19:00:00</td></tr>\n",
              "\t<tr><td>2013</td><td> 3</td><td>17</td><td>2321</td><td> 810</td><td> 911</td><td> 135</td><td>1020</td><td> 915</td><td>DL</td><td>2119</td><td>N927DA</td><td>LGA</td><td>MSP</td><td>167</td><td>1020</td><td> 8</td><td>10</td><td>2013-03-17 08:00:00</td></tr>\n",
              "\t<tr><td>2013</td><td> 7</td><td>22</td><td>2257</td><td> 759</td><td> 898</td><td> 121</td><td>1026</td><td> 895</td><td>DL</td><td>2047</td><td>N6716C</td><td>LGA</td><td>ATL</td><td>109</td><td> 762</td><td> 7</td><td>59</td><td>2013-07-22 07:00:00</td></tr>\n",
              "\t<tr><td>2013</td><td>12</td><td> 5</td><td> 756</td><td>1700</td><td> 896</td><td>1058</td><td>2020</td><td> 878</td><td>AA</td><td> 172</td><td>N5DMAA</td><td>EWR</td><td>MIA</td><td>149</td><td>1085</td><td>17</td><td> 0</td><td>2013-12-05 17:00:00</td></tr>\n",
              "\t<tr><td>2013</td><td> 5</td><td> 3</td><td>1133</td><td>2055</td><td> 878</td><td>1250</td><td>2215</td><td> 875</td><td>MQ</td><td>3744</td><td>N523MQ</td><td>EWR</td><td>ORD</td><td>112</td><td> 719</td><td>20</td><td>55</td><td>2013-05-03 20:00:00</td></tr>\n",
              "\t<tr><td>2013</td><td>12</td><td>14</td><td> 830</td><td>1845</td><td> 825</td><td>1210</td><td>2154</td><td> 856</td><td>DL</td><td>2391</td><td>N939DL</td><td>JFK</td><td>TPA</td><td>173</td><td>1005</td><td>18</td><td>45</td><td>2013-12-14 18:00:00</td></tr>\n",
              "\t<tr><td>2013</td><td> 5</td><td>19</td><td> 713</td><td>1700</td><td> 853</td><td>1007</td><td>1955</td><td> 852</td><td>AA</td><td> 257</td><td>N3HEAA</td><td>JFK</td><td>LAS</td><td>323</td><td>2248</td><td>17</td><td> 0</td><td>2013-05-19 17:00:00</td></tr>\n",
              "\t<tr><td>2013</td><td> 1</td><td> 1</td><td> 848</td><td>1835</td><td> 853</td><td>1001</td><td>1950</td><td> 851</td><td>MQ</td><td>3944</td><td>N942MQ</td><td>JFK</td><td>BWI</td><td> 41</td><td> 184</td><td>18</td><td>35</td><td>2013-01-01 18:00:00</td></tr>\n",
              "\t<tr><td>2013</td><td> 6</td><td>27</td><td> 959</td><td>1900</td><td> 899</td><td>1236</td><td>2226</td><td> 850</td><td>DL</td><td>2007</td><td>N3762Y</td><td>JFK</td><td>PDX</td><td>313</td><td>2454</td><td>19</td><td> 0</td><td>2013-06-27 19:00:00</td></tr>\n",
              "\t<tr><td>2013</td><td>12</td><td>19</td><td> 734</td><td>1725</td><td> 849</td><td>1046</td><td>2039</td><td> 847</td><td>DL</td><td>1223</td><td>N375NC</td><td>EWR</td><td>SLC</td><td>290</td><td>1969</td><td>17</td><td>25</td><td>2013-12-19 17:00:00</td></tr>\n",
              "\t<tr><td>2013</td><td>12</td><td>17</td><td> 705</td><td>1700</td><td> 845</td><td>1026</td><td>2020</td><td> 846</td><td>AA</td><td> 172</td><td>N5EMAA</td><td>EWR</td><td>MIA</td><td>145</td><td>1085</td><td>17</td><td> 0</td><td>2013-12-17 17:00:00</td></tr>\n",
              "\t<tr><td>2013</td><td> 2</td><td>10</td><td>2243</td><td> 830</td><td> 853</td><td> 100</td><td>1106</td><td> 834</td><td>F9</td><td> 835</td><td>N203FR</td><td>LGA</td><td>DEN</td><td>233</td><td>1620</td><td> 8</td><td>30</td><td>2013-02-10 08:00:00</td></tr>\n",
              "\t<tr><td>2013</td><td> 4</td><td>19</td><td> 912</td><td>1940</td><td> 812</td><td>1228</td><td>2247</td><td> 821</td><td>DL</td><td>1435</td><td>N900DE</td><td>LGA</td><td>TPA</td><td>174</td><td>1010</td><td>19</td><td>40</td><td>2013-04-19 19:00:00</td></tr>\n",
              "\t<tr><td>2013</td><td> 6</td><td>27</td><td> 753</td><td>1830</td><td> 803</td><td> 937</td><td>2015</td><td> 802</td><td>AA</td><td>2019</td><td>N571AA</td><td>LGA</td><td>STL</td><td>134</td><td> 888</td><td>18</td><td>30</td><td>2013-06-27 18:00:00</td></tr>\n",
              "\t<tr><td>2013</td><td>11</td><td> 3</td><td> 603</td><td>1645</td><td> 798</td><td> 829</td><td>1913</td><td> 796</td><td>DL</td><td>2042</td><td>N990AT</td><td>EWR</td><td>ATL</td><td>109</td><td> 746</td><td>16</td><td>45</td><td>2013-11-03 16:00:00</td></tr>\n",
              "\t<tr><td>2013</td><td> 3</td><td>18</td><td>1020</td><td>2100</td><td> 800</td><td>1336</td><td>  32</td><td> 784</td><td>DL</td><td>2363</td><td>N624AG</td><td>JFK</td><td>LAX</td><td>335</td><td>2475</td><td>21</td><td> 0</td><td>2013-03-18 21:00:00</td></tr>\n",
              "\t<tr><td>2013</td><td> 4</td><td>19</td><td> 606</td><td>1725</td><td> 761</td><td> 923</td><td>2020</td><td> 783</td><td>AA</td><td>1901</td><td>N3DGAA</td><td>JFK</td><td>IAH</td><td>222</td><td>1417</td><td>17</td><td>25</td><td>2013-04-19 17:00:00</td></tr>\n",
              "\t<tr><td>2013</td><td> 4</td><td>19</td><td> 617</td><td>1700</td><td> 797</td><td> 858</td><td>1955</td><td> 783</td><td>AA</td><td> 257</td><td>N3GJAA</td><td>JFK</td><td>LAS</td><td>313</td><td>2248</td><td>17</td><td> 0</td><td>2013-04-19 17:00:00</td></tr>\n",
              "\t<tr><td>2013</td><td> 6</td><td>27</td><td> 732</td><td>1825</td><td> 787</td><td> 932</td><td>2032</td><td> 780</td><td>DL</td><td>1715</td><td>N335NB</td><td>LGA</td><td>MSY</td><td>160</td><td>1183</td><td>18</td><td>25</td><td>2013-06-27 18:00:00</td></tr>\n",
              "\t<tr><td>2013</td><td> 2</td><td>24</td><td>1921</td><td> 615</td><td> 786</td><td>2135</td><td> 842</td><td> 773</td><td>DL</td><td> 575</td><td>N348NW</td><td>EWR</td><td>ATL</td><td>111</td><td> 746</td><td> 6</td><td>15</td><td>2013-02-24 06:00:00</td></tr>\n",
              "\t<tr><td>2013</td><td> 6</td><td>27</td><td> 615</td><td>1705</td><td> 790</td><td> 853</td><td>2004</td><td> 769</td><td>DL</td><td> 503</td><td>N372DA</td><td>JFK</td><td>SAN</td><td>312</td><td>2446</td><td>17</td><td> 5</td><td>2013-06-27 17:00:00</td></tr>\n",
              "\t<tr><td>2013</td><td> 2</td><td>19</td><td>2324</td><td>1016</td><td> 788</td><td> 114</td><td>1227</td><td> 767</td><td>DL</td><td>2319</td><td>N324US</td><td>LGA</td><td>MSP</td><td>136</td><td>1020</td><td>10</td><td>16</td><td>2013-02-19 10:00:00</td></tr>\n",
              "\t<tr><td>2013</td><td> 2</td><td>16</td><td> 757</td><td>1930</td><td> 747</td><td>1013</td><td>2149</td><td> 744</td><td>9E</td><td>3798</td><td>N8940E</td><td>JFK</td><td>CLT</td><td> 85</td><td> 541</td><td>19</td><td>30</td><td>2013-02-16 19:00:00</td></tr>\n",
              "\t<tr><td>2013</td><td> 4</td><td>19</td><td> 758</td><td>1925</td><td> 753</td><td>1049</td><td>2225</td><td> 744</td><td>DL</td><td>1485</td><td>N927DA</td><td>LGA</td><td>MCO</td><td>149</td><td> 950</td><td>19</td><td>25</td><td>2013-04-19 19:00:00</td></tr>\n",
              "\t<tr><td>2013</td><td>10</td><td>14</td><td>2042</td><td> 900</td><td> 702</td><td>2255</td><td>1127</td><td> 688</td><td>DL</td><td> 502</td><td>N943DL</td><td>EWR</td><td>ATL</td><td> 98</td><td> 746</td><td> 9</td><td> 0</td><td>2013-10-14 09:00:00</td></tr>\n",
              "\t<tr><td>⋮</td><td>⋮</td><td>⋮</td><td>⋮</td><td>⋮</td><td>⋮</td><td>⋮</td><td>⋮</td><td>⋮</td><td>⋮</td><td>⋮</td><td>⋮</td><td>⋮</td><td>⋮</td><td>⋮</td><td>⋮</td><td>⋮</td><td>⋮</td><td>⋮</td></tr>\n",
              "\t<tr><td>2013</td><td>9</td><td>25</td><td>  NA</td><td>1655</td><td> NA</td><td>  NA</td><td>1840</td><td>NA</td><td>MQ</td><td>3411</td><td>N735MQ</td><td>LGA</td><td>RDU</td><td>NA</td><td> 431</td><td>16</td><td>55</td><td>2013-09-25 16:00:00</td></tr>\n",
              "\t<tr><td>2013</td><td>9</td><td>25</td><td>  NA</td><td>1559</td><td> NA</td><td>  NA</td><td>1719</td><td>NA</td><td>MQ</td><td>3748</td><td>N530MQ</td><td>EWR</td><td>ORD</td><td>NA</td><td> 719</td><td>15</td><td>59</td><td>2013-09-25 15:00:00</td></tr>\n",
              "\t<tr><td>2013</td><td>9</td><td>26</td><td>1331</td><td>1329</td><td>  2</td><td>1923</td><td>1813</td><td>NA</td><td>UA</td><td>  15</td><td>N67052</td><td>EWR</td><td>HNL</td><td>NA</td><td>4963</td><td>13</td><td>29</td><td>2013-09-26 13:00:00</td></tr>\n",
              "\t<tr><td>2013</td><td>9</td><td>26</td><td>  NA</td><td> 915</td><td> NA</td><td>  NA</td><td>1141</td><td>NA</td><td>EV</td><td>5109</td><td>N748EV</td><td>LGA</td><td>CHS</td><td>NA</td><td> 641</td><td> 9</td><td>15</td><td>2013-09-26 09:00:00</td></tr>\n",
              "\t<tr><td>2013</td><td>9</td><td>26</td><td>  NA</td><td>1400</td><td> NA</td><td>  NA</td><td>1512</td><td>NA</td><td>US</td><td>2183</td><td>NA    </td><td>LGA</td><td>DCA</td><td>NA</td><td> 214</td><td>14</td><td> 0</td><td>2013-09-26 14:00:00</td></tr>\n",
              "\t<tr><td>2013</td><td>9</td><td>26</td><td>  NA</td><td>1240</td><td> NA</td><td>  NA</td><td>1525</td><td>NA</td><td>WN</td><td>4720</td><td>N691WN</td><td>EWR</td><td>HOU</td><td>NA</td><td>1411</td><td>12</td><td>40</td><td>2013-09-26 12:00:00</td></tr>\n",
              "\t<tr><td>2013</td><td>9</td><td>27</td><td>1332</td><td>1329</td><td>  3</td><td>1629</td><td>1509</td><td>NA</td><td>AA</td><td> 331</td><td>N565AA</td><td>LGA</td><td>ORD</td><td>NA</td><td> 733</td><td>13</td><td>29</td><td>2013-09-27 13:00:00</td></tr>\n",
              "\t<tr><td>2013</td><td>9</td><td>27</td><td>2253</td><td>1945</td><td>188</td><td>  NA</td><td>2146</td><td>NA</td><td>EV</td><td>5306</td><td>N605QX</td><td>LGA</td><td>GSO</td><td>NA</td><td> 461</td><td>19</td><td>45</td><td>2013-09-27 19:00:00</td></tr>\n",
              "\t<tr><td>2013</td><td>9</td><td>27</td><td>  NA</td><td> 600</td><td> NA</td><td>  NA</td><td> 730</td><td>NA</td><td>AA</td><td> 301</td><td>N584AA</td><td>LGA</td><td>ORD</td><td>NA</td><td> 733</td><td> 6</td><td> 0</td><td>2013-09-27 06:00:00</td></tr>\n",
              "\t<tr><td>2013</td><td>9</td><td>27</td><td>  NA</td><td>2100</td><td> NA</td><td>  NA</td><td>2211</td><td>NA</td><td>US</td><td>2164</td><td>NA    </td><td>LGA</td><td>BOS</td><td>NA</td><td> 184</td><td>21</td><td> 0</td><td>2013-09-27 21:00:00</td></tr>\n",
              "\t<tr><td>2013</td><td>9</td><td>27</td><td>  NA</td><td>1329</td><td> NA</td><td>  NA</td><td>1444</td><td>NA</td><td>MQ</td><td>3760</td><td>N505MQ</td><td>EWR</td><td>ORD</td><td>NA</td><td> 719</td><td>13</td><td>29</td><td>2013-09-27 13:00:00</td></tr>\n",
              "\t<tr><td>2013</td><td>9</td><td>27</td><td>  NA</td><td>1600</td><td> NA</td><td>  NA</td><td>1739</td><td>NA</td><td>UA</td><td> 269</td><td>NA    </td><td>LGA</td><td>ORD</td><td>NA</td><td> 733</td><td>16</td><td> 0</td><td>2013-09-27 16:00:00</td></tr>\n",
              "\t<tr><td>2013</td><td>9</td><td>28</td><td> 555</td><td> 600</td><td> -5</td><td> 953</td><td> 753</td><td>NA</td><td>EV</td><td>5068</td><td>N133EV</td><td>EWR</td><td>DTW</td><td>NA</td><td> 488</td><td> 6</td><td> 0</td><td>2013-09-28 06:00:00</td></tr>\n",
              "\t<tr><td>2013</td><td>9</td><td>28</td><td> 847</td><td> 839</td><td>  8</td><td>1130</td><td> 959</td><td>NA</td><td>EV</td><td>4510</td><td>N14542</td><td>EWR</td><td>MKE</td><td>NA</td><td> 725</td><td> 8</td><td>39</td><td>2013-09-28 08:00:00</td></tr>\n",
              "\t<tr><td>2013</td><td>9</td><td>28</td><td>1010</td><td>1020</td><td>-10</td><td>1344</td><td>1222</td><td>NA</td><td>EV</td><td>4412</td><td>N12175</td><td>EWR</td><td>DSM</td><td>NA</td><td>1017</td><td>10</td><td>20</td><td>2013-09-28 10:00:00</td></tr>\n",
              "\t<tr><td>2013</td><td>9</td><td>28</td><td>1214</td><td>1225</td><td>-11</td><td>1801</td><td>1510</td><td>NA</td><td>AA</td><td> 300</td><td>N488AA</td><td>EWR</td><td>DFW</td><td>NA</td><td>1372</td><td>12</td><td>25</td><td>2013-09-28 12:00:00</td></tr>\n",
              "\t<tr><td>2013</td><td>9</td><td>28</td><td>  NA</td><td>1803</td><td> NA</td><td>  NA</td><td>1927</td><td>NA</td><td>EV</td><td>5563</td><td>N724EV</td><td>LGA</td><td>BTV</td><td>NA</td><td> 258</td><td>18</td><td> 3</td><td>2013-09-28 18:00:00</td></tr>\n",
              "\t<tr><td>2013</td><td>9</td><td>28</td><td>  NA</td><td> 910</td><td> NA</td><td>  NA</td><td>1220</td><td>NA</td><td>AA</td><td>   1</td><td>N320AA</td><td>JFK</td><td>LAX</td><td>NA</td><td>2475</td><td> 9</td><td>10</td><td>2013-09-28 09:00:00</td></tr>\n",
              "\t<tr><td>2013</td><td>9</td><td>28</td><td>  NA</td><td>1635</td><td> NA</td><td>  NA</td><td>1827</td><td>NA</td><td>US</td><td> 581</td><td>NA    </td><td>EWR</td><td>CLT</td><td>NA</td><td> 529</td><td>16</td><td>35</td><td>2013-09-28 16:00:00</td></tr>\n",
              "\t<tr><td>2013</td><td>9</td><td>29</td><td>1734</td><td>1711</td><td> 23</td><td>2159</td><td>2020</td><td>NA</td><td>UA</td><td> 327</td><td>N463UA</td><td>EWR</td><td>PDX</td><td>NA</td><td>2434</td><td>17</td><td>11</td><td>2013-09-29 17:00:00</td></tr>\n",
              "\t<tr><td>2013</td><td>9</td><td>29</td><td>  NA</td><td>2054</td><td> NA</td><td>  NA</td><td>2302</td><td>NA</td><td>EV</td><td>4536</td><td>N13988</td><td>EWR</td><td>CVG</td><td>NA</td><td> 569</td><td>20</td><td>54</td><td>2013-09-29 20:00:00</td></tr>\n",
              "\t<tr><td>2013</td><td>9</td><td>29</td><td>  NA</td><td>1830</td><td> NA</td><td>  NA</td><td>2010</td><td>NA</td><td>MQ</td><td>3134</td><td>N508MQ</td><td>EWR</td><td>ORD</td><td>NA</td><td> 719</td><td>18</td><td>30</td><td>2013-09-29 18:00:00</td></tr>\n",
              "\t<tr><td>2013</td><td>9</td><td>29</td><td>  NA</td><td> 700</td><td> NA</td><td>  NA</td><td> 833</td><td>NA</td><td>UA</td><td> 331</td><td>NA    </td><td>LGA</td><td>ORD</td><td>NA</td><td> 733</td><td> 7</td><td> 0</td><td>2013-09-29 07:00:00</td></tr>\n",
              "\t<tr><td>2013</td><td>9</td><td>30</td><td> 559</td><td> 600</td><td> -1</td><td>  NA</td><td> 715</td><td>NA</td><td>WN</td><td> 464</td><td>N411WN</td><td>EWR</td><td>MDW</td><td>NA</td><td> 711</td><td> 6</td><td> 0</td><td>2013-09-30 06:00:00</td></tr>\n",
              "\t<tr><td>2013</td><td>9</td><td>30</td><td>  NA</td><td>1842</td><td> NA</td><td>  NA</td><td>2019</td><td>NA</td><td>EV</td><td>5274</td><td>N740EV</td><td>LGA</td><td>BNA</td><td>NA</td><td> 764</td><td>18</td><td>42</td><td>2013-09-30 18:00:00</td></tr>\n",
              "\t<tr><td>2013</td><td>9</td><td>30</td><td>  NA</td><td>1455</td><td> NA</td><td>  NA</td><td>1634</td><td>NA</td><td>9E</td><td>3393</td><td>NA    </td><td>JFK</td><td>DCA</td><td>NA</td><td> 213</td><td>14</td><td>55</td><td>2013-09-30 14:00:00</td></tr>\n",
              "\t<tr><td>2013</td><td>9</td><td>30</td><td>  NA</td><td>2200</td><td> NA</td><td>  NA</td><td>2312</td><td>NA</td><td>9E</td><td>3525</td><td>NA    </td><td>LGA</td><td>SYR</td><td>NA</td><td> 198</td><td>22</td><td> 0</td><td>2013-09-30 22:00:00</td></tr>\n",
              "\t<tr><td>2013</td><td>9</td><td>30</td><td>  NA</td><td>1210</td><td> NA</td><td>  NA</td><td>1330</td><td>NA</td><td>MQ</td><td>3461</td><td>N535MQ</td><td>LGA</td><td>BNA</td><td>NA</td><td> 764</td><td>12</td><td>10</td><td>2013-09-30 12:00:00</td></tr>\n",
              "\t<tr><td>2013</td><td>9</td><td>30</td><td>  NA</td><td>1159</td><td> NA</td><td>  NA</td><td>1344</td><td>NA</td><td>MQ</td><td>3572</td><td>N511MQ</td><td>LGA</td><td>CLE</td><td>NA</td><td> 419</td><td>11</td><td>59</td><td>2013-09-30 11:00:00</td></tr>\n",
              "\t<tr><td>2013</td><td>9</td><td>30</td><td>  NA</td><td> 840</td><td> NA</td><td>  NA</td><td>1020</td><td>NA</td><td>MQ</td><td>3531</td><td>N839MQ</td><td>LGA</td><td>RDU</td><td>NA</td><td> 431</td><td> 8</td><td>40</td><td>2013-09-30 08:00:00</td></tr>\n",
              "</tbody>\n",
              "</table>\n"
            ]
          },
          "metadata": {
            "tags": []
          }
        }
      ]
    },
    {
      "cell_type": "markdown",
      "metadata": {
        "id": "qTyl3RgF49S5",
        "colab_type": "text"
      },
      "source": [
        "Los `NA` siempre son guardados al final. Independientemente de que se aga de forma ascendente o descendente."
      ]
    },
    {
      "cell_type": "code",
      "metadata": {
        "id": "cBvWixrU4RD4",
        "colab_type": "code",
        "colab": {
          "base_uri": "https://localhost:8080/",
          "height": 175
        },
        "outputId": "67011b16-459f-4a9c-e4b6-a3f3771beed8"
      },
      "source": [
        "df <- tibble(x = c(5, 2, NA))\n",
        "arrange(df, x)"
      ],
      "execution_count": 26,
      "outputs": [
        {
          "output_type": "display_data",
          "data": {
            "text/plain": [
              "  x \n",
              "1  2\n",
              "2  5\n",
              "3 NA"
            ],
            "text/latex": "A tibble: 3 × 1\n\\begin{tabular}{l}\n x\\\\\n <dbl>\\\\\n\\hline\n\t  2\\\\\n\t  5\\\\\n\t NA\\\\\n\\end{tabular}\n",
            "text/markdown": "\nA tibble: 3 × 1\n\n| x &lt;dbl&gt; |\n|---|\n|  2 |\n|  5 |\n| NA |\n\n",
            "text/html": [
              "<table>\n",
              "<caption>A tibble: 3 × 1</caption>\n",
              "<thead>\n",
              "\t<tr><th scope=col>x</th></tr>\n",
              "\t<tr><th scope=col>&lt;dbl&gt;</th></tr>\n",
              "</thead>\n",
              "<tbody>\n",
              "\t<tr><td> 2</td></tr>\n",
              "\t<tr><td> 5</td></tr>\n",
              "\t<tr><td>NA</td></tr>\n",
              "</tbody>\n",
              "</table>\n"
            ]
          },
          "metadata": {
            "tags": []
          }
        }
      ]
    },
    {
      "cell_type": "code",
      "metadata": {
        "id": "nTx-m5Ee5DiS",
        "colab_type": "code",
        "colab": {
          "base_uri": "https://localhost:8080/",
          "height": 175
        },
        "outputId": "e966623e-e805-4b07-e758-6fa72a052689"
      },
      "source": [
        "arrange(df, desc(x))"
      ],
      "execution_count": 27,
      "outputs": [
        {
          "output_type": "display_data",
          "data": {
            "text/plain": [
              "  x \n",
              "1  5\n",
              "2  2\n",
              "3 NA"
            ],
            "text/latex": "A tibble: 3 × 1\n\\begin{tabular}{l}\n x\\\\\n <dbl>\\\\\n\\hline\n\t  5\\\\\n\t  2\\\\\n\t NA\\\\\n\\end{tabular}\n",
            "text/markdown": "\nA tibble: 3 × 1\n\n| x &lt;dbl&gt; |\n|---|\n|  5 |\n|  2 |\n| NA |\n\n",
            "text/html": [
              "<table>\n",
              "<caption>A tibble: 3 × 1</caption>\n",
              "<thead>\n",
              "\t<tr><th scope=col>x</th></tr>\n",
              "\t<tr><th scope=col>&lt;dbl&gt;</th></tr>\n",
              "</thead>\n",
              "<tbody>\n",
              "\t<tr><td> 5</td></tr>\n",
              "\t<tr><td> 2</td></tr>\n",
              "\t<tr><td>NA</td></tr>\n",
              "</tbody>\n",
              "</table>\n"
            ]
          },
          "metadata": {
            "tags": []
          }
        }
      ]
    },
    {
      "cell_type": "markdown",
      "metadata": {
        "id": "nR9q0952CsAc",
        "colab_type": "text"
      },
      "source": [
        "##**Ejercicio**\n",
        "Ordenar vuelos para encontrar los vuelos más retrasados. Encuentra los vuelos que salieron antes."
      ]
    },
    {
      "cell_type": "code",
      "metadata": {
        "id": "Y8rEQOxF_-8J",
        "colab_type": "code",
        "cellView": "form",
        "colab": {}
      },
      "source": [
        "#@title **Consulte la Respuesta Acá**\n",
        "if(F){\n",
        "  arrange(flights,desc(dep_delay))\n",
        "}"
      ],
      "execution_count": null,
      "outputs": []
    },
    {
      "cell_type": "markdown",
      "metadata": {
        "id": "rixOxBfVEJKY",
        "colab_type": "text"
      },
      "source": [
        "###**2)**\n",
        "Cómo usar arange para poner los valores faltantes al inicio?"
      ]
    },
    {
      "cell_type": "code",
      "metadata": {
        "id": "5nYa3VvpEWLo",
        "colab_type": "code",
        "cellView": "form",
        "colab": {}
      },
      "source": [
        "#@title **Consulte la Respuesta Acá**\n",
        "if (F){\n",
        "  arrange(df,!is.na(x))\n",
        "}"
      ],
      "execution_count": null,
      "outputs": []
    },
    {
      "cell_type": "markdown",
      "metadata": {
        "id": "w0NyV4D6UwS-",
        "colab_type": "text"
      },
      "source": [
        "##**Selección de columnas con `select()`**\n",
        "\n",
        "Dentro del uso de datasets nos podemos encontrar casos de cientos o miles de variables, por lo que resulta útil visualizar un conjunto reducido de variables de interés. La función `select()` nos permite realizar esta función en `R`, basándonos en los nombres de las variables. Veamos un pequeño ejemplo con el dataset `fligths` de R:"
      ]
    },
    {
      "cell_type": "code",
      "metadata": {
        "id": "McGyd827xCSs",
        "colab_type": "code",
        "colab": {
          "base_uri": "https://localhost:8080/",
          "height": 204
        },
        "outputId": "7b339fca-90f3-4654-e05a-970e0534abac"
      },
      "source": [
        "# Visualización del dataset completo flights:\n",
        "head(flights)"
      ],
      "execution_count": 28,
      "outputs": [
        {
          "output_type": "display_data",
          "data": {
            "text/plain": [
              "  year month day dep_time sched_dep_time dep_delay arr_time sched_arr_time\n",
              "1 2013 1     1   517      515             2         830      819          \n",
              "2 2013 1     1   533      529             4         850      830          \n",
              "3 2013 1     1   542      540             2         923      850          \n",
              "4 2013 1     1   544      545            -1        1004     1022          \n",
              "5 2013 1     1   554      600            -6         812      837          \n",
              "6 2013 1     1   554      558            -4         740      728          \n",
              "  arr_delay carrier flight tailnum origin dest air_time distance hour minute\n",
              "1  11       UA      1545   N14228  EWR    IAH  227      1400     5    15    \n",
              "2  20       UA      1714   N24211  LGA    IAH  227      1416     5    29    \n",
              "3  33       AA      1141   N619AA  JFK    MIA  160      1089     5    40    \n",
              "4 -18       B6       725   N804JB  JFK    BQN  183      1576     5    45    \n",
              "5 -25       DL       461   N668DN  LGA    ATL  116       762     6     0    \n",
              "6  12       UA      1696   N39463  EWR    ORD  150       719     5    58    \n",
              "  time_hour          \n",
              "1 2013-01-01 05:00:00\n",
              "2 2013-01-01 05:00:00\n",
              "3 2013-01-01 05:00:00\n",
              "4 2013-01-01 05:00:00\n",
              "5 2013-01-01 06:00:00\n",
              "6 2013-01-01 05:00:00"
            ],
            "text/latex": "A tibble: 6 × 19\n\\begin{tabular}{lllllllllllllllllll}\n year & month & day & dep\\_time & sched\\_dep\\_time & dep\\_delay & arr\\_time & sched\\_arr\\_time & arr\\_delay & carrier & flight & tailnum & origin & dest & air\\_time & distance & hour & minute & time\\_hour\\\\\n <int> & <int> & <int> & <int> & <int> & <dbl> & <int> & <int> & <dbl> & <chr> & <int> & <chr> & <chr> & <chr> & <dbl> & <dbl> & <dbl> & <dbl> & <dttm>\\\\\n\\hline\n\t 2013 & 1 & 1 & 517 & 515 &  2 &  830 &  819 &  11 & UA & 1545 & N14228 & EWR & IAH & 227 & 1400 & 5 & 15 & 2013-01-01 05:00:00\\\\\n\t 2013 & 1 & 1 & 533 & 529 &  4 &  850 &  830 &  20 & UA & 1714 & N24211 & LGA & IAH & 227 & 1416 & 5 & 29 & 2013-01-01 05:00:00\\\\\n\t 2013 & 1 & 1 & 542 & 540 &  2 &  923 &  850 &  33 & AA & 1141 & N619AA & JFK & MIA & 160 & 1089 & 5 & 40 & 2013-01-01 05:00:00\\\\\n\t 2013 & 1 & 1 & 544 & 545 & -1 & 1004 & 1022 & -18 & B6 &  725 & N804JB & JFK & BQN & 183 & 1576 & 5 & 45 & 2013-01-01 05:00:00\\\\\n\t 2013 & 1 & 1 & 554 & 600 & -6 &  812 &  837 & -25 & DL &  461 & N668DN & LGA & ATL & 116 &  762 & 6 &  0 & 2013-01-01 06:00:00\\\\\n\t 2013 & 1 & 1 & 554 & 558 & -4 &  740 &  728 &  12 & UA & 1696 & N39463 & EWR & ORD & 150 &  719 & 5 & 58 & 2013-01-01 05:00:00\\\\\n\\end{tabular}\n",
            "text/markdown": "\nA tibble: 6 × 19\n\n| year &lt;int&gt; | month &lt;int&gt; | day &lt;int&gt; | dep_time &lt;int&gt; | sched_dep_time &lt;int&gt; | dep_delay &lt;dbl&gt; | arr_time &lt;int&gt; | sched_arr_time &lt;int&gt; | arr_delay &lt;dbl&gt; | carrier &lt;chr&gt; | flight &lt;int&gt; | tailnum &lt;chr&gt; | origin &lt;chr&gt; | dest &lt;chr&gt; | air_time &lt;dbl&gt; | distance &lt;dbl&gt; | hour &lt;dbl&gt; | minute &lt;dbl&gt; | time_hour &lt;dttm&gt; |\n|---|---|---|---|---|---|---|---|---|---|---|---|---|---|---|---|---|---|---|\n| 2013 | 1 | 1 | 517 | 515 |  2 |  830 |  819 |  11 | UA | 1545 | N14228 | EWR | IAH | 227 | 1400 | 5 | 15 | 2013-01-01 05:00:00 |\n| 2013 | 1 | 1 | 533 | 529 |  4 |  850 |  830 |  20 | UA | 1714 | N24211 | LGA | IAH | 227 | 1416 | 5 | 29 | 2013-01-01 05:00:00 |\n| 2013 | 1 | 1 | 542 | 540 |  2 |  923 |  850 |  33 | AA | 1141 | N619AA | JFK | MIA | 160 | 1089 | 5 | 40 | 2013-01-01 05:00:00 |\n| 2013 | 1 | 1 | 544 | 545 | -1 | 1004 | 1022 | -18 | B6 |  725 | N804JB | JFK | BQN | 183 | 1576 | 5 | 45 | 2013-01-01 05:00:00 |\n| 2013 | 1 | 1 | 554 | 600 | -6 |  812 |  837 | -25 | DL |  461 | N668DN | LGA | ATL | 116 |  762 | 6 |  0 | 2013-01-01 06:00:00 |\n| 2013 | 1 | 1 | 554 | 558 | -4 |  740 |  728 |  12 | UA | 1696 | N39463 | EWR | ORD | 150 |  719 | 5 | 58 | 2013-01-01 05:00:00 |\n\n",
            "text/html": [
              "<table>\n",
              "<caption>A tibble: 6 × 19</caption>\n",
              "<thead>\n",
              "\t<tr><th scope=col>year</th><th scope=col>month</th><th scope=col>day</th><th scope=col>dep_time</th><th scope=col>sched_dep_time</th><th scope=col>dep_delay</th><th scope=col>arr_time</th><th scope=col>sched_arr_time</th><th scope=col>arr_delay</th><th scope=col>carrier</th><th scope=col>flight</th><th scope=col>tailnum</th><th scope=col>origin</th><th scope=col>dest</th><th scope=col>air_time</th><th scope=col>distance</th><th scope=col>hour</th><th scope=col>minute</th><th scope=col>time_hour</th></tr>\n",
              "\t<tr><th scope=col>&lt;int&gt;</th><th scope=col>&lt;int&gt;</th><th scope=col>&lt;int&gt;</th><th scope=col>&lt;int&gt;</th><th scope=col>&lt;int&gt;</th><th scope=col>&lt;dbl&gt;</th><th scope=col>&lt;int&gt;</th><th scope=col>&lt;int&gt;</th><th scope=col>&lt;dbl&gt;</th><th scope=col>&lt;chr&gt;</th><th scope=col>&lt;int&gt;</th><th scope=col>&lt;chr&gt;</th><th scope=col>&lt;chr&gt;</th><th scope=col>&lt;chr&gt;</th><th scope=col>&lt;dbl&gt;</th><th scope=col>&lt;dbl&gt;</th><th scope=col>&lt;dbl&gt;</th><th scope=col>&lt;dbl&gt;</th><th scope=col>&lt;dttm&gt;</th></tr>\n",
              "</thead>\n",
              "<tbody>\n",
              "\t<tr><td>2013</td><td>1</td><td>1</td><td>517</td><td>515</td><td> 2</td><td> 830</td><td> 819</td><td> 11</td><td>UA</td><td>1545</td><td>N14228</td><td>EWR</td><td>IAH</td><td>227</td><td>1400</td><td>5</td><td>15</td><td>2013-01-01 05:00:00</td></tr>\n",
              "\t<tr><td>2013</td><td>1</td><td>1</td><td>533</td><td>529</td><td> 4</td><td> 850</td><td> 830</td><td> 20</td><td>UA</td><td>1714</td><td>N24211</td><td>LGA</td><td>IAH</td><td>227</td><td>1416</td><td>5</td><td>29</td><td>2013-01-01 05:00:00</td></tr>\n",
              "\t<tr><td>2013</td><td>1</td><td>1</td><td>542</td><td>540</td><td> 2</td><td> 923</td><td> 850</td><td> 33</td><td>AA</td><td>1141</td><td>N619AA</td><td>JFK</td><td>MIA</td><td>160</td><td>1089</td><td>5</td><td>40</td><td>2013-01-01 05:00:00</td></tr>\n",
              "\t<tr><td>2013</td><td>1</td><td>1</td><td>544</td><td>545</td><td>-1</td><td>1004</td><td>1022</td><td>-18</td><td>B6</td><td> 725</td><td>N804JB</td><td>JFK</td><td>BQN</td><td>183</td><td>1576</td><td>5</td><td>45</td><td>2013-01-01 05:00:00</td></tr>\n",
              "\t<tr><td>2013</td><td>1</td><td>1</td><td>554</td><td>600</td><td>-6</td><td> 812</td><td> 837</td><td>-25</td><td>DL</td><td> 461</td><td>N668DN</td><td>LGA</td><td>ATL</td><td>116</td><td> 762</td><td>6</td><td> 0</td><td>2013-01-01 06:00:00</td></tr>\n",
              "\t<tr><td>2013</td><td>1</td><td>1</td><td>554</td><td>558</td><td>-4</td><td> 740</td><td> 728</td><td> 12</td><td>UA</td><td>1696</td><td>N39463</td><td>EWR</td><td>ORD</td><td>150</td><td> 719</td><td>5</td><td>58</td><td>2013-01-01 05:00:00</td></tr>\n",
              "</tbody>\n",
              "</table>\n"
            ]
          },
          "metadata": {
            "tags": []
          }
        }
      ]
    },
    {
      "cell_type": "markdown",
      "metadata": {
        "id": "w0J8fqocxLGC",
        "colab_type": "text"
      },
      "source": [
        "Coomo puede observarse en la infomación desplegada, este dataset consta de 19 variables. Para seleccionar algunas pocas, invocamos la función `select()` de la forma\n",
        "\n",
        "```\n",
        "select(dataframe, colA, colB,...)\n",
        "```\n",
        "Por ejemplo, si en el dataset `flights` queremos visualizar las columnas `year`, `month` y `day`, hacemos\n"
      ]
    },
    {
      "cell_type": "code",
      "metadata": {
        "id": "J8_D7MrPUZ7n",
        "colab_type": "code",
        "colab": {
          "base_uri": "https://localhost:8080/",
          "height": 204
        },
        "outputId": "aac7eaf7-4c23-4e83-f306-7af675072596"
      },
      "source": [
        "# Select columns by name\n",
        "head(select(flights, year, month, day))"
      ],
      "execution_count": 29,
      "outputs": [
        {
          "output_type": "display_data",
          "data": {
            "text/plain": [
              "  year month day\n",
              "1 2013 1     1  \n",
              "2 2013 1     1  \n",
              "3 2013 1     1  \n",
              "4 2013 1     1  \n",
              "5 2013 1     1  \n",
              "6 2013 1     1  "
            ],
            "text/latex": "A tibble: 6 × 3\n\\begin{tabular}{lll}\n year & month & day\\\\\n <int> & <int> & <int>\\\\\n\\hline\n\t 2013 & 1 & 1\\\\\n\t 2013 & 1 & 1\\\\\n\t 2013 & 1 & 1\\\\\n\t 2013 & 1 & 1\\\\\n\t 2013 & 1 & 1\\\\\n\t 2013 & 1 & 1\\\\\n\\end{tabular}\n",
            "text/markdown": "\nA tibble: 6 × 3\n\n| year &lt;int&gt; | month &lt;int&gt; | day &lt;int&gt; |\n|---|---|---|\n| 2013 | 1 | 1 |\n| 2013 | 1 | 1 |\n| 2013 | 1 | 1 |\n| 2013 | 1 | 1 |\n| 2013 | 1 | 1 |\n| 2013 | 1 | 1 |\n\n",
            "text/html": [
              "<table>\n",
              "<caption>A tibble: 6 × 3</caption>\n",
              "<thead>\n",
              "\t<tr><th scope=col>year</th><th scope=col>month</th><th scope=col>day</th></tr>\n",
              "\t<tr><th scope=col>&lt;int&gt;</th><th scope=col>&lt;int&gt;</th><th scope=col>&lt;int&gt;</th></tr>\n",
              "</thead>\n",
              "<tbody>\n",
              "\t<tr><td>2013</td><td>1</td><td>1</td></tr>\n",
              "\t<tr><td>2013</td><td>1</td><td>1</td></tr>\n",
              "\t<tr><td>2013</td><td>1</td><td>1</td></tr>\n",
              "\t<tr><td>2013</td><td>1</td><td>1</td></tr>\n",
              "\t<tr><td>2013</td><td>1</td><td>1</td></tr>\n",
              "\t<tr><td>2013</td><td>1</td><td>1</td></tr>\n",
              "</tbody>\n",
              "</table>\n"
            ]
          },
          "metadata": {
            "tags": []
          }
        }
      ]
    },
    {
      "cell_type": "markdown",
      "metadata": {
        "id": "5O_kwVxVyOWD",
        "colab_type": "text"
      },
      "source": [
        "También podemos seleccionar las columnas entre `year` y `day` mediante el operador de seccionado `:`"
      ]
    },
    {
      "cell_type": "code",
      "metadata": {
        "id": "tg0a2-tOVI7s",
        "colab_type": "code",
        "colab": {
          "base_uri": "https://localhost:8080/",
          "height": 204
        },
        "outputId": "82f3ae67-d58d-4abf-8d62-6c14bf99e726"
      },
      "source": [
        "head(select(flights, year:day))"
      ],
      "execution_count": 30,
      "outputs": [
        {
          "output_type": "display_data",
          "data": {
            "text/plain": [
              "  year month day\n",
              "1 2013 1     1  \n",
              "2 2013 1     1  \n",
              "3 2013 1     1  \n",
              "4 2013 1     1  \n",
              "5 2013 1     1  \n",
              "6 2013 1     1  "
            ],
            "text/latex": "A tibble: 6 × 3\n\\begin{tabular}{lll}\n year & month & day\\\\\n <int> & <int> & <int>\\\\\n\\hline\n\t 2013 & 1 & 1\\\\\n\t 2013 & 1 & 1\\\\\n\t 2013 & 1 & 1\\\\\n\t 2013 & 1 & 1\\\\\n\t 2013 & 1 & 1\\\\\n\t 2013 & 1 & 1\\\\\n\\end{tabular}\n",
            "text/markdown": "\nA tibble: 6 × 3\n\n| year &lt;int&gt; | month &lt;int&gt; | day &lt;int&gt; |\n|---|---|---|\n| 2013 | 1 | 1 |\n| 2013 | 1 | 1 |\n| 2013 | 1 | 1 |\n| 2013 | 1 | 1 |\n| 2013 | 1 | 1 |\n| 2013 | 1 | 1 |\n\n",
            "text/html": [
              "<table>\n",
              "<caption>A tibble: 6 × 3</caption>\n",
              "<thead>\n",
              "\t<tr><th scope=col>year</th><th scope=col>month</th><th scope=col>day</th></tr>\n",
              "\t<tr><th scope=col>&lt;int&gt;</th><th scope=col>&lt;int&gt;</th><th scope=col>&lt;int&gt;</th></tr>\n",
              "</thead>\n",
              "<tbody>\n",
              "\t<tr><td>2013</td><td>1</td><td>1</td></tr>\n",
              "\t<tr><td>2013</td><td>1</td><td>1</td></tr>\n",
              "\t<tr><td>2013</td><td>1</td><td>1</td></tr>\n",
              "\t<tr><td>2013</td><td>1</td><td>1</td></tr>\n",
              "\t<tr><td>2013</td><td>1</td><td>1</td></tr>\n",
              "\t<tr><td>2013</td><td>1</td><td>1</td></tr>\n",
              "</tbody>\n",
              "</table>\n"
            ]
          },
          "metadata": {
            "tags": []
          }
        }
      ]
    },
    {
      "cell_type": "markdown",
      "metadata": {
        "id": "5oZoDxV5ycUp",
        "colab_type": "text"
      },
      "source": [
        "Podemos usar la expresión anterior de forma excluyente, en donde pretendamos visualizar todas las columnas excepto las columnas seccionas. Para esto, debemos anteponer un menos a la sección:"
      ]
    },
    {
      "cell_type": "code",
      "metadata": {
        "id": "mWvqBUEiVRN1",
        "colab_type": "code",
        "colab": {
          "base_uri": "https://localhost:8080/",
          "height": 204
        },
        "outputId": "7370bd02-322b-4cf0-9b7a-32f22df2bd19"
      },
      "source": [
        "head(select(flights, -(year:day)))"
      ],
      "execution_count": 31,
      "outputs": [
        {
          "output_type": "display_data",
          "data": {
            "text/plain": [
              "  dep_time sched_dep_time dep_delay arr_time sched_arr_time arr_delay carrier\n",
              "1 517      515             2         830      819            11       UA     \n",
              "2 533      529             4         850      830            20       UA     \n",
              "3 542      540             2         923      850            33       AA     \n",
              "4 544      545            -1        1004     1022           -18       B6     \n",
              "5 554      600            -6         812      837           -25       DL     \n",
              "6 554      558            -4         740      728            12       UA     \n",
              "  flight tailnum origin dest air_time distance hour minute time_hour          \n",
              "1 1545   N14228  EWR    IAH  227      1400     5    15     2013-01-01 05:00:00\n",
              "2 1714   N24211  LGA    IAH  227      1416     5    29     2013-01-01 05:00:00\n",
              "3 1141   N619AA  JFK    MIA  160      1089     5    40     2013-01-01 05:00:00\n",
              "4  725   N804JB  JFK    BQN  183      1576     5    45     2013-01-01 05:00:00\n",
              "5  461   N668DN  LGA    ATL  116       762     6     0     2013-01-01 06:00:00\n",
              "6 1696   N39463  EWR    ORD  150       719     5    58     2013-01-01 05:00:00"
            ],
            "text/latex": "A tibble: 6 × 16\n\\begin{tabular}{llllllllllllllll}\n dep\\_time & sched\\_dep\\_time & dep\\_delay & arr\\_time & sched\\_arr\\_time & arr\\_delay & carrier & flight & tailnum & origin & dest & air\\_time & distance & hour & minute & time\\_hour\\\\\n <int> & <int> & <dbl> & <int> & <int> & <dbl> & <chr> & <int> & <chr> & <chr> & <chr> & <dbl> & <dbl> & <dbl> & <dbl> & <dttm>\\\\\n\\hline\n\t 517 & 515 &  2 &  830 &  819 &  11 & UA & 1545 & N14228 & EWR & IAH & 227 & 1400 & 5 & 15 & 2013-01-01 05:00:00\\\\\n\t 533 & 529 &  4 &  850 &  830 &  20 & UA & 1714 & N24211 & LGA & IAH & 227 & 1416 & 5 & 29 & 2013-01-01 05:00:00\\\\\n\t 542 & 540 &  2 &  923 &  850 &  33 & AA & 1141 & N619AA & JFK & MIA & 160 & 1089 & 5 & 40 & 2013-01-01 05:00:00\\\\\n\t 544 & 545 & -1 & 1004 & 1022 & -18 & B6 &  725 & N804JB & JFK & BQN & 183 & 1576 & 5 & 45 & 2013-01-01 05:00:00\\\\\n\t 554 & 600 & -6 &  812 &  837 & -25 & DL &  461 & N668DN & LGA & ATL & 116 &  762 & 6 &  0 & 2013-01-01 06:00:00\\\\\n\t 554 & 558 & -4 &  740 &  728 &  12 & UA & 1696 & N39463 & EWR & ORD & 150 &  719 & 5 & 58 & 2013-01-01 05:00:00\\\\\n\\end{tabular}\n",
            "text/markdown": "\nA tibble: 6 × 16\n\n| dep_time &lt;int&gt; | sched_dep_time &lt;int&gt; | dep_delay &lt;dbl&gt; | arr_time &lt;int&gt; | sched_arr_time &lt;int&gt; | arr_delay &lt;dbl&gt; | carrier &lt;chr&gt; | flight &lt;int&gt; | tailnum &lt;chr&gt; | origin &lt;chr&gt; | dest &lt;chr&gt; | air_time &lt;dbl&gt; | distance &lt;dbl&gt; | hour &lt;dbl&gt; | minute &lt;dbl&gt; | time_hour &lt;dttm&gt; |\n|---|---|---|---|---|---|---|---|---|---|---|---|---|---|---|---|\n| 517 | 515 |  2 |  830 |  819 |  11 | UA | 1545 | N14228 | EWR | IAH | 227 | 1400 | 5 | 15 | 2013-01-01 05:00:00 |\n| 533 | 529 |  4 |  850 |  830 |  20 | UA | 1714 | N24211 | LGA | IAH | 227 | 1416 | 5 | 29 | 2013-01-01 05:00:00 |\n| 542 | 540 |  2 |  923 |  850 |  33 | AA | 1141 | N619AA | JFK | MIA | 160 | 1089 | 5 | 40 | 2013-01-01 05:00:00 |\n| 544 | 545 | -1 | 1004 | 1022 | -18 | B6 |  725 | N804JB | JFK | BQN | 183 | 1576 | 5 | 45 | 2013-01-01 05:00:00 |\n| 554 | 600 | -6 |  812 |  837 | -25 | DL |  461 | N668DN | LGA | ATL | 116 |  762 | 6 |  0 | 2013-01-01 06:00:00 |\n| 554 | 558 | -4 |  740 |  728 |  12 | UA | 1696 | N39463 | EWR | ORD | 150 |  719 | 5 | 58 | 2013-01-01 05:00:00 |\n\n",
            "text/html": [
              "<table>\n",
              "<caption>A tibble: 6 × 16</caption>\n",
              "<thead>\n",
              "\t<tr><th scope=col>dep_time</th><th scope=col>sched_dep_time</th><th scope=col>dep_delay</th><th scope=col>arr_time</th><th scope=col>sched_arr_time</th><th scope=col>arr_delay</th><th scope=col>carrier</th><th scope=col>flight</th><th scope=col>tailnum</th><th scope=col>origin</th><th scope=col>dest</th><th scope=col>air_time</th><th scope=col>distance</th><th scope=col>hour</th><th scope=col>minute</th><th scope=col>time_hour</th></tr>\n",
              "\t<tr><th scope=col>&lt;int&gt;</th><th scope=col>&lt;int&gt;</th><th scope=col>&lt;dbl&gt;</th><th scope=col>&lt;int&gt;</th><th scope=col>&lt;int&gt;</th><th scope=col>&lt;dbl&gt;</th><th scope=col>&lt;chr&gt;</th><th scope=col>&lt;int&gt;</th><th scope=col>&lt;chr&gt;</th><th scope=col>&lt;chr&gt;</th><th scope=col>&lt;chr&gt;</th><th scope=col>&lt;dbl&gt;</th><th scope=col>&lt;dbl&gt;</th><th scope=col>&lt;dbl&gt;</th><th scope=col>&lt;dbl&gt;</th><th scope=col>&lt;dttm&gt;</th></tr>\n",
              "</thead>\n",
              "<tbody>\n",
              "\t<tr><td>517</td><td>515</td><td> 2</td><td> 830</td><td> 819</td><td> 11</td><td>UA</td><td>1545</td><td>N14228</td><td>EWR</td><td>IAH</td><td>227</td><td>1400</td><td>5</td><td>15</td><td>2013-01-01 05:00:00</td></tr>\n",
              "\t<tr><td>533</td><td>529</td><td> 4</td><td> 850</td><td> 830</td><td> 20</td><td>UA</td><td>1714</td><td>N24211</td><td>LGA</td><td>IAH</td><td>227</td><td>1416</td><td>5</td><td>29</td><td>2013-01-01 05:00:00</td></tr>\n",
              "\t<tr><td>542</td><td>540</td><td> 2</td><td> 923</td><td> 850</td><td> 33</td><td>AA</td><td>1141</td><td>N619AA</td><td>JFK</td><td>MIA</td><td>160</td><td>1089</td><td>5</td><td>40</td><td>2013-01-01 05:00:00</td></tr>\n",
              "\t<tr><td>544</td><td>545</td><td>-1</td><td>1004</td><td>1022</td><td>-18</td><td>B6</td><td> 725</td><td>N804JB</td><td>JFK</td><td>BQN</td><td>183</td><td>1576</td><td>5</td><td>45</td><td>2013-01-01 05:00:00</td></tr>\n",
              "\t<tr><td>554</td><td>600</td><td>-6</td><td> 812</td><td> 837</td><td>-25</td><td>DL</td><td> 461</td><td>N668DN</td><td>LGA</td><td>ATL</td><td>116</td><td> 762</td><td>6</td><td> 0</td><td>2013-01-01 06:00:00</td></tr>\n",
              "\t<tr><td>554</td><td>558</td><td>-4</td><td> 740</td><td> 728</td><td> 12</td><td>UA</td><td>1696</td><td>N39463</td><td>EWR</td><td>ORD</td><td>150</td><td> 719</td><td>5</td><td>58</td><td>2013-01-01 05:00:00</td></tr>\n",
              "</tbody>\n",
              "</table>\n"
            ]
          },
          "metadata": {
            "tags": []
          }
        }
      ]
    },
    {
      "cell_type": "markdown",
      "metadata": {
        "id": "QoH34SH-VvbB",
        "colab_type": "text"
      },
      "source": [
        "Existen varias funciones auxiliares que se pueden usar dentro de la función `select():`\n",
        "\n",
        "- `starts_with(\"abc\")`, las que comienzan por \"abc\".\n",
        "- `ends_with(\"xyz\")`, las que finalizan en “xyz”.\n",
        "- `contains(\"ijk\")`, las que contienen “ijk”.\n",
        "- `matches(\"(.)\\\\1\")` selecciona variables que satisfacen una expresión regular. El ejemplo anterior busca cualquier variable que contenga caracteres repetidos. Veremos más sobre esto en sesiones futuras.\n",
        "- `num_range(\"x\", 1:3)` busca `x1`, `x2`, and `x3``."
      ]
    },
    {
      "cell_type": "code",
      "metadata": {
        "id": "2VuAXGHgzKgh",
        "colab_type": "code",
        "colab": {
          "base_uri": "https://localhost:8080/",
          "height": 204
        },
        "outputId": "f99848c4-3013-4beb-f334-a3a5f00bbef9"
      },
      "source": [
        "# Columnas empezando por t:\n",
        "head(select(flights, starts_with(\"t\")))"
      ],
      "execution_count": 32,
      "outputs": [
        {
          "output_type": "display_data",
          "data": {
            "text/plain": [
              "  tailnum time_hour          \n",
              "1 N14228  2013-01-01 05:00:00\n",
              "2 N24211  2013-01-01 05:00:00\n",
              "3 N619AA  2013-01-01 05:00:00\n",
              "4 N804JB  2013-01-01 05:00:00\n",
              "5 N668DN  2013-01-01 06:00:00\n",
              "6 N39463  2013-01-01 05:00:00"
            ],
            "text/latex": "A tibble: 6 × 2\n\\begin{tabular}{ll}\n tailnum & time\\_hour\\\\\n <chr> & <dttm>\\\\\n\\hline\n\t N14228 & 2013-01-01 05:00:00\\\\\n\t N24211 & 2013-01-01 05:00:00\\\\\n\t N619AA & 2013-01-01 05:00:00\\\\\n\t N804JB & 2013-01-01 05:00:00\\\\\n\t N668DN & 2013-01-01 06:00:00\\\\\n\t N39463 & 2013-01-01 05:00:00\\\\\n\\end{tabular}\n",
            "text/markdown": "\nA tibble: 6 × 2\n\n| tailnum &lt;chr&gt; | time_hour &lt;dttm&gt; |\n|---|---|\n| N14228 | 2013-01-01 05:00:00 |\n| N24211 | 2013-01-01 05:00:00 |\n| N619AA | 2013-01-01 05:00:00 |\n| N804JB | 2013-01-01 05:00:00 |\n| N668DN | 2013-01-01 06:00:00 |\n| N39463 | 2013-01-01 05:00:00 |\n\n",
            "text/html": [
              "<table>\n",
              "<caption>A tibble: 6 × 2</caption>\n",
              "<thead>\n",
              "\t<tr><th scope=col>tailnum</th><th scope=col>time_hour</th></tr>\n",
              "\t<tr><th scope=col>&lt;chr&gt;</th><th scope=col>&lt;dttm&gt;</th></tr>\n",
              "</thead>\n",
              "<tbody>\n",
              "\t<tr><td>N14228</td><td>2013-01-01 05:00:00</td></tr>\n",
              "\t<tr><td>N24211</td><td>2013-01-01 05:00:00</td></tr>\n",
              "\t<tr><td>N619AA</td><td>2013-01-01 05:00:00</td></tr>\n",
              "\t<tr><td>N804JB</td><td>2013-01-01 05:00:00</td></tr>\n",
              "\t<tr><td>N668DN</td><td>2013-01-01 06:00:00</td></tr>\n",
              "\t<tr><td>N39463</td><td>2013-01-01 05:00:00</td></tr>\n",
              "</tbody>\n",
              "</table>\n"
            ]
          },
          "metadata": {
            "tags": []
          }
        }
      ]
    },
    {
      "cell_type": "code",
      "metadata": {
        "id": "EQcMGfY8zfAf",
        "colab_type": "code",
        "colab": {
          "base_uri": "https://localhost:8080/",
          "height": 204
        },
        "outputId": "7393aaff-b66b-4a79-967a-556883d79857"
      },
      "source": [
        "# Columnas terminando en time:\n",
        "head(select(flights, ends_with(\"time\")))"
      ],
      "execution_count": 33,
      "outputs": [
        {
          "output_type": "display_data",
          "data": {
            "text/plain": [
              "  dep_time sched_dep_time arr_time sched_arr_time air_time\n",
              "1 517      515             830      819           227     \n",
              "2 533      529             850      830           227     \n",
              "3 542      540             923      850           160     \n",
              "4 544      545            1004     1022           183     \n",
              "5 554      600             812      837           116     \n",
              "6 554      558             740      728           150     "
            ],
            "text/latex": "A tibble: 6 × 5\n\\begin{tabular}{lllll}\n dep\\_time & sched\\_dep\\_time & arr\\_time & sched\\_arr\\_time & air\\_time\\\\\n <int> & <int> & <int> & <int> & <dbl>\\\\\n\\hline\n\t 517 & 515 &  830 &  819 & 227\\\\\n\t 533 & 529 &  850 &  830 & 227\\\\\n\t 542 & 540 &  923 &  850 & 160\\\\\n\t 544 & 545 & 1004 & 1022 & 183\\\\\n\t 554 & 600 &  812 &  837 & 116\\\\\n\t 554 & 558 &  740 &  728 & 150\\\\\n\\end{tabular}\n",
            "text/markdown": "\nA tibble: 6 × 5\n\n| dep_time &lt;int&gt; | sched_dep_time &lt;int&gt; | arr_time &lt;int&gt; | sched_arr_time &lt;int&gt; | air_time &lt;dbl&gt; |\n|---|---|---|---|---|\n| 517 | 515 |  830 |  819 | 227 |\n| 533 | 529 |  850 |  830 | 227 |\n| 542 | 540 |  923 |  850 | 160 |\n| 544 | 545 | 1004 | 1022 | 183 |\n| 554 | 600 |  812 |  837 | 116 |\n| 554 | 558 |  740 |  728 | 150 |\n\n",
            "text/html": [
              "<table>\n",
              "<caption>A tibble: 6 × 5</caption>\n",
              "<thead>\n",
              "\t<tr><th scope=col>dep_time</th><th scope=col>sched_dep_time</th><th scope=col>arr_time</th><th scope=col>sched_arr_time</th><th scope=col>air_time</th></tr>\n",
              "\t<tr><th scope=col>&lt;int&gt;</th><th scope=col>&lt;int&gt;</th><th scope=col>&lt;int&gt;</th><th scope=col>&lt;int&gt;</th><th scope=col>&lt;dbl&gt;</th></tr>\n",
              "</thead>\n",
              "<tbody>\n",
              "\t<tr><td>517</td><td>515</td><td> 830</td><td> 819</td><td>227</td></tr>\n",
              "\t<tr><td>533</td><td>529</td><td> 850</td><td> 830</td><td>227</td></tr>\n",
              "\t<tr><td>542</td><td>540</td><td> 923</td><td> 850</td><td>160</td></tr>\n",
              "\t<tr><td>544</td><td>545</td><td>1004</td><td>1022</td><td>183</td></tr>\n",
              "\t<tr><td>554</td><td>600</td><td> 812</td><td> 837</td><td>116</td></tr>\n",
              "\t<tr><td>554</td><td>558</td><td> 740</td><td> 728</td><td>150</td></tr>\n",
              "</tbody>\n",
              "</table>\n"
            ]
          },
          "metadata": {
            "tags": []
          }
        }
      ]
    },
    {
      "cell_type": "code",
      "metadata": {
        "id": "UiuRqAtvViyy",
        "colab_type": "code",
        "colab": {}
      },
      "source": [
        "?select"
      ],
      "execution_count": 34,
      "outputs": []
    },
    {
      "cell_type": "markdown",
      "metadata": {
        "id": "ww_-QR6q140V",
        "colab_type": "text"
      },
      "source": [
        "La función `select()` puede usarse para renombrar variables. Sin embargo, en ocaciones resulta poco útil ya que elimina todas las variables que no se menciona explicitamente. En su lugar, la función `rename()` realiza una mejor labor, ya que preserva todas las variables que no se mencionan de forma explicita:"
      ]
    },
    {
      "cell_type": "code",
      "metadata": {
        "id": "rR9CTyl913wM",
        "colab_type": "code",
        "colab": {
          "base_uri": "https://localhost:8080/",
          "height": 204
        },
        "outputId": "331599c9-ea1d-4104-e26b-232ec64c4e7f"
      },
      "source": [
        "head(rename(flights, tail_num = tailnum))"
      ],
      "execution_count": 35,
      "outputs": [
        {
          "output_type": "display_data",
          "data": {
            "text/plain": [
              "  year month day dep_time sched_dep_time dep_delay arr_time sched_arr_time\n",
              "1 2013 1     1   517      515             2         830      819          \n",
              "2 2013 1     1   533      529             4         850      830          \n",
              "3 2013 1     1   542      540             2         923      850          \n",
              "4 2013 1     1   544      545            -1        1004     1022          \n",
              "5 2013 1     1   554      600            -6         812      837          \n",
              "6 2013 1     1   554      558            -4         740      728          \n",
              "  arr_delay carrier flight tail_num origin dest air_time distance hour minute\n",
              "1  11       UA      1545   N14228   EWR    IAH  227      1400     5    15    \n",
              "2  20       UA      1714   N24211   LGA    IAH  227      1416     5    29    \n",
              "3  33       AA      1141   N619AA   JFK    MIA  160      1089     5    40    \n",
              "4 -18       B6       725   N804JB   JFK    BQN  183      1576     5    45    \n",
              "5 -25       DL       461   N668DN   LGA    ATL  116       762     6     0    \n",
              "6  12       UA      1696   N39463   EWR    ORD  150       719     5    58    \n",
              "  time_hour          \n",
              "1 2013-01-01 05:00:00\n",
              "2 2013-01-01 05:00:00\n",
              "3 2013-01-01 05:00:00\n",
              "4 2013-01-01 05:00:00\n",
              "5 2013-01-01 06:00:00\n",
              "6 2013-01-01 05:00:00"
            ],
            "text/latex": "A tibble: 6 × 19\n\\begin{tabular}{lllllllllllllllllll}\n year & month & day & dep\\_time & sched\\_dep\\_time & dep\\_delay & arr\\_time & sched\\_arr\\_time & arr\\_delay & carrier & flight & tail\\_num & origin & dest & air\\_time & distance & hour & minute & time\\_hour\\\\\n <int> & <int> & <int> & <int> & <int> & <dbl> & <int> & <int> & <dbl> & <chr> & <int> & <chr> & <chr> & <chr> & <dbl> & <dbl> & <dbl> & <dbl> & <dttm>\\\\\n\\hline\n\t 2013 & 1 & 1 & 517 & 515 &  2 &  830 &  819 &  11 & UA & 1545 & N14228 & EWR & IAH & 227 & 1400 & 5 & 15 & 2013-01-01 05:00:00\\\\\n\t 2013 & 1 & 1 & 533 & 529 &  4 &  850 &  830 &  20 & UA & 1714 & N24211 & LGA & IAH & 227 & 1416 & 5 & 29 & 2013-01-01 05:00:00\\\\\n\t 2013 & 1 & 1 & 542 & 540 &  2 &  923 &  850 &  33 & AA & 1141 & N619AA & JFK & MIA & 160 & 1089 & 5 & 40 & 2013-01-01 05:00:00\\\\\n\t 2013 & 1 & 1 & 544 & 545 & -1 & 1004 & 1022 & -18 & B6 &  725 & N804JB & JFK & BQN & 183 & 1576 & 5 & 45 & 2013-01-01 05:00:00\\\\\n\t 2013 & 1 & 1 & 554 & 600 & -6 &  812 &  837 & -25 & DL &  461 & N668DN & LGA & ATL & 116 &  762 & 6 &  0 & 2013-01-01 06:00:00\\\\\n\t 2013 & 1 & 1 & 554 & 558 & -4 &  740 &  728 &  12 & UA & 1696 & N39463 & EWR & ORD & 150 &  719 & 5 & 58 & 2013-01-01 05:00:00\\\\\n\\end{tabular}\n",
            "text/markdown": "\nA tibble: 6 × 19\n\n| year &lt;int&gt; | month &lt;int&gt; | day &lt;int&gt; | dep_time &lt;int&gt; | sched_dep_time &lt;int&gt; | dep_delay &lt;dbl&gt; | arr_time &lt;int&gt; | sched_arr_time &lt;int&gt; | arr_delay &lt;dbl&gt; | carrier &lt;chr&gt; | flight &lt;int&gt; | tail_num &lt;chr&gt; | origin &lt;chr&gt; | dest &lt;chr&gt; | air_time &lt;dbl&gt; | distance &lt;dbl&gt; | hour &lt;dbl&gt; | minute &lt;dbl&gt; | time_hour &lt;dttm&gt; |\n|---|---|---|---|---|---|---|---|---|---|---|---|---|---|---|---|---|---|---|\n| 2013 | 1 | 1 | 517 | 515 |  2 |  830 |  819 |  11 | UA | 1545 | N14228 | EWR | IAH | 227 | 1400 | 5 | 15 | 2013-01-01 05:00:00 |\n| 2013 | 1 | 1 | 533 | 529 |  4 |  850 |  830 |  20 | UA | 1714 | N24211 | LGA | IAH | 227 | 1416 | 5 | 29 | 2013-01-01 05:00:00 |\n| 2013 | 1 | 1 | 542 | 540 |  2 |  923 |  850 |  33 | AA | 1141 | N619AA | JFK | MIA | 160 | 1089 | 5 | 40 | 2013-01-01 05:00:00 |\n| 2013 | 1 | 1 | 544 | 545 | -1 | 1004 | 1022 | -18 | B6 |  725 | N804JB | JFK | BQN | 183 | 1576 | 5 | 45 | 2013-01-01 05:00:00 |\n| 2013 | 1 | 1 | 554 | 600 | -6 |  812 |  837 | -25 | DL |  461 | N668DN | LGA | ATL | 116 |  762 | 6 |  0 | 2013-01-01 06:00:00 |\n| 2013 | 1 | 1 | 554 | 558 | -4 |  740 |  728 |  12 | UA | 1696 | N39463 | EWR | ORD | 150 |  719 | 5 | 58 | 2013-01-01 05:00:00 |\n\n",
            "text/html": [
              "<table>\n",
              "<caption>A tibble: 6 × 19</caption>\n",
              "<thead>\n",
              "\t<tr><th scope=col>year</th><th scope=col>month</th><th scope=col>day</th><th scope=col>dep_time</th><th scope=col>sched_dep_time</th><th scope=col>dep_delay</th><th scope=col>arr_time</th><th scope=col>sched_arr_time</th><th scope=col>arr_delay</th><th scope=col>carrier</th><th scope=col>flight</th><th scope=col>tail_num</th><th scope=col>origin</th><th scope=col>dest</th><th scope=col>air_time</th><th scope=col>distance</th><th scope=col>hour</th><th scope=col>minute</th><th scope=col>time_hour</th></tr>\n",
              "\t<tr><th scope=col>&lt;int&gt;</th><th scope=col>&lt;int&gt;</th><th scope=col>&lt;int&gt;</th><th scope=col>&lt;int&gt;</th><th scope=col>&lt;int&gt;</th><th scope=col>&lt;dbl&gt;</th><th scope=col>&lt;int&gt;</th><th scope=col>&lt;int&gt;</th><th scope=col>&lt;dbl&gt;</th><th scope=col>&lt;chr&gt;</th><th scope=col>&lt;int&gt;</th><th scope=col>&lt;chr&gt;</th><th scope=col>&lt;chr&gt;</th><th scope=col>&lt;chr&gt;</th><th scope=col>&lt;dbl&gt;</th><th scope=col>&lt;dbl&gt;</th><th scope=col>&lt;dbl&gt;</th><th scope=col>&lt;dbl&gt;</th><th scope=col>&lt;dttm&gt;</th></tr>\n",
              "</thead>\n",
              "<tbody>\n",
              "\t<tr><td>2013</td><td>1</td><td>1</td><td>517</td><td>515</td><td> 2</td><td> 830</td><td> 819</td><td> 11</td><td>UA</td><td>1545</td><td>N14228</td><td>EWR</td><td>IAH</td><td>227</td><td>1400</td><td>5</td><td>15</td><td>2013-01-01 05:00:00</td></tr>\n",
              "\t<tr><td>2013</td><td>1</td><td>1</td><td>533</td><td>529</td><td> 4</td><td> 850</td><td> 830</td><td> 20</td><td>UA</td><td>1714</td><td>N24211</td><td>LGA</td><td>IAH</td><td>227</td><td>1416</td><td>5</td><td>29</td><td>2013-01-01 05:00:00</td></tr>\n",
              "\t<tr><td>2013</td><td>1</td><td>1</td><td>542</td><td>540</td><td> 2</td><td> 923</td><td> 850</td><td> 33</td><td>AA</td><td>1141</td><td>N619AA</td><td>JFK</td><td>MIA</td><td>160</td><td>1089</td><td>5</td><td>40</td><td>2013-01-01 05:00:00</td></tr>\n",
              "\t<tr><td>2013</td><td>1</td><td>1</td><td>544</td><td>545</td><td>-1</td><td>1004</td><td>1022</td><td>-18</td><td>B6</td><td> 725</td><td>N804JB</td><td>JFK</td><td>BQN</td><td>183</td><td>1576</td><td>5</td><td>45</td><td>2013-01-01 05:00:00</td></tr>\n",
              "\t<tr><td>2013</td><td>1</td><td>1</td><td>554</td><td>600</td><td>-6</td><td> 812</td><td> 837</td><td>-25</td><td>DL</td><td> 461</td><td>N668DN</td><td>LGA</td><td>ATL</td><td>116</td><td> 762</td><td>6</td><td> 0</td><td>2013-01-01 06:00:00</td></tr>\n",
              "\t<tr><td>2013</td><td>1</td><td>1</td><td>554</td><td>558</td><td>-4</td><td> 740</td><td> 728</td><td> 12</td><td>UA</td><td>1696</td><td>N39463</td><td>EWR</td><td>ORD</td><td>150</td><td> 719</td><td>5</td><td>58</td><td>2013-01-01 05:00:00</td></tr>\n",
              "</tbody>\n",
              "</table>\n"
            ]
          },
          "metadata": {
            "tags": []
          }
        }
      ]
    },
    {
      "cell_type": "markdown",
      "metadata": {
        "id": "13gjQsvgWdOi",
        "colab_type": "text"
      },
      "source": [
        "Otra opción es usar la función `select()` junto con la función auxiliar `everything()`. Lo anterior resulta útil si se tienen varias variables que quieren moverse en el dataset. Veamos esto:"
      ]
    },
    {
      "cell_type": "code",
      "metadata": {
        "id": "5oufH00PWXq9",
        "colab_type": "code",
        "colab": {
          "base_uri": "https://localhost:8080/",
          "height": 204
        },
        "outputId": "47f13ef5-362b-4f3f-d920-76b20956a154"
      },
      "source": [
        "head(select(flights, time_hour, air_time, everything()))"
      ],
      "execution_count": 36,
      "outputs": [
        {
          "output_type": "display_data",
          "data": {
            "text/plain": [
              "  time_hour           air_time year month day dep_time sched_dep_time dep_delay\n",
              "1 2013-01-01 05:00:00 227      2013 1     1   517      515             2       \n",
              "2 2013-01-01 05:00:00 227      2013 1     1   533      529             4       \n",
              "3 2013-01-01 05:00:00 160      2013 1     1   542      540             2       \n",
              "4 2013-01-01 05:00:00 183      2013 1     1   544      545            -1       \n",
              "5 2013-01-01 06:00:00 116      2013 1     1   554      600            -6       \n",
              "6 2013-01-01 05:00:00 150      2013 1     1   554      558            -4       \n",
              "  arr_time sched_arr_time arr_delay carrier flight tailnum origin dest distance\n",
              "1  830      819            11       UA      1545   N14228  EWR    IAH  1400    \n",
              "2  850      830            20       UA      1714   N24211  LGA    IAH  1416    \n",
              "3  923      850            33       AA      1141   N619AA  JFK    MIA  1089    \n",
              "4 1004     1022           -18       B6       725   N804JB  JFK    BQN  1576    \n",
              "5  812      837           -25       DL       461   N668DN  LGA    ATL   762    \n",
              "6  740      728            12       UA      1696   N39463  EWR    ORD   719    \n",
              "  hour minute\n",
              "1 5    15    \n",
              "2 5    29    \n",
              "3 5    40    \n",
              "4 5    45    \n",
              "5 6     0    \n",
              "6 5    58    "
            ],
            "text/latex": "A tibble: 6 × 19\n\\begin{tabular}{lllllllllllllllllll}\n time\\_hour & air\\_time & year & month & day & dep\\_time & sched\\_dep\\_time & dep\\_delay & arr\\_time & sched\\_arr\\_time & arr\\_delay & carrier & flight & tailnum & origin & dest & distance & hour & minute\\\\\n <dttm> & <dbl> & <int> & <int> & <int> & <int> & <int> & <dbl> & <int> & <int> & <dbl> & <chr> & <int> & <chr> & <chr> & <chr> & <dbl> & <dbl> & <dbl>\\\\\n\\hline\n\t 2013-01-01 05:00:00 & 227 & 2013 & 1 & 1 & 517 & 515 &  2 &  830 &  819 &  11 & UA & 1545 & N14228 & EWR & IAH & 1400 & 5 & 15\\\\\n\t 2013-01-01 05:00:00 & 227 & 2013 & 1 & 1 & 533 & 529 &  4 &  850 &  830 &  20 & UA & 1714 & N24211 & LGA & IAH & 1416 & 5 & 29\\\\\n\t 2013-01-01 05:00:00 & 160 & 2013 & 1 & 1 & 542 & 540 &  2 &  923 &  850 &  33 & AA & 1141 & N619AA & JFK & MIA & 1089 & 5 & 40\\\\\n\t 2013-01-01 05:00:00 & 183 & 2013 & 1 & 1 & 544 & 545 & -1 & 1004 & 1022 & -18 & B6 &  725 & N804JB & JFK & BQN & 1576 & 5 & 45\\\\\n\t 2013-01-01 06:00:00 & 116 & 2013 & 1 & 1 & 554 & 600 & -6 &  812 &  837 & -25 & DL &  461 & N668DN & LGA & ATL &  762 & 6 &  0\\\\\n\t 2013-01-01 05:00:00 & 150 & 2013 & 1 & 1 & 554 & 558 & -4 &  740 &  728 &  12 & UA & 1696 & N39463 & EWR & ORD &  719 & 5 & 58\\\\\n\\end{tabular}\n",
            "text/markdown": "\nA tibble: 6 × 19\n\n| time_hour &lt;dttm&gt; | air_time &lt;dbl&gt; | year &lt;int&gt; | month &lt;int&gt; | day &lt;int&gt; | dep_time &lt;int&gt; | sched_dep_time &lt;int&gt; | dep_delay &lt;dbl&gt; | arr_time &lt;int&gt; | sched_arr_time &lt;int&gt; | arr_delay &lt;dbl&gt; | carrier &lt;chr&gt; | flight &lt;int&gt; | tailnum &lt;chr&gt; | origin &lt;chr&gt; | dest &lt;chr&gt; | distance &lt;dbl&gt; | hour &lt;dbl&gt; | minute &lt;dbl&gt; |\n|---|---|---|---|---|---|---|---|---|---|---|---|---|---|---|---|---|---|---|\n| 2013-01-01 05:00:00 | 227 | 2013 | 1 | 1 | 517 | 515 |  2 |  830 |  819 |  11 | UA | 1545 | N14228 | EWR | IAH | 1400 | 5 | 15 |\n| 2013-01-01 05:00:00 | 227 | 2013 | 1 | 1 | 533 | 529 |  4 |  850 |  830 |  20 | UA | 1714 | N24211 | LGA | IAH | 1416 | 5 | 29 |\n| 2013-01-01 05:00:00 | 160 | 2013 | 1 | 1 | 542 | 540 |  2 |  923 |  850 |  33 | AA | 1141 | N619AA | JFK | MIA | 1089 | 5 | 40 |\n| 2013-01-01 05:00:00 | 183 | 2013 | 1 | 1 | 544 | 545 | -1 | 1004 | 1022 | -18 | B6 |  725 | N804JB | JFK | BQN | 1576 | 5 | 45 |\n| 2013-01-01 06:00:00 | 116 | 2013 | 1 | 1 | 554 | 600 | -6 |  812 |  837 | -25 | DL |  461 | N668DN | LGA | ATL |  762 | 6 |  0 |\n| 2013-01-01 05:00:00 | 150 | 2013 | 1 | 1 | 554 | 558 | -4 |  740 |  728 |  12 | UA | 1696 | N39463 | EWR | ORD |  719 | 5 | 58 |\n\n",
            "text/html": [
              "<table>\n",
              "<caption>A tibble: 6 × 19</caption>\n",
              "<thead>\n",
              "\t<tr><th scope=col>time_hour</th><th scope=col>air_time</th><th scope=col>year</th><th scope=col>month</th><th scope=col>day</th><th scope=col>dep_time</th><th scope=col>sched_dep_time</th><th scope=col>dep_delay</th><th scope=col>arr_time</th><th scope=col>sched_arr_time</th><th scope=col>arr_delay</th><th scope=col>carrier</th><th scope=col>flight</th><th scope=col>tailnum</th><th scope=col>origin</th><th scope=col>dest</th><th scope=col>distance</th><th scope=col>hour</th><th scope=col>minute</th></tr>\n",
              "\t<tr><th scope=col>&lt;dttm&gt;</th><th scope=col>&lt;dbl&gt;</th><th scope=col>&lt;int&gt;</th><th scope=col>&lt;int&gt;</th><th scope=col>&lt;int&gt;</th><th scope=col>&lt;int&gt;</th><th scope=col>&lt;int&gt;</th><th scope=col>&lt;dbl&gt;</th><th scope=col>&lt;int&gt;</th><th scope=col>&lt;int&gt;</th><th scope=col>&lt;dbl&gt;</th><th scope=col>&lt;chr&gt;</th><th scope=col>&lt;int&gt;</th><th scope=col>&lt;chr&gt;</th><th scope=col>&lt;chr&gt;</th><th scope=col>&lt;chr&gt;</th><th scope=col>&lt;dbl&gt;</th><th scope=col>&lt;dbl&gt;</th><th scope=col>&lt;dbl&gt;</th></tr>\n",
              "</thead>\n",
              "<tbody>\n",
              "\t<tr><td>2013-01-01 05:00:00</td><td>227</td><td>2013</td><td>1</td><td>1</td><td>517</td><td>515</td><td> 2</td><td> 830</td><td> 819</td><td> 11</td><td>UA</td><td>1545</td><td>N14228</td><td>EWR</td><td>IAH</td><td>1400</td><td>5</td><td>15</td></tr>\n",
              "\t<tr><td>2013-01-01 05:00:00</td><td>227</td><td>2013</td><td>1</td><td>1</td><td>533</td><td>529</td><td> 4</td><td> 850</td><td> 830</td><td> 20</td><td>UA</td><td>1714</td><td>N24211</td><td>LGA</td><td>IAH</td><td>1416</td><td>5</td><td>29</td></tr>\n",
              "\t<tr><td>2013-01-01 05:00:00</td><td>160</td><td>2013</td><td>1</td><td>1</td><td>542</td><td>540</td><td> 2</td><td> 923</td><td> 850</td><td> 33</td><td>AA</td><td>1141</td><td>N619AA</td><td>JFK</td><td>MIA</td><td>1089</td><td>5</td><td>40</td></tr>\n",
              "\t<tr><td>2013-01-01 05:00:00</td><td>183</td><td>2013</td><td>1</td><td>1</td><td>544</td><td>545</td><td>-1</td><td>1004</td><td>1022</td><td>-18</td><td>B6</td><td> 725</td><td>N804JB</td><td>JFK</td><td>BQN</td><td>1576</td><td>5</td><td>45</td></tr>\n",
              "\t<tr><td>2013-01-01 06:00:00</td><td>116</td><td>2013</td><td>1</td><td>1</td><td>554</td><td>600</td><td>-6</td><td> 812</td><td> 837</td><td>-25</td><td>DL</td><td> 461</td><td>N668DN</td><td>LGA</td><td>ATL</td><td> 762</td><td>6</td><td> 0</td></tr>\n",
              "\t<tr><td>2013-01-01 05:00:00</td><td>150</td><td>2013</td><td>1</td><td>1</td><td>554</td><td>558</td><td>-4</td><td> 740</td><td> 728</td><td> 12</td><td>UA</td><td>1696</td><td>N39463</td><td>EWR</td><td>ORD</td><td> 719</td><td>5</td><td>58</td></tr>\n",
              "</tbody>\n",
              "</table>\n"
            ]
          },
          "metadata": {
            "tags": []
          }
        }
      ]
    },
    {
      "cell_type": "markdown",
      "metadata": {
        "id": "wGxX2vdU5Lls",
        "colab_type": "text"
      },
      "source": [
        "### **Ejercicio:** Para el siguiente ejercicio:\n",
        "\n",
        "1. Instale la librería `gapminder` con el fin de cargar el dataset que lleva este nombre. Dicho dataset resumen características macroeconómicas de diferentes paises a lo largo de los años. Visualice los 6 primeros datos del dataframe.\n",
        "2. En una sola línea de código selecciona las columnas `year`, `country`  y  `gdpPercap` y almacénelas en un dataframe que se llame `year_country_gdp`."
      ]
    },
    {
      "cell_type": "code",
      "metadata": {
        "id": "3LcSItj-5Odv",
        "colab_type": "code",
        "cellView": "form",
        "colab": {
          "base_uri": "https://localhost:8080/",
          "height": 248
        },
        "outputId": "e38382e4-43f7-4e1c-cf43-7cd8010a1c97"
      },
      "source": [
        "#@title 1. Instalación de la librería, invocación y visualización del dataframe.\n",
        "install.packages(\"gapminder\")\n",
        "library(\"gapminder\")\n",
        "head(gapminder)"
      ],
      "execution_count": null,
      "outputs": [
        {
          "output_type": "stream",
          "text": [
            "Installing package into ‘/usr/local/lib/R/site-library’\n",
            "(as ‘lib’ is unspecified)\n",
            "\n"
          ],
          "name": "stderr"
        },
        {
          "output_type": "display_data",
          "data": {
            "text/plain": [
              "  country     continent year lifeExp pop      gdpPercap\n",
              "1 Afghanistan Asia      1952 28.801   8425333 779.4453 \n",
              "2 Afghanistan Asia      1957 30.332   9240934 820.8530 \n",
              "3 Afghanistan Asia      1962 31.997  10267083 853.1007 \n",
              "4 Afghanistan Asia      1967 34.020  11537966 836.1971 \n",
              "5 Afghanistan Asia      1972 36.088  13079460 739.9811 \n",
              "6 Afghanistan Asia      1977 38.438  14880372 786.1134 "
            ],
            "text/latex": "A tibble: 6 × 6\n\\begin{tabular}{llllll}\n country & continent & year & lifeExp & pop & gdpPercap\\\\\n <fct> & <fct> & <int> & <dbl> & <int> & <dbl>\\\\\n\\hline\n\t Afghanistan & Asia & 1952 & 28.801 &  8425333 & 779.4453\\\\\n\t Afghanistan & Asia & 1957 & 30.332 &  9240934 & 820.8530\\\\\n\t Afghanistan & Asia & 1962 & 31.997 & 10267083 & 853.1007\\\\\n\t Afghanistan & Asia & 1967 & 34.020 & 11537966 & 836.1971\\\\\n\t Afghanistan & Asia & 1972 & 36.088 & 13079460 & 739.9811\\\\\n\t Afghanistan & Asia & 1977 & 38.438 & 14880372 & 786.1134\\\\\n\\end{tabular}\n",
            "text/markdown": "\nA tibble: 6 × 6\n\n| country &lt;fct&gt; | continent &lt;fct&gt; | year &lt;int&gt; | lifeExp &lt;dbl&gt; | pop &lt;int&gt; | gdpPercap &lt;dbl&gt; |\n|---|---|---|---|---|---|\n| Afghanistan | Asia | 1952 | 28.801 |  8425333 | 779.4453 |\n| Afghanistan | Asia | 1957 | 30.332 |  9240934 | 820.8530 |\n| Afghanistan | Asia | 1962 | 31.997 | 10267083 | 853.1007 |\n| Afghanistan | Asia | 1967 | 34.020 | 11537966 | 836.1971 |\n| Afghanistan | Asia | 1972 | 36.088 | 13079460 | 739.9811 |\n| Afghanistan | Asia | 1977 | 38.438 | 14880372 | 786.1134 |\n\n",
            "text/html": [
              "<table>\n",
              "<caption>A tibble: 6 × 6</caption>\n",
              "<thead>\n",
              "\t<tr><th scope=col>country</th><th scope=col>continent</th><th scope=col>year</th><th scope=col>lifeExp</th><th scope=col>pop</th><th scope=col>gdpPercap</th></tr>\n",
              "\t<tr><th scope=col>&lt;fct&gt;</th><th scope=col>&lt;fct&gt;</th><th scope=col>&lt;int&gt;</th><th scope=col>&lt;dbl&gt;</th><th scope=col>&lt;int&gt;</th><th scope=col>&lt;dbl&gt;</th></tr>\n",
              "</thead>\n",
              "<tbody>\n",
              "\t<tr><td>Afghanistan</td><td>Asia</td><td>1952</td><td>28.801</td><td> 8425333</td><td>779.4453</td></tr>\n",
              "\t<tr><td>Afghanistan</td><td>Asia</td><td>1957</td><td>30.332</td><td> 9240934</td><td>820.8530</td></tr>\n",
              "\t<tr><td>Afghanistan</td><td>Asia</td><td>1962</td><td>31.997</td><td>10267083</td><td>853.1007</td></tr>\n",
              "\t<tr><td>Afghanistan</td><td>Asia</td><td>1967</td><td>34.020</td><td>11537966</td><td>836.1971</td></tr>\n",
              "\t<tr><td>Afghanistan</td><td>Asia</td><td>1972</td><td>36.088</td><td>13079460</td><td>739.9811</td></tr>\n",
              "\t<tr><td>Afghanistan</td><td>Asia</td><td>1977</td><td>38.438</td><td>14880372</td><td>786.1134</td></tr>\n",
              "</tbody>\n",
              "</table>\n"
            ]
          },
          "metadata": {
            "tags": []
          }
        }
      ]
    },
    {
      "cell_type": "code",
      "metadata": {
        "id": "Gsdp_0nQ5luA",
        "colab_type": "code",
        "cellView": "form",
        "colab": {
          "base_uri": "https://localhost:8080/",
          "height": 195
        },
        "outputId": "9301492c-ec17-4c60-9570-6a9c4dbd59a0"
      },
      "source": [
        "#@title 2. Almacenamiento de columnas seleccionadas en una variable:\n",
        "year_country_gdp <- select(gapminder,year,country,gdpPercap)\n",
        "head(year_country_gdp)"
      ],
      "execution_count": null,
      "outputs": [
        {
          "output_type": "display_data",
          "data": {
            "text/plain": [
              "  year country     gdpPercap\n",
              "1 1952 Afghanistan 779.4453 \n",
              "2 1957 Afghanistan 820.8530 \n",
              "3 1962 Afghanistan 853.1007 \n",
              "4 1967 Afghanistan 836.1971 \n",
              "5 1972 Afghanistan 739.9811 \n",
              "6 1977 Afghanistan 786.1134 "
            ],
            "text/latex": "A tibble: 6 × 3\n\\begin{tabular}{lll}\n year & country & gdpPercap\\\\\n <int> & <fct> & <dbl>\\\\\n\\hline\n\t 1952 & Afghanistan & 779.4453\\\\\n\t 1957 & Afghanistan & 820.8530\\\\\n\t 1962 & Afghanistan & 853.1007\\\\\n\t 1967 & Afghanistan & 836.1971\\\\\n\t 1972 & Afghanistan & 739.9811\\\\\n\t 1977 & Afghanistan & 786.1134\\\\\n\\end{tabular}\n",
            "text/markdown": "\nA tibble: 6 × 3\n\n| year &lt;int&gt; | country &lt;fct&gt; | gdpPercap &lt;dbl&gt; |\n|---|---|---|\n| 1952 | Afghanistan | 779.4453 |\n| 1957 | Afghanistan | 820.8530 |\n| 1962 | Afghanistan | 853.1007 |\n| 1967 | Afghanistan | 836.1971 |\n| 1972 | Afghanistan | 739.9811 |\n| 1977 | Afghanistan | 786.1134 |\n\n",
            "text/html": [
              "<table>\n",
              "<caption>A tibble: 6 × 3</caption>\n",
              "<thead>\n",
              "\t<tr><th scope=col>year</th><th scope=col>country</th><th scope=col>gdpPercap</th></tr>\n",
              "\t<tr><th scope=col>&lt;int&gt;</th><th scope=col>&lt;fct&gt;</th><th scope=col>&lt;dbl&gt;</th></tr>\n",
              "</thead>\n",
              "<tbody>\n",
              "\t<tr><td>1952</td><td>Afghanistan</td><td>779.4453</td></tr>\n",
              "\t<tr><td>1957</td><td>Afghanistan</td><td>820.8530</td></tr>\n",
              "\t<tr><td>1962</td><td>Afghanistan</td><td>853.1007</td></tr>\n",
              "\t<tr><td>1967</td><td>Afghanistan</td><td>836.1971</td></tr>\n",
              "\t<tr><td>1972</td><td>Afghanistan</td><td>739.9811</td></tr>\n",
              "\t<tr><td>1977</td><td>Afghanistan</td><td>786.1134</td></tr>\n",
              "</tbody>\n",
              "</table>\n"
            ]
          },
          "metadata": {
            "tags": []
          }
        }
      ]
    },
    {
      "cell_type": "markdown",
      "metadata": {
        "id": "e6WUhEHYXAXY",
        "colab_type": "text"
      },
      "source": [
        "##**Adición de nuevas variables con `mutate()`**\n",
        "\n",
        "Más allá de la selección de un conjunto de columnas, a menudo resulta necesario adicionar nuevas columnas a partir de operaciones en columnas existentes; esta tarea puede realizarse mediante la función `mutate()`; esta función siempre adiciona columnas nuevas al final del dataset.\n",
        "\n",
        "Para el siguiente ejemplo, empecemos por crear un dataset con pocas características a partir del dataset de `flights`. Para ello, usemos varias de las funciones aprendidas en la sección anterior:"
      ]
    },
    {
      "cell_type": "code",
      "metadata": {
        "id": "BhfkEjTCWgmv",
        "colab_type": "code",
        "colab": {
          "base_uri": "https://localhost:8080/",
          "height": 204
        },
        "outputId": "7e7c2644-5751-486b-a18d-ceacc4440a61"
      },
      "source": [
        "flights_sml <- select(flights,\n",
        "year:day,\n",
        "ends_with(\"delay\"),\n",
        "distance,\n",
        "air_time\n",
        ")\n",
        "\n",
        "head(flights_sml)\n"
      ],
      "execution_count": 37,
      "outputs": [
        {
          "output_type": "display_data",
          "data": {
            "text/plain": [
              "  year month day dep_delay arr_delay distance air_time\n",
              "1 2013 1     1    2         11       1400     227     \n",
              "2 2013 1     1    4         20       1416     227     \n",
              "3 2013 1     1    2         33       1089     160     \n",
              "4 2013 1     1   -1        -18       1576     183     \n",
              "5 2013 1     1   -6        -25        762     116     \n",
              "6 2013 1     1   -4         12        719     150     "
            ],
            "text/latex": "A tibble: 6 × 7\n\\begin{tabular}{lllllll}\n year & month & day & dep\\_delay & arr\\_delay & distance & air\\_time\\\\\n <int> & <int> & <int> & <dbl> & <dbl> & <dbl> & <dbl>\\\\\n\\hline\n\t 2013 & 1 & 1 &  2 &  11 & 1400 & 227\\\\\n\t 2013 & 1 & 1 &  4 &  20 & 1416 & 227\\\\\n\t 2013 & 1 & 1 &  2 &  33 & 1089 & 160\\\\\n\t 2013 & 1 & 1 & -1 & -18 & 1576 & 183\\\\\n\t 2013 & 1 & 1 & -6 & -25 &  762 & 116\\\\\n\t 2013 & 1 & 1 & -4 &  12 &  719 & 150\\\\\n\\end{tabular}\n",
            "text/markdown": "\nA tibble: 6 × 7\n\n| year &lt;int&gt; | month &lt;int&gt; | day &lt;int&gt; | dep_delay &lt;dbl&gt; | arr_delay &lt;dbl&gt; | distance &lt;dbl&gt; | air_time &lt;dbl&gt; |\n|---|---|---|---|---|---|---|\n| 2013 | 1 | 1 |  2 |  11 | 1400 | 227 |\n| 2013 | 1 | 1 |  4 |  20 | 1416 | 227 |\n| 2013 | 1 | 1 |  2 |  33 | 1089 | 160 |\n| 2013 | 1 | 1 | -1 | -18 | 1576 | 183 |\n| 2013 | 1 | 1 | -6 | -25 |  762 | 116 |\n| 2013 | 1 | 1 | -4 |  12 |  719 | 150 |\n\n",
            "text/html": [
              "<table>\n",
              "<caption>A tibble: 6 × 7</caption>\n",
              "<thead>\n",
              "\t<tr><th scope=col>year</th><th scope=col>month</th><th scope=col>day</th><th scope=col>dep_delay</th><th scope=col>arr_delay</th><th scope=col>distance</th><th scope=col>air_time</th></tr>\n",
              "\t<tr><th scope=col>&lt;int&gt;</th><th scope=col>&lt;int&gt;</th><th scope=col>&lt;int&gt;</th><th scope=col>&lt;dbl&gt;</th><th scope=col>&lt;dbl&gt;</th><th scope=col>&lt;dbl&gt;</th><th scope=col>&lt;dbl&gt;</th></tr>\n",
              "</thead>\n",
              "<tbody>\n",
              "\t<tr><td>2013</td><td>1</td><td>1</td><td> 2</td><td> 11</td><td>1400</td><td>227</td></tr>\n",
              "\t<tr><td>2013</td><td>1</td><td>1</td><td> 4</td><td> 20</td><td>1416</td><td>227</td></tr>\n",
              "\t<tr><td>2013</td><td>1</td><td>1</td><td> 2</td><td> 33</td><td>1089</td><td>160</td></tr>\n",
              "\t<tr><td>2013</td><td>1</td><td>1</td><td>-1</td><td>-18</td><td>1576</td><td>183</td></tr>\n",
              "\t<tr><td>2013</td><td>1</td><td>1</td><td>-6</td><td>-25</td><td> 762</td><td>116</td></tr>\n",
              "\t<tr><td>2013</td><td>1</td><td>1</td><td>-4</td><td> 12</td><td> 719</td><td>150</td></tr>\n",
              "</tbody>\n",
              "</table>\n"
            ]
          },
          "metadata": {
            "tags": []
          }
        }
      ]
    },
    {
      "cell_type": "markdown",
      "metadata": {
        "id": "OFJ_GDD8-Nru",
        "colab_type": "text"
      },
      "source": [
        "Por ejemplo:\n",
        "\n",
        "- A partir de las columnas `array_delay` y `dep_delay` calculemos la ganancia o perdida en terminos de retrazos o adelantos.\n",
        "- A partir de las columnas de `distance` (millas) y `air_time` (dada en minutos), calculemos la velocidad en `miles/h`"
      ]
    },
    {
      "cell_type": "code",
      "metadata": {
        "id": "JNzavdx8Xy-O",
        "colab_type": "code",
        "colab": {
          "base_uri": "https://localhost:8080/",
          "height": 204
        },
        "outputId": "3cde9e5b-9ce7-47ac-f3f2-cf165cd0054c"
      },
      "source": [
        "head(mutate(flights_sml,\n",
        "gain = arr_delay - dep_delay,\n",
        "speed = distance / air_time * 60))"
      ],
      "execution_count": 38,
      "outputs": [
        {
          "output_type": "display_data",
          "data": {
            "text/plain": [
              "  year month day dep_delay arr_delay distance air_time gain speed   \n",
              "1 2013 1     1    2         11       1400     227        9  370.0441\n",
              "2 2013 1     1    4         20       1416     227       16  374.2731\n",
              "3 2013 1     1    2         33       1089     160       31  408.3750\n",
              "4 2013 1     1   -1        -18       1576     183      -17  516.7213\n",
              "5 2013 1     1   -6        -25        762     116      -19  394.1379\n",
              "6 2013 1     1   -4         12        719     150       16  287.6000"
            ],
            "text/latex": "A tibble: 6 × 9\n\\begin{tabular}{lllllllll}\n year & month & day & dep\\_delay & arr\\_delay & distance & air\\_time & gain & speed\\\\\n <int> & <int> & <int> & <dbl> & <dbl> & <dbl> & <dbl> & <dbl> & <dbl>\\\\\n\\hline\n\t 2013 & 1 & 1 &  2 &  11 & 1400 & 227 &   9 & 370.0441\\\\\n\t 2013 & 1 & 1 &  4 &  20 & 1416 & 227 &  16 & 374.2731\\\\\n\t 2013 & 1 & 1 &  2 &  33 & 1089 & 160 &  31 & 408.3750\\\\\n\t 2013 & 1 & 1 & -1 & -18 & 1576 & 183 & -17 & 516.7213\\\\\n\t 2013 & 1 & 1 & -6 & -25 &  762 & 116 & -19 & 394.1379\\\\\n\t 2013 & 1 & 1 & -4 &  12 &  719 & 150 &  16 & 287.6000\\\\\n\\end{tabular}\n",
            "text/markdown": "\nA tibble: 6 × 9\n\n| year &lt;int&gt; | month &lt;int&gt; | day &lt;int&gt; | dep_delay &lt;dbl&gt; | arr_delay &lt;dbl&gt; | distance &lt;dbl&gt; | air_time &lt;dbl&gt; | gain &lt;dbl&gt; | speed &lt;dbl&gt; |\n|---|---|---|---|---|---|---|---|---|\n| 2013 | 1 | 1 |  2 |  11 | 1400 | 227 |   9 | 370.0441 |\n| 2013 | 1 | 1 |  4 |  20 | 1416 | 227 |  16 | 374.2731 |\n| 2013 | 1 | 1 |  2 |  33 | 1089 | 160 |  31 | 408.3750 |\n| 2013 | 1 | 1 | -1 | -18 | 1576 | 183 | -17 | 516.7213 |\n| 2013 | 1 | 1 | -6 | -25 |  762 | 116 | -19 | 394.1379 |\n| 2013 | 1 | 1 | -4 |  12 |  719 | 150 |  16 | 287.6000 |\n\n",
            "text/html": [
              "<table>\n",
              "<caption>A tibble: 6 × 9</caption>\n",
              "<thead>\n",
              "\t<tr><th scope=col>year</th><th scope=col>month</th><th scope=col>day</th><th scope=col>dep_delay</th><th scope=col>arr_delay</th><th scope=col>distance</th><th scope=col>air_time</th><th scope=col>gain</th><th scope=col>speed</th></tr>\n",
              "\t<tr><th scope=col>&lt;int&gt;</th><th scope=col>&lt;int&gt;</th><th scope=col>&lt;int&gt;</th><th scope=col>&lt;dbl&gt;</th><th scope=col>&lt;dbl&gt;</th><th scope=col>&lt;dbl&gt;</th><th scope=col>&lt;dbl&gt;</th><th scope=col>&lt;dbl&gt;</th><th scope=col>&lt;dbl&gt;</th></tr>\n",
              "</thead>\n",
              "<tbody>\n",
              "\t<tr><td>2013</td><td>1</td><td>1</td><td> 2</td><td> 11</td><td>1400</td><td>227</td><td>  9</td><td>370.0441</td></tr>\n",
              "\t<tr><td>2013</td><td>1</td><td>1</td><td> 4</td><td> 20</td><td>1416</td><td>227</td><td> 16</td><td>374.2731</td></tr>\n",
              "\t<tr><td>2013</td><td>1</td><td>1</td><td> 2</td><td> 33</td><td>1089</td><td>160</td><td> 31</td><td>408.3750</td></tr>\n",
              "\t<tr><td>2013</td><td>1</td><td>1</td><td>-1</td><td>-18</td><td>1576</td><td>183</td><td>-17</td><td>516.7213</td></tr>\n",
              "\t<tr><td>2013</td><td>1</td><td>1</td><td>-6</td><td>-25</td><td> 762</td><td>116</td><td>-19</td><td>394.1379</td></tr>\n",
              "\t<tr><td>2013</td><td>1</td><td>1</td><td>-4</td><td> 12</td><td> 719</td><td>150</td><td> 16</td><td>287.6000</td></tr>\n",
              "</tbody>\n",
              "</table>\n"
            ]
          },
          "metadata": {
            "tags": []
          }
        }
      ]
    },
    {
      "cell_type": "markdown",
      "metadata": {
        "id": "tlDf1C2EY_tm",
        "colab_type": "text"
      },
      "source": [
        "Lo anterior solo tiene efector de vidualización"
      ]
    },
    {
      "cell_type": "code",
      "metadata": {
        "id": "outbmlDXYjOi",
        "colab_type": "code",
        "colab": {
          "base_uri": "https://localhost:8080/",
          "height": 204
        },
        "outputId": "812338a2-0579-418a-c8d4-04d46dc17841"
      },
      "source": [
        "head(flights_sml)"
      ],
      "execution_count": 39,
      "outputs": [
        {
          "output_type": "display_data",
          "data": {
            "text/plain": [
              "  year month day dep_delay arr_delay distance air_time\n",
              "1 2013 1     1    2         11       1400     227     \n",
              "2 2013 1     1    4         20       1416     227     \n",
              "3 2013 1     1    2         33       1089     160     \n",
              "4 2013 1     1   -1        -18       1576     183     \n",
              "5 2013 1     1   -6        -25        762     116     \n",
              "6 2013 1     1   -4         12        719     150     "
            ],
            "text/latex": "A tibble: 6 × 7\n\\begin{tabular}{lllllll}\n year & month & day & dep\\_delay & arr\\_delay & distance & air\\_time\\\\\n <int> & <int> & <int> & <dbl> & <dbl> & <dbl> & <dbl>\\\\\n\\hline\n\t 2013 & 1 & 1 &  2 &  11 & 1400 & 227\\\\\n\t 2013 & 1 & 1 &  4 &  20 & 1416 & 227\\\\\n\t 2013 & 1 & 1 &  2 &  33 & 1089 & 160\\\\\n\t 2013 & 1 & 1 & -1 & -18 & 1576 & 183\\\\\n\t 2013 & 1 & 1 & -6 & -25 &  762 & 116\\\\\n\t 2013 & 1 & 1 & -4 &  12 &  719 & 150\\\\\n\\end{tabular}\n",
            "text/markdown": "\nA tibble: 6 × 7\n\n| year &lt;int&gt; | month &lt;int&gt; | day &lt;int&gt; | dep_delay &lt;dbl&gt; | arr_delay &lt;dbl&gt; | distance &lt;dbl&gt; | air_time &lt;dbl&gt; |\n|---|---|---|---|---|---|---|\n| 2013 | 1 | 1 |  2 |  11 | 1400 | 227 |\n| 2013 | 1 | 1 |  4 |  20 | 1416 | 227 |\n| 2013 | 1 | 1 |  2 |  33 | 1089 | 160 |\n| 2013 | 1 | 1 | -1 | -18 | 1576 | 183 |\n| 2013 | 1 | 1 | -6 | -25 |  762 | 116 |\n| 2013 | 1 | 1 | -4 |  12 |  719 | 150 |\n\n",
            "text/html": [
              "<table>\n",
              "<caption>A tibble: 6 × 7</caption>\n",
              "<thead>\n",
              "\t<tr><th scope=col>year</th><th scope=col>month</th><th scope=col>day</th><th scope=col>dep_delay</th><th scope=col>arr_delay</th><th scope=col>distance</th><th scope=col>air_time</th></tr>\n",
              "\t<tr><th scope=col>&lt;int&gt;</th><th scope=col>&lt;int&gt;</th><th scope=col>&lt;int&gt;</th><th scope=col>&lt;dbl&gt;</th><th scope=col>&lt;dbl&gt;</th><th scope=col>&lt;dbl&gt;</th><th scope=col>&lt;dbl&gt;</th></tr>\n",
              "</thead>\n",
              "<tbody>\n",
              "\t<tr><td>2013</td><td>1</td><td>1</td><td> 2</td><td> 11</td><td>1400</td><td>227</td></tr>\n",
              "\t<tr><td>2013</td><td>1</td><td>1</td><td> 4</td><td> 20</td><td>1416</td><td>227</td></tr>\n",
              "\t<tr><td>2013</td><td>1</td><td>1</td><td> 2</td><td> 33</td><td>1089</td><td>160</td></tr>\n",
              "\t<tr><td>2013</td><td>1</td><td>1</td><td>-1</td><td>-18</td><td>1576</td><td>183</td></tr>\n",
              "\t<tr><td>2013</td><td>1</td><td>1</td><td>-6</td><td>-25</td><td> 762</td><td>116</td></tr>\n",
              "\t<tr><td>2013</td><td>1</td><td>1</td><td>-4</td><td> 12</td><td> 719</td><td>150</td></tr>\n",
              "</tbody>\n",
              "</table>\n"
            ]
          },
          "metadata": {
            "tags": []
          }
        }
      ]
    },
    {
      "cell_type": "markdown",
      "metadata": {
        "id": "JpN_9So0ZLiD",
        "colab_type": "text"
      },
      "source": [
        "Nótese, además, que podemos hacer referencia a columnas recién creadas:"
      ]
    },
    {
      "cell_type": "code",
      "metadata": {
        "id": "CEocFUcGZbpm",
        "colab_type": "code",
        "colab": {
          "base_uri": "https://localhost:8080/",
          "height": 204
        },
        "outputId": "6b599bbe-498e-4dfd-f3a2-ed656efd31b9"
      },
      "source": [
        "head(\n",
        "  mutate(flights_sml,\n",
        "  gain = arr_delay - dep_delay,\n",
        "  hours = air_time/60,\n",
        "  gain_per_hour = gain / hours\n",
        "  )\n",
        ")"
      ],
      "execution_count": 40,
      "outputs": [
        {
          "output_type": "display_data",
          "data": {
            "text/plain": [
              "  year month day dep_delay arr_delay distance air_time gain hours   \n",
              "1 2013 1     1    2         11       1400     227        9  3.783333\n",
              "2 2013 1     1    4         20       1416     227       16  3.783333\n",
              "3 2013 1     1    2         33       1089     160       31  2.666667\n",
              "4 2013 1     1   -1        -18       1576     183      -17  3.050000\n",
              "5 2013 1     1   -6        -25        762     116      -19  1.933333\n",
              "6 2013 1     1   -4         12        719     150       16  2.500000\n",
              "  gain_per_hour\n",
              "1  2.378855    \n",
              "2  4.229075    \n",
              "3 11.625000    \n",
              "4 -5.573770    \n",
              "5 -9.827586    \n",
              "6  6.400000    "
            ],
            "text/latex": "A tibble: 6 × 10\n\\begin{tabular}{llllllllll}\n year & month & day & dep\\_delay & arr\\_delay & distance & air\\_time & gain & hours & gain\\_per\\_hour\\\\\n <int> & <int> & <int> & <dbl> & <dbl> & <dbl> & <dbl> & <dbl> & <dbl> & <dbl>\\\\\n\\hline\n\t 2013 & 1 & 1 &  2 &  11 & 1400 & 227 &   9 & 3.783333 &  2.378855\\\\\n\t 2013 & 1 & 1 &  4 &  20 & 1416 & 227 &  16 & 3.783333 &  4.229075\\\\\n\t 2013 & 1 & 1 &  2 &  33 & 1089 & 160 &  31 & 2.666667 & 11.625000\\\\\n\t 2013 & 1 & 1 & -1 & -18 & 1576 & 183 & -17 & 3.050000 & -5.573770\\\\\n\t 2013 & 1 & 1 & -6 & -25 &  762 & 116 & -19 & 1.933333 & -9.827586\\\\\n\t 2013 & 1 & 1 & -4 &  12 &  719 & 150 &  16 & 2.500000 &  6.400000\\\\\n\\end{tabular}\n",
            "text/markdown": "\nA tibble: 6 × 10\n\n| year &lt;int&gt; | month &lt;int&gt; | day &lt;int&gt; | dep_delay &lt;dbl&gt; | arr_delay &lt;dbl&gt; | distance &lt;dbl&gt; | air_time &lt;dbl&gt; | gain &lt;dbl&gt; | hours &lt;dbl&gt; | gain_per_hour &lt;dbl&gt; |\n|---|---|---|---|---|---|---|---|---|---|\n| 2013 | 1 | 1 |  2 |  11 | 1400 | 227 |   9 | 3.783333 |  2.378855 |\n| 2013 | 1 | 1 |  4 |  20 | 1416 | 227 |  16 | 3.783333 |  4.229075 |\n| 2013 | 1 | 1 |  2 |  33 | 1089 | 160 |  31 | 2.666667 | 11.625000 |\n| 2013 | 1 | 1 | -1 | -18 | 1576 | 183 | -17 | 3.050000 | -5.573770 |\n| 2013 | 1 | 1 | -6 | -25 |  762 | 116 | -19 | 1.933333 | -9.827586 |\n| 2013 | 1 | 1 | -4 |  12 |  719 | 150 |  16 | 2.500000 |  6.400000 |\n\n",
            "text/html": [
              "<table>\n",
              "<caption>A tibble: 6 × 10</caption>\n",
              "<thead>\n",
              "\t<tr><th scope=col>year</th><th scope=col>month</th><th scope=col>day</th><th scope=col>dep_delay</th><th scope=col>arr_delay</th><th scope=col>distance</th><th scope=col>air_time</th><th scope=col>gain</th><th scope=col>hours</th><th scope=col>gain_per_hour</th></tr>\n",
              "\t<tr><th scope=col>&lt;int&gt;</th><th scope=col>&lt;int&gt;</th><th scope=col>&lt;int&gt;</th><th scope=col>&lt;dbl&gt;</th><th scope=col>&lt;dbl&gt;</th><th scope=col>&lt;dbl&gt;</th><th scope=col>&lt;dbl&gt;</th><th scope=col>&lt;dbl&gt;</th><th scope=col>&lt;dbl&gt;</th><th scope=col>&lt;dbl&gt;</th></tr>\n",
              "</thead>\n",
              "<tbody>\n",
              "\t<tr><td>2013</td><td>1</td><td>1</td><td> 2</td><td> 11</td><td>1400</td><td>227</td><td>  9</td><td>3.783333</td><td> 2.378855</td></tr>\n",
              "\t<tr><td>2013</td><td>1</td><td>1</td><td> 4</td><td> 20</td><td>1416</td><td>227</td><td> 16</td><td>3.783333</td><td> 4.229075</td></tr>\n",
              "\t<tr><td>2013</td><td>1</td><td>1</td><td> 2</td><td> 33</td><td>1089</td><td>160</td><td> 31</td><td>2.666667</td><td>11.625000</td></tr>\n",
              "\t<tr><td>2013</td><td>1</td><td>1</td><td>-1</td><td>-18</td><td>1576</td><td>183</td><td>-17</td><td>3.050000</td><td>-5.573770</td></tr>\n",
              "\t<tr><td>2013</td><td>1</td><td>1</td><td>-6</td><td>-25</td><td> 762</td><td>116</td><td>-19</td><td>1.933333</td><td>-9.827586</td></tr>\n",
              "\t<tr><td>2013</td><td>1</td><td>1</td><td>-4</td><td> 12</td><td> 719</td><td>150</td><td> 16</td><td>2.500000</td><td> 6.400000</td></tr>\n",
              "</tbody>\n",
              "</table>\n"
            ]
          },
          "metadata": {
            "tags": []
          }
        }
      ]
    },
    {
      "cell_type": "markdown",
      "metadata": {
        "id": "-Mh9e0bxaFz3",
        "colab_type": "text"
      },
      "source": [
        "Si se quiere mostrar solo variables creadas, debemos usar la función `transmute():`"
      ]
    },
    {
      "cell_type": "code",
      "metadata": {
        "id": "Yst-YcUXZoca",
        "colab_type": "code",
        "colab": {
          "base_uri": "https://localhost:8080/",
          "height": 204
        },
        "outputId": "23394d4f-d4fd-479d-8f9c-9885b37496b9"
      },
      "source": [
        "head(\n",
        "  transmute(\n",
        "    flights,\n",
        "    gain = arr_delay - dep_delay,\n",
        "    hours = air_time / 60,\n",
        "    gain_per_hour = gain / hours\n",
        "  )\n",
        ")"
      ],
      "execution_count": 41,
      "outputs": [
        {
          "output_type": "display_data",
          "data": {
            "text/plain": [
              "  gain hours    gain_per_hour\n",
              "1   9  3.783333  2.378855    \n",
              "2  16  3.783333  4.229075    \n",
              "3  31  2.666667 11.625000    \n",
              "4 -17  3.050000 -5.573770    \n",
              "5 -19  1.933333 -9.827586    \n",
              "6  16  2.500000  6.400000    "
            ],
            "text/latex": "A tibble: 6 × 3\n\\begin{tabular}{lll}\n gain & hours & gain\\_per\\_hour\\\\\n <dbl> & <dbl> & <dbl>\\\\\n\\hline\n\t   9 & 3.783333 &  2.378855\\\\\n\t  16 & 3.783333 &  4.229075\\\\\n\t  31 & 2.666667 & 11.625000\\\\\n\t -17 & 3.050000 & -5.573770\\\\\n\t -19 & 1.933333 & -9.827586\\\\\n\t  16 & 2.500000 &  6.400000\\\\\n\\end{tabular}\n",
            "text/markdown": "\nA tibble: 6 × 3\n\n| gain &lt;dbl&gt; | hours &lt;dbl&gt; | gain_per_hour &lt;dbl&gt; |\n|---|---|---|\n|   9 | 3.783333 |  2.378855 |\n|  16 | 3.783333 |  4.229075 |\n|  31 | 2.666667 | 11.625000 |\n| -17 | 3.050000 | -5.573770 |\n| -19 | 1.933333 | -9.827586 |\n|  16 | 2.500000 |  6.400000 |\n\n",
            "text/html": [
              "<table>\n",
              "<caption>A tibble: 6 × 3</caption>\n",
              "<thead>\n",
              "\t<tr><th scope=col>gain</th><th scope=col>hours</th><th scope=col>gain_per_hour</th></tr>\n",
              "\t<tr><th scope=col>&lt;dbl&gt;</th><th scope=col>&lt;dbl&gt;</th><th scope=col>&lt;dbl&gt;</th></tr>\n",
              "</thead>\n",
              "<tbody>\n",
              "\t<tr><td>  9</td><td>3.783333</td><td> 2.378855</td></tr>\n",
              "\t<tr><td> 16</td><td>3.783333</td><td> 4.229075</td></tr>\n",
              "\t<tr><td> 31</td><td>2.666667</td><td>11.625000</td></tr>\n",
              "\t<tr><td>-17</td><td>3.050000</td><td>-5.573770</td></tr>\n",
              "\t<tr><td>-19</td><td>1.933333</td><td>-9.827586</td></tr>\n",
              "\t<tr><td> 16</td><td>2.500000</td><td> 6.400000</td></tr>\n",
              "</tbody>\n",
              "</table>\n"
            ]
          },
          "metadata": {
            "tags": []
          }
        }
      ]
    },
    {
      "cell_type": "code",
      "metadata": {
        "id": "AX-dSWXdaWHU",
        "colab_type": "code",
        "colab": {
          "base_uri": "https://localhost:8080/",
          "height": 204
        },
        "outputId": "1963eba7-780a-4a12-f9df-a7c82004b704"
      },
      "source": [
        "head(flights)"
      ],
      "execution_count": 42,
      "outputs": [
        {
          "output_type": "display_data",
          "data": {
            "text/plain": [
              "  year month day dep_time sched_dep_time dep_delay arr_time sched_arr_time\n",
              "1 2013 1     1   517      515             2         830      819          \n",
              "2 2013 1     1   533      529             4         850      830          \n",
              "3 2013 1     1   542      540             2         923      850          \n",
              "4 2013 1     1   544      545            -1        1004     1022          \n",
              "5 2013 1     1   554      600            -6         812      837          \n",
              "6 2013 1     1   554      558            -4         740      728          \n",
              "  arr_delay carrier flight tailnum origin dest air_time distance hour minute\n",
              "1  11       UA      1545   N14228  EWR    IAH  227      1400     5    15    \n",
              "2  20       UA      1714   N24211  LGA    IAH  227      1416     5    29    \n",
              "3  33       AA      1141   N619AA  JFK    MIA  160      1089     5    40    \n",
              "4 -18       B6       725   N804JB  JFK    BQN  183      1576     5    45    \n",
              "5 -25       DL       461   N668DN  LGA    ATL  116       762     6     0    \n",
              "6  12       UA      1696   N39463  EWR    ORD  150       719     5    58    \n",
              "  time_hour          \n",
              "1 2013-01-01 05:00:00\n",
              "2 2013-01-01 05:00:00\n",
              "3 2013-01-01 05:00:00\n",
              "4 2013-01-01 05:00:00\n",
              "5 2013-01-01 06:00:00\n",
              "6 2013-01-01 05:00:00"
            ],
            "text/latex": "A tibble: 6 × 19\n\\begin{tabular}{lllllllllllllllllll}\n year & month & day & dep\\_time & sched\\_dep\\_time & dep\\_delay & arr\\_time & sched\\_arr\\_time & arr\\_delay & carrier & flight & tailnum & origin & dest & air\\_time & distance & hour & minute & time\\_hour\\\\\n <int> & <int> & <int> & <int> & <int> & <dbl> & <int> & <int> & <dbl> & <chr> & <int> & <chr> & <chr> & <chr> & <dbl> & <dbl> & <dbl> & <dbl> & <dttm>\\\\\n\\hline\n\t 2013 & 1 & 1 & 517 & 515 &  2 &  830 &  819 &  11 & UA & 1545 & N14228 & EWR & IAH & 227 & 1400 & 5 & 15 & 2013-01-01 05:00:00\\\\\n\t 2013 & 1 & 1 & 533 & 529 &  4 &  850 &  830 &  20 & UA & 1714 & N24211 & LGA & IAH & 227 & 1416 & 5 & 29 & 2013-01-01 05:00:00\\\\\n\t 2013 & 1 & 1 & 542 & 540 &  2 &  923 &  850 &  33 & AA & 1141 & N619AA & JFK & MIA & 160 & 1089 & 5 & 40 & 2013-01-01 05:00:00\\\\\n\t 2013 & 1 & 1 & 544 & 545 & -1 & 1004 & 1022 & -18 & B6 &  725 & N804JB & JFK & BQN & 183 & 1576 & 5 & 45 & 2013-01-01 05:00:00\\\\\n\t 2013 & 1 & 1 & 554 & 600 & -6 &  812 &  837 & -25 & DL &  461 & N668DN & LGA & ATL & 116 &  762 & 6 &  0 & 2013-01-01 06:00:00\\\\\n\t 2013 & 1 & 1 & 554 & 558 & -4 &  740 &  728 &  12 & UA & 1696 & N39463 & EWR & ORD & 150 &  719 & 5 & 58 & 2013-01-01 05:00:00\\\\\n\\end{tabular}\n",
            "text/markdown": "\nA tibble: 6 × 19\n\n| year &lt;int&gt; | month &lt;int&gt; | day &lt;int&gt; | dep_time &lt;int&gt; | sched_dep_time &lt;int&gt; | dep_delay &lt;dbl&gt; | arr_time &lt;int&gt; | sched_arr_time &lt;int&gt; | arr_delay &lt;dbl&gt; | carrier &lt;chr&gt; | flight &lt;int&gt; | tailnum &lt;chr&gt; | origin &lt;chr&gt; | dest &lt;chr&gt; | air_time &lt;dbl&gt; | distance &lt;dbl&gt; | hour &lt;dbl&gt; | minute &lt;dbl&gt; | time_hour &lt;dttm&gt; |\n|---|---|---|---|---|---|---|---|---|---|---|---|---|---|---|---|---|---|---|\n| 2013 | 1 | 1 | 517 | 515 |  2 |  830 |  819 |  11 | UA | 1545 | N14228 | EWR | IAH | 227 | 1400 | 5 | 15 | 2013-01-01 05:00:00 |\n| 2013 | 1 | 1 | 533 | 529 |  4 |  850 |  830 |  20 | UA | 1714 | N24211 | LGA | IAH | 227 | 1416 | 5 | 29 | 2013-01-01 05:00:00 |\n| 2013 | 1 | 1 | 542 | 540 |  2 |  923 |  850 |  33 | AA | 1141 | N619AA | JFK | MIA | 160 | 1089 | 5 | 40 | 2013-01-01 05:00:00 |\n| 2013 | 1 | 1 | 544 | 545 | -1 | 1004 | 1022 | -18 | B6 |  725 | N804JB | JFK | BQN | 183 | 1576 | 5 | 45 | 2013-01-01 05:00:00 |\n| 2013 | 1 | 1 | 554 | 600 | -6 |  812 |  837 | -25 | DL |  461 | N668DN | LGA | ATL | 116 |  762 | 6 |  0 | 2013-01-01 06:00:00 |\n| 2013 | 1 | 1 | 554 | 558 | -4 |  740 |  728 |  12 | UA | 1696 | N39463 | EWR | ORD | 150 |  719 | 5 | 58 | 2013-01-01 05:00:00 |\n\n",
            "text/html": [
              "<table>\n",
              "<caption>A tibble: 6 × 19</caption>\n",
              "<thead>\n",
              "\t<tr><th scope=col>year</th><th scope=col>month</th><th scope=col>day</th><th scope=col>dep_time</th><th scope=col>sched_dep_time</th><th scope=col>dep_delay</th><th scope=col>arr_time</th><th scope=col>sched_arr_time</th><th scope=col>arr_delay</th><th scope=col>carrier</th><th scope=col>flight</th><th scope=col>tailnum</th><th scope=col>origin</th><th scope=col>dest</th><th scope=col>air_time</th><th scope=col>distance</th><th scope=col>hour</th><th scope=col>minute</th><th scope=col>time_hour</th></tr>\n",
              "\t<tr><th scope=col>&lt;int&gt;</th><th scope=col>&lt;int&gt;</th><th scope=col>&lt;int&gt;</th><th scope=col>&lt;int&gt;</th><th scope=col>&lt;int&gt;</th><th scope=col>&lt;dbl&gt;</th><th scope=col>&lt;int&gt;</th><th scope=col>&lt;int&gt;</th><th scope=col>&lt;dbl&gt;</th><th scope=col>&lt;chr&gt;</th><th scope=col>&lt;int&gt;</th><th scope=col>&lt;chr&gt;</th><th scope=col>&lt;chr&gt;</th><th scope=col>&lt;chr&gt;</th><th scope=col>&lt;dbl&gt;</th><th scope=col>&lt;dbl&gt;</th><th scope=col>&lt;dbl&gt;</th><th scope=col>&lt;dbl&gt;</th><th scope=col>&lt;dttm&gt;</th></tr>\n",
              "</thead>\n",
              "<tbody>\n",
              "\t<tr><td>2013</td><td>1</td><td>1</td><td>517</td><td>515</td><td> 2</td><td> 830</td><td> 819</td><td> 11</td><td>UA</td><td>1545</td><td>N14228</td><td>EWR</td><td>IAH</td><td>227</td><td>1400</td><td>5</td><td>15</td><td>2013-01-01 05:00:00</td></tr>\n",
              "\t<tr><td>2013</td><td>1</td><td>1</td><td>533</td><td>529</td><td> 4</td><td> 850</td><td> 830</td><td> 20</td><td>UA</td><td>1714</td><td>N24211</td><td>LGA</td><td>IAH</td><td>227</td><td>1416</td><td>5</td><td>29</td><td>2013-01-01 05:00:00</td></tr>\n",
              "\t<tr><td>2013</td><td>1</td><td>1</td><td>542</td><td>540</td><td> 2</td><td> 923</td><td> 850</td><td> 33</td><td>AA</td><td>1141</td><td>N619AA</td><td>JFK</td><td>MIA</td><td>160</td><td>1089</td><td>5</td><td>40</td><td>2013-01-01 05:00:00</td></tr>\n",
              "\t<tr><td>2013</td><td>1</td><td>1</td><td>544</td><td>545</td><td>-1</td><td>1004</td><td>1022</td><td>-18</td><td>B6</td><td> 725</td><td>N804JB</td><td>JFK</td><td>BQN</td><td>183</td><td>1576</td><td>5</td><td>45</td><td>2013-01-01 05:00:00</td></tr>\n",
              "\t<tr><td>2013</td><td>1</td><td>1</td><td>554</td><td>600</td><td>-6</td><td> 812</td><td> 837</td><td>-25</td><td>DL</td><td> 461</td><td>N668DN</td><td>LGA</td><td>ATL</td><td>116</td><td> 762</td><td>6</td><td> 0</td><td>2013-01-01 06:00:00</td></tr>\n",
              "\t<tr><td>2013</td><td>1</td><td>1</td><td>554</td><td>558</td><td>-4</td><td> 740</td><td> 728</td><td> 12</td><td>UA</td><td>1696</td><td>N39463</td><td>EWR</td><td>ORD</td><td>150</td><td> 719</td><td>5</td><td>58</td><td>2013-01-01 05:00:00</td></tr>\n",
              "</tbody>\n",
              "</table>\n"
            ]
          },
          "metadata": {
            "tags": []
          }
        }
      ]
    },
    {
      "cell_type": "markdown",
      "metadata": {
        "id": "k-A2daHM_XkT",
        "colab_type": "text"
      },
      "source": [
        "###**Ejercicio:**\n",
        "\n",
        "En el dataframe de `gapminder`, cree una nueva variable calcule el gdp total y exprése la cantidad en billones de dólares. Ayuda 1 billon es 10^9."
      ]
    },
    {
      "cell_type": "code",
      "metadata": {
        "id": "QzWPD0uIXwja",
        "colab_type": "code",
        "colab": {
          "base_uri": "https://localhost:8080/",
          "height": 68
        },
        "outputId": "059c46b9-3654-4ed5-a75f-45db8ab33033"
      },
      "source": [
        "install.packages(\"gapminder\")"
      ],
      "execution_count": 45,
      "outputs": [
        {
          "output_type": "stream",
          "text": [
            "Installing package into ‘/usr/local/lib/R/site-library’\n",
            "(as ‘lib’ is unspecified)\n",
            "\n"
          ],
          "name": "stderr"
        }
      ]
    },
    {
      "cell_type": "code",
      "metadata": {
        "id": "WApfD_GFX2uJ",
        "colab_type": "code",
        "colab": {}
      },
      "source": [
        "library(gapminder)"
      ],
      "execution_count": 46,
      "outputs": []
    },
    {
      "cell_type": "code",
      "metadata": {
        "id": "Q8-ttp0RCoMp",
        "colab_type": "code",
        "cellView": "form",
        "colab": {
          "base_uri": "https://localhost:8080/",
          "height": 1000
        },
        "outputId": "ad442726-004f-4bc1-db53-8c2c08dddfa3"
      },
      "source": [
        "#@title Desarrollo del ejercicio\n",
        "gdp_new <- gapminder %>%\n",
        "    mutate(gdp_billion=gdpPercap*pop/10^9)\n",
        "\n",
        "gdp_new"
      ],
      "execution_count": 47,
      "outputs": [
        {
          "output_type": "display_data",
          "data": {
            "text/plain": [
              "     country     continent year lifeExp pop      gdpPercap gdp_billion\n",
              "1    Afghanistan Asia      1952 28.801   8425333  779.4453  6.567086  \n",
              "2    Afghanistan Asia      1957 30.332   9240934  820.8530  7.585449  \n",
              "3    Afghanistan Asia      1962 31.997  10267083  853.1007  8.758856  \n",
              "4    Afghanistan Asia      1967 34.020  11537966  836.1971  9.648014  \n",
              "5    Afghanistan Asia      1972 36.088  13079460  739.9811  9.678553  \n",
              "6    Afghanistan Asia      1977 38.438  14880372  786.1134 11.697659  \n",
              "7    Afghanistan Asia      1982 39.854  12881816  978.0114 12.598563  \n",
              "8    Afghanistan Asia      1987 40.822  13867957  852.3959 11.820990  \n",
              "9    Afghanistan Asia      1992 41.674  16317921  649.3414 10.595902  \n",
              "10   Afghanistan Asia      1997 41.763  22227415  635.3414 14.121996  \n",
              "11   Afghanistan Asia      2002 42.129  25268405  726.7341 18.363410  \n",
              "12   Afghanistan Asia      2007 43.828  31889923  974.5803 31.079292  \n",
              "13   Albania     Europe    1952 55.230   1282697 1601.0561  2.053670  \n",
              "14   Albania     Europe    1957 59.280   1476505 1942.2842  2.867792  \n",
              "15   Albania     Europe    1962 64.820   1728137 2312.8890  3.996989  \n",
              "16   Albania     Europe    1967 66.220   1984060 2760.1969  5.476396  \n",
              "17   Albania     Europe    1972 67.690   2263554 3313.4222  7.500110  \n",
              "18   Albania     Europe    1977 68.930   2509048 3533.0039  8.864476  \n",
              "19   Albania     Europe    1982 70.420   2780097 3630.8807 10.094201  \n",
              "20   Albania     Europe    1987 72.000   3075321 3738.9327 11.498418  \n",
              "21   Albania     Europe    1992 71.581   3326498 2497.4379  8.307722  \n",
              "22   Albania     Europe    1997 72.950   3428038 3193.0546 10.945913  \n",
              "23   Albania     Europe    2002 75.651   3508512 4604.2117 16.153932  \n",
              "24   Albania     Europe    2007 76.423   3600523 5937.0295 21.376411  \n",
              "25   Algeria     Africa    1952 43.077   9279525 2449.0082 22.725633  \n",
              "26   Algeria     Africa    1957 45.685  10270856 3013.9760 30.956114  \n",
              "27   Algeria     Africa    1962 48.303  11000948 2550.8169 28.061404  \n",
              "28   Algeria     Africa    1967 51.407  12760499 3246.9918 41.433235  \n",
              "29   Algeria     Africa    1972 54.518  14760787 4182.6638 61.739409  \n",
              "30   Algeria     Africa    1977 58.014  17152804 4910.4168 84.227416  \n",
              "⋮    ⋮           ⋮         ⋮    ⋮       ⋮        ⋮         ⋮          \n",
              "1675 Yemen, Rep. Asia      1982 49.113   9657618 1977.5570 19.098490  \n",
              "1676 Yemen, Rep. Asia      1987 52.922  11219340 1971.7415 22.121639  \n",
              "1677 Yemen, Rep. Asia      1992 55.599  13367997 1879.4967 25.125106  \n",
              "1678 Yemen, Rep. Asia      1997 58.020  15826497 2117.4845 33.512362  \n",
              "1679 Yemen, Rep. Asia      2002 60.308  18701257 2234.8208 41.793959  \n",
              "1680 Yemen, Rep. Asia      2007 62.698  22211743 2280.7699 50.659875  \n",
              "1681 Zambia      Africa    1952 42.038   2672000 1147.3888  3.065823  \n",
              "1682 Zambia      Africa    1957 44.077   3016000 1311.9568  3.956862  \n",
              "1683 Zambia      Africa    1962 46.023   3421000 1452.7258  4.969775  \n",
              "1684 Zambia      Africa    1967 47.768   3900000 1777.0773  6.930602  \n",
              "1685 Zambia      Africa    1972 50.107   4506497 1773.4983  7.992265  \n",
              "1686 Zambia      Africa    1977 51.386   5216550 1588.6883  8.287472  \n",
              "1687 Zambia      Africa    1982 51.821   6100407 1408.6786  8.593513  \n",
              "1688 Zambia      Africa    1987 50.821   7272406 1213.3151  8.823720  \n",
              "1689 Zambia      Africa    1992 46.100   8381163 1210.8846 10.148621  \n",
              "1690 Zambia      Africa    1997 40.238   9417789 1071.3538 10.089784  \n",
              "1691 Zambia      Africa    2002 39.193  10595811 1071.6139 11.354619  \n",
              "1692 Zambia      Africa    2007 42.384  11746035 1271.2116 14.931696  \n",
              "1693 Zimbabwe    Africa    1952 48.451   3080907  406.8841  1.253572  \n",
              "1694 Zimbabwe    Africa    1957 50.469   3646340  518.7643  1.891591  \n",
              "1695 Zimbabwe    Africa    1962 52.358   4277736  527.2722  2.255531  \n",
              "1696 Zimbabwe    Africa    1967 53.995   4995432  569.7951  2.846373  \n",
              "1697 Zimbabwe    Africa    1972 55.635   5861135  799.3622  4.685170  \n",
              "1698 Zimbabwe    Africa    1977 57.674   6642107  685.5877  4.553747  \n",
              "1699 Zimbabwe    Africa    1982 60.363   7636524  788.8550  6.024110  \n",
              "1700 Zimbabwe    Africa    1987 62.351   9216418  706.1573  6.508241  \n",
              "1701 Zimbabwe    Africa    1992 60.377  10704340  693.4208  7.422612  \n",
              "1702 Zimbabwe    Africa    1997 46.809  11404948  792.4500  9.037851  \n",
              "1703 Zimbabwe    Africa    2002 39.989  11926563  672.0386  8.015111  \n",
              "1704 Zimbabwe    Africa    2007 43.487  12311143  469.7093  5.782658  "
            ],
            "text/latex": "A tibble: 1704 × 7\n\\begin{tabular}{lllllll}\n country & continent & year & lifeExp & pop & gdpPercap & gdp\\_billion\\\\\n <fct> & <fct> & <int> & <dbl> & <int> & <dbl> & <dbl>\\\\\n\\hline\n\t Afghanistan & Asia   & 1952 & 28.801 &  8425333 &  779.4453 &  6.567086\\\\\n\t Afghanistan & Asia   & 1957 & 30.332 &  9240934 &  820.8530 &  7.585449\\\\\n\t Afghanistan & Asia   & 1962 & 31.997 & 10267083 &  853.1007 &  8.758856\\\\\n\t Afghanistan & Asia   & 1967 & 34.020 & 11537966 &  836.1971 &  9.648014\\\\\n\t Afghanistan & Asia   & 1972 & 36.088 & 13079460 &  739.9811 &  9.678553\\\\\n\t Afghanistan & Asia   & 1977 & 38.438 & 14880372 &  786.1134 & 11.697659\\\\\n\t Afghanistan & Asia   & 1982 & 39.854 & 12881816 &  978.0114 & 12.598563\\\\\n\t Afghanistan & Asia   & 1987 & 40.822 & 13867957 &  852.3959 & 11.820990\\\\\n\t Afghanistan & Asia   & 1992 & 41.674 & 16317921 &  649.3414 & 10.595902\\\\\n\t Afghanistan & Asia   & 1997 & 41.763 & 22227415 &  635.3414 & 14.121996\\\\\n\t Afghanistan & Asia   & 2002 & 42.129 & 25268405 &  726.7341 & 18.363410\\\\\n\t Afghanistan & Asia   & 2007 & 43.828 & 31889923 &  974.5803 & 31.079292\\\\\n\t Albania     & Europe & 1952 & 55.230 &  1282697 & 1601.0561 &  2.053670\\\\\n\t Albania     & Europe & 1957 & 59.280 &  1476505 & 1942.2842 &  2.867792\\\\\n\t Albania     & Europe & 1962 & 64.820 &  1728137 & 2312.8890 &  3.996989\\\\\n\t Albania     & Europe & 1967 & 66.220 &  1984060 & 2760.1969 &  5.476396\\\\\n\t Albania     & Europe & 1972 & 67.690 &  2263554 & 3313.4222 &  7.500110\\\\\n\t Albania     & Europe & 1977 & 68.930 &  2509048 & 3533.0039 &  8.864476\\\\\n\t Albania     & Europe & 1982 & 70.420 &  2780097 & 3630.8807 & 10.094201\\\\\n\t Albania     & Europe & 1987 & 72.000 &  3075321 & 3738.9327 & 11.498418\\\\\n\t Albania     & Europe & 1992 & 71.581 &  3326498 & 2497.4379 &  8.307722\\\\\n\t Albania     & Europe & 1997 & 72.950 &  3428038 & 3193.0546 & 10.945913\\\\\n\t Albania     & Europe & 2002 & 75.651 &  3508512 & 4604.2117 & 16.153932\\\\\n\t Albania     & Europe & 2007 & 76.423 &  3600523 & 5937.0295 & 21.376411\\\\\n\t Algeria     & Africa & 1952 & 43.077 &  9279525 & 2449.0082 & 22.725633\\\\\n\t Algeria     & Africa & 1957 & 45.685 & 10270856 & 3013.9760 & 30.956114\\\\\n\t Algeria     & Africa & 1962 & 48.303 & 11000948 & 2550.8169 & 28.061404\\\\\n\t Algeria     & Africa & 1967 & 51.407 & 12760499 & 3246.9918 & 41.433235\\\\\n\t Algeria     & Africa & 1972 & 54.518 & 14760787 & 4182.6638 & 61.739409\\\\\n\t Algeria     & Africa & 1977 & 58.014 & 17152804 & 4910.4168 & 84.227416\\\\\n\t ⋮ & ⋮ & ⋮ & ⋮ & ⋮ & ⋮ & ⋮\\\\\n\t Yemen, Rep. & Asia   & 1982 & 49.113 &  9657618 & 1977.5570 & 19.098490\\\\\n\t Yemen, Rep. & Asia   & 1987 & 52.922 & 11219340 & 1971.7415 & 22.121639\\\\\n\t Yemen, Rep. & Asia   & 1992 & 55.599 & 13367997 & 1879.4967 & 25.125106\\\\\n\t Yemen, Rep. & Asia   & 1997 & 58.020 & 15826497 & 2117.4845 & 33.512362\\\\\n\t Yemen, Rep. & Asia   & 2002 & 60.308 & 18701257 & 2234.8208 & 41.793959\\\\\n\t Yemen, Rep. & Asia   & 2007 & 62.698 & 22211743 & 2280.7699 & 50.659875\\\\\n\t Zambia      & Africa & 1952 & 42.038 &  2672000 & 1147.3888 &  3.065823\\\\\n\t Zambia      & Africa & 1957 & 44.077 &  3016000 & 1311.9568 &  3.956862\\\\\n\t Zambia      & Africa & 1962 & 46.023 &  3421000 & 1452.7258 &  4.969775\\\\\n\t Zambia      & Africa & 1967 & 47.768 &  3900000 & 1777.0773 &  6.930602\\\\\n\t Zambia      & Africa & 1972 & 50.107 &  4506497 & 1773.4983 &  7.992265\\\\\n\t Zambia      & Africa & 1977 & 51.386 &  5216550 & 1588.6883 &  8.287472\\\\\n\t Zambia      & Africa & 1982 & 51.821 &  6100407 & 1408.6786 &  8.593513\\\\\n\t Zambia      & Africa & 1987 & 50.821 &  7272406 & 1213.3151 &  8.823720\\\\\n\t Zambia      & Africa & 1992 & 46.100 &  8381163 & 1210.8846 & 10.148621\\\\\n\t Zambia      & Africa & 1997 & 40.238 &  9417789 & 1071.3538 & 10.089784\\\\\n\t Zambia      & Africa & 2002 & 39.193 & 10595811 & 1071.6139 & 11.354619\\\\\n\t Zambia      & Africa & 2007 & 42.384 & 11746035 & 1271.2116 & 14.931696\\\\\n\t Zimbabwe    & Africa & 1952 & 48.451 &  3080907 &  406.8841 &  1.253572\\\\\n\t Zimbabwe    & Africa & 1957 & 50.469 &  3646340 &  518.7643 &  1.891591\\\\\n\t Zimbabwe    & Africa & 1962 & 52.358 &  4277736 &  527.2722 &  2.255531\\\\\n\t Zimbabwe    & Africa & 1967 & 53.995 &  4995432 &  569.7951 &  2.846373\\\\\n\t Zimbabwe    & Africa & 1972 & 55.635 &  5861135 &  799.3622 &  4.685170\\\\\n\t Zimbabwe    & Africa & 1977 & 57.674 &  6642107 &  685.5877 &  4.553747\\\\\n\t Zimbabwe    & Africa & 1982 & 60.363 &  7636524 &  788.8550 &  6.024110\\\\\n\t Zimbabwe    & Africa & 1987 & 62.351 &  9216418 &  706.1573 &  6.508241\\\\\n\t Zimbabwe    & Africa & 1992 & 60.377 & 10704340 &  693.4208 &  7.422612\\\\\n\t Zimbabwe    & Africa & 1997 & 46.809 & 11404948 &  792.4500 &  9.037851\\\\\n\t Zimbabwe    & Africa & 2002 & 39.989 & 11926563 &  672.0386 &  8.015111\\\\\n\t Zimbabwe    & Africa & 2007 & 43.487 & 12311143 &  469.7093 &  5.782658\\\\\n\\end{tabular}\n",
            "text/markdown": "\nA tibble: 1704 × 7\n\n| country &lt;fct&gt; | continent &lt;fct&gt; | year &lt;int&gt; | lifeExp &lt;dbl&gt; | pop &lt;int&gt; | gdpPercap &lt;dbl&gt; | gdp_billion &lt;dbl&gt; |\n|---|---|---|---|---|---|---|\n| Afghanistan | Asia   | 1952 | 28.801 |  8425333 |  779.4453 |  6.567086 |\n| Afghanistan | Asia   | 1957 | 30.332 |  9240934 |  820.8530 |  7.585449 |\n| Afghanistan | Asia   | 1962 | 31.997 | 10267083 |  853.1007 |  8.758856 |\n| Afghanistan | Asia   | 1967 | 34.020 | 11537966 |  836.1971 |  9.648014 |\n| Afghanistan | Asia   | 1972 | 36.088 | 13079460 |  739.9811 |  9.678553 |\n| Afghanistan | Asia   | 1977 | 38.438 | 14880372 |  786.1134 | 11.697659 |\n| Afghanistan | Asia   | 1982 | 39.854 | 12881816 |  978.0114 | 12.598563 |\n| Afghanistan | Asia   | 1987 | 40.822 | 13867957 |  852.3959 | 11.820990 |\n| Afghanistan | Asia   | 1992 | 41.674 | 16317921 |  649.3414 | 10.595902 |\n| Afghanistan | Asia   | 1997 | 41.763 | 22227415 |  635.3414 | 14.121996 |\n| Afghanistan | Asia   | 2002 | 42.129 | 25268405 |  726.7341 | 18.363410 |\n| Afghanistan | Asia   | 2007 | 43.828 | 31889923 |  974.5803 | 31.079292 |\n| Albania     | Europe | 1952 | 55.230 |  1282697 | 1601.0561 |  2.053670 |\n| Albania     | Europe | 1957 | 59.280 |  1476505 | 1942.2842 |  2.867792 |\n| Albania     | Europe | 1962 | 64.820 |  1728137 | 2312.8890 |  3.996989 |\n| Albania     | Europe | 1967 | 66.220 |  1984060 | 2760.1969 |  5.476396 |\n| Albania     | Europe | 1972 | 67.690 |  2263554 | 3313.4222 |  7.500110 |\n| Albania     | Europe | 1977 | 68.930 |  2509048 | 3533.0039 |  8.864476 |\n| Albania     | Europe | 1982 | 70.420 |  2780097 | 3630.8807 | 10.094201 |\n| Albania     | Europe | 1987 | 72.000 |  3075321 | 3738.9327 | 11.498418 |\n| Albania     | Europe | 1992 | 71.581 |  3326498 | 2497.4379 |  8.307722 |\n| Albania     | Europe | 1997 | 72.950 |  3428038 | 3193.0546 | 10.945913 |\n| Albania     | Europe | 2002 | 75.651 |  3508512 | 4604.2117 | 16.153932 |\n| Albania     | Europe | 2007 | 76.423 |  3600523 | 5937.0295 | 21.376411 |\n| Algeria     | Africa | 1952 | 43.077 |  9279525 | 2449.0082 | 22.725633 |\n| Algeria     | Africa | 1957 | 45.685 | 10270856 | 3013.9760 | 30.956114 |\n| Algeria     | Africa | 1962 | 48.303 | 11000948 | 2550.8169 | 28.061404 |\n| Algeria     | Africa | 1967 | 51.407 | 12760499 | 3246.9918 | 41.433235 |\n| Algeria     | Africa | 1972 | 54.518 | 14760787 | 4182.6638 | 61.739409 |\n| Algeria     | Africa | 1977 | 58.014 | 17152804 | 4910.4168 | 84.227416 |\n| ⋮ | ⋮ | ⋮ | ⋮ | ⋮ | ⋮ | ⋮ |\n| Yemen, Rep. | Asia   | 1982 | 49.113 |  9657618 | 1977.5570 | 19.098490 |\n| Yemen, Rep. | Asia   | 1987 | 52.922 | 11219340 | 1971.7415 | 22.121639 |\n| Yemen, Rep. | Asia   | 1992 | 55.599 | 13367997 | 1879.4967 | 25.125106 |\n| Yemen, Rep. | Asia   | 1997 | 58.020 | 15826497 | 2117.4845 | 33.512362 |\n| Yemen, Rep. | Asia   | 2002 | 60.308 | 18701257 | 2234.8208 | 41.793959 |\n| Yemen, Rep. | Asia   | 2007 | 62.698 | 22211743 | 2280.7699 | 50.659875 |\n| Zambia      | Africa | 1952 | 42.038 |  2672000 | 1147.3888 |  3.065823 |\n| Zambia      | Africa | 1957 | 44.077 |  3016000 | 1311.9568 |  3.956862 |\n| Zambia      | Africa | 1962 | 46.023 |  3421000 | 1452.7258 |  4.969775 |\n| Zambia      | Africa | 1967 | 47.768 |  3900000 | 1777.0773 |  6.930602 |\n| Zambia      | Africa | 1972 | 50.107 |  4506497 | 1773.4983 |  7.992265 |\n| Zambia      | Africa | 1977 | 51.386 |  5216550 | 1588.6883 |  8.287472 |\n| Zambia      | Africa | 1982 | 51.821 |  6100407 | 1408.6786 |  8.593513 |\n| Zambia      | Africa | 1987 | 50.821 |  7272406 | 1213.3151 |  8.823720 |\n| Zambia      | Africa | 1992 | 46.100 |  8381163 | 1210.8846 | 10.148621 |\n| Zambia      | Africa | 1997 | 40.238 |  9417789 | 1071.3538 | 10.089784 |\n| Zambia      | Africa | 2002 | 39.193 | 10595811 | 1071.6139 | 11.354619 |\n| Zambia      | Africa | 2007 | 42.384 | 11746035 | 1271.2116 | 14.931696 |\n| Zimbabwe    | Africa | 1952 | 48.451 |  3080907 |  406.8841 |  1.253572 |\n| Zimbabwe    | Africa | 1957 | 50.469 |  3646340 |  518.7643 |  1.891591 |\n| Zimbabwe    | Africa | 1962 | 52.358 |  4277736 |  527.2722 |  2.255531 |\n| Zimbabwe    | Africa | 1967 | 53.995 |  4995432 |  569.7951 |  2.846373 |\n| Zimbabwe    | Africa | 1972 | 55.635 |  5861135 |  799.3622 |  4.685170 |\n| Zimbabwe    | Africa | 1977 | 57.674 |  6642107 |  685.5877 |  4.553747 |\n| Zimbabwe    | Africa | 1982 | 60.363 |  7636524 |  788.8550 |  6.024110 |\n| Zimbabwe    | Africa | 1987 | 62.351 |  9216418 |  706.1573 |  6.508241 |\n| Zimbabwe    | Africa | 1992 | 60.377 | 10704340 |  693.4208 |  7.422612 |\n| Zimbabwe    | Africa | 1997 | 46.809 | 11404948 |  792.4500 |  9.037851 |\n| Zimbabwe    | Africa | 2002 | 39.989 | 11926563 |  672.0386 |  8.015111 |\n| Zimbabwe    | Africa | 2007 | 43.487 | 12311143 |  469.7093 |  5.782658 |\n\n",
            "text/html": [
              "<table>\n",
              "<caption>A tibble: 1704 × 7</caption>\n",
              "<thead>\n",
              "\t<tr><th scope=col>country</th><th scope=col>continent</th><th scope=col>year</th><th scope=col>lifeExp</th><th scope=col>pop</th><th scope=col>gdpPercap</th><th scope=col>gdp_billion</th></tr>\n",
              "\t<tr><th scope=col>&lt;fct&gt;</th><th scope=col>&lt;fct&gt;</th><th scope=col>&lt;int&gt;</th><th scope=col>&lt;dbl&gt;</th><th scope=col>&lt;int&gt;</th><th scope=col>&lt;dbl&gt;</th><th scope=col>&lt;dbl&gt;</th></tr>\n",
              "</thead>\n",
              "<tbody>\n",
              "\t<tr><td>Afghanistan</td><td>Asia  </td><td>1952</td><td>28.801</td><td> 8425333</td><td> 779.4453</td><td> 6.567086</td></tr>\n",
              "\t<tr><td>Afghanistan</td><td>Asia  </td><td>1957</td><td>30.332</td><td> 9240934</td><td> 820.8530</td><td> 7.585449</td></tr>\n",
              "\t<tr><td>Afghanistan</td><td>Asia  </td><td>1962</td><td>31.997</td><td>10267083</td><td> 853.1007</td><td> 8.758856</td></tr>\n",
              "\t<tr><td>Afghanistan</td><td>Asia  </td><td>1967</td><td>34.020</td><td>11537966</td><td> 836.1971</td><td> 9.648014</td></tr>\n",
              "\t<tr><td>Afghanistan</td><td>Asia  </td><td>1972</td><td>36.088</td><td>13079460</td><td> 739.9811</td><td> 9.678553</td></tr>\n",
              "\t<tr><td>Afghanistan</td><td>Asia  </td><td>1977</td><td>38.438</td><td>14880372</td><td> 786.1134</td><td>11.697659</td></tr>\n",
              "\t<tr><td>Afghanistan</td><td>Asia  </td><td>1982</td><td>39.854</td><td>12881816</td><td> 978.0114</td><td>12.598563</td></tr>\n",
              "\t<tr><td>Afghanistan</td><td>Asia  </td><td>1987</td><td>40.822</td><td>13867957</td><td> 852.3959</td><td>11.820990</td></tr>\n",
              "\t<tr><td>Afghanistan</td><td>Asia  </td><td>1992</td><td>41.674</td><td>16317921</td><td> 649.3414</td><td>10.595902</td></tr>\n",
              "\t<tr><td>Afghanistan</td><td>Asia  </td><td>1997</td><td>41.763</td><td>22227415</td><td> 635.3414</td><td>14.121996</td></tr>\n",
              "\t<tr><td>Afghanistan</td><td>Asia  </td><td>2002</td><td>42.129</td><td>25268405</td><td> 726.7341</td><td>18.363410</td></tr>\n",
              "\t<tr><td>Afghanistan</td><td>Asia  </td><td>2007</td><td>43.828</td><td>31889923</td><td> 974.5803</td><td>31.079292</td></tr>\n",
              "\t<tr><td>Albania    </td><td>Europe</td><td>1952</td><td>55.230</td><td> 1282697</td><td>1601.0561</td><td> 2.053670</td></tr>\n",
              "\t<tr><td>Albania    </td><td>Europe</td><td>1957</td><td>59.280</td><td> 1476505</td><td>1942.2842</td><td> 2.867792</td></tr>\n",
              "\t<tr><td>Albania    </td><td>Europe</td><td>1962</td><td>64.820</td><td> 1728137</td><td>2312.8890</td><td> 3.996989</td></tr>\n",
              "\t<tr><td>Albania    </td><td>Europe</td><td>1967</td><td>66.220</td><td> 1984060</td><td>2760.1969</td><td> 5.476396</td></tr>\n",
              "\t<tr><td>Albania    </td><td>Europe</td><td>1972</td><td>67.690</td><td> 2263554</td><td>3313.4222</td><td> 7.500110</td></tr>\n",
              "\t<tr><td>Albania    </td><td>Europe</td><td>1977</td><td>68.930</td><td> 2509048</td><td>3533.0039</td><td> 8.864476</td></tr>\n",
              "\t<tr><td>Albania    </td><td>Europe</td><td>1982</td><td>70.420</td><td> 2780097</td><td>3630.8807</td><td>10.094201</td></tr>\n",
              "\t<tr><td>Albania    </td><td>Europe</td><td>1987</td><td>72.000</td><td> 3075321</td><td>3738.9327</td><td>11.498418</td></tr>\n",
              "\t<tr><td>Albania    </td><td>Europe</td><td>1992</td><td>71.581</td><td> 3326498</td><td>2497.4379</td><td> 8.307722</td></tr>\n",
              "\t<tr><td>Albania    </td><td>Europe</td><td>1997</td><td>72.950</td><td> 3428038</td><td>3193.0546</td><td>10.945913</td></tr>\n",
              "\t<tr><td>Albania    </td><td>Europe</td><td>2002</td><td>75.651</td><td> 3508512</td><td>4604.2117</td><td>16.153932</td></tr>\n",
              "\t<tr><td>Albania    </td><td>Europe</td><td>2007</td><td>76.423</td><td> 3600523</td><td>5937.0295</td><td>21.376411</td></tr>\n",
              "\t<tr><td>Algeria    </td><td>Africa</td><td>1952</td><td>43.077</td><td> 9279525</td><td>2449.0082</td><td>22.725633</td></tr>\n",
              "\t<tr><td>Algeria    </td><td>Africa</td><td>1957</td><td>45.685</td><td>10270856</td><td>3013.9760</td><td>30.956114</td></tr>\n",
              "\t<tr><td>Algeria    </td><td>Africa</td><td>1962</td><td>48.303</td><td>11000948</td><td>2550.8169</td><td>28.061404</td></tr>\n",
              "\t<tr><td>Algeria    </td><td>Africa</td><td>1967</td><td>51.407</td><td>12760499</td><td>3246.9918</td><td>41.433235</td></tr>\n",
              "\t<tr><td>Algeria    </td><td>Africa</td><td>1972</td><td>54.518</td><td>14760787</td><td>4182.6638</td><td>61.739409</td></tr>\n",
              "\t<tr><td>Algeria    </td><td>Africa</td><td>1977</td><td>58.014</td><td>17152804</td><td>4910.4168</td><td>84.227416</td></tr>\n",
              "\t<tr><td>⋮</td><td>⋮</td><td>⋮</td><td>⋮</td><td>⋮</td><td>⋮</td><td>⋮</td></tr>\n",
              "\t<tr><td>Yemen, Rep.</td><td>Asia  </td><td>1982</td><td>49.113</td><td> 9657618</td><td>1977.5570</td><td>19.098490</td></tr>\n",
              "\t<tr><td>Yemen, Rep.</td><td>Asia  </td><td>1987</td><td>52.922</td><td>11219340</td><td>1971.7415</td><td>22.121639</td></tr>\n",
              "\t<tr><td>Yemen, Rep.</td><td>Asia  </td><td>1992</td><td>55.599</td><td>13367997</td><td>1879.4967</td><td>25.125106</td></tr>\n",
              "\t<tr><td>Yemen, Rep.</td><td>Asia  </td><td>1997</td><td>58.020</td><td>15826497</td><td>2117.4845</td><td>33.512362</td></tr>\n",
              "\t<tr><td>Yemen, Rep.</td><td>Asia  </td><td>2002</td><td>60.308</td><td>18701257</td><td>2234.8208</td><td>41.793959</td></tr>\n",
              "\t<tr><td>Yemen, Rep.</td><td>Asia  </td><td>2007</td><td>62.698</td><td>22211743</td><td>2280.7699</td><td>50.659875</td></tr>\n",
              "\t<tr><td>Zambia     </td><td>Africa</td><td>1952</td><td>42.038</td><td> 2672000</td><td>1147.3888</td><td> 3.065823</td></tr>\n",
              "\t<tr><td>Zambia     </td><td>Africa</td><td>1957</td><td>44.077</td><td> 3016000</td><td>1311.9568</td><td> 3.956862</td></tr>\n",
              "\t<tr><td>Zambia     </td><td>Africa</td><td>1962</td><td>46.023</td><td> 3421000</td><td>1452.7258</td><td> 4.969775</td></tr>\n",
              "\t<tr><td>Zambia     </td><td>Africa</td><td>1967</td><td>47.768</td><td> 3900000</td><td>1777.0773</td><td> 6.930602</td></tr>\n",
              "\t<tr><td>Zambia     </td><td>Africa</td><td>1972</td><td>50.107</td><td> 4506497</td><td>1773.4983</td><td> 7.992265</td></tr>\n",
              "\t<tr><td>Zambia     </td><td>Africa</td><td>1977</td><td>51.386</td><td> 5216550</td><td>1588.6883</td><td> 8.287472</td></tr>\n",
              "\t<tr><td>Zambia     </td><td>Africa</td><td>1982</td><td>51.821</td><td> 6100407</td><td>1408.6786</td><td> 8.593513</td></tr>\n",
              "\t<tr><td>Zambia     </td><td>Africa</td><td>1987</td><td>50.821</td><td> 7272406</td><td>1213.3151</td><td> 8.823720</td></tr>\n",
              "\t<tr><td>Zambia     </td><td>Africa</td><td>1992</td><td>46.100</td><td> 8381163</td><td>1210.8846</td><td>10.148621</td></tr>\n",
              "\t<tr><td>Zambia     </td><td>Africa</td><td>1997</td><td>40.238</td><td> 9417789</td><td>1071.3538</td><td>10.089784</td></tr>\n",
              "\t<tr><td>Zambia     </td><td>Africa</td><td>2002</td><td>39.193</td><td>10595811</td><td>1071.6139</td><td>11.354619</td></tr>\n",
              "\t<tr><td>Zambia     </td><td>Africa</td><td>2007</td><td>42.384</td><td>11746035</td><td>1271.2116</td><td>14.931696</td></tr>\n",
              "\t<tr><td>Zimbabwe   </td><td>Africa</td><td>1952</td><td>48.451</td><td> 3080907</td><td> 406.8841</td><td> 1.253572</td></tr>\n",
              "\t<tr><td>Zimbabwe   </td><td>Africa</td><td>1957</td><td>50.469</td><td> 3646340</td><td> 518.7643</td><td> 1.891591</td></tr>\n",
              "\t<tr><td>Zimbabwe   </td><td>Africa</td><td>1962</td><td>52.358</td><td> 4277736</td><td> 527.2722</td><td> 2.255531</td></tr>\n",
              "\t<tr><td>Zimbabwe   </td><td>Africa</td><td>1967</td><td>53.995</td><td> 4995432</td><td> 569.7951</td><td> 2.846373</td></tr>\n",
              "\t<tr><td>Zimbabwe   </td><td>Africa</td><td>1972</td><td>55.635</td><td> 5861135</td><td> 799.3622</td><td> 4.685170</td></tr>\n",
              "\t<tr><td>Zimbabwe   </td><td>Africa</td><td>1977</td><td>57.674</td><td> 6642107</td><td> 685.5877</td><td> 4.553747</td></tr>\n",
              "\t<tr><td>Zimbabwe   </td><td>Africa</td><td>1982</td><td>60.363</td><td> 7636524</td><td> 788.8550</td><td> 6.024110</td></tr>\n",
              "\t<tr><td>Zimbabwe   </td><td>Africa</td><td>1987</td><td>62.351</td><td> 9216418</td><td> 706.1573</td><td> 6.508241</td></tr>\n",
              "\t<tr><td>Zimbabwe   </td><td>Africa</td><td>1992</td><td>60.377</td><td>10704340</td><td> 693.4208</td><td> 7.422612</td></tr>\n",
              "\t<tr><td>Zimbabwe   </td><td>Africa</td><td>1997</td><td>46.809</td><td>11404948</td><td> 792.4500</td><td> 9.037851</td></tr>\n",
              "\t<tr><td>Zimbabwe   </td><td>Africa</td><td>2002</td><td>39.989</td><td>11926563</td><td> 672.0386</td><td> 8.015111</td></tr>\n",
              "\t<tr><td>Zimbabwe   </td><td>Africa</td><td>2007</td><td>43.487</td><td>12311143</td><td> 469.7093</td><td> 5.782658</td></tr>\n",
              "</tbody>\n",
              "</table>\n"
            ]
          },
          "metadata": {
            "tags": []
          }
        }
      ]
    },
    {
      "cell_type": "markdown",
      "metadata": {
        "id": "vmsF766UbBy-",
        "colab_type": "text"
      },
      "source": [
        "### **Funciones útilies para creación de variables:**\n",
        "\n",
        "Existen varias funciones útilies para la creación de nuevas variables que se pueden usar junto con `mutate()`. La propiedad principal es que la función debe ser vectorizada, en el sentido que debe tomar como entrada un vector y como salida un vector con el mismo número de valores. Alguna de las principales funciones son: \n",
        "\n",
        "- `Operadores aritméticos:` Todos estos operadores son vectorizados y usan lo que se conoce como reglas de reciclaje. Si un parámetro es más corto que otro, automáticamente los extenderá para que sean de la misma longitud. Lo anteriore resulta útil cuando uno de los argumentos es un solo número: `air_time/60`, `hours*60+minute`, etc Los operadores aritméticos también son útilies conjuntamente con las funciones de agregación que se estudiarán más adelante. Por ejemplo `x/(sum(x))` calculará la proporción respecto a un total, `y-mean(y)` calculará la diferencia al valor medio\n",
        "\n",
        "- `Operadores aritméticos modulares (%/% y %%`): La división entera (`%/%`) y el residuo (`%%`) operaciones con módulos que se pueden realizar también de forma vectorizada. Mediante las operaciones modulares se puede divir un entero en partes. Por ejemplo, en el dataset `flights` se puede computar las horas y minutos de la variable `dep_time`:"
      ]
    },
    {
      "cell_type": "code",
      "metadata": {
        "id": "OZH1IUP5a8r6",
        "colab_type": "code",
        "colab": {
          "base_uri": "https://localhost:8080/",
          "height": 195
        },
        "outputId": "378eaf33-c9e4-47cb-95d1-9c7c7aedc60c"
      },
      "source": [
        "head(\n",
        "  transmute(flights,\n",
        "  dep_time,\n",
        "  hour = dep_time %/% 100,\n",
        "  minute = dep_time %% 100\n",
        "  )\n",
        ")"
      ],
      "execution_count": null,
      "outputs": [
        {
          "output_type": "display_data",
          "data": {
            "text/plain": [
              "  dep_time hour minute\n",
              "1 517      5    17    \n",
              "2 533      5    33    \n",
              "3 542      5    42    \n",
              "4 544      5    44    \n",
              "5 554      5    54    \n",
              "6 554      5    54    "
            ],
            "text/latex": "A tibble: 6 × 3\n\\begin{tabular}{lll}\n dep\\_time & hour & minute\\\\\n <int> & <dbl> & <dbl>\\\\\n\\hline\n\t 517 & 5 & 17\\\\\n\t 533 & 5 & 33\\\\\n\t 542 & 5 & 42\\\\\n\t 544 & 5 & 44\\\\\n\t 554 & 5 & 54\\\\\n\t 554 & 5 & 54\\\\\n\\end{tabular}\n",
            "text/markdown": "\nA tibble: 6 × 3\n\n| dep_time &lt;int&gt; | hour &lt;dbl&gt; | minute &lt;dbl&gt; |\n|---|---|---|\n| 517 | 5 | 17 |\n| 533 | 5 | 33 |\n| 542 | 5 | 42 |\n| 544 | 5 | 44 |\n| 554 | 5 | 54 |\n| 554 | 5 | 54 |\n\n",
            "text/html": [
              "<table>\n",
              "<caption>A tibble: 6 × 3</caption>\n",
              "<thead>\n",
              "\t<tr><th scope=col>dep_time</th><th scope=col>hour</th><th scope=col>minute</th></tr>\n",
              "\t<tr><th scope=col>&lt;int&gt;</th><th scope=col>&lt;dbl&gt;</th><th scope=col>&lt;dbl&gt;</th></tr>\n",
              "</thead>\n",
              "<tbody>\n",
              "\t<tr><td>517</td><td>5</td><td>17</td></tr>\n",
              "\t<tr><td>533</td><td>5</td><td>33</td></tr>\n",
              "\t<tr><td>542</td><td>5</td><td>42</td></tr>\n",
              "\t<tr><td>544</td><td>5</td><td>44</td></tr>\n",
              "\t<tr><td>554</td><td>5</td><td>54</td></tr>\n",
              "\t<tr><td>554</td><td>5</td><td>54</td></tr>\n",
              "</tbody>\n",
              "</table>\n"
            ]
          },
          "metadata": {
            "tags": []
          }
        }
      ]
    },
    {
      "cell_type": "markdown",
      "metadata": {
        "id": "akl5neUggdpR",
        "colab_type": "text"
      },
      "source": [
        "Otras funciones útilies son:\n",
        "\n",
        "- `Logs:` `log()`, `log2()`, `log10()`: Las transformaciones logarítmicas resultan especialmente útiles en el caso de datos que poseen varios ordenes de magnitud. También transforma una relación de múltiplicación en una relación aditiva. De las funciones enlistadas, la más facil de interpretar es `log2()` ya que es muy fácil de interpretar: Una diferencia de 1 en la escala logarítmica corresponde al doble de la escala original y una diferencia de $-1$ corresponde a la mitad.\n",
        "\n",
        "- `Offsets`: `lead()` and `lag()` nos permite referirnos a valores iniciales o anteriores. Esto facilita el cálculo de diferencias (por ejemplo $x-\\text{lag}(x)$), o buscar cuando cambian los valores ($x!=\\text{lag}(x)$). Veamos un pequeño ejemplo:"
      ]
    },
    {
      "cell_type": "code",
      "metadata": {
        "id": "MjolMKE9gS8n",
        "colab_type": "code",
        "colab": {
          "base_uri": "https://localhost:8080/",
          "height": 34
        },
        "outputId": "274462a8-4d1c-42e0-d181-8f1dfd244a42"
      },
      "source": [
        "x = 1:10\n",
        "x"
      ],
      "execution_count": null,
      "outputs": [
        {
          "output_type": "display_data",
          "data": {
            "text/plain": [
              " [1]  1  2  3  4  5  6  7  8  9 10"
            ],
            "text/latex": "\\begin{enumerate*}\n\\item 1\n\\item 2\n\\item 3\n\\item 4\n\\item 5\n\\item 6\n\\item 7\n\\item 8\n\\item 9\n\\item 10\n\\end{enumerate*}\n",
            "text/markdown": "1. 1\n2. 2\n3. 3\n4. 4\n5. 5\n6. 6\n7. 7\n8. 8\n9. 9\n10. 10\n\n\n",
            "text/html": [
              "<style>\n",
              ".list-inline {list-style: none; margin:0; padding: 0}\n",
              ".list-inline>li {display: inline-block}\n",
              ".list-inline>li:not(:last-child)::after {content: \"\\00b7\"; padding: 0 .5ex}\n",
              "</style>\n",
              "<ol class=list-inline><li>1</li><li>2</li><li>3</li><li>4</li><li>5</li><li>6</li><li>7</li><li>8</li><li>9</li><li>10</li></ol>\n"
            ]
          },
          "metadata": {
            "tags": []
          }
        }
      ]
    },
    {
      "cell_type": "code",
      "metadata": {
        "id": "KPo6c6sCpZbS",
        "colab_type": "code",
        "colab": {
          "base_uri": "https://localhost:8080/",
          "height": 34
        },
        "outputId": "b1528e2f-e8cf-4fe1-ce73-7be4e3f0f970"
      },
      "source": [
        "lag(x)"
      ],
      "execution_count": null,
      "outputs": [
        {
          "output_type": "display_data",
          "data": {
            "text/plain": [
              " [1] NA  1  2  3  4  5  6  7  8  9"
            ],
            "text/latex": "\\begin{enumerate*}\n\\item <NA>\n\\item 1\n\\item 2\n\\item 3\n\\item 4\n\\item 5\n\\item 6\n\\item 7\n\\item 8\n\\item 9\n\\end{enumerate*}\n",
            "text/markdown": "1. &lt;NA&gt;\n2. 1\n3. 2\n4. 3\n5. 4\n6. 5\n7. 6\n8. 7\n9. 8\n10. 9\n\n\n",
            "text/html": [
              "<style>\n",
              ".list-inline {list-style: none; margin:0; padding: 0}\n",
              ".list-inline>li {display: inline-block}\n",
              ".list-inline>li:not(:last-child)::after {content: \"\\00b7\"; padding: 0 .5ex}\n",
              "</style>\n",
              "<ol class=list-inline><li>&lt;NA&gt;</li><li>1</li><li>2</li><li>3</li><li>4</li><li>5</li><li>6</li><li>7</li><li>8</li><li>9</li></ol>\n"
            ]
          },
          "metadata": {
            "tags": []
          }
        }
      ]
    },
    {
      "cell_type": "code",
      "metadata": {
        "id": "oazCThS3pbhR",
        "colab_type": "code",
        "colab": {
          "base_uri": "https://localhost:8080/",
          "height": 34
        },
        "outputId": "58cc8a39-dd9a-4f67-b654-c77d67d2fd07"
      },
      "source": [
        "lead(x)"
      ],
      "execution_count": null,
      "outputs": [
        {
          "output_type": "display_data",
          "data": {
            "text/plain": [
              " [1]  2  3  4  5  6  7  8  9 10 NA"
            ],
            "text/latex": "\\begin{enumerate*}\n\\item 2\n\\item 3\n\\item 4\n\\item 5\n\\item 6\n\\item 7\n\\item 8\n\\item 9\n\\item 10\n\\item <NA>\n\\end{enumerate*}\n",
            "text/markdown": "1. 2\n2. 3\n3. 4\n4. 5\n5. 6\n6. 7\n7. 8\n8. 9\n9. 10\n10. &lt;NA&gt;\n\n\n",
            "text/html": [
              "<style>\n",
              ".list-inline {list-style: none; margin:0; padding: 0}\n",
              ".list-inline>li {display: inline-block}\n",
              ".list-inline>li:not(:last-child)::after {content: \"\\00b7\"; padding: 0 .5ex}\n",
              "</style>\n",
              "<ol class=list-inline><li>2</li><li>3</li><li>4</li><li>5</li><li>6</li><li>7</li><li>8</li><li>9</li><li>10</li><li>&lt;NA&gt;</li></ol>\n"
            ]
          },
          "metadata": {
            "tags": []
          }
        }
      ]
    },
    {
      "cell_type": "markdown",
      "metadata": {
        "id": "heZwNin_p6n7",
        "colab_type": "text"
      },
      "source": [
        "###*Agregaciones de acumuación y Rolling*\n",
        "R proporciona ffunciones para llevar a cabo sumas, profuces, mínimos, mácimos como `cumsum()`, `cumprod()`, `cummin()`, `cummax()`; además, **dplyr** proporciona `cummean()` para la acumulación de los valores medios. Si se necesitan agregados rodantes, por ejemplo, una suma que se computa dentro de una ventana rodante, puede usarse el paquete `RcppRoll`. Veamos algunos ejemplos: "
      ]
    },
    {
      "cell_type": "code",
      "metadata": {
        "id": "OkcB98uYpgAU",
        "colab_type": "code",
        "colab": {
          "base_uri": "https://localhost:8080/",
          "height": 34
        },
        "outputId": "f0eda20a-50f4-40c6-e2cd-b5ef8fd9840b"
      },
      "source": [
        "cumsum(x)"
      ],
      "execution_count": null,
      "outputs": [
        {
          "output_type": "display_data",
          "data": {
            "text/plain": [
              " [1]  1  3  6 10 15 21 28 36 45 55"
            ],
            "text/latex": "\\begin{enumerate*}\n\\item 1\n\\item 3\n\\item 6\n\\item 10\n\\item 15\n\\item 21\n\\item 28\n\\item 36\n\\item 45\n\\item 55\n\\end{enumerate*}\n",
            "text/markdown": "1. 1\n2. 3\n3. 6\n4. 10\n5. 15\n6. 21\n7. 28\n8. 36\n9. 45\n10. 55\n\n\n",
            "text/html": [
              "<style>\n",
              ".list-inline {list-style: none; margin:0; padding: 0}\n",
              ".list-inline>li {display: inline-block}\n",
              ".list-inline>li:not(:last-child)::after {content: \"\\00b7\"; padding: 0 .5ex}\n",
              "</style>\n",
              "<ol class=list-inline><li>1</li><li>3</li><li>6</li><li>10</li><li>15</li><li>21</li><li>28</li><li>36</li><li>45</li><li>55</li></ol>\n"
            ]
          },
          "metadata": {
            "tags": []
          }
        }
      ]
    },
    {
      "cell_type": "code",
      "metadata": {
        "id": "AlRb2SrkrDv1",
        "colab_type": "code",
        "colab": {
          "base_uri": "https://localhost:8080/",
          "height": 34
        },
        "outputId": "58db846c-6057-4ac5-f8e5-21f25e1aa01b"
      },
      "source": [
        "cumprod(x)"
      ],
      "execution_count": null,
      "outputs": [
        {
          "output_type": "display_data",
          "data": {
            "text/plain": [
              " [1]       1       2       6      24     120     720    5040   40320  362880\n",
              "[10] 3628800"
            ],
            "text/latex": "\\begin{enumerate*}\n\\item 1\n\\item 2\n\\item 6\n\\item 24\n\\item 120\n\\item 720\n\\item 5040\n\\item 40320\n\\item 362880\n\\item 3628800\n\\end{enumerate*}\n",
            "text/markdown": "1. 1\n2. 2\n3. 6\n4. 24\n5. 120\n6. 720\n7. 5040\n8. 40320\n9. 362880\n10. 3628800\n\n\n",
            "text/html": [
              "<style>\n",
              ".list-inline {list-style: none; margin:0; padding: 0}\n",
              ".list-inline>li {display: inline-block}\n",
              ".list-inline>li:not(:last-child)::after {content: \"\\00b7\"; padding: 0 .5ex}\n",
              "</style>\n",
              "<ol class=list-inline><li>1</li><li>2</li><li>6</li><li>24</li><li>120</li><li>720</li><li>5040</li><li>40320</li><li>362880</li><li>3628800</li></ol>\n"
            ]
          },
          "metadata": {
            "tags": []
          }
        }
      ]
    },
    {
      "cell_type": "markdown",
      "metadata": {
        "id": "VOfx_JT3sFPO",
        "colab_type": "text"
      },
      "source": [
        "###*Comparaciones lógicas*\n",
        "\n",
        "Si se está realizando un secuencia compleja de operaciones lógicas, es una buena idea almacenar los valores intermedios en nuevas variables para que pueda verificar que cada paso funcione de acuerdo a lo esperado. Para eso, podemos usar las operaciones lógicas <, <=, >, >=, !=."
      ]
    },
    {
      "cell_type": "markdown",
      "metadata": {
        "id": "mbIx8CTguL6d",
        "colab_type": "text"
      },
      "source": [
        "###*Ranqueado*\n",
        "\n",
        "Existen varias funciones de ranquedo. \n"
      ]
    },
    {
      "cell_type": "code",
      "metadata": {
        "id": "5QLYTimjrLAd",
        "colab_type": "code",
        "colab": {
          "base_uri": "https://localhost:8080/",
          "height": 34
        },
        "outputId": "a2350f6e-673d-41b4-ab5d-970c59b7d4bb"
      },
      "source": [
        "y = c(1,3,5,7,9,11)\n",
        "y"
      ],
      "execution_count": null,
      "outputs": [
        {
          "output_type": "display_data",
          "data": {
            "text/plain": [
              "[1]  1  3  5  7  9 11"
            ],
            "text/latex": "\\begin{enumerate*}\n\\item 1\n\\item 3\n\\item 5\n\\item 7\n\\item 9\n\\item 11\n\\end{enumerate*}\n",
            "text/markdown": "1. 1\n2. 3\n3. 5\n4. 7\n5. 9\n6. 11\n\n\n",
            "text/html": [
              "<style>\n",
              ".list-inline {list-style: none; margin:0; padding: 0}\n",
              ".list-inline>li {display: inline-block}\n",
              ".list-inline>li:not(:last-child)::after {content: \"\\00b7\"; padding: 0 .5ex}\n",
              "</style>\n",
              "<ol class=list-inline><li>1</li><li>3</li><li>5</li><li>7</li><li>9</li><li>11</li></ol>\n"
            ]
          },
          "metadata": {
            "tags": []
          }
        }
      ]
    },
    {
      "cell_type": "code",
      "metadata": {
        "id": "Qh0FhCOtua3_",
        "colab_type": "code",
        "colab": {
          "base_uri": "https://localhost:8080/",
          "height": 34
        },
        "outputId": "163b0161-2027-44d8-cf0a-cb5f90135533"
      },
      "source": [
        "min_rank(y)"
      ],
      "execution_count": null,
      "outputs": [
        {
          "output_type": "display_data",
          "data": {
            "text/plain": [
              "[1] 1 2 3 4 5 6"
            ],
            "text/latex": "\\begin{enumerate*}\n\\item 1\n\\item 2\n\\item 3\n\\item 4\n\\item 5\n\\item 6\n\\end{enumerate*}\n",
            "text/markdown": "1. 1\n2. 2\n3. 3\n4. 4\n5. 5\n6. 6\n\n\n",
            "text/html": [
              "<style>\n",
              ".list-inline {list-style: none; margin:0; padding: 0}\n",
              ".list-inline>li {display: inline-block}\n",
              ".list-inline>li:not(:last-child)::after {content: \"\\00b7\"; padding: 0 .5ex}\n",
              "</style>\n",
              "<ol class=list-inline><li>1</li><li>2</li><li>3</li><li>4</li><li>5</li><li>6</li></ol>\n"
            ]
          },
          "metadata": {
            "tags": []
          }
        }
      ]
    },
    {
      "cell_type": "code",
      "metadata": {
        "id": "K3aAMm3Pue57",
        "colab_type": "code",
        "colab": {
          "base_uri": "https://localhost:8080/",
          "height": 34
        },
        "outputId": "eeac084f-a046-4828-c186-73cb8be4ea40"
      },
      "source": [
        "row_number(y)"
      ],
      "execution_count": null,
      "outputs": [
        {
          "output_type": "display_data",
          "data": {
            "text/plain": [
              "[1] 1 2 3 4 5 6"
            ],
            "text/latex": "\\begin{enumerate*}\n\\item 1\n\\item 2\n\\item 3\n\\item 4\n\\item 5\n\\item 6\n\\end{enumerate*}\n",
            "text/markdown": "1. 1\n2. 2\n3. 3\n4. 4\n5. 5\n6. 6\n\n\n",
            "text/html": [
              "<style>\n",
              ".list-inline {list-style: none; margin:0; padding: 0}\n",
              ".list-inline>li {display: inline-block}\n",
              ".list-inline>li:not(:last-child)::after {content: \"\\00b7\"; padding: 0 .5ex}\n",
              "</style>\n",
              "<ol class=list-inline><li>1</li><li>2</li><li>3</li><li>4</li><li>5</li><li>6</li></ol>\n"
            ]
          },
          "metadata": {
            "tags": []
          }
        }
      ]
    },
    {
      "cell_type": "code",
      "metadata": {
        "id": "uPxJXpbFu2c7",
        "colab_type": "code",
        "colab": {
          "base_uri": "https://localhost:8080/",
          "height": 34
        },
        "outputId": "ae0353b4-1adc-4e8e-abea-5ed9642e5e2c"
      },
      "source": [
        "dense_rank(y)"
      ],
      "execution_count": null,
      "outputs": [
        {
          "output_type": "display_data",
          "data": {
            "text/plain": [
              "[1] 1 2 3 4 5 6"
            ],
            "text/latex": "\\begin{enumerate*}\n\\item 1\n\\item 2\n\\item 3\n\\item 4\n\\item 5\n\\item 6\n\\end{enumerate*}\n",
            "text/markdown": "1. 1\n2. 2\n3. 3\n4. 4\n5. 5\n6. 6\n\n\n",
            "text/html": [
              "<style>\n",
              ".list-inline {list-style: none; margin:0; padding: 0}\n",
              ".list-inline>li {display: inline-block}\n",
              ".list-inline>li:not(:last-child)::after {content: \"\\00b7\"; padding: 0 .5ex}\n",
              "</style>\n",
              "<ol class=list-inline><li>1</li><li>2</li><li>3</li><li>4</li><li>5</li><li>6</li></ol>\n"
            ]
          },
          "metadata": {
            "tags": []
          }
        }
      ]
    },
    {
      "cell_type": "code",
      "metadata": {
        "id": "pmjFSVzEu7Lg",
        "colab_type": "code",
        "colab": {
          "base_uri": "https://localhost:8080/",
          "height": 34
        },
        "outputId": "ca88e5c8-5e2e-4616-ca5e-a8d24c53758c"
      },
      "source": [
        "percent_rank(y)"
      ],
      "execution_count": null,
      "outputs": [
        {
          "output_type": "display_data",
          "data": {
            "text/plain": [
              "[1] 0.0 0.2 0.4 0.6 0.8 1.0"
            ],
            "text/latex": "\\begin{enumerate*}\n\\item 0\n\\item 0.2\n\\item 0.4\n\\item 0.6\n\\item 0.8\n\\item 1\n\\end{enumerate*}\n",
            "text/markdown": "1. 0\n2. 0.2\n3. 0.4\n4. 0.6\n5. 0.8\n6. 1\n\n\n",
            "text/html": [
              "<style>\n",
              ".list-inline {list-style: none; margin:0; padding: 0}\n",
              ".list-inline>li {display: inline-block}\n",
              ".list-inline>li:not(:last-child)::after {content: \"\\00b7\"; padding: 0 .5ex}\n",
              "</style>\n",
              "<ol class=list-inline><li>0</li><li>0.2</li><li>0.4</li><li>0.6</li><li>0.8</li><li>1</li></ol>\n"
            ]
          },
          "metadata": {
            "tags": []
          }
        }
      ]
    },
    {
      "cell_type": "markdown",
      "metadata": {
        "id": "3OPLxCqmvUkX",
        "colab_type": "text"
      },
      "source": [
        "# Operaciones de agrupamiento y agregación en R\n",
        "\n",
        "Similar a Python, el objetivo de las funciones que vamos a ver acontinuación es permitirnos **dividir-aplicar-combinar** \n",
        "\n",
        "![texto alternativo](https://github.com/diplomado-bigdata-machinelearning-udea/curso0/blob/master/s07/imagenes/group_process.png?raw=true)\n",
        "\n",
        "\n",
        "\n",
        "Vamos a usar las bases de datos de `flights` y `pollution`"
      ]
    },
    {
      "cell_type": "markdown",
      "metadata": {
        "id": "3IiP27zSE26I",
        "colab_type": "text"
      },
      "source": [
        "##Group_by()\n",
        "Para agrupar tenemos la función:\n",
        "\n",
        "```r\n",
        "group_by(.data, ..., add = FALSE)\n",
        "```\n",
        "\n",
        "Y para desagrupar:\n",
        "\n",
        "```r\n",
        "ungroup(.data, ..., add = FALSE)\n",
        "```\n",
        "\n",
        "\n",
        "La función `group_by()` agrupa un conjunto de filas seleccionado en un conjunto de filas de resumen de acuerdo con los valores de una o más columnas o expresiones."
      ]
    },
    {
      "cell_type": "code",
      "metadata": {
        "id": "4VuZUhEWkgN_",
        "colab_type": "code",
        "colab": {
          "base_uri": "https://localhost:8080/",
          "height": 1000
        },
        "outputId": "6cdc535f-558e-4826-9314-dc35dffd2c40"
      },
      "source": [
        "install.packages(\"maps\")\n",
        "library(maps)\n",
        "devtools::install_github(\"rstudio/EDAWR\")\n",
        "library(EDAWR)"
      ],
      "execution_count": 49,
      "outputs": [
        {
          "output_type": "stream",
          "text": [
            "Installing package into ‘/usr/local/lib/R/site-library’\n",
            "(as ‘lib’ is unspecified)\n",
            "\n",
            "\n",
            "Attaching package: ‘maps’\n",
            "\n",
            "\n",
            "The following object is masked from ‘package:purrr’:\n",
            "\n",
            "    map\n",
            "\n",
            "\n",
            "Downloading GitHub repo rstudio/EDAWR@master\n",
            "\n"
          ],
          "name": "stderr"
        },
        {
          "output_type": "stream",
          "text": [
            "forecast     (NA    -> 8.12       ) [CRAN]\n",
            "babynames    (NA    -> 1.0.0      ) [CRAN]\n",
            "isoband      (0.2.1 -> 0.2.2      ) [CRAN]\n",
            "farver       (2.0.1 -> 2.0.3      ) [CRAN]\n",
            "rprojroot    (1.2   -> 1.3-2      ) [CRAN]\n",
            "processx     (3.4.1 -> 3.4.2      ) [CRAN]\n",
            "zoo          (NA    -> 1.8-8      ) [CRAN]\n",
            "quadprog     (NA    -> 1.5-8      ) [CRAN]\n",
            "quantmod     (NA    -> 0.4.17     ) [CRAN]\n",
            "xts          (NA    -> 0.12-0     ) [CRAN]\n",
            "TTR          (NA    -> 0.23-6     ) [CRAN]\n",
            "curl         (4.2   -> 4.3        ) [CRAN]\n",
            "fracdiff     (NA    -> 1.5-1      ) [CRAN]\n",
            "ggplot2      (3.3.1 -> 3.3.2      ) [CRAN]\n",
            "lmtest       (NA    -> 0.9-37     ) [CRAN]\n",
            "timeDate     (NA    -> 3043.102   ) [CRAN]\n",
            "tseries      (NA    -> 0.10-47    ) [CRAN]\n",
            "urca         (NA    -> 1.3-0      ) [CRAN]\n",
            "RcppArmad... (NA    -> 0.9.900.1.0) [CRAN]\n"
          ],
          "name": "stdout"
        },
        {
          "output_type": "stream",
          "text": [
            "Installing 19 packages: forecast, babynames, isoband, farver, rprojroot, processx, zoo, quadprog, quantmod, xts, TTR, curl, fracdiff, ggplot2, lmtest, timeDate, tseries, urca, RcppArmadillo\n",
            "\n",
            "Installing packages into ‘/usr/local/lib/R/site-library’\n",
            "(as ‘lib’ is unspecified)\n",
            "\n"
          ],
          "name": "stderr"
        },
        {
          "output_type": "stream",
          "text": [
            "\u001b[32m✔\u001b[39m  \u001b[90mchecking for file ‘/tmp/RtmpqlL1OL/remotes785751b79b/rstudio-EDAWR-fbfee98/DESCRIPTION’\u001b[39m\u001b[36m\u001b[39m\n",
            "\u001b[90m─\u001b[39m\u001b[90m  \u001b[39m\u001b[90mpreparing ‘EDAWR’:\u001b[39m\u001b[36m\u001b[39m\n",
            "\u001b[32m✔\u001b[39m  \u001b[90mchecking DESCRIPTION meta-information\u001b[39m\u001b[36m\u001b[39m\n",
            "\u001b[90m─\u001b[39m\u001b[90m  \u001b[39m\u001b[90mchecking for LF line-endings in source and make files and shell scripts\u001b[39m\u001b[36m\u001b[39m\n",
            "\u001b[90m─\u001b[39m\u001b[90m  \u001b[39m\u001b[90mchecking for empty or unneeded directories\u001b[39m\u001b[36m\u001b[39m\n",
            "\u001b[90m─\u001b[39m\u001b[90m  \u001b[39m\u001b[90mlooking to see if a ‘data/datalist’ file should be added\u001b[39m\u001b[36m\u001b[39m\n",
            "\u001b[90m─\u001b[39m\u001b[90m  \u001b[39m\u001b[90mbuilding ‘EDAWR_0.1.tar.gz’\u001b[39m\u001b[36m\u001b[39m\n",
            "   \n"
          ],
          "name": "stdout"
        },
        {
          "output_type": "stream",
          "text": [
            "Installing package into ‘/usr/local/lib/R/site-library’\n",
            "(as ‘lib’ is unspecified)\n",
            "\n",
            "\n",
            "Attaching package: ‘EDAWR’\n",
            "\n",
            "\n",
            "The following object is masked _by_ ‘.GlobalEnv’:\n",
            "\n",
            "    y\n",
            "\n",
            "\n",
            "The following object is masked from ‘package:dplyr’:\n",
            "\n",
            "    storms\n",
            "\n",
            "\n",
            "The following objects are masked from ‘package:tidyr’:\n",
            "\n",
            "    population, who\n",
            "\n",
            "\n"
          ],
          "name": "stderr"
        }
      ]
    },
    {
      "cell_type": "code",
      "metadata": {
        "id": "qyOnJLnVaFCH",
        "colab_type": "code",
        "colab": {
          "base_uri": "https://localhost:8080/",
          "height": 204
        },
        "outputId": "4e20a106-71bd-4837-b995-d993b29f3df0"
      },
      "source": [
        "pollution"
      ],
      "execution_count": 50,
      "outputs": [
        {
          "output_type": "display_data",
          "data": {
            "text/plain": [
              "  city     size  amount\n",
              "1 New York large  23   \n",
              "2 New York small  14   \n",
              "3 London   large  22   \n",
              "4 London   small  16   \n",
              "5 Beijing  large 121   \n",
              "6 Beijing  small  56   "
            ],
            "text/latex": "A data.frame: 6 × 3\n\\begin{tabular}{lll}\n city & size & amount\\\\\n <chr> & <chr> & <dbl>\\\\\n\\hline\n\t New York & large &  23\\\\\n\t New York & small &  14\\\\\n\t London   & large &  22\\\\\n\t London   & small &  16\\\\\n\t Beijing  & large & 121\\\\\n\t Beijing  & small &  56\\\\\n\\end{tabular}\n",
            "text/markdown": "\nA data.frame: 6 × 3\n\n| city &lt;chr&gt; | size &lt;chr&gt; | amount &lt;dbl&gt; |\n|---|---|---|\n| New York | large |  23 |\n| New York | small |  14 |\n| London   | large |  22 |\n| London   | small |  16 |\n| Beijing  | large | 121 |\n| Beijing  | small |  56 |\n\n",
            "text/html": [
              "<table>\n",
              "<caption>A data.frame: 6 × 3</caption>\n",
              "<thead>\n",
              "\t<tr><th scope=col>city</th><th scope=col>size</th><th scope=col>amount</th></tr>\n",
              "\t<tr><th scope=col>&lt;chr&gt;</th><th scope=col>&lt;chr&gt;</th><th scope=col>&lt;dbl&gt;</th></tr>\n",
              "</thead>\n",
              "<tbody>\n",
              "\t<tr><td>New York</td><td>large</td><td> 23</td></tr>\n",
              "\t<tr><td>New York</td><td>small</td><td> 14</td></tr>\n",
              "\t<tr><td>London  </td><td>large</td><td> 22</td></tr>\n",
              "\t<tr><td>London  </td><td>small</td><td> 16</td></tr>\n",
              "\t<tr><td>Beijing </td><td>large</td><td>121</td></tr>\n",
              "\t<tr><td>Beijing </td><td>small</td><td> 56</td></tr>\n",
              "</tbody>\n",
              "</table>\n"
            ]
          },
          "metadata": {
            "tags": []
          }
        }
      ]
    },
    {
      "cell_type": "code",
      "metadata": {
        "id": "H4nz0OG_FSJ7",
        "colab_type": "code",
        "colab": {}
      },
      "source": [
        "by_size <- group_by(pollution, size)"
      ],
      "execution_count": 51,
      "outputs": []
    },
    {
      "cell_type": "code",
      "metadata": {
        "id": "ExgVETB_FKw4",
        "colab_type": "code",
        "colab": {
          "base_uri": "https://localhost:8080/",
          "height": 204
        },
        "outputId": "45b54fe8-6bfd-496f-dd77-5c055080b4d9"
      },
      "source": [
        "by_size"
      ],
      "execution_count": 52,
      "outputs": [
        {
          "output_type": "display_data",
          "data": {
            "text/plain": [
              "  city     size  amount\n",
              "1 New York large  23   \n",
              "2 New York small  14   \n",
              "3 London   large  22   \n",
              "4 London   small  16   \n",
              "5 Beijing  large 121   \n",
              "6 Beijing  small  56   "
            ],
            "text/latex": "A grouped\\_df: 6 × 3\n\\begin{tabular}{lll}\n city & size & amount\\\\\n <chr> & <chr> & <dbl>\\\\\n\\hline\n\t New York & large &  23\\\\\n\t New York & small &  14\\\\\n\t London   & large &  22\\\\\n\t London   & small &  16\\\\\n\t Beijing  & large & 121\\\\\n\t Beijing  & small &  56\\\\\n\\end{tabular}\n",
            "text/markdown": "\nA grouped_df: 6 × 3\n\n| city &lt;chr&gt; | size &lt;chr&gt; | amount &lt;dbl&gt; |\n|---|---|---|\n| New York | large |  23 |\n| New York | small |  14 |\n| London   | large |  22 |\n| London   | small |  16 |\n| Beijing  | large | 121 |\n| Beijing  | small |  56 |\n\n",
            "text/html": [
              "<table>\n",
              "<caption>A grouped_df: 6 × 3</caption>\n",
              "<thead>\n",
              "\t<tr><th scope=col>city</th><th scope=col>size</th><th scope=col>amount</th></tr>\n",
              "\t<tr><th scope=col>&lt;chr&gt;</th><th scope=col>&lt;chr&gt;</th><th scope=col>&lt;dbl&gt;</th></tr>\n",
              "</thead>\n",
              "<tbody>\n",
              "\t<tr><td>New York</td><td>large</td><td> 23</td></tr>\n",
              "\t<tr><td>New York</td><td>small</td><td> 14</td></tr>\n",
              "\t<tr><td>London  </td><td>large</td><td> 22</td></tr>\n",
              "\t<tr><td>London  </td><td>small</td><td> 16</td></tr>\n",
              "\t<tr><td>Beijing </td><td>large</td><td>121</td></tr>\n",
              "\t<tr><td>Beijing </td><td>small</td><td> 56</td></tr>\n",
              "</tbody>\n",
              "</table>\n"
            ]
          },
          "metadata": {
            "tags": []
          }
        }
      ]
    },
    {
      "cell_type": "markdown",
      "metadata": {
        "id": "ZcD6-xMbGSII",
        "colab_type": "text"
      },
      "source": [
        "Como podemos ver por si sola no hace mucho, pero al combinarla con `sumarise()` o `mutate()` podemos obtener tablas similares a las obtenidas con python, en donde resumimos información según la agrupación. "
      ]
    },
    {
      "cell_type": "code",
      "metadata": {
        "id": "wsvXbUG2GRPB",
        "colab_type": "code",
        "colab": {
          "base_uri": "https://localhost:8080/",
          "height": 154
        },
        "outputId": "526740cc-3e40-45d9-f3f7-9f48e597566c"
      },
      "source": [
        "info <- summarise(by_size, mean = mean(amount), sum = sum(amount), count = n())\n",
        "info "
      ],
      "execution_count": 53,
      "outputs": [
        {
          "output_type": "stream",
          "text": [
            "`summarise()` ungrouping output (override with `.groups` argument)\n",
            "\n"
          ],
          "name": "stderr"
        },
        {
          "output_type": "display_data",
          "data": {
            "text/plain": [
              "  size  mean     sum count\n",
              "1 large 55.33333 166 3    \n",
              "2 small 28.66667  86 3    "
            ],
            "text/latex": "A tibble: 2 × 4\n\\begin{tabular}{llll}\n size & mean & sum & count\\\\\n <chr> & <dbl> & <dbl> & <int>\\\\\n\\hline\n\t large & 55.33333 & 166 & 3\\\\\n\t small & 28.66667 &  86 & 3\\\\\n\\end{tabular}\n",
            "text/markdown": "\nA tibble: 2 × 4\n\n| size &lt;chr&gt; | mean &lt;dbl&gt; | sum &lt;dbl&gt; | count &lt;int&gt; |\n|---|---|---|---|\n| large | 55.33333 | 166 | 3 |\n| small | 28.66667 |  86 | 3 |\n\n",
            "text/html": [
              "<table>\n",
              "<caption>A tibble: 2 × 4</caption>\n",
              "<thead>\n",
              "\t<tr><th scope=col>size</th><th scope=col>mean</th><th scope=col>sum</th><th scope=col>count</th></tr>\n",
              "\t<tr><th scope=col>&lt;chr&gt;</th><th scope=col>&lt;dbl&gt;</th><th scope=col>&lt;dbl&gt;</th><th scope=col>&lt;int&gt;</th></tr>\n",
              "</thead>\n",
              "<tbody>\n",
              "\t<tr><td>large</td><td>55.33333</td><td>166</td><td>3</td></tr>\n",
              "\t<tr><td>small</td><td>28.66667</td><td> 86</td><td>3</td></tr>\n",
              "</tbody>\n",
              "</table>\n"
            ]
          },
          "metadata": {
            "tags": []
          }
        }
      ]
    },
    {
      "cell_type": "code",
      "metadata": {
        "id": "U-PPomJKYdE9",
        "colab_type": "code",
        "colab": {
          "base_uri": "https://localhost:8080/",
          "height": 133
        },
        "outputId": "42f51918-d153-4458-ccbe-97b5abc1f3c0"
      },
      "source": [
        "reversed <- ungroup(info) # Elimina cualqcuer agrupación  \n",
        "summarise(reversed, count = n())"
      ],
      "execution_count": 56,
      "outputs": [
        {
          "output_type": "display_data",
          "data": {
            "text/plain": [
              "  count\n",
              "1 2    "
            ],
            "text/latex": "A tibble: 1 × 1\n\\begin{tabular}{l}\n count\\\\\n <int>\\\\\n\\hline\n\t 2\\\\\n\\end{tabular}\n",
            "text/markdown": "\nA tibble: 1 × 1\n\n| count &lt;int&gt; |\n|---|\n| 2 |\n\n",
            "text/html": [
              "<table>\n",
              "<caption>A tibble: 1 × 1</caption>\n",
              "<thead>\n",
              "\t<tr><th scope=col>count</th></tr>\n",
              "\t<tr><th scope=col>&lt;int&gt;</th></tr>\n",
              "</thead>\n",
              "<tbody>\n",
              "\t<tr><td>2</td></tr>\n",
              "</tbody>\n",
              "</table>\n"
            ]
          },
          "metadata": {
            "tags": []
          }
        }
      ]
    },
    {
      "cell_type": "markdown",
      "metadata": {
        "id": "RMwsiA8pH3Ho",
        "colab_type": "text"
      },
      "source": [
        "## Summarise()\n",
        "\n",
        "La función `summarise()` funciona de forma análoga a la función mutate, excepto que en lugar de añadir nuevas columnas crea un nuevo data frame. Así por ejemplo, para calcular la mediana y la varianza de la variable amount en el conjunto de datos pollution:\n"
      ]
    },
    {
      "cell_type": "code",
      "metadata": {
        "id": "zm4BFEqiGKE9",
        "colab_type": "code",
        "colab": {
          "base_uri": "https://localhost:8080/",
          "height": 99
        },
        "outputId": "90196a40-2c23-4b90-f050-2ad478452d67"
      },
      "source": [
        "summarise(pollution, mediana = median(amount), variance = var(amount))"
      ],
      "execution_count": 57,
      "outputs": [
        {
          "output_type": "display_data",
          "data": {
            "text/plain": [
              "  mediana variance\n",
              "1 22.5    1731.6  "
            ],
            "text/latex": "A data.frame: 1 × 2\n\\begin{tabular}{ll}\n mediana & variance\\\\\n <dbl> & <dbl>\\\\\n\\hline\n\t 22.5 & 1731.6\\\\\n\\end{tabular}\n",
            "text/markdown": "\nA data.frame: 1 × 2\n\n| mediana &lt;dbl&gt; | variance &lt;dbl&gt; |\n|---|---|\n| 22.5 | 1731.6 |\n\n",
            "text/html": [
              "<table>\n",
              "<caption>A data.frame: 1 × 2</caption>\n",
              "<thead>\n",
              "\t<tr><th scope=col>mediana</th><th scope=col>variance</th></tr>\n",
              "\t<tr><th scope=col>&lt;dbl&gt;</th><th scope=col>&lt;dbl&gt;</th></tr>\n",
              "</thead>\n",
              "<tbody>\n",
              "\t<tr><td>22.5</td><td>1731.6</td></tr>\n",
              "</tbody>\n",
              "</table>\n"
            ]
          },
          "metadata": {
            "tags": []
          }
        }
      ]
    },
    {
      "cell_type": "markdown",
      "metadata": {
        "id": "QVqZ54VTIpW4",
        "colab_type": "text"
      },
      "source": [
        "### Funciones que se pueden usar\n",
        "<table>\n",
        "<thead>\n",
        "<tr>\n",
        "<th style=\"text-align:center\"></th>\n",
        "<th style=\"text-align:center\">base</th>\n",
        "</tr>\n",
        "</thead>\n",
        "<tbody>\n",
        "<tr>\n",
        "<td style=\"text-align:center\">min(), max()</td>\n",
        "<td style=\"text-align:center\">Valores max y min</td>\n",
        "</tr>\n",
        "<tr>\n",
        "<td style=\"text-align:center\">mean()</td>\n",
        "<td style=\"text-align:center\">media</td>\n",
        "</tr>\n",
        "<tr>\n",
        "<td style=\"text-align:center\">median()</td>\n",
        "<td style=\"text-align:center\">mediana</td>\n",
        "</tr>\n",
        "<tr>\n",
        "<td style=\"text-align:center\">sum()</td>\n",
        "<td style=\"text-align:center\">suma de los valores</td>\n",
        "</tr>\n",
        "<tr>\n",
        "<td style=\"text-align:center\">var, sd()</td>\n",
        "<td style=\"text-align:center\">varianza y desviación típica</td>\n",
        "</tr>\n",
        "</tbody>\n",
        "</table>\n",
        "\n",
        "<table>\n",
        "<thead>\n",
        "<tr>\n",
        "<th style=\"text-align:center\"></th>\n",
        "<th style=\"text-align:center\">dplyr</th>\n",
        "</tr>\n",
        "</thead>\n",
        "<tbody>\n",
        "<tr>\n",
        "<td style=\"text-align:center\">first()</td>\n",
        "<td style=\"text-align:center\">primer valor en un vector</td>\n",
        "</tr>\n",
        "<tr>\n",
        "<td style=\"text-align:center\">last()</td>\n",
        "<td style=\"text-align:center\">el último valor en un vector</td>\n",
        "</tr>\n",
        "<tr>\n",
        "<td style=\"text-align:center\">n()</td>\n",
        "<td style=\"text-align:center\">el número de valores en un vector</td>\n",
        "</tr>\n",
        "<tr>\n",
        "<td style=\"text-align:center\">n_distinct()</td>\n",
        "<td style=\"text-align:center\">el número de valores distintos en un vector</td>\n",
        "</tr>\n",
        "<tr>\n",
        "<td style=\"text-align:center\">nth()</td>\n",
        "<td style=\"text-align:center\">Extrar el valor que ocupa la posición <em>n</em> en un vector</td>\n",
        "</tr>\n",
        "</tbody>\n",
        "</table>\n",
        "\n"
      ]
    },
    {
      "cell_type": "markdown",
      "metadata": {
        "id": "r9n1fgkFJAHx",
        "colab_type": "text"
      },
      "source": [
        "### El operador pipe\n",
        "\n",
        "El operador pipeline **%>%** es útil para concatenar múltiples operaciones en dplyr, por ejemplo podemos reescribir el anterior comando como\n"
      ]
    },
    {
      "cell_type": "code",
      "metadata": {
        "id": "F6H50PKSIS_t",
        "colab_type": "code",
        "colab": {
          "base_uri": "https://localhost:8080/",
          "height": 99
        },
        "outputId": "40869d6e-3974-40ae-8e03-c2659b8da78d"
      },
      "source": [
        "pollution %>% summarise(mediana = median(amount), variance = var(amount))"
      ],
      "execution_count": 58,
      "outputs": [
        {
          "output_type": "display_data",
          "data": {
            "text/plain": [
              "  mediana variance\n",
              "1 22.5    1731.6  "
            ],
            "text/latex": "A data.frame: 1 × 2\n\\begin{tabular}{ll}\n mediana & variance\\\\\n <dbl> & <dbl>\\\\\n\\hline\n\t 22.5 & 1731.6\\\\\n\\end{tabular}\n",
            "text/markdown": "\nA data.frame: 1 × 2\n\n| mediana &lt;dbl&gt; | variance &lt;dbl&gt; |\n|---|---|\n| 22.5 | 1731.6 |\n\n",
            "text/html": [
              "<table>\n",
              "<caption>A data.frame: 1 × 2</caption>\n",
              "<thead>\n",
              "\t<tr><th scope=col>mediana</th><th scope=col>variance</th></tr>\n",
              "\t<tr><th scope=col>&lt;dbl&gt;</th><th scope=col>&lt;dbl&gt;</th></tr>\n",
              "</thead>\n",
              "<tbody>\n",
              "\t<tr><td>22.5</td><td>1731.6</td></tr>\n",
              "</tbody>\n",
              "</table>\n"
            ]
          },
          "metadata": {
            "tags": []
          }
        }
      ]
    },
    {
      "cell_type": "markdown",
      "metadata": {
        "id": "XrAxxDNNJXV6",
        "colab_type": "text"
      },
      "source": [
        "### Trabajando con groub_by()\n",
        "\n",
        "Usemos el conjunto de datos de vuelo, que es un conjunto de más datos. Si desearamos hallar el promedio de retraso en los vuelos por día, primero deberíamos agrupar por fechas y luego usar una función que nos dé las medias por cada una de ellas, para ello podemos usar:\n",
        "\n",
        "```r\n",
        "by_day <- group_by(flights, year, month, day)\n",
        "summarise(by_day, delay = mean(dep_delay, na.rm = TRUE))\n",
        "```\n",
        "\n",
        "O por tuberías: "
      ]
    },
    {
      "cell_type": "code",
      "metadata": {
        "id": "JTfbbIBpJ9PG",
        "colab_type": "code",
        "colab": {
          "base_uri": "https://localhost:8080/",
          "height": 51
        },
        "outputId": "46f16204-3046-4553-c6a7-da99bb83ff96"
      },
      "source": [
        "delays <- flights %>% \n",
        "          group_by(year, month, day) %>%\n",
        "          summarise(delay = mean(dep_delay, na.rm = TRUE))"
      ],
      "execution_count": 61,
      "outputs": [
        {
          "output_type": "stream",
          "text": [
            "`summarise()` regrouping output by 'year', 'month' (override with `.groups` argument)\n",
            "\n"
          ],
          "name": "stderr"
        }
      ]
    },
    {
      "cell_type": "code",
      "metadata": {
        "id": "C5FIMKFdKGkP",
        "colab_type": "code",
        "colab": {
          "base_uri": "https://localhost:8080/",
          "height": 204
        },
        "outputId": "71548ca5-01d5-4f95-b20a-270df1a5d076"
      },
      "source": [
        "head(delays)"
      ],
      "execution_count": 62,
      "outputs": [
        {
          "output_type": "display_data",
          "data": {
            "text/plain": [
              "  year month day delay    \n",
              "1 2013 1     1   11.548926\n",
              "2 2013 1     2   13.858824\n",
              "3 2013 1     3   10.987832\n",
              "4 2013 1     4    8.951595\n",
              "5 2013 1     5    5.732218\n",
              "6 2013 1     6    7.148014"
            ],
            "text/latex": "A grouped\\_df: 6 × 4\n\\begin{tabular}{llll}\n year & month & day & delay\\\\\n <int> & <int> & <int> & <dbl>\\\\\n\\hline\n\t 2013 & 1 & 1 & 11.548926\\\\\n\t 2013 & 1 & 2 & 13.858824\\\\\n\t 2013 & 1 & 3 & 10.987832\\\\\n\t 2013 & 1 & 4 &  8.951595\\\\\n\t 2013 & 1 & 5 &  5.732218\\\\\n\t 2013 & 1 & 6 &  7.148014\\\\\n\\end{tabular}\n",
            "text/markdown": "\nA grouped_df: 6 × 4\n\n| year &lt;int&gt; | month &lt;int&gt; | day &lt;int&gt; | delay &lt;dbl&gt; |\n|---|---|---|---|\n| 2013 | 1 | 1 | 11.548926 |\n| 2013 | 1 | 2 | 13.858824 |\n| 2013 | 1 | 3 | 10.987832 |\n| 2013 | 1 | 4 |  8.951595 |\n| 2013 | 1 | 5 |  5.732218 |\n| 2013 | 1 | 6 |  7.148014 |\n\n",
            "text/html": [
              "<table>\n",
              "<caption>A grouped_df: 6 × 4</caption>\n",
              "<thead>\n",
              "\t<tr><th scope=col>year</th><th scope=col>month</th><th scope=col>day</th><th scope=col>delay</th></tr>\n",
              "\t<tr><th scope=col>&lt;int&gt;</th><th scope=col>&lt;int&gt;</th><th scope=col>&lt;int&gt;</th><th scope=col>&lt;dbl&gt;</th></tr>\n",
              "</thead>\n",
              "<tbody>\n",
              "\t<tr><td>2013</td><td>1</td><td>1</td><td>11.548926</td></tr>\n",
              "\t<tr><td>2013</td><td>1</td><td>2</td><td>13.858824</td></tr>\n",
              "\t<tr><td>2013</td><td>1</td><td>3</td><td>10.987832</td></tr>\n",
              "\t<tr><td>2013</td><td>1</td><td>4</td><td> 8.951595</td></tr>\n",
              "\t<tr><td>2013</td><td>1</td><td>5</td><td> 5.732218</td></tr>\n",
              "\t<tr><td>2013</td><td>1</td><td>6</td><td> 7.148014</td></tr>\n",
              "</tbody>\n",
              "</table>\n"
            ]
          },
          "metadata": {
            "tags": []
          }
        }
      ]
    },
    {
      "cell_type": "markdown",
      "metadata": {
        "id": "krIjnrP_Mk0-",
        "colab_type": "text"
      },
      "source": [
        "### Trabajando con más funciones \n",
        "\n",
        "Ahora imaginemos algo más complejo, queremos hacer una gráfica para explorar la relación entre la distancia media de los vuelos por destino y el retraso promedio. Para ello encadenamos:"
      ]
    },
    {
      "cell_type": "code",
      "metadata": {
        "id": "yCL_SQyXMZR7",
        "colab_type": "code",
        "colab": {
          "base_uri": "https://localhost:8080/",
          "height": 51
        },
        "outputId": "0f50989e-ddd4-4afc-bc74-9505de0c2c8a"
      },
      "source": [
        "delays <- flights %>% \n",
        "  group_by(dest) %>% \n",
        "  summarise(\n",
        "    count = n(),\n",
        "    dist = mean(distance, na.rm = TRUE),\n",
        "    delay = mean(arr_delay, na.rm = TRUE)\n",
        "  ) %>% \n",
        "  filter(count > 20, dest != \"HNL\")"
      ],
      "execution_count": 63,
      "outputs": [
        {
          "output_type": "stream",
          "text": [
            "`summarise()` ungrouping output (override with `.groups` argument)\n",
            "\n"
          ],
          "name": "stderr"
        }
      ]
    },
    {
      "cell_type": "code",
      "metadata": {
        "id": "R3t_Q0xucjzn",
        "colab_type": "code",
        "colab": {
          "base_uri": "https://localhost:8080/",
          "height": 204
        },
        "outputId": "658d802b-8234-42a2-ed43-08075b087c08"
      },
      "source": [
        "head(delays)"
      ],
      "execution_count": 65,
      "outputs": [
        {
          "output_type": "display_data",
          "data": {
            "text/plain": [
              "  dest count dist      delay    \n",
              "1 ABQ    254 1826.0000  4.381890\n",
              "2 ACK    265  199.0000  4.852273\n",
              "3 ALB    439  143.0000 14.397129\n",
              "4 ATL  17215  757.1082 11.300113\n",
              "5 AUS   2439 1514.2530  6.019909\n",
              "6 AVL    275  583.5818  8.003831"
            ],
            "text/latex": "A tibble: 6 × 4\n\\begin{tabular}{llll}\n dest & count & dist & delay\\\\\n <chr> & <int> & <dbl> & <dbl>\\\\\n\\hline\n\t ABQ &   254 & 1826.0000 &  4.381890\\\\\n\t ACK &   265 &  199.0000 &  4.852273\\\\\n\t ALB &   439 &  143.0000 & 14.397129\\\\\n\t ATL & 17215 &  757.1082 & 11.300113\\\\\n\t AUS &  2439 & 1514.2530 &  6.019909\\\\\n\t AVL &   275 &  583.5818 &  8.003831\\\\\n\\end{tabular}\n",
            "text/markdown": "\nA tibble: 6 × 4\n\n| dest &lt;chr&gt; | count &lt;int&gt; | dist &lt;dbl&gt; | delay &lt;dbl&gt; |\n|---|---|---|---|\n| ABQ |   254 | 1826.0000 |  4.381890 |\n| ACK |   265 |  199.0000 |  4.852273 |\n| ALB |   439 |  143.0000 | 14.397129 |\n| ATL | 17215 |  757.1082 | 11.300113 |\n| AUS |  2439 | 1514.2530 |  6.019909 |\n| AVL |   275 |  583.5818 |  8.003831 |\n\n",
            "text/html": [
              "<table>\n",
              "<caption>A tibble: 6 × 4</caption>\n",
              "<thead>\n",
              "\t<tr><th scope=col>dest</th><th scope=col>count</th><th scope=col>dist</th><th scope=col>delay</th></tr>\n",
              "\t<tr><th scope=col>&lt;chr&gt;</th><th scope=col>&lt;int&gt;</th><th scope=col>&lt;dbl&gt;</th><th scope=col>&lt;dbl&gt;</th></tr>\n",
              "</thead>\n",
              "<tbody>\n",
              "\t<tr><td>ABQ</td><td>  254</td><td>1826.0000</td><td> 4.381890</td></tr>\n",
              "\t<tr><td>ACK</td><td>  265</td><td> 199.0000</td><td> 4.852273</td></tr>\n",
              "\t<tr><td>ALB</td><td>  439</td><td> 143.0000</td><td>14.397129</td></tr>\n",
              "\t<tr><td>ATL</td><td>17215</td><td> 757.1082</td><td>11.300113</td></tr>\n",
              "\t<tr><td>AUS</td><td> 2439</td><td>1514.2530</td><td> 6.019909</td></tr>\n",
              "\t<tr><td>AVL</td><td>  275</td><td> 583.5818</td><td> 8.003831</td></tr>\n",
              "</tbody>\n",
              "</table>\n"
            ]
          },
          "metadata": {
            "tags": []
          }
        }
      ]
    },
    {
      "cell_type": "code",
      "metadata": {
        "id": "1v4TZd58NqS5",
        "colab_type": "code",
        "colab": {
          "base_uri": "https://localhost:8080/",
          "height": 471
        },
        "outputId": "8bec61de-3fad-47de-b895-deaa2488fb0b"
      },
      "source": [
        "options(repr.plot.width = 15, repr.plot.height = 7)\n",
        "ggplot(data = delays, mapping = aes(x = dist, y = delay)) +\n",
        "  geom_point(aes(size = count), alpha = 1/3) +\n",
        "  geom_smooth(se = FALSE)+\n",
        "  theme(text = element_text(size=20))"
      ],
      "execution_count": 66,
      "outputs": [
        {
          "output_type": "stream",
          "text": [
            "`geom_smooth()` using method = 'loess' and formula 'y ~ x'\n",
            "\n"
          ],
          "name": "stderr"
        },
        {
          "output_type": "display_data",
          "data": {
            "image/png": "[encoded data removed]",
            "text/plain": [
              "plot without title"
            ]
          },
          "metadata": {
            "tags": [],
            "image/png": {
              "width": 900,
              "height": 420
            },
            "text/plain": {
              "width": 900,
              "height": 420
            }
          }
        }
      ]
    },
    {
      "cell_type": "markdown",
      "metadata": {
        "id": "NikIEmCMOxa5",
        "colab_type": "text"
      },
      "source": [
        "### Valores perdidos, recuentos y funciones varias\n",
        "\n",
        "Un parte importante de las funciones de agregación es el **na.rm=True** ¿qué pasaría si no lo agregamos? Puede que el resultado de la función de agregación sea un **NA** debido a un valor faltante. "
      ]
    },
    {
      "cell_type": "code",
      "metadata": {
        "id": "mqBhzRKxOCYZ",
        "colab_type": "code",
        "colab": {
          "base_uri": "https://localhost:8080/",
          "height": 238
        },
        "outputId": "830af85d-20ac-4ca5-edb8-efc3379e6224"
      },
      "source": [
        "head(flights %>% \n",
        "  group_by(year, month, day) %>% \n",
        "  summarise(mean = mean(dep_delay)))"
      ],
      "execution_count": 67,
      "outputs": [
        {
          "output_type": "stream",
          "text": [
            "`summarise()` regrouping output by 'year', 'month' (override with `.groups` argument)\n",
            "\n"
          ],
          "name": "stderr"
        },
        {
          "output_type": "display_data",
          "data": {
            "text/plain": [
              "  year month day mean\n",
              "1 2013 1     1   NA  \n",
              "2 2013 1     2   NA  \n",
              "3 2013 1     3   NA  \n",
              "4 2013 1     4   NA  \n",
              "5 2013 1     5   NA  \n",
              "6 2013 1     6   NA  "
            ],
            "text/latex": "A grouped\\_df: 6 × 4\n\\begin{tabular}{llll}\n year & month & day & mean\\\\\n <int> & <int> & <int> & <dbl>\\\\\n\\hline\n\t 2013 & 1 & 1 & NA\\\\\n\t 2013 & 1 & 2 & NA\\\\\n\t 2013 & 1 & 3 & NA\\\\\n\t 2013 & 1 & 4 & NA\\\\\n\t 2013 & 1 & 5 & NA\\\\\n\t 2013 & 1 & 6 & NA\\\\\n\\end{tabular}\n",
            "text/markdown": "\nA grouped_df: 6 × 4\n\n| year &lt;int&gt; | month &lt;int&gt; | day &lt;int&gt; | mean &lt;dbl&gt; |\n|---|---|---|---|\n| 2013 | 1 | 1 | NA |\n| 2013 | 1 | 2 | NA |\n| 2013 | 1 | 3 | NA |\n| 2013 | 1 | 4 | NA |\n| 2013 | 1 | 5 | NA |\n| 2013 | 1 | 6 | NA |\n\n",
            "text/html": [
              "<table>\n",
              "<caption>A grouped_df: 6 × 4</caption>\n",
              "<thead>\n",
              "\t<tr><th scope=col>year</th><th scope=col>month</th><th scope=col>day</th><th scope=col>mean</th></tr>\n",
              "\t<tr><th scope=col>&lt;int&gt;</th><th scope=col>&lt;int&gt;</th><th scope=col>&lt;int&gt;</th><th scope=col>&lt;dbl&gt;</th></tr>\n",
              "</thead>\n",
              "<tbody>\n",
              "\t<tr><td>2013</td><td>1</td><td>1</td><td>NA</td></tr>\n",
              "\t<tr><td>2013</td><td>1</td><td>2</td><td>NA</td></tr>\n",
              "\t<tr><td>2013</td><td>1</td><td>3</td><td>NA</td></tr>\n",
              "\t<tr><td>2013</td><td>1</td><td>4</td><td>NA</td></tr>\n",
              "\t<tr><td>2013</td><td>1</td><td>5</td><td>NA</td></tr>\n",
              "\t<tr><td>2013</td><td>1</td><td>6</td><td>NA</td></tr>\n",
              "</tbody>\n",
              "</table>\n"
            ]
          },
          "metadata": {
            "tags": []
          }
        }
      ]
    },
    {
      "cell_type": "markdown",
      "metadata": {
        "id": "F3_76qd_RgpF",
        "colab_type": "text"
      },
      "source": [
        "Por supuesto la falta de valores es en sí información, como por ejemplo la falta de un valor debido a un vuelo cancelado, para ello podemos filtrar nuestro datos sin faltantes:"
      ]
    },
    {
      "cell_type": "code",
      "metadata": {
        "id": "mcyT1H0zdKGZ",
        "colab_type": "code",
        "colab": {
          "base_uri": "https://localhost:8080/",
          "height": 204
        },
        "outputId": "09539103-3b76-423f-a152-06b335e7c9ad"
      },
      "source": [
        "head(flights)"
      ],
      "execution_count": 68,
      "outputs": [
        {
          "output_type": "display_data",
          "data": {
            "text/plain": [
              "  year month day dep_time sched_dep_time dep_delay arr_time sched_arr_time\n",
              "1 2013 1     1   517      515             2         830      819          \n",
              "2 2013 1     1   533      529             4         850      830          \n",
              "3 2013 1     1   542      540             2         923      850          \n",
              "4 2013 1     1   544      545            -1        1004     1022          \n",
              "5 2013 1     1   554      600            -6         812      837          \n",
              "6 2013 1     1   554      558            -4         740      728          \n",
              "  arr_delay carrier flight tailnum origin dest air_time distance hour minute\n",
              "1  11       UA      1545   N14228  EWR    IAH  227      1400     5    15    \n",
              "2  20       UA      1714   N24211  LGA    IAH  227      1416     5    29    \n",
              "3  33       AA      1141   N619AA  JFK    MIA  160      1089     5    40    \n",
              "4 -18       B6       725   N804JB  JFK    BQN  183      1576     5    45    \n",
              "5 -25       DL       461   N668DN  LGA    ATL  116       762     6     0    \n",
              "6  12       UA      1696   N39463  EWR    ORD  150       719     5    58    \n",
              "  time_hour          \n",
              "1 2013-01-01 05:00:00\n",
              "2 2013-01-01 05:00:00\n",
              "3 2013-01-01 05:00:00\n",
              "4 2013-01-01 05:00:00\n",
              "5 2013-01-01 06:00:00\n",
              "6 2013-01-01 05:00:00"
            ],
            "text/latex": "A tibble: 6 × 19\n\\begin{tabular}{lllllllllllllllllll}\n year & month & day & dep\\_time & sched\\_dep\\_time & dep\\_delay & arr\\_time & sched\\_arr\\_time & arr\\_delay & carrier & flight & tailnum & origin & dest & air\\_time & distance & hour & minute & time\\_hour\\\\\n <int> & <int> & <int> & <int> & <int> & <dbl> & <int> & <int> & <dbl> & <chr> & <int> & <chr> & <chr> & <chr> & <dbl> & <dbl> & <dbl> & <dbl> & <dttm>\\\\\n\\hline\n\t 2013 & 1 & 1 & 517 & 515 &  2 &  830 &  819 &  11 & UA & 1545 & N14228 & EWR & IAH & 227 & 1400 & 5 & 15 & 2013-01-01 05:00:00\\\\\n\t 2013 & 1 & 1 & 533 & 529 &  4 &  850 &  830 &  20 & UA & 1714 & N24211 & LGA & IAH & 227 & 1416 & 5 & 29 & 2013-01-01 05:00:00\\\\\n\t 2013 & 1 & 1 & 542 & 540 &  2 &  923 &  850 &  33 & AA & 1141 & N619AA & JFK & MIA & 160 & 1089 & 5 & 40 & 2013-01-01 05:00:00\\\\\n\t 2013 & 1 & 1 & 544 & 545 & -1 & 1004 & 1022 & -18 & B6 &  725 & N804JB & JFK & BQN & 183 & 1576 & 5 & 45 & 2013-01-01 05:00:00\\\\\n\t 2013 & 1 & 1 & 554 & 600 & -6 &  812 &  837 & -25 & DL &  461 & N668DN & LGA & ATL & 116 &  762 & 6 &  0 & 2013-01-01 06:00:00\\\\\n\t 2013 & 1 & 1 & 554 & 558 & -4 &  740 &  728 &  12 & UA & 1696 & N39463 & EWR & ORD & 150 &  719 & 5 & 58 & 2013-01-01 05:00:00\\\\\n\\end{tabular}\n",
            "text/markdown": "\nA tibble: 6 × 19\n\n| year &lt;int&gt; | month &lt;int&gt; | day &lt;int&gt; | dep_time &lt;int&gt; | sched_dep_time &lt;int&gt; | dep_delay &lt;dbl&gt; | arr_time &lt;int&gt; | sched_arr_time &lt;int&gt; | arr_delay &lt;dbl&gt; | carrier &lt;chr&gt; | flight &lt;int&gt; | tailnum &lt;chr&gt; | origin &lt;chr&gt; | dest &lt;chr&gt; | air_time &lt;dbl&gt; | distance &lt;dbl&gt; | hour &lt;dbl&gt; | minute &lt;dbl&gt; | time_hour &lt;dttm&gt; |\n|---|---|---|---|---|---|---|---|---|---|---|---|---|---|---|---|---|---|---|\n| 2013 | 1 | 1 | 517 | 515 |  2 |  830 |  819 |  11 | UA | 1545 | N14228 | EWR | IAH | 227 | 1400 | 5 | 15 | 2013-01-01 05:00:00 |\n| 2013 | 1 | 1 | 533 | 529 |  4 |  850 |  830 |  20 | UA | 1714 | N24211 | LGA | IAH | 227 | 1416 | 5 | 29 | 2013-01-01 05:00:00 |\n| 2013 | 1 | 1 | 542 | 540 |  2 |  923 |  850 |  33 | AA | 1141 | N619AA | JFK | MIA | 160 | 1089 | 5 | 40 | 2013-01-01 05:00:00 |\n| 2013 | 1 | 1 | 544 | 545 | -1 | 1004 | 1022 | -18 | B6 |  725 | N804JB | JFK | BQN | 183 | 1576 | 5 | 45 | 2013-01-01 05:00:00 |\n| 2013 | 1 | 1 | 554 | 600 | -6 |  812 |  837 | -25 | DL |  461 | N668DN | LGA | ATL | 116 |  762 | 6 |  0 | 2013-01-01 06:00:00 |\n| 2013 | 1 | 1 | 554 | 558 | -4 |  740 |  728 |  12 | UA | 1696 | N39463 | EWR | ORD | 150 |  719 | 5 | 58 | 2013-01-01 05:00:00 |\n\n",
            "text/html": [
              "<table>\n",
              "<caption>A tibble: 6 × 19</caption>\n",
              "<thead>\n",
              "\t<tr><th scope=col>year</th><th scope=col>month</th><th scope=col>day</th><th scope=col>dep_time</th><th scope=col>sched_dep_time</th><th scope=col>dep_delay</th><th scope=col>arr_time</th><th scope=col>sched_arr_time</th><th scope=col>arr_delay</th><th scope=col>carrier</th><th scope=col>flight</th><th scope=col>tailnum</th><th scope=col>origin</th><th scope=col>dest</th><th scope=col>air_time</th><th scope=col>distance</th><th scope=col>hour</th><th scope=col>minute</th><th scope=col>time_hour</th></tr>\n",
              "\t<tr><th scope=col>&lt;int&gt;</th><th scope=col>&lt;int&gt;</th><th scope=col>&lt;int&gt;</th><th scope=col>&lt;int&gt;</th><th scope=col>&lt;int&gt;</th><th scope=col>&lt;dbl&gt;</th><th scope=col>&lt;int&gt;</th><th scope=col>&lt;int&gt;</th><th scope=col>&lt;dbl&gt;</th><th scope=col>&lt;chr&gt;</th><th scope=col>&lt;int&gt;</th><th scope=col>&lt;chr&gt;</th><th scope=col>&lt;chr&gt;</th><th scope=col>&lt;chr&gt;</th><th scope=col>&lt;dbl&gt;</th><th scope=col>&lt;dbl&gt;</th><th scope=col>&lt;dbl&gt;</th><th scope=col>&lt;dbl&gt;</th><th scope=col>&lt;dttm&gt;</th></tr>\n",
              "</thead>\n",
              "<tbody>\n",
              "\t<tr><td>2013</td><td>1</td><td>1</td><td>517</td><td>515</td><td> 2</td><td> 830</td><td> 819</td><td> 11</td><td>UA</td><td>1545</td><td>N14228</td><td>EWR</td><td>IAH</td><td>227</td><td>1400</td><td>5</td><td>15</td><td>2013-01-01 05:00:00</td></tr>\n",
              "\t<tr><td>2013</td><td>1</td><td>1</td><td>533</td><td>529</td><td> 4</td><td> 850</td><td> 830</td><td> 20</td><td>UA</td><td>1714</td><td>N24211</td><td>LGA</td><td>IAH</td><td>227</td><td>1416</td><td>5</td><td>29</td><td>2013-01-01 05:00:00</td></tr>\n",
              "\t<tr><td>2013</td><td>1</td><td>1</td><td>542</td><td>540</td><td> 2</td><td> 923</td><td> 850</td><td> 33</td><td>AA</td><td>1141</td><td>N619AA</td><td>JFK</td><td>MIA</td><td>160</td><td>1089</td><td>5</td><td>40</td><td>2013-01-01 05:00:00</td></tr>\n",
              "\t<tr><td>2013</td><td>1</td><td>1</td><td>544</td><td>545</td><td>-1</td><td>1004</td><td>1022</td><td>-18</td><td>B6</td><td> 725</td><td>N804JB</td><td>JFK</td><td>BQN</td><td>183</td><td>1576</td><td>5</td><td>45</td><td>2013-01-01 05:00:00</td></tr>\n",
              "\t<tr><td>2013</td><td>1</td><td>1</td><td>554</td><td>600</td><td>-6</td><td> 812</td><td> 837</td><td>-25</td><td>DL</td><td> 461</td><td>N668DN</td><td>LGA</td><td>ATL</td><td>116</td><td> 762</td><td>6</td><td> 0</td><td>2013-01-01 06:00:00</td></tr>\n",
              "\t<tr><td>2013</td><td>1</td><td>1</td><td>554</td><td>558</td><td>-4</td><td> 740</td><td> 728</td><td> 12</td><td>UA</td><td>1696</td><td>N39463</td><td>EWR</td><td>ORD</td><td>150</td><td> 719</td><td>5</td><td>58</td><td>2013-01-01 05:00:00</td></tr>\n",
              "</tbody>\n",
              "</table>\n"
            ]
          },
          "metadata": {
            "tags": []
          }
        }
      ]
    },
    {
      "cell_type": "code",
      "metadata": {
        "id": "5nzOxIu0PE23",
        "colab_type": "code",
        "colab": {}
      },
      "source": [
        "not_cancelled <- flights %>% \n",
        "  filter(!is.na(dep_delay), !is.na(arr_delay))"
      ],
      "execution_count": 69,
      "outputs": []
    },
    {
      "cell_type": "markdown",
      "metadata": {
        "id": "goWx6J76SdIR",
        "colab_type": "text"
      },
      "source": [
        "Si bien puede agrupar y combinar con lo que necesite, es posible que quiera normalizar los datos o trabajar con ellos conociendo las cantidades de los grupos. Es interesante ver como la falta de una escala nos puede dar información que se malinterprete"
      ]
    },
    {
      "cell_type": "code",
      "metadata": {
        "id": "WIKb6_UoSYTh",
        "colab_type": "code",
        "colab": {
          "base_uri": "https://localhost:8080/",
          "height": 471
        },
        "outputId": "ca4151c0-ebc8-4149-9963-6c4cad9ca760"
      },
      "source": [
        "delays <- not_cancelled %>% \n",
        "  group_by(tailnum) %>% \n",
        "  summarise(\n",
        "    delay = mean(arr_delay)\n",
        "  )\n",
        "\n",
        "ggplot(data = delays, mapping = aes(x = delay)) + \n",
        "  geom_freqpoly(binwidth = 10) +\n",
        "  theme(text = element_text(size=20))"
      ],
      "execution_count": 70,
      "outputs": [
        {
          "output_type": "stream",
          "text": [
            "`summarise()` ungrouping output (override with `.groups` argument)\n",
            "\n"
          ],
          "name": "stderr"
        },
        {
          "output_type": "display_data",
          "data": {
            "image/png": "[encoded data removed]",
            "text/plain": [
              "plot without title"
            ]
          },
          "metadata": {
            "tags": [],
            "image/png": {
              "width": 900,
              "height": 420
            },
            "text/plain": {
              "width": 900,
              "height": 420
            }
          }
        }
      ]
    },
    {
      "cell_type": "code",
      "metadata": {
        "id": "F_bXzglhTGck",
        "colab_type": "code",
        "colab": {
          "base_uri": "https://localhost:8080/",
          "height": 471
        },
        "outputId": "3e4572e7-3d0e-42ba-fe54-601d5bf11127"
      },
      "source": [
        "delays <- not_cancelled %>% \n",
        "  group_by(tailnum) %>% \n",
        "  summarise(\n",
        "    delay = mean(arr_delay, na.rm = TRUE),\n",
        "    n = n()\n",
        "  )\n",
        "\n",
        "ggplot(data = delays, mapping = aes(x = n, y = delay)) + \n",
        "  geom_point(alpha = 1/10) +\n",
        "  theme(text = element_text(size=20))"
      ],
      "execution_count": 71,
      "outputs": [
        {
          "output_type": "stream",
          "text": [
            "`summarise()` ungrouping output (override with `.groups` argument)\n",
            "\n"
          ],
          "name": "stderr"
        },
        {
          "output_type": "display_data",
          "data": {
            "image/png": "[encoded data removed]",
            "text/plain": [
              "plot without title"
            ]
          },
          "metadata": {
            "tags": [],
            "image/png": {
              "width": 900,
              "height": 420
            },
            "text/plain": {
              "width": 900,
              "height": 420
            }
          }
        }
      ]
    },
    {
      "cell_type": "code",
      "metadata": {
        "id": "uL-1krtZTPQD",
        "colab_type": "code",
        "colab": {
          "base_uri": "https://localhost:8080/",
          "height": 437
        },
        "outputId": "c762cc44-f32a-4a62-c568-138546ceca62"
      },
      "source": [
        "delays %>% \n",
        "  filter(n > 25) %>% \n",
        "  ggplot(mapping = aes(x = n, y = delay)) + \n",
        "    geom_point(alpha = 1/10) +\n",
        "    theme(text = element_text(size=20))"
      ],
      "execution_count": 72,
      "outputs": [
        {
          "output_type": "display_data",
          "data": {
            "image/png": "[encoded data removed]",
            "text/plain": [
              "plot without title"
            ]
          },
          "metadata": {
            "tags": [],
            "image/png": {
              "width": 900,
              "height": 420
            },
            "text/plain": {
              "width": 900,
              "height": 420
            }
          }
        }
      ]
    },
    {
      "cell_type": "markdown",
      "metadata": {
        "id": "bT5xTHLjUumA",
        "colab_type": "text"
      },
      "source": [
        "Podemos combinar dentro de la **agrupación** y la **agregación** la selección de valores por **suconjuntos lógicos**"
      ]
    },
    {
      "cell_type": "code",
      "metadata": {
        "id": "_-HD3t88U9Gp",
        "colab_type": "code",
        "colab": {
          "base_uri": "https://localhost:8080/",
          "height": 238
        },
        "outputId": "19f4f65f-ea71-43d8-cae1-1b6354a400b2"
      },
      "source": [
        "test <- not_cancelled %>% \n",
        "  group_by(year, month, day) %>% \n",
        "  summarise(\n",
        "    avg_delay1 = mean(arr_delay),\n",
        "    avg_delay2 = mean(arr_delay[arr_delay > 0]) # the average positive delay\n",
        "  )\n",
        "head(test)"
      ],
      "execution_count": 75,
      "outputs": [
        {
          "output_type": "stream",
          "text": [
            "`summarise()` regrouping output by 'year', 'month' (override with `.groups` argument)\n",
            "\n"
          ],
          "name": "stderr"
        },
        {
          "output_type": "display_data",
          "data": {
            "text/plain": [
              "  year month day avg_delay1 avg_delay2\n",
              "1 2013 1     1   12.651023  32.48156  \n",
              "2 2013 1     2   12.692888  32.02991  \n",
              "3 2013 1     3    5.733333  27.66087  \n",
              "4 2013 1     4   -1.932819  28.30976  \n",
              "5 2013 1     5   -1.525802  22.55882  \n",
              "6 2013 1     6    4.236429  24.37270  "
            ],
            "text/latex": "A grouped\\_df: 6 × 5\n\\begin{tabular}{lllll}\n year & month & day & avg\\_delay1 & avg\\_delay2\\\\\n <int> & <int> & <int> & <dbl> & <dbl>\\\\\n\\hline\n\t 2013 & 1 & 1 & 12.651023 & 32.48156\\\\\n\t 2013 & 1 & 2 & 12.692888 & 32.02991\\\\\n\t 2013 & 1 & 3 &  5.733333 & 27.66087\\\\\n\t 2013 & 1 & 4 & -1.932819 & 28.30976\\\\\n\t 2013 & 1 & 5 & -1.525802 & 22.55882\\\\\n\t 2013 & 1 & 6 &  4.236429 & 24.37270\\\\\n\\end{tabular}\n",
            "text/markdown": "\nA grouped_df: 6 × 5\n\n| year &lt;int&gt; | month &lt;int&gt; | day &lt;int&gt; | avg_delay1 &lt;dbl&gt; | avg_delay2 &lt;dbl&gt; |\n|---|---|---|---|---|\n| 2013 | 1 | 1 | 12.651023 | 32.48156 |\n| 2013 | 1 | 2 | 12.692888 | 32.02991 |\n| 2013 | 1 | 3 |  5.733333 | 27.66087 |\n| 2013 | 1 | 4 | -1.932819 | 28.30976 |\n| 2013 | 1 | 5 | -1.525802 | 22.55882 |\n| 2013 | 1 | 6 |  4.236429 | 24.37270 |\n\n",
            "text/html": [
              "<table>\n",
              "<caption>A grouped_df: 6 × 5</caption>\n",
              "<thead>\n",
              "\t<tr><th scope=col>year</th><th scope=col>month</th><th scope=col>day</th><th scope=col>avg_delay1</th><th scope=col>avg_delay2</th></tr>\n",
              "\t<tr><th scope=col>&lt;int&gt;</th><th scope=col>&lt;int&gt;</th><th scope=col>&lt;int&gt;</th><th scope=col>&lt;dbl&gt;</th><th scope=col>&lt;dbl&gt;</th></tr>\n",
              "</thead>\n",
              "<tbody>\n",
              "\t<tr><td>2013</td><td>1</td><td>1</td><td>12.651023</td><td>32.48156</td></tr>\n",
              "\t<tr><td>2013</td><td>1</td><td>2</td><td>12.692888</td><td>32.02991</td></tr>\n",
              "\t<tr><td>2013</td><td>1</td><td>3</td><td> 5.733333</td><td>27.66087</td></tr>\n",
              "\t<tr><td>2013</td><td>1</td><td>4</td><td>-1.932819</td><td>28.30976</td></tr>\n",
              "\t<tr><td>2013</td><td>1</td><td>5</td><td>-1.525802</td><td>22.55882</td></tr>\n",
              "\t<tr><td>2013</td><td>1</td><td>6</td><td> 4.236429</td><td>24.37270</td></tr>\n",
              "</tbody>\n",
              "</table>\n"
            ]
          },
          "metadata": {
            "tags": []
          }
        }
      ]
    },
    {
      "cell_type": "markdown",
      "metadata": {
        "id": "X8nXCBEfU7GP",
        "colab_type": "text"
      },
      "source": [
        "También hay varias funciones más que podemos usar:"
      ]
    },
    {
      "cell_type": "code",
      "metadata": {
        "id": "-s-fUySZVOD2",
        "colab_type": "code",
        "colab": {
          "base_uri": "https://localhost:8080/",
          "height": 1000
        },
        "outputId": "88b880ba-c3a9-42a6-c69e-df43ccfd4708"
      },
      "source": [
        "not_cancelled %>% \n",
        "  group_by(dest) %>% \n",
        "  summarise(\n",
        "    distance_sd = sd(distance),\n",
        "    distance_IQR = IQR(distance),\n",
        "    distance_mad = mad(distance),\n",
        "    distace_025 = quantile(distance, 0.25),\n",
        "    distance_min = min(distance),\n",
        "    distance_na = sum(!is.na(distance)),\n",
        "    distance_n = n()\n",
        "  ) %>% \n",
        "  arrange(desc(distance_sd))"
      ],
      "execution_count": 76,
      "outputs": [
        {
          "output_type": "stream",
          "text": [
            "`summarise()` ungrouping output (override with `.groups` argument)\n",
            "\n"
          ],
          "name": "stderr"
        },
        {
          "output_type": "display_data",
          "data": {
            "text/plain": [
              "    dest distance_sd distance_IQR distance_mad distace_025 distance_min\n",
              "1   EGE  10.542765   21           1.4826       1726        1725        \n",
              "2   SAN  10.350094   21           0.0000       2425        2425        \n",
              "3   SFO  10.216017   21           0.0000       2565        2565        \n",
              "4   HNL  10.004197   20           0.0000       4963        4963        \n",
              "5   SEA   9.977993   20           0.0000       2402        2402        \n",
              "6   LAS   9.907786   21           0.0000       2227        2227        \n",
              "7   PDX   9.873299   20           0.0000       2434        2434        \n",
              "8   PHX   9.862546   20           0.0000       2133        2133        \n",
              "9   LAX   9.657195   21           0.0000       2454        2454        \n",
              "10  IND   9.458066   20           0.0000        645         645        \n",
              "11  CVG   9.018212   20           0.0000        569         569        \n",
              "12  SAT   9.005084   18           0.0000       1569        1569        \n",
              "13  MEM   8.503128   17           0.0000        946         946        \n",
              "14  HOU   8.467711   17           0.0000       1411        1411        \n",
              "15  MCI   8.358227   15           0.0000       1092        1092        \n",
              "16  AUS   8.319169   17           0.0000       1504        1504        \n",
              "17  CLE   8.312362   15           8.8956        404         404        \n",
              "18  DFW   8.298037   17           0.0000       1372        1372        \n",
              "19  IAH   7.999074   16           0.0000       1400        1400        \n",
              "20  DEN   7.981110   15           0.0000       1605        1605        \n",
              "21  TYS   7.979272   16           0.0000        631         631        \n",
              "22  STL   7.916233   16           0.0000        872         872        \n",
              "23  BNA   7.811418   16           0.0000        748         748        \n",
              "24  ORD   7.726294   14           0.0000        719         719        \n",
              "25  PIT   7.724053    5           7.4130        335         319        \n",
              "26  BUF   7.683876    0           0.0000        301         282        \n",
              "27  DTW   7.543633   14           0.0000        488         488        \n",
              "28  ROC   7.395674   10           0.0000        254         246        \n",
              "29  SLC   7.357458    0           0.0000       1990        1969        \n",
              "30  SDF   7.337980    0           0.0000        642         642        \n",
              "⋮   ⋮    ⋮           ⋮            ⋮            ⋮           ⋮           \n",
              "75  PHL  2.74711414  2            0              94          80        \n",
              "76  BTV  2.50718881  0            0             266         258        \n",
              "77  BHM  0.06097108  0            0             866         865        \n",
              "78  ABQ  0.00000000  0            0            1826        1826        \n",
              "79  ACK  0.00000000  0            0             199         199        \n",
              "80  ALB  0.00000000  0            0             143         143        \n",
              "81  ANC  0.00000000  0            0            3370        3370        \n",
              "82  BDL  0.00000000  0            0             116         116        \n",
              "83  BGR  0.00000000  0            0             378         378        \n",
              "84  BUR  0.00000000  0            0            2465        2465        \n",
              "85  BZN  0.00000000  0            0            1882        1882        \n",
              "86  CAK  0.00000000  0            0             397         397        \n",
              "87  CHO  0.00000000  0            0             305         305        \n",
              "88  CRW  0.00000000  0            0             444         444        \n",
              "89  EYW  0.00000000  0            0            1207        1207        \n",
              "90  HDN  0.00000000  0            0            1728        1728        \n",
              "91  ILM  0.00000000  0            0             500         500        \n",
              "92  LGB  0.00000000  0            0            2465        2465        \n",
              "93  MTJ  0.00000000  0            0            1795        1795        \n",
              "94  MVY  0.00000000  0            0             173         173        \n",
              "95  OAK  0.00000000  0            0            2576        2576        \n",
              "96  OKC  0.00000000  0            0            1325        1325        \n",
              "97  PSE  0.00000000  0            0            1617        1617        \n",
              "98  PSP  0.00000000  0            0            2378        2378        \n",
              "99  PVD  0.00000000  0            0             160         160        \n",
              "100 SJC  0.00000000  0            0            2569        2569        \n",
              "101 SMF  0.00000000  0            0            2521        2521        \n",
              "102 SNA  0.00000000  0            0            2434        2434        \n",
              "103 TUL  0.00000000  0            0            1215        1215        \n",
              "104 LEX          NA  0            0             604         604        \n",
              "    distance_na distance_n\n",
              "1     207         207     \n",
              "2    2709        2709     \n",
              "3   13173       13173     \n",
              "4     701         701     \n",
              "5    3885        3885     \n",
              "6    5952        5952     \n",
              "7    1342        1342     \n",
              "8    4606        4606     \n",
              "9   16026       16026     \n",
              "10   1981        1981     \n",
              "11   3725        3725     \n",
              "12    659         659     \n",
              "13   1686        1686     \n",
              "14   2083        2083     \n",
              "15   1885        1885     \n",
              "16   2411        2411     \n",
              "17   4394        4394     \n",
              "18   8388        8388     \n",
              "19   7085        7085     \n",
              "20   7169        7169     \n",
              "21    578         578     \n",
              "22   4142        4142     \n",
              "23   6084        6084     \n",
              "24  16566       16566     \n",
              "25   2746        2746     \n",
              "26   4570        4570     \n",
              "27   9031        9031     \n",
              "28   2358        2358     \n",
              "29   2451        2451     \n",
              "30   1104        1104     \n",
              "⋮   ⋮           ⋮         \n",
              "75  1541        1541      \n",
              "76  2510        2510      \n",
              "77   269         269      \n",
              "78   254         254      \n",
              "79   264         264      \n",
              "80   418         418      \n",
              "81     8           8      \n",
              "82   412         412      \n",
              "83   358         358      \n",
              "84   370         370      \n",
              "85    35          35      \n",
              "86   842         842      \n",
              "87    46          46      \n",
              "88   134         134      \n",
              "89    17          17      \n",
              "90    14          14      \n",
              "91   107         107      \n",
              "92   661         661      \n",
              "93    14          14      \n",
              "94   210         210      \n",
              "95   309         309      \n",
              "96   315         315      \n",
              "97   358         358      \n",
              "98    18          18      \n",
              "99   358         358      \n",
              "100  328         328      \n",
              "101  282         282      \n",
              "102  812         812      \n",
              "103  294         294      \n",
              "104    1           1      "
            ],
            "text/latex": "A tibble: 104 × 8\n\\begin{tabular}{llllllll}\n dest & distance\\_sd & distance\\_IQR & distance\\_mad & distace\\_025 & distance\\_min & distance\\_na & distance\\_n\\\\\n <chr> & <dbl> & <dbl> & <dbl> & <dbl> & <dbl> & <int> & <int>\\\\\n\\hline\n\t EGE & 10.542765 & 21 & 1.4826 & 1726 & 1725 &   207 &   207\\\\\n\t SAN & 10.350094 & 21 & 0.0000 & 2425 & 2425 &  2709 &  2709\\\\\n\t SFO & 10.216017 & 21 & 0.0000 & 2565 & 2565 & 13173 & 13173\\\\\n\t HNL & 10.004197 & 20 & 0.0000 & 4963 & 4963 &   701 &   701\\\\\n\t SEA &  9.977993 & 20 & 0.0000 & 2402 & 2402 &  3885 &  3885\\\\\n\t LAS &  9.907786 & 21 & 0.0000 & 2227 & 2227 &  5952 &  5952\\\\\n\t PDX &  9.873299 & 20 & 0.0000 & 2434 & 2434 &  1342 &  1342\\\\\n\t PHX &  9.862546 & 20 & 0.0000 & 2133 & 2133 &  4606 &  4606\\\\\n\t LAX &  9.657195 & 21 & 0.0000 & 2454 & 2454 & 16026 & 16026\\\\\n\t IND &  9.458066 & 20 & 0.0000 &  645 &  645 &  1981 &  1981\\\\\n\t CVG &  9.018212 & 20 & 0.0000 &  569 &  569 &  3725 &  3725\\\\\n\t SAT &  9.005084 & 18 & 0.0000 & 1569 & 1569 &   659 &   659\\\\\n\t MEM &  8.503128 & 17 & 0.0000 &  946 &  946 &  1686 &  1686\\\\\n\t HOU &  8.467711 & 17 & 0.0000 & 1411 & 1411 &  2083 &  2083\\\\\n\t MCI &  8.358227 & 15 & 0.0000 & 1092 & 1092 &  1885 &  1885\\\\\n\t AUS &  8.319169 & 17 & 0.0000 & 1504 & 1504 &  2411 &  2411\\\\\n\t CLE &  8.312362 & 15 & 8.8956 &  404 &  404 &  4394 &  4394\\\\\n\t DFW &  8.298037 & 17 & 0.0000 & 1372 & 1372 &  8388 &  8388\\\\\n\t IAH &  7.999074 & 16 & 0.0000 & 1400 & 1400 &  7085 &  7085\\\\\n\t DEN &  7.981110 & 15 & 0.0000 & 1605 & 1605 &  7169 &  7169\\\\\n\t TYS &  7.979272 & 16 & 0.0000 &  631 &  631 &   578 &   578\\\\\n\t STL &  7.916233 & 16 & 0.0000 &  872 &  872 &  4142 &  4142\\\\\n\t BNA &  7.811418 & 16 & 0.0000 &  748 &  748 &  6084 &  6084\\\\\n\t ORD &  7.726294 & 14 & 0.0000 &  719 &  719 & 16566 & 16566\\\\\n\t PIT &  7.724053 &  5 & 7.4130 &  335 &  319 &  2746 &  2746\\\\\n\t BUF &  7.683876 &  0 & 0.0000 &  301 &  282 &  4570 &  4570\\\\\n\t DTW &  7.543633 & 14 & 0.0000 &  488 &  488 &  9031 &  9031\\\\\n\t ROC &  7.395674 & 10 & 0.0000 &  254 &  246 &  2358 &  2358\\\\\n\t SLC &  7.357458 &  0 & 0.0000 & 1990 & 1969 &  2451 &  2451\\\\\n\t SDF &  7.337980 &  0 & 0.0000 &  642 &  642 &  1104 &  1104\\\\\n\t ⋮ & ⋮ & ⋮ & ⋮ & ⋮ & ⋮ & ⋮ & ⋮\\\\\n\t PHL & 2.74711414 & 2 & 0 &   94 &   80 & 1541 & 1541\\\\\n\t BTV & 2.50718881 & 0 & 0 &  266 &  258 & 2510 & 2510\\\\\n\t BHM & 0.06097108 & 0 & 0 &  866 &  865 &  269 &  269\\\\\n\t ABQ & 0.00000000 & 0 & 0 & 1826 & 1826 &  254 &  254\\\\\n\t ACK & 0.00000000 & 0 & 0 &  199 &  199 &  264 &  264\\\\\n\t ALB & 0.00000000 & 0 & 0 &  143 &  143 &  418 &  418\\\\\n\t ANC & 0.00000000 & 0 & 0 & 3370 & 3370 &    8 &    8\\\\\n\t BDL & 0.00000000 & 0 & 0 &  116 &  116 &  412 &  412\\\\\n\t BGR & 0.00000000 & 0 & 0 &  378 &  378 &  358 &  358\\\\\n\t BUR & 0.00000000 & 0 & 0 & 2465 & 2465 &  370 &  370\\\\\n\t BZN & 0.00000000 & 0 & 0 & 1882 & 1882 &   35 &   35\\\\\n\t CAK & 0.00000000 & 0 & 0 &  397 &  397 &  842 &  842\\\\\n\t CHO & 0.00000000 & 0 & 0 &  305 &  305 &   46 &   46\\\\\n\t CRW & 0.00000000 & 0 & 0 &  444 &  444 &  134 &  134\\\\\n\t EYW & 0.00000000 & 0 & 0 & 1207 & 1207 &   17 &   17\\\\\n\t HDN & 0.00000000 & 0 & 0 & 1728 & 1728 &   14 &   14\\\\\n\t ILM & 0.00000000 & 0 & 0 &  500 &  500 &  107 &  107\\\\\n\t LGB & 0.00000000 & 0 & 0 & 2465 & 2465 &  661 &  661\\\\\n\t MTJ & 0.00000000 & 0 & 0 & 1795 & 1795 &   14 &   14\\\\\n\t MVY & 0.00000000 & 0 & 0 &  173 &  173 &  210 &  210\\\\\n\t OAK & 0.00000000 & 0 & 0 & 2576 & 2576 &  309 &  309\\\\\n\t OKC & 0.00000000 & 0 & 0 & 1325 & 1325 &  315 &  315\\\\\n\t PSE & 0.00000000 & 0 & 0 & 1617 & 1617 &  358 &  358\\\\\n\t PSP & 0.00000000 & 0 & 0 & 2378 & 2378 &   18 &   18\\\\\n\t PVD & 0.00000000 & 0 & 0 &  160 &  160 &  358 &  358\\\\\n\t SJC & 0.00000000 & 0 & 0 & 2569 & 2569 &  328 &  328\\\\\n\t SMF & 0.00000000 & 0 & 0 & 2521 & 2521 &  282 &  282\\\\\n\t SNA & 0.00000000 & 0 & 0 & 2434 & 2434 &  812 &  812\\\\\n\t TUL & 0.00000000 & 0 & 0 & 1215 & 1215 &  294 &  294\\\\\n\t LEX &         NA & 0 & 0 &  604 &  604 &    1 &    1\\\\\n\\end{tabular}\n",
            "text/markdown": "\nA tibble: 104 × 8\n\n| dest &lt;chr&gt; | distance_sd &lt;dbl&gt; | distance_IQR &lt;dbl&gt; | distance_mad &lt;dbl&gt; | distace_025 &lt;dbl&gt; | distance_min &lt;dbl&gt; | distance_na &lt;int&gt; | distance_n &lt;int&gt; |\n|---|---|---|---|---|---|---|---|\n| EGE | 10.542765 | 21 | 1.4826 | 1726 | 1725 |   207 |   207 |\n| SAN | 10.350094 | 21 | 0.0000 | 2425 | 2425 |  2709 |  2709 |\n| SFO | 10.216017 | 21 | 0.0000 | 2565 | 2565 | 13173 | 13173 |\n| HNL | 10.004197 | 20 | 0.0000 | 4963 | 4963 |   701 |   701 |\n| SEA |  9.977993 | 20 | 0.0000 | 2402 | 2402 |  3885 |  3885 |\n| LAS |  9.907786 | 21 | 0.0000 | 2227 | 2227 |  5952 |  5952 |\n| PDX |  9.873299 | 20 | 0.0000 | 2434 | 2434 |  1342 |  1342 |\n| PHX |  9.862546 | 20 | 0.0000 | 2133 | 2133 |  4606 |  4606 |\n| LAX |  9.657195 | 21 | 0.0000 | 2454 | 2454 | 16026 | 16026 |\n| IND |  9.458066 | 20 | 0.0000 |  645 |  645 |  1981 |  1981 |\n| CVG |  9.018212 | 20 | 0.0000 |  569 |  569 |  3725 |  3725 |\n| SAT |  9.005084 | 18 | 0.0000 | 1569 | 1569 |   659 |   659 |\n| MEM |  8.503128 | 17 | 0.0000 |  946 |  946 |  1686 |  1686 |\n| HOU |  8.467711 | 17 | 0.0000 | 1411 | 1411 |  2083 |  2083 |\n| MCI |  8.358227 | 15 | 0.0000 | 1092 | 1092 |  1885 |  1885 |\n| AUS |  8.319169 | 17 | 0.0000 | 1504 | 1504 |  2411 |  2411 |\n| CLE |  8.312362 | 15 | 8.8956 |  404 |  404 |  4394 |  4394 |\n| DFW |  8.298037 | 17 | 0.0000 | 1372 | 1372 |  8388 |  8388 |\n| IAH |  7.999074 | 16 | 0.0000 | 1400 | 1400 |  7085 |  7085 |\n| DEN |  7.981110 | 15 | 0.0000 | 1605 | 1605 |  7169 |  7169 |\n| TYS |  7.979272 | 16 | 0.0000 |  631 |  631 |   578 |   578 |\n| STL |  7.916233 | 16 | 0.0000 |  872 |  872 |  4142 |  4142 |\n| BNA |  7.811418 | 16 | 0.0000 |  748 |  748 |  6084 |  6084 |\n| ORD |  7.726294 | 14 | 0.0000 |  719 |  719 | 16566 | 16566 |\n| PIT |  7.724053 |  5 | 7.4130 |  335 |  319 |  2746 |  2746 |\n| BUF |  7.683876 |  0 | 0.0000 |  301 |  282 |  4570 |  4570 |\n| DTW |  7.543633 | 14 | 0.0000 |  488 |  488 |  9031 |  9031 |\n| ROC |  7.395674 | 10 | 0.0000 |  254 |  246 |  2358 |  2358 |\n| SLC |  7.357458 |  0 | 0.0000 | 1990 | 1969 |  2451 |  2451 |\n| SDF |  7.337980 |  0 | 0.0000 |  642 |  642 |  1104 |  1104 |\n| ⋮ | ⋮ | ⋮ | ⋮ | ⋮ | ⋮ | ⋮ | ⋮ |\n| PHL | 2.74711414 | 2 | 0 |   94 |   80 | 1541 | 1541 |\n| BTV | 2.50718881 | 0 | 0 |  266 |  258 | 2510 | 2510 |\n| BHM | 0.06097108 | 0 | 0 |  866 |  865 |  269 |  269 |\n| ABQ | 0.00000000 | 0 | 0 | 1826 | 1826 |  254 |  254 |\n| ACK | 0.00000000 | 0 | 0 |  199 |  199 |  264 |  264 |\n| ALB | 0.00000000 | 0 | 0 |  143 |  143 |  418 |  418 |\n| ANC | 0.00000000 | 0 | 0 | 3370 | 3370 |    8 |    8 |\n| BDL | 0.00000000 | 0 | 0 |  116 |  116 |  412 |  412 |\n| BGR | 0.00000000 | 0 | 0 |  378 |  378 |  358 |  358 |\n| BUR | 0.00000000 | 0 | 0 | 2465 | 2465 |  370 |  370 |\n| BZN | 0.00000000 | 0 | 0 | 1882 | 1882 |   35 |   35 |\n| CAK | 0.00000000 | 0 | 0 |  397 |  397 |  842 |  842 |\n| CHO | 0.00000000 | 0 | 0 |  305 |  305 |   46 |   46 |\n| CRW | 0.00000000 | 0 | 0 |  444 |  444 |  134 |  134 |\n| EYW | 0.00000000 | 0 | 0 | 1207 | 1207 |   17 |   17 |\n| HDN | 0.00000000 | 0 | 0 | 1728 | 1728 |   14 |   14 |\n| ILM | 0.00000000 | 0 | 0 |  500 |  500 |  107 |  107 |\n| LGB | 0.00000000 | 0 | 0 | 2465 | 2465 |  661 |  661 |\n| MTJ | 0.00000000 | 0 | 0 | 1795 | 1795 |   14 |   14 |\n| MVY | 0.00000000 | 0 | 0 |  173 |  173 |  210 |  210 |\n| OAK | 0.00000000 | 0 | 0 | 2576 | 2576 |  309 |  309 |\n| OKC | 0.00000000 | 0 | 0 | 1325 | 1325 |  315 |  315 |\n| PSE | 0.00000000 | 0 | 0 | 1617 | 1617 |  358 |  358 |\n| PSP | 0.00000000 | 0 | 0 | 2378 | 2378 |   18 |   18 |\n| PVD | 0.00000000 | 0 | 0 |  160 |  160 |  358 |  358 |\n| SJC | 0.00000000 | 0 | 0 | 2569 | 2569 |  328 |  328 |\n| SMF | 0.00000000 | 0 | 0 | 2521 | 2521 |  282 |  282 |\n| SNA | 0.00000000 | 0 | 0 | 2434 | 2434 |  812 |  812 |\n| TUL | 0.00000000 | 0 | 0 | 1215 | 1215 |  294 |  294 |\n| LEX |         NA | 0 | 0 |  604 |  604 |    1 |    1 |\n\n",
            "text/html": [
              "<table>\n",
              "<caption>A tibble: 104 × 8</caption>\n",
              "<thead>\n",
              "\t<tr><th scope=col>dest</th><th scope=col>distance_sd</th><th scope=col>distance_IQR</th><th scope=col>distance_mad</th><th scope=col>distace_025</th><th scope=col>distance_min</th><th scope=col>distance_na</th><th scope=col>distance_n</th></tr>\n",
              "\t<tr><th scope=col>&lt;chr&gt;</th><th scope=col>&lt;dbl&gt;</th><th scope=col>&lt;dbl&gt;</th><th scope=col>&lt;dbl&gt;</th><th scope=col>&lt;dbl&gt;</th><th scope=col>&lt;dbl&gt;</th><th scope=col>&lt;int&gt;</th><th scope=col>&lt;int&gt;</th></tr>\n",
              "</thead>\n",
              "<tbody>\n",
              "\t<tr><td>EGE</td><td>10.542765</td><td>21</td><td>1.4826</td><td>1726</td><td>1725</td><td>  207</td><td>  207</td></tr>\n",
              "\t<tr><td>SAN</td><td>10.350094</td><td>21</td><td>0.0000</td><td>2425</td><td>2425</td><td> 2709</td><td> 2709</td></tr>\n",
              "\t<tr><td>SFO</td><td>10.216017</td><td>21</td><td>0.0000</td><td>2565</td><td>2565</td><td>13173</td><td>13173</td></tr>\n",
              "\t<tr><td>HNL</td><td>10.004197</td><td>20</td><td>0.0000</td><td>4963</td><td>4963</td><td>  701</td><td>  701</td></tr>\n",
              "\t<tr><td>SEA</td><td> 9.977993</td><td>20</td><td>0.0000</td><td>2402</td><td>2402</td><td> 3885</td><td> 3885</td></tr>\n",
              "\t<tr><td>LAS</td><td> 9.907786</td><td>21</td><td>0.0000</td><td>2227</td><td>2227</td><td> 5952</td><td> 5952</td></tr>\n",
              "\t<tr><td>PDX</td><td> 9.873299</td><td>20</td><td>0.0000</td><td>2434</td><td>2434</td><td> 1342</td><td> 1342</td></tr>\n",
              "\t<tr><td>PHX</td><td> 9.862546</td><td>20</td><td>0.0000</td><td>2133</td><td>2133</td><td> 4606</td><td> 4606</td></tr>\n",
              "\t<tr><td>LAX</td><td> 9.657195</td><td>21</td><td>0.0000</td><td>2454</td><td>2454</td><td>16026</td><td>16026</td></tr>\n",
              "\t<tr><td>IND</td><td> 9.458066</td><td>20</td><td>0.0000</td><td> 645</td><td> 645</td><td> 1981</td><td> 1981</td></tr>\n",
              "\t<tr><td>CVG</td><td> 9.018212</td><td>20</td><td>0.0000</td><td> 569</td><td> 569</td><td> 3725</td><td> 3725</td></tr>\n",
              "\t<tr><td>SAT</td><td> 9.005084</td><td>18</td><td>0.0000</td><td>1569</td><td>1569</td><td>  659</td><td>  659</td></tr>\n",
              "\t<tr><td>MEM</td><td> 8.503128</td><td>17</td><td>0.0000</td><td> 946</td><td> 946</td><td> 1686</td><td> 1686</td></tr>\n",
              "\t<tr><td>HOU</td><td> 8.467711</td><td>17</td><td>0.0000</td><td>1411</td><td>1411</td><td> 2083</td><td> 2083</td></tr>\n",
              "\t<tr><td>MCI</td><td> 8.358227</td><td>15</td><td>0.0000</td><td>1092</td><td>1092</td><td> 1885</td><td> 1885</td></tr>\n",
              "\t<tr><td>AUS</td><td> 8.319169</td><td>17</td><td>0.0000</td><td>1504</td><td>1504</td><td> 2411</td><td> 2411</td></tr>\n",
              "\t<tr><td>CLE</td><td> 8.312362</td><td>15</td><td>8.8956</td><td> 404</td><td> 404</td><td> 4394</td><td> 4394</td></tr>\n",
              "\t<tr><td>DFW</td><td> 8.298037</td><td>17</td><td>0.0000</td><td>1372</td><td>1372</td><td> 8388</td><td> 8388</td></tr>\n",
              "\t<tr><td>IAH</td><td> 7.999074</td><td>16</td><td>0.0000</td><td>1400</td><td>1400</td><td> 7085</td><td> 7085</td></tr>\n",
              "\t<tr><td>DEN</td><td> 7.981110</td><td>15</td><td>0.0000</td><td>1605</td><td>1605</td><td> 7169</td><td> 7169</td></tr>\n",
              "\t<tr><td>TYS</td><td> 7.979272</td><td>16</td><td>0.0000</td><td> 631</td><td> 631</td><td>  578</td><td>  578</td></tr>\n",
              "\t<tr><td>STL</td><td> 7.916233</td><td>16</td><td>0.0000</td><td> 872</td><td> 872</td><td> 4142</td><td> 4142</td></tr>\n",
              "\t<tr><td>BNA</td><td> 7.811418</td><td>16</td><td>0.0000</td><td> 748</td><td> 748</td><td> 6084</td><td> 6084</td></tr>\n",
              "\t<tr><td>ORD</td><td> 7.726294</td><td>14</td><td>0.0000</td><td> 719</td><td> 719</td><td>16566</td><td>16566</td></tr>\n",
              "\t<tr><td>PIT</td><td> 7.724053</td><td> 5</td><td>7.4130</td><td> 335</td><td> 319</td><td> 2746</td><td> 2746</td></tr>\n",
              "\t<tr><td>BUF</td><td> 7.683876</td><td> 0</td><td>0.0000</td><td> 301</td><td> 282</td><td> 4570</td><td> 4570</td></tr>\n",
              "\t<tr><td>DTW</td><td> 7.543633</td><td>14</td><td>0.0000</td><td> 488</td><td> 488</td><td> 9031</td><td> 9031</td></tr>\n",
              "\t<tr><td>ROC</td><td> 7.395674</td><td>10</td><td>0.0000</td><td> 254</td><td> 246</td><td> 2358</td><td> 2358</td></tr>\n",
              "\t<tr><td>SLC</td><td> 7.357458</td><td> 0</td><td>0.0000</td><td>1990</td><td>1969</td><td> 2451</td><td> 2451</td></tr>\n",
              "\t<tr><td>SDF</td><td> 7.337980</td><td> 0</td><td>0.0000</td><td> 642</td><td> 642</td><td> 1104</td><td> 1104</td></tr>\n",
              "\t<tr><td>⋮</td><td>⋮</td><td>⋮</td><td>⋮</td><td>⋮</td><td>⋮</td><td>⋮</td><td>⋮</td></tr>\n",
              "\t<tr><td>PHL</td><td>2.74711414</td><td>2</td><td>0</td><td>  94</td><td>  80</td><td>1541</td><td>1541</td></tr>\n",
              "\t<tr><td>BTV</td><td>2.50718881</td><td>0</td><td>0</td><td> 266</td><td> 258</td><td>2510</td><td>2510</td></tr>\n",
              "\t<tr><td>BHM</td><td>0.06097108</td><td>0</td><td>0</td><td> 866</td><td> 865</td><td> 269</td><td> 269</td></tr>\n",
              "\t<tr><td>ABQ</td><td>0.00000000</td><td>0</td><td>0</td><td>1826</td><td>1826</td><td> 254</td><td> 254</td></tr>\n",
              "\t<tr><td>ACK</td><td>0.00000000</td><td>0</td><td>0</td><td> 199</td><td> 199</td><td> 264</td><td> 264</td></tr>\n",
              "\t<tr><td>ALB</td><td>0.00000000</td><td>0</td><td>0</td><td> 143</td><td> 143</td><td> 418</td><td> 418</td></tr>\n",
              "\t<tr><td>ANC</td><td>0.00000000</td><td>0</td><td>0</td><td>3370</td><td>3370</td><td>   8</td><td>   8</td></tr>\n",
              "\t<tr><td>BDL</td><td>0.00000000</td><td>0</td><td>0</td><td> 116</td><td> 116</td><td> 412</td><td> 412</td></tr>\n",
              "\t<tr><td>BGR</td><td>0.00000000</td><td>0</td><td>0</td><td> 378</td><td> 378</td><td> 358</td><td> 358</td></tr>\n",
              "\t<tr><td>BUR</td><td>0.00000000</td><td>0</td><td>0</td><td>2465</td><td>2465</td><td> 370</td><td> 370</td></tr>\n",
              "\t<tr><td>BZN</td><td>0.00000000</td><td>0</td><td>0</td><td>1882</td><td>1882</td><td>  35</td><td>  35</td></tr>\n",
              "\t<tr><td>CAK</td><td>0.00000000</td><td>0</td><td>0</td><td> 397</td><td> 397</td><td> 842</td><td> 842</td></tr>\n",
              "\t<tr><td>CHO</td><td>0.00000000</td><td>0</td><td>0</td><td> 305</td><td> 305</td><td>  46</td><td>  46</td></tr>\n",
              "\t<tr><td>CRW</td><td>0.00000000</td><td>0</td><td>0</td><td> 444</td><td> 444</td><td> 134</td><td> 134</td></tr>\n",
              "\t<tr><td>EYW</td><td>0.00000000</td><td>0</td><td>0</td><td>1207</td><td>1207</td><td>  17</td><td>  17</td></tr>\n",
              "\t<tr><td>HDN</td><td>0.00000000</td><td>0</td><td>0</td><td>1728</td><td>1728</td><td>  14</td><td>  14</td></tr>\n",
              "\t<tr><td>ILM</td><td>0.00000000</td><td>0</td><td>0</td><td> 500</td><td> 500</td><td> 107</td><td> 107</td></tr>\n",
              "\t<tr><td>LGB</td><td>0.00000000</td><td>0</td><td>0</td><td>2465</td><td>2465</td><td> 661</td><td> 661</td></tr>\n",
              "\t<tr><td>MTJ</td><td>0.00000000</td><td>0</td><td>0</td><td>1795</td><td>1795</td><td>  14</td><td>  14</td></tr>\n",
              "\t<tr><td>MVY</td><td>0.00000000</td><td>0</td><td>0</td><td> 173</td><td> 173</td><td> 210</td><td> 210</td></tr>\n",
              "\t<tr><td>OAK</td><td>0.00000000</td><td>0</td><td>0</td><td>2576</td><td>2576</td><td> 309</td><td> 309</td></tr>\n",
              "\t<tr><td>OKC</td><td>0.00000000</td><td>0</td><td>0</td><td>1325</td><td>1325</td><td> 315</td><td> 315</td></tr>\n",
              "\t<tr><td>PSE</td><td>0.00000000</td><td>0</td><td>0</td><td>1617</td><td>1617</td><td> 358</td><td> 358</td></tr>\n",
              "\t<tr><td>PSP</td><td>0.00000000</td><td>0</td><td>0</td><td>2378</td><td>2378</td><td>  18</td><td>  18</td></tr>\n",
              "\t<tr><td>PVD</td><td>0.00000000</td><td>0</td><td>0</td><td> 160</td><td> 160</td><td> 358</td><td> 358</td></tr>\n",
              "\t<tr><td>SJC</td><td>0.00000000</td><td>0</td><td>0</td><td>2569</td><td>2569</td><td> 328</td><td> 328</td></tr>\n",
              "\t<tr><td>SMF</td><td>0.00000000</td><td>0</td><td>0</td><td>2521</td><td>2521</td><td> 282</td><td> 282</td></tr>\n",
              "\t<tr><td>SNA</td><td>0.00000000</td><td>0</td><td>0</td><td>2434</td><td>2434</td><td> 812</td><td> 812</td></tr>\n",
              "\t<tr><td>TUL</td><td>0.00000000</td><td>0</td><td>0</td><td>1215</td><td>1215</td><td> 294</td><td> 294</td></tr>\n",
              "\t<tr><td>LEX</td><td>        NA</td><td>0</td><td>0</td><td> 604</td><td> 604</td><td>   1</td><td>   1</td></tr>\n",
              "</tbody>\n",
              "</table>\n"
            ]
          },
          "metadata": {
            "tags": []
          }
        }
      ]
    },
    {
      "cell_type": "markdown",
      "metadata": {
        "id": "4JSvJHciWmZj",
        "colab_type": "text"
      },
      "source": [
        "También se pueden hacer recuentos con usando la función count() y como vimos con `sum(!is.na)` podemos hacer operaciones de \"conteo\" con operadores lógicos. "
      ]
    },
    {
      "cell_type": "code",
      "metadata": {
        "id": "vlyBvP8Pe8Nn",
        "colab_type": "code",
        "colab": {
          "base_uri": "https://localhost:8080/",
          "height": 204
        },
        "outputId": "4dddc9a3-4c63-46d1-a9ad-91f1e05cc432"
      },
      "source": [
        "head(not_cancelled)"
      ],
      "execution_count": 77,
      "outputs": [
        {
          "output_type": "display_data",
          "data": {
            "text/plain": [
              "  year month day dep_time sched_dep_time dep_delay arr_time sched_arr_time\n",
              "1 2013 1     1   517      515             2         830      819          \n",
              "2 2013 1     1   533      529             4         850      830          \n",
              "3 2013 1     1   542      540             2         923      850          \n",
              "4 2013 1     1   544      545            -1        1004     1022          \n",
              "5 2013 1     1   554      600            -6         812      837          \n",
              "6 2013 1     1   554      558            -4         740      728          \n",
              "  arr_delay carrier flight tailnum origin dest air_time distance hour minute\n",
              "1  11       UA      1545   N14228  EWR    IAH  227      1400     5    15    \n",
              "2  20       UA      1714   N24211  LGA    IAH  227      1416     5    29    \n",
              "3  33       AA      1141   N619AA  JFK    MIA  160      1089     5    40    \n",
              "4 -18       B6       725   N804JB  JFK    BQN  183      1576     5    45    \n",
              "5 -25       DL       461   N668DN  LGA    ATL  116       762     6     0    \n",
              "6  12       UA      1696   N39463  EWR    ORD  150       719     5    58    \n",
              "  time_hour          \n",
              "1 2013-01-01 05:00:00\n",
              "2 2013-01-01 05:00:00\n",
              "3 2013-01-01 05:00:00\n",
              "4 2013-01-01 05:00:00\n",
              "5 2013-01-01 06:00:00\n",
              "6 2013-01-01 05:00:00"
            ],
            "text/latex": "A tibble: 6 × 19\n\\begin{tabular}{lllllllllllllllllll}\n year & month & day & dep\\_time & sched\\_dep\\_time & dep\\_delay & arr\\_time & sched\\_arr\\_time & arr\\_delay & carrier & flight & tailnum & origin & dest & air\\_time & distance & hour & minute & time\\_hour\\\\\n <int> & <int> & <int> & <int> & <int> & <dbl> & <int> & <int> & <dbl> & <chr> & <int> & <chr> & <chr> & <chr> & <dbl> & <dbl> & <dbl> & <dbl> & <dttm>\\\\\n\\hline\n\t 2013 & 1 & 1 & 517 & 515 &  2 &  830 &  819 &  11 & UA & 1545 & N14228 & EWR & IAH & 227 & 1400 & 5 & 15 & 2013-01-01 05:00:00\\\\\n\t 2013 & 1 & 1 & 533 & 529 &  4 &  850 &  830 &  20 & UA & 1714 & N24211 & LGA & IAH & 227 & 1416 & 5 & 29 & 2013-01-01 05:00:00\\\\\n\t 2013 & 1 & 1 & 542 & 540 &  2 &  923 &  850 &  33 & AA & 1141 & N619AA & JFK & MIA & 160 & 1089 & 5 & 40 & 2013-01-01 05:00:00\\\\\n\t 2013 & 1 & 1 & 544 & 545 & -1 & 1004 & 1022 & -18 & B6 &  725 & N804JB & JFK & BQN & 183 & 1576 & 5 & 45 & 2013-01-01 05:00:00\\\\\n\t 2013 & 1 & 1 & 554 & 600 & -6 &  812 &  837 & -25 & DL &  461 & N668DN & LGA & ATL & 116 &  762 & 6 &  0 & 2013-01-01 06:00:00\\\\\n\t 2013 & 1 & 1 & 554 & 558 & -4 &  740 &  728 &  12 & UA & 1696 & N39463 & EWR & ORD & 150 &  719 & 5 & 58 & 2013-01-01 05:00:00\\\\\n\\end{tabular}\n",
            "text/markdown": "\nA tibble: 6 × 19\n\n| year &lt;int&gt; | month &lt;int&gt; | day &lt;int&gt; | dep_time &lt;int&gt; | sched_dep_time &lt;int&gt; | dep_delay &lt;dbl&gt; | arr_time &lt;int&gt; | sched_arr_time &lt;int&gt; | arr_delay &lt;dbl&gt; | carrier &lt;chr&gt; | flight &lt;int&gt; | tailnum &lt;chr&gt; | origin &lt;chr&gt; | dest &lt;chr&gt; | air_time &lt;dbl&gt; | distance &lt;dbl&gt; | hour &lt;dbl&gt; | minute &lt;dbl&gt; | time_hour &lt;dttm&gt; |\n|---|---|---|---|---|---|---|---|---|---|---|---|---|---|---|---|---|---|---|\n| 2013 | 1 | 1 | 517 | 515 |  2 |  830 |  819 |  11 | UA | 1545 | N14228 | EWR | IAH | 227 | 1400 | 5 | 15 | 2013-01-01 05:00:00 |\n| 2013 | 1 | 1 | 533 | 529 |  4 |  850 |  830 |  20 | UA | 1714 | N24211 | LGA | IAH | 227 | 1416 | 5 | 29 | 2013-01-01 05:00:00 |\n| 2013 | 1 | 1 | 542 | 540 |  2 |  923 |  850 |  33 | AA | 1141 | N619AA | JFK | MIA | 160 | 1089 | 5 | 40 | 2013-01-01 05:00:00 |\n| 2013 | 1 | 1 | 544 | 545 | -1 | 1004 | 1022 | -18 | B6 |  725 | N804JB | JFK | BQN | 183 | 1576 | 5 | 45 | 2013-01-01 05:00:00 |\n| 2013 | 1 | 1 | 554 | 600 | -6 |  812 |  837 | -25 | DL |  461 | N668DN | LGA | ATL | 116 |  762 | 6 |  0 | 2013-01-01 06:00:00 |\n| 2013 | 1 | 1 | 554 | 558 | -4 |  740 |  728 |  12 | UA | 1696 | N39463 | EWR | ORD | 150 |  719 | 5 | 58 | 2013-01-01 05:00:00 |\n\n",
            "text/html": [
              "<table>\n",
              "<caption>A tibble: 6 × 19</caption>\n",
              "<thead>\n",
              "\t<tr><th scope=col>year</th><th scope=col>month</th><th scope=col>day</th><th scope=col>dep_time</th><th scope=col>sched_dep_time</th><th scope=col>dep_delay</th><th scope=col>arr_time</th><th scope=col>sched_arr_time</th><th scope=col>arr_delay</th><th scope=col>carrier</th><th scope=col>flight</th><th scope=col>tailnum</th><th scope=col>origin</th><th scope=col>dest</th><th scope=col>air_time</th><th scope=col>distance</th><th scope=col>hour</th><th scope=col>minute</th><th scope=col>time_hour</th></tr>\n",
              "\t<tr><th scope=col>&lt;int&gt;</th><th scope=col>&lt;int&gt;</th><th scope=col>&lt;int&gt;</th><th scope=col>&lt;int&gt;</th><th scope=col>&lt;int&gt;</th><th scope=col>&lt;dbl&gt;</th><th scope=col>&lt;int&gt;</th><th scope=col>&lt;int&gt;</th><th scope=col>&lt;dbl&gt;</th><th scope=col>&lt;chr&gt;</th><th scope=col>&lt;int&gt;</th><th scope=col>&lt;chr&gt;</th><th scope=col>&lt;chr&gt;</th><th scope=col>&lt;chr&gt;</th><th scope=col>&lt;dbl&gt;</th><th scope=col>&lt;dbl&gt;</th><th scope=col>&lt;dbl&gt;</th><th scope=col>&lt;dbl&gt;</th><th scope=col>&lt;dttm&gt;</th></tr>\n",
              "</thead>\n",
              "<tbody>\n",
              "\t<tr><td>2013</td><td>1</td><td>1</td><td>517</td><td>515</td><td> 2</td><td> 830</td><td> 819</td><td> 11</td><td>UA</td><td>1545</td><td>N14228</td><td>EWR</td><td>IAH</td><td>227</td><td>1400</td><td>5</td><td>15</td><td>2013-01-01 05:00:00</td></tr>\n",
              "\t<tr><td>2013</td><td>1</td><td>1</td><td>533</td><td>529</td><td> 4</td><td> 850</td><td> 830</td><td> 20</td><td>UA</td><td>1714</td><td>N24211</td><td>LGA</td><td>IAH</td><td>227</td><td>1416</td><td>5</td><td>29</td><td>2013-01-01 05:00:00</td></tr>\n",
              "\t<tr><td>2013</td><td>1</td><td>1</td><td>542</td><td>540</td><td> 2</td><td> 923</td><td> 850</td><td> 33</td><td>AA</td><td>1141</td><td>N619AA</td><td>JFK</td><td>MIA</td><td>160</td><td>1089</td><td>5</td><td>40</td><td>2013-01-01 05:00:00</td></tr>\n",
              "\t<tr><td>2013</td><td>1</td><td>1</td><td>544</td><td>545</td><td>-1</td><td>1004</td><td>1022</td><td>-18</td><td>B6</td><td> 725</td><td>N804JB</td><td>JFK</td><td>BQN</td><td>183</td><td>1576</td><td>5</td><td>45</td><td>2013-01-01 05:00:00</td></tr>\n",
              "\t<tr><td>2013</td><td>1</td><td>1</td><td>554</td><td>600</td><td>-6</td><td> 812</td><td> 837</td><td>-25</td><td>DL</td><td> 461</td><td>N668DN</td><td>LGA</td><td>ATL</td><td>116</td><td> 762</td><td>6</td><td> 0</td><td>2013-01-01 06:00:00</td></tr>\n",
              "\t<tr><td>2013</td><td>1</td><td>1</td><td>554</td><td>558</td><td>-4</td><td> 740</td><td> 728</td><td> 12</td><td>UA</td><td>1696</td><td>N39463</td><td>EWR</td><td>ORD</td><td>150</td><td> 719</td><td>5</td><td>58</td><td>2013-01-01 05:00:00</td></tr>\n",
              "</tbody>\n",
              "</table>\n"
            ]
          },
          "metadata": {
            "tags": []
          }
        }
      ]
    },
    {
      "cell_type": "code",
      "metadata": {
        "id": "1-0iD0SoWvfA",
        "colab_type": "code",
        "colab": {
          "base_uri": "https://localhost:8080/",
          "height": 204
        },
        "outputId": "74c13d92-a4a5-4fbf-c1b6-a6d71cf441a0"
      },
      "source": [
        "head(not_cancelled %>% \n",
        "  count(tailnum, wt = distance))"
      ],
      "execution_count": 78,
      "outputs": [
        {
          "output_type": "display_data",
          "data": {
            "text/plain": [
              "  tailnum n     \n",
              "1 D942DN    3418\n",
              "2 N0EGMQ  239143\n",
              "3 N10156  109664\n",
              "4 N102UW   25722\n",
              "5 N103US   24619\n",
              "6 N104UW   24616"
            ],
            "text/latex": "A tibble: 6 × 2\n\\begin{tabular}{ll}\n tailnum & n\\\\\n <chr> & <dbl>\\\\\n\\hline\n\t D942DN &   3418\\\\\n\t N0EGMQ & 239143\\\\\n\t N10156 & 109664\\\\\n\t N102UW &  25722\\\\\n\t N103US &  24619\\\\\n\t N104UW &  24616\\\\\n\\end{tabular}\n",
            "text/markdown": "\nA tibble: 6 × 2\n\n| tailnum &lt;chr&gt; | n &lt;dbl&gt; |\n|---|---|\n| D942DN |   3418 |\n| N0EGMQ | 239143 |\n| N10156 | 109664 |\n| N102UW |  25722 |\n| N103US |  24619 |\n| N104UW |  24616 |\n\n",
            "text/html": [
              "<table>\n",
              "<caption>A tibble: 6 × 2</caption>\n",
              "<thead>\n",
              "\t<tr><th scope=col>tailnum</th><th scope=col>n</th></tr>\n",
              "\t<tr><th scope=col>&lt;chr&gt;</th><th scope=col>&lt;dbl&gt;</th></tr>\n",
              "</thead>\n",
              "<tbody>\n",
              "\t<tr><td>D942DN</td><td>  3418</td></tr>\n",
              "\t<tr><td>N0EGMQ</td><td>239143</td></tr>\n",
              "\t<tr><td>N10156</td><td>109664</td></tr>\n",
              "\t<tr><td>N102UW</td><td> 25722</td></tr>\n",
              "\t<tr><td>N103US</td><td> 24619</td></tr>\n",
              "\t<tr><td>N104UW</td><td> 24616</td></tr>\n",
              "</tbody>\n",
              "</table>\n"
            ]
          },
          "metadata": {
            "tags": []
          }
        }
      ]
    },
    {
      "cell_type": "code",
      "metadata": {
        "id": "8sXSoCSpXCT8",
        "colab_type": "code",
        "colab": {
          "base_uri": "https://localhost:8080/",
          "height": 238
        },
        "outputId": "0021de4d-fe7d-439d-c850-16f4ec128592"
      },
      "source": [
        "head(not_cancelled %>% \n",
        "  group_by(year, month, day) %>% \n",
        "  summarise(n_early = sum(dep_time < 500)))"
      ],
      "execution_count": 79,
      "outputs": [
        {
          "output_type": "stream",
          "text": [
            "`summarise()` regrouping output by 'year', 'month' (override with `.groups` argument)\n",
            "\n"
          ],
          "name": "stderr"
        },
        {
          "output_type": "display_data",
          "data": {
            "text/plain": [
              "  year month day n_early\n",
              "1 2013 1     1   0      \n",
              "2 2013 1     2   3      \n",
              "3 2013 1     3   4      \n",
              "4 2013 1     4   3      \n",
              "5 2013 1     5   3      \n",
              "6 2013 1     6   2      "
            ],
            "text/latex": "A grouped\\_df: 6 × 4\n\\begin{tabular}{llll}\n year & month & day & n\\_early\\\\\n <int> & <int> & <int> & <int>\\\\\n\\hline\n\t 2013 & 1 & 1 & 0\\\\\n\t 2013 & 1 & 2 & 3\\\\\n\t 2013 & 1 & 3 & 4\\\\\n\t 2013 & 1 & 4 & 3\\\\\n\t 2013 & 1 & 5 & 3\\\\\n\t 2013 & 1 & 6 & 2\\\\\n\\end{tabular}\n",
            "text/markdown": "\nA grouped_df: 6 × 4\n\n| year &lt;int&gt; | month &lt;int&gt; | day &lt;int&gt; | n_early &lt;int&gt; |\n|---|---|---|---|\n| 2013 | 1 | 1 | 0 |\n| 2013 | 1 | 2 | 3 |\n| 2013 | 1 | 3 | 4 |\n| 2013 | 1 | 4 | 3 |\n| 2013 | 1 | 5 | 3 |\n| 2013 | 1 | 6 | 2 |\n\n",
            "text/html": [
              "<table>\n",
              "<caption>A grouped_df: 6 × 4</caption>\n",
              "<thead>\n",
              "\t<tr><th scope=col>year</th><th scope=col>month</th><th scope=col>day</th><th scope=col>n_early</th></tr>\n",
              "\t<tr><th scope=col>&lt;int&gt;</th><th scope=col>&lt;int&gt;</th><th scope=col>&lt;int&gt;</th><th scope=col>&lt;int&gt;</th></tr>\n",
              "</thead>\n",
              "<tbody>\n",
              "\t<tr><td>2013</td><td>1</td><td>1</td><td>0</td></tr>\n",
              "\t<tr><td>2013</td><td>1</td><td>2</td><td>3</td></tr>\n",
              "\t<tr><td>2013</td><td>1</td><td>3</td><td>4</td></tr>\n",
              "\t<tr><td>2013</td><td>1</td><td>4</td><td>3</td></tr>\n",
              "\t<tr><td>2013</td><td>1</td><td>5</td><td>3</td></tr>\n",
              "\t<tr><td>2013</td><td>1</td><td>6</td><td>2</td></tr>\n",
              "</tbody>\n",
              "</table>\n"
            ]
          },
          "metadata": {
            "tags": []
          }
        }
      ]
    },
    {
      "cell_type": "markdown",
      "metadata": {
        "id": "3Ts4xsDBUkuq",
        "colab_type": "text"
      },
      "source": [
        "\n",
        "Cuando agrupa por múltiples variables, **cada resumen despega un nivel de la agrupación**. Eso facilita la acumulación progresiva de un conjunto de datos. Tenga cuidado al acumular resúmenes progresivamente, está bien para sumas y recuentos, pero debe pensar en los medios de ponderación y las variaciones."
      ]
    },
    {
      "cell_type": "code",
      "metadata": {
        "id": "LkY_pRdPT_BB",
        "colab_type": "code",
        "colab": {
          "base_uri": "https://localhost:8080/",
          "height": 201
        },
        "outputId": "48a857fa-4b89-4688-bd28-430f3864de57"
      },
      "source": [
        "daily <- group_by(flights, year, month, day)\n",
        "per_day   <- summarise(daily, flights = n())\n",
        "per_month <- summarise(per_day, flights = sum(flights))\n",
        "per_year  <- summarise(per_month, flights = sum(flights))\n",
        "per_year"
      ],
      "execution_count": 80,
      "outputs": [
        {
          "output_type": "stream",
          "text": [
            "`summarise()` regrouping output by 'year', 'month' (override with `.groups` argument)\n",
            "\n",
            "`summarise()` regrouping output by 'year' (override with `.groups` argument)\n",
            "\n",
            "`summarise()` ungrouping output (override with `.groups` argument)\n",
            "\n"
          ],
          "name": "stderr"
        },
        {
          "output_type": "display_data",
          "data": {
            "text/plain": [
              "  year flights\n",
              "1 2013 336776 "
            ],
            "text/latex": "A tibble: 1 × 2\n\\begin{tabular}{ll}\n year & flights\\\\\n <int> & <int>\\\\\n\\hline\n\t 2013 & 336776\\\\\n\\end{tabular}\n",
            "text/markdown": "\nA tibble: 1 × 2\n\n| year &lt;int&gt; | flights &lt;int&gt; |\n|---|---|\n| 2013 | 336776 |\n\n",
            "text/html": [
              "<table>\n",
              "<caption>A tibble: 1 × 2</caption>\n",
              "<thead>\n",
              "\t<tr><th scope=col>year</th><th scope=col>flights</th></tr>\n",
              "\t<tr><th scope=col>&lt;int&gt;</th><th scope=col>&lt;int&gt;</th></tr>\n",
              "</thead>\n",
              "<tbody>\n",
              "\t<tr><td>2013</td><td>336776</td></tr>\n",
              "</tbody>\n",
              "</table>\n"
            ]
          },
          "metadata": {
            "tags": []
          }
        }
      ]
    },
    {
      "cell_type": "markdown",
      "metadata": {
        "id": "2EY9CKekaSL1",
        "colab_type": "text"
      },
      "source": [
        "## Mutate() y filter()\n",
        "\n",
        "La agrupación es más útil junto con summarise(), pero también puede realizar operaciones convenientes con mutate()y filter(). Por ejemplo:\n",
        "\n",
        "1. Encuentra aquellos vuelos por fecha que tuvieron mayor retraso\n",
        "\n",
        "2. Encuentra todos los grupos más grande que cierto umbral\n",
        "\n",
        "3. Aplica una normalización a los datos"
      ]
    },
    {
      "cell_type": "code",
      "metadata": {
        "id": "5p20JiPoa2mi",
        "colab_type": "code",
        "colab": {}
      },
      "source": [
        "topten <- flights %>% \n",
        "  group_by(year, month, day) %>%\n",
        "  filter(rank(desc(arr_delay)) < 10) # desc -> descending order\n",
        "\n",
        "popular_dests <- flights %>% \n",
        "  group_by(dest) %>% \n",
        "  filter(n() > 365)\n",
        "\n",
        "popular_dests_n <- popular_dests %>% \n",
        "  filter(arr_delay > 0) %>% \n",
        "  mutate(prop_delay = arr_delay / sum(arr_delay)) %>% \n",
        "  select(year:day, dest, arr_delay, prop_delay)"
      ],
      "execution_count": 81,
      "outputs": []
    },
    {
      "cell_type": "markdown",
      "metadata": {
        "id": "Y-o2EwP5b6mI",
        "colab_type": "text"
      },
      "source": [
        "#Ejercicios de agrupaciones"
      ]
    },
    {
      "cell_type": "code",
      "metadata": {
        "id": "nKqXCKXUcGU3",
        "colab_type": "code",
        "colab": {
          "base_uri": "https://localhost:8080/",
          "height": 70
        },
        "outputId": "8deb07d5-ad5c-4444-c2ea-2aba9fbf4688"
      },
      "source": [
        "install.packages(\"Lahman\")\n",
        "library(Lahman)"
      ],
      "execution_count": null,
      "outputs": [
        {
          "output_type": "stream",
          "text": [
            "Installing package into ‘/usr/local/lib/R/site-library’\n",
            "(as ‘lib’ is unspecified)\n",
            "\n"
          ],
          "name": "stderr"
        }
      ]
    },
    {
      "cell_type": "markdown",
      "metadata": {
        "id": "6BOOFmjZb9Zu",
        "colab_type": "text"
      },
      "source": [
        "## Ejercicio 1 \n",
        "\n",
        "Veamos cómo el rendimiento promedio de los bateadores en el béisbol está relacionado con la cantidad de veces que están bateando. Usemos los datos paquete Lahman para calcular el promedio de bateo (número de golpes / número de intentos) de cada jugador de béisbol de las grandes ligas y **grafiquemos**\n"
      ]
    },
    {
      "cell_type": "code",
      "metadata": {
        "id": "r3p9lWF3ccsA",
        "colab_type": "code",
        "colab": {}
      },
      "source": [
        "#@title Solución **acá**\n",
        "\n",
        "if (F){\n",
        "batting <- as_tibble(Lahman::Batting)\n",
        "\n",
        "batters <- batting %>% \n",
        "  group_by(playerID) %>% \n",
        "  summarise(\n",
        "    ba = sum(H, na.rm = TRUE) / sum(AB, na.rm = TRUE),\n",
        "    ab = sum(AB, na.rm = TRUE)\n",
        "  )\n",
        "\n",
        "batters %>% \n",
        "  filter(ab > 100) %>% \n",
        "  ggplot(mapping = aes(x = ab, y = ba)) +\n",
        "    geom_point() + \n",
        "    geom_smooth(se = FALSE) +\n",
        "    theme(text = element_text(size=20))\n",
        "}"
      ],
      "execution_count": null,
      "outputs": []
    },
    {
      "cell_type": "markdown",
      "metadata": {
        "id": "MN-Mn02Ecz7V",
        "colab_type": "text"
      },
      "source": [
        "## Ejericicio 2\n",
        "Mira la cantidad de vuelos cancelados por día. ¿Hay un patrón? ¿La proporción de vuelos cancelados está relacionada con el retraso promedio?\n"
      ]
    },
    {
      "cell_type": "code",
      "metadata": {
        "id": "MDDjFoPKdCf7",
        "colab_type": "code",
        "colab": {
          "base_uri": "https://localhost:8080/",
          "height": 52
        },
        "outputId": "ee938561-818d-498a-befb-cc6bd84b26e5"
      },
      "source": [
        "#@title Solución **acá**\n",
        "\n",
        "cancelled <-flights %>%\n",
        "  group_by(year, month, day) %>%\n",
        "  summarise(\n",
        "    cancelled_n = sum(is.na(dep_delay) |is.na(arr_delay)),\n",
        "    delay = mean(arr_delay, na.rm = TRUE),\n",
        "    delay_n = sum(arr_delay>0,na.rm = TRUE),\n",
        "    total_n = n()\n",
        "  ) "
      ],
      "execution_count": null,
      "outputs": [
        {
          "output_type": "stream",
          "text": [
            "`summarise()` regrouping output by 'year', 'month' (override with `.groups` argument)\n",
            "\n"
          ],
          "name": "stderr"
        }
      ]
    },
    {
      "cell_type": "markdown",
      "metadata": {
        "id": "86mQVmxec-ps",
        "colab_type": "text"
      },
      "source": [
        "Tome por cada hora los 10 peores retrasos y halle el mayor por cada hora y organice. \n",
        "\n",
        "\n"
      ]
    },
    {
      "cell_type": "code",
      "metadata": {
        "id": "cUBJCoTEbO2m",
        "colab_type": "code",
        "colab": {
          "base_uri": "https://localhost:8080/",
          "height": 52
        },
        "outputId": "78f94cd1-7cd8-4fe7-d428-b925a5448cbe"
      },
      "source": [
        "#@title Solución **acá**\n",
        "top_hours <-flights %>%\n",
        "  group_by(hour) %>%\n",
        "  filter(rank(desc(arr_delay))<10)%>%\n",
        "  summarise(\n",
        "    max_delay = max(arr_delay,rm.na =T)\n",
        "  )\n",
        "\n",
        "#arrange(top_hours,desc(max_delay))\n",
        "\n",
        "   "
      ],
      "execution_count": null,
      "outputs": [
        {
          "output_type": "stream",
          "text": [
            "`summarise()` ungrouping output (override with `.groups` argument)\n",
            "\n"
          ],
          "name": "stderr"
        }
      ]
    }
  ]
}