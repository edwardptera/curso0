{
  "nbformat": 4,
  "nbformat_minor": 0,
  "metadata": {
    "colab": {
      "name": "S08_C0.ipynb",
      "provenance": [],
      "collapsed_sections": []
    },
    "kernelspec": {
      "name": "python3",
      "display_name": "Python 3"
    }
  },
  "cells": [
    {
      "cell_type": "markdown",
      "metadata": {
        "id": "JTgaeeCLfNKv",
        "colab_type": "text"
      },
      "source": [
        "<p><img alt=\"Colaboratory logo\" height=\"140px\" src=\"https://upload.wikimedia.org/wikipedia/commons/archive/f/fb/20161010213812%21Escudo-UdeA.svg\" align=\"left\" hspace=\"10px\" vspace=\"0px\"></p>\n",
        "\n",
        "# **Curso de bases para AI - Universidad de Antioquia**\n",
        "\n",
        "\n",
        "El presente curso hace parte del centro de Big Data de la facultad de ciencias exactas y naturales (FCEN) de la Universidad de Antioquia.\n",
        "\n",
        "\\\n",
        "\n",
        "El curso será dictado en 16 sesiones o clases de 4 horas los días sábado en las instalaciones de la universidad. Para un total de dededicación temporal de 64 horas. El curso cuenta con los siguientes módulos:\n",
        "\n",
        "1. Bases matemáticas y de programación. (10H)\n",
        "2. Bases de Python. (19H)\n",
        "3. Bases de R. (13H)\n",
        "4. Procesamiento de datos. (22H)"
      ]
    },
    {
      "cell_type": "code",
      "metadata": {
        "id": "qwV9Xywect4w",
        "colab_type": "code",
        "colab": {}
      },
      "source": [
        "import pandas as pd\n",
        "import numpy as np"
      ],
      "execution_count": 0,
      "outputs": []
    },
    {
      "cell_type": "markdown",
      "metadata": {
        "id": "kon8fxp5KISl",
        "colab_type": "text"
      },
      "source": [
        "#**Agregación de datos:**\n",
        "\n",
        "Por agregación se entiende varios tipos de tranformaciones que producen un valor escalar a partir de un arreglo. En los métodos que usamos junto a `groupby`vimos muchos de ellos como `sum`, `count`, `min`, `max`, etc. Algunos de ellos se describen en la siguiente tabla:\n",
        "\n",
        "| Función | Descripción |\n",
        "| --- | --- |\n",
        "| `count` | Determina el número de elementos diferentes a `NaN` |\n",
        "| `sum` | Suma elementos diferentes a `NaN` |\n",
        "| `mean` | Media de elementos diferentes a `NaN` |\n",
        "| `std, var` | Desviación estandar y Varianza |\n",
        "| `min, max` | Valores mínimos y máximos |\n",
        "| `count` | Producto de los valores distinto a `NaN` |\n",
        "| `first, last` | Primer y último elementos distintos a `NaN` |\n",
        "\n",
        "Veamos una applicación de estas funciones mediante el método `agg`. Para ello, vamos a usar un dataset de `kaggle` de 'Animal Crossing', un video juego de simulación social de Nintendo. El dataset que usaremos se llama 'items.csv' el cual contine información sobre aldeanos, articulos, manualidades, accesorios, etc."
      ]
    },
    {
      "cell_type": "code",
      "metadata": {
        "id": "u1euatmPOYDg",
        "colab_type": "code",
        "colab": {}
      },
      "source": [
        "dfA = pd.read_csv('https://raw.githubusercontent.com/diplomado-bigdata-machinelearning-udea/curso0/master/s08/datasets/items.csv')"
      ],
      "execution_count": 0,
      "outputs": []
    },
    {
      "cell_type": "code",
      "metadata": {
        "id": "rdVGNtKDc_Yr",
        "colab_type": "code",
        "outputId": "ceb88d17-b0e0-4049-ca84-5a3b11a960ce",
        "colab": {
          "base_uri": "https://localhost:8080/",
          "height": 299
        }
      },
      "source": [
        "dfA.head()"
      ],
      "execution_count": 0,
      "outputs": [
        {
          "output_type": "execute_result",
          "data": {
            "text/html": [
              "<div>\n",
              "<style scoped>\n",
              "    .dataframe tbody tr th:only-of-type {\n",
              "        vertical-align: middle;\n",
              "    }\n",
              "\n",
              "    .dataframe tbody tr th {\n",
              "        vertical-align: top;\n",
              "    }\n",
              "\n",
              "    .dataframe thead th {\n",
              "        text-align: right;\n",
              "    }\n",
              "</style>\n",
              "<table border=\"1\" class=\"dataframe\">\n",
              "  <thead>\n",
              "    <tr style=\"text-align: right;\">\n",
              "      <th></th>\n",
              "      <th>num_id</th>\n",
              "      <th>id</th>\n",
              "      <th>name</th>\n",
              "      <th>category</th>\n",
              "      <th>orderable</th>\n",
              "      <th>sell_value</th>\n",
              "      <th>sell_currency</th>\n",
              "      <th>buy_value</th>\n",
              "      <th>buy_currency</th>\n",
              "      <th>sources</th>\n",
              "      <th>customizable</th>\n",
              "      <th>recipe</th>\n",
              "      <th>recipe_id</th>\n",
              "      <th>games_id</th>\n",
              "      <th>id_full</th>\n",
              "      <th>image_url</th>\n",
              "    </tr>\n",
              "  </thead>\n",
              "  <tbody>\n",
              "    <tr>\n",
              "      <th>0</th>\n",
              "      <td>12</td>\n",
              "      <td>3d-glasses</td>\n",
              "      <td>3D Glasses</td>\n",
              "      <td>Accessories</td>\n",
              "      <td>NaN</td>\n",
              "      <td>122.0</td>\n",
              "      <td>bells</td>\n",
              "      <td>490.0</td>\n",
              "      <td>bells</td>\n",
              "      <td>NaN</td>\n",
              "      <td>NaN</td>\n",
              "      <td>NaN</td>\n",
              "      <td>NaN</td>\n",
              "      <td>nh</td>\n",
              "      <td>item-3d-glasses</td>\n",
              "      <td>https://villagerdb.com/images/items/full/3d-gl...</td>\n",
              "    </tr>\n",
              "    <tr>\n",
              "      <th>1</th>\n",
              "      <td>14</td>\n",
              "      <td>a-tee</td>\n",
              "      <td>A Tee</td>\n",
              "      <td>Tops</td>\n",
              "      <td>NaN</td>\n",
              "      <td>140.0</td>\n",
              "      <td>bells</td>\n",
              "      <td>560.0</td>\n",
              "      <td>bells</td>\n",
              "      <td>NaN</td>\n",
              "      <td>NaN</td>\n",
              "      <td>NaN</td>\n",
              "      <td>NaN</td>\n",
              "      <td>nh</td>\n",
              "      <td>item-a-tee</td>\n",
              "      <td>https://villagerdb.com/images/items/full/a-tee...</td>\n",
              "    </tr>\n",
              "    <tr>\n",
              "      <th>2</th>\n",
              "      <td>17</td>\n",
              "      <td>abstract-wall</td>\n",
              "      <td>Abstract Wall</td>\n",
              "      <td>Wallpaper</td>\n",
              "      <td>True</td>\n",
              "      <td>390.0</td>\n",
              "      <td>bells</td>\n",
              "      <td>1560.0</td>\n",
              "      <td>bells</td>\n",
              "      <td>Nook's Cranny</td>\n",
              "      <td>NaN</td>\n",
              "      <td>NaN</td>\n",
              "      <td>NaN</td>\n",
              "      <td>nh</td>\n",
              "      <td>NaN</td>\n",
              "      <td>NaN</td>\n",
              "    </tr>\n",
              "    <tr>\n",
              "      <th>3</th>\n",
              "      <td>19</td>\n",
              "      <td>academy-uniform</td>\n",
              "      <td>Academy Uniform</td>\n",
              "      <td>Dresses</td>\n",
              "      <td>NaN</td>\n",
              "      <td>520.0</td>\n",
              "      <td>bells</td>\n",
              "      <td>2080.0</td>\n",
              "      <td>bells</td>\n",
              "      <td>NaN</td>\n",
              "      <td>NaN</td>\n",
              "      <td>NaN</td>\n",
              "      <td>NaN</td>\n",
              "      <td>nh</td>\n",
              "      <td>item-academy-uniform</td>\n",
              "      <td>https://villagerdb.com/images/items/full/acade...</td>\n",
              "    </tr>\n",
              "    <tr>\n",
              "      <th>4</th>\n",
              "      <td>20</td>\n",
              "      <td>acanthostega</td>\n",
              "      <td>Acanthostega</td>\n",
              "      <td>Fossils</td>\n",
              "      <td>False</td>\n",
              "      <td>2000.0</td>\n",
              "      <td>bells</td>\n",
              "      <td>NaN</td>\n",
              "      <td>NaN</td>\n",
              "      <td>Underground (dig spot)</td>\n",
              "      <td>NaN</td>\n",
              "      <td>NaN</td>\n",
              "      <td>NaN</td>\n",
              "      <td>nh</td>\n",
              "      <td>item-acanthostega</td>\n",
              "      <td>https://villagerdb.com/images/items/thumb/acan...</td>\n",
              "    </tr>\n",
              "  </tbody>\n",
              "</table>\n",
              "</div>"
            ],
            "text/plain": [
              "   num_id  ...                                          image_url\n",
              "0      12  ...  https://villagerdb.com/images/items/full/3d-gl...\n",
              "1      14  ...  https://villagerdb.com/images/items/full/a-tee...\n",
              "2      17  ...                                                NaN\n",
              "3      19  ...  https://villagerdb.com/images/items/full/acade...\n",
              "4      20  ...  https://villagerdb.com/images/items/thumb/acan...\n",
              "\n",
              "[5 rows x 16 columns]"
            ]
          },
          "metadata": {
            "tags": []
          },
          "execution_count": 3
        }
      ]
    },
    {
      "cell_type": "markdown",
      "metadata": {
        "id": "A3OmOEMtOXgB",
        "colab_type": "text"
      },
      "source": [
        "Este dataset contiene muchos datos faltantes, sin embargo, no trataremos el dataset con el fin de ver el efecto de estos datos faltantes en las diferentes funciones que aplicaremos de forma \"agregada\"."
      ]
    },
    {
      "cell_type": "code",
      "metadata": {
        "id": "hjeuK-acdm7L",
        "colab_type": "code",
        "outputId": "9ecaed89-83d5-4e12-fd6d-dd0dd9774444",
        "colab": {
          "base_uri": "https://localhost:8080/",
          "height": 316
        }
      },
      "source": [
        "dfA.isnull().sum()"
      ],
      "execution_count": 0,
      "outputs": [
        {
          "output_type": "execute_result",
          "data": {
            "text/plain": [
              "num_id              0\n",
              "id                  0\n",
              "name                0\n",
              "category            0\n",
              "orderable        2775\n",
              "sell_value         36\n",
              "sell_currency      36\n",
              "buy_value        1014\n",
              "buy_currency     1014\n",
              "sources          3663\n",
              "customizable     3992\n",
              "recipe           3977\n",
              "recipe_id        3977\n",
              "games_id            0\n",
              "id_full          1528\n",
              "image_url        1528\n",
              "dtype: int64"
            ]
          },
          "metadata": {
            "tags": []
          },
          "execution_count": 4
        }
      ]
    },
    {
      "cell_type": "markdown",
      "metadata": {
        "id": "Ln3YJprSiCqe",
        "colab_type": "text"
      },
      "source": [
        "Realicemos un agrupamiento por categorias de los productos y hallemos el valor medio:"
      ]
    },
    {
      "cell_type": "code",
      "metadata": {
        "id": "SwBiVM2JfHQZ",
        "colab_type": "code",
        "outputId": "490ab36c-570f-40e6-ba1b-6bb98f6dfedd",
        "colab": {
          "base_uri": "https://localhost:8080/",
          "height": 698
        }
      },
      "source": [
        "dfA.groupby(['category']).agg('mean')"
      ],
      "execution_count": 0,
      "outputs": [
        {
          "output_type": "execute_result",
          "data": {
            "text/html": [
              "<div>\n",
              "<style scoped>\n",
              "    .dataframe tbody tr th:only-of-type {\n",
              "        vertical-align: middle;\n",
              "    }\n",
              "\n",
              "    .dataframe tbody tr th {\n",
              "        vertical-align: top;\n",
              "    }\n",
              "\n",
              "    .dataframe thead th {\n",
              "        text-align: right;\n",
              "    }\n",
              "</style>\n",
              "<table border=\"1\" class=\"dataframe\">\n",
              "  <thead>\n",
              "    <tr style=\"text-align: right;\">\n",
              "      <th></th>\n",
              "      <th>num_id</th>\n",
              "      <th>sell_value</th>\n",
              "      <th>buy_value</th>\n",
              "      <th>recipe</th>\n",
              "    </tr>\n",
              "    <tr>\n",
              "      <th>category</th>\n",
              "      <th></th>\n",
              "      <th></th>\n",
              "      <th></th>\n",
              "      <th></th>\n",
              "    </tr>\n",
              "  </thead>\n",
              "  <tbody>\n",
              "    <tr>\n",
              "      <th>Accessories</th>\n",
              "      <td>3520.260163</td>\n",
              "      <td>637.284553</td>\n",
              "      <td>1911.754386</td>\n",
              "      <td>4.250000</td>\n",
              "    </tr>\n",
              "    <tr>\n",
              "      <th>Bottoms</th>\n",
              "      <td>3540.633803</td>\n",
              "      <td>298.345070</td>\n",
              "      <td>1197.943262</td>\n",
              "      <td>7.000000</td>\n",
              "    </tr>\n",
              "    <tr>\n",
              "      <th>Bugs</th>\n",
              "      <td>3591.875000</td>\n",
              "      <td>2220.500000</td>\n",
              "      <td>10510.877193</td>\n",
              "      <td>NaN</td>\n",
              "    </tr>\n",
              "    <tr>\n",
              "      <th>Dresses</th>\n",
              "      <td>3582.615063</td>\n",
              "      <td>1114.058577</td>\n",
              "      <td>3803.788546</td>\n",
              "      <td>4.470588</td>\n",
              "    </tr>\n",
              "    <tr>\n",
              "      <th>Fish</th>\n",
              "      <td>3024.148515</td>\n",
              "      <td>3808.811881</td>\n",
              "      <td>NaN</td>\n",
              "      <td>NaN</td>\n",
              "    </tr>\n",
              "    <tr>\n",
              "      <th>Flooring</th>\n",
              "      <td>3798.719136</td>\n",
              "      <td>1275.447205</td>\n",
              "      <td>3833.393333</td>\n",
              "      <td>4.405405</td>\n",
              "    </tr>\n",
              "    <tr>\n",
              "      <th>Flowers</th>\n",
              "      <td>4946.220183</td>\n",
              "      <td>120.754717</td>\n",
              "      <td>160.000000</td>\n",
              "      <td>NaN</td>\n",
              "    </tr>\n",
              "    <tr>\n",
              "      <th>Fossils</th>\n",
              "      <td>3467.815789</td>\n",
              "      <td>3502.631579</td>\n",
              "      <td>NaN</td>\n",
              "      <td>NaN</td>\n",
              "    </tr>\n",
              "    <tr>\n",
              "      <th>Fruit</th>\n",
              "      <td>2808.666667</td>\n",
              "      <td>125.000000</td>\n",
              "      <td>400.000000</td>\n",
              "      <td>NaN</td>\n",
              "    </tr>\n",
              "    <tr>\n",
              "      <th>Furniture</th>\n",
              "      <td>3686.337025</td>\n",
              "      <td>5386.694108</td>\n",
              "      <td>20256.035760</td>\n",
              "      <td>5.009828</td>\n",
              "    </tr>\n",
              "    <tr>\n",
              "      <th>Hats</th>\n",
              "      <td>3744.713043</td>\n",
              "      <td>3467.096070</td>\n",
              "      <td>14668.400000</td>\n",
              "      <td>2.128205</td>\n",
              "    </tr>\n",
              "    <tr>\n",
              "      <th>Music</th>\n",
              "      <td>3629.400000</td>\n",
              "      <td>800.000000</td>\n",
              "      <td>3187.368421</td>\n",
              "      <td>NaN</td>\n",
              "    </tr>\n",
              "    <tr>\n",
              "      <th>Photos</th>\n",
              "      <td>3444.902381</td>\n",
              "      <td>138.571429</td>\n",
              "      <td>554.285714</td>\n",
              "      <td>NaN</td>\n",
              "    </tr>\n",
              "    <tr>\n",
              "      <th>Seashells</th>\n",
              "      <td>3990.750000</td>\n",
              "      <td>420.000000</td>\n",
              "      <td>NaN</td>\n",
              "      <td>NaN</td>\n",
              "    </tr>\n",
              "    <tr>\n",
              "      <th>Shoes</th>\n",
              "      <td>4373.977528</td>\n",
              "      <td>898.775281</td>\n",
              "      <td>3567.777778</td>\n",
              "      <td>2.000000</td>\n",
              "    </tr>\n",
              "    <tr>\n",
              "      <th>Socks</th>\n",
              "      <td>3973.483333</td>\n",
              "      <td>197.416667</td>\n",
              "      <td>663.166667</td>\n",
              "      <td>NaN</td>\n",
              "    </tr>\n",
              "    <tr>\n",
              "      <th>Tools</th>\n",
              "      <td>3572.216216</td>\n",
              "      <td>2795.945946</td>\n",
              "      <td>662.500000</td>\n",
              "      <td>2.818182</td>\n",
              "    </tr>\n",
              "    <tr>\n",
              "      <th>Tops</th>\n",
              "      <td>3790.865052</td>\n",
              "      <td>361.215278</td>\n",
              "      <td>1305.433566</td>\n",
              "      <td>8.000000</td>\n",
              "    </tr>\n",
              "    <tr>\n",
              "      <th>Umbrellas</th>\n",
              "      <td>3658.701493</td>\n",
              "      <td>505.358209</td>\n",
              "      <td>1715.937500</td>\n",
              "      <td>9.000000</td>\n",
              "    </tr>\n",
              "    <tr>\n",
              "      <th>Usables</th>\n",
              "      <td>3867.534091</td>\n",
              "      <td>914.082353</td>\n",
              "      <td>12466.666667</td>\n",
              "      <td>4.000000</td>\n",
              "    </tr>\n",
              "    <tr>\n",
              "      <th>Wallpaper</th>\n",
              "      <td>3525.447059</td>\n",
              "      <td>1665.692913</td>\n",
              "      <td>5447.881356</td>\n",
              "      <td>7.076923</td>\n",
              "    </tr>\n",
              "  </tbody>\n",
              "</table>\n",
              "</div>"
            ],
            "text/plain": [
              "                  num_id   sell_value     buy_value    recipe\n",
              "category                                                     \n",
              "Accessories  3520.260163   637.284553   1911.754386  4.250000\n",
              "Bottoms      3540.633803   298.345070   1197.943262  7.000000\n",
              "Bugs         3591.875000  2220.500000  10510.877193       NaN\n",
              "Dresses      3582.615063  1114.058577   3803.788546  4.470588\n",
              "Fish         3024.148515  3808.811881           NaN       NaN\n",
              "Flooring     3798.719136  1275.447205   3833.393333  4.405405\n",
              "Flowers      4946.220183   120.754717    160.000000       NaN\n",
              "Fossils      3467.815789  3502.631579           NaN       NaN\n",
              "Fruit        2808.666667   125.000000    400.000000       NaN\n",
              "Furniture    3686.337025  5386.694108  20256.035760  5.009828\n",
              "Hats         3744.713043  3467.096070  14668.400000  2.128205\n",
              "Music        3629.400000   800.000000   3187.368421       NaN\n",
              "Photos       3444.902381   138.571429    554.285714       NaN\n",
              "Seashells    3990.750000   420.000000           NaN       NaN\n",
              "Shoes        4373.977528   898.775281   3567.777778  2.000000\n",
              "Socks        3973.483333   197.416667    663.166667       NaN\n",
              "Tools        3572.216216  2795.945946    662.500000  2.818182\n",
              "Tops         3790.865052   361.215278   1305.433566  8.000000\n",
              "Umbrellas    3658.701493   505.358209   1715.937500  9.000000\n",
              "Usables      3867.534091   914.082353  12466.666667  4.000000\n",
              "Wallpaper    3525.447059  1665.692913   5447.881356  7.076923"
            ]
          },
          "metadata": {
            "tags": []
          },
          "execution_count": 5
        }
      ]
    },
    {
      "cell_type": "markdown",
      "metadata": {
        "id": "OVXJ1EHQiiBy",
        "colab_type": "text"
      },
      "source": [
        "Nótese que esta operación se realiza solo en las columnas numéricas:"
      ]
    },
    {
      "cell_type": "code",
      "metadata": {
        "id": "RNNoejpdir_E",
        "colab_type": "code",
        "outputId": "51883727-4446-4467-ef5c-eda5265d3864",
        "colab": {
          "base_uri": "https://localhost:8080/",
          "height": 402
        }
      },
      "source": [
        "numerics = ['int64','float64']\n",
        "dfA.select_dtypes(include=numerics)"
      ],
      "execution_count": 0,
      "outputs": [
        {
          "output_type": "execute_result",
          "data": {
            "text/html": [
              "<div>\n",
              "<style scoped>\n",
              "    .dataframe tbody tr th:only-of-type {\n",
              "        vertical-align: middle;\n",
              "    }\n",
              "\n",
              "    .dataframe tbody tr th {\n",
              "        vertical-align: top;\n",
              "    }\n",
              "\n",
              "    .dataframe thead th {\n",
              "        text-align: right;\n",
              "    }\n",
              "</style>\n",
              "<table border=\"1\" class=\"dataframe\">\n",
              "  <thead>\n",
              "    <tr style=\"text-align: right;\">\n",
              "      <th></th>\n",
              "      <th>num_id</th>\n",
              "      <th>sell_value</th>\n",
              "      <th>buy_value</th>\n",
              "      <th>recipe</th>\n",
              "    </tr>\n",
              "  </thead>\n",
              "  <tbody>\n",
              "    <tr>\n",
              "      <th>0</th>\n",
              "      <td>12</td>\n",
              "      <td>122.0</td>\n",
              "      <td>490.0</td>\n",
              "      <td>NaN</td>\n",
              "    </tr>\n",
              "    <tr>\n",
              "      <th>1</th>\n",
              "      <td>14</td>\n",
              "      <td>140.0</td>\n",
              "      <td>560.0</td>\n",
              "      <td>NaN</td>\n",
              "    </tr>\n",
              "    <tr>\n",
              "      <th>2</th>\n",
              "      <td>17</td>\n",
              "      <td>390.0</td>\n",
              "      <td>1560.0</td>\n",
              "      <td>NaN</td>\n",
              "    </tr>\n",
              "    <tr>\n",
              "      <th>3</th>\n",
              "      <td>19</td>\n",
              "      <td>520.0</td>\n",
              "      <td>2080.0</td>\n",
              "      <td>NaN</td>\n",
              "    </tr>\n",
              "    <tr>\n",
              "      <th>4</th>\n",
              "      <td>20</td>\n",
              "      <td>2000.0</td>\n",
              "      <td>NaN</td>\n",
              "      <td>NaN</td>\n",
              "    </tr>\n",
              "    <tr>\n",
              "      <th>...</th>\n",
              "      <td>...</td>\n",
              "      <td>...</td>\n",
              "      <td>...</td>\n",
              "      <td>...</td>\n",
              "    </tr>\n",
              "    <tr>\n",
              "      <th>4560</th>\n",
              "      <td>7425</td>\n",
              "      <td>240.0</td>\n",
              "      <td>960.0</td>\n",
              "      <td>NaN</td>\n",
              "    </tr>\n",
              "    <tr>\n",
              "      <th>4561</th>\n",
              "      <td>7428</td>\n",
              "      <td>250.0</td>\n",
              "      <td>1000.0</td>\n",
              "      <td>NaN</td>\n",
              "    </tr>\n",
              "    <tr>\n",
              "      <th>4562</th>\n",
              "      <td>7441</td>\n",
              "      <td>1075.0</td>\n",
              "      <td>4300.0</td>\n",
              "      <td>NaN</td>\n",
              "    </tr>\n",
              "    <tr>\n",
              "      <th>4563</th>\n",
              "      <td>7442</td>\n",
              "      <td>10.0</td>\n",
              "      <td>40.0</td>\n",
              "      <td>NaN</td>\n",
              "    </tr>\n",
              "    <tr>\n",
              "      <th>4564</th>\n",
              "      <td>7443</td>\n",
              "      <td>250.0</td>\n",
              "      <td>1000.0</td>\n",
              "      <td>NaN</td>\n",
              "    </tr>\n",
              "  </tbody>\n",
              "</table>\n",
              "<p>4565 rows × 4 columns</p>\n",
              "</div>"
            ],
            "text/plain": [
              "      num_id  sell_value  buy_value  recipe\n",
              "0         12       122.0      490.0     NaN\n",
              "1         14       140.0      560.0     NaN\n",
              "2         17       390.0     1560.0     NaN\n",
              "3         19       520.0     2080.0     NaN\n",
              "4         20      2000.0        NaN     NaN\n",
              "...      ...         ...        ...     ...\n",
              "4560    7425       240.0      960.0     NaN\n",
              "4561    7428       250.0     1000.0     NaN\n",
              "4562    7441      1075.0     4300.0     NaN\n",
              "4563    7442        10.0       40.0     NaN\n",
              "4564    7443       250.0     1000.0     NaN\n",
              "\n",
              "[4565 rows x 4 columns]"
            ]
          },
          "metadata": {
            "tags": []
          },
          "execution_count": 6
        }
      ]
    },
    {
      "cell_type": "markdown",
      "metadata": {
        "id": "fZjtg_sxkoaK",
        "colab_type": "text"
      },
      "source": [
        "No obstante, una función `count` si que puede realizar un conteo sobre cada uno de los items."
      ]
    },
    {
      "cell_type": "code",
      "metadata": {
        "id": "Omy3aIxSkkEI",
        "colab_type": "code",
        "outputId": "ad664a5a-6e1d-445c-f2c0-0b41180501e2",
        "colab": {
          "base_uri": "https://localhost:8080/",
          "height": 748
        }
      },
      "source": [
        "dfA.groupby(['category']).agg(['count'])"
      ],
      "execution_count": 0,
      "outputs": [
        {
          "output_type": "execute_result",
          "data": {
            "text/html": [
              "<div>\n",
              "<style scoped>\n",
              "    .dataframe tbody tr th:only-of-type {\n",
              "        vertical-align: middle;\n",
              "    }\n",
              "\n",
              "    .dataframe tbody tr th {\n",
              "        vertical-align: top;\n",
              "    }\n",
              "\n",
              "    .dataframe thead tr th {\n",
              "        text-align: left;\n",
              "    }\n",
              "\n",
              "    .dataframe thead tr:last-of-type th {\n",
              "        text-align: right;\n",
              "    }\n",
              "</style>\n",
              "<table border=\"1\" class=\"dataframe\">\n",
              "  <thead>\n",
              "    <tr>\n",
              "      <th></th>\n",
              "      <th>num_id</th>\n",
              "      <th>id</th>\n",
              "      <th>name</th>\n",
              "      <th>orderable</th>\n",
              "      <th>sell_value</th>\n",
              "      <th>sell_currency</th>\n",
              "      <th>buy_value</th>\n",
              "      <th>buy_currency</th>\n",
              "      <th>sources</th>\n",
              "      <th>customizable</th>\n",
              "      <th>recipe</th>\n",
              "      <th>recipe_id</th>\n",
              "      <th>games_id</th>\n",
              "      <th>id_full</th>\n",
              "      <th>image_url</th>\n",
              "    </tr>\n",
              "    <tr>\n",
              "      <th></th>\n",
              "      <th>count</th>\n",
              "      <th>count</th>\n",
              "      <th>count</th>\n",
              "      <th>count</th>\n",
              "      <th>count</th>\n",
              "      <th>count</th>\n",
              "      <th>count</th>\n",
              "      <th>count</th>\n",
              "      <th>count</th>\n",
              "      <th>count</th>\n",
              "      <th>count</th>\n",
              "      <th>count</th>\n",
              "      <th>count</th>\n",
              "      <th>count</th>\n",
              "      <th>count</th>\n",
              "    </tr>\n",
              "    <tr>\n",
              "      <th>category</th>\n",
              "      <th></th>\n",
              "      <th></th>\n",
              "      <th></th>\n",
              "      <th></th>\n",
              "      <th></th>\n",
              "      <th></th>\n",
              "      <th></th>\n",
              "      <th></th>\n",
              "      <th></th>\n",
              "      <th></th>\n",
              "      <th></th>\n",
              "      <th></th>\n",
              "      <th></th>\n",
              "      <th></th>\n",
              "      <th></th>\n",
              "    </tr>\n",
              "  </thead>\n",
              "  <tbody>\n",
              "    <tr>\n",
              "      <th>Accessories</th>\n",
              "      <td>123</td>\n",
              "      <td>123</td>\n",
              "      <td>123</td>\n",
              "      <td>44</td>\n",
              "      <td>123</td>\n",
              "      <td>123</td>\n",
              "      <td>114</td>\n",
              "      <td>114</td>\n",
              "      <td>27</td>\n",
              "      <td>11</td>\n",
              "      <td>12</td>\n",
              "      <td>12</td>\n",
              "      <td>123</td>\n",
              "      <td>123</td>\n",
              "      <td>123</td>\n",
              "    </tr>\n",
              "    <tr>\n",
              "      <th>Bottoms</th>\n",
              "      <td>142</td>\n",
              "      <td>142</td>\n",
              "      <td>142</td>\n",
              "      <td>41</td>\n",
              "      <td>142</td>\n",
              "      <td>142</td>\n",
              "      <td>141</td>\n",
              "      <td>141</td>\n",
              "      <td>25</td>\n",
              "      <td>1</td>\n",
              "      <td>1</td>\n",
              "      <td>1</td>\n",
              "      <td>142</td>\n",
              "      <td>142</td>\n",
              "      <td>142</td>\n",
              "    </tr>\n",
              "    <tr>\n",
              "      <th>Bugs</th>\n",
              "      <td>80</td>\n",
              "      <td>80</td>\n",
              "      <td>80</td>\n",
              "      <td>80</td>\n",
              "      <td>80</td>\n",
              "      <td>80</td>\n",
              "      <td>57</td>\n",
              "      <td>57</td>\n",
              "      <td>23</td>\n",
              "      <td>0</td>\n",
              "      <td>0</td>\n",
              "      <td>0</td>\n",
              "      <td>80</td>\n",
              "      <td>80</td>\n",
              "      <td>80</td>\n",
              "    </tr>\n",
              "    <tr>\n",
              "      <th>Dresses</th>\n",
              "      <td>239</td>\n",
              "      <td>239</td>\n",
              "      <td>239</td>\n",
              "      <td>47</td>\n",
              "      <td>239</td>\n",
              "      <td>239</td>\n",
              "      <td>227</td>\n",
              "      <td>227</td>\n",
              "      <td>17</td>\n",
              "      <td>11</td>\n",
              "      <td>17</td>\n",
              "      <td>17</td>\n",
              "      <td>239</td>\n",
              "      <td>239</td>\n",
              "      <td>239</td>\n",
              "    </tr>\n",
              "    <tr>\n",
              "      <th>Fish</th>\n",
              "      <td>101</td>\n",
              "      <td>101</td>\n",
              "      <td>101</td>\n",
              "      <td>101</td>\n",
              "      <td>101</td>\n",
              "      <td>101</td>\n",
              "      <td>0</td>\n",
              "      <td>0</td>\n",
              "      <td>61</td>\n",
              "      <td>0</td>\n",
              "      <td>0</td>\n",
              "      <td>0</td>\n",
              "      <td>101</td>\n",
              "      <td>101</td>\n",
              "      <td>101</td>\n",
              "    </tr>\n",
              "    <tr>\n",
              "      <th>Flooring</th>\n",
              "      <td>324</td>\n",
              "      <td>324</td>\n",
              "      <td>324</td>\n",
              "      <td>125</td>\n",
              "      <td>322</td>\n",
              "      <td>322</td>\n",
              "      <td>300</td>\n",
              "      <td>300</td>\n",
              "      <td>95</td>\n",
              "      <td>33</td>\n",
              "      <td>37</td>\n",
              "      <td>37</td>\n",
              "      <td>324</td>\n",
              "      <td>0</td>\n",
              "      <td>0</td>\n",
              "    </tr>\n",
              "    <tr>\n",
              "      <th>Flowers</th>\n",
              "      <td>109</td>\n",
              "      <td>109</td>\n",
              "      <td>109</td>\n",
              "      <td>106</td>\n",
              "      <td>106</td>\n",
              "      <td>106</td>\n",
              "      <td>46</td>\n",
              "      <td>46</td>\n",
              "      <td>109</td>\n",
              "      <td>0</td>\n",
              "      <td>0</td>\n",
              "      <td>0</td>\n",
              "      <td>109</td>\n",
              "      <td>109</td>\n",
              "      <td>109</td>\n",
              "    </tr>\n",
              "    <tr>\n",
              "      <th>Fossils</th>\n",
              "      <td>76</td>\n",
              "      <td>76</td>\n",
              "      <td>76</td>\n",
              "      <td>76</td>\n",
              "      <td>76</td>\n",
              "      <td>76</td>\n",
              "      <td>0</td>\n",
              "      <td>0</td>\n",
              "      <td>76</td>\n",
              "      <td>0</td>\n",
              "      <td>0</td>\n",
              "      <td>0</td>\n",
              "      <td>76</td>\n",
              "      <td>76</td>\n",
              "      <td>76</td>\n",
              "    </tr>\n",
              "    <tr>\n",
              "      <th>Fruit</th>\n",
              "      <td>12</td>\n",
              "      <td>12</td>\n",
              "      <td>12</td>\n",
              "      <td>12</td>\n",
              "      <td>12</td>\n",
              "      <td>12</td>\n",
              "      <td>10</td>\n",
              "      <td>10</td>\n",
              "      <td>12</td>\n",
              "      <td>0</td>\n",
              "      <td>0</td>\n",
              "      <td>0</td>\n",
              "      <td>12</td>\n",
              "      <td>12</td>\n",
              "      <td>12</td>\n",
              "    </tr>\n",
              "    <tr>\n",
              "      <th>Furniture</th>\n",
              "      <td>1264</td>\n",
              "      <td>1264</td>\n",
              "      <td>1264</td>\n",
              "      <td>636</td>\n",
              "      <td>1239</td>\n",
              "      <td>1239</td>\n",
              "      <td>783</td>\n",
              "      <td>783</td>\n",
              "      <td>191</td>\n",
              "      <td>422</td>\n",
              "      <td>407</td>\n",
              "      <td>407</td>\n",
              "      <td>1264</td>\n",
              "      <td>1262</td>\n",
              "      <td>1262</td>\n",
              "    </tr>\n",
              "    <tr>\n",
              "      <th>Hats</th>\n",
              "      <td>230</td>\n",
              "      <td>230</td>\n",
              "      <td>230</td>\n",
              "      <td>72</td>\n",
              "      <td>229</td>\n",
              "      <td>229</td>\n",
              "      <td>200</td>\n",
              "      <td>200</td>\n",
              "      <td>25</td>\n",
              "      <td>35</td>\n",
              "      <td>39</td>\n",
              "      <td>39</td>\n",
              "      <td>230</td>\n",
              "      <td>229</td>\n",
              "      <td>229</td>\n",
              "    </tr>\n",
              "    <tr>\n",
              "      <th>Music</th>\n",
              "      <td>95</td>\n",
              "      <td>95</td>\n",
              "      <td>95</td>\n",
              "      <td>66</td>\n",
              "      <td>95</td>\n",
              "      <td>95</td>\n",
              "      <td>95</td>\n",
              "      <td>95</td>\n",
              "      <td>9</td>\n",
              "      <td>0</td>\n",
              "      <td>0</td>\n",
              "      <td>0</td>\n",
              "      <td>95</td>\n",
              "      <td>0</td>\n",
              "      <td>0</td>\n",
              "    </tr>\n",
              "    <tr>\n",
              "      <th>Photos</th>\n",
              "      <td>840</td>\n",
              "      <td>840</td>\n",
              "      <td>840</td>\n",
              "      <td>0</td>\n",
              "      <td>840</td>\n",
              "      <td>840</td>\n",
              "      <td>840</td>\n",
              "      <td>840</td>\n",
              "      <td>0</td>\n",
              "      <td>0</td>\n",
              "      <td>0</td>\n",
              "      <td>0</td>\n",
              "      <td>840</td>\n",
              "      <td>0</td>\n",
              "      <td>0</td>\n",
              "    </tr>\n",
              "    <tr>\n",
              "      <th>Seashells</th>\n",
              "      <td>8</td>\n",
              "      <td>8</td>\n",
              "      <td>8</td>\n",
              "      <td>6</td>\n",
              "      <td>8</td>\n",
              "      <td>8</td>\n",
              "      <td>0</td>\n",
              "      <td>0</td>\n",
              "      <td>6</td>\n",
              "      <td>0</td>\n",
              "      <td>0</td>\n",
              "      <td>0</td>\n",
              "      <td>8</td>\n",
              "      <td>0</td>\n",
              "      <td>0</td>\n",
              "    </tr>\n",
              "    <tr>\n",
              "      <th>Shoes</th>\n",
              "      <td>89</td>\n",
              "      <td>89</td>\n",
              "      <td>89</td>\n",
              "      <td>39</td>\n",
              "      <td>89</td>\n",
              "      <td>89</td>\n",
              "      <td>81</td>\n",
              "      <td>81</td>\n",
              "      <td>23</td>\n",
              "      <td>2</td>\n",
              "      <td>7</td>\n",
              "      <td>7</td>\n",
              "      <td>89</td>\n",
              "      <td>89</td>\n",
              "      <td>89</td>\n",
              "    </tr>\n",
              "    <tr>\n",
              "      <th>Socks</th>\n",
              "      <td>60</td>\n",
              "      <td>60</td>\n",
              "      <td>60</td>\n",
              "      <td>20</td>\n",
              "      <td>60</td>\n",
              "      <td>60</td>\n",
              "      <td>60</td>\n",
              "      <td>60</td>\n",
              "      <td>10</td>\n",
              "      <td>0</td>\n",
              "      <td>0</td>\n",
              "      <td>0</td>\n",
              "      <td>60</td>\n",
              "      <td>60</td>\n",
              "      <td>60</td>\n",
              "    </tr>\n",
              "    <tr>\n",
              "      <th>Tools</th>\n",
              "      <td>74</td>\n",
              "      <td>74</td>\n",
              "      <td>74</td>\n",
              "      <td>74</td>\n",
              "      <td>74</td>\n",
              "      <td>74</td>\n",
              "      <td>8</td>\n",
              "      <td>8</td>\n",
              "      <td>7</td>\n",
              "      <td>32</td>\n",
              "      <td>33</td>\n",
              "      <td>33</td>\n",
              "      <td>74</td>\n",
              "      <td>74</td>\n",
              "      <td>74</td>\n",
              "    </tr>\n",
              "    <tr>\n",
              "      <th>Tops</th>\n",
              "      <td>289</td>\n",
              "      <td>289</td>\n",
              "      <td>289</td>\n",
              "      <td>91</td>\n",
              "      <td>288</td>\n",
              "      <td>288</td>\n",
              "      <td>286</td>\n",
              "      <td>286</td>\n",
              "      <td>62</td>\n",
              "      <td>0</td>\n",
              "      <td>1</td>\n",
              "      <td>1</td>\n",
              "      <td>289</td>\n",
              "      <td>286</td>\n",
              "      <td>286</td>\n",
              "    </tr>\n",
              "    <tr>\n",
              "      <th>Umbrellas</th>\n",
              "      <td>67</td>\n",
              "      <td>67</td>\n",
              "      <td>67</td>\n",
              "      <td>8</td>\n",
              "      <td>67</td>\n",
              "      <td>67</td>\n",
              "      <td>64</td>\n",
              "      <td>64</td>\n",
              "      <td>4</td>\n",
              "      <td>4</td>\n",
              "      <td>4</td>\n",
              "      <td>4</td>\n",
              "      <td>67</td>\n",
              "      <td>67</td>\n",
              "      <td>67</td>\n",
              "    </tr>\n",
              "    <tr>\n",
              "      <th>Usables</th>\n",
              "      <td>88</td>\n",
              "      <td>88</td>\n",
              "      <td>88</td>\n",
              "      <td>30</td>\n",
              "      <td>85</td>\n",
              "      <td>85</td>\n",
              "      <td>3</td>\n",
              "      <td>3</td>\n",
              "      <td>28</td>\n",
              "      <td>4</td>\n",
              "      <td>4</td>\n",
              "      <td>4</td>\n",
              "      <td>88</td>\n",
              "      <td>88</td>\n",
              "      <td>88</td>\n",
              "    </tr>\n",
              "    <tr>\n",
              "      <th>Wallpaper</th>\n",
              "      <td>255</td>\n",
              "      <td>255</td>\n",
              "      <td>255</td>\n",
              "      <td>116</td>\n",
              "      <td>254</td>\n",
              "      <td>254</td>\n",
              "      <td>236</td>\n",
              "      <td>236</td>\n",
              "      <td>92</td>\n",
              "      <td>18</td>\n",
              "      <td>26</td>\n",
              "      <td>26</td>\n",
              "      <td>255</td>\n",
              "      <td>0</td>\n",
              "      <td>0</td>\n",
              "    </tr>\n",
              "  </tbody>\n",
              "</table>\n",
              "</div>"
            ],
            "text/plain": [
              "            num_id    id  name orderable  ... recipe_id games_id id_full image_url\n",
              "             count count count     count  ...     count    count   count     count\n",
              "category                                  ...                                     \n",
              "Accessories    123   123   123        44  ...        12      123     123       123\n",
              "Bottoms        142   142   142        41  ...         1      142     142       142\n",
              "Bugs            80    80    80        80  ...         0       80      80        80\n",
              "Dresses        239   239   239        47  ...        17      239     239       239\n",
              "Fish           101   101   101       101  ...         0      101     101       101\n",
              "Flooring       324   324   324       125  ...        37      324       0         0\n",
              "Flowers        109   109   109       106  ...         0      109     109       109\n",
              "Fossils         76    76    76        76  ...         0       76      76        76\n",
              "Fruit           12    12    12        12  ...         0       12      12        12\n",
              "Furniture     1264  1264  1264       636  ...       407     1264    1262      1262\n",
              "Hats           230   230   230        72  ...        39      230     229       229\n",
              "Music           95    95    95        66  ...         0       95       0         0\n",
              "Photos         840   840   840         0  ...         0      840       0         0\n",
              "Seashells        8     8     8         6  ...         0        8       0         0\n",
              "Shoes           89    89    89        39  ...         7       89      89        89\n",
              "Socks           60    60    60        20  ...         0       60      60        60\n",
              "Tools           74    74    74        74  ...        33       74      74        74\n",
              "Tops           289   289   289        91  ...         1      289     286       286\n",
              "Umbrellas       67    67    67         8  ...         4       67      67        67\n",
              "Usables         88    88    88        30  ...         4       88      88        88\n",
              "Wallpaper      255   255   255       116  ...        26      255       0         0\n",
              "\n",
              "[21 rows x 15 columns]"
            ]
          },
          "metadata": {
            "tags": []
          },
          "execution_count": 7
        }
      ]
    },
    {
      "cell_type": "markdown",
      "metadata": {
        "id": "fNy1Mn75yfNM",
        "colab_type": "text"
      },
      "source": [
        "Incluso puede pasarse en forma de lista, con diferentes funciones."
      ]
    },
    {
      "cell_type": "code",
      "metadata": {
        "id": "IVbU4dsCfqqe",
        "colab_type": "code",
        "outputId": "05c25cda-743e-40e2-9baa-eea2f75f28c7",
        "colab": {
          "base_uri": "https://localhost:8080/",
          "height": 748
        }
      },
      "source": [
        "dfA.groupby(['category']).agg(['count','min','max','mean','first','last'])"
      ],
      "execution_count": 0,
      "outputs": [
        {
          "output_type": "execute_result",
          "data": {
            "text/html": [
              "<div>\n",
              "<style scoped>\n",
              "    .dataframe tbody tr th:only-of-type {\n",
              "        vertical-align: middle;\n",
              "    }\n",
              "\n",
              "    .dataframe tbody tr th {\n",
              "        vertical-align: top;\n",
              "    }\n",
              "\n",
              "    .dataframe thead tr th {\n",
              "        text-align: left;\n",
              "    }\n",
              "\n",
              "    .dataframe thead tr:last-of-type th {\n",
              "        text-align: right;\n",
              "    }\n",
              "</style>\n",
              "<table border=\"1\" class=\"dataframe\">\n",
              "  <thead>\n",
              "    <tr>\n",
              "      <th></th>\n",
              "      <th colspan=\"6\" halign=\"left\">num_id</th>\n",
              "      <th colspan=\"6\" halign=\"left\">sell_value</th>\n",
              "      <th colspan=\"6\" halign=\"left\">buy_value</th>\n",
              "      <th colspan=\"6\" halign=\"left\">recipe</th>\n",
              "    </tr>\n",
              "    <tr>\n",
              "      <th></th>\n",
              "      <th>count</th>\n",
              "      <th>min</th>\n",
              "      <th>max</th>\n",
              "      <th>mean</th>\n",
              "      <th>first</th>\n",
              "      <th>last</th>\n",
              "      <th>count</th>\n",
              "      <th>min</th>\n",
              "      <th>max</th>\n",
              "      <th>mean</th>\n",
              "      <th>first</th>\n",
              "      <th>last</th>\n",
              "      <th>count</th>\n",
              "      <th>min</th>\n",
              "      <th>max</th>\n",
              "      <th>mean</th>\n",
              "      <th>first</th>\n",
              "      <th>last</th>\n",
              "      <th>count</th>\n",
              "      <th>min</th>\n",
              "      <th>max</th>\n",
              "      <th>mean</th>\n",
              "      <th>first</th>\n",
              "      <th>last</th>\n",
              "    </tr>\n",
              "    <tr>\n",
              "      <th>category</th>\n",
              "      <th></th>\n",
              "      <th></th>\n",
              "      <th></th>\n",
              "      <th></th>\n",
              "      <th></th>\n",
              "      <th></th>\n",
              "      <th></th>\n",
              "      <th></th>\n",
              "      <th></th>\n",
              "      <th></th>\n",
              "      <th></th>\n",
              "      <th></th>\n",
              "      <th></th>\n",
              "      <th></th>\n",
              "      <th></th>\n",
              "      <th></th>\n",
              "      <th></th>\n",
              "      <th></th>\n",
              "      <th></th>\n",
              "      <th></th>\n",
              "      <th></th>\n",
              "      <th></th>\n",
              "      <th></th>\n",
              "      <th></th>\n",
              "    </tr>\n",
              "  </thead>\n",
              "  <tbody>\n",
              "    <tr>\n",
              "      <th>Accessories</th>\n",
              "      <td>123</td>\n",
              "      <td>12</td>\n",
              "      <td>7270</td>\n",
              "      <td>3520.260163</td>\n",
              "      <td>12</td>\n",
              "      <td>7270</td>\n",
              "      <td>123</td>\n",
              "      <td>10.0</td>\n",
              "      <td>10800.0</td>\n",
              "      <td>637.284553</td>\n",
              "      <td>122.0</td>\n",
              "      <td>390.0</td>\n",
              "      <td>114</td>\n",
              "      <td>40.0</td>\n",
              "      <td>43200.0</td>\n",
              "      <td>1911.754386</td>\n",
              "      <td>490.0</td>\n",
              "      <td>1560.0</td>\n",
              "      <td>12</td>\n",
              "      <td>1.0</td>\n",
              "      <td>20.0</td>\n",
              "      <td>4.250000</td>\n",
              "      <td>6.0</td>\n",
              "      <td>5.0</td>\n",
              "    </tr>\n",
              "    <tr>\n",
              "      <th>Bottoms</th>\n",
              "      <td>142</td>\n",
              "      <td>24</td>\n",
              "      <td>7315</td>\n",
              "      <td>3540.633803</td>\n",
              "      <td>24</td>\n",
              "      <td>7315</td>\n",
              "      <td>142</td>\n",
              "      <td>10.0</td>\n",
              "      <td>1075.0</td>\n",
              "      <td>298.345070</td>\n",
              "      <td>330.0</td>\n",
              "      <td>210.0</td>\n",
              "      <td>141</td>\n",
              "      <td>40.0</td>\n",
              "      <td>4300.0</td>\n",
              "      <td>1197.943262</td>\n",
              "      <td>1320.0</td>\n",
              "      <td>840.0</td>\n",
              "      <td>1</td>\n",
              "      <td>7.0</td>\n",
              "      <td>7.0</td>\n",
              "      <td>7.000000</td>\n",
              "      <td>7.0</td>\n",
              "      <td>7.0</td>\n",
              "    </tr>\n",
              "    <tr>\n",
              "      <th>Bugs</th>\n",
              "      <td>80</td>\n",
              "      <td>46</td>\n",
              "      <td>7326</td>\n",
              "      <td>3591.875000</td>\n",
              "      <td>46</td>\n",
              "      <td>7326</td>\n",
              "      <td>80</td>\n",
              "      <td>10.0</td>\n",
              "      <td>12000.0</td>\n",
              "      <td>2220.500000</td>\n",
              "      <td>3000.0</td>\n",
              "      <td>160.0</td>\n",
              "      <td>57</td>\n",
              "      <td>40.0</td>\n",
              "      <td>48000.0</td>\n",
              "      <td>10510.877193</td>\n",
              "      <td>12000.0</td>\n",
              "      <td>2400.0</td>\n",
              "      <td>0</td>\n",
              "      <td>NaN</td>\n",
              "      <td>NaN</td>\n",
              "      <td>NaN</td>\n",
              "      <td>NaN</td>\n",
              "      <td>NaN</td>\n",
              "    </tr>\n",
              "    <tr>\n",
              "      <th>Dresses</th>\n",
              "      <td>239</td>\n",
              "      <td>19</td>\n",
              "      <td>7424</td>\n",
              "      <td>3582.615063</td>\n",
              "      <td>19</td>\n",
              "      <td>7424</td>\n",
              "      <td>239</td>\n",
              "      <td>10.0</td>\n",
              "      <td>80000.0</td>\n",
              "      <td>1114.058577</td>\n",
              "      <td>520.0</td>\n",
              "      <td>500.0</td>\n",
              "      <td>227</td>\n",
              "      <td>40.0</td>\n",
              "      <td>320000.0</td>\n",
              "      <td>3803.788546</td>\n",
              "      <td>2080.0</td>\n",
              "      <td>2000.0</td>\n",
              "      <td>17</td>\n",
              "      <td>3.0</td>\n",
              "      <td>8.0</td>\n",
              "      <td>4.470588</td>\n",
              "      <td>8.0</td>\n",
              "      <td>3.0</td>\n",
              "    </tr>\n",
              "    <tr>\n",
              "      <th>Fish</th>\n",
              "      <td>101</td>\n",
              "      <td>102</td>\n",
              "      <td>7403</td>\n",
              "      <td>3024.148515</td>\n",
              "      <td>102</td>\n",
              "      <td>7403</td>\n",
              "      <td>101</td>\n",
              "      <td>100.0</td>\n",
              "      <td>15000.0</td>\n",
              "      <td>3808.811881</td>\n",
              "      <td>200.0</td>\n",
              "      <td>500.0</td>\n",
              "      <td>0</td>\n",
              "      <td>NaN</td>\n",
              "      <td>NaN</td>\n",
              "      <td>NaN</td>\n",
              "      <td>NaN</td>\n",
              "      <td>NaN</td>\n",
              "      <td>0</td>\n",
              "      <td>NaN</td>\n",
              "      <td>NaN</td>\n",
              "      <td>NaN</td>\n",
              "      <td>NaN</td>\n",
              "      <td>NaN</td>\n",
              "    </tr>\n",
              "    <tr>\n",
              "      <th>Flooring</th>\n",
              "      <td>324</td>\n",
              "      <td>83</td>\n",
              "      <td>7398</td>\n",
              "      <td>3798.719136</td>\n",
              "      <td>83</td>\n",
              "      <td>7398</td>\n",
              "      <td>322</td>\n",
              "      <td>88.0</td>\n",
              "      <td>40000.0</td>\n",
              "      <td>1275.447205</td>\n",
              "      <td>375.0</td>\n",
              "      <td>325.0</td>\n",
              "      <td>300</td>\n",
              "      <td>352.0</td>\n",
              "      <td>140000.0</td>\n",
              "      <td>3833.393333</td>\n",
              "      <td>1500.0</td>\n",
              "      <td>1300.0</td>\n",
              "      <td>37</td>\n",
              "      <td>1.0</td>\n",
              "      <td>20.0</td>\n",
              "      <td>4.405405</td>\n",
              "      <td>15.0</td>\n",
              "      <td>3.0</td>\n",
              "    </tr>\n",
              "    <tr>\n",
              "      <th>Flowers</th>\n",
              "      <td>109</td>\n",
              "      <td>543</td>\n",
              "      <td>7377</td>\n",
              "      <td>4946.220183</td>\n",
              "      <td>543</td>\n",
              "      <td>7377</td>\n",
              "      <td>106</td>\n",
              "      <td>40.0</td>\n",
              "      <td>1000.0</td>\n",
              "      <td>120.754717</td>\n",
              "      <td>240.0</td>\n",
              "      <td>40.0</td>\n",
              "      <td>46</td>\n",
              "      <td>160.0</td>\n",
              "      <td>160.0</td>\n",
              "      <td>160.000000</td>\n",
              "      <td>160.0</td>\n",
              "      <td>160.0</td>\n",
              "      <td>0</td>\n",
              "      <td>NaN</td>\n",
              "      <td>NaN</td>\n",
              "      <td>NaN</td>\n",
              "      <td>NaN</td>\n",
              "      <td>NaN</td>\n",
              "    </tr>\n",
              "    <tr>\n",
              "      <th>Fossils</th>\n",
              "      <td>76</td>\n",
              "      <td>20</td>\n",
              "      <td>6841</td>\n",
              "      <td>3467.815789</td>\n",
              "      <td>20</td>\n",
              "      <td>6841</td>\n",
              "      <td>76</td>\n",
              "      <td>1000.0</td>\n",
              "      <td>6000.0</td>\n",
              "      <td>3502.631579</td>\n",
              "      <td>2000.0</td>\n",
              "      <td>1300.0</td>\n",
              "      <td>0</td>\n",
              "      <td>NaN</td>\n",
              "      <td>NaN</td>\n",
              "      <td>NaN</td>\n",
              "      <td>NaN</td>\n",
              "      <td>NaN</td>\n",
              "      <td>0</td>\n",
              "      <td>NaN</td>\n",
              "      <td>NaN</td>\n",
              "      <td>NaN</td>\n",
              "      <td>NaN</td>\n",
              "      <td>NaN</td>\n",
              "    </tr>\n",
              "    <tr>\n",
              "      <th>Fruit</th>\n",
              "      <td>12</td>\n",
              "      <td>168</td>\n",
              "      <td>4772</td>\n",
              "      <td>2808.666667</td>\n",
              "      <td>168</td>\n",
              "      <td>4772</td>\n",
              "      <td>12</td>\n",
              "      <td>100.0</td>\n",
              "      <td>250.0</td>\n",
              "      <td>125.000000</td>\n",
              "      <td>100.0</td>\n",
              "      <td>100.0</td>\n",
              "      <td>10</td>\n",
              "      <td>400.0</td>\n",
              "      <td>400.0</td>\n",
              "      <td>400.000000</td>\n",
              "      <td>400.0</td>\n",
              "      <td>400.0</td>\n",
              "      <td>0</td>\n",
              "      <td>NaN</td>\n",
              "      <td>NaN</td>\n",
              "      <td>NaN</td>\n",
              "      <td>NaN</td>\n",
              "      <td>NaN</td>\n",
              "    </tr>\n",
              "    <tr>\n",
              "      <th>Furniture</th>\n",
              "      <td>1264</td>\n",
              "      <td>21</td>\n",
              "      <td>7421</td>\n",
              "      <td>3686.337025</td>\n",
              "      <td>21</td>\n",
              "      <td>7421</td>\n",
              "      <td>1239</td>\n",
              "      <td>10.0</td>\n",
              "      <td>250000.0</td>\n",
              "      <td>5386.694108</td>\n",
              "      <td>375.0</td>\n",
              "      <td>4500.0</td>\n",
              "      <td>783</td>\n",
              "      <td>40.0</td>\n",
              "      <td>320000.0</td>\n",
              "      <td>20256.035760</td>\n",
              "      <td>1500.0</td>\n",
              "      <td>18000.0</td>\n",
              "      <td>407</td>\n",
              "      <td>1.0</td>\n",
              "      <td>90.0</td>\n",
              "      <td>5.009828</td>\n",
              "      <td>8.0</td>\n",
              "      <td>3.0</td>\n",
              "    </tr>\n",
              "    <tr>\n",
              "      <th>Hats</th>\n",
              "      <td>230</td>\n",
              "      <td>28</td>\n",
              "      <td>7417</td>\n",
              "      <td>3744.713043</td>\n",
              "      <td>28</td>\n",
              "      <td>7417</td>\n",
              "      <td>229</td>\n",
              "      <td>35.0</td>\n",
              "      <td>300000.0</td>\n",
              "      <td>3467.096070</td>\n",
              "      <td>220.0</td>\n",
              "      <td>1075.0</td>\n",
              "      <td>200</td>\n",
              "      <td>140.0</td>\n",
              "      <td>1200000.0</td>\n",
              "      <td>14668.400000</td>\n",
              "      <td>880.0</td>\n",
              "      <td>4300.0</td>\n",
              "      <td>39</td>\n",
              "      <td>1.0</td>\n",
              "      <td>5.0</td>\n",
              "      <td>2.128205</td>\n",
              "      <td>1.0</td>\n",
              "      <td>2.0</td>\n",
              "    </tr>\n",
              "    <tr>\n",
              "      <th>Music</th>\n",
              "      <td>95</td>\n",
              "      <td>40</td>\n",
              "      <td>7105</td>\n",
              "      <td>3629.400000</td>\n",
              "      <td>40</td>\n",
              "      <td>7105</td>\n",
              "      <td>95</td>\n",
              "      <td>800.0</td>\n",
              "      <td>800.0</td>\n",
              "      <td>800.000000</td>\n",
              "      <td>800.0</td>\n",
              "      <td>800.0</td>\n",
              "      <td>95</td>\n",
              "      <td>2000.0</td>\n",
              "      <td>3200.0</td>\n",
              "      <td>3187.368421</td>\n",
              "      <td>3200.0</td>\n",
              "      <td>3200.0</td>\n",
              "      <td>0</td>\n",
              "      <td>NaN</td>\n",
              "      <td>NaN</td>\n",
              "      <td>NaN</td>\n",
              "      <td>NaN</td>\n",
              "      <td>NaN</td>\n",
              "    </tr>\n",
              "    <tr>\n",
              "      <th>Photos</th>\n",
              "      <td>840</td>\n",
              "      <td>32</td>\n",
              "      <td>7443</td>\n",
              "      <td>3444.902381</td>\n",
              "      <td>32</td>\n",
              "      <td>7443</td>\n",
              "      <td>840</td>\n",
              "      <td>10.0</td>\n",
              "      <td>250.0</td>\n",
              "      <td>138.571429</td>\n",
              "      <td>10.0</td>\n",
              "      <td>250.0</td>\n",
              "      <td>840</td>\n",
              "      <td>40.0</td>\n",
              "      <td>1000.0</td>\n",
              "      <td>554.285714</td>\n",
              "      <td>40.0</td>\n",
              "      <td>1000.0</td>\n",
              "      <td>0</td>\n",
              "      <td>NaN</td>\n",
              "      <td>NaN</td>\n",
              "      <td>NaN</td>\n",
              "      <td>NaN</td>\n",
              "      <td>NaN</td>\n",
              "    </tr>\n",
              "    <tr>\n",
              "      <th>Seashells</th>\n",
              "      <td>8</td>\n",
              "      <td>1440</td>\n",
              "      <td>6967</td>\n",
              "      <td>3990.750000</td>\n",
              "      <td>1440</td>\n",
              "      <td>6967</td>\n",
              "      <td>8</td>\n",
              "      <td>60.0</td>\n",
              "      <td>900.0</td>\n",
              "      <td>420.000000</td>\n",
              "      <td>700.0</td>\n",
              "      <td>300.0</td>\n",
              "      <td>0</td>\n",
              "      <td>NaN</td>\n",
              "      <td>NaN</td>\n",
              "      <td>NaN</td>\n",
              "      <td>NaN</td>\n",
              "      <td>NaN</td>\n",
              "      <td>0</td>\n",
              "      <td>NaN</td>\n",
              "      <td>NaN</td>\n",
              "      <td>NaN</td>\n",
              "      <td>NaN</td>\n",
              "      <td>NaN</td>\n",
              "    </tr>\n",
              "    <tr>\n",
              "      <th>Shoes</th>\n",
              "      <td>89</td>\n",
              "      <td>142</td>\n",
              "      <td>7441</td>\n",
              "      <td>4373.977528</td>\n",
              "      <td>142</td>\n",
              "      <td>7441</td>\n",
              "      <td>89</td>\n",
              "      <td>40.0</td>\n",
              "      <td>40000.0</td>\n",
              "      <td>898.775281</td>\n",
              "      <td>660.0</td>\n",
              "      <td>1075.0</td>\n",
              "      <td>81</td>\n",
              "      <td>350.0</td>\n",
              "      <td>160000.0</td>\n",
              "      <td>3567.777778</td>\n",
              "      <td>2640.0</td>\n",
              "      <td>4300.0</td>\n",
              "      <td>7</td>\n",
              "      <td>2.0</td>\n",
              "      <td>2.0</td>\n",
              "      <td>2.000000</td>\n",
              "      <td>2.0</td>\n",
              "      <td>2.0</td>\n",
              "    </tr>\n",
              "    <tr>\n",
              "      <th>Socks</th>\n",
              "      <td>60</td>\n",
              "      <td>35</td>\n",
              "      <td>7093</td>\n",
              "      <td>3973.483333</td>\n",
              "      <td>35</td>\n",
              "      <td>7093</td>\n",
              "      <td>60</td>\n",
              "      <td>10.0</td>\n",
              "      <td>2000.0</td>\n",
              "      <td>197.416667</td>\n",
              "      <td>175.0</td>\n",
              "      <td>150.0</td>\n",
              "      <td>60</td>\n",
              "      <td>40.0</td>\n",
              "      <td>1240.0</td>\n",
              "      <td>663.166667</td>\n",
              "      <td>700.0</td>\n",
              "      <td>600.0</td>\n",
              "      <td>0</td>\n",
              "      <td>NaN</td>\n",
              "      <td>NaN</td>\n",
              "      <td>NaN</td>\n",
              "      <td>NaN</td>\n",
              "      <td>NaN</td>\n",
              "    </tr>\n",
              "    <tr>\n",
              "      <th>Tools</th>\n",
              "      <td>74</td>\n",
              "      <td>266</td>\n",
              "      <td>7215</td>\n",
              "      <td>3572.216216</td>\n",
              "      <td>266</td>\n",
              "      <td>7215</td>\n",
              "      <td>74</td>\n",
              "      <td>100.0</td>\n",
              "      <td>20750.0</td>\n",
              "      <td>2795.945946</td>\n",
              "      <td>625.0</td>\n",
              "      <td>1580.0</td>\n",
              "      <td>8</td>\n",
              "      <td>400.0</td>\n",
              "      <td>900.0</td>\n",
              "      <td>662.500000</td>\n",
              "      <td>800.0</td>\n",
              "      <td>900.0</td>\n",
              "      <td>33</td>\n",
              "      <td>1.0</td>\n",
              "      <td>7.0</td>\n",
              "      <td>2.818182</td>\n",
              "      <td>1.0</td>\n",
              "      <td>5.0</td>\n",
              "    </tr>\n",
              "    <tr>\n",
              "      <th>Tops</th>\n",
              "      <td>289</td>\n",
              "      <td>14</td>\n",
              "      <td>7425</td>\n",
              "      <td>3790.865052</td>\n",
              "      <td>14</td>\n",
              "      <td>7425</td>\n",
              "      <td>288</td>\n",
              "      <td>10.0</td>\n",
              "      <td>4000.0</td>\n",
              "      <td>361.215278</td>\n",
              "      <td>140.0</td>\n",
              "      <td>240.0</td>\n",
              "      <td>286</td>\n",
              "      <td>40.0</td>\n",
              "      <td>6720.0</td>\n",
              "      <td>1305.433566</td>\n",
              "      <td>560.0</td>\n",
              "      <td>960.0</td>\n",
              "      <td>1</td>\n",
              "      <td>8.0</td>\n",
              "      <td>8.0</td>\n",
              "      <td>8.000000</td>\n",
              "      <td>8.0</td>\n",
              "      <td>8.0</td>\n",
              "    </tr>\n",
              "    <tr>\n",
              "      <th>Umbrellas</th>\n",
              "      <td>67</td>\n",
              "      <td>166</td>\n",
              "      <td>7174</td>\n",
              "      <td>3658.701493</td>\n",
              "      <td>166</td>\n",
              "      <td>7174</td>\n",
              "      <td>67</td>\n",
              "      <td>80.0</td>\n",
              "      <td>3500.0</td>\n",
              "      <td>505.358209</td>\n",
              "      <td>1400.0</td>\n",
              "      <td>405.0</td>\n",
              "      <td>64</td>\n",
              "      <td>320.0</td>\n",
              "      <td>11200.0</td>\n",
              "      <td>1715.937500</td>\n",
              "      <td>5600.0</td>\n",
              "      <td>1620.0</td>\n",
              "      <td>4</td>\n",
              "      <td>7.0</td>\n",
              "      <td>15.0</td>\n",
              "      <td>9.000000</td>\n",
              "      <td>7.0</td>\n",
              "      <td>7.0</td>\n",
              "    </tr>\n",
              "    <tr>\n",
              "      <th>Usables</th>\n",
              "      <td>88</td>\n",
              "      <td>30</td>\n",
              "      <td>7388</td>\n",
              "      <td>3867.534091</td>\n",
              "      <td>30</td>\n",
              "      <td>7388</td>\n",
              "      <td>85</td>\n",
              "      <td>5.0</td>\n",
              "      <td>16000.0</td>\n",
              "      <td>914.082353</td>\n",
              "      <td>200.0</td>\n",
              "      <td>200.0</td>\n",
              "      <td>3</td>\n",
              "      <td>600.0</td>\n",
              "      <td>36000.0</td>\n",
              "      <td>12466.666667</td>\n",
              "      <td>800.0</td>\n",
              "      <td>600.0</td>\n",
              "      <td>4</td>\n",
              "      <td>1.0</td>\n",
              "      <td>6.0</td>\n",
              "      <td>4.000000</td>\n",
              "      <td>1.0</td>\n",
              "      <td>6.0</td>\n",
              "    </tr>\n",
              "    <tr>\n",
              "      <th>Wallpaper</th>\n",
              "      <td>255</td>\n",
              "      <td>17</td>\n",
              "      <td>7371</td>\n",
              "      <td>3525.447059</td>\n",
              "      <td>17</td>\n",
              "      <td>7371</td>\n",
              "      <td>254</td>\n",
              "      <td>50.0</td>\n",
              "      <td>44000.0</td>\n",
              "      <td>1665.692913</td>\n",
              "      <td>390.0</td>\n",
              "      <td>380.0</td>\n",
              "      <td>236</td>\n",
              "      <td>200.0</td>\n",
              "      <td>176000.0</td>\n",
              "      <td>5447.881356</td>\n",
              "      <td>1560.0</td>\n",
              "      <td>1520.0</td>\n",
              "      <td>26</td>\n",
              "      <td>1.0</td>\n",
              "      <td>20.0</td>\n",
              "      <td>7.076923</td>\n",
              "      <td>7.0</td>\n",
              "      <td>9.0</td>\n",
              "    </tr>\n",
              "  </tbody>\n",
              "</table>\n",
              "</div>"
            ],
            "text/plain": [
              "            num_id                           ... recipe                     \n",
              "             count   min   max         mean  ...    max      mean first last\n",
              "category                                     ...                            \n",
              "Accessories    123    12  7270  3520.260163  ...   20.0  4.250000   6.0  5.0\n",
              "Bottoms        142    24  7315  3540.633803  ...    7.0  7.000000   7.0  7.0\n",
              "Bugs            80    46  7326  3591.875000  ...    NaN       NaN   NaN  NaN\n",
              "Dresses        239    19  7424  3582.615063  ...    8.0  4.470588   8.0  3.0\n",
              "Fish           101   102  7403  3024.148515  ...    NaN       NaN   NaN  NaN\n",
              "Flooring       324    83  7398  3798.719136  ...   20.0  4.405405  15.0  3.0\n",
              "Flowers        109   543  7377  4946.220183  ...    NaN       NaN   NaN  NaN\n",
              "Fossils         76    20  6841  3467.815789  ...    NaN       NaN   NaN  NaN\n",
              "Fruit           12   168  4772  2808.666667  ...    NaN       NaN   NaN  NaN\n",
              "Furniture     1264    21  7421  3686.337025  ...   90.0  5.009828   8.0  3.0\n",
              "Hats           230    28  7417  3744.713043  ...    5.0  2.128205   1.0  2.0\n",
              "Music           95    40  7105  3629.400000  ...    NaN       NaN   NaN  NaN\n",
              "Photos         840    32  7443  3444.902381  ...    NaN       NaN   NaN  NaN\n",
              "Seashells        8  1440  6967  3990.750000  ...    NaN       NaN   NaN  NaN\n",
              "Shoes           89   142  7441  4373.977528  ...    2.0  2.000000   2.0  2.0\n",
              "Socks           60    35  7093  3973.483333  ...    NaN       NaN   NaN  NaN\n",
              "Tools           74   266  7215  3572.216216  ...    7.0  2.818182   1.0  5.0\n",
              "Tops           289    14  7425  3790.865052  ...    8.0  8.000000   8.0  8.0\n",
              "Umbrellas       67   166  7174  3658.701493  ...   15.0  9.000000   7.0  7.0\n",
              "Usables         88    30  7388  3867.534091  ...    6.0  4.000000   1.0  6.0\n",
              "Wallpaper      255    17  7371  3525.447059  ...   20.0  7.076923   7.0  9.0\n",
              "\n",
              "[21 rows x 24 columns]"
            ]
          },
          "metadata": {
            "tags": []
          },
          "execution_count": 8
        }
      ]
    },
    {
      "cell_type": "markdown",
      "metadata": {
        "id": "Rq67RCt20iL2",
        "colab_type": "text"
      },
      "source": [
        "##**Operación de agregación basadas en columnas**:\n",
        "\n",
        "Supongamos qu queremos aplicar funciones diferentes a una o más columnas. Esto se puede hacer facilmente si pasamos un diccionario al método `agg` que contenga un mapa de los nombres de las columnas a cualquier funcion antes especificada:"
      ]
    },
    {
      "cell_type": "code",
      "metadata": {
        "id": "HEopttaLyo7W",
        "colab_type": "code",
        "outputId": "422bd756-202b-4c85-ae51-3571477f3d7b",
        "colab": {
          "base_uri": "https://localhost:8080/",
          "height": 698
        }
      },
      "source": [
        "dfA.groupby(['category']).agg({'sell_value':'count','buy_value':'std'})"
      ],
      "execution_count": 0,
      "outputs": [
        {
          "output_type": "execute_result",
          "data": {
            "text/html": [
              "<div>\n",
              "<style scoped>\n",
              "    .dataframe tbody tr th:only-of-type {\n",
              "        vertical-align: middle;\n",
              "    }\n",
              "\n",
              "    .dataframe tbody tr th {\n",
              "        vertical-align: top;\n",
              "    }\n",
              "\n",
              "    .dataframe thead th {\n",
              "        text-align: right;\n",
              "    }\n",
              "</style>\n",
              "<table border=\"1\" class=\"dataframe\">\n",
              "  <thead>\n",
              "    <tr style=\"text-align: right;\">\n",
              "      <th></th>\n",
              "      <th>sell_value</th>\n",
              "      <th>buy_value</th>\n",
              "    </tr>\n",
              "    <tr>\n",
              "      <th>category</th>\n",
              "      <th></th>\n",
              "      <th></th>\n",
              "    </tr>\n",
              "  </thead>\n",
              "  <tbody>\n",
              "    <tr>\n",
              "      <th>Accessories</th>\n",
              "      <td>123</td>\n",
              "      <td>4383.964797</td>\n",
              "    </tr>\n",
              "    <tr>\n",
              "      <th>Bottoms</th>\n",
              "      <td>142</td>\n",
              "      <td>462.801281</td>\n",
              "    </tr>\n",
              "    <tr>\n",
              "      <th>Bugs</th>\n",
              "      <td>80</td>\n",
              "      <td>14239.765282</td>\n",
              "    </tr>\n",
              "    <tr>\n",
              "      <th>Dresses</th>\n",
              "      <td>239</td>\n",
              "      <td>21158.961881</td>\n",
              "    </tr>\n",
              "    <tr>\n",
              "      <th>Fish</th>\n",
              "      <td>101</td>\n",
              "      <td>NaN</td>\n",
              "    </tr>\n",
              "    <tr>\n",
              "      <th>Flooring</th>\n",
              "      <td>322</td>\n",
              "      <td>10974.832136</td>\n",
              "    </tr>\n",
              "    <tr>\n",
              "      <th>Flowers</th>\n",
              "      <td>106</td>\n",
              "      <td>0.000000</td>\n",
              "    </tr>\n",
              "    <tr>\n",
              "      <th>Fossils</th>\n",
              "      <td>76</td>\n",
              "      <td>NaN</td>\n",
              "    </tr>\n",
              "    <tr>\n",
              "      <th>Fruit</th>\n",
              "      <td>12</td>\n",
              "      <td>0.000000</td>\n",
              "    </tr>\n",
              "    <tr>\n",
              "      <th>Furniture</th>\n",
              "      <td>1239</td>\n",
              "      <td>40410.620819</td>\n",
              "    </tr>\n",
              "    <tr>\n",
              "      <th>Hats</th>\n",
              "      <td>229</td>\n",
              "      <td>110829.805841</td>\n",
              "    </tr>\n",
              "    <tr>\n",
              "      <th>Music</th>\n",
              "      <td>95</td>\n",
              "      <td>123.117402</td>\n",
              "    </tr>\n",
              "    <tr>\n",
              "      <th>Photos</th>\n",
              "      <td>840</td>\n",
              "      <td>479.059184</td>\n",
              "    </tr>\n",
              "    <tr>\n",
              "      <th>Seashells</th>\n",
              "      <td>8</td>\n",
              "      <td>NaN</td>\n",
              "    </tr>\n",
              "    <tr>\n",
              "      <th>Shoes</th>\n",
              "      <td>89</td>\n",
              "      <td>17659.890288</td>\n",
              "    </tr>\n",
              "    <tr>\n",
              "      <th>Socks</th>\n",
              "      <td>60</td>\n",
              "      <td>202.471941</td>\n",
              "    </tr>\n",
              "    <tr>\n",
              "      <th>Tools</th>\n",
              "      <td>74</td>\n",
              "      <td>219.983766</td>\n",
              "    </tr>\n",
              "    <tr>\n",
              "      <th>Tops</th>\n",
              "      <td>288</td>\n",
              "      <td>815.908200</td>\n",
              "    </tr>\n",
              "    <tr>\n",
              "      <th>Umbrellas</th>\n",
              "      <td>67</td>\n",
              "      <td>2083.171970</td>\n",
              "    </tr>\n",
              "    <tr>\n",
              "      <th>Usables</th>\n",
              "      <td>85</td>\n",
              "      <td>20380.709834</td>\n",
              "    </tr>\n",
              "    <tr>\n",
              "      <th>Wallpaper</th>\n",
              "      <td>254</td>\n",
              "      <td>16881.447445</td>\n",
              "    </tr>\n",
              "  </tbody>\n",
              "</table>\n",
              "</div>"
            ],
            "text/plain": [
              "             sell_value      buy_value\n",
              "category                              \n",
              "Accessories         123    4383.964797\n",
              "Bottoms             142     462.801281\n",
              "Bugs                 80   14239.765282\n",
              "Dresses             239   21158.961881\n",
              "Fish                101            NaN\n",
              "Flooring            322   10974.832136\n",
              "Flowers             106       0.000000\n",
              "Fossils              76            NaN\n",
              "Fruit                12       0.000000\n",
              "Furniture          1239   40410.620819\n",
              "Hats                229  110829.805841\n",
              "Music                95     123.117402\n",
              "Photos              840     479.059184\n",
              "Seashells             8            NaN\n",
              "Shoes                89   17659.890288\n",
              "Socks                60     202.471941\n",
              "Tools                74     219.983766\n",
              "Tops                288     815.908200\n",
              "Umbrellas            67    2083.171970\n",
              "Usables              85   20380.709834\n",
              "Wallpaper           254   16881.447445"
            ]
          },
          "metadata": {
            "tags": []
          },
          "execution_count": 9
        }
      ]
    },
    {
      "cell_type": "markdown",
      "metadata": {
        "id": "w-iX1sYN3BTw",
        "colab_type": "text"
      },
      "source": [
        "## **Retorno de datos agregados sin forma de indexado**:\n",
        "\n",
        "Nótese que la función de `groupby` utiliza los valores únicos de la columna usada para hacer la agrupación y devolver una objeto cuyo índice son los valores de dicha columna. \n",
        "\n",
        "Si no queremos que esto ocurra, podemos especificar en el argumento de la función `as_index=False` para que no se realice este indexado:"
      ]
    },
    {
      "cell_type": "code",
      "metadata": {
        "id": "9tTglcX_3znr",
        "colab_type": "code",
        "outputId": "fae9fd9b-ad79-4980-ad02-d1b2541e35d2",
        "colab": {
          "base_uri": "https://localhost:8080/",
          "height": 669
        }
      },
      "source": [
        "dfA.groupby('category', as_index=False).mean()"
      ],
      "execution_count": 0,
      "outputs": [
        {
          "output_type": "execute_result",
          "data": {
            "text/html": [
              "<div>\n",
              "<style scoped>\n",
              "    .dataframe tbody tr th:only-of-type {\n",
              "        vertical-align: middle;\n",
              "    }\n",
              "\n",
              "    .dataframe tbody tr th {\n",
              "        vertical-align: top;\n",
              "    }\n",
              "\n",
              "    .dataframe thead th {\n",
              "        text-align: right;\n",
              "    }\n",
              "</style>\n",
              "<table border=\"1\" class=\"dataframe\">\n",
              "  <thead>\n",
              "    <tr style=\"text-align: right;\">\n",
              "      <th></th>\n",
              "      <th>category</th>\n",
              "      <th>num_id</th>\n",
              "      <th>sell_value</th>\n",
              "      <th>buy_value</th>\n",
              "      <th>recipe</th>\n",
              "    </tr>\n",
              "  </thead>\n",
              "  <tbody>\n",
              "    <tr>\n",
              "      <th>0</th>\n",
              "      <td>Accessories</td>\n",
              "      <td>3520.260163</td>\n",
              "      <td>637.284553</td>\n",
              "      <td>1911.754386</td>\n",
              "      <td>4.250000</td>\n",
              "    </tr>\n",
              "    <tr>\n",
              "      <th>1</th>\n",
              "      <td>Bottoms</td>\n",
              "      <td>3540.633803</td>\n",
              "      <td>298.345070</td>\n",
              "      <td>1197.943262</td>\n",
              "      <td>7.000000</td>\n",
              "    </tr>\n",
              "    <tr>\n",
              "      <th>2</th>\n",
              "      <td>Bugs</td>\n",
              "      <td>3591.875000</td>\n",
              "      <td>2220.500000</td>\n",
              "      <td>10510.877193</td>\n",
              "      <td>NaN</td>\n",
              "    </tr>\n",
              "    <tr>\n",
              "      <th>3</th>\n",
              "      <td>Dresses</td>\n",
              "      <td>3582.615063</td>\n",
              "      <td>1114.058577</td>\n",
              "      <td>3803.788546</td>\n",
              "      <td>4.470588</td>\n",
              "    </tr>\n",
              "    <tr>\n",
              "      <th>4</th>\n",
              "      <td>Fish</td>\n",
              "      <td>3024.148515</td>\n",
              "      <td>3808.811881</td>\n",
              "      <td>NaN</td>\n",
              "      <td>NaN</td>\n",
              "    </tr>\n",
              "    <tr>\n",
              "      <th>5</th>\n",
              "      <td>Flooring</td>\n",
              "      <td>3798.719136</td>\n",
              "      <td>1275.447205</td>\n",
              "      <td>3833.393333</td>\n",
              "      <td>4.405405</td>\n",
              "    </tr>\n",
              "    <tr>\n",
              "      <th>6</th>\n",
              "      <td>Flowers</td>\n",
              "      <td>4946.220183</td>\n",
              "      <td>120.754717</td>\n",
              "      <td>160.000000</td>\n",
              "      <td>NaN</td>\n",
              "    </tr>\n",
              "    <tr>\n",
              "      <th>7</th>\n",
              "      <td>Fossils</td>\n",
              "      <td>3467.815789</td>\n",
              "      <td>3502.631579</td>\n",
              "      <td>NaN</td>\n",
              "      <td>NaN</td>\n",
              "    </tr>\n",
              "    <tr>\n",
              "      <th>8</th>\n",
              "      <td>Fruit</td>\n",
              "      <td>2808.666667</td>\n",
              "      <td>125.000000</td>\n",
              "      <td>400.000000</td>\n",
              "      <td>NaN</td>\n",
              "    </tr>\n",
              "    <tr>\n",
              "      <th>9</th>\n",
              "      <td>Furniture</td>\n",
              "      <td>3686.337025</td>\n",
              "      <td>5386.694108</td>\n",
              "      <td>20256.035760</td>\n",
              "      <td>5.009828</td>\n",
              "    </tr>\n",
              "    <tr>\n",
              "      <th>10</th>\n",
              "      <td>Hats</td>\n",
              "      <td>3744.713043</td>\n",
              "      <td>3467.096070</td>\n",
              "      <td>14668.400000</td>\n",
              "      <td>2.128205</td>\n",
              "    </tr>\n",
              "    <tr>\n",
              "      <th>11</th>\n",
              "      <td>Music</td>\n",
              "      <td>3629.400000</td>\n",
              "      <td>800.000000</td>\n",
              "      <td>3187.368421</td>\n",
              "      <td>NaN</td>\n",
              "    </tr>\n",
              "    <tr>\n",
              "      <th>12</th>\n",
              "      <td>Photos</td>\n",
              "      <td>3444.902381</td>\n",
              "      <td>138.571429</td>\n",
              "      <td>554.285714</td>\n",
              "      <td>NaN</td>\n",
              "    </tr>\n",
              "    <tr>\n",
              "      <th>13</th>\n",
              "      <td>Seashells</td>\n",
              "      <td>3990.750000</td>\n",
              "      <td>420.000000</td>\n",
              "      <td>NaN</td>\n",
              "      <td>NaN</td>\n",
              "    </tr>\n",
              "    <tr>\n",
              "      <th>14</th>\n",
              "      <td>Shoes</td>\n",
              "      <td>4373.977528</td>\n",
              "      <td>898.775281</td>\n",
              "      <td>3567.777778</td>\n",
              "      <td>2.000000</td>\n",
              "    </tr>\n",
              "    <tr>\n",
              "      <th>15</th>\n",
              "      <td>Socks</td>\n",
              "      <td>3973.483333</td>\n",
              "      <td>197.416667</td>\n",
              "      <td>663.166667</td>\n",
              "      <td>NaN</td>\n",
              "    </tr>\n",
              "    <tr>\n",
              "      <th>16</th>\n",
              "      <td>Tools</td>\n",
              "      <td>3572.216216</td>\n",
              "      <td>2795.945946</td>\n",
              "      <td>662.500000</td>\n",
              "      <td>2.818182</td>\n",
              "    </tr>\n",
              "    <tr>\n",
              "      <th>17</th>\n",
              "      <td>Tops</td>\n",
              "      <td>3790.865052</td>\n",
              "      <td>361.215278</td>\n",
              "      <td>1305.433566</td>\n",
              "      <td>8.000000</td>\n",
              "    </tr>\n",
              "    <tr>\n",
              "      <th>18</th>\n",
              "      <td>Umbrellas</td>\n",
              "      <td>3658.701493</td>\n",
              "      <td>505.358209</td>\n",
              "      <td>1715.937500</td>\n",
              "      <td>9.000000</td>\n",
              "    </tr>\n",
              "    <tr>\n",
              "      <th>19</th>\n",
              "      <td>Usables</td>\n",
              "      <td>3867.534091</td>\n",
              "      <td>914.082353</td>\n",
              "      <td>12466.666667</td>\n",
              "      <td>4.000000</td>\n",
              "    </tr>\n",
              "    <tr>\n",
              "      <th>20</th>\n",
              "      <td>Wallpaper</td>\n",
              "      <td>3525.447059</td>\n",
              "      <td>1665.692913</td>\n",
              "      <td>5447.881356</td>\n",
              "      <td>7.076923</td>\n",
              "    </tr>\n",
              "  </tbody>\n",
              "</table>\n",
              "</div>"
            ],
            "text/plain": [
              "       category       num_id   sell_value     buy_value    recipe\n",
              "0   Accessories  3520.260163   637.284553   1911.754386  4.250000\n",
              "1       Bottoms  3540.633803   298.345070   1197.943262  7.000000\n",
              "2          Bugs  3591.875000  2220.500000  10510.877193       NaN\n",
              "3       Dresses  3582.615063  1114.058577   3803.788546  4.470588\n",
              "4          Fish  3024.148515  3808.811881           NaN       NaN\n",
              "5      Flooring  3798.719136  1275.447205   3833.393333  4.405405\n",
              "6       Flowers  4946.220183   120.754717    160.000000       NaN\n",
              "7       Fossils  3467.815789  3502.631579           NaN       NaN\n",
              "8         Fruit  2808.666667   125.000000    400.000000       NaN\n",
              "9     Furniture  3686.337025  5386.694108  20256.035760  5.009828\n",
              "10         Hats  3744.713043  3467.096070  14668.400000  2.128205\n",
              "11        Music  3629.400000   800.000000   3187.368421       NaN\n",
              "12       Photos  3444.902381   138.571429    554.285714       NaN\n",
              "13    Seashells  3990.750000   420.000000           NaN       NaN\n",
              "14        Shoes  4373.977528   898.775281   3567.777778  2.000000\n",
              "15        Socks  3973.483333   197.416667    663.166667       NaN\n",
              "16        Tools  3572.216216  2795.945946    662.500000  2.818182\n",
              "17         Tops  3790.865052   361.215278   1305.433566  8.000000\n",
              "18    Umbrellas  3658.701493   505.358209   1715.937500  9.000000\n",
              "19      Usables  3867.534091   914.082353  12466.666667  4.000000\n",
              "20    Wallpaper  3525.447059  1665.692913   5447.881356  7.076923"
            ]
          },
          "metadata": {
            "tags": []
          },
          "execution_count": 10
        }
      ]
    },
    {
      "cell_type": "markdown",
      "metadata": {
        "id": "tSwzflCU8UjB",
        "colab_type": "text"
      },
      "source": [
        "##**Applicación de funciones propias**\n",
        "\n",
        "Podemo también aplicar funciones propias usando el método `agg`. \n",
        "\n",
        "Definamos una función que calcule la distancia entre el valor máximo y el valor mínimo en un conjunto de datos:"
      ]
    },
    {
      "cell_type": "code",
      "metadata": {
        "id": "IVCEJRH08-59",
        "colab_type": "code",
        "colab": {}
      },
      "source": [
        "def max_min_distance(datos):\n",
        "  return datos.max()-datos.min()"
      ],
      "execution_count": 0,
      "outputs": []
    },
    {
      "cell_type": "markdown",
      "metadata": {
        "id": "koYVwT5k9NSm",
        "colab_type": "text"
      },
      "source": [
        ""
      ]
    },
    {
      "cell_type": "code",
      "metadata": {
        "id": "hDPWKL-29MQ-",
        "colab_type": "code",
        "outputId": "c5446f16-1d49-43af-c708-5b5cbb82a11d",
        "colab": {
          "base_uri": "https://localhost:8080/",
          "height": 698
        }
      },
      "source": [
        "dfA.groupby('category').agg({'buy_value':max_min_distance})"
      ],
      "execution_count": 0,
      "outputs": [
        {
          "output_type": "execute_result",
          "data": {
            "text/html": [
              "<div>\n",
              "<style scoped>\n",
              "    .dataframe tbody tr th:only-of-type {\n",
              "        vertical-align: middle;\n",
              "    }\n",
              "\n",
              "    .dataframe tbody tr th {\n",
              "        vertical-align: top;\n",
              "    }\n",
              "\n",
              "    .dataframe thead th {\n",
              "        text-align: right;\n",
              "    }\n",
              "</style>\n",
              "<table border=\"1\" class=\"dataframe\">\n",
              "  <thead>\n",
              "    <tr style=\"text-align: right;\">\n",
              "      <th></th>\n",
              "      <th>buy_value</th>\n",
              "    </tr>\n",
              "    <tr>\n",
              "      <th>category</th>\n",
              "      <th></th>\n",
              "    </tr>\n",
              "  </thead>\n",
              "  <tbody>\n",
              "    <tr>\n",
              "      <th>Accessories</th>\n",
              "      <td>43160.0</td>\n",
              "    </tr>\n",
              "    <tr>\n",
              "      <th>Bottoms</th>\n",
              "      <td>4260.0</td>\n",
              "    </tr>\n",
              "    <tr>\n",
              "      <th>Bugs</th>\n",
              "      <td>47960.0</td>\n",
              "    </tr>\n",
              "    <tr>\n",
              "      <th>Dresses</th>\n",
              "      <td>319960.0</td>\n",
              "    </tr>\n",
              "    <tr>\n",
              "      <th>Fish</th>\n",
              "      <td>NaN</td>\n",
              "    </tr>\n",
              "    <tr>\n",
              "      <th>Flooring</th>\n",
              "      <td>139648.0</td>\n",
              "    </tr>\n",
              "    <tr>\n",
              "      <th>Flowers</th>\n",
              "      <td>0.0</td>\n",
              "    </tr>\n",
              "    <tr>\n",
              "      <th>Fossils</th>\n",
              "      <td>NaN</td>\n",
              "    </tr>\n",
              "    <tr>\n",
              "      <th>Fruit</th>\n",
              "      <td>0.0</td>\n",
              "    </tr>\n",
              "    <tr>\n",
              "      <th>Furniture</th>\n",
              "      <td>319960.0</td>\n",
              "    </tr>\n",
              "    <tr>\n",
              "      <th>Hats</th>\n",
              "      <td>1199860.0</td>\n",
              "    </tr>\n",
              "    <tr>\n",
              "      <th>Music</th>\n",
              "      <td>1200.0</td>\n",
              "    </tr>\n",
              "    <tr>\n",
              "      <th>Photos</th>\n",
              "      <td>960.0</td>\n",
              "    </tr>\n",
              "    <tr>\n",
              "      <th>Seashells</th>\n",
              "      <td>NaN</td>\n",
              "    </tr>\n",
              "    <tr>\n",
              "      <th>Shoes</th>\n",
              "      <td>159650.0</td>\n",
              "    </tr>\n",
              "    <tr>\n",
              "      <th>Socks</th>\n",
              "      <td>1200.0</td>\n",
              "    </tr>\n",
              "    <tr>\n",
              "      <th>Tools</th>\n",
              "      <td>500.0</td>\n",
              "    </tr>\n",
              "    <tr>\n",
              "      <th>Tops</th>\n",
              "      <td>6680.0</td>\n",
              "    </tr>\n",
              "    <tr>\n",
              "      <th>Umbrellas</th>\n",
              "      <td>10880.0</td>\n",
              "    </tr>\n",
              "    <tr>\n",
              "      <th>Usables</th>\n",
              "      <td>35400.0</td>\n",
              "    </tr>\n",
              "    <tr>\n",
              "      <th>Wallpaper</th>\n",
              "      <td>175800.0</td>\n",
              "    </tr>\n",
              "  </tbody>\n",
              "</table>\n",
              "</div>"
            ],
            "text/plain": [
              "             buy_value\n",
              "category              \n",
              "Accessories    43160.0\n",
              "Bottoms         4260.0\n",
              "Bugs           47960.0\n",
              "Dresses       319960.0\n",
              "Fish               NaN\n",
              "Flooring      139648.0\n",
              "Flowers            0.0\n",
              "Fossils            NaN\n",
              "Fruit              0.0\n",
              "Furniture     319960.0\n",
              "Hats         1199860.0\n",
              "Music           1200.0\n",
              "Photos           960.0\n",
              "Seashells          NaN\n",
              "Shoes         159650.0\n",
              "Socks           1200.0\n",
              "Tools            500.0\n",
              "Tops            6680.0\n",
              "Umbrellas      10880.0\n",
              "Usables        35400.0\n",
              "Wallpaper     175800.0"
            ]
          },
          "metadata": {
            "tags": []
          },
          "execution_count": 12
        }
      ]
    },
    {
      "cell_type": "markdown",
      "metadata": {
        "id": "qwJJ1de04Ysa",
        "colab_type": "text"
      },
      "source": [
        "### **Problema**:\n",
        "\n",
        "Realice una agrupamiento mediante la columna `category` y realce:\n",
        "\n",
        "- Una cuenta de los elementos de la columna `name`.\n",
        "- Realice en las columnas 'sell_value' y 'buy_value' un conteo, una suma y el cálculo de la desviación estándar.\n",
        "\n",
        "Nota: Asegúrese de no usar los valores de la variable `category` como índices del dataframe que construya."
      ]
    },
    {
      "cell_type": "code",
      "metadata": {
        "id": "vM_lmLVa6a81",
        "colab_type": "code",
        "cellView": "form",
        "outputId": "d4b4be63-f640-423e-e035-66da3104f544",
        "colab": {
          "base_uri": "https://localhost:8080/",
          "height": 698
        }
      },
      "source": [
        "#@title Solución al problema\n",
        "dfA.groupby('category', as_index=False).agg({'name':'count','sell_value':['count','sum','std'],'buy_value':['count','sum','std']})"
      ],
      "execution_count": 0,
      "outputs": [
        {
          "output_type": "execute_result",
          "data": {
            "text/html": [
              "<div>\n",
              "<style scoped>\n",
              "    .dataframe tbody tr th:only-of-type {\n",
              "        vertical-align: middle;\n",
              "    }\n",
              "\n",
              "    .dataframe tbody tr th {\n",
              "        vertical-align: top;\n",
              "    }\n",
              "\n",
              "    .dataframe thead tr th {\n",
              "        text-align: left;\n",
              "    }\n",
              "</style>\n",
              "<table border=\"1\" class=\"dataframe\">\n",
              "  <thead>\n",
              "    <tr>\n",
              "      <th></th>\n",
              "      <th>category</th>\n",
              "      <th>name</th>\n",
              "      <th colspan=\"3\" halign=\"left\">sell_value</th>\n",
              "      <th colspan=\"3\" halign=\"left\">buy_value</th>\n",
              "    </tr>\n",
              "    <tr>\n",
              "      <th></th>\n",
              "      <th></th>\n",
              "      <th>count</th>\n",
              "      <th>count</th>\n",
              "      <th>sum</th>\n",
              "      <th>std</th>\n",
              "      <th>count</th>\n",
              "      <th>sum</th>\n",
              "      <th>std</th>\n",
              "    </tr>\n",
              "  </thead>\n",
              "  <tbody>\n",
              "    <tr>\n",
              "      <th>0</th>\n",
              "      <td>Accessories</td>\n",
              "      <td>123</td>\n",
              "      <td>123</td>\n",
              "      <td>78386.0</td>\n",
              "      <td>1191.735733</td>\n",
              "      <td>114</td>\n",
              "      <td>217940.0</td>\n",
              "      <td>4383.964797</td>\n",
              "    </tr>\n",
              "    <tr>\n",
              "      <th>1</th>\n",
              "      <td>Bottoms</td>\n",
              "      <td>142</td>\n",
              "      <td>142</td>\n",
              "      <td>42365.0</td>\n",
              "      <td>116.072431</td>\n",
              "      <td>141</td>\n",
              "      <td>168910.0</td>\n",
              "      <td>462.801281</td>\n",
              "    </tr>\n",
              "    <tr>\n",
              "      <th>2</th>\n",
              "      <td>Bugs</td>\n",
              "      <td>80</td>\n",
              "      <td>80</td>\n",
              "      <td>177640.0</td>\n",
              "      <td>3209.388877</td>\n",
              "      <td>57</td>\n",
              "      <td>599120.0</td>\n",
              "      <td>14239.765282</td>\n",
              "    </tr>\n",
              "    <tr>\n",
              "      <th>3</th>\n",
              "      <td>Dresses</td>\n",
              "      <td>239</td>\n",
              "      <td>239</td>\n",
              "      <td>266260.0</td>\n",
              "      <td>5246.891674</td>\n",
              "      <td>227</td>\n",
              "      <td>863460.0</td>\n",
              "      <td>21158.961881</td>\n",
              "    </tr>\n",
              "    <tr>\n",
              "      <th>4</th>\n",
              "      <td>Fish</td>\n",
              "      <td>101</td>\n",
              "      <td>101</td>\n",
              "      <td>384690.0</td>\n",
              "      <td>4585.530130</td>\n",
              "      <td>0</td>\n",
              "      <td>0.0</td>\n",
              "      <td>NaN</td>\n",
              "    </tr>\n",
              "    <tr>\n",
              "      <th>5</th>\n",
              "      <td>Flooring</td>\n",
              "      <td>324</td>\n",
              "      <td>322</td>\n",
              "      <td>410694.0</td>\n",
              "      <td>3505.521397</td>\n",
              "      <td>300</td>\n",
              "      <td>1150018.0</td>\n",
              "      <td>10974.832136</td>\n",
              "    </tr>\n",
              "    <tr>\n",
              "      <th>6</th>\n",
              "      <td>Flowers</td>\n",
              "      <td>109</td>\n",
              "      <td>106</td>\n",
              "      <td>12800.0</td>\n",
              "      <td>187.615098</td>\n",
              "      <td>46</td>\n",
              "      <td>7360.0</td>\n",
              "      <td>0.000000</td>\n",
              "    </tr>\n",
              "    <tr>\n",
              "      <th>7</th>\n",
              "      <td>Fossils</td>\n",
              "      <td>76</td>\n",
              "      <td>76</td>\n",
              "      <td>266200.0</td>\n",
              "      <td>1413.079256</td>\n",
              "      <td>0</td>\n",
              "      <td>0.0</td>\n",
              "      <td>NaN</td>\n",
              "    </tr>\n",
              "    <tr>\n",
              "      <th>8</th>\n",
              "      <td>Fruit</td>\n",
              "      <td>12</td>\n",
              "      <td>12</td>\n",
              "      <td>1500.0</td>\n",
              "      <td>58.387421</td>\n",
              "      <td>10</td>\n",
              "      <td>4000.0</td>\n",
              "      <td>0.000000</td>\n",
              "    </tr>\n",
              "    <tr>\n",
              "      <th>9</th>\n",
              "      <td>Furniture</td>\n",
              "      <td>1264</td>\n",
              "      <td>1239</td>\n",
              "      <td>6674114.0</td>\n",
              "      <td>17604.388917</td>\n",
              "      <td>783</td>\n",
              "      <td>15860476.0</td>\n",
              "      <td>40410.620819</td>\n",
              "    </tr>\n",
              "    <tr>\n",
              "      <th>10</th>\n",
              "      <td>Hats</td>\n",
              "      <td>230</td>\n",
              "      <td>229</td>\n",
              "      <td>793965.0</td>\n",
              "      <td>25896.625100</td>\n",
              "      <td>200</td>\n",
              "      <td>2933680.0</td>\n",
              "      <td>110829.805841</td>\n",
              "    </tr>\n",
              "    <tr>\n",
              "      <th>11</th>\n",
              "      <td>Music</td>\n",
              "      <td>95</td>\n",
              "      <td>95</td>\n",
              "      <td>76000.0</td>\n",
              "      <td>0.000000</td>\n",
              "      <td>95</td>\n",
              "      <td>302800.0</td>\n",
              "      <td>123.117402</td>\n",
              "    </tr>\n",
              "    <tr>\n",
              "      <th>12</th>\n",
              "      <td>Photos</td>\n",
              "      <td>840</td>\n",
              "      <td>840</td>\n",
              "      <td>116400.0</td>\n",
              "      <td>119.764796</td>\n",
              "      <td>840</td>\n",
              "      <td>465600.0</td>\n",
              "      <td>479.059184</td>\n",
              "    </tr>\n",
              "    <tr>\n",
              "      <th>13</th>\n",
              "      <td>Seashells</td>\n",
              "      <td>8</td>\n",
              "      <td>8</td>\n",
              "      <td>3360.0</td>\n",
              "      <td>302.182537</td>\n",
              "      <td>0</td>\n",
              "      <td>0.0</td>\n",
              "      <td>NaN</td>\n",
              "    </tr>\n",
              "    <tr>\n",
              "      <th>14</th>\n",
              "      <td>Shoes</td>\n",
              "      <td>89</td>\n",
              "      <td>89</td>\n",
              "      <td>79991.0</td>\n",
              "      <td>4211.394748</td>\n",
              "      <td>81</td>\n",
              "      <td>288990.0</td>\n",
              "      <td>17659.890288</td>\n",
              "    </tr>\n",
              "    <tr>\n",
              "      <th>15</th>\n",
              "      <td>Socks</td>\n",
              "      <td>60</td>\n",
              "      <td>60</td>\n",
              "      <td>11845.0</td>\n",
              "      <td>241.860535</td>\n",
              "      <td>60</td>\n",
              "      <td>39790.0</td>\n",
              "      <td>202.471941</td>\n",
              "    </tr>\n",
              "    <tr>\n",
              "      <th>16</th>\n",
              "      <td>Tools</td>\n",
              "      <td>74</td>\n",
              "      <td>74</td>\n",
              "      <td>206900.0</td>\n",
              "      <td>3949.678648</td>\n",
              "      <td>8</td>\n",
              "      <td>5300.0</td>\n",
              "      <td>219.983766</td>\n",
              "    </tr>\n",
              "    <tr>\n",
              "      <th>17</th>\n",
              "      <td>Tops</td>\n",
              "      <td>289</td>\n",
              "      <td>288</td>\n",
              "      <td>104030.0</td>\n",
              "      <td>371.976408</td>\n",
              "      <td>286</td>\n",
              "      <td>373354.0</td>\n",
              "      <td>815.908200</td>\n",
              "    </tr>\n",
              "    <tr>\n",
              "      <th>18</th>\n",
              "      <td>Umbrellas</td>\n",
              "      <td>67</td>\n",
              "      <td>67</td>\n",
              "      <td>33859.0</td>\n",
              "      <td>651.017728</td>\n",
              "      <td>64</td>\n",
              "      <td>109820.0</td>\n",
              "      <td>2083.171970</td>\n",
              "    </tr>\n",
              "    <tr>\n",
              "      <th>19</th>\n",
              "      <td>Usables</td>\n",
              "      <td>88</td>\n",
              "      <td>85</td>\n",
              "      <td>77697.0</td>\n",
              "      <td>2656.810324</td>\n",
              "      <td>3</td>\n",
              "      <td>37400.0</td>\n",
              "      <td>20380.709834</td>\n",
              "    </tr>\n",
              "    <tr>\n",
              "      <th>20</th>\n",
              "      <td>Wallpaper</td>\n",
              "      <td>255</td>\n",
              "      <td>254</td>\n",
              "      <td>423086.0</td>\n",
              "      <td>4470.135716</td>\n",
              "      <td>236</td>\n",
              "      <td>1285700.0</td>\n",
              "      <td>16881.447445</td>\n",
              "    </tr>\n",
              "  </tbody>\n",
              "</table>\n",
              "</div>"
            ],
            "text/plain": [
              "       category  name sell_value  ... buy_value                           \n",
              "                count      count  ...     count         sum            std\n",
              "0   Accessories   123        123  ...       114    217940.0    4383.964797\n",
              "1       Bottoms   142        142  ...       141    168910.0     462.801281\n",
              "2          Bugs    80         80  ...        57    599120.0   14239.765282\n",
              "3       Dresses   239        239  ...       227    863460.0   21158.961881\n",
              "4          Fish   101        101  ...         0         0.0            NaN\n",
              "5      Flooring   324        322  ...       300   1150018.0   10974.832136\n",
              "6       Flowers   109        106  ...        46      7360.0       0.000000\n",
              "7       Fossils    76         76  ...         0         0.0            NaN\n",
              "8         Fruit    12         12  ...        10      4000.0       0.000000\n",
              "9     Furniture  1264       1239  ...       783  15860476.0   40410.620819\n",
              "10         Hats   230        229  ...       200   2933680.0  110829.805841\n",
              "11        Music    95         95  ...        95    302800.0     123.117402\n",
              "12       Photos   840        840  ...       840    465600.0     479.059184\n",
              "13    Seashells     8          8  ...         0         0.0            NaN\n",
              "14        Shoes    89         89  ...        81    288990.0   17659.890288\n",
              "15        Socks    60         60  ...        60     39790.0     202.471941\n",
              "16        Tools    74         74  ...         8      5300.0     219.983766\n",
              "17         Tops   289        288  ...       286    373354.0     815.908200\n",
              "18    Umbrellas    67         67  ...        64    109820.0    2083.171970\n",
              "19      Usables    88         85  ...         3     37400.0   20380.709834\n",
              "20    Wallpaper   255        254  ...       236   1285700.0   16881.447445\n",
              "\n",
              "[21 rows x 8 columns]"
            ]
          },
          "metadata": {
            "tags": []
          },
          "execution_count": 13
        }
      ]
    },
    {
      "cell_type": "markdown",
      "metadata": {
        "id": "drJbBt7mDpQi",
        "colab_type": "text"
      },
      "source": [
        "#**Operaciones de funciones en dataframes**\n",
        "\n",
        "De forma general, podemos aplicar cualquier operación (permitida), a lo largo de filas o columnas, mediante el método `apply`, que además **es vectorizado**.\n",
        "\n",
        "Veamos esto mediante un ejemplo (con valores de un dataset inventados). \n",
        "\n",
        "Supongamos que la siguiente tabla representan las variaciones porcentuales promedio de ingresos en los hogares familiares a lo largo de varios meses en diferentes municipios\n",
        "\n"
      ]
    },
    {
      "cell_type": "code",
      "metadata": {
        "id": "6mvAMpblDnEp",
        "colab_type": "code",
        "outputId": "b756ff87-b686-42e9-afc9-4321daadaf98",
        "colab": {
          "base_uri": "https://localhost:8080/",
          "height": 195
        }
      },
      "source": [
        "frame = pd.DataFrame(np.random.randn(200, 4), columns=['Medellin', 'Barbosa', 'Envigado', 'Bello'])\n",
        "\n",
        "frame.head()"
      ],
      "execution_count": 0,
      "outputs": [
        {
          "output_type": "execute_result",
          "data": {
            "text/html": [
              "<div>\n",
              "<style scoped>\n",
              "    .dataframe tbody tr th:only-of-type {\n",
              "        vertical-align: middle;\n",
              "    }\n",
              "\n",
              "    .dataframe tbody tr th {\n",
              "        vertical-align: top;\n",
              "    }\n",
              "\n",
              "    .dataframe thead th {\n",
              "        text-align: right;\n",
              "    }\n",
              "</style>\n",
              "<table border=\"1\" class=\"dataframe\">\n",
              "  <thead>\n",
              "    <tr style=\"text-align: right;\">\n",
              "      <th></th>\n",
              "      <th>Medellin</th>\n",
              "      <th>Barbosa</th>\n",
              "      <th>Envigado</th>\n",
              "      <th>Bello</th>\n",
              "    </tr>\n",
              "  </thead>\n",
              "  <tbody>\n",
              "    <tr>\n",
              "      <th>0</th>\n",
              "      <td>0.541453</td>\n",
              "      <td>1.444165</td>\n",
              "      <td>-0.436671</td>\n",
              "      <td>0.571093</td>\n",
              "    </tr>\n",
              "    <tr>\n",
              "      <th>1</th>\n",
              "      <td>-0.485294</td>\n",
              "      <td>-1.193936</td>\n",
              "      <td>1.408452</td>\n",
              "      <td>-0.981463</td>\n",
              "    </tr>\n",
              "    <tr>\n",
              "      <th>2</th>\n",
              "      <td>-1.102855</td>\n",
              "      <td>-0.036092</td>\n",
              "      <td>0.985363</td>\n",
              "      <td>-0.685372</td>\n",
              "    </tr>\n",
              "    <tr>\n",
              "      <th>3</th>\n",
              "      <td>0.842940</td>\n",
              "      <td>0.456110</td>\n",
              "      <td>-1.395243</td>\n",
              "      <td>0.715043</td>\n",
              "    </tr>\n",
              "    <tr>\n",
              "      <th>4</th>\n",
              "      <td>-1.273586</td>\n",
              "      <td>-0.857475</td>\n",
              "      <td>0.704660</td>\n",
              "      <td>0.669829</td>\n",
              "    </tr>\n",
              "  </tbody>\n",
              "</table>\n",
              "</div>"
            ],
            "text/plain": [
              "   Medellin   Barbosa  Envigado     Bello\n",
              "0  0.541453  1.444165 -0.436671  0.571093\n",
              "1 -0.485294 -1.193936  1.408452 -0.981463\n",
              "2 -1.102855 -0.036092  0.985363 -0.685372\n",
              "3  0.842940  0.456110 -1.395243  0.715043\n",
              "4 -1.273586 -0.857475  0.704660  0.669829"
            ]
          },
          "metadata": {
            "tags": []
          },
          "execution_count": 14
        }
      ]
    },
    {
      "cell_type": "markdown",
      "metadata": {
        "id": "95NyyB36P99e",
        "colab_type": "text"
      },
      "source": [
        "Podríamos querer aplicar una cunción para determinar la distancia entre el valor mínimo y máximo de las variaciones porcencuales por municipio.\n",
        "\n",
        "Para ello, creamos una función `lambda` que halle el máximo y el mínimo en una columna y los reste. Esta función `lambda` puede ser aplicada a lo largo de toda la columna mediante el método `apply`, para ello, especificámos el eje a lo largo del cual realizaremos la operación (`axis=0`):"
      ]
    },
    {
      "cell_type": "code",
      "metadata": {
        "id": "tPYuUnaFAUt9",
        "colab_type": "code",
        "outputId": "5634e167-3dda-456f-dc3c-c86a6b107ab2",
        "colab": {
          "base_uri": "https://localhost:8080/",
          "height": 105
        }
      },
      "source": [
        "f = lambda x: x.max() - x.min()\n",
        "\n",
        "frame.apply(f, axis=0)"
      ],
      "execution_count": 0,
      "outputs": [
        {
          "output_type": "execute_result",
          "data": {
            "text/plain": [
              "Medellin    6.344952\n",
              "Barbosa     5.430940\n",
              "Envigado    5.608825\n",
              "Bello       4.198460\n",
              "dtype: float64"
            ]
          },
          "metadata": {
            "tags": []
          },
          "execution_count": 15
        }
      ]
    },
    {
      "cell_type": "markdown",
      "metadata": {
        "id": "7FmqbFNORIkF",
        "colab_type": "text"
      },
      "source": [
        "Debemos se cuidadosos con la finalidad de las operaciones que realizamos. Si por algún motivo especificamos `axis = 1`, esto equivaldria a hallar la distancia entre las variaciones porcentuales promedio entre los municipios por mes (suponiendo que cada fila representa el mes):"
      ]
    },
    {
      "cell_type": "code",
      "metadata": {
        "id": "R46kAAeIRqki",
        "colab_type": "code",
        "outputId": "6ee0f02c-2d3f-47a4-f9f9-ccd74c8497e2",
        "colab": {
          "base_uri": "https://localhost:8080/",
          "height": 228
        }
      },
      "source": [
        "frame.apply(f, axis=1)"
      ],
      "execution_count": 0,
      "outputs": [
        {
          "output_type": "execute_result",
          "data": {
            "text/plain": [
              "0      1.880836\n",
              "1      2.602388\n",
              "2      2.088217\n",
              "3      2.238183\n",
              "4      1.978247\n",
              "         ...   \n",
              "195    1.251476\n",
              "196    1.763421\n",
              "197    0.772941\n",
              "198    2.273027\n",
              "199    1.022874\n",
              "Length: 200, dtype: float64"
            ]
          },
          "metadata": {
            "tags": []
          },
          "execution_count": 16
        }
      ]
    },
    {
      "cell_type": "markdown",
      "metadata": {
        "id": "Oe4EfvGNSFkM",
        "colab_type": "text"
      },
      "source": [
        "No solo las operaciones definidas mediante la función `lambda` son validas. Si definimos, por ejemplo, una función que devuelva una serie con el valor mínimo y máximo por por columna y los visualicemos en una tabla:"
      ]
    },
    {
      "cell_type": "code",
      "metadata": {
        "id": "MN7xJimSAk_C",
        "colab_type": "code",
        "outputId": "bf3430c8-09b8-45f9-ea15-13960c7fe094",
        "colab": {
          "base_uri": "https://localhost:8080/",
          "height": 106
        }
      },
      "source": [
        "def f(x):\n",
        "  return pd.Series([x.min(), x.max()], index=['min', 'max'])\n",
        "\n",
        "frame.apply(f)"
      ],
      "execution_count": 0,
      "outputs": [
        {
          "output_type": "execute_result",
          "data": {
            "text/html": [
              "<div>\n",
              "<style scoped>\n",
              "    .dataframe tbody tr th:only-of-type {\n",
              "        vertical-align: middle;\n",
              "    }\n",
              "\n",
              "    .dataframe tbody tr th {\n",
              "        vertical-align: top;\n",
              "    }\n",
              "\n",
              "    .dataframe thead th {\n",
              "        text-align: right;\n",
              "    }\n",
              "</style>\n",
              "<table border=\"1\" class=\"dataframe\">\n",
              "  <thead>\n",
              "    <tr style=\"text-align: right;\">\n",
              "      <th></th>\n",
              "      <th>Medellin</th>\n",
              "      <th>Barbosa</th>\n",
              "      <th>Envigado</th>\n",
              "      <th>Bello</th>\n",
              "    </tr>\n",
              "  </thead>\n",
              "  <tbody>\n",
              "    <tr>\n",
              "      <th>min</th>\n",
              "      <td>-3.086126</td>\n",
              "      <td>-2.723297</td>\n",
              "      <td>-2.919512</td>\n",
              "      <td>-2.023889</td>\n",
              "    </tr>\n",
              "    <tr>\n",
              "      <th>max</th>\n",
              "      <td>3.258826</td>\n",
              "      <td>2.707643</td>\n",
              "      <td>2.689313</td>\n",
              "      <td>2.174572</td>\n",
              "    </tr>\n",
              "  </tbody>\n",
              "</table>\n",
              "</div>"
            ],
            "text/plain": [
              "     Medellin   Barbosa  Envigado     Bello\n",
              "min -3.086126 -2.723297 -2.919512 -2.023889\n",
              "max  3.258826  2.707643  2.689313  2.174572"
            ]
          },
          "metadata": {
            "tags": []
          },
          "execution_count": 17
        }
      ]
    },
    {
      "cell_type": "markdown",
      "metadata": {
        "id": "1BAGVUR5TDgY",
        "colab_type": "text"
      },
      "source": [
        "Pordemos usar, por ejemplo, la función `applymap`  para darle formato a los datos de nuestros elementos del dataframe mediante una función que implique un mapeo:"
      ]
    },
    {
      "cell_type": "code",
      "metadata": {
        "id": "BhmqCw4LA96v",
        "colab_type": "code",
        "outputId": "b6c52cab-1938-4d54-b3a3-c927fdffbb8f",
        "colab": {
          "base_uri": "https://localhost:8080/",
          "height": 402
        }
      },
      "source": [
        "format = lambda x: '%.2f' % x\n",
        "frame.applymap(format)"
      ],
      "execution_count": 0,
      "outputs": [
        {
          "output_type": "execute_result",
          "data": {
            "text/html": [
              "<div>\n",
              "<style scoped>\n",
              "    .dataframe tbody tr th:only-of-type {\n",
              "        vertical-align: middle;\n",
              "    }\n",
              "\n",
              "    .dataframe tbody tr th {\n",
              "        vertical-align: top;\n",
              "    }\n",
              "\n",
              "    .dataframe thead th {\n",
              "        text-align: right;\n",
              "    }\n",
              "</style>\n",
              "<table border=\"1\" class=\"dataframe\">\n",
              "  <thead>\n",
              "    <tr style=\"text-align: right;\">\n",
              "      <th></th>\n",
              "      <th>Medellin</th>\n",
              "      <th>Barbosa</th>\n",
              "      <th>Envigado</th>\n",
              "      <th>Bello</th>\n",
              "    </tr>\n",
              "  </thead>\n",
              "  <tbody>\n",
              "    <tr>\n",
              "      <th>0</th>\n",
              "      <td>0.54</td>\n",
              "      <td>1.44</td>\n",
              "      <td>-0.44</td>\n",
              "      <td>0.57</td>\n",
              "    </tr>\n",
              "    <tr>\n",
              "      <th>1</th>\n",
              "      <td>-0.49</td>\n",
              "      <td>-1.19</td>\n",
              "      <td>1.41</td>\n",
              "      <td>-0.98</td>\n",
              "    </tr>\n",
              "    <tr>\n",
              "      <th>2</th>\n",
              "      <td>-1.10</td>\n",
              "      <td>-0.04</td>\n",
              "      <td>0.99</td>\n",
              "      <td>-0.69</td>\n",
              "    </tr>\n",
              "    <tr>\n",
              "      <th>3</th>\n",
              "      <td>0.84</td>\n",
              "      <td>0.46</td>\n",
              "      <td>-1.40</td>\n",
              "      <td>0.72</td>\n",
              "    </tr>\n",
              "    <tr>\n",
              "      <th>4</th>\n",
              "      <td>-1.27</td>\n",
              "      <td>-0.86</td>\n",
              "      <td>0.70</td>\n",
              "      <td>0.67</td>\n",
              "    </tr>\n",
              "    <tr>\n",
              "      <th>...</th>\n",
              "      <td>...</td>\n",
              "      <td>...</td>\n",
              "      <td>...</td>\n",
              "      <td>...</td>\n",
              "    </tr>\n",
              "    <tr>\n",
              "      <th>195</th>\n",
              "      <td>0.57</td>\n",
              "      <td>-0.68</td>\n",
              "      <td>-0.07</td>\n",
              "      <td>0.49</td>\n",
              "    </tr>\n",
              "    <tr>\n",
              "      <th>196</th>\n",
              "      <td>-0.97</td>\n",
              "      <td>0.06</td>\n",
              "      <td>0.78</td>\n",
              "      <td>0.80</td>\n",
              "    </tr>\n",
              "    <tr>\n",
              "      <th>197</th>\n",
              "      <td>-0.28</td>\n",
              "      <td>-0.03</td>\n",
              "      <td>0.02</td>\n",
              "      <td>0.49</td>\n",
              "    </tr>\n",
              "    <tr>\n",
              "      <th>198</th>\n",
              "      <td>1.11</td>\n",
              "      <td>0.77</td>\n",
              "      <td>-0.16</td>\n",
              "      <td>-1.16</td>\n",
              "    </tr>\n",
              "    <tr>\n",
              "      <th>199</th>\n",
              "      <td>0.47</td>\n",
              "      <td>-0.47</td>\n",
              "      <td>0.56</td>\n",
              "      <td>0.20</td>\n",
              "    </tr>\n",
              "  </tbody>\n",
              "</table>\n",
              "<p>200 rows × 4 columns</p>\n",
              "</div>"
            ],
            "text/plain": [
              "    Medellin Barbosa Envigado  Bello\n",
              "0       0.54    1.44    -0.44   0.57\n",
              "1      -0.49   -1.19     1.41  -0.98\n",
              "2      -1.10   -0.04     0.99  -0.69\n",
              "3       0.84    0.46    -1.40   0.72\n",
              "4      -1.27   -0.86     0.70   0.67\n",
              "..       ...     ...      ...    ...\n",
              "195     0.57   -0.68    -0.07   0.49\n",
              "196    -0.97    0.06     0.78   0.80\n",
              "197    -0.28   -0.03     0.02   0.49\n",
              "198     1.11    0.77    -0.16  -1.16\n",
              "199     0.47   -0.47     0.56   0.20\n",
              "\n",
              "[200 rows x 4 columns]"
            ]
          },
          "metadata": {
            "tags": []
          },
          "execution_count": 18
        }
      ]
    },
    {
      "cell_type": "markdown",
      "metadata": {
        "id": "Zv7qaAuCTqNL",
        "colab_type": "text"
      },
      "source": [
        "O aplicarla directamente a una sola columna:"
      ]
    },
    {
      "cell_type": "code",
      "metadata": {
        "id": "ZPqFcKHGBIL2",
        "colab_type": "code",
        "outputId": "5dcb96ce-4006-4e9b-9dad-cf1a4c327d5a",
        "colab": {
          "base_uri": "https://localhost:8080/",
          "height": 228
        }
      },
      "source": [
        "frame['Envigado'].map(format)"
      ],
      "execution_count": 0,
      "outputs": [
        {
          "output_type": "execute_result",
          "data": {
            "text/plain": [
              "0      -0.44\n",
              "1       1.41\n",
              "2       0.99\n",
              "3      -1.40\n",
              "4       0.70\n",
              "       ...  \n",
              "195    -0.07\n",
              "196     0.78\n",
              "197     0.02\n",
              "198    -0.16\n",
              "199     0.56\n",
              "Name: Envigado, Length: 200, dtype: object"
            ]
          },
          "metadata": {
            "tags": []
          },
          "execution_count": 19
        }
      ]
    },
    {
      "cell_type": "markdown",
      "metadata": {
        "id": "I4rbfWN0UpPM",
        "colab_type": "text"
      },
      "source": [
        "**Problema:**\n",
        "\n",
        "Realice una función de normalización de los datos de dataframe anterío entre 0 y 1. \n",
        "\n",
        "**Ayuda:** Use la ecuación de normalización:\n",
        "\n",
        "$x_{norm}=\\frac{x-x_{min}}{x_{max}-x_{min}}$"
      ]
    },
    {
      "cell_type": "code",
      "metadata": {
        "id": "R-PVyqUTYJbG",
        "colab_type": "code",
        "cellView": "form",
        "outputId": "037f714b-36e5-4905-e4df-cf433440469e",
        "colab": {
          "base_uri": "https://localhost:8080/",
          "height": 402
        }
      },
      "source": [
        "#@title Solución al ejercicio\n",
        "\n",
        "frame.apply(lambda x: (x-x.min())/(x.max()-x.min()))"
      ],
      "execution_count": 0,
      "outputs": [
        {
          "output_type": "execute_result",
          "data": {
            "text/html": [
              "<div>\n",
              "<style scoped>\n",
              "    .dataframe tbody tr th:only-of-type {\n",
              "        vertical-align: middle;\n",
              "    }\n",
              "\n",
              "    .dataframe tbody tr th {\n",
              "        vertical-align: top;\n",
              "    }\n",
              "\n",
              "    .dataframe thead th {\n",
              "        text-align: right;\n",
              "    }\n",
              "</style>\n",
              "<table border=\"1\" class=\"dataframe\">\n",
              "  <thead>\n",
              "    <tr style=\"text-align: right;\">\n",
              "      <th></th>\n",
              "      <th>Medellin</th>\n",
              "      <th>Barbosa</th>\n",
              "      <th>Envigado</th>\n",
              "      <th>Bello</th>\n",
              "    </tr>\n",
              "  </thead>\n",
              "  <tbody>\n",
              "    <tr>\n",
              "      <th>0</th>\n",
              "      <td>0.571727</td>\n",
              "      <td>0.767356</td>\n",
              "      <td>0.442667</td>\n",
              "      <td>0.618079</td>\n",
              "    </tr>\n",
              "    <tr>\n",
              "      <th>1</th>\n",
              "      <td>0.409906</td>\n",
              "      <td>0.281601</td>\n",
              "      <td>0.771635</td>\n",
              "      <td>0.248288</td>\n",
              "    </tr>\n",
              "    <tr>\n",
              "      <th>2</th>\n",
              "      <td>0.312575</td>\n",
              "      <td>0.494796</td>\n",
              "      <td>0.696202</td>\n",
              "      <td>0.318811</td>\n",
              "    </tr>\n",
              "    <tr>\n",
              "      <th>3</th>\n",
              "      <td>0.619243</td>\n",
              "      <td>0.585425</td>\n",
              "      <td>0.271763</td>\n",
              "      <td>0.652366</td>\n",
              "    </tr>\n",
              "    <tr>\n",
              "      <th>4</th>\n",
              "      <td>0.285666</td>\n",
              "      <td>0.343554</td>\n",
              "      <td>0.646155</td>\n",
              "      <td>0.641596</td>\n",
              "    </tr>\n",
              "    <tr>\n",
              "      <th>...</th>\n",
              "      <td>...</td>\n",
              "      <td>...</td>\n",
              "      <td>...</td>\n",
              "      <td>...</td>\n",
              "    </tr>\n",
              "    <tr>\n",
              "      <th>195</th>\n",
              "      <td>0.576153</td>\n",
              "      <td>0.375875</td>\n",
              "      <td>0.508355</td>\n",
              "      <td>0.599716</td>\n",
              "    </tr>\n",
              "    <tr>\n",
              "      <th>196</th>\n",
              "      <td>0.334098</td>\n",
              "      <td>0.512099</td>\n",
              "      <td>0.658875</td>\n",
              "      <td>0.671917</td>\n",
              "    </tr>\n",
              "    <tr>\n",
              "      <th>197</th>\n",
              "      <td>0.441733</td>\n",
              "      <td>0.495962</td>\n",
              "      <td>0.524720</td>\n",
              "      <td>0.598667</td>\n",
              "    </tr>\n",
              "    <tr>\n",
              "      <th>198</th>\n",
              "      <td>0.661117</td>\n",
              "      <td>0.642370</td>\n",
              "      <td>0.491298</td>\n",
              "      <td>0.204715</td>\n",
              "    </tr>\n",
              "    <tr>\n",
              "      <th>199</th>\n",
              "      <td>0.560008</td>\n",
              "      <td>0.415400</td>\n",
              "      <td>0.619577</td>\n",
              "      <td>0.528976</td>\n",
              "    </tr>\n",
              "  </tbody>\n",
              "</table>\n",
              "<p>200 rows × 4 columns</p>\n",
              "</div>"
            ],
            "text/plain": [
              "     Medellin   Barbosa  Envigado     Bello\n",
              "0    0.571727  0.767356  0.442667  0.618079\n",
              "1    0.409906  0.281601  0.771635  0.248288\n",
              "2    0.312575  0.494796  0.696202  0.318811\n",
              "3    0.619243  0.585425  0.271763  0.652366\n",
              "4    0.285666  0.343554  0.646155  0.641596\n",
              "..        ...       ...       ...       ...\n",
              "195  0.576153  0.375875  0.508355  0.599716\n",
              "196  0.334098  0.512099  0.658875  0.671917\n",
              "197  0.441733  0.495962  0.524720  0.598667\n",
              "198  0.661117  0.642370  0.491298  0.204715\n",
              "199  0.560008  0.415400  0.619577  0.528976\n",
              "\n",
              "[200 rows x 4 columns]"
            ]
          },
          "metadata": {
            "tags": []
          },
          "execution_count": 20
        }
      ]
    },
    {
      "cell_type": "markdown",
      "metadata": {
        "id": "7gi4a-qzfl4n",
        "colab_type": "text"
      },
      "source": [
        "#Matplotlib\n",
        "Hasta el momento hemos trabajado con los datos, y hemos podido hacer un análisis de estos sacando conclusiones con la ayuda de lasseries y bases de datos de Pandas. Ahora exploraremos otra herramienta que nos permitirá obtener informacion de manera concisa, esta es Matplotlib.\n",
        "\n",
        "Matplotlib es una librería para crear visualizaciones estáticas, animadas e interactivas en Python. Esta puede ser una de los módulos que más posibilidades puede ofrecernos Python, por lo que daremos un enfoque más aplicado para trabajarlo.\n",
        "\n",
        "Como cualquier módulo lo primero es importarlo."
      ]
    },
    {
      "cell_type": "code",
      "metadata": {
        "id": "XaKLY6eugBQx",
        "colab_type": "code",
        "colab": {}
      },
      "source": [
        "import matplotlib.pyplot as plt\n",
        "import numpy as np\n"
      ],
      "execution_count": 0,
      "outputs": []
    },
    {
      "cell_type": "markdown",
      "metadata": {
        "id": "xMWZ1A4ef-yy",
        "colab_type": "text"
      },
      "source": [
        "Empezaremos con un ejemplo sencillo que nos permita entender un poco la dinámica de este módulo. Pensaremos en 2 listas, una de edades y otra en salario medio devengado en millones"
      ]
    },
    {
      "cell_type": "code",
      "metadata": {
        "id": "gM_E4LcVYv8r",
        "colab_type": "code",
        "outputId": "aaa9157e-23bb-475c-cbcf-b066477e3ebc",
        "colab": {
          "base_uri": "https://localhost:8080/",
          "height": 265
        }
      },
      "source": [
        "ages = [25, 26, 27, 28, 29, 30, 31, 32, 33, 34, 35]\n",
        "\n",
        "dev_y = [1.2, 1.30922693, 1.45735661, 1.53740648, 1.65835411,\n",
        "         1.74563591, 1.9425187 , 2.02394015, 2.09841022, 2.14301746,\n",
        "         2.29900249]\n",
        "plt.plot(ages,dev_y)\n",
        "plt.show()"
      ],
      "execution_count": 0,
      "outputs": [
        {
          "output_type": "display_data",
          "data": {
            "image/png": "[encoded data removed]",
            "text/plain": [
              "<Figure size 432x288 with 1 Axes>"
            ]
          },
          "metadata": {
            "tags": [],
            "needs_background": "light"
          }
        }
      ]
    },
    {
      "cell_type": "markdown",
      "metadata": {
        "id": "K_2VG7YAgPye",
        "colab_type": "text"
      },
      "source": [
        "Este es en principio el resultado que obtenemos, sin embargo es algo falto de gracia. Para una revisión rápida de resultados es útil, pero si mostramos este resultado a un tercero no solo carece de estética sino de significado. Agreguemos varias cosas, en primer lugar haremos que en este notebook para todas las gráficas que deseemos hacer, además haremos nuevamente esta gráfica, esta vez le daremosnombres a los ejes y a la misma gráfica. Pero primero veamos los estilos disponibles:"
      ]
    },
    {
      "cell_type": "code",
      "metadata": {
        "id": "o6kleGRWgFRt",
        "colab_type": "code",
        "outputId": "36ad907d-309d-4111-aaec-d6667ea3dbdc",
        "colab": {
          "base_uri": "https://localhost:8080/",
          "height": 54
        }
      },
      "source": [
        "print(plt.style.available)"
      ],
      "execution_count": 0,
      "outputs": [
        {
          "output_type": "stream",
          "text": [
            "['Solarize_Light2', '_classic_test_patch', 'bmh', 'classic', 'dark_background', 'fast', 'fivethirtyeight', 'ggplot', 'grayscale', 'seaborn', 'seaborn-bright', 'seaborn-colorblind', 'seaborn-dark', 'seaborn-dark-palette', 'seaborn-darkgrid', 'seaborn-deep', 'seaborn-muted', 'seaborn-notebook', 'seaborn-paper', 'seaborn-pastel', 'seaborn-poster', 'seaborn-talk', 'seaborn-ticks', 'seaborn-white', 'seaborn-whitegrid', 'tableau-colorblind10']\n"
          ],
          "name": "stdout"
        }
      ]
    },
    {
      "cell_type": "code",
      "metadata": {
        "id": "3vRQQEMCgSla",
        "colab_type": "code",
        "outputId": "e4074b95-60d9-4ecd-b600-7a62adc8015e",
        "colab": {
          "base_uri": "https://localhost:8080/",
          "height": 470
        }
      },
      "source": [
        "plt.style.use('classic')\n",
        "plt.plot(ages,dev_y)\n",
        "plt.xlabel('Edades en años')\n",
        "plt.ylabel('Salario en Millones de $COP')\n",
        "plt.title('Salario promedio en millones por edad')\n",
        "plt.show()"
      ],
      "execution_count": 0,
      "outputs": [
        {
          "output_type": "display_data",
          "data": {
            "image/png": "[encoded data removed]",
            "text/plain": [
              "<Figure size 640x480 with 1 Axes>"
            ]
          },
          "metadata": {
            "tags": []
          }
        }
      ]
    },
    {
      "cell_type": "markdown",
      "metadata": {
        "id": "1iPkhQuzgUrV",
        "colab_type": "text"
      },
      "source": [
        "Ahora nuestra gráfica es ilustrable, repasemos qué hemos hecho hasta ahora: `matplotlib.pyplot` nos permite agregar 2 objetos iterables como listas siempre y cuando sean de la misma longitud para graficar mis datos. Agreguemos otra curva a nuestra gráfica."
      ]
    },
    {
      "cell_type": "code",
      "metadata": {
        "id": "5PO3rIMvgb5J",
        "colab_type": "code",
        "outputId": "b81d4b3c-ae8e-41ce-f9a5-664359685cc7",
        "colab": {
          "base_uri": "https://localhost:8080/",
          "height": 470
        }
      },
      "source": [
        "py_dev_y = [1.8       , 1.93901084, 2.13633959, 2.27269241, 2.49997355,\n",
        "            2.61827559, 2.77716213, 2.77704311, 2.83639249, 2.99008199,\n",
        "            3.3181698 ]\n",
        "\n",
        "plt.style.use('dark_background')\n",
        "plt.plot(ages,dev_y)\n",
        "plt.plot(ages,py_dev_y)\n",
        "plt.xlabel('Edades en años')\n",
        "plt.ylabel('Salario en Millones de $COP')\n",
        "plt.title('Salario promedio en millones por edad')\n",
        "plt.show()"
      ],
      "execution_count": 0,
      "outputs": [
        {
          "output_type": "display_data",
          "data": {
            "image/png": "[encoded data removed]",
            "text/plain": [
              "<Figure size 640x480 with 1 Axes>"
            ]
          },
          "metadata": {
            "tags": []
          }
        }
      ]
    },
    {
      "cell_type": "markdown",
      "metadata": {
        "id": "SbUjBOotgg1T",
        "colab_type": "text"
      },
      "source": [
        "Nuevamente tenemos el mismo problema, quien haya desarrollado la gráfica, puede que sepa qué corresponde a qué, pero una persona que vea la gráfica de buenas a primeras quedará un poco en el aire, para esto podemos agregar etiquetas a cada una de las curvas por separado."
      ]
    },
    {
      "cell_type": "code",
      "metadata": {
        "id": "QEqMIEH-gca0",
        "colab_type": "code",
        "outputId": "4d390fe2-785f-487f-abc2-bc766ba4e5da",
        "colab": {
          "base_uri": "https://localhost:8080/",
          "height": 434
        }
      },
      "source": [
        "plt.style.use('seaborn')\n",
        "plt.plot(ages,dev_y, label = 'Salario Trabajador promedio')\n",
        "plt.plot(ages,py_dev_y, label = 'Salario desarrollador de Python')\n",
        "plt.xlabel('Edades en años')\n",
        "plt.ylabel('Salario en Millones de $COP')\n",
        "plt.title('Salario promedio en millones por edad')\n",
        "plt.legend(loc='upper left')\n",
        "plt.show()"
      ],
      "execution_count": 0,
      "outputs": [
        {
          "output_type": "display_data",
          "data": {
            "image/png": "[encoded data removed]",
            "text/plain": [
              "<Figure size 640x440 with 1 Axes>"
            ]
          },
          "metadata": {
            "tags": []
          }
        }
      ]
    },
    {
      "cell_type": "markdown",
      "metadata": {
        "id": "VvFP67Ysgoiu",
        "colab_type": "text"
      },
      "source": [
        "Finalmente podemos agregar otras características sobre las curvas con el fin de tener diferenciación sobre ellas."
      ]
    },
    {
      "cell_type": "code",
      "metadata": {
        "id": "tPuPhngEgqzi",
        "colab_type": "code",
        "outputId": "4c46567a-d672-465b-e165-66fe81badd18",
        "colab": {
          "base_uri": "https://localhost:8080/",
          "height": 470
        }
      },
      "source": [
        "plt.style.use('classic')\n",
        "plt.plot(ages,dev_y, 'k>--', label = 'Salario Trabajador promedio')\n",
        "plt.plot(ages,py_dev_y, 'y*-.', label = 'Salario desarrollador de Python')\n",
        "plt.xlabel('Edades en años')\n",
        "plt.ylabel('Salario en Millones de $COP')\n",
        "plt.title('Salario promedio en millones por edad')\n",
        "plt.legend(loc='upper left')\n",
        "plt.show()"
      ],
      "execution_count": 0,
      "outputs": [
        {
          "output_type": "display_data",
          "data": {
            "image/png": "[encoded data removed]",
            "text/plain": [
              "<Figure size 640x480 with 1 Axes>"
            ]
          },
          "metadata": {
            "tags": []
          }
        }
      ]
    },
    {
      "cell_type": "markdown",
      "metadata": {
        "id": "cogToZOGgyQS",
        "colab_type": "text"
      },
      "source": [
        "Podemos guardar la figura con el comando `plt.savefig()` dándole como argumento la ruta y el nombre con el que deseamos guardar la imagen. Es importante recordar darle el formato de guardado de la siguiente forma."
      ]
    },
    {
      "cell_type": "code",
      "metadata": {
        "id": "Rt4I_Fp7glom",
        "colab_type": "code",
        "outputId": "e17edf0c-39d5-4f97-9f42-d7160d3ce696",
        "colab": {
          "base_uri": "https://localhost:8080/",
          "height": 470
        }
      },
      "source": [
        "plt.plot(ages,dev_y, 'k>--', label = 'Salario Trabajador promedio')\n",
        "plt.plot(ages,py_dev_y, 'b*-.', label = 'Salario desarrollador de Python')\n",
        "plt.xlabel('Edades en años')\n",
        "plt.ylabel('Salario en Millones de $COP')\n",
        "plt.title('Salario promedio en millones por edad')\n",
        "plt.legend(loc='upper left')\n",
        "plt.grid(True)\n",
        "plt.savefig('Ejemplo_de_clase.png')\n",
        "plt.show()"
      ],
      "execution_count": 0,
      "outputs": [
        {
          "output_type": "display_data",
          "data": {
            "image/png": "[encoded data removed]",
            "text/plain": [
              "<Figure size 640x480 with 1 Axes>"
            ]
          },
          "metadata": {
            "tags": []
          }
        }
      ]
    },
    {
      "cell_type": "code",
      "metadata": {
        "id": "PFvHqF-ug07o",
        "colab_type": "code",
        "outputId": "5b08ad9e-4def-476b-8779-962110916163",
        "colab": {
          "base_uri": "https://localhost:8080/",
          "height": 54
        }
      },
      "source": [
        "'''\n",
        "plt.xkcd() \n",
        "plt.plot(ages,dev_y, 'k>--', label = 'Salario Trabajador promedio')\n",
        "plt.plot(ages,py_dev_y, 'y*-.', label = 'Salario desarrollador de Python')\n",
        "plt.xlabel('Edades en años')\n",
        "plt.ylabel('Salario en Millones de $COP')\n",
        "plt.title('Salario promedio en millones por edad')\n",
        "plt.legend(loc='upper left')\n",
        "plt.show()\n",
        "'''\n",
        "#La sección de código anterior es una suerte de Easter-Egg, genera la gráfica que encuentra acontinuación"
      ],
      "execution_count": 0,
      "outputs": [
        {
          "output_type": "execute_result",
          "data": {
            "text/plain": [
              "\"\\nplt.xkcd() \\nplt.plot(ages,dev_y, 'k>--', label = 'Salario Trabajador promedio')\\nplt.plot(ages,py_dev_y, 'y*-.', label = 'Salario desarrollador de Python')\\nplt.xlabel('Edades en años')\\nplt.ylabel('Salario en Millones de $COP')\\nplt.title('Salario promedio en millones por edad')\\nplt.legend(loc='upper left')\\nplt.show()\\n\""
            ]
          },
          "metadata": {
            "tags": []
          },
          "execution_count": 29
        }
      ]
    },
    {
      "cell_type": "markdown",
      "metadata": {
        "id": "p1Tmm_QqhEiO",
        "colab_type": "text"
      },
      "source": [
        "##Histogramas\n",
        "\n",
        "Podemos hacer en lugar de una curva un diagrama de barras o histogramas, en principio se sigue una sitaxis bastante similar a la usada para graficar curvas, solo que en lugar de usar `plt.plot()` usaremos `plt.bar()`"
      ]
    },
    {
      "cell_type": "code",
      "metadata": {
        "id": "dGgTPo66g5bU",
        "colab_type": "code",
        "outputId": "a19a896f-9d3c-4eda-8c6b-dda3ad922017",
        "colab": {
          "base_uri": "https://localhost:8080/",
          "height": 470
        }
      },
      "source": [
        "plt.style.use('classic')\n",
        "plt.bar(ages,py_dev_y, label = 'Salario desarrollador de Python')\n",
        "plt.bar(ages,dev_y, label = 'Salario Trabajador promedio')\n",
        "plt.xlabel('Edades en años')\n",
        "plt.ylabel('Salario en Millones de $COP')\n",
        "plt.title('Salario promedio en millones por edad')\n",
        "plt.legend(loc='upper left')\n",
        "plt.grid(True)\n",
        "plt.show()"
      ],
      "execution_count": 0,
      "outputs": [
        {
          "output_type": "display_data",
          "data": {
            "image/png": "[encoded data removed]",
            "text/plain": [
              "<Figure size 640x480 with 1 Axes>"
            ]
          },
          "metadata": {
            "tags": []
          }
        }
      ]
    },
    {
      "cell_type": "markdown",
      "metadata": {
        "id": "E0PMTZGfhKsj",
        "colab_type": "text"
      },
      "source": [
        "Esto puede ser problemático, podríamos tener problemas con este tipo de graficado, lo mejor sería intentar correr un poco las barras. paraello nos serviremos de numpy."
      ]
    },
    {
      "cell_type": "code",
      "metadata": {
        "id": "yGAY3EwchNXM",
        "colab_type": "code",
        "outputId": "c1e5892f-bd5b-471e-a750-859b0f5cd29a",
        "colab": {
          "base_uri": "https://localhost:8080/",
          "height": 470
        }
      },
      "source": [
        "x_values = np.array(ages)\n",
        "width = 0.4\n",
        "sep =0.2\n",
        "\n",
        "plt.bar(x_values-sep,py_dev_y,width=width, label = 'Salario desarrollador de Python')\n",
        "plt.bar(x_values+sep,dev_y,width=width, label = 'Salario Trabajador promedio')\n",
        "plt.xlabel('Edades en años')\n",
        "plt.ylabel('Salario en Millones de $COP')\n",
        "plt.xticks(ticks=ages)\n",
        "plt.title('Salario promedio en millones por edad')\n",
        "plt.legend(loc='upper left')\n",
        "plt.grid(True)\n",
        "plt.show()"
      ],
      "execution_count": 0,
      "outputs": [
        {
          "output_type": "display_data",
          "data": {
            "image/png": "[encoded data removed]",
            "text/plain": [
              "<Figure size 640x480 with 1 Axes>"
            ]
          },
          "metadata": {
            "tags": []
          }
        }
      ]
    },
    {
      "cell_type": "markdown",
      "metadata": {
        "id": "bkrfs7jchYzi",
        "colab_type": "text"
      },
      "source": [
        "Dependiendo de la cantidad de barras y cada cuánto haya una debemos configurar el grosor y su separación como acabamos de ver.\n",
        "\n",
        "Hagamos un siguiente ejemplo un poco más diferente, ahora consideremos datos sobre cantidad de personas que realizanun deporte determinado:"
      ]
    },
    {
      "cell_type": "code",
      "metadata": {
        "id": "MwDFEHSzhQdJ",
        "colab_type": "code",
        "colab": {}
      },
      "source": [
        "sports = ['Ultimate','Rugby','Natación','Boleybol','Basebol','Patinaje','Ciclismo','Baloncesto','Atletismo','Futbol']\n",
        "cant = np.sort(np.array([np.random.randint(10,100)for i in range(10)]))"
      ],
      "execution_count": 0,
      "outputs": []
    },
    {
      "cell_type": "code",
      "metadata": {
        "id": "qFUuKOPDhfeG",
        "colab_type": "code",
        "outputId": "30df3823-cf47-4afd-a5c3-3069aeb8da32",
        "colab": {
          "base_uri": "https://localhost:8080/",
          "height": 470
        }
      },
      "source": [
        "plt.bar(sports,cant,label = 'deportes practicados por persona')\n",
        "plt.xlabel('Deportes')\n",
        "plt.ylabel('Cantidad de personas')\n",
        "#plt.xticks(ticks=ages)\n",
        "plt.title('Deportes')\n",
        "plt.legend(loc='upper left')\n",
        "plt.grid(True)\n",
        "plt.show()"
      ],
      "execution_count": 0,
      "outputs": [
        {
          "output_type": "display_data",
          "data": {
            "image/png": "[encoded data removed]",
            "text/plain": [
              "<Figure size 640x480 with 1 Axes>"
            ]
          },
          "metadata": {
            "tags": []
          }
        }
      ]
    },
    {
      "cell_type": "markdown",
      "metadata": {
        "id": "E8Tn3CDHhka7",
        "colab_type": "text"
      },
      "source": [
        "Nuevamente volvemos a tener problemas. Las etiquetas parecen solaparse, esto puede solucionarse cambiando el tipo de gráfica de `bar` a `barh`. Esto cambiará los ejes y generará "
      ]
    },
    {
      "cell_type": "code",
      "metadata": {
        "id": "4FYvv4D6hgeX",
        "colab_type": "code",
        "outputId": "1e89755e-ae1e-46d3-b714-ad4a578ee692",
        "colab": {
          "base_uri": "https://localhost:8080/",
          "height": 470
        }
      },
      "source": [
        "plt.barh(sports,cant,label = 'deportes practicados por persona')\n",
        "plt.ylabel('Deportes')\n",
        "plt.xlabel('Cantidad de personas')\n",
        "#plt.xticks(ticks=ages)\n",
        "plt.title('Deportes')\n",
        "plt.legend(loc='lower right')\n",
        "plt.grid(True)\n",
        "plt.show()"
      ],
      "execution_count": 0,
      "outputs": [
        {
          "output_type": "display_data",
          "data": {
            "image/png": "[encoded data removed]",
            "text/plain": [
              "<Figure size 640x480 with 1 Axes>"
            ]
          },
          "metadata": {
            "tags": []
          }
        }
      ]
    },
    {
      "cell_type": "markdown",
      "metadata": {
        "id": "jr9IPsx6htIA",
        "colab_type": "text"
      },
      "source": [
        "##Subgráficas\n",
        "\n",
        "Consideremos el caso ahora en el que deseamos hacer varias gráficas por separado. Podemos aprovechar el método `subplot` para esto, este nos permite llevar a cabo varias gráficas (o diagramas) en el mismo cuadro"
      ]
    },
    {
      "cell_type": "code",
      "metadata": {
        "id": "sXoqKx0bhvw_",
        "colab_type": "code",
        "colab": {}
      },
      "source": [
        "x = np.arange(-10,10,0.1)\n",
        "y2 = np.array(x**2)\n",
        "y3 = np.array(x**3)\n",
        "y4 = np.array(x**4)\n",
        "y5 = np.array(x**5)"
      ],
      "execution_count": 0,
      "outputs": []
    },
    {
      "cell_type": "code",
      "metadata": {
        "id": "xpMkDCPvhonB",
        "colab_type": "code",
        "outputId": "646b01ef-0d56-4346-ba74-8ae060114808",
        "colab": {
          "base_uri": "https://localhost:8080/",
          "height": 488
        }
      },
      "source": [
        "fig, axs = plt.subplots(1,2)\n",
        "fig.suptitle('Gráficas de Potencias de $x$')\n",
        "axs[0].bar(x, y2)\n",
        "axs[1].plot(x, y3)\n",
        "plt.tight_layout()\n",
        "plt.show()"
      ],
      "execution_count": 0,
      "outputs": [
        {
          "output_type": "display_data",
          "data": {
            "image/png": "[encoded data removed]",
            "text/plain": [
              "<Figure size 640x480 with 2 Axes>"
            ]
          },
          "metadata": {
            "tags": []
          }
        }
      ]
    },
    {
      "cell_type": "markdown",
      "metadata": {
        "id": "1E9zvL55h3E6",
        "colab_type": "text"
      },
      "source": [
        "Bien podríamos cambiar que no estuvieran acumuladas horizontalmente sino de manera vertical cambiando los argumentos de `subplot`. "
      ]
    },
    {
      "cell_type": "code",
      "metadata": {
        "id": "bU7Q_SUBhzNI",
        "colab_type": "code",
        "outputId": "9a6e6b8c-1e2a-4d75-cda2-a1f41093aa17",
        "colab": {
          "base_uri": "https://localhost:8080/",
          "height": 484
        }
      },
      "source": [
        "fig, axs = plt.subplots(2, 2)\n",
        "axs[0, 0].plot(x, y2)\n",
        "axs[0, 0].set_title('$x^2$')\n",
        "axs[0, 1].plot(x, y3, 'tab:orange')\n",
        "axs[0, 1].set_title('$x^3$')\n",
        "axs[1, 0].plot(x, y4, 'tab:green')\n",
        "axs[1, 0].set_title('$x^4$')\n",
        "axs[1, 1].plot(x, y5, 'tab:red')\n",
        "axs[1, 1].set_title('$x^5$')\n",
        "plt.tight_layout()\n",
        "\n",
        "\n",
        "# Hide x labels and tick labels for top plots and y ticks for right plots.\n",
        "#for ax in axs.flat:\n",
        "#    ax.label_outer()"
      ],
      "execution_count": 0,
      "outputs": [
        {
          "output_type": "display_data",
          "data": {
            "image/png": "[encoded data removed]",
            "text/plain": [
              "<Figure size 640x480 with 4 Axes>"
            ]
          },
          "metadata": {
            "tags": []
          }
        }
      ]
    },
    {
      "cell_type": "markdown",
      "metadata": {
        "id": "wb3ovCUXh9JO",
        "colab_type": "text"
      },
      "source": [
        "##Coordenadas Polares\n",
        "\n",
        "Matplolib nos permite realizar gráficos en coordenadas polares. Pensemosen un ejemplo sencillo para ilustrar lo siguiete:"
      ]
    },
    {
      "cell_type": "code",
      "metadata": {
        "id": "SgyAqvKXh_Gl",
        "colab_type": "code",
        "colab": {}
      },
      "source": [
        "r = np.arange(0, 2, 0.01)\n",
        "theta = 2 * np.pi * r"
      ],
      "execution_count": 0,
      "outputs": []
    },
    {
      "cell_type": "code",
      "metadata": {
        "id": "2aYqP-QjiA-X",
        "colab_type": "code",
        "outputId": "348df651-edbc-4c51-ea57-32c3697e59c4",
        "colab": {
          "base_uri": "https://localhost:8080/",
          "height": 472
        }
      },
      "source": [
        "ax = plt.subplot( projection='polar')\n",
        "ax.plot(theta, r)\n",
        "ax.set_rmax(2)\n",
        "ax.set_rticks([0.5, 1, 1.5, 2])  # Less radial ticks\n",
        "ax.set_rlabel_position(-22.5)  # Move radial labels away from plotted line\n",
        "ax.grid(True)\n",
        "\n",
        "ax.set_title(\"A line plot on a polar axis\")\n",
        "plt.show()"
      ],
      "execution_count": 0,
      "outputs": [
        {
          "output_type": "display_data",
          "data": {
            "image/png": "[encoded data removed]",
            "text/plain": [
              "<Figure size 640x480 with 1 Axes>"
            ]
          },
          "metadata": {
            "tags": []
          }
        }
      ]
    },
    {
      "cell_type": "markdown",
      "metadata": {
        "id": "bAk82Pq9iI5y",
        "colab_type": "text"
      },
      "source": [
        "##Gráficas 3D\n",
        "\n",
        "Entre varias cosas podemos hacer plots de curvas 3 dimensionales. La sintaxis base, para graficar el \"fondo\" en el que visualizaremos nuestra gráfica es:"
      ]
    },
    {
      "cell_type": "code",
      "metadata": {
        "id": "ic1orLaYiB3F",
        "colab_type": "code",
        "outputId": "5373accd-ca64-48fb-e514-fb516dd533c5",
        "colab": {
          "base_uri": "https://localhost:8080/",
          "height": 417
        }
      },
      "source": [
        "fig = plt.figure()\n",
        "ax = plt.axes(projection='3d')"
      ],
      "execution_count": 0,
      "outputs": [
        {
          "output_type": "display_data",
          "data": {
            "image/png": "[encoded data removed]",
            "text/plain": [
              "<Figure size 640x480 with 1 Axes>"
            ]
          },
          "metadata": {
            "tags": []
          }
        }
      ]
    },
    {
      "cell_type": "markdown",
      "metadata": {
        "id": "Lw3jD9IriO2V",
        "colab_type": "text"
      },
      "source": [
        "Ahora, es posible llenarlo con una curva en específico, supongamos la curva helicoide caracterizada porla parametrización\n",
        "\n",
        "\\begin{align}\n",
        "x = \\cos(\\theta)\\\\\n",
        "y = \\sin(\\theta)\\\\\n",
        "z = \\theta\n",
        "\\end{align}"
      ]
    },
    {
      "cell_type": "code",
      "metadata": {
        "id": "nPh0OfpmiSbW",
        "colab_type": "code",
        "outputId": "a450667c-bed1-4e21-8015-29bff2bf3bf1",
        "colab": {
          "base_uri": "https://localhost:8080/",
          "height": 417
        }
      },
      "source": [
        "ax = plt.axes(projection='3d')\n",
        "\n",
        "# Data for a three-dimensional line\n",
        "zline = np.linspace(0, 15, 1000)\n",
        "xline = np.sin(zline)\n",
        "yline = np.cos(zline)\n",
        "ax.plot3D(xline, yline, zline, 'gray')\n",
        "ax.set_xlabel('$x$')\n",
        "ax.set_ylabel('$y$')\n",
        "ax.set_zlabel('$z$')\n",
        "plt.show()"
      ],
      "execution_count": 0,
      "outputs": [
        {
          "output_type": "display_data",
          "data": {
            "image/png": "[encoded data removed]",
            "text/plain": [
              "<Figure size 640x480 with 1 Axes>"
            ]
          },
          "metadata": {
            "tags": []
          }
        }
      ]
    },
    {
      "cell_type": "markdown",
      "metadata": {
        "id": "oWvJD8dFJJdu",
        "colab_type": "text"
      },
      "source": [
        ""
      ]
    },
    {
      "cell_type": "markdown",
      "metadata": {
        "id": "vgwcRYprzkq4",
        "colab_type": "text"
      },
      "source": [
        "# Combinar Series o DataFrames\n",
        "\n",
        "En muchos casos luego de algún tipo de procesamiento es necesario combinar, agregar, juntar o concatenar varias Series o DataFrames para obtener un cuadro de datos final. \n",
        "\n",
        "El módulo de pandas proporciona varias facilidades para combinar fácilmente Series o DataFrame con varios tipos de lógica de conjunto para los índices (o multi índices) y la funcionalidad de álgebra relacional en el caso de operaciones de tipo unión/fusión.\n"
      ]
    },
    {
      "cell_type": "markdown",
      "metadata": {
        "id": "pqDJiC8y0XsE",
        "colab_type": "text"
      },
      "source": [
        "## Append o Concat\n",
        "\n",
        "El primer caso que vamos a estudiar es tener varios conjuntos de datos con exactamente las mismas columnas pero los mismos o distintos índices. Por ejemplo:"
      ]
    },
    {
      "cell_type": "code",
      "metadata": {
        "id": "stQWwOHwkbNX",
        "colab_type": "code",
        "colab": {}
      },
      "source": [
        "path_to_file = \"https://github.com/diplomado-bigdata-machinelearning-udea/curso0/blob/master/s07/Tasa_de_Cambio_Representativa_del_Mercado-_TRM.xlsx?raw=True\"\n",
        "TMR = pd.read_excel(path_to_file, sheet_name=None)"
      ],
      "execution_count": 0,
      "outputs": []
    },
    {
      "cell_type": "code",
      "metadata": {
        "id": "-Ah9VIgX05Jd",
        "colab_type": "code",
        "outputId": "5eed07a4-84fb-4397-f57c-d9a2202535a4",
        "colab": {
          "base_uri": "https://localhost:8080/",
          "height": 633
        }
      },
      "source": [
        "for k,v in TMR.items():\n",
        "  print(k)\n",
        "  print(v.head())"
      ],
      "execution_count": 0,
      "outputs": [
        {
          "output_type": "stream",
          "text": [
            "Enero\n",
            "      VALOR UNIDAD VIGENCIADESDE VIGENCIAHASTA\n",
            "0  3,258.84    COP    2020-01-03    2020-01-03\n",
            "1  3,262.05    COP    2020-01-04    2020-01-07\n",
            "2  3,264.26    COP    2020-01-08    2020-01-08\n",
            "3  3,254.42    COP    2020-01-09    2020-01-09\n",
            "4  3,253.89    COP    2020-01-10    2020-01-10\n",
            "Febrero\n",
            "      VALOR UNIDAD VIGENCIADESDE VIGENCIAHASTA\n",
            "0  3,423.24    COP    2020-02-01    2020-02-03\n",
            "1  3,401.56    COP    2020-02-04    2020-02-04\n",
            "2  3,368.87    COP    2020-02-05    2020-02-05\n",
            "3  3,355.44    COP    2020-02-06    2020-02-06\n",
            "4  3,378.43    COP    2020-02-07    2020-02-07\n",
            "Marzo\n",
            "      VALOR UNIDAD VIGENCIADESDE VIGENCIAHASTA\n",
            "0  3,512.17    COP    2020-03-03    2020-03-03\n",
            "1  3,455.56    COP    2020-03-04    2020-03-04\n",
            "2  3,458.45    COP    2020-03-05    2020-03-05\n",
            "3  3,522.41    COP    2020-03-06    2020-03-06\n",
            "4  3,584.58    COP    2020-03-07    2020-03-09\n",
            "Abril\n",
            "      VALOR UNIDAD VIGENCIADESDE VIGENCIAHASTA\n",
            "0  4,054.54    COP    2020-04-01    2020-04-01\n",
            "1  4,081.06    COP    2020-04-02    2020-04-02\n",
            "2  4,065.50    COP    2020-04-03    2020-04-03\n",
            "3  4,008.78    COP    2020-04-04    2020-04-06\n",
            "4  3,978.38    COP    2020-04-07    2020-04-07\n",
            "Mayo\n",
            "      VALOR UNIDAD VIGENCIADESDE VIGENCIAHASTA\n",
            "0  3,932.72    COP    2020-05-01    2020-05-04\n",
            "1  3,990.10    COP    2020-05-05    2020-05-05\n",
            "2  3,926.07    COP    2020-05-06    2020-05-06\n",
            "3  3,961.66    COP    2020-05-07    2020-05-07\n",
            "4  3,924.54    COP    2020-05-08    2020-05-08\n"
          ],
          "name": "stdout"
        }
      ]
    },
    {
      "cell_type": "markdown",
      "metadata": {
        "id": "ZLnabi8_58--",
        "colab_type": "text"
      },
      "source": [
        "En estos datos tenemos una hoja por cada mes, si queremos tener todos estos valores en un sólo DataFrame, es decir agregar filas tras filas, podriamos usar el método [`append()`](https://pandas.pydata.org/pandas-docs/stable/reference/api/pandas.DataFrame.append.html), el cual tiene en cuenta los índices "
      ]
    },
    {
      "cell_type": "code",
      "metadata": {
        "id": "cKBoBGoj1IHB",
        "colab_type": "code",
        "outputId": "978af232-5523-4d51-ddfa-262d5c720528",
        "colab": {
          "base_uri": "https://localhost:8080/",
          "height": 166
        }
      },
      "source": [
        "df = pd.DataFrame([[1, 2], [3, 4]], columns=list('AB'))\n",
        "df2 = pd.DataFrame([[5, 6], [7, 8]], columns=list('AB'))\n",
        "df.append(df2)"
      ],
      "execution_count": 0,
      "outputs": [
        {
          "output_type": "execute_result",
          "data": {
            "text/html": [
              "<div>\n",
              "<style scoped>\n",
              "    .dataframe tbody tr th:only-of-type {\n",
              "        vertical-align: middle;\n",
              "    }\n",
              "\n",
              "    .dataframe tbody tr th {\n",
              "        vertical-align: top;\n",
              "    }\n",
              "\n",
              "    .dataframe thead th {\n",
              "        text-align: right;\n",
              "    }\n",
              "</style>\n",
              "<table border=\"1\" class=\"dataframe\">\n",
              "  <thead>\n",
              "    <tr style=\"text-align: right;\">\n",
              "      <th></th>\n",
              "      <th>A</th>\n",
              "      <th>B</th>\n",
              "    </tr>\n",
              "  </thead>\n",
              "  <tbody>\n",
              "    <tr>\n",
              "      <th>0</th>\n",
              "      <td>1</td>\n",
              "      <td>2</td>\n",
              "    </tr>\n",
              "    <tr>\n",
              "      <th>1</th>\n",
              "      <td>3</td>\n",
              "      <td>4</td>\n",
              "    </tr>\n",
              "    <tr>\n",
              "      <th>0</th>\n",
              "      <td>5</td>\n",
              "      <td>6</td>\n",
              "    </tr>\n",
              "    <tr>\n",
              "      <th>1</th>\n",
              "      <td>7</td>\n",
              "      <td>8</td>\n",
              "    </tr>\n",
              "  </tbody>\n",
              "</table>\n",
              "</div>"
            ],
            "text/plain": [
              "   A  B\n",
              "0  1  2\n",
              "1  3  4\n",
              "0  5  6\n",
              "1  7  8"
            ]
          },
          "metadata": {
            "tags": []
          },
          "execution_count": 44
        }
      ]
    },
    {
      "cell_type": "markdown",
      "metadata": {
        "id": "ScYSSC3N7-Rv",
        "colab_type": "text"
      },
      "source": [
        "O podemos ignorar los índices y reoganizar\n",
        "\n"
      ]
    },
    {
      "cell_type": "code",
      "metadata": {
        "id": "j2_ks0fF1Lwl",
        "colab_type": "code",
        "outputId": "ded15cca-8e39-408d-bfdf-585a7f00fdc8",
        "colab": {
          "base_uri": "https://localhost:8080/",
          "height": 166
        }
      },
      "source": [
        "df.append(df2, ignore_index=True)"
      ],
      "execution_count": 0,
      "outputs": [
        {
          "output_type": "execute_result",
          "data": {
            "text/html": [
              "<div>\n",
              "<style scoped>\n",
              "    .dataframe tbody tr th:only-of-type {\n",
              "        vertical-align: middle;\n",
              "    }\n",
              "\n",
              "    .dataframe tbody tr th {\n",
              "        vertical-align: top;\n",
              "    }\n",
              "\n",
              "    .dataframe thead th {\n",
              "        text-align: right;\n",
              "    }\n",
              "</style>\n",
              "<table border=\"1\" class=\"dataframe\">\n",
              "  <thead>\n",
              "    <tr style=\"text-align: right;\">\n",
              "      <th></th>\n",
              "      <th>A</th>\n",
              "      <th>B</th>\n",
              "    </tr>\n",
              "  </thead>\n",
              "  <tbody>\n",
              "    <tr>\n",
              "      <th>0</th>\n",
              "      <td>1</td>\n",
              "      <td>2</td>\n",
              "    </tr>\n",
              "    <tr>\n",
              "      <th>1</th>\n",
              "      <td>3</td>\n",
              "      <td>4</td>\n",
              "    </tr>\n",
              "    <tr>\n",
              "      <th>2</th>\n",
              "      <td>5</td>\n",
              "      <td>6</td>\n",
              "    </tr>\n",
              "    <tr>\n",
              "      <th>3</th>\n",
              "      <td>7</td>\n",
              "      <td>8</td>\n",
              "    </tr>\n",
              "  </tbody>\n",
              "</table>\n",
              "</div>"
            ],
            "text/plain": [
              "   A  B\n",
              "0  1  2\n",
              "1  3  4\n",
              "2  5  6\n",
              "3  7  8"
            ]
          },
          "metadata": {
            "tags": []
          },
          "execution_count": 45
        }
      ]
    },
    {
      "cell_type": "markdown",
      "metadata": {
        "id": "nkt43MVU8TAj",
        "colab_type": "text"
      },
      "source": [
        "También podemos usar este método para series:"
      ]
    },
    {
      "cell_type": "code",
      "metadata": {
        "id": "9LOrE14c7c-E",
        "colab_type": "code",
        "outputId": "97264f2c-13bd-4f50-c26e-28395554ffa9",
        "colab": {
          "base_uri": "https://localhost:8080/",
          "height": 105
        }
      },
      "source": [
        "s = pd.Series({\"key1\":1.0,\"key2\":2.0})\n",
        "s.append(pd.Series({\"key3\":3.0,\"key4\":4.0}))"
      ],
      "execution_count": 0,
      "outputs": [
        {
          "output_type": "execute_result",
          "data": {
            "text/plain": [
              "key1    1.0\n",
              "key2    2.0\n",
              "key3    3.0\n",
              "key4    4.0\n",
              "dtype: float64"
            ]
          },
          "metadata": {
            "tags": []
          },
          "execution_count": 46
        }
      ]
    },
    {
      "cell_type": "markdown",
      "metadata": {
        "id": "3IimhCeM8xDV",
        "colab_type": "text"
      },
      "source": [
        "Sin embargo a pesar de que `append()` es un método simple para hacer lo que deseamos, unir todas nuestras filas, es bastante limitado (y a veces lento) en comparación de [`pd.concat()`](https://pandas.pydata.org/pandas-docs/stable/reference/api/pandas.concat.html#pandas.concat) "
      ]
    },
    {
      "cell_type": "code",
      "metadata": {
        "id": "Ltqphdih7rel",
        "colab_type": "code",
        "outputId": "93ae430a-c214-422a-b380-297c2b7b8592",
        "colab": {
          "base_uri": "https://localhost:8080/",
          "height": 34
        }
      },
      "source": [
        "from time import clock\n",
        "\n",
        "start = clock()\n",
        "TMR = pd.read_excel(path_to_file, sheet_name=None)\n",
        "tmr2020_v1 = TMR['Enero'].copy()\n",
        "for k,v in TMR.items():\n",
        "  if k!='Enero':\n",
        "    tmr2020_v1 = tmr2020_v1.append(TMR[k].copy(),ignore_index=True)\n",
        "print(\"El tiempo de ejecución es: %.4f segundos\"%(clock()-start))"
      ],
      "execution_count": 0,
      "outputs": [
        {
          "output_type": "stream",
          "text": [
            "El tiempo de ejecución es: 0.0269 segundos\n"
          ],
          "name": "stdout"
        }
      ]
    },
    {
      "cell_type": "code",
      "metadata": {
        "id": "yL_uLKb9L1qd",
        "colab_type": "code",
        "outputId": "add406ff-3a50-45e0-8831-5b7046c9132c",
        "colab": {
          "base_uri": "https://localhost:8080/",
          "height": 34
        }
      },
      "source": [
        "start = clock()\n",
        "tmr2020_v2 = pd.concat(list(pd.read_excel(path_to_file, sheet_name=None).values()),ignore_index=True)\n",
        "print(\"El tiempo de ejecución es: %.4f segundos\"%(clock()-start))"
      ],
      "execution_count": 0,
      "outputs": [
        {
          "output_type": "stream",
          "text": [
            "El tiempo de ejecución es: 0.0257 segundos\n"
          ],
          "name": "stdout"
        }
      ]
    },
    {
      "cell_type": "markdown",
      "metadata": {
        "id": "tJRpReCJOmwS",
        "colab_type": "text"
      },
      "source": [
        "## Concatenar\n",
        "Como vimos el la sección anterior en muchos casos es preferible concatenar, para ello tenemos:\n",
        "```python\n",
        "pandas.concat(objs, #sequence or mapping of Series or DataFrame objects\n",
        "              axis=0, \n",
        "              join='outer', \n",
        "              ignore_index: bool = False, \n",
        "              keys=None, \n",
        "              levels=None, \n",
        "              names=None, \n",
        "              verify_integrity: bool = False, \n",
        "              sort: bool = False, \n",
        "              copy: bool = True) → DataFramme o Series\n",
        "```\n"
      ]
    },
    {
      "cell_type": "markdown",
      "metadata": {
        "id": "P6YFX720Q6H6",
        "colab_type": "text"
      },
      "source": [
        "### Caso 1. Juntando tabla tras tabla (axis = 0)\n",
        "<center>\n",
        "\n",
        "![1](https://pandas.pydata.org/pandas-docs/stable/_images/merging_concat_basic.png)\n",
        "\n",
        "</center>"
      ]
    },
    {
      "cell_type": "code",
      "metadata": {
        "id": "2TkLDb_pMho4",
        "colab_type": "code",
        "outputId": "12c34aee-d9ec-4299-8a41-f1a2640adb63",
        "colab": {
          "base_uri": "https://localhost:8080/",
          "height": 402
        }
      },
      "source": [
        "tmrdict = pd.read_excel(path_to_file, sheet_name=None)\n",
        "tmr2020 = pd.concat(tmrdict.values(),ignore_index=True)\n",
        "tmr2020"
      ],
      "execution_count": 0,
      "outputs": [
        {
          "output_type": "execute_result",
          "data": {
            "text/html": [
              "<div>\n",
              "<style scoped>\n",
              "    .dataframe tbody tr th:only-of-type {\n",
              "        vertical-align: middle;\n",
              "    }\n",
              "\n",
              "    .dataframe tbody tr th {\n",
              "        vertical-align: top;\n",
              "    }\n",
              "\n",
              "    .dataframe thead th {\n",
              "        text-align: right;\n",
              "    }\n",
              "</style>\n",
              "<table border=\"1\" class=\"dataframe\">\n",
              "  <thead>\n",
              "    <tr style=\"text-align: right;\">\n",
              "      <th></th>\n",
              "      <th>VALOR</th>\n",
              "      <th>UNIDAD</th>\n",
              "      <th>VIGENCIADESDE</th>\n",
              "      <th>VIGENCIAHASTA</th>\n",
              "    </tr>\n",
              "  </thead>\n",
              "  <tbody>\n",
              "    <tr>\n",
              "      <th>0</th>\n",
              "      <td>3,258.84</td>\n",
              "      <td>COP</td>\n",
              "      <td>2020-01-03</td>\n",
              "      <td>2020-01-03</td>\n",
              "    </tr>\n",
              "    <tr>\n",
              "      <th>1</th>\n",
              "      <td>3,262.05</td>\n",
              "      <td>COP</td>\n",
              "      <td>2020-01-04</td>\n",
              "      <td>2020-01-07</td>\n",
              "    </tr>\n",
              "    <tr>\n",
              "      <th>2</th>\n",
              "      <td>3,264.26</td>\n",
              "      <td>COP</td>\n",
              "      <td>2020-01-08</td>\n",
              "      <td>2020-01-08</td>\n",
              "    </tr>\n",
              "    <tr>\n",
              "      <th>3</th>\n",
              "      <td>3,254.42</td>\n",
              "      <td>COP</td>\n",
              "      <td>2020-01-09</td>\n",
              "      <td>2020-01-09</td>\n",
              "    </tr>\n",
              "    <tr>\n",
              "      <th>4</th>\n",
              "      <td>3,253.89</td>\n",
              "      <td>COP</td>\n",
              "      <td>2020-01-10</td>\n",
              "      <td>2020-01-10</td>\n",
              "    </tr>\n",
              "    <tr>\n",
              "      <th>...</th>\n",
              "      <td>...</td>\n",
              "      <td>...</td>\n",
              "      <td>...</td>\n",
              "      <td>...</td>\n",
              "    </tr>\n",
              "    <tr>\n",
              "      <th>80</th>\n",
              "      <td>3,990.10</td>\n",
              "      <td>COP</td>\n",
              "      <td>2020-05-05</td>\n",
              "      <td>2020-05-05</td>\n",
              "    </tr>\n",
              "    <tr>\n",
              "      <th>81</th>\n",
              "      <td>3,926.07</td>\n",
              "      <td>COP</td>\n",
              "      <td>2020-05-06</td>\n",
              "      <td>2020-05-06</td>\n",
              "    </tr>\n",
              "    <tr>\n",
              "      <th>82</th>\n",
              "      <td>3,961.66</td>\n",
              "      <td>COP</td>\n",
              "      <td>2020-05-07</td>\n",
              "      <td>2020-05-07</td>\n",
              "    </tr>\n",
              "    <tr>\n",
              "      <th>83</th>\n",
              "      <td>3,924.54</td>\n",
              "      <td>COP</td>\n",
              "      <td>2020-05-08</td>\n",
              "      <td>2020-05-08</td>\n",
              "    </tr>\n",
              "    <tr>\n",
              "      <th>84</th>\n",
              "      <td>3,882.27</td>\n",
              "      <td>COP</td>\n",
              "      <td>2020-05-09</td>\n",
              "      <td>2020-05-11</td>\n",
              "    </tr>\n",
              "  </tbody>\n",
              "</table>\n",
              "<p>85 rows × 4 columns</p>\n",
              "</div>"
            ],
            "text/plain": [
              "       VALOR UNIDAD VIGENCIADESDE VIGENCIAHASTA\n",
              "0   3,258.84    COP    2020-01-03    2020-01-03\n",
              "1   3,262.05    COP    2020-01-04    2020-01-07\n",
              "2   3,264.26    COP    2020-01-08    2020-01-08\n",
              "3   3,254.42    COP    2020-01-09    2020-01-09\n",
              "4   3,253.89    COP    2020-01-10    2020-01-10\n",
              "..       ...    ...           ...           ...\n",
              "80  3,990.10    COP    2020-05-05    2020-05-05\n",
              "81  3,926.07    COP    2020-05-06    2020-05-06\n",
              "82  3,961.66    COP    2020-05-07    2020-05-07\n",
              "83  3,924.54    COP    2020-05-08    2020-05-08\n",
              "84  3,882.27    COP    2020-05-09    2020-05-11\n",
              "\n",
              "[85 rows x 4 columns]"
            ]
          },
          "metadata": {
            "tags": []
          },
          "execution_count": 49
        }
      ]
    },
    {
      "cell_type": "markdown",
      "metadata": {
        "id": "A8mIWHefQyyL",
        "colab_type": "text"
      },
      "source": [
        "### Caso 2. Juntando tablas tras tabla (axis = 0) pero usando una clave\n",
        "\n",
        "<center>\n",
        "\n",
        "![2](https://pandas.pydata.org/pandas-docs/stable/_images/merging_concat_keys.png)\n",
        "\n",
        "---\n",
        "\n",
        "\n",
        "\n",
        "</center>"
      ]
    },
    {
      "cell_type": "code",
      "metadata": {
        "id": "3fiSniFXQt7e",
        "colab_type": "code",
        "outputId": "a96c08f9-aa72-481c-b10e-4d40615c7fb3",
        "colab": {
          "base_uri": "https://localhost:8080/",
          "height": 402
        }
      },
      "source": [
        "tmr2020 = pd.concat(tmrdict) #pd.concat(tmrdict.values(),keys=tmrdict.keys())\n",
        "tmr2020"
      ],
      "execution_count": 0,
      "outputs": [
        {
          "output_type": "execute_result",
          "data": {
            "text/html": [
              "<div>\n",
              "<style scoped>\n",
              "    .dataframe tbody tr th:only-of-type {\n",
              "        vertical-align: middle;\n",
              "    }\n",
              "\n",
              "    .dataframe tbody tr th {\n",
              "        vertical-align: top;\n",
              "    }\n",
              "\n",
              "    .dataframe thead th {\n",
              "        text-align: right;\n",
              "    }\n",
              "</style>\n",
              "<table border=\"1\" class=\"dataframe\">\n",
              "  <thead>\n",
              "    <tr style=\"text-align: right;\">\n",
              "      <th></th>\n",
              "      <th></th>\n",
              "      <th>VALOR</th>\n",
              "      <th>UNIDAD</th>\n",
              "      <th>VIGENCIADESDE</th>\n",
              "      <th>VIGENCIAHASTA</th>\n",
              "    </tr>\n",
              "  </thead>\n",
              "  <tbody>\n",
              "    <tr>\n",
              "      <th rowspan=\"5\" valign=\"top\">Enero</th>\n",
              "      <th>0</th>\n",
              "      <td>3,258.84</td>\n",
              "      <td>COP</td>\n",
              "      <td>2020-01-03</td>\n",
              "      <td>2020-01-03</td>\n",
              "    </tr>\n",
              "    <tr>\n",
              "      <th>1</th>\n",
              "      <td>3,262.05</td>\n",
              "      <td>COP</td>\n",
              "      <td>2020-01-04</td>\n",
              "      <td>2020-01-07</td>\n",
              "    </tr>\n",
              "    <tr>\n",
              "      <th>2</th>\n",
              "      <td>3,264.26</td>\n",
              "      <td>COP</td>\n",
              "      <td>2020-01-08</td>\n",
              "      <td>2020-01-08</td>\n",
              "    </tr>\n",
              "    <tr>\n",
              "      <th>3</th>\n",
              "      <td>3,254.42</td>\n",
              "      <td>COP</td>\n",
              "      <td>2020-01-09</td>\n",
              "      <td>2020-01-09</td>\n",
              "    </tr>\n",
              "    <tr>\n",
              "      <th>4</th>\n",
              "      <td>3,253.89</td>\n",
              "      <td>COP</td>\n",
              "      <td>2020-01-10</td>\n",
              "      <td>2020-01-10</td>\n",
              "    </tr>\n",
              "    <tr>\n",
              "      <th>...</th>\n",
              "      <th>...</th>\n",
              "      <td>...</td>\n",
              "      <td>...</td>\n",
              "      <td>...</td>\n",
              "      <td>...</td>\n",
              "    </tr>\n",
              "    <tr>\n",
              "      <th rowspan=\"5\" valign=\"top\">Mayo</th>\n",
              "      <th>1</th>\n",
              "      <td>3,990.10</td>\n",
              "      <td>COP</td>\n",
              "      <td>2020-05-05</td>\n",
              "      <td>2020-05-05</td>\n",
              "    </tr>\n",
              "    <tr>\n",
              "      <th>2</th>\n",
              "      <td>3,926.07</td>\n",
              "      <td>COP</td>\n",
              "      <td>2020-05-06</td>\n",
              "      <td>2020-05-06</td>\n",
              "    </tr>\n",
              "    <tr>\n",
              "      <th>3</th>\n",
              "      <td>3,961.66</td>\n",
              "      <td>COP</td>\n",
              "      <td>2020-05-07</td>\n",
              "      <td>2020-05-07</td>\n",
              "    </tr>\n",
              "    <tr>\n",
              "      <th>4</th>\n",
              "      <td>3,924.54</td>\n",
              "      <td>COP</td>\n",
              "      <td>2020-05-08</td>\n",
              "      <td>2020-05-08</td>\n",
              "    </tr>\n",
              "    <tr>\n",
              "      <th>5</th>\n",
              "      <td>3,882.27</td>\n",
              "      <td>COP</td>\n",
              "      <td>2020-05-09</td>\n",
              "      <td>2020-05-11</td>\n",
              "    </tr>\n",
              "  </tbody>\n",
              "</table>\n",
              "<p>85 rows × 4 columns</p>\n",
              "</div>"
            ],
            "text/plain": [
              "            VALOR UNIDAD VIGENCIADESDE VIGENCIAHASTA\n",
              "Enero 0  3,258.84    COP    2020-01-03    2020-01-03\n",
              "      1  3,262.05    COP    2020-01-04    2020-01-07\n",
              "      2  3,264.26    COP    2020-01-08    2020-01-08\n",
              "      3  3,254.42    COP    2020-01-09    2020-01-09\n",
              "      4  3,253.89    COP    2020-01-10    2020-01-10\n",
              "...           ...    ...           ...           ...\n",
              "Mayo  1  3,990.10    COP    2020-05-05    2020-05-05\n",
              "      2  3,926.07    COP    2020-05-06    2020-05-06\n",
              "      3  3,961.66    COP    2020-05-07    2020-05-07\n",
              "      4  3,924.54    COP    2020-05-08    2020-05-08\n",
              "      5  3,882.27    COP    2020-05-09    2020-05-11\n",
              "\n",
              "[85 rows x 4 columns]"
            ]
          },
          "metadata": {
            "tags": []
          },
          "execution_count": 50
        }
      ]
    },
    {
      "cell_type": "code",
      "metadata": {
        "id": "_RbyZ8JCRcu4",
        "colab_type": "code",
        "outputId": "ca8a1597-1bb8-41a4-ee34-d7ad74d0e05f",
        "colab": {
          "base_uri": "https://localhost:8080/",
          "height": 639
        }
      },
      "source": [
        "#DataFrame Multi-index \n",
        "tmr2020.loc['Febrero']"
      ],
      "execution_count": 0,
      "outputs": [
        {
          "output_type": "execute_result",
          "data": {
            "text/html": [
              "<div>\n",
              "<style scoped>\n",
              "    .dataframe tbody tr th:only-of-type {\n",
              "        vertical-align: middle;\n",
              "    }\n",
              "\n",
              "    .dataframe tbody tr th {\n",
              "        vertical-align: top;\n",
              "    }\n",
              "\n",
              "    .dataframe thead th {\n",
              "        text-align: right;\n",
              "    }\n",
              "</style>\n",
              "<table border=\"1\" class=\"dataframe\">\n",
              "  <thead>\n",
              "    <tr style=\"text-align: right;\">\n",
              "      <th></th>\n",
              "      <th>VALOR</th>\n",
              "      <th>UNIDAD</th>\n",
              "      <th>VIGENCIADESDE</th>\n",
              "      <th>VIGENCIAHASTA</th>\n",
              "    </tr>\n",
              "  </thead>\n",
              "  <tbody>\n",
              "    <tr>\n",
              "      <th>0</th>\n",
              "      <td>3,423.24</td>\n",
              "      <td>COP</td>\n",
              "      <td>2020-02-01</td>\n",
              "      <td>2020-02-03</td>\n",
              "    </tr>\n",
              "    <tr>\n",
              "      <th>1</th>\n",
              "      <td>3,401.56</td>\n",
              "      <td>COP</td>\n",
              "      <td>2020-02-04</td>\n",
              "      <td>2020-02-04</td>\n",
              "    </tr>\n",
              "    <tr>\n",
              "      <th>2</th>\n",
              "      <td>3,368.87</td>\n",
              "      <td>COP</td>\n",
              "      <td>2020-02-05</td>\n",
              "      <td>2020-02-05</td>\n",
              "    </tr>\n",
              "    <tr>\n",
              "      <th>3</th>\n",
              "      <td>3,355.44</td>\n",
              "      <td>COP</td>\n",
              "      <td>2020-02-06</td>\n",
              "      <td>2020-02-06</td>\n",
              "    </tr>\n",
              "    <tr>\n",
              "      <th>4</th>\n",
              "      <td>3,378.43</td>\n",
              "      <td>COP</td>\n",
              "      <td>2020-02-07</td>\n",
              "      <td>2020-02-07</td>\n",
              "    </tr>\n",
              "    <tr>\n",
              "      <th>5</th>\n",
              "      <td>3,408.35</td>\n",
              "      <td>COP</td>\n",
              "      <td>2020-02-08</td>\n",
              "      <td>2020-02-10</td>\n",
              "    </tr>\n",
              "    <tr>\n",
              "      <th>6</th>\n",
              "      <td>3,440.96</td>\n",
              "      <td>COP</td>\n",
              "      <td>2020-02-11</td>\n",
              "      <td>2020-02-11</td>\n",
              "    </tr>\n",
              "    <tr>\n",
              "      <th>7</th>\n",
              "      <td>3,432.89</td>\n",
              "      <td>COP</td>\n",
              "      <td>2020-02-12</td>\n",
              "      <td>2020-02-12</td>\n",
              "    </tr>\n",
              "    <tr>\n",
              "      <th>8</th>\n",
              "      <td>3,394.80</td>\n",
              "      <td>COP</td>\n",
              "      <td>2020-02-13</td>\n",
              "      <td>2020-02-13</td>\n",
              "    </tr>\n",
              "    <tr>\n",
              "      <th>9</th>\n",
              "      <td>3,385.11</td>\n",
              "      <td>COP</td>\n",
              "      <td>2020-02-14</td>\n",
              "      <td>2020-02-14</td>\n",
              "    </tr>\n",
              "    <tr>\n",
              "      <th>10</th>\n",
              "      <td>3,378.29</td>\n",
              "      <td>COP</td>\n",
              "      <td>2020-02-15</td>\n",
              "      <td>2020-02-18</td>\n",
              "    </tr>\n",
              "    <tr>\n",
              "      <th>11</th>\n",
              "      <td>3,410.24</td>\n",
              "      <td>COP</td>\n",
              "      <td>2020-02-19</td>\n",
              "      <td>2020-02-19</td>\n",
              "    </tr>\n",
              "    <tr>\n",
              "      <th>12</th>\n",
              "      <td>3,400.98</td>\n",
              "      <td>COP</td>\n",
              "      <td>2020-02-20</td>\n",
              "      <td>2020-02-20</td>\n",
              "    </tr>\n",
              "    <tr>\n",
              "      <th>13</th>\n",
              "      <td>3,403.50</td>\n",
              "      <td>COP</td>\n",
              "      <td>2020-02-21</td>\n",
              "      <td>2020-02-21</td>\n",
              "    </tr>\n",
              "    <tr>\n",
              "      <th>14</th>\n",
              "      <td>3,398.05</td>\n",
              "      <td>COP</td>\n",
              "      <td>2020-02-22</td>\n",
              "      <td>2020-02-24</td>\n",
              "    </tr>\n",
              "    <tr>\n",
              "      <th>15</th>\n",
              "      <td>3,431.60</td>\n",
              "      <td>COP</td>\n",
              "      <td>2020-02-25</td>\n",
              "      <td>2020-02-25</td>\n",
              "    </tr>\n",
              "    <tr>\n",
              "      <th>16</th>\n",
              "      <td>3,425.22</td>\n",
              "      <td>COP</td>\n",
              "      <td>2020-02-26</td>\n",
              "      <td>2020-02-26</td>\n",
              "    </tr>\n",
              "    <tr>\n",
              "      <th>17</th>\n",
              "      <td>3,441.88</td>\n",
              "      <td>COP</td>\n",
              "      <td>2020-02-27</td>\n",
              "      <td>2020-02-27</td>\n",
              "    </tr>\n",
              "    <tr>\n",
              "      <th>18</th>\n",
              "      <td>3,507.11</td>\n",
              "      <td>COP</td>\n",
              "      <td>2020-02-28</td>\n",
              "      <td>2020-02-28</td>\n",
              "    </tr>\n",
              "    <tr>\n",
              "      <th>19</th>\n",
              "      <td>3,539.86</td>\n",
              "      <td>COP</td>\n",
              "      <td>2020-02-29</td>\n",
              "      <td>2020-03-02</td>\n",
              "    </tr>\n",
              "  </tbody>\n",
              "</table>\n",
              "</div>"
            ],
            "text/plain": [
              "       VALOR UNIDAD VIGENCIADESDE VIGENCIAHASTA\n",
              "0   3,423.24    COP    2020-02-01    2020-02-03\n",
              "1   3,401.56    COP    2020-02-04    2020-02-04\n",
              "2   3,368.87    COP    2020-02-05    2020-02-05\n",
              "3   3,355.44    COP    2020-02-06    2020-02-06\n",
              "4   3,378.43    COP    2020-02-07    2020-02-07\n",
              "5   3,408.35    COP    2020-02-08    2020-02-10\n",
              "6   3,440.96    COP    2020-02-11    2020-02-11\n",
              "7   3,432.89    COP    2020-02-12    2020-02-12\n",
              "8   3,394.80    COP    2020-02-13    2020-02-13\n",
              "9   3,385.11    COP    2020-02-14    2020-02-14\n",
              "10  3,378.29    COP    2020-02-15    2020-02-18\n",
              "11  3,410.24    COP    2020-02-19    2020-02-19\n",
              "12  3,400.98    COP    2020-02-20    2020-02-20\n",
              "13  3,403.50    COP    2020-02-21    2020-02-21\n",
              "14  3,398.05    COP    2020-02-22    2020-02-24\n",
              "15  3,431.60    COP    2020-02-25    2020-02-25\n",
              "16  3,425.22    COP    2020-02-26    2020-02-26\n",
              "17  3,441.88    COP    2020-02-27    2020-02-27\n",
              "18  3,507.11    COP    2020-02-28    2020-02-28\n",
              "19  3,539.86    COP    2020-02-29    2020-03-02"
            ]
          },
          "metadata": {
            "tags": []
          },
          "execution_count": 51
        }
      ]
    },
    {
      "cell_type": "markdown",
      "metadata": {
        "id": "dGiFDUAiSmKi",
        "colab_type": "text"
      },
      "source": [
        "### Caso 3. Juntando tablas por columnas (axis = 1)\n",
        "\n",
        "<center>\n",
        "\n",
        "![3](https://pandas.pydata.org/pandas-docs/stable/_images/merging_concat_axis1.png)\n",
        "\n",
        "</center>\n",
        "\n",
        "Usemos el conjunto de datos [viviendas de California](https://developers.google.com/machine-learning/crash-course/california-housing-data-description)"
      ]
    },
    {
      "cell_type": "code",
      "metadata": {
        "id": "MlnoWN3eRuIv",
        "colab_type": "code",
        "outputId": "e289ecc0-dc97-4845-d7ff-ee7a92eeaba6",
        "colab": {
          "base_uri": "https://localhost:8080/",
          "height": 304
        }
      },
      "source": [
        "import random\n",
        "p = 0.01\n",
        "data = pd.read_csv(\"/content/sample_data/california_housing_train.csv\",\n",
        "                   skiprows=lambda i: i>0 and random.random() > p)\n",
        "data.describe()"
      ],
      "execution_count": 0,
      "outputs": [
        {
          "output_type": "execute_result",
          "data": {
            "text/html": [
              "<div>\n",
              "<style scoped>\n",
              "    .dataframe tbody tr th:only-of-type {\n",
              "        vertical-align: middle;\n",
              "    }\n",
              "\n",
              "    .dataframe tbody tr th {\n",
              "        vertical-align: top;\n",
              "    }\n",
              "\n",
              "    .dataframe thead th {\n",
              "        text-align: right;\n",
              "    }\n",
              "</style>\n",
              "<table border=\"1\" class=\"dataframe\">\n",
              "  <thead>\n",
              "    <tr style=\"text-align: right;\">\n",
              "      <th></th>\n",
              "      <th>longitude</th>\n",
              "      <th>latitude</th>\n",
              "      <th>housing_median_age</th>\n",
              "      <th>total_rooms</th>\n",
              "      <th>total_bedrooms</th>\n",
              "      <th>population</th>\n",
              "      <th>households</th>\n",
              "      <th>median_income</th>\n",
              "      <th>median_house_value</th>\n",
              "    </tr>\n",
              "  </thead>\n",
              "  <tbody>\n",
              "    <tr>\n",
              "      <th>count</th>\n",
              "      <td>148.000000</td>\n",
              "      <td>148.000000</td>\n",
              "      <td>148.000000</td>\n",
              "      <td>148.000000</td>\n",
              "      <td>148.000000</td>\n",
              "      <td>148.000000</td>\n",
              "      <td>148.000000</td>\n",
              "      <td>148.000000</td>\n",
              "      <td>148.000000</td>\n",
              "    </tr>\n",
              "    <tr>\n",
              "      <th>mean</th>\n",
              "      <td>-119.707365</td>\n",
              "      <td>35.710676</td>\n",
              "      <td>29.736486</td>\n",
              "      <td>2275.770270</td>\n",
              "      <td>480.898649</td>\n",
              "      <td>1225.040541</td>\n",
              "      <td>446.824324</td>\n",
              "      <td>3.859875</td>\n",
              "      <td>217931.824324</td>\n",
              "    </tr>\n",
              "    <tr>\n",
              "      <th>std</th>\n",
              "      <td>2.029856</td>\n",
              "      <td>2.245375</td>\n",
              "      <td>13.091702</td>\n",
              "      <td>1470.287427</td>\n",
              "      <td>347.527980</td>\n",
              "      <td>741.180781</td>\n",
              "      <td>311.711377</td>\n",
              "      <td>2.006837</td>\n",
              "      <td>125872.896212</td>\n",
              "    </tr>\n",
              "    <tr>\n",
              "      <th>min</th>\n",
              "      <td>-124.190000</td>\n",
              "      <td>32.740000</td>\n",
              "      <td>2.000000</td>\n",
              "      <td>22.000000</td>\n",
              "      <td>7.000000</td>\n",
              "      <td>55.000000</td>\n",
              "      <td>7.000000</td>\n",
              "      <td>0.951300</td>\n",
              "      <td>49500.000000</td>\n",
              "    </tr>\n",
              "    <tr>\n",
              "      <th>25%</th>\n",
              "      <td>-121.992500</td>\n",
              "      <td>33.965000</td>\n",
              "      <td>19.000000</td>\n",
              "      <td>1404.000000</td>\n",
              "      <td>283.750000</td>\n",
              "      <td>777.000000</td>\n",
              "      <td>279.000000</td>\n",
              "      <td>2.418775</td>\n",
              "      <td>119200.000000</td>\n",
              "    </tr>\n",
              "    <tr>\n",
              "      <th>50%</th>\n",
              "      <td>-118.595000</td>\n",
              "      <td>34.275000</td>\n",
              "      <td>27.500000</td>\n",
              "      <td>1886.000000</td>\n",
              "      <td>386.000000</td>\n",
              "      <td>1001.500000</td>\n",
              "      <td>358.500000</td>\n",
              "      <td>3.563500</td>\n",
              "      <td>190700.000000</td>\n",
              "    </tr>\n",
              "    <tr>\n",
              "      <th>75%</th>\n",
              "      <td>-118.117500</td>\n",
              "      <td>37.712500</td>\n",
              "      <td>41.250000</td>\n",
              "      <td>2749.250000</td>\n",
              "      <td>541.750000</td>\n",
              "      <td>1528.750000</td>\n",
              "      <td>514.000000</td>\n",
              "      <td>5.218525</td>\n",
              "      <td>282900.000000</td>\n",
              "    </tr>\n",
              "    <tr>\n",
              "      <th>max</th>\n",
              "      <td>-116.440000</td>\n",
              "      <td>41.310000</td>\n",
              "      <td>52.000000</td>\n",
              "      <td>11154.000000</td>\n",
              "      <td>2138.000000</td>\n",
              "      <td>4533.000000</td>\n",
              "      <td>1844.000000</td>\n",
              "      <td>11.560900</td>\n",
              "      <td>500001.000000</td>\n",
              "    </tr>\n",
              "  </tbody>\n",
              "</table>\n",
              "</div>"
            ],
            "text/plain": [
              "        longitude    latitude  ...  median_income  median_house_value\n",
              "count  148.000000  148.000000  ...     148.000000          148.000000\n",
              "mean  -119.707365   35.710676  ...       3.859875       217931.824324\n",
              "std      2.029856    2.245375  ...       2.006837       125872.896212\n",
              "min   -124.190000   32.740000  ...       0.951300        49500.000000\n",
              "25%   -121.992500   33.965000  ...       2.418775       119200.000000\n",
              "50%   -118.595000   34.275000  ...       3.563500       190700.000000\n",
              "75%   -118.117500   37.712500  ...       5.218525       282900.000000\n",
              "max   -116.440000   41.310000  ...      11.560900       500001.000000\n",
              "\n",
              "[8 rows x 9 columns]"
            ]
          },
          "metadata": {
            "tags": []
          },
          "execution_count": 52
        }
      ]
    },
    {
      "cell_type": "code",
      "metadata": {
        "id": "ANfMNPh1UFDg",
        "colab_type": "code",
        "colab": {}
      },
      "source": [
        "data_mean = data.groupby([\"housing_median_age\"]).mean()[['total_rooms','total_bedrooms','population']] \n",
        "data_max = data.groupby([\"housing_median_age\"]).max()[['population','median_income','median_house_value']]\n",
        "data_max =  data_max[data_max['median_income'] > data_max['median_income'].mean()]"
      ],
      "execution_count": 0,
      "outputs": []
    },
    {
      "cell_type": "code",
      "metadata": {
        "id": "Zdt-ym9DT9_4",
        "colab_type": "code",
        "outputId": "836a7507-534a-4b7c-a545-cb3332f606d7",
        "colab": {
          "base_uri": "https://localhost:8080/",
          "height": 225
        }
      },
      "source": [
        "data_mean.head()"
      ],
      "execution_count": 0,
      "outputs": [
        {
          "output_type": "execute_result",
          "data": {
            "text/html": [
              "<div>\n",
              "<style scoped>\n",
              "    .dataframe tbody tr th:only-of-type {\n",
              "        vertical-align: middle;\n",
              "    }\n",
              "\n",
              "    .dataframe tbody tr th {\n",
              "        vertical-align: top;\n",
              "    }\n",
              "\n",
              "    .dataframe thead th {\n",
              "        text-align: right;\n",
              "    }\n",
              "</style>\n",
              "<table border=\"1\" class=\"dataframe\">\n",
              "  <thead>\n",
              "    <tr style=\"text-align: right;\">\n",
              "      <th></th>\n",
              "      <th>total_rooms</th>\n",
              "      <th>total_bedrooms</th>\n",
              "      <th>population</th>\n",
              "    </tr>\n",
              "    <tr>\n",
              "      <th>housing_median_age</th>\n",
              "      <th></th>\n",
              "      <th></th>\n",
              "      <th></th>\n",
              "    </tr>\n",
              "  </thead>\n",
              "  <tbody>\n",
              "    <tr>\n",
              "      <th>2.0</th>\n",
              "      <td>2411.00</td>\n",
              "      <td>354.00</td>\n",
              "      <td>703.0</td>\n",
              "    </tr>\n",
              "    <tr>\n",
              "      <th>4.0</th>\n",
              "      <td>3273.00</td>\n",
              "      <td>495.00</td>\n",
              "      <td>1497.0</td>\n",
              "    </tr>\n",
              "    <tr>\n",
              "      <th>5.0</th>\n",
              "      <td>4718.00</td>\n",
              "      <td>1140.00</td>\n",
              "      <td>2564.0</td>\n",
              "    </tr>\n",
              "    <tr>\n",
              "      <th>7.0</th>\n",
              "      <td>1972.00</td>\n",
              "      <td>352.00</td>\n",
              "      <td>964.0</td>\n",
              "    </tr>\n",
              "    <tr>\n",
              "      <th>8.0</th>\n",
              "      <td>2450.25</td>\n",
              "      <td>497.25</td>\n",
              "      <td>1198.5</td>\n",
              "    </tr>\n",
              "  </tbody>\n",
              "</table>\n",
              "</div>"
            ],
            "text/plain": [
              "                    total_rooms  total_bedrooms  population\n",
              "housing_median_age                                         \n",
              "2.0                     2411.00          354.00       703.0\n",
              "4.0                     3273.00          495.00      1497.0\n",
              "5.0                     4718.00         1140.00      2564.0\n",
              "7.0                     1972.00          352.00       964.0\n",
              "8.0                     2450.25          497.25      1198.5"
            ]
          },
          "metadata": {
            "tags": []
          },
          "execution_count": 54
        }
      ]
    },
    {
      "cell_type": "code",
      "metadata": {
        "id": "E35DCOB3TiYe",
        "colab_type": "code",
        "outputId": "a906b0af-3f7b-4c77-e7d4-6ed915b2f0cb",
        "colab": {
          "base_uri": "https://localhost:8080/",
          "height": 225
        }
      },
      "source": [
        "data_max.head()"
      ],
      "execution_count": 0,
      "outputs": [
        {
          "output_type": "execute_result",
          "data": {
            "text/html": [
              "<div>\n",
              "<style scoped>\n",
              "    .dataframe tbody tr th:only-of-type {\n",
              "        vertical-align: middle;\n",
              "    }\n",
              "\n",
              "    .dataframe tbody tr th {\n",
              "        vertical-align: top;\n",
              "    }\n",
              "\n",
              "    .dataframe thead th {\n",
              "        text-align: right;\n",
              "    }\n",
              "</style>\n",
              "<table border=\"1\" class=\"dataframe\">\n",
              "  <thead>\n",
              "    <tr style=\"text-align: right;\">\n",
              "      <th></th>\n",
              "      <th>population</th>\n",
              "      <th>median_income</th>\n",
              "      <th>median_house_value</th>\n",
              "    </tr>\n",
              "    <tr>\n",
              "      <th>housing_median_age</th>\n",
              "      <th></th>\n",
              "      <th></th>\n",
              "      <th></th>\n",
              "    </tr>\n",
              "  </thead>\n",
              "  <tbody>\n",
              "    <tr>\n",
              "      <th>2.0</th>\n",
              "      <td>703.0</td>\n",
              "      <td>7.8061</td>\n",
              "      <td>331400.0</td>\n",
              "    </tr>\n",
              "    <tr>\n",
              "      <th>4.0</th>\n",
              "      <td>1497.0</td>\n",
              "      <td>5.3345</td>\n",
              "      <td>176100.0</td>\n",
              "    </tr>\n",
              "    <tr>\n",
              "      <th>8.0</th>\n",
              "      <td>1555.0</td>\n",
              "      <td>6.0901</td>\n",
              "      <td>298200.0</td>\n",
              "    </tr>\n",
              "    <tr>\n",
              "      <th>14.0</th>\n",
              "      <td>3136.0</td>\n",
              "      <td>6.7093</td>\n",
              "      <td>400000.0</td>\n",
              "    </tr>\n",
              "    <tr>\n",
              "      <th>16.0</th>\n",
              "      <td>1873.0</td>\n",
              "      <td>6.5006</td>\n",
              "      <td>282500.0</td>\n",
              "    </tr>\n",
              "  </tbody>\n",
              "</table>\n",
              "</div>"
            ],
            "text/plain": [
              "                    population  median_income  median_house_value\n",
              "housing_median_age                                               \n",
              "2.0                      703.0         7.8061            331400.0\n",
              "4.0                     1497.0         5.3345            176100.0\n",
              "8.0                     1555.0         6.0901            298200.0\n",
              "14.0                    3136.0         6.7093            400000.0\n",
              "16.0                    1873.0         6.5006            282500.0"
            ]
          },
          "metadata": {
            "tags": []
          },
          "execution_count": 55
        }
      ]
    },
    {
      "cell_type": "code",
      "metadata": {
        "id": "uMVG__GyjIcB",
        "colab_type": "code",
        "outputId": "b9f71808-7d4b-4698-df70-680396e8b819",
        "colab": {
          "base_uri": "https://localhost:8080/",
          "height": 284
        }
      },
      "source": [
        "pd.concat([data_mean.head(),data_max.head()],axis=1)"
      ],
      "execution_count": 0,
      "outputs": [
        {
          "output_type": "execute_result",
          "data": {
            "text/html": [
              "<div>\n",
              "<style scoped>\n",
              "    .dataframe tbody tr th:only-of-type {\n",
              "        vertical-align: middle;\n",
              "    }\n",
              "\n",
              "    .dataframe tbody tr th {\n",
              "        vertical-align: top;\n",
              "    }\n",
              "\n",
              "    .dataframe thead th {\n",
              "        text-align: right;\n",
              "    }\n",
              "</style>\n",
              "<table border=\"1\" class=\"dataframe\">\n",
              "  <thead>\n",
              "    <tr style=\"text-align: right;\">\n",
              "      <th></th>\n",
              "      <th>total_rooms</th>\n",
              "      <th>total_bedrooms</th>\n",
              "      <th>population</th>\n",
              "      <th>population</th>\n",
              "      <th>median_income</th>\n",
              "      <th>median_house_value</th>\n",
              "    </tr>\n",
              "    <tr>\n",
              "      <th>housing_median_age</th>\n",
              "      <th></th>\n",
              "      <th></th>\n",
              "      <th></th>\n",
              "      <th></th>\n",
              "      <th></th>\n",
              "      <th></th>\n",
              "    </tr>\n",
              "  </thead>\n",
              "  <tbody>\n",
              "    <tr>\n",
              "      <th>2.0</th>\n",
              "      <td>2411.00</td>\n",
              "      <td>354.00</td>\n",
              "      <td>703.0</td>\n",
              "      <td>703.0</td>\n",
              "      <td>7.8061</td>\n",
              "      <td>331400.0</td>\n",
              "    </tr>\n",
              "    <tr>\n",
              "      <th>4.0</th>\n",
              "      <td>3273.00</td>\n",
              "      <td>495.00</td>\n",
              "      <td>1497.0</td>\n",
              "      <td>1497.0</td>\n",
              "      <td>5.3345</td>\n",
              "      <td>176100.0</td>\n",
              "    </tr>\n",
              "    <tr>\n",
              "      <th>5.0</th>\n",
              "      <td>4718.00</td>\n",
              "      <td>1140.00</td>\n",
              "      <td>2564.0</td>\n",
              "      <td>NaN</td>\n",
              "      <td>NaN</td>\n",
              "      <td>NaN</td>\n",
              "    </tr>\n",
              "    <tr>\n",
              "      <th>7.0</th>\n",
              "      <td>1972.00</td>\n",
              "      <td>352.00</td>\n",
              "      <td>964.0</td>\n",
              "      <td>NaN</td>\n",
              "      <td>NaN</td>\n",
              "      <td>NaN</td>\n",
              "    </tr>\n",
              "    <tr>\n",
              "      <th>8.0</th>\n",
              "      <td>2450.25</td>\n",
              "      <td>497.25</td>\n",
              "      <td>1198.5</td>\n",
              "      <td>1555.0</td>\n",
              "      <td>6.0901</td>\n",
              "      <td>298200.0</td>\n",
              "    </tr>\n",
              "    <tr>\n",
              "      <th>14.0</th>\n",
              "      <td>NaN</td>\n",
              "      <td>NaN</td>\n",
              "      <td>NaN</td>\n",
              "      <td>3136.0</td>\n",
              "      <td>6.7093</td>\n",
              "      <td>400000.0</td>\n",
              "    </tr>\n",
              "    <tr>\n",
              "      <th>16.0</th>\n",
              "      <td>NaN</td>\n",
              "      <td>NaN</td>\n",
              "      <td>NaN</td>\n",
              "      <td>1873.0</td>\n",
              "      <td>6.5006</td>\n",
              "      <td>282500.0</td>\n",
              "    </tr>\n",
              "  </tbody>\n",
              "</table>\n",
              "</div>"
            ],
            "text/plain": [
              "                    total_rooms  ...  median_house_value\n",
              "housing_median_age               ...                    \n",
              "2.0                     2411.00  ...            331400.0\n",
              "4.0                     3273.00  ...            176100.0\n",
              "5.0                     4718.00  ...                 NaN\n",
              "7.0                     1972.00  ...                 NaN\n",
              "8.0                     2450.25  ...            298200.0\n",
              "14.0                        NaN  ...            400000.0\n",
              "16.0                        NaN  ...            282500.0\n",
              "\n",
              "[7 rows x 6 columns]"
            ]
          },
          "metadata": {
            "tags": []
          },
          "execution_count": 56
        }
      ]
    },
    {
      "cell_type": "markdown",
      "metadata": {
        "id": "yA0diigJmVoQ",
        "colab_type": "text"
      },
      "source": [
        "### Caso 4. Intercentando entre columnas\n",
        "\n",
        "<center>\n",
        "\n",
        "![4](https://pandas.pydata.org/pandas-docs/stable/_images/merging_concat_axis1_inner.png)\n",
        "\n",
        "</center>\n"
      ]
    },
    {
      "cell_type": "code",
      "metadata": {
        "id": "WMljGWg6mMYc",
        "colab_type": "code",
        "outputId": "d1de1a3b-d04a-489f-ec14-87be6c19b111",
        "colab": {
          "base_uri": "https://localhost:8080/",
          "height": 728
        }
      },
      "source": [
        "pd.concat([data_mean,data_max],axis=1,join='inner',keys=['Means','Max'])"
      ],
      "execution_count": 0,
      "outputs": [
        {
          "output_type": "execute_result",
          "data": {
            "text/html": [
              "<div>\n",
              "<style scoped>\n",
              "    .dataframe tbody tr th:only-of-type {\n",
              "        vertical-align: middle;\n",
              "    }\n",
              "\n",
              "    .dataframe tbody tr th {\n",
              "        vertical-align: top;\n",
              "    }\n",
              "\n",
              "    .dataframe thead tr th {\n",
              "        text-align: left;\n",
              "    }\n",
              "\n",
              "    .dataframe thead tr:last-of-type th {\n",
              "        text-align: right;\n",
              "    }\n",
              "</style>\n",
              "<table border=\"1\" class=\"dataframe\">\n",
              "  <thead>\n",
              "    <tr>\n",
              "      <th></th>\n",
              "      <th colspan=\"3\" halign=\"left\">Means</th>\n",
              "      <th colspan=\"3\" halign=\"left\">Max</th>\n",
              "    </tr>\n",
              "    <tr>\n",
              "      <th></th>\n",
              "      <th>total_rooms</th>\n",
              "      <th>total_bedrooms</th>\n",
              "      <th>population</th>\n",
              "      <th>population</th>\n",
              "      <th>median_income</th>\n",
              "      <th>median_house_value</th>\n",
              "    </tr>\n",
              "    <tr>\n",
              "      <th>housing_median_age</th>\n",
              "      <th></th>\n",
              "      <th></th>\n",
              "      <th></th>\n",
              "      <th></th>\n",
              "      <th></th>\n",
              "      <th></th>\n",
              "    </tr>\n",
              "  </thead>\n",
              "  <tbody>\n",
              "    <tr>\n",
              "      <th>2.0</th>\n",
              "      <td>2411.000000</td>\n",
              "      <td>354.000000</td>\n",
              "      <td>703.000000</td>\n",
              "      <td>703.0</td>\n",
              "      <td>7.8061</td>\n",
              "      <td>331400.0</td>\n",
              "    </tr>\n",
              "    <tr>\n",
              "      <th>4.0</th>\n",
              "      <td>3273.000000</td>\n",
              "      <td>495.000000</td>\n",
              "      <td>1497.000000</td>\n",
              "      <td>1497.0</td>\n",
              "      <td>5.3345</td>\n",
              "      <td>176100.0</td>\n",
              "    </tr>\n",
              "    <tr>\n",
              "      <th>8.0</th>\n",
              "      <td>2450.250000</td>\n",
              "      <td>497.250000</td>\n",
              "      <td>1198.500000</td>\n",
              "      <td>1555.0</td>\n",
              "      <td>6.0901</td>\n",
              "      <td>298200.0</td>\n",
              "    </tr>\n",
              "    <tr>\n",
              "      <th>14.0</th>\n",
              "      <td>3630.400000</td>\n",
              "      <td>787.400000</td>\n",
              "      <td>2009.600000</td>\n",
              "      <td>3136.0</td>\n",
              "      <td>6.7093</td>\n",
              "      <td>400000.0</td>\n",
              "    </tr>\n",
              "    <tr>\n",
              "      <th>16.0</th>\n",
              "      <td>2201.333333</td>\n",
              "      <td>391.833333</td>\n",
              "      <td>1138.833333</td>\n",
              "      <td>1873.0</td>\n",
              "      <td>6.5006</td>\n",
              "      <td>282500.0</td>\n",
              "    </tr>\n",
              "    <tr>\n",
              "      <th>17.0</th>\n",
              "      <td>2356.222222</td>\n",
              "      <td>504.888889</td>\n",
              "      <td>1174.111111</td>\n",
              "      <td>2149.0</td>\n",
              "      <td>5.8747</td>\n",
              "      <td>373400.0</td>\n",
              "    </tr>\n",
              "    <tr>\n",
              "      <th>18.0</th>\n",
              "      <td>1696.333333</td>\n",
              "      <td>308.000000</td>\n",
              "      <td>916.666667</td>\n",
              "      <td>1283.0</td>\n",
              "      <td>5.5955</td>\n",
              "      <td>217700.0</td>\n",
              "    </tr>\n",
              "    <tr>\n",
              "      <th>22.0</th>\n",
              "      <td>2470.166667</td>\n",
              "      <td>448.833333</td>\n",
              "      <td>1107.000000</td>\n",
              "      <td>1665.0</td>\n",
              "      <td>8.3637</td>\n",
              "      <td>500001.0</td>\n",
              "    </tr>\n",
              "    <tr>\n",
              "      <th>23.0</th>\n",
              "      <td>4680.600000</td>\n",
              "      <td>786.600000</td>\n",
              "      <td>1948.600000</td>\n",
              "      <td>4076.0</td>\n",
              "      <td>10.1675</td>\n",
              "      <td>500001.0</td>\n",
              "    </tr>\n",
              "    <tr>\n",
              "      <th>25.0</th>\n",
              "      <td>3139.333333</td>\n",
              "      <td>879.500000</td>\n",
              "      <td>1715.666667</td>\n",
              "      <td>3136.0</td>\n",
              "      <td>5.3508</td>\n",
              "      <td>410000.0</td>\n",
              "    </tr>\n",
              "    <tr>\n",
              "      <th>26.0</th>\n",
              "      <td>2934.833333</td>\n",
              "      <td>752.000000</td>\n",
              "      <td>1739.833333</td>\n",
              "      <td>4533.0</td>\n",
              "      <td>6.7395</td>\n",
              "      <td>342800.0</td>\n",
              "    </tr>\n",
              "    <tr>\n",
              "      <th>27.0</th>\n",
              "      <td>2779.000000</td>\n",
              "      <td>483.600000</td>\n",
              "      <td>1486.400000</td>\n",
              "      <td>2394.0</td>\n",
              "      <td>9.3125</td>\n",
              "      <td>293500.0</td>\n",
              "    </tr>\n",
              "    <tr>\n",
              "      <th>34.0</th>\n",
              "      <td>1639.000000</td>\n",
              "      <td>365.250000</td>\n",
              "      <td>1119.250000</td>\n",
              "      <td>2194.0</td>\n",
              "      <td>8.7382</td>\n",
              "      <td>500001.0</td>\n",
              "    </tr>\n",
              "    <tr>\n",
              "      <th>35.0</th>\n",
              "      <td>1220.333333</td>\n",
              "      <td>252.333333</td>\n",
              "      <td>683.666667</td>\n",
              "      <td>1444.0</td>\n",
              "      <td>9.0812</td>\n",
              "      <td>500001.0</td>\n",
              "    </tr>\n",
              "    <tr>\n",
              "      <th>37.0</th>\n",
              "      <td>3494.000000</td>\n",
              "      <td>788.500000</td>\n",
              "      <td>1379.500000</td>\n",
              "      <td>1838.0</td>\n",
              "      <td>7.2988</td>\n",
              "      <td>500001.0</td>\n",
              "    </tr>\n",
              "    <tr>\n",
              "      <th>41.0</th>\n",
              "      <td>1405.666667</td>\n",
              "      <td>323.666667</td>\n",
              "      <td>932.666667</td>\n",
              "      <td>1062.0</td>\n",
              "      <td>6.0150</td>\n",
              "      <td>488500.0</td>\n",
              "    </tr>\n",
              "    <tr>\n",
              "      <th>43.0</th>\n",
              "      <td>1443.500000</td>\n",
              "      <td>312.000000</td>\n",
              "      <td>941.250000</td>\n",
              "      <td>1074.0</td>\n",
              "      <td>5.5289</td>\n",
              "      <td>297700.0</td>\n",
              "    </tr>\n",
              "    <tr>\n",
              "      <th>44.0</th>\n",
              "      <td>1432.857143</td>\n",
              "      <td>309.142857</td>\n",
              "      <td>742.714286</td>\n",
              "      <td>1305.0</td>\n",
              "      <td>5.3970</td>\n",
              "      <td>500000.0</td>\n",
              "    </tr>\n",
              "    <tr>\n",
              "      <th>46.0</th>\n",
              "      <td>1255.666667</td>\n",
              "      <td>285.333333</td>\n",
              "      <td>778.333333</td>\n",
              "      <td>1522.0</td>\n",
              "      <td>5.3264</td>\n",
              "      <td>384700.0</td>\n",
              "    </tr>\n",
              "    <tr>\n",
              "      <th>48.0</th>\n",
              "      <td>1817.000000</td>\n",
              "      <td>288.500000</td>\n",
              "      <td>762.500000</td>\n",
              "      <td>825.0</td>\n",
              "      <td>8.7051</td>\n",
              "      <td>500001.0</td>\n",
              "    </tr>\n",
              "    <tr>\n",
              "      <th>52.0</th>\n",
              "      <td>1889.833333</td>\n",
              "      <td>342.583333</td>\n",
              "      <td>829.916667</td>\n",
              "      <td>1728.0</td>\n",
              "      <td>11.5609</td>\n",
              "      <td>500001.0</td>\n",
              "    </tr>\n",
              "  </tbody>\n",
              "</table>\n",
              "</div>"
            ],
            "text/plain": [
              "                          Means                 ...           Max                   \n",
              "                    total_rooms total_bedrooms  ... median_income median_house_value\n",
              "housing_median_age                              ...                                 \n",
              "2.0                 2411.000000     354.000000  ...        7.8061           331400.0\n",
              "4.0                 3273.000000     495.000000  ...        5.3345           176100.0\n",
              "8.0                 2450.250000     497.250000  ...        6.0901           298200.0\n",
              "14.0                3630.400000     787.400000  ...        6.7093           400000.0\n",
              "16.0                2201.333333     391.833333  ...        6.5006           282500.0\n",
              "17.0                2356.222222     504.888889  ...        5.8747           373400.0\n",
              "18.0                1696.333333     308.000000  ...        5.5955           217700.0\n",
              "22.0                2470.166667     448.833333  ...        8.3637           500001.0\n",
              "23.0                4680.600000     786.600000  ...       10.1675           500001.0\n",
              "25.0                3139.333333     879.500000  ...        5.3508           410000.0\n",
              "26.0                2934.833333     752.000000  ...        6.7395           342800.0\n",
              "27.0                2779.000000     483.600000  ...        9.3125           293500.0\n",
              "34.0                1639.000000     365.250000  ...        8.7382           500001.0\n",
              "35.0                1220.333333     252.333333  ...        9.0812           500001.0\n",
              "37.0                3494.000000     788.500000  ...        7.2988           500001.0\n",
              "41.0                1405.666667     323.666667  ...        6.0150           488500.0\n",
              "43.0                1443.500000     312.000000  ...        5.5289           297700.0\n",
              "44.0                1432.857143     309.142857  ...        5.3970           500000.0\n",
              "46.0                1255.666667     285.333333  ...        5.3264           384700.0\n",
              "48.0                1817.000000     288.500000  ...        8.7051           500001.0\n",
              "52.0                1889.833333     342.583333  ...       11.5609           500001.0\n",
              "\n",
              "[21 rows x 6 columns]"
            ]
          },
          "metadata": {
            "tags": []
          },
          "execution_count": 57
        }
      ]
    },
    {
      "cell_type": "markdown",
      "metadata": {
        "id": "Ac2fcOPHnbeM",
        "colab_type": "text"
      },
      "source": [
        "### Caso 5. Concatenenado entre DataFrames y Series\n",
        "\n",
        "\n",
        "```python\n",
        "s1 = pd.Series(['X0', 'X1', 'X2', 'X3'], name='X')\n",
        "result = pd.concat([df1, s1], axis=1)\n",
        "```\n",
        "<center>\n",
        "\n",
        "![5](https://pandas.pydata.org/pandas-docs/stable/_images/merging_concat_mixed_ndim.png)\n",
        "</center>\n",
        "\n",
        "```python\n",
        "result = pd.concat([df1, s2, s2, s2], axis=1)\n",
        "```\n",
        "<center>\n",
        "\n",
        "![5](https://pandas.pydata.org/pandas-docs/stable/_images/merging_concat_unnamed_series.png)\n",
        "\n",
        "</center>\n",
        "\n",
        "```python\n",
        "result = pd.concat([df1, s1], axis=1, ignore_index=True)\n",
        "```\n",
        "\n",
        "<center>\n",
        "\n",
        "![5](https://pandas.pydata.org/pandas-docs/stable/_images/merging_concat_series_ignore_index.png)\n",
        "\n",
        "</center>\n"
      ]
    },
    {
      "cell_type": "markdown",
      "metadata": {
        "id": "FfG0sqBIpu9E",
        "colab_type": "text"
      },
      "source": [
        "## Fusionar y unir\n",
        "\n",
        "Fusionar o unir son operaciones un poco más complejas en donde se usa algebra relacional, para esto tenemos:\n",
        "\n",
        "* [`pd.merge()`](https://pandas.pydata.org/pandas-docs/stable/reference/api/pandas.DataFrame.merge.html#pandas.DataFrame.merge)\n",
        "\n",
        "\n",
        "```python\n",
        "pd.merge(left, right, how='inner', on=None, left_on=None, right_on=None,\n",
        "         left_index=False, right_index=False, sort=True, suffixes=('_x', '_y'),\n",
        "         copy=True, indicator=False, validate=None)\n",
        "```\n",
        "\n",
        "* [`DataFrame.join()`](https://pandas.pydata.org/pandas-docs/stable/reference/api/pandas.DataFrame.join.html#pandas.DataFrame.join)\n",
        "\n",
        "\n",
        "```python\n",
        "DataFrame.join(self, other, on=None, how='left', lsuffix='', rsuffix='', sort=False))\n",
        "```\n"
      ]
    },
    {
      "cell_type": "markdown",
      "metadata": {
        "id": "bfsKLl63q09y",
        "colab_type": "text"
      },
      "source": [
        "### Algebra relacional\n",
        "Un usuario que ha trabajado con bases de datos SQL estará familiarizado con la terminología utilizada para determinar la unión de las estructuras, pero revisemos:\n",
        "\n",
        "* one-to-one: Por ejemplo unir dos DataFrame en sus índices (que deben contener valores únicos).\n",
        "* many-to-one: Por ejemplo cuando se une un índice (único) a uno o más columnas en un DataFrame diferente.\n",
        "* many-to-many: Unir columnas en columnas. \n",
        "\n",
        "Aquí un ejemplo:\n",
        "\n",
        "<center>\n",
        "\n",
        "![a](https://pandas.pydata.org/pandas-docs/stable/_images/merging_merge_on_key.png)\n",
        "</center>"
      ]
    },
    {
      "cell_type": "markdown",
      "metadata": {
        "id": "1wvLsLlMs7bW",
        "colab_type": "text"
      },
      "source": [
        "###Tipos de fusión many-to-many\n",
        "\n",
        "La función merge tiene un argumento (`how`) para definir cuales van a ser los valores (llaves) que se incluiran en las tablas resultantes. Usando diferentes valores tendríamos diferentes resultados: \n"
      ]
    },
    {
      "cell_type": "code",
      "metadata": {
        "id": "WQ378czxmsq0",
        "colab_type": "code",
        "colab": {}
      },
      "source": [
        "left = pd.DataFrame({'key1': ['K0', 'K0', 'K1', 'K2'],\n",
        "                     'key2': ['K0', 'K1', 'K0', 'K1'],\n",
        "                     'A': ['A0', 'A1', 'A2', 'A3'],\n",
        "                     'B': ['B0', 'B1', 'B2', 'B3']})\n",
        "\n",
        "right = pd.DataFrame({'key1': ['K0', 'K1', 'K1', 'K2'],\n",
        "                      'key2': ['K0', 'K0', 'K0', 'K0'],\n",
        "                      'C': ['C0', 'C1', 'C2', 'C3'],\n",
        "                      'D': ['D0', 'D1', 'D2', 'D3']}) \n",
        "\n"
      ],
      "execution_count": 0,
      "outputs": []
    },
    {
      "cell_type": "code",
      "metadata": {
        "id": "N4EHCcNot1Hz",
        "colab_type": "code",
        "outputId": "f0abeb20-f615-4f7e-d26c-0c90872f5d39",
        "colab": {
          "base_uri": "https://localhost:8080/",
          "height": 195
        }
      },
      "source": [
        "pd.merge(left, right, how='left', on=['key1', 'key2'],indicator=\"ind_col\")"
      ],
      "execution_count": 0,
      "outputs": [
        {
          "output_type": "execute_result",
          "data": {
            "text/html": [
              "<div>\n",
              "<style scoped>\n",
              "    .dataframe tbody tr th:only-of-type {\n",
              "        vertical-align: middle;\n",
              "    }\n",
              "\n",
              "    .dataframe tbody tr th {\n",
              "        vertical-align: top;\n",
              "    }\n",
              "\n",
              "    .dataframe thead th {\n",
              "        text-align: right;\n",
              "    }\n",
              "</style>\n",
              "<table border=\"1\" class=\"dataframe\">\n",
              "  <thead>\n",
              "    <tr style=\"text-align: right;\">\n",
              "      <th></th>\n",
              "      <th>key1</th>\n",
              "      <th>key2</th>\n",
              "      <th>A</th>\n",
              "      <th>B</th>\n",
              "      <th>C</th>\n",
              "      <th>D</th>\n",
              "      <th>ind_col</th>\n",
              "    </tr>\n",
              "  </thead>\n",
              "  <tbody>\n",
              "    <tr>\n",
              "      <th>0</th>\n",
              "      <td>K0</td>\n",
              "      <td>K0</td>\n",
              "      <td>A0</td>\n",
              "      <td>B0</td>\n",
              "      <td>C0</td>\n",
              "      <td>D0</td>\n",
              "      <td>both</td>\n",
              "    </tr>\n",
              "    <tr>\n",
              "      <th>1</th>\n",
              "      <td>K0</td>\n",
              "      <td>K1</td>\n",
              "      <td>A1</td>\n",
              "      <td>B1</td>\n",
              "      <td>NaN</td>\n",
              "      <td>NaN</td>\n",
              "      <td>left_only</td>\n",
              "    </tr>\n",
              "    <tr>\n",
              "      <th>2</th>\n",
              "      <td>K1</td>\n",
              "      <td>K0</td>\n",
              "      <td>A2</td>\n",
              "      <td>B2</td>\n",
              "      <td>C1</td>\n",
              "      <td>D1</td>\n",
              "      <td>both</td>\n",
              "    </tr>\n",
              "    <tr>\n",
              "      <th>3</th>\n",
              "      <td>K1</td>\n",
              "      <td>K0</td>\n",
              "      <td>A2</td>\n",
              "      <td>B2</td>\n",
              "      <td>C2</td>\n",
              "      <td>D2</td>\n",
              "      <td>both</td>\n",
              "    </tr>\n",
              "    <tr>\n",
              "      <th>4</th>\n",
              "      <td>K2</td>\n",
              "      <td>K1</td>\n",
              "      <td>A3</td>\n",
              "      <td>B3</td>\n",
              "      <td>NaN</td>\n",
              "      <td>NaN</td>\n",
              "      <td>left_only</td>\n",
              "    </tr>\n",
              "  </tbody>\n",
              "</table>\n",
              "</div>"
            ],
            "text/plain": [
              "  key1 key2   A   B    C    D    ind_col\n",
              "0   K0   K0  A0  B0   C0   D0       both\n",
              "1   K0   K1  A1  B1  NaN  NaN  left_only\n",
              "2   K1   K0  A2  B2   C1   D1       both\n",
              "3   K1   K0  A2  B2   C2   D2       both\n",
              "4   K2   K1  A3  B3  NaN  NaN  left_only"
            ]
          },
          "metadata": {
            "tags": []
          },
          "execution_count": 59
        }
      ]
    },
    {
      "cell_type": "markdown",
      "metadata": {
        "id": "Ct3eCXXOuOrU",
        "colab_type": "text"
      },
      "source": [
        "![texto alternativo](https://pandas.pydata.org/pandas-docs/stable/_images/merging_merge_on_key_left.png)"
      ]
    },
    {
      "cell_type": "code",
      "metadata": {
        "id": "Yo7QOLnft5HS",
        "colab_type": "code",
        "outputId": "360ac31b-7f77-42f7-9ab0-8261151d2bd0",
        "colab": {
          "base_uri": "https://localhost:8080/",
          "height": 166
        }
      },
      "source": [
        "pd.merge(left, right, how='right', on=['key1', 'key2'],indicator=\"ind_col\")"
      ],
      "execution_count": 0,
      "outputs": [
        {
          "output_type": "execute_result",
          "data": {
            "text/html": [
              "<div>\n",
              "<style scoped>\n",
              "    .dataframe tbody tr th:only-of-type {\n",
              "        vertical-align: middle;\n",
              "    }\n",
              "\n",
              "    .dataframe tbody tr th {\n",
              "        vertical-align: top;\n",
              "    }\n",
              "\n",
              "    .dataframe thead th {\n",
              "        text-align: right;\n",
              "    }\n",
              "</style>\n",
              "<table border=\"1\" class=\"dataframe\">\n",
              "  <thead>\n",
              "    <tr style=\"text-align: right;\">\n",
              "      <th></th>\n",
              "      <th>key1</th>\n",
              "      <th>key2</th>\n",
              "      <th>A</th>\n",
              "      <th>B</th>\n",
              "      <th>C</th>\n",
              "      <th>D</th>\n",
              "      <th>ind_col</th>\n",
              "    </tr>\n",
              "  </thead>\n",
              "  <tbody>\n",
              "    <tr>\n",
              "      <th>0</th>\n",
              "      <td>K0</td>\n",
              "      <td>K0</td>\n",
              "      <td>A0</td>\n",
              "      <td>B0</td>\n",
              "      <td>C0</td>\n",
              "      <td>D0</td>\n",
              "      <td>both</td>\n",
              "    </tr>\n",
              "    <tr>\n",
              "      <th>1</th>\n",
              "      <td>K1</td>\n",
              "      <td>K0</td>\n",
              "      <td>A2</td>\n",
              "      <td>B2</td>\n",
              "      <td>C1</td>\n",
              "      <td>D1</td>\n",
              "      <td>both</td>\n",
              "    </tr>\n",
              "    <tr>\n",
              "      <th>2</th>\n",
              "      <td>K1</td>\n",
              "      <td>K0</td>\n",
              "      <td>A2</td>\n",
              "      <td>B2</td>\n",
              "      <td>C2</td>\n",
              "      <td>D2</td>\n",
              "      <td>both</td>\n",
              "    </tr>\n",
              "    <tr>\n",
              "      <th>3</th>\n",
              "      <td>K2</td>\n",
              "      <td>K0</td>\n",
              "      <td>NaN</td>\n",
              "      <td>NaN</td>\n",
              "      <td>C3</td>\n",
              "      <td>D3</td>\n",
              "      <td>right_only</td>\n",
              "    </tr>\n",
              "  </tbody>\n",
              "</table>\n",
              "</div>"
            ],
            "text/plain": [
              "  key1 key2    A    B   C   D     ind_col\n",
              "0   K0   K0   A0   B0  C0  D0        both\n",
              "1   K1   K0   A2   B2  C1  D1        both\n",
              "2   K1   K0   A2   B2  C2  D2        both\n",
              "3   K2   K0  NaN  NaN  C3  D3  right_only"
            ]
          },
          "metadata": {
            "tags": []
          },
          "execution_count": 60
        }
      ]
    },
    {
      "cell_type": "markdown",
      "metadata": {
        "id": "1_fI9KIpvqDw",
        "colab_type": "text"
      },
      "source": [
        "![texto alternativo](https://pandas.pydata.org/pandas-docs/stable/_images/merging_merge_on_key_right.png)"
      ]
    },
    {
      "cell_type": "code",
      "metadata": {
        "id": "NBM_0WEeuAQ2",
        "colab_type": "code",
        "outputId": "271a0f9f-6878-4c37-f329-fb0bf720a59e",
        "colab": {
          "base_uri": "https://localhost:8080/",
          "height": 225
        }
      },
      "source": [
        "pd.merge(left, right, how='outer', on=['key1', 'key2'],indicator=\"ind_col\")"
      ],
      "execution_count": 0,
      "outputs": [
        {
          "output_type": "execute_result",
          "data": {
            "text/html": [
              "<div>\n",
              "<style scoped>\n",
              "    .dataframe tbody tr th:only-of-type {\n",
              "        vertical-align: middle;\n",
              "    }\n",
              "\n",
              "    .dataframe tbody tr th {\n",
              "        vertical-align: top;\n",
              "    }\n",
              "\n",
              "    .dataframe thead th {\n",
              "        text-align: right;\n",
              "    }\n",
              "</style>\n",
              "<table border=\"1\" class=\"dataframe\">\n",
              "  <thead>\n",
              "    <tr style=\"text-align: right;\">\n",
              "      <th></th>\n",
              "      <th>key1</th>\n",
              "      <th>key2</th>\n",
              "      <th>A</th>\n",
              "      <th>B</th>\n",
              "      <th>C</th>\n",
              "      <th>D</th>\n",
              "      <th>ind_col</th>\n",
              "    </tr>\n",
              "  </thead>\n",
              "  <tbody>\n",
              "    <tr>\n",
              "      <th>0</th>\n",
              "      <td>K0</td>\n",
              "      <td>K0</td>\n",
              "      <td>A0</td>\n",
              "      <td>B0</td>\n",
              "      <td>C0</td>\n",
              "      <td>D0</td>\n",
              "      <td>both</td>\n",
              "    </tr>\n",
              "    <tr>\n",
              "      <th>1</th>\n",
              "      <td>K0</td>\n",
              "      <td>K1</td>\n",
              "      <td>A1</td>\n",
              "      <td>B1</td>\n",
              "      <td>NaN</td>\n",
              "      <td>NaN</td>\n",
              "      <td>left_only</td>\n",
              "    </tr>\n",
              "    <tr>\n",
              "      <th>2</th>\n",
              "      <td>K1</td>\n",
              "      <td>K0</td>\n",
              "      <td>A2</td>\n",
              "      <td>B2</td>\n",
              "      <td>C1</td>\n",
              "      <td>D1</td>\n",
              "      <td>both</td>\n",
              "    </tr>\n",
              "    <tr>\n",
              "      <th>3</th>\n",
              "      <td>K1</td>\n",
              "      <td>K0</td>\n",
              "      <td>A2</td>\n",
              "      <td>B2</td>\n",
              "      <td>C2</td>\n",
              "      <td>D2</td>\n",
              "      <td>both</td>\n",
              "    </tr>\n",
              "    <tr>\n",
              "      <th>4</th>\n",
              "      <td>K2</td>\n",
              "      <td>K1</td>\n",
              "      <td>A3</td>\n",
              "      <td>B3</td>\n",
              "      <td>NaN</td>\n",
              "      <td>NaN</td>\n",
              "      <td>left_only</td>\n",
              "    </tr>\n",
              "    <tr>\n",
              "      <th>5</th>\n",
              "      <td>K2</td>\n",
              "      <td>K0</td>\n",
              "      <td>NaN</td>\n",
              "      <td>NaN</td>\n",
              "      <td>C3</td>\n",
              "      <td>D3</td>\n",
              "      <td>right_only</td>\n",
              "    </tr>\n",
              "  </tbody>\n",
              "</table>\n",
              "</div>"
            ],
            "text/plain": [
              "  key1 key2    A    B    C    D     ind_col\n",
              "0   K0   K0   A0   B0   C0   D0        both\n",
              "1   K0   K1   A1   B1  NaN  NaN   left_only\n",
              "2   K1   K0   A2   B2   C1   D1        both\n",
              "3   K1   K0   A2   B2   C2   D2        both\n",
              "4   K2   K1   A3   B3  NaN  NaN   left_only\n",
              "5   K2   K0  NaN  NaN   C3   D3  right_only"
            ]
          },
          "metadata": {
            "tags": []
          },
          "execution_count": 61
        }
      ]
    },
    {
      "cell_type": "code",
      "metadata": {
        "id": "vBQHPDqSv-sJ",
        "colab_type": "code",
        "outputId": "5a452b96-80bc-4195-e606-6ebe3ae75f44",
        "colab": {
          "base_uri": "https://localhost:8080/",
          "height": 136
        }
      },
      "source": [
        "pd.merge(left, right, how='inner', on=['key1', 'key2'],indicator=\"ind_col\")"
      ],
      "execution_count": 0,
      "outputs": [
        {
          "output_type": "execute_result",
          "data": {
            "text/html": [
              "<div>\n",
              "<style scoped>\n",
              "    .dataframe tbody tr th:only-of-type {\n",
              "        vertical-align: middle;\n",
              "    }\n",
              "\n",
              "    .dataframe tbody tr th {\n",
              "        vertical-align: top;\n",
              "    }\n",
              "\n",
              "    .dataframe thead th {\n",
              "        text-align: right;\n",
              "    }\n",
              "</style>\n",
              "<table border=\"1\" class=\"dataframe\">\n",
              "  <thead>\n",
              "    <tr style=\"text-align: right;\">\n",
              "      <th></th>\n",
              "      <th>key1</th>\n",
              "      <th>key2</th>\n",
              "      <th>A</th>\n",
              "      <th>B</th>\n",
              "      <th>C</th>\n",
              "      <th>D</th>\n",
              "      <th>ind_col</th>\n",
              "    </tr>\n",
              "  </thead>\n",
              "  <tbody>\n",
              "    <tr>\n",
              "      <th>0</th>\n",
              "      <td>K0</td>\n",
              "      <td>K0</td>\n",
              "      <td>A0</td>\n",
              "      <td>B0</td>\n",
              "      <td>C0</td>\n",
              "      <td>D0</td>\n",
              "      <td>both</td>\n",
              "    </tr>\n",
              "    <tr>\n",
              "      <th>1</th>\n",
              "      <td>K1</td>\n",
              "      <td>K0</td>\n",
              "      <td>A2</td>\n",
              "      <td>B2</td>\n",
              "      <td>C1</td>\n",
              "      <td>D1</td>\n",
              "      <td>both</td>\n",
              "    </tr>\n",
              "    <tr>\n",
              "      <th>2</th>\n",
              "      <td>K1</td>\n",
              "      <td>K0</td>\n",
              "      <td>A2</td>\n",
              "      <td>B2</td>\n",
              "      <td>C2</td>\n",
              "      <td>D2</td>\n",
              "      <td>both</td>\n",
              "    </tr>\n",
              "  </tbody>\n",
              "</table>\n",
              "</div>"
            ],
            "text/plain": [
              "  key1 key2   A   B   C   D ind_col\n",
              "0   K0   K0  A0  B0  C0  D0    both\n",
              "1   K1   K0  A2  B2  C1  D1    both\n",
              "2   K1   K0  A2  B2  C2  D2    both"
            ]
          },
          "metadata": {
            "tags": []
          },
          "execution_count": 62
        }
      ]
    },
    {
      "cell_type": "markdown",
      "metadata": {
        "id": "ip4l257oxmPZ",
        "colab_type": "text"
      },
      "source": [
        "### Columnas duplicadas \n",
        "\n",
        "En los casos más reales podemos unir alrededor de una columna pero sin sobreescribir los demás datos, por ejemplo:\n",
        "```python\n",
        "result = pd.merge(left, right, on='B', how='outer')\n",
        "```\n",
        "\n",
        "![texto alternativo](https://pandas.pydata.org/pandas-docs/stable/_images/merging_merge_on_key_dup.png)\n",
        "\n",
        "\n"
      ]
    },
    {
      "cell_type": "code",
      "metadata": {
        "id": "oKnvAiv2wH2E",
        "colab_type": "code",
        "outputId": "7083dd80-4b7d-4f70-d049-fa94e66eb8f8",
        "colab": {
          "base_uri": "https://localhost:8080/",
          "height": 195
        }
      },
      "source": [
        "left = pd.DataFrame({'A': [1, 2], 'B': [2, 2]})\n",
        "right = pd.DataFrame({'A': [4, 5, 6], 'B': [2, 3, 2]})\n",
        "pd.merge(left, right, on='B', how='outer',indicator='ind_col',suffixes=(\"_left\",\"_right\"))"
      ],
      "execution_count": 0,
      "outputs": [
        {
          "output_type": "execute_result",
          "data": {
            "text/html": [
              "<div>\n",
              "<style scoped>\n",
              "    .dataframe tbody tr th:only-of-type {\n",
              "        vertical-align: middle;\n",
              "    }\n",
              "\n",
              "    .dataframe tbody tr th {\n",
              "        vertical-align: top;\n",
              "    }\n",
              "\n",
              "    .dataframe thead th {\n",
              "        text-align: right;\n",
              "    }\n",
              "</style>\n",
              "<table border=\"1\" class=\"dataframe\">\n",
              "  <thead>\n",
              "    <tr style=\"text-align: right;\">\n",
              "      <th></th>\n",
              "      <th>A_left</th>\n",
              "      <th>B</th>\n",
              "      <th>A_right</th>\n",
              "      <th>ind_col</th>\n",
              "    </tr>\n",
              "  </thead>\n",
              "  <tbody>\n",
              "    <tr>\n",
              "      <th>0</th>\n",
              "      <td>1.0</td>\n",
              "      <td>2</td>\n",
              "      <td>4</td>\n",
              "      <td>both</td>\n",
              "    </tr>\n",
              "    <tr>\n",
              "      <th>1</th>\n",
              "      <td>1.0</td>\n",
              "      <td>2</td>\n",
              "      <td>6</td>\n",
              "      <td>both</td>\n",
              "    </tr>\n",
              "    <tr>\n",
              "      <th>2</th>\n",
              "      <td>2.0</td>\n",
              "      <td>2</td>\n",
              "      <td>4</td>\n",
              "      <td>both</td>\n",
              "    </tr>\n",
              "    <tr>\n",
              "      <th>3</th>\n",
              "      <td>2.0</td>\n",
              "      <td>2</td>\n",
              "      <td>6</td>\n",
              "      <td>both</td>\n",
              "    </tr>\n",
              "    <tr>\n",
              "      <th>4</th>\n",
              "      <td>NaN</td>\n",
              "      <td>3</td>\n",
              "      <td>5</td>\n",
              "      <td>right_only</td>\n",
              "    </tr>\n",
              "  </tbody>\n",
              "</table>\n",
              "</div>"
            ],
            "text/plain": [
              "   A_left  B  A_right     ind_col\n",
              "0     1.0  2        4        both\n",
              "1     1.0  2        6        both\n",
              "2     2.0  2        4        both\n",
              "3     2.0  2        6        both\n",
              "4     NaN  3        5  right_only"
            ]
          },
          "metadata": {
            "tags": []
          },
          "execution_count": 63
        }
      ]
    },
    {
      "cell_type": "markdown",
      "metadata": {
        "id": "Vv56zoMa586q",
        "colab_type": "text"
      },
      "source": [
        "###Unir índices\n",
        "\n",
        "Para este tipo de operaciones podemos usar `join()` el cual usa merge debajo y tiene la relación:\n",
        "\n",
        "```python\n",
        "left.join(right, on=key_or_keys)\n",
        "pd.merge(left, right, left_on=key_or_keys, right_index=True,\n",
        "      how='left', sort=False)\n",
        "```\n",
        "\n",
        "Puede usar `pd.merge()` en su lugar pero en uniones one-to-one y many-to-one usar `DataFrame.join()` puede ser más conveniente. Aquí un ejemplo simple:\n",
        "\n",
        "`result = left.join(right, how=left)`\n",
        "\n",
        "<center>\n",
        "\n",
        "![](https://pandas.pydata.org/pandas-docs/stable/_images/merging_join.png)\n",
        "\n",
        "</center>\n",
        "\n",
        "`result = left.join(right, how='outer')`\n",
        "\n",
        "<center>\n",
        "\n",
        "![](https://pandas.pydata.org/pandas-docs/stable/_images/merging_join_outer.png)\n",
        "\n",
        "</center>\n",
        "\n",
        "`result = left.join(right, how='inner')`\n",
        "\n",
        "<center>\n",
        "\n",
        "![](https://pandas.pydata.org/pandas-docs/stable/_images/merging_join_inner.png)\n",
        "\n",
        "</center>\n"
      ]
    },
    {
      "cell_type": "code",
      "metadata": {
        "id": "NRib4fA47twK",
        "colab_type": "code",
        "colab": {}
      },
      "source": [
        "left = pd.DataFrame({'A': ['A0', 'A1', 'A2'],\n",
        "                     'B': ['B0', 'B1', 'B2']},\n",
        "                     index=['K0', 'K1', 'K2']) \n",
        "\n",
        "right = pd.DataFrame({'C': ['C0', 'C2', 'C3'],\n",
        "                      'D': ['D0', 'D2', 'D3']},\n",
        "                      index=['K0', 'K2', 'K3'])"
      ],
      "execution_count": 0,
      "outputs": []
    },
    {
      "cell_type": "code",
      "metadata": {
        "id": "s1XwcEL471Ya",
        "colab_type": "code",
        "outputId": "7889b162-5c41-4672-d90b-d57e5eae8110",
        "colab": {
          "base_uri": "https://localhost:8080/",
          "height": 166
        }
      },
      "source": [
        "pd.merge(left, right, left_index=True, right_index=True, how='outer')"
      ],
      "execution_count": 0,
      "outputs": [
        {
          "output_type": "execute_result",
          "data": {
            "text/html": [
              "<div>\n",
              "<style scoped>\n",
              "    .dataframe tbody tr th:only-of-type {\n",
              "        vertical-align: middle;\n",
              "    }\n",
              "\n",
              "    .dataframe tbody tr th {\n",
              "        vertical-align: top;\n",
              "    }\n",
              "\n",
              "    .dataframe thead th {\n",
              "        text-align: right;\n",
              "    }\n",
              "</style>\n",
              "<table border=\"1\" class=\"dataframe\">\n",
              "  <thead>\n",
              "    <tr style=\"text-align: right;\">\n",
              "      <th></th>\n",
              "      <th>A</th>\n",
              "      <th>B</th>\n",
              "      <th>C</th>\n",
              "      <th>D</th>\n",
              "    </tr>\n",
              "  </thead>\n",
              "  <tbody>\n",
              "    <tr>\n",
              "      <th>K0</th>\n",
              "      <td>A0</td>\n",
              "      <td>B0</td>\n",
              "      <td>C0</td>\n",
              "      <td>D0</td>\n",
              "    </tr>\n",
              "    <tr>\n",
              "      <th>K1</th>\n",
              "      <td>A1</td>\n",
              "      <td>B1</td>\n",
              "      <td>NaN</td>\n",
              "      <td>NaN</td>\n",
              "    </tr>\n",
              "    <tr>\n",
              "      <th>K2</th>\n",
              "      <td>A2</td>\n",
              "      <td>B2</td>\n",
              "      <td>C2</td>\n",
              "      <td>D2</td>\n",
              "    </tr>\n",
              "    <tr>\n",
              "      <th>K3</th>\n",
              "      <td>NaN</td>\n",
              "      <td>NaN</td>\n",
              "      <td>C3</td>\n",
              "      <td>D3</td>\n",
              "    </tr>\n",
              "  </tbody>\n",
              "</table>\n",
              "</div>"
            ],
            "text/plain": [
              "      A    B    C    D\n",
              "K0   A0   B0   C0   D0\n",
              "K1   A1   B1  NaN  NaN\n",
              "K2   A2   B2   C2   D2\n",
              "K3  NaN  NaN   C3   D3"
            ]
          },
          "metadata": {
            "tags": []
          },
          "execution_count": 65
        }
      ]
    },
    {
      "cell_type": "markdown",
      "metadata": {
        "id": "nPaFoUW2xSZr",
        "colab_type": "text"
      },
      "source": [
        "### Unir columnas en un índice\n",
        "\n",
        "`result = left.join(right, on='key')`\n",
        "<center>\n",
        "\n",
        "![texto alternativo](https://pandas.pydata.org/pandas-docs/stable/_images/merging_join_key_columns.png)\n",
        "</center>"
      ]
    },
    {
      "cell_type": "code",
      "metadata": {
        "id": "fjKbZvXP1IGn",
        "colab_type": "code",
        "colab": {}
      },
      "source": [
        "left = pd.DataFrame({'A': ['A0', 'A1', 'A2', 'A3'],\n",
        "                     'B': ['B0', 'B1', 'B2', 'B3'],\n",
        "                     'key': ['K0', 'K1', 'K0', 'K1']}) \n",
        "\n",
        "right = pd.DataFrame({'C': ['C0', 'C1'],\n",
        "                      'D': ['D0', 'D1']},\n",
        "                      index=['K0', 'K1'])"
      ],
      "execution_count": 0,
      "outputs": []
    },
    {
      "cell_type": "code",
      "metadata": {
        "id": "NQ59WwyO8k3-",
        "colab_type": "code",
        "outputId": "18dd9a0c-d434-4a99-b8dd-0f827118fa13",
        "colab": {
          "base_uri": "https://localhost:8080/",
          "height": 166
        }
      },
      "source": [
        "pd.merge(left, right, left_on='key', right_index=True, how='left', sort=False)"
      ],
      "execution_count": 0,
      "outputs": [
        {
          "output_type": "execute_result",
          "data": {
            "text/html": [
              "<div>\n",
              "<style scoped>\n",
              "    .dataframe tbody tr th:only-of-type {\n",
              "        vertical-align: middle;\n",
              "    }\n",
              "\n",
              "    .dataframe tbody tr th {\n",
              "        vertical-align: top;\n",
              "    }\n",
              "\n",
              "    .dataframe thead th {\n",
              "        text-align: right;\n",
              "    }\n",
              "</style>\n",
              "<table border=\"1\" class=\"dataframe\">\n",
              "  <thead>\n",
              "    <tr style=\"text-align: right;\">\n",
              "      <th></th>\n",
              "      <th>A</th>\n",
              "      <th>B</th>\n",
              "      <th>key</th>\n",
              "      <th>C</th>\n",
              "      <th>D</th>\n",
              "    </tr>\n",
              "  </thead>\n",
              "  <tbody>\n",
              "    <tr>\n",
              "      <th>0</th>\n",
              "      <td>A0</td>\n",
              "      <td>B0</td>\n",
              "      <td>K0</td>\n",
              "      <td>C0</td>\n",
              "      <td>D0</td>\n",
              "    </tr>\n",
              "    <tr>\n",
              "      <th>1</th>\n",
              "      <td>A1</td>\n",
              "      <td>B1</td>\n",
              "      <td>K1</td>\n",
              "      <td>C1</td>\n",
              "      <td>D1</td>\n",
              "    </tr>\n",
              "    <tr>\n",
              "      <th>2</th>\n",
              "      <td>A2</td>\n",
              "      <td>B2</td>\n",
              "      <td>K0</td>\n",
              "      <td>C0</td>\n",
              "      <td>D0</td>\n",
              "    </tr>\n",
              "    <tr>\n",
              "      <th>3</th>\n",
              "      <td>A3</td>\n",
              "      <td>B3</td>\n",
              "      <td>K1</td>\n",
              "      <td>C1</td>\n",
              "      <td>D1</td>\n",
              "    </tr>\n",
              "  </tbody>\n",
              "</table>\n",
              "</div>"
            ],
            "text/plain": [
              "    A   B key   C   D\n",
              "0  A0  B0  K0  C0  D0\n",
              "1  A1  B1  K1  C1  D1\n",
              "2  A2  B2  K0  C0  D0\n",
              "3  A3  B3  K1  C1  D1"
            ]
          },
          "metadata": {
            "tags": []
          },
          "execution_count": 67
        }
      ]
    },
    {
      "cell_type": "markdown",
      "metadata": {
        "id": "yxyP3CNd9Lq8",
        "colab_type": "text"
      },
      "source": [
        "### Columnas duplicadas y varios DataFrames\n",
        "\n",
        "En el caso de `join()`también tenemos opciones para identificar las columnas duplicadas y además es posible juntar varios DataFrames (muy similar a concatenar)"
      ]
    },
    {
      "cell_type": "code",
      "metadata": {
        "id": "ZGqM_36c8o6a",
        "colab_type": "code",
        "colab": {}
      },
      "source": [
        "left = pd.DataFrame({'v': [1, 2, 3]}, index=['K0', 'K1', 'K2'])\n",
        "right = pd.DataFrame({'v': [4, 5, 6]},index=['K0', 'K0', 'K3'])\n",
        "right2 = pd.DataFrame({'v1': [7, 8, 9]}, index=['K1', 'K1', 'K2'])\n",
        "right3 = pd.DataFrame({'v2': [10, 11, 12]}, index=['K1', 'K2', 'K3'])"
      ],
      "execution_count": 0,
      "outputs": []
    },
    {
      "cell_type": "code",
      "metadata": {
        "id": "qPNfjfki9NbI",
        "colab_type": "code",
        "outputId": "5f409d93-c537-4577-879c-2806a12b8a4a",
        "colab": {
          "base_uri": "https://localhost:8080/",
          "height": 166
        }
      },
      "source": [
        "left.join(right, lsuffix='_left', rsuffix='_right')"
      ],
      "execution_count": 0,
      "outputs": [
        {
          "output_type": "execute_result",
          "data": {
            "text/html": [
              "<div>\n",
              "<style scoped>\n",
              "    .dataframe tbody tr th:only-of-type {\n",
              "        vertical-align: middle;\n",
              "    }\n",
              "\n",
              "    .dataframe tbody tr th {\n",
              "        vertical-align: top;\n",
              "    }\n",
              "\n",
              "    .dataframe thead th {\n",
              "        text-align: right;\n",
              "    }\n",
              "</style>\n",
              "<table border=\"1\" class=\"dataframe\">\n",
              "  <thead>\n",
              "    <tr style=\"text-align: right;\">\n",
              "      <th></th>\n",
              "      <th>v_left</th>\n",
              "      <th>v_right</th>\n",
              "    </tr>\n",
              "  </thead>\n",
              "  <tbody>\n",
              "    <tr>\n",
              "      <th>K0</th>\n",
              "      <td>1</td>\n",
              "      <td>4.0</td>\n",
              "    </tr>\n",
              "    <tr>\n",
              "      <th>K0</th>\n",
              "      <td>1</td>\n",
              "      <td>5.0</td>\n",
              "    </tr>\n",
              "    <tr>\n",
              "      <th>K1</th>\n",
              "      <td>2</td>\n",
              "      <td>NaN</td>\n",
              "    </tr>\n",
              "    <tr>\n",
              "      <th>K2</th>\n",
              "      <td>3</td>\n",
              "      <td>NaN</td>\n",
              "    </tr>\n",
              "  </tbody>\n",
              "</table>\n",
              "</div>"
            ],
            "text/plain": [
              "    v_left  v_right\n",
              "K0       1      4.0\n",
              "K0       1      5.0\n",
              "K1       2      NaN\n",
              "K2       3      NaN"
            ]
          },
          "metadata": {
            "tags": []
          },
          "execution_count": 69
        }
      ]
    },
    {
      "cell_type": "code",
      "metadata": {
        "id": "sEqlf3Ed9RyR",
        "colab_type": "code",
        "outputId": "cb1c965b-62b7-49ba-8e4e-56f6c4ece19c",
        "colab": {
          "base_uri": "https://localhost:8080/",
          "height": 225
        }
      },
      "source": [
        "left.join([right,right2,right3],how='outer')"
      ],
      "execution_count": 0,
      "outputs": [
        {
          "output_type": "execute_result",
          "data": {
            "text/html": [
              "<div>\n",
              "<style scoped>\n",
              "    .dataframe tbody tr th:only-of-type {\n",
              "        vertical-align: middle;\n",
              "    }\n",
              "\n",
              "    .dataframe tbody tr th {\n",
              "        vertical-align: top;\n",
              "    }\n",
              "\n",
              "    .dataframe thead th {\n",
              "        text-align: right;\n",
              "    }\n",
              "</style>\n",
              "<table border=\"1\" class=\"dataframe\">\n",
              "  <thead>\n",
              "    <tr style=\"text-align: right;\">\n",
              "      <th></th>\n",
              "      <th>v_x</th>\n",
              "      <th>v_y</th>\n",
              "      <th>v1</th>\n",
              "      <th>v2</th>\n",
              "    </tr>\n",
              "  </thead>\n",
              "  <tbody>\n",
              "    <tr>\n",
              "      <th>K0</th>\n",
              "      <td>1.0</td>\n",
              "      <td>4.0</td>\n",
              "      <td>NaN</td>\n",
              "      <td>NaN</td>\n",
              "    </tr>\n",
              "    <tr>\n",
              "      <th>K0</th>\n",
              "      <td>1.0</td>\n",
              "      <td>5.0</td>\n",
              "      <td>NaN</td>\n",
              "      <td>NaN</td>\n",
              "    </tr>\n",
              "    <tr>\n",
              "      <th>K1</th>\n",
              "      <td>2.0</td>\n",
              "      <td>NaN</td>\n",
              "      <td>7.0</td>\n",
              "      <td>10.0</td>\n",
              "    </tr>\n",
              "    <tr>\n",
              "      <th>K1</th>\n",
              "      <td>2.0</td>\n",
              "      <td>NaN</td>\n",
              "      <td>8.0</td>\n",
              "      <td>10.0</td>\n",
              "    </tr>\n",
              "    <tr>\n",
              "      <th>K2</th>\n",
              "      <td>3.0</td>\n",
              "      <td>NaN</td>\n",
              "      <td>9.0</td>\n",
              "      <td>11.0</td>\n",
              "    </tr>\n",
              "    <tr>\n",
              "      <th>K3</th>\n",
              "      <td>NaN</td>\n",
              "      <td>6.0</td>\n",
              "      <td>NaN</td>\n",
              "      <td>12.0</td>\n",
              "    </tr>\n",
              "  </tbody>\n",
              "</table>\n",
              "</div>"
            ],
            "text/plain": [
              "    v_x  v_y   v1    v2\n",
              "K0  1.0  4.0  NaN   NaN\n",
              "K0  1.0  5.0  NaN   NaN\n",
              "K1  2.0  NaN  7.0  10.0\n",
              "K1  2.0  NaN  8.0  10.0\n",
              "K2  3.0  NaN  9.0  11.0\n",
              "K3  NaN  6.0  NaN  12.0"
            ]
          },
          "metadata": {
            "tags": []
          },
          "execution_count": 70
        }
      ]
    },
    {
      "cell_type": "markdown",
      "metadata": {
        "id": "N-WBb0YOEJw1",
        "colab_type": "text"
      },
      "source": [
        "## Ejercicio\n",
        "\n",
        "Se tiene la información de un conjunto de datos de un Banco en Perú, no hay descripción del conjunto de datos ya que la intención es recrear cierta situación en medio de un concurso simple.\n",
        "\n",
        "En este caso sólo usaremos lo que hemos aprendido sobre fusión y combinación de datos para dar con algunas conclusiones. Los datasets son:\n",
        "\n",
        "* Información sociodemografica de \"posibles\" clientes.\n",
        "* Información de contacto en campañas de captación de clientes.\n",
        "* Información de clientes actuales del banco. "
      ]
    },
    {
      "cell_type": "code",
      "metadata": {
        "id": "FoUmfl4Xy5x_",
        "colab_type": "code",
        "colab": {}
      },
      "source": [
        "posibles_clientes = pd.read_csv(\"https://raw.githubusercontent.com/diplomado-bigdata-machinelearning-udea/curso0/master/s08/datasets/posibles_clientes.csv\")\n",
        "clientes = pd.read_csv(\"https://raw.githubusercontent.com/diplomado-bigdata-machinelearning-udea/curso0/master/s08/datasets/clientes.csv\")\n",
        "info_contacto = pd.read_csv(\"https://raw.githubusercontent.com/diplomado-bigdata-machinelearning-udea/curso0/master/s08/datasets/info_contacto.csv\")"
      ],
      "execution_count": 0,
      "outputs": []
    },
    {
      "cell_type": "markdown",
      "metadata": {
        "id": "wwo7ODoJzajh",
        "colab_type": "text"
      },
      "source": [
        "### Primer paso\n",
        "\n",
        "**Relacione** todos los conjuntos de datos según el id del cliente. \n"
      ]
    },
    {
      "cell_type": "code",
      "metadata": {
        "id": "33wFUSNDzNYe",
        "colab_type": "code",
        "cellView": "form",
        "colab": {}
      },
      "source": [
        "#@title Ver solución **aquí**\n",
        "\n",
        "posibles_contactados = pd.merge(posibles_clientes,info_contacto,on='CODIGOCLIENTE',how='inner',suffixes=('_perfilado','_contacto'))\n",
        "posibles_captados = pd.merge(posibles_clientes,clientes,on='CODIGOCLIENTE',how='inner',suffixes=(\"_perfilado\",\"_entrada\"))\n",
        "contactados_captados =pd.merge(info_contacto,clientes,on='CODIGOCLIENTE',how='inner',suffixes=(\"_contacto\",\"_entrada\"))\n"
      ],
      "execution_count": 0,
      "outputs": []
    },
    {
      "cell_type": "markdown",
      "metadata": {
        "id": "Y2dPMYxF06dx",
        "colab_type": "text"
      },
      "source": [
        "### VAR_0061 ¿Probabilidad?\n",
        "\n",
        "Generalmente los bancos en el contacto del posible cliente crean un valor de probabilidad sobre la posibilidad de que el cliente acceda al producto ofrecido por el canal adecuado gracias a su perfil (profesión, edad, ingresos, etc). Este valor también puede ser una probabilidad de negativa.\n",
        "\n",
        "Limpie los clientes que no tienen este valor y revise en los contactados captados que porcetaje tuvo un valor `VAR_0061` mayor al 0.7, seleccionado tiempos, el código del cliente y el segmento de captación. Haga lo mismo con valores menores a 0.3. ¿Es una probabilidad positiva o negativa? Use `DatFrame.plot.hist(bins=50)`, en la selección de los datos de `VAR_0061` sin `NaN`.\n",
        "\n",
        "Una vez determine que tipo de probabilidad es, selecciones adecuadamente. \n",
        "\n",
        " \n",
        "\n"
      ]
    },
    {
      "cell_type": "code",
      "metadata": {
        "id": "MpCENOf-0wir",
        "colab_type": "code",
        "cellView": "form",
        "colab": {}
      },
      "source": [
        "#@title Ver solución **aquí**\n",
        "\n",
        "var_61_pos = contactados_captados[contactados_captados['VAR_0061']>=0.7][['CODIGOCLIENTE','MES_contacto','MES_entrada','SEGMENTO_CAPTACIONES']]\n",
        "#print(var_61_pos.count())\n",
        "var_61_neg = contactados_captados[contactados_captados['VAR_0061']>=0.3][['CODIGOCLIENTE','MES_contacto','MES_entrada','SEGMENTO_CAPTACIONES']]\n",
        "#print(var_61_neg.count())\n",
        "#contactados_captados[contactados_captados['VAR_0061'].notna()]['VAR_0061'].plot.hist(bins=50)\n",
        "var_61 = contactados_captados[contactados_captados['VAR_0061']<=0.6][['CODIGOCLIENTE','MES_contacto','MES_entrada','SEGMENTO_CAPTACIONES']]"
      ],
      "execution_count": 0,
      "outputs": []
    },
    {
      "cell_type": "markdown",
      "metadata": {
        "id": "ExbC1yEr4jzx",
        "colab_type": "text"
      },
      "source": [
        "Revise en este nuevo grupo cuales eran posibles clientes y agrupelos por profesión y segmento de captaciones. También por sexo y situación laboral, use count para agrupar, puede seleccionar el código para obtener series fáciles de ver. \n",
        "\n"
      ]
    },
    {
      "cell_type": "code",
      "metadata": {
        "id": "53NjaebE00Mr",
        "colab_type": "code",
        "cellView": "form",
        "colab": {}
      },
      "source": [
        "#@title Ver solución **aquí**\n",
        "\n",
        "var_61_info = pd.merge(var_61,posibles_clientes,on='CODIGOCLIENTE',how='inner')\n",
        "#print(var_61_info.groupby(['SEXO','SITUACION_LABORAL']).count()['CODIGOCLIENTE'])\n",
        "#print(var_61_info.groupby(['PROFESION','SEGMENTO_CAPTACIONES']).count()['CODIGOCLIENTE'])"
      ],
      "execution_count": 0,
      "outputs": []
    },
    {
      "cell_type": "markdown",
      "metadata": {
        "id": "cz4mH8iw8hIX",
        "colab_type": "text"
      },
      "source": [
        "### Join con los códigos en index\n",
        "\n",
        "Haga una copia de todos los datos en donde el código del cliente se vuelva en índice, una el conjunto clientes (donde nos quedaremos con el mes y el segmento canal) con contactados (donde nos quedaremos con el mes, var 57 y var 61) y posibles clientes (donde nos quedaremos con todo). ¿Cuántos clientes tenemos interceptados en estos tres grupos? "
      ]
    },
    {
      "cell_type": "code",
      "metadata": {
        "id": "5aH2GukI8gfE",
        "colab_type": "code",
        "cellView": "form",
        "colab": {}
      },
      "source": [
        "#@title Ver solución **aquí**\n",
        "p_client = posibles_clientes.set_index('CODIGOCLIENTE')\n",
        "info_contact = info_contacto[['CODIGOCLIENTE','MES','VAR_0057','VAR_0061']].set_index('CODIGOCLIENTE')\n",
        "clients = clientes[['CODIGOCLIENTE','MES','SEGMENTO_CANAL','SEGMENTO_CAPTACIONES']].set_index('CODIGOCLIENTE')\n",
        "#p_client.join([info_contact,clients],how='inner')"
      ],
      "execution_count": 0,
      "outputs": []
    }
  ]
}